{
 "cells": [
  {
   "cell_type": "code",
   "execution_count": 1,
   "id": "solar-defense",
   "metadata": {},
   "outputs": [],
   "source": [
    "!gdown https://github.com/liao961120/hctk/raw/main/test/data.zip\n",
    "!unzip -q data.zip\n",
    "!pip install -qU hctk"
   ]
  },
  {
   "cell_type": "markdown",
   "id": "fuzzy-granny",
   "metadata": {},
   "source": [
    "## 1 Dispersion"
   ]
  },
  {
   "cell_type": "code",
   "execution_count": 2,
   "id": "arabic-accountability",
   "metadata": {},
   "outputs": [
    {
     "name": "stdout",
     "output_type": "stream",
     "text": [
      "Indexing corpus for text retrival...\n"
     ]
    },
    {
     "data": {
      "application/vnd.jupyter.widget-view+json": {
       "model_id": "7cfc75391c7141b6970cb37fd9dd901d",
       "version_major": 2,
       "version_minor": 0
      },
      "text/plain": [
       "  0%|          | 0/5 [00:00<?, ?it/s]"
      ]
     },
     "metadata": {},
     "output_type": "display_data"
    },
    {
     "name": "stdout",
     "output_type": "stream",
     "text": [
      "Indexing corpus for concordance search...\n"
     ]
    },
    {
     "data": {
      "application/vnd.jupyter.widget-view+json": {
       "model_id": "aee05aded2b840bfb6ac8620f1286fdb",
       "version_major": 2,
       "version_minor": 0
      },
      "text/plain": [
       "  0%|          | 0/5 [00:00<?, ?it/s]"
      ]
     },
     "metadata": {},
     "output_type": "display_data"
    }
   ],
   "source": [
    "from pprint import pprint\n",
    "from hctk import PlainTextReader, Dispersion\n",
    "\n",
    "dp = Dispersion(PlainTextReader(\"data\").corpus)"
   ]
  },
  {
   "cell_type": "markdown",
   "id": "covered-parallel",
   "metadata": {},
   "source": [
    "### 1.1 Dispersion Measures of Characters"
   ]
  },
  {
   "cell_type": "code",
   "execution_count": 3,
   "id": "suspected-medication",
   "metadata": {},
   "outputs": [
    {
     "name": "stdout",
     "output_type": "stream",
     "text": [
      "之\n",
      "{'DP': 0.202211150441515,\n",
      " 'DPnorm': 0.20221136832606984,\n",
      " 'JuillandD': 0.9852650352870054,\n",
      " 'KLdivergence': 0.19438300669532294,\n",
      " 'Range': 1844,\n",
      " 'RosengrenS': 0.9263291584455624}\n",
      "也\n",
      "{'DP': 0.35839650852771193,\n",
      " 'DPnorm': 0.35839689470356595,\n",
      " 'JuillandD': 0.9762993747150547,\n",
      " 'KLdivergence': 0.5790296942113071,\n",
      " 'Range': 1656,\n",
      " 'RosengrenS': 0.8017653020850094}\n",
      "水\n",
      "{'DP': 0.4248753877868116,\n",
      " 'DPnorm': 0.4248758455943288,\n",
      " 'JuillandD': 0.9419512210354511,\n",
      " 'KLdivergence': 1.2087770545301637,\n",
      " 'Range': 1031,\n",
      " 'RosengrenS': 0.6601064773344711}\n",
      "火\n",
      "{'DP': 0.5258856218700372,\n",
      " 'DPnorm': 0.5258861885171008,\n",
      " 'JuillandD': 0.9081971930838146,\n",
      " 'KLdivergence': 1.5115686368127113,\n",
      " 'Range': 629,\n",
      " 'RosengrenS': 0.5230640473455479}\n"
     ]
    }
   ],
   "source": [
    "for ch in '之也水火':\n",
    "    print(ch)\n",
    "    pprint(dp.char_dispersion(char=ch))"
   ]
  },
  {
   "cell_type": "markdown",
   "id": "certified-ambassador",
   "metadata": {},
   "source": [
    "### 1.2 Dispersion Measures of Complex Forms (defined by CQL)"
   ]
  },
  {
   "cell_type": "code",
   "execution_count": 4,
   "id": "covered-stylus",
   "metadata": {},
   "outputs": [
    {
     "name": "stdout",
     "output_type": "stream",
     "text": [
      "Indexing corpus for text retrival...\n"
     ]
    },
    {
     "data": {
      "application/vnd.jupyter.widget-view+json": {
       "model_id": "4ed7ab3cfc9b44c3ae42efe276d8faf6",
       "version_major": 2,
       "version_minor": 0
      },
      "text/plain": [
       "  0%|          | 0/5 [00:00<?, ?it/s]"
      ]
     },
     "metadata": {},
     "output_type": "display_data"
    },
    {
     "name": "stdout",
     "output_type": "stream",
     "text": [
      "Indexing corpus for concordance search...\n"
     ]
    },
    {
     "data": {
      "application/vnd.jupyter.widget-view+json": {
       "model_id": "455b3ec302ca459aa91260d6f14f9882",
       "version_major": 2,
       "version_minor": 0
      },
      "text/plain": [
       "  0%|          | 0/5 [00:00<?, ?it/s]"
      ]
     },
     "metadata": {},
     "output_type": "display_data"
    },
    {
     "name": "stdout",
     "output_type": "stream",
     "text": [
      "Num of results: 9782\n",
      "<Concord 匡邪兮，切{淟涊}之流俗。盪>\n",
      "<Concord ！紛纍以其{淟涊}兮，暗纍以>\n",
      "<Concord 函風兮，徵{淟涊}而為清。曳>\n",
      "<Concord 磏勇之士；{活湧}匿姦，當死>\n",
      "<Concord 怒曰：「吾{活汝}弘矣，而追>\n"
     ]
    }
   ],
   "source": [
    "import pandas as pd\n",
    "from hctk import Concordancer\n",
    "\n",
    "c = Concordancer(PlainTextReader(\"data\").corpus)\n",
    "cql = \"\"\"\n",
    "[compo=\"氵\" & idc=\"horz2\" & pos=\"0\"] [compo=\"氵\" & idc=\"horz2\" & pos=\"0\"]\n",
    "\"\"\".strip()\n",
    "results = list(c.cql_search(cql, left=5, right=5))\n",
    "\n",
    "print('Num of results:', len(results))\n",
    "for r in results[:5]: print(r)"
   ]
  },
  {
   "cell_type": "code",
   "execution_count": 5,
   "id": "bearing-relationship",
   "metadata": {},
   "outputs": [
    {
     "data": {
      "text/html": [
       "<div>\n",
       "<style scoped>\n",
       "    .dataframe tbody tr th:only-of-type {\n",
       "        vertical-align: middle;\n",
       "    }\n",
       "\n",
       "    .dataframe tbody tr th {\n",
       "        vertical-align: top;\n",
       "    }\n",
       "\n",
       "    .dataframe thead th {\n",
       "        text-align: right;\n",
       "    }\n",
       "</style>\n",
       "<table border=\"1\" class=\"dataframe\">\n",
       "  <thead>\n",
       "    <tr style=\"text-align: right;\">\n",
       "      <th></th>\n",
       "      <th>Range</th>\n",
       "      <th>DP</th>\n",
       "      <th>DPnorm</th>\n",
       "      <th>KLdivergence</th>\n",
       "      <th>JuillandD</th>\n",
       "      <th>RosengrenS</th>\n",
       "      <th>time</th>\n",
       "      <th>freq</th>\n",
       "      <th>range (%)</th>\n",
       "      <th>num_of_texts</th>\n",
       "      <th>corpus_size</th>\n",
       "    </tr>\n",
       "  </thead>\n",
       "  <tbody>\n",
       "    <tr>\n",
       "      <th>0</th>\n",
       "      <td>346</td>\n",
       "      <td>0.464641</td>\n",
       "      <td>0.464645</td>\n",
       "      <td>1.185930</td>\n",
       "      <td>0.903298</td>\n",
       "      <td>0.604270</td>\n",
       "      <td>0</td>\n",
       "      <td>2116</td>\n",
       "      <td>0.472678</td>\n",
       "      <td>732</td>\n",
       "      <td>1858228</td>\n",
       "    </tr>\n",
       "    <tr>\n",
       "      <th>1</th>\n",
       "      <td>621</td>\n",
       "      <td>0.276959</td>\n",
       "      <td>0.276960</td>\n",
       "      <td>0.533721</td>\n",
       "      <td>0.946652</td>\n",
       "      <td>0.793915</td>\n",
       "      <td>1</td>\n",
       "      <td>4483</td>\n",
       "      <td>0.591992</td>\n",
       "      <td>1049</td>\n",
       "      <td>3938310</td>\n",
       "    </tr>\n",
       "    <tr>\n",
       "      <th>2</th>\n",
       "      <td>130</td>\n",
       "      <td>0.181770</td>\n",
       "      <td>0.181792</td>\n",
       "      <td>0.167024</td>\n",
       "      <td>0.927338</td>\n",
       "      <td>0.938771</td>\n",
       "      <td>2</td>\n",
       "      <td>2495</td>\n",
       "      <td>0.833333</td>\n",
       "      <td>156</td>\n",
       "      <td>2097273</td>\n",
       "    </tr>\n",
       "    <tr>\n",
       "      <th>3</th>\n",
       "      <td>1</td>\n",
       "      <td>0.000000</td>\n",
       "      <td>0.000000</td>\n",
       "      <td>0.000000</td>\n",
       "      <td>NaN</td>\n",
       "      <td>1.000000</td>\n",
       "      <td>3</td>\n",
       "      <td>688</td>\n",
       "      <td>1.000000</td>\n",
       "      <td>1</td>\n",
       "      <td>458738</td>\n",
       "    </tr>\n",
       "    <tr>\n",
       "      <th>4</th>\n",
       "      <td>0</td>\n",
       "      <td>0.000000</td>\n",
       "      <td>0.000000</td>\n",
       "      <td>0.000000</td>\n",
       "      <td>NaN</td>\n",
       "      <td>NaN</td>\n",
       "      <td>4</td>\n",
       "      <td>0</td>\n",
       "      <td>0.000000</td>\n",
       "      <td>5</td>\n",
       "      <td>50</td>\n",
       "    </tr>\n",
       "  </tbody>\n",
       "</table>\n",
       "</div>"
      ],
      "text/plain": [
       "   Range        DP    DPnorm  KLdivergence  JuillandD  RosengrenS  time  freq  \\\n",
       "0    346  0.464641  0.464645      1.185930   0.903298    0.604270     0  2116   \n",
       "1    621  0.276959  0.276960      0.533721   0.946652    0.793915     1  4483   \n",
       "2    130  0.181770  0.181792      0.167024   0.927338    0.938771     2  2495   \n",
       "3      1  0.000000  0.000000      0.000000        NaN    1.000000     3   688   \n",
       "4      0  0.000000  0.000000      0.000000        NaN         NaN     4     0   \n",
       "\n",
       "   range (%)  num_of_texts  corpus_size  \n",
       "0   0.472678           732      1858228  \n",
       "1   0.591992          1049      3938310  \n",
       "2   0.833333           156      2097273  \n",
       "3   1.000000             1       458738  \n",
       "4   0.000000             5           50  "
      ]
     },
     "execution_count": 5,
     "metadata": {},
     "output_type": "execute_result"
    }
   ],
   "source": [
    "# Compute separate dispersion measures for each subcorpus (time-sliced)\n",
    "df = []\n",
    "for i in range(dp.num_of_subcorp):\n",
    "    stats, data = dp.pattern_dispersion(data=results, subcorp_idx=i, return_raw=True)\n",
    "    stats['time'] = i\n",
    "    stats['freq'] = data['f']\n",
    "    stats['range (%)'] = stats['Range'] / data['n']\n",
    "    stats['num_of_texts'] = data['n']\n",
    "    stats['corpus_size'] = data['corpus_size']\n",
    "    df.append(stats)\n",
    "\n",
    "pd.DataFrame(df)"
   ]
  },
  {
   "cell_type": "markdown",
   "id": "mexican-greenhouse",
   "metadata": {},
   "source": [
    "## 2 Hanzi Component"
   ]
  },
  {
   "cell_type": "code",
   "execution_count": 6,
   "id": "extreme-organization",
   "metadata": {},
   "outputs": [],
   "source": [
    "from hctk import PlainTextReader\n",
    "from hctk.compoAnalysis import CompoAnalysis\n",
    "\n",
    "reader = PlainTextReader(\"data/\", auto_load=False)\n",
    "c2 = CompoAnalysis(reader)"
   ]
  },
  {
   "cell_type": "markdown",
   "id": "discrete-office",
   "metadata": {},
   "source": [
    "### 2.1 Frequency Distribution"
   ]
  },
  {
   "cell_type": "code",
   "execution_count": 7,
   "id": "judicial-point",
   "metadata": {},
   "outputs": [
    {
     "data": {
      "text/plain": [
       "[('，', 178802),\n",
       " ('。', 83819),\n",
       " ('之', 64665),\n",
       " ('不', 37264),\n",
       " ('也', 32634),\n",
       " ('而', 32035),\n",
       " ('以', 27556),\n",
       " ('其', 25931),\n",
       " ('者', 23304),\n",
       " ('曰', 21763)]"
      ]
     },
     "execution_count": 7,
     "metadata": {},
     "output_type": "execute_result"
    }
   ],
   "source": [
    "# Hanzi\n",
    "c2.freq_distr(tp=\"chr\", subcorp_idx=0).most_common(10)"
   ]
  },
  {
   "cell_type": "code",
   "execution_count": 8,
   "id": "active-granny",
   "metadata": {},
   "outputs": [
    {
     "data": {
      "text/plain": [
       "Counter({'⿴': 14409,\n",
       "         '⿱': 561453,\n",
       "         '⿰': 438079,\n",
       "         'noChrData': 351898,\n",
       "         '⿸': 91226,\n",
       "         '': 256312,\n",
       "         '⿵': 25234,\n",
       "         '⿳': 14381,\n",
       "         '⿻': 37847,\n",
       "         '⿺': 26847,\n",
       "         '⿹': 25384,\n",
       "         '⿲': 6242,\n",
       "         '⿶': 7275,\n",
       "         '⿷': 1641})"
      ]
     },
     "execution_count": 8,
     "metadata": {},
     "output_type": "execute_result"
    }
   ],
   "source": [
    "# Shape of hanzi (IDC)\n",
    "c2.freq_distr(tp=\"idc\", subcorp_idx=0)"
   ]
  },
  {
   "cell_type": "code",
   "execution_count": 9,
   "id": "danish-functionality",
   "metadata": {},
   "outputs": [
    {
     "data": {
      "text/plain": [
       "[('noChrData', 1517367),\n",
       " ('人', 422649),\n",
       " ('一', 281707),\n",
       " ('丿', 252723),\n",
       " ('口', 249345),\n",
       " ('火', 165875),\n",
       " ('言', 157936),\n",
       " ('水', 155632),\n",
       " ('八', 151539),\n",
       " ('心', 145208)]"
      ]
     },
     "execution_count": 9,
     "metadata": {},
     "output_type": "execute_result"
    }
   ],
   "source": [
    "# Radical of hanzi\n",
    "c2.freq_distr(tp=\"rad\").most_common(10)"
   ]
  },
  {
   "cell_type": "code",
   "execution_count": 10,
   "id": "durable-thumb",
   "metadata": {},
   "outputs": [
    {
     "data": {
      "text/plain": [
       "[('度', 4757),\n",
       " ('廣', 4050),\n",
       " ('廟', 3067),\n",
       " ('府', 3064),\n",
       " ('廢', 2542),\n",
       " ('庶', 2281),\n",
       " ('廉', 1594),\n",
       " ('康', 1570),\n",
       " ('序', 1213),\n",
       " ('庭', 1155)]"
      ]
     },
     "execution_count": 10,
     "metadata": {},
     "output_type": "execute_result"
    }
   ],
   "source": [
    "# Hanzi with a certain radical\n",
    "c2.freq_distr(tp=None, radical=\"广\").most_common(10)"
   ]
  },
  {
   "cell_type": "code",
   "execution_count": 11,
   "id": "nearby-actress",
   "metadata": {},
   "outputs": [
    {
     "data": {
      "text/plain": [
       "Counter({'澩': 3,\n",
       "         '灓': 5,\n",
       "         '泉': 1349,\n",
       "         '漿': 153,\n",
       "         '滎': 344,\n",
       "         '沓': 89,\n",
       "         '淼': 4,\n",
       "         '漐': 9,\n",
       "         '漀': 1,\n",
       "         '泵': 3,\n",
       "         '氶': 1,\n",
       "         '汞': 15})"
      ]
     },
     "execution_count": 11,
     "metadata": {},
     "output_type": "execute_result"
    }
   ],
   "source": [
    "# Hanzi with a certain component\n",
    "c2.freq_distr(tp=None, compo=\"水\", idc=\"vert2\", pos=-1)"
   ]
  },
  {
   "cell_type": "markdown",
   "id": "fatty-program",
   "metadata": {},
   "source": [
    "### 2.2 Productivity\n",
    "\n",
    "- Realized Productivity: $V(C, N)$\n",
    "- Expanding Productivity: $\\frac{V(1, C, N)}{V(1, N)}$\n",
    "- Potential Productivity: $\\frac{V(1, C, N)}{N(C)}$"
   ]
  },
  {
   "cell_type": "code",
   "execution_count": 12,
   "id": "limited-shareware",
   "metadata": {},
   "outputs": [
    {
     "data": {
      "text/plain": [
       "{'productivity': {'realized': 62,\n",
       "  'expanding': 0.0043206913106096975,\n",
       "  'potential': 0.001526199762591148},\n",
       " 'N': 1858228,\n",
       " 'V1': 2083,\n",
       " 'V1C': 9,\n",
       " 'NC': 5897}"
      ]
     },
     "execution_count": 12,
     "metadata": {},
     "output_type": "execute_result"
    }
   ],
   "source": [
    "# Productivity of a radical\n",
    "c2.productivity(radical=\"广\", subcorp_idx=0)"
   ]
  },
  {
   "cell_type": "code",
   "execution_count": 13,
   "id": "referenced-render",
   "metadata": {},
   "outputs": [
    {
     "data": {
      "text/plain": [
       "{'productivity': {'realized': 178,\n",
       "  'expanding': 0.03456553048487758,\n",
       "  'potential': 0.07010710808179163},\n",
       " 'N': 1858228,\n",
       " 'V1': 2083,\n",
       " 'V1C': 72,\n",
       " 'NC': 1027}"
      ]
     },
     "execution_count": 13,
     "metadata": {},
     "output_type": "execute_result"
    }
   ],
   "source": [
    "# Productivity of a component\n",
    "c2.productivity(compo=\"虫\", idc=\"horz2\", pos=0, subcorp_idx=0)"
   ]
  },
  {
   "cell_type": "code",
   "execution_count": 14,
   "id": "metric-studio",
   "metadata": {},
   "outputs": [
    {
     "data": {
      "text/html": [
       "<div>\n",
       "<style scoped>\n",
       "    .dataframe tbody tr th:only-of-type {\n",
       "        vertical-align: middle;\n",
       "    }\n",
       "\n",
       "    .dataframe tbody tr th {\n",
       "        vertical-align: top;\n",
       "    }\n",
       "\n",
       "    .dataframe thead th {\n",
       "        text-align: right;\n",
       "    }\n",
       "</style>\n",
       "<table border=\"1\" class=\"dataframe\">\n",
       "  <thead>\n",
       "    <tr style=\"text-align: right;\">\n",
       "      <th></th>\n",
       "      <th>name</th>\n",
       "      <th>shape</th>\n",
       "      <th>realized</th>\n",
       "      <th>expanding</th>\n",
       "      <th>potential</th>\n",
       "      <th>V1C</th>\n",
       "      <th>V1</th>\n",
       "      <th>NC</th>\n",
       "      <th>N</th>\n",
       "    </tr>\n",
       "  </thead>\n",
       "  <tbody>\n",
       "    <tr>\n",
       "      <th>0</th>\n",
       "      <td>horz2</td>\n",
       "      <td>⿰</td>\n",
       "      <td>5580</td>\n",
       "      <td>0.709073</td>\n",
       "      <td>0.003372</td>\n",
       "      <td>1477</td>\n",
       "      <td>2083</td>\n",
       "      <td>438079</td>\n",
       "      <td>1858228</td>\n",
       "    </tr>\n",
       "    <tr>\n",
       "      <th>1</th>\n",
       "      <td>vert2</td>\n",
       "      <td>⿱</td>\n",
       "      <td>2110</td>\n",
       "      <td>0.223236</td>\n",
       "      <td>0.000828</td>\n",
       "      <td>465</td>\n",
       "      <td>2083</td>\n",
       "      <td>561453</td>\n",
       "      <td>1858228</td>\n",
       "    </tr>\n",
       "    <tr>\n",
       "      <th>2</th>\n",
       "      <td>horz3</td>\n",
       "      <td>⿲</td>\n",
       "      <td>37</td>\n",
       "      <td>0.002400</td>\n",
       "      <td>0.000801</td>\n",
       "      <td>5</td>\n",
       "      <td>2083</td>\n",
       "      <td>6242</td>\n",
       "      <td>1858228</td>\n",
       "    </tr>\n",
       "    <tr>\n",
       "      <th>3</th>\n",
       "      <td>vert3</td>\n",
       "      <td>⿳</td>\n",
       "      <td>85</td>\n",
       "      <td>0.006721</td>\n",
       "      <td>0.000974</td>\n",
       "      <td>14</td>\n",
       "      <td>2083</td>\n",
       "      <td>14381</td>\n",
       "      <td>1858228</td>\n",
       "    </tr>\n",
       "    <tr>\n",
       "      <th>4</th>\n",
       "      <td>encl</td>\n",
       "      <td>⿴</td>\n",
       "      <td>27</td>\n",
       "      <td>0.001440</td>\n",
       "      <td>0.000208</td>\n",
       "      <td>3</td>\n",
       "      <td>2083</td>\n",
       "      <td>14409</td>\n",
       "      <td>1858228</td>\n",
       "    </tr>\n",
       "    <tr>\n",
       "      <th>5</th>\n",
       "      <td>surN</td>\n",
       "      <td>⿵</td>\n",
       "      <td>87</td>\n",
       "      <td>0.005761</td>\n",
       "      <td>0.000476</td>\n",
       "      <td>12</td>\n",
       "      <td>2083</td>\n",
       "      <td>25234</td>\n",
       "      <td>1858228</td>\n",
       "    </tr>\n",
       "    <tr>\n",
       "      <th>6</th>\n",
       "      <td>surU</td>\n",
       "      <td>⿶</td>\n",
       "      <td>6</td>\n",
       "      <td>0.000000</td>\n",
       "      <td>0.000000</td>\n",
       "      <td>0</td>\n",
       "      <td>2083</td>\n",
       "      <td>7275</td>\n",
       "      <td>1858228</td>\n",
       "    </tr>\n",
       "    <tr>\n",
       "      <th>7</th>\n",
       "      <td>curC</td>\n",
       "      <td>⿷</td>\n",
       "      <td>20</td>\n",
       "      <td>0.001920</td>\n",
       "      <td>0.002438</td>\n",
       "      <td>4</td>\n",
       "      <td>2083</td>\n",
       "      <td>1641</td>\n",
       "      <td>1858228</td>\n",
       "    </tr>\n",
       "    <tr>\n",
       "      <th>8</th>\n",
       "      <td>surT</td>\n",
       "      <td>⿸</td>\n",
       "      <td>342</td>\n",
       "      <td>0.026884</td>\n",
       "      <td>0.000614</td>\n",
       "      <td>56</td>\n",
       "      <td>2083</td>\n",
       "      <td>91226</td>\n",
       "      <td>1858228</td>\n",
       "    </tr>\n",
       "    <tr>\n",
       "      <th>9</th>\n",
       "      <td>sur7</td>\n",
       "      <td>⿹</td>\n",
       "      <td>51</td>\n",
       "      <td>0.002880</td>\n",
       "      <td>0.000236</td>\n",
       "      <td>6</td>\n",
       "      <td>2083</td>\n",
       "      <td>25384</td>\n",
       "      <td>1858228</td>\n",
       "    </tr>\n",
       "    <tr>\n",
       "      <th>10</th>\n",
       "      <td>surL</td>\n",
       "      <td>⿺</td>\n",
       "      <td>180</td>\n",
       "      <td>0.012482</td>\n",
       "      <td>0.000968</td>\n",
       "      <td>26</td>\n",
       "      <td>2083</td>\n",
       "      <td>26847</td>\n",
       "      <td>1858228</td>\n",
       "    </tr>\n",
       "    <tr>\n",
       "      <th>11</th>\n",
       "      <td>over</td>\n",
       "      <td>⿻</td>\n",
       "      <td>44</td>\n",
       "      <td>0.000960</td>\n",
       "      <td>0.000053</td>\n",
       "      <td>2</td>\n",
       "      <td>2083</td>\n",
       "      <td>37847</td>\n",
       "      <td>1858228</td>\n",
       "    </tr>\n",
       "  </tbody>\n",
       "</table>\n",
       "</div>"
      ],
      "text/plain": [
       "     name shape  realized  expanding  potential   V1C    V1      NC        N\n",
       "0   horz2     ⿰      5580   0.709073   0.003372  1477  2083  438079  1858228\n",
       "1   vert2     ⿱      2110   0.223236   0.000828   465  2083  561453  1858228\n",
       "2   horz3     ⿲        37   0.002400   0.000801     5  2083    6242  1858228\n",
       "3   vert3     ⿳        85   0.006721   0.000974    14  2083   14381  1858228\n",
       "4    encl     ⿴        27   0.001440   0.000208     3  2083   14409  1858228\n",
       "5    surN     ⿵        87   0.005761   0.000476    12  2083   25234  1858228\n",
       "6    surU     ⿶         6   0.000000   0.000000     0  2083    7275  1858228\n",
       "7    curC     ⿷        20   0.001920   0.002438     4  2083    1641  1858228\n",
       "8    surT     ⿸       342   0.026884   0.000614    56  2083   91226  1858228\n",
       "9    sur7     ⿹        51   0.002880   0.000236     6  2083   25384  1858228\n",
       "10   surL     ⿺       180   0.012482   0.000968    26  2083   26847  1858228\n",
       "11   over     ⿻        44   0.000960   0.000053     2  2083   37847  1858228"
      ]
     },
     "execution_count": 14,
     "metadata": {},
     "output_type": "execute_result"
    }
   ],
   "source": [
    "# Productivity of Hanzi shapes (IDCs)\n",
    "import pandas as pd\n",
    "from CompoTree import IDC\n",
    "\n",
    "df = []\n",
    "for idc in IDC:   \n",
    "    p = c2.productivity(idc=idc.name, subcorp_idx=0)\n",
    "    df.append({\n",
    "        'name': idc.name, \n",
    "        'shape': idc.value, \n",
    "        **p['productivity'],\n",
    "        'V1C': p['V1C'],\n",
    "        'V1': p['V1'],\n",
    "        'NC': p['NC'],\n",
    "        'N': p['N'],\n",
    "    })\n",
    "\n",
    "df = pd.DataFrame(df)\n",
    "df"
   ]
  },
  {
   "cell_type": "markdown",
   "id": "quality-resolution",
   "metadata": {},
   "source": [
    "## 3 Ngram Frequency"
   ]
  },
  {
   "cell_type": "code",
   "execution_count": 15,
   "id": "funded-message",
   "metadata": {},
   "outputs": [
    {
     "name": "stdout",
     "output_type": "stream",
     "text": [
      "Indexing corpus for text retrival...\n"
     ]
    },
    {
     "data": {
      "application/vnd.jupyter.widget-view+json": {
       "model_id": "5fba955d323c47cfac687bdd279c83f1",
       "version_major": 2,
       "version_minor": 0
      },
      "text/plain": [
       "  0%|          | 0/5 [00:00<?, ?it/s]"
      ]
     },
     "metadata": {},
     "output_type": "display_data"
    },
    {
     "name": "stdout",
     "output_type": "stream",
     "text": [
      "Indexing corpus for concordance search...\n"
     ]
    },
    {
     "data": {
      "application/vnd.jupyter.widget-view+json": {
       "model_id": "b8018f64b86d4845a391f596c8938e2e",
       "version_major": 2,
       "version_minor": 0
      },
      "text/plain": [
       "  0%|          | 0/5 [00:00<?, ?it/s]"
      ]
     },
     "metadata": {},
     "output_type": "display_data"
    }
   ],
   "source": [
    "from hctk import PlainTextReader, Concordancer\n",
    "\n",
    "c = Concordancer(PlainTextReader(\"data/\").corpus)"
   ]
  },
  {
   "cell_type": "code",
   "execution_count": 16,
   "id": "circular-lawsuit",
   "metadata": {},
   "outputs": [
    {
     "name": "stdout",
     "output_type": "stream",
     "text": [
      "Counting 2-grams...\n"
     ]
    },
    {
     "data": {
      "application/vnd.jupyter.widget-view+json": {
       "model_id": "a16e012d39d44770ab70acc156e5d4d6",
       "version_major": 2,
       "version_minor": 0
      },
      "text/plain": [
       "  0%|          | 0/5 [00:00<?, ?it/s]"
      ]
     },
     "metadata": {},
     "output_type": "display_data"
    },
    {
     "data": {
      "text/plain": [
       "[('而不', 3913),\n",
       " ('天下', 3661),\n",
       " ('不可', 2985),\n",
       " ('之所', 2723),\n",
       " ('子曰', 2581),\n",
       " ('人之', 2317),\n",
       " ('以為', 2231),\n",
       " ('所以', 2023),\n",
       " ('不能', 1934),\n",
       " ('可以', 1667)]"
      ]
     },
     "execution_count": 16,
     "metadata": {},
     "output_type": "execute_result"
    }
   ],
   "source": [
    "# Bigram frequency\n",
    "c.freq_distr_ngrams(n=2, subcorp_idx=0).most_common(10)"
   ]
  },
  {
   "cell_type": "code",
   "execution_count": 17,
   "id": "affecting-pleasure",
   "metadata": {},
   "outputs": [
    {
     "name": "stdout",
     "output_type": "stream",
     "text": [
      "Counting 3-grams...\n"
     ]
    },
    {
     "data": {
      "application/vnd.jupyter.widget-view+json": {
       "model_id": "9cbe5b3d25f7480ea817f07704d63ad5",
       "version_major": 2,
       "version_minor": 0
      },
      "text/plain": [
       "  0%|          | 0/5 [00:00<?, ?it/s]"
      ]
     },
     "metadata": {},
     "output_type": "display_data"
    },
    {
     "data": {
      "text/plain": [
       "[('天下之', 946),\n",
       " ('歧伯曰', 766),\n",
       " ('之所以', 605),\n",
       " ('不可以', 580),\n",
       " ('子對曰', 443),\n",
       " ('黃帝曰', 403),\n",
       " ('此之謂', 350),\n",
       " ('子墨子', 343),\n",
       " ('孔子曰', 302),\n",
       " ('不可不', 298)]"
      ]
     },
     "execution_count": 17,
     "metadata": {},
     "output_type": "execute_result"
    }
   ],
   "source": [
    "# Trigram frequency\n",
    "c.freq_distr_ngrams(n=3, subcorp_idx=0).most_common(10)"
   ]
  },
  {
   "cell_type": "markdown",
   "id": "returning-marriage",
   "metadata": {},
   "source": [
    "## 4 Collocation\n",
    "\n",
    "### 4.1 Bigram Association"
   ]
  },
  {
   "cell_type": "code",
   "execution_count": 18,
   "id": "lyric-ensemble",
   "metadata": {},
   "outputs": [
    {
     "data": {
      "text/plain": [
       "[('歧伯',\n",
       "  {'MI': 9.41167469710956,\n",
       "   'Xsq': 603675.038957376,\n",
       "   'Gsq': 12041.994806908666,\n",
       "   'Dice': 0.6778754298815437,\n",
       "   'DeltaP21': 0.9870480872578454,\n",
       "   'DeltaP12': 0.515988379165576,\n",
       "   'FisherExact': 0.0,\n",
       "   'RawCount': 887}),\n",
       " ('柰何',\n",
       "  {'MI': 8.535527535461881,\n",
       "   'Xsq': 66249.74702510444,\n",
       "   'Gsq': 2110.3645096843,\n",
       "   'Dice': 0.10718562874251497,\n",
       "   'DeltaP21': 0.9864357417273106,\n",
       "   'DeltaP12': 0.056661809249506735,\n",
       "   'FisherExact': 0.0,\n",
       "   'RawCount': 179}),\n",
       " ('嗚呼',\n",
       "  {'MI': 11.978137468386173,\n",
       "   'Xsq': 653497.5945430023,\n",
       "   'Gsq': 2772.224707107538,\n",
       "   'Dice': 0.7168141592920354,\n",
       "   'DeltaP21': 0.9699560936315373,\n",
       "   'DeltaP12': 0.5684168332436602,\n",
       "   'FisherExact': 0.0,\n",
       "   'RawCount': 162})]"
      ]
     },
     "execution_count": 18,
     "metadata": {},
     "output_type": "execute_result"
    }
   ],
   "source": [
    "bi_asso = c.bigram_associations(subcorp_idx=0, sort_by=\"DeltaP21\")\n",
    "[x for x in bi_asso if x[1].get('RawCount', 0) > 100][:3]"
   ]
  },
  {
   "cell_type": "markdown",
   "id": "active-feeding",
   "metadata": {},
   "source": [
    "### 4.2 Node-Collocate Association"
   ]
  },
  {
   "cell_type": "code",
   "execution_count": 19,
   "id": "geological-cholesterol",
   "metadata": {},
   "outputs": [
    {
     "data": {
      "text/plain": [
       "[('曰',\n",
       "  {'MI': 5.5855958675486095,\n",
       "   'Xsq': 17849.561805227277,\n",
       "   'Gsq': 2486.7011528898893,\n",
       "   'Dice': 0.03412938870076635,\n",
       "   'DeltaP21': 0.017436408382199422,\n",
       "   'DeltaP12': 0.5508984202190699,\n",
       "   'FisherExact': 0.0,\n",
       "   'RawCount': 383}),\n",
       " ('愀',\n",
       "  {'MI': 10.41398510902232,\n",
       "   'Xsq': 8177.080337219988,\n",
       "   'Gsq': 78.36068664097104,\n",
       "   'Dice': 0.017316017316017316,\n",
       "   'DeltaP21': 0.4996367483650986,\n",
       "   'DeltaP12': 0.008807342620906026,\n",
       "   'FisherExact': 2.1855507492354285e-18,\n",
       "   'RawCount': 6}),\n",
       " ('孔',\n",
       "  {'MI': 7.095196721665525,\n",
       "   'Xsq': 6203.299925288661,\n",
       "   'Gsq': 366.5766447587887,\n",
       "   'Dice': 0.05753595997498437,\n",
       "   'DeltaP21': 0.04976704015525816,\n",
       "   'DeltaP12': 0.06707828763041274,\n",
       "   'FisherExact': 1.5730409497803884e-81,\n",
       "   'RawCount': 46}),\n",
       " ('矙',\n",
       "  {'MI': 11.41398510902232,\n",
       "   'Xsq': 5455.356826047563,\n",
       "   'Gsq': 31.652163710326512,\n",
       "   'Dice': 0.005856515373352855,\n",
       "   'DeltaP21': 0.999634597729232,\n",
       "   'DeltaP12': 0.002936857562408223,\n",
       "   'FisherExact': 1.341091030070595e-07,\n",
       "   'RawCount': 2}),\n",
       " ('問',\n",
       "  {'MI': 5.973808047464968,\n",
       "   'Xsq': 2925.847560753262,\n",
       "   'Gsq': 307.47664398618406,\n",
       "   'Dice': 0.03471971066907776,\n",
       "   'DeltaP21': 0.022691599983249697,\n",
       "   'DeltaP12': 0.06938851232700384,\n",
       "   'FisherExact': 1.0446010447528008e-68,\n",
       "   'RawCount': 48})]"
      ]
     },
     "execution_count": 19,
     "metadata": {},
     "output_type": "execute_result"
    }
   ],
   "source": [
    "cql = \"\"\"\n",
    "\"孔\" \"子\"\n",
    "\"\"\"\n",
    "collo = c.collocates(cql, left=3, right=3, subcorp_idx=0, sort_by=\"Xsq\", alpha=0)\n",
    "collo[:5]"
   ]
  }
 ],
 "metadata": {
  "kernelspec": {
   "display_name": "py3.8",
   "language": "python",
   "name": "py3.8"
  },
  "language_info": {
   "codemirror_mode": {
    "name": "ipython",
    "version": 3
   },
   "file_extension": ".py",
   "mimetype": "text/x-python",
   "name": "python",
   "nbconvert_exporter": "python",
   "pygments_lexer": "ipython3",
   "version": "3.8.10"
  }
 },
 "nbformat": 4,
 "nbformat_minor": 5
}
