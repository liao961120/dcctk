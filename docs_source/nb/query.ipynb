{
  "nbformat": 4,
  "nbformat_minor": 0,
  "metadata": {
    "colab": {
      "name": "charQuery.ipynb",
      "provenance": [],
      "toc_visible": true,
      "include_colab_link": true
    },
    "kernelspec": {
      "display_name": "py3.8",
      "language": "python",
      "name": "py3.8"
    },
    "language_info": {
      "codemirror_mode": {
        "name": "ipython",
        "version": 3
      },
      "file_extension": ".py",
      "mimetype": "text/x-python",
      "name": "python",
      "nbconvert_exporter": "python",
      "pygments_lexer": "ipython3",
      "version": "3.8.10"
    },
    "widgets": {
      "application/vnd.jupyter.widget-state+json": {
        "88734e113f194da29701f2d8f90a1dfa": {
          "model_module": "@jupyter-widgets/controls",
          "model_name": "HBoxModel",
          "model_module_version": "1.5.0",
          "state": {
            "_view_name": "HBoxView",
            "_dom_classes": [],
            "_model_name": "HBoxModel",
            "_view_module": "@jupyter-widgets/controls",
            "_model_module_version": "1.5.0",
            "_view_count": null,
            "_view_module_version": "1.5.0",
            "box_style": "",
            "layout": "IPY_MODEL_3f150656894d453a9ad501ffc0272381",
            "_model_module": "@jupyter-widgets/controls",
            "children": [
              "IPY_MODEL_d71894bbff494fbc96921c0d1ca3d372",
              "IPY_MODEL_8026d4e83afb431e9e430d909a943ea1",
              "IPY_MODEL_375b2e1990264313b7ec8577e02efd51"
            ]
          }
        },
        "3f150656894d453a9ad501ffc0272381": {
          "model_module": "@jupyter-widgets/base",
          "model_name": "LayoutModel",
          "model_module_version": "1.2.0",
          "state": {
            "_view_name": "LayoutView",
            "grid_template_rows": null,
            "right": null,
            "justify_content": null,
            "_view_module": "@jupyter-widgets/base",
            "overflow": null,
            "_model_module_version": "1.2.0",
            "_view_count": null,
            "flex_flow": null,
            "width": null,
            "min_width": null,
            "border": null,
            "align_items": null,
            "bottom": null,
            "_model_module": "@jupyter-widgets/base",
            "top": null,
            "grid_column": null,
            "overflow_y": null,
            "overflow_x": null,
            "grid_auto_flow": null,
            "grid_area": null,
            "grid_template_columns": null,
            "flex": null,
            "_model_name": "LayoutModel",
            "justify_items": null,
            "grid_row": null,
            "max_height": null,
            "align_content": null,
            "visibility": null,
            "align_self": null,
            "height": null,
            "min_height": null,
            "padding": null,
            "grid_auto_rows": null,
            "grid_gap": null,
            "max_width": null,
            "order": null,
            "_view_module_version": "1.2.0",
            "grid_template_areas": null,
            "object_position": null,
            "object_fit": null,
            "grid_auto_columns": null,
            "margin": null,
            "display": null,
            "left": null
          }
        },
        "d71894bbff494fbc96921c0d1ca3d372": {
          "model_module": "@jupyter-widgets/controls",
          "model_name": "HTMLModel",
          "model_module_version": "1.5.0",
          "state": {
            "_view_name": "HTMLView",
            "style": "IPY_MODEL_b94d11c4c04144a1a0921d3d232e9c08",
            "_dom_classes": [],
            "description": "",
            "_model_name": "HTMLModel",
            "placeholder": "​",
            "_view_module": "@jupyter-widgets/controls",
            "_model_module_version": "1.5.0",
            "value": "100%",
            "_view_count": null,
            "_view_module_version": "1.5.0",
            "description_tooltip": null,
            "_model_module": "@jupyter-widgets/controls",
            "layout": "IPY_MODEL_6a4d64b1b41648a3b9daee0b3580b280"
          }
        },
        "8026d4e83afb431e9e430d909a943ea1": {
          "model_module": "@jupyter-widgets/controls",
          "model_name": "FloatProgressModel",
          "model_module_version": "1.5.0",
          "state": {
            "_view_name": "ProgressView",
            "style": "IPY_MODEL_3549b8b785d44f4081f8f9cb4ea6527b",
            "_dom_classes": [],
            "description": "",
            "_model_name": "FloatProgressModel",
            "bar_style": "success",
            "max": 5,
            "_view_module": "@jupyter-widgets/controls",
            "_model_module_version": "1.5.0",
            "value": 5,
            "_view_count": null,
            "_view_module_version": "1.5.0",
            "orientation": "horizontal",
            "min": 0,
            "description_tooltip": null,
            "_model_module": "@jupyter-widgets/controls",
            "layout": "IPY_MODEL_77bd1c47d03d4c9ab1b9185ab9464813"
          }
        },
        "375b2e1990264313b7ec8577e02efd51": {
          "model_module": "@jupyter-widgets/controls",
          "model_name": "HTMLModel",
          "model_module_version": "1.5.0",
          "state": {
            "_view_name": "HTMLView",
            "style": "IPY_MODEL_4617a46fccda41eeb59b2899ea339908",
            "_dom_classes": [],
            "description": "",
            "_model_name": "HTMLModel",
            "placeholder": "​",
            "_view_module": "@jupyter-widgets/controls",
            "_model_module_version": "1.5.0",
            "value": " 5/5 [00:00&lt;00:00, 120.76it/s]",
            "_view_count": null,
            "_view_module_version": "1.5.0",
            "description_tooltip": null,
            "_model_module": "@jupyter-widgets/controls",
            "layout": "IPY_MODEL_4c09fe079c024ba2ac59b61fbe453ef8"
          }
        },
        "b94d11c4c04144a1a0921d3d232e9c08": {
          "model_module": "@jupyter-widgets/controls",
          "model_name": "DescriptionStyleModel",
          "model_module_version": "1.5.0",
          "state": {
            "_view_name": "StyleView",
            "_model_name": "DescriptionStyleModel",
            "description_width": "",
            "_view_module": "@jupyter-widgets/base",
            "_model_module_version": "1.5.0",
            "_view_count": null,
            "_view_module_version": "1.2.0",
            "_model_module": "@jupyter-widgets/controls"
          }
        },
        "6a4d64b1b41648a3b9daee0b3580b280": {
          "model_module": "@jupyter-widgets/base",
          "model_name": "LayoutModel",
          "model_module_version": "1.2.0",
          "state": {
            "_view_name": "LayoutView",
            "grid_template_rows": null,
            "right": null,
            "justify_content": null,
            "_view_module": "@jupyter-widgets/base",
            "overflow": null,
            "_model_module_version": "1.2.0",
            "_view_count": null,
            "flex_flow": null,
            "width": null,
            "min_width": null,
            "border": null,
            "align_items": null,
            "bottom": null,
            "_model_module": "@jupyter-widgets/base",
            "top": null,
            "grid_column": null,
            "overflow_y": null,
            "overflow_x": null,
            "grid_auto_flow": null,
            "grid_area": null,
            "grid_template_columns": null,
            "flex": null,
            "_model_name": "LayoutModel",
            "justify_items": null,
            "grid_row": null,
            "max_height": null,
            "align_content": null,
            "visibility": null,
            "align_self": null,
            "height": null,
            "min_height": null,
            "padding": null,
            "grid_auto_rows": null,
            "grid_gap": null,
            "max_width": null,
            "order": null,
            "_view_module_version": "1.2.0",
            "grid_template_areas": null,
            "object_position": null,
            "object_fit": null,
            "grid_auto_columns": null,
            "margin": null,
            "display": null,
            "left": null
          }
        },
        "3549b8b785d44f4081f8f9cb4ea6527b": {
          "model_module": "@jupyter-widgets/controls",
          "model_name": "ProgressStyleModel",
          "model_module_version": "1.5.0",
          "state": {
            "_view_name": "StyleView",
            "_model_name": "ProgressStyleModel",
            "description_width": "",
            "_view_module": "@jupyter-widgets/base",
            "_model_module_version": "1.5.0",
            "_view_count": null,
            "_view_module_version": "1.2.0",
            "bar_color": null,
            "_model_module": "@jupyter-widgets/controls"
          }
        },
        "77bd1c47d03d4c9ab1b9185ab9464813": {
          "model_module": "@jupyter-widgets/base",
          "model_name": "LayoutModel",
          "model_module_version": "1.2.0",
          "state": {
            "_view_name": "LayoutView",
            "grid_template_rows": null,
            "right": null,
            "justify_content": null,
            "_view_module": "@jupyter-widgets/base",
            "overflow": null,
            "_model_module_version": "1.2.0",
            "_view_count": null,
            "flex_flow": null,
            "width": null,
            "min_width": null,
            "border": null,
            "align_items": null,
            "bottom": null,
            "_model_module": "@jupyter-widgets/base",
            "top": null,
            "grid_column": null,
            "overflow_y": null,
            "overflow_x": null,
            "grid_auto_flow": null,
            "grid_area": null,
            "grid_template_columns": null,
            "flex": null,
            "_model_name": "LayoutModel",
            "justify_items": null,
            "grid_row": null,
            "max_height": null,
            "align_content": null,
            "visibility": null,
            "align_self": null,
            "height": null,
            "min_height": null,
            "padding": null,
            "grid_auto_rows": null,
            "grid_gap": null,
            "max_width": null,
            "order": null,
            "_view_module_version": "1.2.0",
            "grid_template_areas": null,
            "object_position": null,
            "object_fit": null,
            "grid_auto_columns": null,
            "margin": null,
            "display": null,
            "left": null
          }
        },
        "4617a46fccda41eeb59b2899ea339908": {
          "model_module": "@jupyter-widgets/controls",
          "model_name": "DescriptionStyleModel",
          "model_module_version": "1.5.0",
          "state": {
            "_view_name": "StyleView",
            "_model_name": "DescriptionStyleModel",
            "description_width": "",
            "_view_module": "@jupyter-widgets/base",
            "_model_module_version": "1.5.0",
            "_view_count": null,
            "_view_module_version": "1.2.0",
            "_model_module": "@jupyter-widgets/controls"
          }
        },
        "4c09fe079c024ba2ac59b61fbe453ef8": {
          "model_module": "@jupyter-widgets/base",
          "model_name": "LayoutModel",
          "model_module_version": "1.2.0",
          "state": {
            "_view_name": "LayoutView",
            "grid_template_rows": null,
            "right": null,
            "justify_content": null,
            "_view_module": "@jupyter-widgets/base",
            "overflow": null,
            "_model_module_version": "1.2.0",
            "_view_count": null,
            "flex_flow": null,
            "width": null,
            "min_width": null,
            "border": null,
            "align_items": null,
            "bottom": null,
            "_model_module": "@jupyter-widgets/base",
            "top": null,
            "grid_column": null,
            "overflow_y": null,
            "overflow_x": null,
            "grid_auto_flow": null,
            "grid_area": null,
            "grid_template_columns": null,
            "flex": null,
            "_model_name": "LayoutModel",
            "justify_items": null,
            "grid_row": null,
            "max_height": null,
            "align_content": null,
            "visibility": null,
            "align_self": null,
            "height": null,
            "min_height": null,
            "padding": null,
            "grid_auto_rows": null,
            "grid_gap": null,
            "max_width": null,
            "order": null,
            "_view_module_version": "1.2.0",
            "grid_template_areas": null,
            "object_position": null,
            "object_fit": null,
            "grid_auto_columns": null,
            "margin": null,
            "display": null,
            "left": null
          }
        },
        "1115561dfd004ccd85328a09458d1a42": {
          "model_module": "@jupyter-widgets/controls",
          "model_name": "HBoxModel",
          "model_module_version": "1.5.0",
          "state": {
            "_view_name": "HBoxView",
            "_dom_classes": [],
            "_model_name": "HBoxModel",
            "_view_module": "@jupyter-widgets/controls",
            "_model_module_version": "1.5.0",
            "_view_count": null,
            "_view_module_version": "1.5.0",
            "box_style": "",
            "layout": "IPY_MODEL_f1ea00e84d904dc18e1f472aacc171cb",
            "_model_module": "@jupyter-widgets/controls",
            "children": [
              "IPY_MODEL_6f72357bae1840e9bec534682f93b6cd",
              "IPY_MODEL_37156bb36422442db6bbaedab53a39de",
              "IPY_MODEL_0ed12b40ef7944ad96b5bf299a75528f"
            ]
          }
        },
        "f1ea00e84d904dc18e1f472aacc171cb": {
          "model_module": "@jupyter-widgets/base",
          "model_name": "LayoutModel",
          "model_module_version": "1.2.0",
          "state": {
            "_view_name": "LayoutView",
            "grid_template_rows": null,
            "right": null,
            "justify_content": null,
            "_view_module": "@jupyter-widgets/base",
            "overflow": null,
            "_model_module_version": "1.2.0",
            "_view_count": null,
            "flex_flow": null,
            "width": null,
            "min_width": null,
            "border": null,
            "align_items": null,
            "bottom": null,
            "_model_module": "@jupyter-widgets/base",
            "top": null,
            "grid_column": null,
            "overflow_y": null,
            "overflow_x": null,
            "grid_auto_flow": null,
            "grid_area": null,
            "grid_template_columns": null,
            "flex": null,
            "_model_name": "LayoutModel",
            "justify_items": null,
            "grid_row": null,
            "max_height": null,
            "align_content": null,
            "visibility": null,
            "align_self": null,
            "height": null,
            "min_height": null,
            "padding": null,
            "grid_auto_rows": null,
            "grid_gap": null,
            "max_width": null,
            "order": null,
            "_view_module_version": "1.2.0",
            "grid_template_areas": null,
            "object_position": null,
            "object_fit": null,
            "grid_auto_columns": null,
            "margin": null,
            "display": null,
            "left": null
          }
        },
        "6f72357bae1840e9bec534682f93b6cd": {
          "model_module": "@jupyter-widgets/controls",
          "model_name": "HTMLModel",
          "model_module_version": "1.5.0",
          "state": {
            "_view_name": "HTMLView",
            "style": "IPY_MODEL_de7af23a7dd44a5394679e7f40afd911",
            "_dom_classes": [],
            "description": "",
            "_model_name": "HTMLModel",
            "placeholder": "​",
            "_view_module": "@jupyter-widgets/controls",
            "_model_module_version": "1.5.0",
            "value": "100%",
            "_view_count": null,
            "_view_module_version": "1.5.0",
            "description_tooltip": null,
            "_model_module": "@jupyter-widgets/controls",
            "layout": "IPY_MODEL_8fc220780aac49868a4a4c6842c1d9ac"
          }
        },
        "37156bb36422442db6bbaedab53a39de": {
          "model_module": "@jupyter-widgets/controls",
          "model_name": "FloatProgressModel",
          "model_module_version": "1.5.0",
          "state": {
            "_view_name": "ProgressView",
            "style": "IPY_MODEL_d8879dc1cb7f43f8b7dbc71854bd0c3a",
            "_dom_classes": [],
            "description": "",
            "_model_name": "FloatProgressModel",
            "bar_style": "success",
            "max": 5,
            "_view_module": "@jupyter-widgets/controls",
            "_model_module_version": "1.5.0",
            "value": 5,
            "_view_count": null,
            "_view_module_version": "1.5.0",
            "orientation": "horizontal",
            "min": 0,
            "description_tooltip": null,
            "_model_module": "@jupyter-widgets/controls",
            "layout": "IPY_MODEL_9ca55407c87d4360bdb2767df6d25276"
          }
        },
        "0ed12b40ef7944ad96b5bf299a75528f": {
          "model_module": "@jupyter-widgets/controls",
          "model_name": "HTMLModel",
          "model_module_version": "1.5.0",
          "state": {
            "_view_name": "HTMLView",
            "style": "IPY_MODEL_9ad8ec3b735b41b8a846434b030afbd5",
            "_dom_classes": [],
            "description": "",
            "_model_name": "HTMLModel",
            "placeholder": "​",
            "_view_module": "@jupyter-widgets/controls",
            "_model_module_version": "1.5.0",
            "value": " 5/5 [00:05&lt;00:00,  1.07s/it]",
            "_view_count": null,
            "_view_module_version": "1.5.0",
            "description_tooltip": null,
            "_model_module": "@jupyter-widgets/controls",
            "layout": "IPY_MODEL_04ec7305f3df4a168909ccae785739dd"
          }
        },
        "de7af23a7dd44a5394679e7f40afd911": {
          "model_module": "@jupyter-widgets/controls",
          "model_name": "DescriptionStyleModel",
          "model_module_version": "1.5.0",
          "state": {
            "_view_name": "StyleView",
            "_model_name": "DescriptionStyleModel",
            "description_width": "",
            "_view_module": "@jupyter-widgets/base",
            "_model_module_version": "1.5.0",
            "_view_count": null,
            "_view_module_version": "1.2.0",
            "_model_module": "@jupyter-widgets/controls"
          }
        },
        "8fc220780aac49868a4a4c6842c1d9ac": {
          "model_module": "@jupyter-widgets/base",
          "model_name": "LayoutModel",
          "model_module_version": "1.2.0",
          "state": {
            "_view_name": "LayoutView",
            "grid_template_rows": null,
            "right": null,
            "justify_content": null,
            "_view_module": "@jupyter-widgets/base",
            "overflow": null,
            "_model_module_version": "1.2.0",
            "_view_count": null,
            "flex_flow": null,
            "width": null,
            "min_width": null,
            "border": null,
            "align_items": null,
            "bottom": null,
            "_model_module": "@jupyter-widgets/base",
            "top": null,
            "grid_column": null,
            "overflow_y": null,
            "overflow_x": null,
            "grid_auto_flow": null,
            "grid_area": null,
            "grid_template_columns": null,
            "flex": null,
            "_model_name": "LayoutModel",
            "justify_items": null,
            "grid_row": null,
            "max_height": null,
            "align_content": null,
            "visibility": null,
            "align_self": null,
            "height": null,
            "min_height": null,
            "padding": null,
            "grid_auto_rows": null,
            "grid_gap": null,
            "max_width": null,
            "order": null,
            "_view_module_version": "1.2.0",
            "grid_template_areas": null,
            "object_position": null,
            "object_fit": null,
            "grid_auto_columns": null,
            "margin": null,
            "display": null,
            "left": null
          }
        },
        "d8879dc1cb7f43f8b7dbc71854bd0c3a": {
          "model_module": "@jupyter-widgets/controls",
          "model_name": "ProgressStyleModel",
          "model_module_version": "1.5.0",
          "state": {
            "_view_name": "StyleView",
            "_model_name": "ProgressStyleModel",
            "description_width": "",
            "_view_module": "@jupyter-widgets/base",
            "_model_module_version": "1.5.0",
            "_view_count": null,
            "_view_module_version": "1.2.0",
            "bar_color": null,
            "_model_module": "@jupyter-widgets/controls"
          }
        },
        "9ca55407c87d4360bdb2767df6d25276": {
          "model_module": "@jupyter-widgets/base",
          "model_name": "LayoutModel",
          "model_module_version": "1.2.0",
          "state": {
            "_view_name": "LayoutView",
            "grid_template_rows": null,
            "right": null,
            "justify_content": null,
            "_view_module": "@jupyter-widgets/base",
            "overflow": null,
            "_model_module_version": "1.2.0",
            "_view_count": null,
            "flex_flow": null,
            "width": null,
            "min_width": null,
            "border": null,
            "align_items": null,
            "bottom": null,
            "_model_module": "@jupyter-widgets/base",
            "top": null,
            "grid_column": null,
            "overflow_y": null,
            "overflow_x": null,
            "grid_auto_flow": null,
            "grid_area": null,
            "grid_template_columns": null,
            "flex": null,
            "_model_name": "LayoutModel",
            "justify_items": null,
            "grid_row": null,
            "max_height": null,
            "align_content": null,
            "visibility": null,
            "align_self": null,
            "height": null,
            "min_height": null,
            "padding": null,
            "grid_auto_rows": null,
            "grid_gap": null,
            "max_width": null,
            "order": null,
            "_view_module_version": "1.2.0",
            "grid_template_areas": null,
            "object_position": null,
            "object_fit": null,
            "grid_auto_columns": null,
            "margin": null,
            "display": null,
            "left": null
          }
        },
        "9ad8ec3b735b41b8a846434b030afbd5": {
          "model_module": "@jupyter-widgets/controls",
          "model_name": "DescriptionStyleModel",
          "model_module_version": "1.5.0",
          "state": {
            "_view_name": "StyleView",
            "_model_name": "DescriptionStyleModel",
            "description_width": "",
            "_view_module": "@jupyter-widgets/base",
            "_model_module_version": "1.5.0",
            "_view_count": null,
            "_view_module_version": "1.2.0",
            "_model_module": "@jupyter-widgets/controls"
          }
        },
        "04ec7305f3df4a168909ccae785739dd": {
          "model_module": "@jupyter-widgets/base",
          "model_name": "LayoutModel",
          "model_module_version": "1.2.0",
          "state": {
            "_view_name": "LayoutView",
            "grid_template_rows": null,
            "right": null,
            "justify_content": null,
            "_view_module": "@jupyter-widgets/base",
            "overflow": null,
            "_model_module_version": "1.2.0",
            "_view_count": null,
            "flex_flow": null,
            "width": null,
            "min_width": null,
            "border": null,
            "align_items": null,
            "bottom": null,
            "_model_module": "@jupyter-widgets/base",
            "top": null,
            "grid_column": null,
            "overflow_y": null,
            "overflow_x": null,
            "grid_auto_flow": null,
            "grid_area": null,
            "grid_template_columns": null,
            "flex": null,
            "_model_name": "LayoutModel",
            "justify_items": null,
            "grid_row": null,
            "max_height": null,
            "align_content": null,
            "visibility": null,
            "align_self": null,
            "height": null,
            "min_height": null,
            "padding": null,
            "grid_auto_rows": null,
            "grid_gap": null,
            "max_width": null,
            "order": null,
            "_view_module_version": "1.2.0",
            "grid_template_areas": null,
            "object_position": null,
            "object_fit": null,
            "grid_auto_columns": null,
            "margin": null,
            "display": null,
            "left": null
          }
        }
      }
    }
  },
  "cells": [
    {
      "cell_type": "markdown",
      "metadata": {
        "id": "view-in-github",
        "colab_type": "text"
      },
      "source": [
        "<a href=\"https://colab.research.google.com/github/liao961120/hctk/blob/main/docs_source/nb/query.ipynb\" target=\"_parent\"><img src=\"https://colab.research.google.com/assets/colab-badge.svg\" alt=\"Open In Colab\"/></a>"
      ]
    },
    {
      "cell_type": "code",
      "metadata": {
        "colab": {
          "base_uri": "https://localhost:8080/"
        },
        "id": "5P99extNBogu",
        "outputId": "37d0a59f-9806-4fbe-8684-aadcd344d824"
      },
      "source": [
        "!gdown https://github.com/liao961120/hctk/raw/main/test/data.zip\n",
        "!unzip -q data.zip\n",
        "!pip install -q https://github.com/liao961120/CompoTree/tarball/main\n",
        "!pip install -qU hctk"
      ],
      "execution_count": 1,
      "outputs": [
        {
          "output_type": "stream",
          "name": "stdout",
          "text": [
            "Downloading...\n",
            "From: https://github.com/liao961120/hctk/raw/main/test/data.zip\n",
            "To: /content/data.zip\n",
            "100% 11.5M/11.5M [00:00<00:00, 99.7MB/s]\n",
            "\u001b[K     - 1.7 MB 18.1 MB/s\n",
            "\u001b[?25h  Building wheel for CompoTree (setup.py) ... \u001b[?25l\u001b[?25hdone\n",
            "\u001b[K     |████████████████████████████████| 467 kB 33.3 MB/s \n",
            "\u001b[?25h  Installing build dependencies ... \u001b[?25l\u001b[?25hdone\n",
            "  Getting requirements to build wheel ... \u001b[?25l\u001b[?25hdone\n",
            "    Preparing wheel metadata ... \u001b[?25l\u001b[?25hdone\n",
            "\u001b[K     |████████████████████████████████| 256 kB 53.2 MB/s \n",
            "\u001b[K     |████████████████████████████████| 596 kB 46.4 MB/s \n",
            "\u001b[?25h  Building wheel for gdown (PEP 517) ... \u001b[?25l\u001b[?25hdone\n"
          ]
        }
      ]
    },
    {
      "cell_type": "code",
      "metadata": {
        "colab": {
          "base_uri": "https://localhost:8080/",
          "height": 115,
          "referenced_widgets": [
            "88734e113f194da29701f2d8f90a1dfa",
            "3f150656894d453a9ad501ffc0272381",
            "d71894bbff494fbc96921c0d1ca3d372",
            "8026d4e83afb431e9e430d909a943ea1",
            "375b2e1990264313b7ec8577e02efd51",
            "b94d11c4c04144a1a0921d3d232e9c08",
            "6a4d64b1b41648a3b9daee0b3580b280",
            "3549b8b785d44f4081f8f9cb4ea6527b",
            "77bd1c47d03d4c9ab1b9185ab9464813",
            "4617a46fccda41eeb59b2899ea339908",
            "4c09fe079c024ba2ac59b61fbe453ef8",
            "1115561dfd004ccd85328a09458d1a42",
            "f1ea00e84d904dc18e1f472aacc171cb",
            "6f72357bae1840e9bec534682f93b6cd",
            "37156bb36422442db6bbaedab53a39de",
            "0ed12b40ef7944ad96b5bf299a75528f",
            "de7af23a7dd44a5394679e7f40afd911",
            "8fc220780aac49868a4a4c6842c1d9ac",
            "d8879dc1cb7f43f8b7dbc71854bd0c3a",
            "9ca55407c87d4360bdb2767df6d25276",
            "9ad8ec3b735b41b8a846434b030afbd5",
            "04ec7305f3df4a168909ccae785739dd"
          ]
        },
        "id": "uB5Op8IuBogw",
        "outputId": "cddb87a5-b984-4d81-e867-410926be10d1"
      },
      "source": [
        "from hctk import PlainTextReader\n",
        "from hctk import Concordancer\n",
        "\n",
        "c = Concordancer(PlainTextReader(\"data/\").corpus)"
      ],
      "execution_count": 2,
      "outputs": [
        {
          "output_type": "stream",
          "name": "stdout",
          "text": [
            "Indexing corpus for text retrival...\n"
          ]
        },
        {
          "output_type": "display_data",
          "data": {
            "application/vnd.jupyter.widget-view+json": {
              "model_id": "88734e113f194da29701f2d8f90a1dfa",
              "version_minor": 0,
              "version_major": 2
            },
            "text/plain": [
              "  0%|          | 0/5 [00:00<?, ?it/s]"
            ]
          },
          "metadata": {}
        },
        {
          "output_type": "stream",
          "name": "stdout",
          "text": [
            "Indexing corpus for concordance search...\n"
          ]
        },
        {
          "output_type": "display_data",
          "data": {
            "application/vnd.jupyter.widget-view+json": {
              "model_id": "1115561dfd004ccd85328a09458d1a42",
              "version_minor": 0,
              "version_major": 2
            },
            "text/plain": [
              "  0%|          | 0/5 [00:00<?, ?it/s]"
            ]
          },
          "metadata": {}
        }
      ]
    },
    {
      "cell_type": "code",
      "metadata": {
        "id": "esfml6EkBogy"
      },
      "source": [
        "def get_first_n(cql, n=10):\n",
        "    out = []\n",
        "    for i, result in enumerate(c.cql_search(cql)):\n",
        "        if i == n: break\n",
        "        out.append(result)\n",
        "    return out"
      ],
      "execution_count": 3,
      "outputs": []
    },
    {
      "cell_type": "markdown",
      "metadata": {
        "id": "IPf2VPo4Bogy"
      },
      "source": [
        "## 1 Search by Character"
      ]
    },
    {
      "cell_type": "code",
      "metadata": {
        "colab": {
          "base_uri": "https://localhost:8080/"
        },
        "id": "Zaau3bHuBogz",
        "outputId": "0fb5e6cd-e11c-407c-a7a5-7a748055872c"
      },
      "source": [
        "cql = '''\n",
        "[char=\"龜\"] [char=\"[一-龜]\"]\n",
        "'''\n",
        "get_first_n(cql, 10)"
      ],
      "execution_count": 4,
      "outputs": [
        {
          "output_type": "execute_result",
          "data": {
            "text/plain": [
              "[<Concord 曰：「十戰{龜熸}，是荊人也>,\n",
              " <Concord 坤之卦，蓍{龜者}則卜筮之數>,\n",
              " <Concord ，毛蚡蜦；{龜知}，背負文。>,\n",
              " <Concord 尚生不死。{龜能}行氣導引。>,\n",
              " <Concord 為兒時，以{龜枝}床，至後老>,\n",
              " <Concord 死，移床，{龜尚}生不死。龜>,\n",
              " <Concord 為寶貨。元{龜為}蔡，非四民>,\n",
              " <Concord 也。脩肱而{龜背}，長九尺有>,\n",
              " <Concord 妖。時則有{龜孽}。時則有雞>,\n",
              " <Concord 起離體泉，{龜蛟}珠蛤。土為>]"
            ]
          },
          "metadata": {},
          "execution_count": 4
        }
      ]
    },
    {
      "cell_type": "markdown",
      "metadata": {
        "id": "hnyS9kPyBog0"
      },
      "source": [
        "## 2 Search by Character Component\n",
        "\n",
        "### 2.1 Radicals of all characters found in the corpus"
      ]
    },
    {
      "cell_type": "code",
      "metadata": {
        "colab": {
          "base_uri": "https://localhost:8080/"
        },
        "id": "aI2YlSJDBog1",
        "outputId": "c92efbfd-4f72-411a-bc4f-880ab53370c9"
      },
      "source": [
        "print(c.chr_radicals)"
      ],
      "execution_count": 5,
      "outputs": [
        {
          "output_type": "stream",
          "name": "stdout",
          "text": [
            "Building index for character radicals...\n",
            "{'', '風', '長', '齿', '鬥', '米', '鳥', '皮', '干', '阜', '木', '鬼', '韋', '釆', '亅', '玄', '辰', '宀', '刀', '支', '韭', '舟', '田', '饣', '止', '癶', '辵', '鱼', '夕', '馬', '弓', '示', '欠', '疋', '车', '龙', '方', '缶', '己', '爿', '隹', '鸟', '非', '士', '纟', '卜', '鼎', '乙', '革', '見', '豸', '走', '羊', '匕', '马', '麥', '寸', '麦', '身', '黑', '殳', '犬', '隶', '女', '黾', '甘', '亠', '页', '酉', '火', '心', '龍', '水', '韦', '卩', '氏', '虫', '豕', '人', '瓜', '爻', '牛', '口', '小', '毋', '儿', '目', '矛', '而', '玉', '鬯', '香', '廾', '雨', '龠', '手', '囗', '黍', '气', '角', '广', '文', '山', '戈', '邑', '门', '赤', '髟', '鼠', '几', '廴', '門', '里', '白', '鼻', '生', '麻', '见', '丶', '老', '臣', '土', '肉', '钅', '无', '襾', '艸', '日', '齒', '大', '爪', '鹿', '丿', '攴', '冂', '匚', '入', '言', '竹', '厂', '工', '黹', '自', '片', '足', '又', '谷', '耳', '斗', '弋', '一', '巾', '瓦', '子', '夊', '鼓', '彐', '石', '夂', '禸', '八', '豆', '彡', '禾', '月', '二', '高', '黽', '鬲', '勹', '皿', '飛', '矢', '毛', '臼', '尢', '力', '网', '聿', '风', '齊', '牙', '父', '龟', '至', '巛', '魚', '疒', '彳', '血', '衣', '車', '舛', '音', '色', '丨', '舌', '斤', '厶', '鹵', '屮', '虍', '曰', '頁', '辛', '靑', '贝', '冫', '首', '糸', '匸', '食', '冖', '骨', '艮', '黃', '龜', '耒', '凵', '比', '立', '幺', '用', '十', '讠', '面', '尸', '羽', '戶', '歹', '貝', '金', '穴', '行'}\n"
          ]
        }
      ]
    },
    {
      "cell_type": "code",
      "metadata": {
        "colab": {
          "base_uri": "https://localhost:8080/"
        },
        "id": "X6ad7C6NBog3",
        "outputId": "4773ec8a-a7ac-4c00-d22e-f553f72ffa8d"
      },
      "source": [
        "cql = '''\n",
        "[radical=\"立\"]\n",
        "'''\n",
        "get_first_n(cql, 10)"
      ],
      "execution_count": 6,
      "outputs": [
        {
          "output_type": "execute_result",
          "data": {
            "text/plain": [
              "[<Concord 从立昔聲。{䇑}：短人立䇑>,\n",
              " <Concord 䇑：短人立{䇑}䇑皃。从立>,\n",
              " <Concord ：短人立䇑{䇑}皃。从立卑>,\n",
              " <Concord 屬皆从立。{䇐}：臨也。从>,\n",
              " <Concord 琳就不會有{站}在台上的我>,\n",
              " <Concord 過一個急救{站}時，我看到>,\n",
              " <Concord 級的邊沿，{站}在那裡，好>,\n",
              " <Concord 雙腿發軟，{站}著打盹，重>,\n",
              " <Concord 錢其琛下一{站}的目的地。>,\n",
              " <Concord ，你並沒有{站}在我這一邊>]"
            ]
          },
          "metadata": {},
          "execution_count": 6
        }
      ]
    },
    {
      "cell_type": "markdown",
      "metadata": {
        "id": "UHXJKktKBog4"
      },
      "source": [
        "### 2.2 Ideographic Description Characters (IDCs)"
      ]
    },
    {
      "cell_type": "code",
      "metadata": {
        "colab": {
          "base_uri": "https://localhost:8080/"
        },
        "id": "m-R8F4-cBog5",
        "outputId": "a06164d5-6471-4c52-8b42-bcbfdf5e1794"
      },
      "source": [
        "c.chr_idcs"
      ],
      "execution_count": 7,
      "outputs": [
        {
          "output_type": "execute_result",
          "data": {
            "text/plain": [
              "{'curC': '⿷',\n",
              " 'encl': '⿴',\n",
              " 'horz2': '⿰',\n",
              " 'horz3': '⿲',\n",
              " 'over': '⿻',\n",
              " 'sur7': '⿹',\n",
              " 'surL': '⿺',\n",
              " 'surN': '⿵',\n",
              " 'surT': '⿸',\n",
              " 'surU': '⿶',\n",
              " 'vert2': '⿱',\n",
              " 'vert3': '⿳'}"
            ]
          },
          "metadata": {},
          "execution_count": 7
        }
      ]
    },
    {
      "cell_type": "code",
      "metadata": {
        "colab": {
          "base_uri": "https://localhost:8080/"
        },
        "id": "05n7FqGyBog6",
        "outputId": "ee90c950-f389-4faf-c4dc-e5dee903783d"
      },
      "source": [
        "from CompoTree import ComponentTree\n",
        "ctree = ComponentTree.load()\n",
        "\n",
        "for ch in \"杜李国叵\":\n",
        "    print(ch, ctree.ids_map.get(ch), sep=\": \")"
      ],
      "execution_count": 8,
      "outputs": [
        {
          "output_type": "stream",
          "name": "stdout",
          "text": [
            "杜: [<⿰:木土>]\n",
            "李: [<⿱:木子>]\n",
            "国: [<⿴:囗玉>]\n",
            "叵: [<⿷:匚口>]\n"
          ]
        }
      ]
    },
    {
      "cell_type": "code",
      "metadata": {
        "colab": {
          "base_uri": "https://localhost:8080/"
        },
        "id": "-6jcQBGrBog6",
        "outputId": "5bd1e3b0-ae93-4e32-b27c-e301f7f5cbc2"
      },
      "source": [
        "cql = '''\n",
        "[compo=\"木\" & idc=\"horz2\" & pos=\"0\"]\n",
        "'''\n",
        "get_first_n(cql, 5)"
      ],
      "execution_count": 9,
      "outputs": [
        {
          "output_type": "execute_result",
          "data": {
            "text/plain": [
              "[<Concord 梓。桋，赤{梀}，白者梀。>,\n",
              " <Concord 赤梀，白者{梀}。終，牛棘>,\n",
              " <Concord 謂之梁。」{梀}：短椽也。>,\n",
              " <Concord 、海楊、無{杧}；稀有長城>,\n",
              " <Concord 从木聖聲。{桺}：小楊也。>]"
            ]
          },
          "metadata": {},
          "execution_count": 9
        }
      ]
    },
    {
      "cell_type": "code",
      "metadata": {
        "colab": {
          "base_uri": "https://localhost:8080/"
        },
        "id": "dOyBy9yXBog7",
        "outputId": "5b6f1a33-c380-4d20-97a0-f2f501e489bb"
      },
      "source": [
        "cql = '''\n",
        "[compo=\"木\" & idc=\"horz2\" & pos=\"1\"]\n",
        "'''\n",
        "get_first_n(cql, 5)"
      ],
      "execution_count": 10,
      "outputs": [
        {
          "output_type": "execute_result",
          "data": {
            "text/plain": [
              "[<Concord ，寒蜩。蜓{蚞}，螇螰。蛣>,\n",
              " <Concord ，或謂之蜓{蚞}，西楚與秦>,\n",
              " <Concord ─昔者禹一{沐}而三捉髮，>,\n",
              " <Concord 吾聞之，新{沐}者必彈冠，>,\n",
              " <Concord 、饋羞、湯{沐}之饌，如他>]"
            ]
          },
          "metadata": {},
          "execution_count": 10
        }
      ]
    },
    {
      "cell_type": "code",
      "metadata": {
        "colab": {
          "base_uri": "https://localhost:8080/"
        },
        "id": "tKl_jBfKBog8",
        "outputId": "04243ca1-33cc-413d-8420-1bbb921c9a19"
      },
      "source": [
        "cql = '''\n",
        "[idc=\"encl\"] [idc=\"encl\"]\n",
        "'''\n",
        "get_first_n(cql, 5)"
      ],
      "execution_count": 11,
      "outputs": [
        {
          "output_type": "stream",
          "name": "stdout",
          "text": [
            "Building index for character IDCs...\n"
          ]
        },
        {
          "output_type": "execute_result",
          "data": {
            "text/plain": [
              "[<Concord 。命有司省{囹圄}，去桎梏，>,\n",
              " <Concord 修法制，繕{囹圄}，具桎梏，>,\n",
              " <Concord 廷門閭，筑{囹圄}，此所以助>,\n",
              " <Concord 加於民，而{囹圄}雖實，殺戮>,\n",
              " <Concord 。至於守司{囹圄}，禁制刑罰>]"
            ]
          },
          "metadata": {},
          "execution_count": 11
        }
      ]
    },
    {
      "cell_type": "markdown",
      "metadata": {
        "id": "2FcnQlQ5Bog8"
      },
      "source": [
        "## 3 Search by Phonetic Properties"
      ]
    },
    {
      "cell_type": "code",
      "metadata": {
        "colab": {
          "base_uri": "https://localhost:8080/"
        },
        "id": "_j7ewyyJDTf6",
        "outputId": "97a92e44-bf83-4cf8-d511-f9cccf629681"
      },
      "source": [
        "c.cql_attrs['CharPhonetic']"
      ],
      "execution_count": 12,
      "outputs": [
        {
          "output_type": "execute_result",
          "data": {
            "text/plain": [
              "{'moe': ['phon', 'tone', 'tp', 'sys=\"moe\"'],\n",
              " '廣韻': ['攝', '聲調', '韻母', '聲母', '開合', '等第', '反切', '拼音', 'IPA', 'sys=\"廣韻\"']}"
            ]
          },
          "metadata": {},
          "execution_count": 12
        }
      ]
    },
    {
      "cell_type": "markdown",
      "metadata": {
        "id": "OAUkhI1XxcaN"
      },
      "source": [
        "### 3.1 Mandarin (based on [萌典](https://github.com/g0v/moedict-data/blob/master/dict-revised.json)) "
      ]
    },
    {
      "cell_type": "code",
      "metadata": {
        "colab": {
          "base_uri": "https://localhost:8080/"
        },
        "id": "DUI5WI1TBog9",
        "outputId": "ce5a2905-c471-4993-9a0b-b2deac3f64d6"
      },
      "source": [
        "cql = '''\n",
        "[phon=\"ㄨㄥ\" & tone=\"1\" & sys=\"moe\"]\n",
        "'''\n",
        "get_first_n(cql, 5)"
      ],
      "execution_count": 13,
      "outputs": [
        {
          "output_type": "execute_result",
          "data": {
            "text/plain": [
              "[<Concord 哭泣不秩聲{翁}，縗絰垂涕>,\n",
              " <Concord ，黑文而赤{翁}，名曰櫟，>,\n",
              " <Concord 發猛，塤篪{翁}博，瑟易良>,\n",
              " <Concord 市朝也。而{翁}不爭焉，顧>,\n",
              " <Concord 昆吾；是使{翁}難卜於白若>]"
            ]
          },
          "metadata": {},
          "execution_count": 13
        }
      ]
    },
    {
      "cell_type": "code",
      "metadata": {
        "colab": {
          "base_uri": "https://localhost:8080/"
        },
        "id": "Cej-K7OTBog9",
        "outputId": "6e7eae19-3e10-4f66-973d-4f2b762be49a"
      },
      "source": [
        "cql = '''\n",
        "[phon=\"^pʰ\" & tp=\"ipa\" & sys=\"moe\"] [phon=\"^pʰ\" & tp=\"ipa\" & sys=\"moe\"]\n",
        "'''\n",
        "get_first_n(cql, 5)"
      ],
      "execution_count": 14,
      "outputs": [
        {
          "output_type": "execute_result",
          "data": {
            "text/plain": [
              "[<Concord 之可化。志{怦怦}而內直兮，>,\n",
              " <Concord 兮何極？心{怦怦}兮諒直。皇>,\n",
              " <Concord 提到，唐文{標批}評這篇以日>,\n",
              " <Concord 轉騰潎洌，{澎濞}沆瀣，穹隆>,\n",
              " <Concord 茫，在廣漠{澎湃}的黑暗深處>]"
            ]
          },
          "metadata": {},
          "execution_count": 14
        }
      ]
    },
    {
      "cell_type": "markdown",
      "metadata": {
        "id": "yVFOR9FkyFG7"
      },
      "source": [
        "### 3.2 中古漢語 (based on [廣韻](https://zhuanlan.zhihu.com/p/20430939))"
      ]
    },
    {
      "cell_type": "code",
      "metadata": {
        "colab": {
          "base_uri": "https://localhost:8080/"
        },
        "id": "KjcJZTMj08Gb",
        "outputId": "7a81d7e1-c1a8-4deb-807f-f89f6d904408"
      },
      "source": [
        "cql = '''\n",
        "[韻母=\"東\" & 聲調=\"平\" & sys=\"廣韻\"]\n",
        "'''\n",
        "get_first_n(cql, 5)"
      ],
      "execution_count": 15,
      "outputs": [
        {
          "output_type": "execute_result",
          "data": {
            "text/plain": [
              "[<Concord 堵牆，動如{風}雨，車不結>,\n",
              " <Concord 于大麓，烈{風}雷雨弗迷。>,\n",
              " <Concord 以治，四方{風}動，惟乃之>,\n",
              " <Concord ，大雷電以{風}，王逆周文>,\n",
              " <Concord 澤有九藪，{風}有八等，水>]"
            ]
          },
          "metadata": {},
          "execution_count": 15
        }
      ]
    }
  ]
}