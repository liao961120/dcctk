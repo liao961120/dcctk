{
 "cells": [
  {
   "cell_type": "markdown",
   "metadata": {
    "colab_type": "text",
    "id": "view-in-github"
   },
   "source": [
    "<a href=\"https://colab.research.google.com/github/liao961120/hctk/blob/main/docs_source/nb/charQuery.ipynb\" target=\"_parent\"><img src=\"https://colab.research.google.com/assets/colab-badge.svg\" alt=\"Open In Colab\"/></a>"
   ]
  },
  {
   "cell_type": "code",
   "execution_count": null,
   "metadata": {
    "colab": {
     "base_uri": "https://localhost:8080/"
    },
    "id": "5P99extNBogu",
    "outputId": "8e1b7843-aea5-408e-b4a5-8ee195ce37d1"
   },
   "outputs": [
    {
     "name": "stdout",
     "output_type": "stream",
     "text": [
      "Downloading...\n",
      "From: https://github.com/liao961120/hctk/raw/main/test/data.zip\n",
      "To: /content/data.zip\n",
      "100% 12.3M/12.3M [00:00<00:00, 108MB/s]\n",
      "\u001b[K     / 1.7 MB 638 kB/s\n",
      "\u001b[?25h  Building wheel for CompoTree (setup.py) ... \u001b[?25l\u001b[?25hdone\n",
      "\u001b[K     |████████████████████████████████| 467 kB 16.6 MB/s \n",
      "\u001b[K     |████████████████████████████████| 596 kB 55.8 MB/s \n",
      "\u001b[K     |████████████████████████████████| 256 kB 55.2 MB/s \n",
      "\u001b[?25h  Installing build dependencies ... \u001b[?25l\u001b[?25hdone\n",
      "  Getting requirements to build wheel ... \u001b[?25l\u001b[?25hdone\n",
      "    Preparing wheel metadata ... \u001b[?25l\u001b[?25hdone\n",
      "  Building wheel for gdown (PEP 517) ... \u001b[?25l\u001b[?25hdone\n"
     ]
    }
   ],
   "source": [
    "!gdown https://github.com/liao961120/hctk/raw/main/test/data.zip\n",
    "!unzip -q data.zip\n",
    "!pip install -q https://github.com/liao961120/CompoTree/tarball/main\n",
    "!pip install -qU hctk"
   ]
  },
  {
   "cell_type": "code",
   "execution_count": null,
   "metadata": {
    "colab": {
     "base_uri": "https://localhost:8080/",
     "height": 115,
     "referenced_widgets": [
      "931099df1a26438a83ac9c3804105366",
      "914517dbf0d3453bb96f441925217837",
      "fc59bab9651d47749533eaba0f6db681",
      "c36fbbf5f8594972a8341f0a9fa0914e",
      "b856225930994d99af9af7db9a4e219f",
      "a25fcffc28d04d0489662224467d8882",
      "7265cafc393547ea87c31afea9edd643",
      "ccde037a7e7345db8f9a9d84d53c5aa8",
      "5310bc9de5dd48f2ba553dcd800c2882",
      "4cc9374f642f406f967a5c7338767354",
      "dfde22da4cc9440ab93988818135ef43",
      "3a39737aff2645aea9f8e04dfaf3850c",
      "98e7a23aabde4a6495df0a834e7915be",
      "3ba7f2336fe14b719c9e7aead430da53",
      "eb100af3a268499c8c333851581c45ac",
      "14bf8c9a124445ac900725b75a2acd8b",
      "a4213c8bd6b9403780f5a19f8fa0711a",
      "6f8ee7f5cc6c4e119d47e54ca83e9d8f",
      "3ae08749565c401fbc6c7278c2245277",
      "786ed844b5b24e5587bcab67d327be7b",
      "c144de780d044bbdb487200747722322",
      "dadc608b8dd347d5a8933ffb540cf465"
     ]
    },
    "id": "uB5Op8IuBogw",
    "outputId": "07996630-f10a-444c-c3b6-f4f646969edb"
   },
   "outputs": [
    {
     "name": "stdout",
     "output_type": "stream",
     "text": [
      "Indexing corpus for text retrival...\n"
     ]
    },
    {
     "data": {
      "application/vnd.jupyter.widget-view+json": {
       "model_id": "931099df1a26438a83ac9c3804105366",
       "version_major": 2,
       "version_minor": 0
      },
      "text/plain": [
       "  0%|          | 0/5 [00:00<?, ?it/s]"
      ]
     },
     "metadata": {},
     "output_type": "display_data"
    },
    {
     "name": "stdout",
     "output_type": "stream",
     "text": [
      "Indexing corpus for concordance search...\n"
     ]
    },
    {
     "data": {
      "application/vnd.jupyter.widget-view+json": {
       "model_id": "3a39737aff2645aea9f8e04dfaf3850c",
       "version_major": 2,
       "version_minor": 0
      },
      "text/plain": [
       "  0%|          | 0/5 [00:00<?, ?it/s]"
      ]
     },
     "metadata": {},
     "output_type": "display_data"
    }
   ],
   "source": [
    "from hctk import PlainTextReader\n",
    "from hctk import Concordancer\n",
    "\n",
    "c = Concordancer(PlainTextReader(\"data/\").corpus)"
   ]
  },
  {
   "cell_type": "code",
   "execution_count": null,
   "metadata": {
    "id": "esfml6EkBogy"
   },
   "outputs": [],
   "source": [
    "def get_first_n(cql, n=10):\n",
    "    out = []\n",
    "    for i, result in enumerate(c.cql_search(cql)):\n",
    "        if i == n: break\n",
    "        out.append(result)\n",
    "    return out"
   ]
  },
  {
   "cell_type": "markdown",
   "metadata": {
    "id": "IPf2VPo4Bogy"
   },
   "source": [
    "## 1 Search by Character"
   ]
  },
  {
   "cell_type": "code",
   "execution_count": null,
   "metadata": {
    "colab": {
     "base_uri": "https://localhost:8080/"
    },
    "id": "Zaau3bHuBogz",
    "outputId": "03360da2-baf4-4a16-ba8b-13e49d994a11"
   },
   "outputs": [
    {
     "data": {
      "text/plain": [
       "[<Concord 曰：「十戰{龜熸}，是荊人也>,\n",
       " <Concord 坤之卦，蓍{龜者}則卜筮之數>,\n",
       " <Concord ，毛蚡蜦；{龜知}，背負文。>,\n",
       " <Concord 尚生不死。{龜能}行氣導引。>,\n",
       " <Concord 為兒時，以{龜枝}床，至後老>,\n",
       " <Concord 死，移床，{龜尚}生不死。龜>,\n",
       " <Concord 為寶貨。元{龜為}蔡，非四民>,\n",
       " <Concord 也。脩肱而{龜背}，長九尺有>,\n",
       " <Concord 妖。時則有{龜孽}。時則有雞>,\n",
       " <Concord 起離體泉，{龜蛟}珠蛤。土為>]"
      ]
     },
     "execution_count": 8,
     "metadata": {},
     "output_type": "execute_result"
    }
   ],
   "source": [
    "cql = '''\n",
    "[char=\"龜\"] [char=\"[一-龜]\"]\n",
    "'''\n",
    "get_first_n(cql, 10)"
   ]
  },
  {
   "cell_type": "markdown",
   "metadata": {
    "id": "hnyS9kPyBog0"
   },
   "source": [
    "## 2 Search by Character Component\n",
    "\n",
    "### 2.1 Radicals of all characters found in the corpus"
   ]
  },
  {
   "cell_type": "code",
   "execution_count": null,
   "metadata": {
    "colab": {
     "base_uri": "https://localhost:8080/"
    },
    "id": "aI2YlSJDBog1",
    "outputId": "3530a2c2-c12c-43da-bf15-5c2a96aaf8f9"
   },
   "outputs": [
    {
     "name": "stdout",
     "output_type": "stream",
     "text": [
      "Building index for character radicals...\n",
      "{'', '辰', '韭', '夂', '厶', '老', '人', '亠', '巛', '豸', '鱼', '黾', '貝', '一', '饣', '寸', '自', '革', '爿', '玉', '讠', '鼻', '長', '车', '止', '卩', '齿', '辛', '黑', '欠', '山', '口', '艮', '示', '木', '女', '彳', '宀', '儿', '又', '羽', '而', '尢', '鬯', '耳', '瓦', '麦', '首', '攴', '目', '鹿', '几', '犬', '小', '勹', '里', '禾', '矛', '白', '彡', '彐', '骨', '肉', '匕', '鼎', '夕', '缶', '韋', '豕', '囗', '亅', '入', '冫', '方', '龠', '金', '页', '门', '氏', '父', '見', '冂', '飛', '靑', '魚', '風', '文', '酉', '赤', '丨', '廾', '麥', '走', '食', '屮', '疒', '甘', '衣', '斤', '鳥', '虫', '阜', '黃', '力', '廴', '疋', '牙', '歹', '鬥', '言', '广', '匚', '田', '八', '馬', '穴', '凵', '鼠', '曰', '干', '臣', '大', '谷', '鹵', '音', '马', '齒', '黍', '龟', '无', '巾', '皮', '車', '鸟', '糸', '瓜', '邑', '风', '米', '黹', '见', '乙', '网', '土', '髟', '雨', '面', '癶', '麻', '工', '纟', '生', '角', '心', '艸', '皿', '隶', '二', '行', '舌', '鬲', '辵', '立', '斗', '高', '毋', '矢', '虍', '用', '十', '龍', '幺', '子', '隹', '身', '黽', '匸', '戈', '弓', '殳', '士', '襾', '聿', '石', '頁', '羊', '冖', '鬼', '禸', '齊', '爪', '香', '足', '玄', '厂', '尸', '弋', '水', '比', '火', '豆', '釆', '刀', '舛', '門', '戶', '丶', '手', '臼', '竹', '丿', '毛', '气', '己', '月', '片', '钅', '鼓', '爻', '耒', '支', '至', '舟', '韦', '龙', '龜', '日', '色', '血', '贝', '非', '卜', '牛', '夊'}\n"
     ]
    }
   ],
   "source": [
    "print(c.chr_radicals)"
   ]
  },
  {
   "cell_type": "code",
   "execution_count": null,
   "metadata": {
    "colab": {
     "base_uri": "https://localhost:8080/"
    },
    "id": "X6ad7C6NBog3",
    "outputId": "57aa2a87-0107-4665-a921-e5aea4b1d73c"
   },
   "outputs": [
    {
     "data": {
      "text/plain": [
       "[<Concord 屬皆从立。{䇐}：臨也。从>,\n",
       " <Concord 》有竘匠。{竵}：不正也。>,\n",
       " <Concord 果也。从艸{竘}聲。芘：艸>,\n",
       " <Concord 。其始成，{竘}然善也，而>,\n",
       " <Concord 从立矣聲。{竘}：健也。一>,\n",
       " <Concord 逸周書》有{竘}匠。竵：不>,\n",
       " <Concord 雍高寢。葬{竘}社。生共公>,\n",
       " <Concord 者謂之茹。{竘}、貌，治也>,\n",
       " <Concord 吳越飾貌為{竘}，或謂之巧>,\n",
       " <Concord 不正。誰：{𥩵}石、壘石耳>]"
      ]
     },
     "execution_count": 10,
     "metadata": {},
     "output_type": "execute_result"
    }
   ],
   "source": [
    "cql = '''\n",
    "[radical=\"立\"]\n",
    "'''\n",
    "get_first_n(cql, 10)"
   ]
  },
  {
   "cell_type": "markdown",
   "metadata": {
    "id": "UHXJKktKBog4"
   },
   "source": [
    "### 2.2 Ideographic Description Characters (IDCs)"
   ]
  },
  {
   "cell_type": "code",
   "execution_count": null,
   "metadata": {
    "colab": {
     "base_uri": "https://localhost:8080/"
    },
    "id": "m-R8F4-cBog5",
    "outputId": "0298c11c-c249-45a0-b90f-5317ac31d362"
   },
   "outputs": [
    {
     "data": {
      "text/plain": [
       "{'curC': '⿷',\n",
       " 'encl': '⿴',\n",
       " 'horz2': '⿰',\n",
       " 'horz3': '⿲',\n",
       " 'over': '⿻',\n",
       " 'sur7': '⿹',\n",
       " 'surL': '⿺',\n",
       " 'surN': '⿵',\n",
       " 'surT': '⿸',\n",
       " 'surU': '⿶',\n",
       " 'vert2': '⿱',\n",
       " 'vert3': '⿳'}"
      ]
     },
     "execution_count": 11,
     "metadata": {},
     "output_type": "execute_result"
    }
   ],
   "source": [
    "c.chr_idcs"
   ]
  },
  {
   "cell_type": "code",
   "execution_count": null,
   "metadata": {
    "colab": {
     "base_uri": "https://localhost:8080/"
    },
    "id": "05n7FqGyBog6",
    "outputId": "2f7ea638-5bf8-43ef-d790-7fa52e0d8dd5"
   },
   "outputs": [
    {
     "name": "stdout",
     "output_type": "stream",
     "text": [
      "杜: [<⿰:木土>]\n",
      "李: [<⿱:木子>]\n",
      "国: [<⿴:囗玉>]\n",
      "叵: [<⿷:匚口>]\n"
     ]
    }
   ],
   "source": [
    "from CompoTree import ComponentTree\n",
    "ctree = ComponentTree.load()\n",
    "\n",
    "for ch in \"杜李国叵\":\n",
    "    print(ch, ctree.ids_map.get(ch), sep=\": \")"
   ]
  },
  {
   "cell_type": "code",
   "execution_count": null,
   "metadata": {
    "colab": {
     "base_uri": "https://localhost:8080/"
    },
    "id": "-6jcQBGrBog6",
    "outputId": "e911ffcc-7f56-4b34-9673-b35b802b330c"
   },
   "outputs": [
    {
     "data": {
      "text/plain": [
       "[<Concord 从木夋聲。{㮿}：木也。从>,\n",
       " <Concord 焉，名曰天{楄}，方莖而葵>,\n",
       " <Concord 从木圂聲。{楄}：楄部，方>,\n",
       " <Concord 圂聲。楄：{楄}部，方木也>,\n",
       " <Concord 傳》曰：「{楄}部薦榦。」>]"
      ]
     },
     "execution_count": 13,
     "metadata": {},
     "output_type": "execute_result"
    }
   ],
   "source": [
    "cql = '''\n",
    "[compo=\"木\" & idc=\"horz2\" & pos=\"0\"]\n",
    "'''\n",
    "get_first_n(cql, 5)"
   ]
  },
  {
   "cell_type": "code",
   "execution_count": null,
   "metadata": {
    "colab": {
     "base_uri": "https://localhost:8080/"
    },
    "id": "dOyBy9yXBog7",
    "outputId": "b6685906-6169-47f4-ee4e-545e63548356"
   },
   "outputs": [
    {
     "data": {
      "text/plain": [
       "[<Concord ─昔者禹一{沐}而三捉髮，>,\n",
       " <Concord 吾聞之，新{沐}者必彈冠，>,\n",
       " <Concord 、饋羞、湯{沐}之饌，如他>,\n",
       " <Concord 振其衣，新{沐}者彈其冠，>,\n",
       " <Concord 使致封地湯{沐}之邑，貴戚>]"
      ]
     },
     "execution_count": 14,
     "metadata": {},
     "output_type": "execute_result"
    }
   ],
   "source": [
    "cql = '''\n",
    "[compo=\"木\" & idc=\"horz2\" & pos=\"1\"]\n",
    "'''\n",
    "get_first_n(cql, 5)"
   ]
  },
  {
   "cell_type": "code",
   "execution_count": null,
   "metadata": {
    "colab": {
     "base_uri": "https://localhost:8080/"
    },
    "id": "tKl_jBfKBog8",
    "outputId": "397c83f6-00cb-4807-c454-ae53af7646b2"
   },
   "outputs": [
    {
     "name": "stdout",
     "output_type": "stream",
     "text": [
      "Building index for character IDCs...\n"
     ]
    },
    {
     "data": {
      "text/plain": [
       "[<Concord 行天下，雖{困四}夷，人莫不>,\n",
       " <Concord 行天下，雖{困四}夷，人莫不>,\n",
       " <Concord 供，以故民{困國}虛，亡累年>,\n",
       " <Concord 巫。漢王之{困固}陵，用張良>,\n",
       " <Concord 來抱怨。貧{困固}然是辛苦的>]"
      ]
     },
     "execution_count": 15,
     "metadata": {},
     "output_type": "execute_result"
    }
   ],
   "source": [
    "cql = '''\n",
    "[idc=\"encl\"] [idc=\"encl\"]\n",
    "'''\n",
    "get_first_n(cql, 5)"
   ]
  },
  {
   "cell_type": "markdown",
   "metadata": {
    "id": "2FcnQlQ5Bog8"
   },
   "source": [
    "## 3 Search by Phonetic Properties"
   ]
  },
  {
   "cell_type": "code",
   "execution_count": null,
   "metadata": {
    "colab": {
     "base_uri": "https://localhost:8080/"
    },
    "id": "_j7ewyyJDTf6",
    "outputId": "39b1e5de-657f-49b5-ac5b-2fafbbf4e56a"
   },
   "outputs": [
    {
     "data": {
      "text/plain": [
       "{'moe': ['phon', 'tone', 'tp', 'sys=\"moe\"'],\n",
       " '廣韻': ['攝', '聲調', '韻母', '聲母', '開合', '等第', '反切', '拼音', 'IPA', 'sys=\"廣韻\"']}"
      ]
     },
     "execution_count": 18,
     "metadata": {},
     "output_type": "execute_result"
    }
   ],
   "source": [
    "c.cql_attrs['CharPhonetic']"
   ]
  },
  {
   "cell_type": "markdown",
   "metadata": {
    "id": "OAUkhI1XxcaN"
   },
   "source": [
    "### 3.1 Mandarin (based on [萌典](https://github.com/g0v/moedict-data/blob/master/dict-revised.json)) "
   ]
  },
  {
   "cell_type": "code",
   "execution_count": null,
   "metadata": {
    "colab": {
     "base_uri": "https://localhost:8080/"
    },
    "id": "DUI5WI1TBog9",
    "outputId": "43b85f38-6ee0-4883-a815-6fde01dc4a85"
   },
   "outputs": [
    {
     "data": {
      "text/plain": [
       "[<Concord 哭泣不秩聲{翁}，縗絰垂涕>,\n",
       " <Concord ，黑文而赤{翁}，名曰櫟，>,\n",
       " <Concord 發猛，塤篪{翁}博，瑟易良>,\n",
       " <Concord 市朝也。而{翁}不爭焉，顧>,\n",
       " <Concord 昆吾；是使{翁}難卜於白若>]"
      ]
     },
     "execution_count": 16,
     "metadata": {},
     "output_type": "execute_result"
    }
   ],
   "source": [
    "cql = '''\n",
    "[phon=\"ㄨㄥ\" & tone=\"1\" & sys=\"moe\"]\n",
    "'''\n",
    "get_first_n(cql, 5)"
   ]
  },
  {
   "cell_type": "code",
   "execution_count": null,
   "metadata": {
    "colab": {
     "base_uri": "https://localhost:8080/"
    },
    "id": "Cej-K7OTBog9",
    "outputId": "e8521f95-8fdd-4d83-f63b-972c3ee98aba"
   },
   "outputs": [
    {
     "data": {
      "text/plain": [
       "[<Concord 馬瘏矣、我{僕痡}矣、云何吁>,\n",
       " <Concord 鼎肉，使己{僕僕}爾亟拜也，>,\n",
       " <Concord 》曰：「我{僕痡}矣。」瘽：>,\n",
       " <Concord 王孫苦疾，{僕迫}從上祠雍，>,\n",
       " <Concord 已次椒丘，{僕便}還去，明日>]"
      ]
     },
     "execution_count": 17,
     "metadata": {},
     "output_type": "execute_result"
    }
   ],
   "source": [
    "cql = '''\n",
    "[phon=\"^pʰ\" & tp=\"ipa\" & sys=\"moe\"] [phon=\"^pʰ\" & tp=\"ipa\" & sys=\"moe\"]\n",
    "'''\n",
    "get_first_n(cql, 5)"
   ]
  },
  {
   "cell_type": "markdown",
   "metadata": {
    "id": "yVFOR9FkyFG7"
   },
   "source": [
    "### 3.2 中古漢語 (based on [廣韻](https://zhuanlan.zhihu.com/p/20430939))"
   ]
  },
  {
   "cell_type": "code",
   "execution_count": null,
   "metadata": {
    "colab": {
     "base_uri": "https://localhost:8080/"
    },
    "id": "KjcJZTMj08Gb",
    "outputId": "f3b90ebe-4424-4a97-8499-03e330bf37ff"
   },
   "outputs": [
    {
     "data": {
      "text/plain": [
       "[<Concord 也。古者民{藂}生而群處亂>,\n",
       " <Concord 士也，其榛{藂}刺虎豹者，>,\n",
       " <Concord ：「萑葦有{藂}。」《呂氏>,\n",
       " <Concord ，萑葦而有{藂}，言物類之>,\n",
       " <Concord 有之；萬民{藂}藂，一人理>]"
      ]
     },
     "execution_count": 19,
     "metadata": {},
     "output_type": "execute_result"
    }
   ],
   "source": [
    "cql = '''\n",
    "[韻母=\"東\" & 聲調=\"平\" & sys=\"廣韻\"]\n",
    "'''\n",
    "get_first_n(cql, 5)"
   ]
  }
 ],
 "metadata": {
  "colab": {
   "include_colab_link": true,
   "name": "charQuery.ipynb",
   "provenance": [],
   "toc_visible": true
  },
  "kernelspec": {
   "display_name": "py3.8",
   "language": "python",
   "name": "py3.8"
  },
  "language_info": {
   "codemirror_mode": {
    "name": "ipython",
    "version": 3
   },
   "file_extension": ".py",
   "mimetype": "text/x-python",
   "name": "python",
   "nbconvert_exporter": "python",
   "pygments_lexer": "ipython3",
   "version": "3.8.10"
  },
  "widgets": {
   "application/vnd.jupyter.widget-state+json": {
    "14bf8c9a124445ac900725b75a2acd8b": {
     "model_module": "@jupyter-widgets/controls",
     "model_module_version": "1.5.0",
     "model_name": "HTMLModel",
     "state": {
      "_dom_classes": [],
      "_model_module": "@jupyter-widgets/controls",
      "_model_module_version": "1.5.0",
      "_model_name": "HTMLModel",
      "_view_count": null,
      "_view_module": "@jupyter-widgets/controls",
      "_view_module_version": "1.5.0",
      "_view_name": "HTMLView",
      "description": "",
      "description_tooltip": null,
      "layout": "IPY_MODEL_dadc608b8dd347d5a8933ffb540cf465",
      "placeholder": "​",
      "style": "IPY_MODEL_c144de780d044bbdb487200747722322",
      "value": " 5/5 [00:04&lt;00:00,  1.09it/s]"
     }
    },
    "3a39737aff2645aea9f8e04dfaf3850c": {
     "model_module": "@jupyter-widgets/controls",
     "model_module_version": "1.5.0",
     "model_name": "HBoxModel",
     "state": {
      "_dom_classes": [],
      "_model_module": "@jupyter-widgets/controls",
      "_model_module_version": "1.5.0",
      "_model_name": "HBoxModel",
      "_view_count": null,
      "_view_module": "@jupyter-widgets/controls",
      "_view_module_version": "1.5.0",
      "_view_name": "HBoxView",
      "box_style": "",
      "children": [
       "IPY_MODEL_3ba7f2336fe14b719c9e7aead430da53",
       "IPY_MODEL_eb100af3a268499c8c333851581c45ac",
       "IPY_MODEL_14bf8c9a124445ac900725b75a2acd8b"
      ],
      "layout": "IPY_MODEL_98e7a23aabde4a6495df0a834e7915be"
     }
    },
    "3ae08749565c401fbc6c7278c2245277": {
     "model_module": "@jupyter-widgets/controls",
     "model_module_version": "1.5.0",
     "model_name": "ProgressStyleModel",
     "state": {
      "_model_module": "@jupyter-widgets/controls",
      "_model_module_version": "1.5.0",
      "_model_name": "ProgressStyleModel",
      "_view_count": null,
      "_view_module": "@jupyter-widgets/base",
      "_view_module_version": "1.2.0",
      "_view_name": "StyleView",
      "bar_color": null,
      "description_width": ""
     }
    },
    "3ba7f2336fe14b719c9e7aead430da53": {
     "model_module": "@jupyter-widgets/controls",
     "model_module_version": "1.5.0",
     "model_name": "HTMLModel",
     "state": {
      "_dom_classes": [],
      "_model_module": "@jupyter-widgets/controls",
      "_model_module_version": "1.5.0",
      "_model_name": "HTMLModel",
      "_view_count": null,
      "_view_module": "@jupyter-widgets/controls",
      "_view_module_version": "1.5.0",
      "_view_name": "HTMLView",
      "description": "",
      "description_tooltip": null,
      "layout": "IPY_MODEL_6f8ee7f5cc6c4e119d47e54ca83e9d8f",
      "placeholder": "​",
      "style": "IPY_MODEL_a4213c8bd6b9403780f5a19f8fa0711a",
      "value": "100%"
     }
    },
    "4cc9374f642f406f967a5c7338767354": {
     "model_module": "@jupyter-widgets/controls",
     "model_module_version": "1.5.0",
     "model_name": "DescriptionStyleModel",
     "state": {
      "_model_module": "@jupyter-widgets/controls",
      "_model_module_version": "1.5.0",
      "_model_name": "DescriptionStyleModel",
      "_view_count": null,
      "_view_module": "@jupyter-widgets/base",
      "_view_module_version": "1.2.0",
      "_view_name": "StyleView",
      "description_width": ""
     }
    },
    "5310bc9de5dd48f2ba553dcd800c2882": {
     "model_module": "@jupyter-widgets/base",
     "model_module_version": "1.2.0",
     "model_name": "LayoutModel",
     "state": {
      "_model_module": "@jupyter-widgets/base",
      "_model_module_version": "1.2.0",
      "_model_name": "LayoutModel",
      "_view_count": null,
      "_view_module": "@jupyter-widgets/base",
      "_view_module_version": "1.2.0",
      "_view_name": "LayoutView",
      "align_content": null,
      "align_items": null,
      "align_self": null,
      "border": null,
      "bottom": null,
      "display": null,
      "flex": null,
      "flex_flow": null,
      "grid_area": null,
      "grid_auto_columns": null,
      "grid_auto_flow": null,
      "grid_auto_rows": null,
      "grid_column": null,
      "grid_gap": null,
      "grid_row": null,
      "grid_template_areas": null,
      "grid_template_columns": null,
      "grid_template_rows": null,
      "height": null,
      "justify_content": null,
      "justify_items": null,
      "left": null,
      "margin": null,
      "max_height": null,
      "max_width": null,
      "min_height": null,
      "min_width": null,
      "object_fit": null,
      "object_position": null,
      "order": null,
      "overflow": null,
      "overflow_x": null,
      "overflow_y": null,
      "padding": null,
      "right": null,
      "top": null,
      "visibility": null,
      "width": null
     }
    },
    "6f8ee7f5cc6c4e119d47e54ca83e9d8f": {
     "model_module": "@jupyter-widgets/base",
     "model_module_version": "1.2.0",
     "model_name": "LayoutModel",
     "state": {
      "_model_module": "@jupyter-widgets/base",
      "_model_module_version": "1.2.0",
      "_model_name": "LayoutModel",
      "_view_count": null,
      "_view_module": "@jupyter-widgets/base",
      "_view_module_version": "1.2.0",
      "_view_name": "LayoutView",
      "align_content": null,
      "align_items": null,
      "align_self": null,
      "border": null,
      "bottom": null,
      "display": null,
      "flex": null,
      "flex_flow": null,
      "grid_area": null,
      "grid_auto_columns": null,
      "grid_auto_flow": null,
      "grid_auto_rows": null,
      "grid_column": null,
      "grid_gap": null,
      "grid_row": null,
      "grid_template_areas": null,
      "grid_template_columns": null,
      "grid_template_rows": null,
      "height": null,
      "justify_content": null,
      "justify_items": null,
      "left": null,
      "margin": null,
      "max_height": null,
      "max_width": null,
      "min_height": null,
      "min_width": null,
      "object_fit": null,
      "object_position": null,
      "order": null,
      "overflow": null,
      "overflow_x": null,
      "overflow_y": null,
      "padding": null,
      "right": null,
      "top": null,
      "visibility": null,
      "width": null
     }
    },
    "7265cafc393547ea87c31afea9edd643": {
     "model_module": "@jupyter-widgets/base",
     "model_module_version": "1.2.0",
     "model_name": "LayoutModel",
     "state": {
      "_model_module": "@jupyter-widgets/base",
      "_model_module_version": "1.2.0",
      "_model_name": "LayoutModel",
      "_view_count": null,
      "_view_module": "@jupyter-widgets/base",
      "_view_module_version": "1.2.0",
      "_view_name": "LayoutView",
      "align_content": null,
      "align_items": null,
      "align_self": null,
      "border": null,
      "bottom": null,
      "display": null,
      "flex": null,
      "flex_flow": null,
      "grid_area": null,
      "grid_auto_columns": null,
      "grid_auto_flow": null,
      "grid_auto_rows": null,
      "grid_column": null,
      "grid_gap": null,
      "grid_row": null,
      "grid_template_areas": null,
      "grid_template_columns": null,
      "grid_template_rows": null,
      "height": null,
      "justify_content": null,
      "justify_items": null,
      "left": null,
      "margin": null,
      "max_height": null,
      "max_width": null,
      "min_height": null,
      "min_width": null,
      "object_fit": null,
      "object_position": null,
      "order": null,
      "overflow": null,
      "overflow_x": null,
      "overflow_y": null,
      "padding": null,
      "right": null,
      "top": null,
      "visibility": null,
      "width": null
     }
    },
    "786ed844b5b24e5587bcab67d327be7b": {
     "model_module": "@jupyter-widgets/base",
     "model_module_version": "1.2.0",
     "model_name": "LayoutModel",
     "state": {
      "_model_module": "@jupyter-widgets/base",
      "_model_module_version": "1.2.0",
      "_model_name": "LayoutModel",
      "_view_count": null,
      "_view_module": "@jupyter-widgets/base",
      "_view_module_version": "1.2.0",
      "_view_name": "LayoutView",
      "align_content": null,
      "align_items": null,
      "align_self": null,
      "border": null,
      "bottom": null,
      "display": null,
      "flex": null,
      "flex_flow": null,
      "grid_area": null,
      "grid_auto_columns": null,
      "grid_auto_flow": null,
      "grid_auto_rows": null,
      "grid_column": null,
      "grid_gap": null,
      "grid_row": null,
      "grid_template_areas": null,
      "grid_template_columns": null,
      "grid_template_rows": null,
      "height": null,
      "justify_content": null,
      "justify_items": null,
      "left": null,
      "margin": null,
      "max_height": null,
      "max_width": null,
      "min_height": null,
      "min_width": null,
      "object_fit": null,
      "object_position": null,
      "order": null,
      "overflow": null,
      "overflow_x": null,
      "overflow_y": null,
      "padding": null,
      "right": null,
      "top": null,
      "visibility": null,
      "width": null
     }
    },
    "914517dbf0d3453bb96f441925217837": {
     "model_module": "@jupyter-widgets/base",
     "model_module_version": "1.2.0",
     "model_name": "LayoutModel",
     "state": {
      "_model_module": "@jupyter-widgets/base",
      "_model_module_version": "1.2.0",
      "_model_name": "LayoutModel",
      "_view_count": null,
      "_view_module": "@jupyter-widgets/base",
      "_view_module_version": "1.2.0",
      "_view_name": "LayoutView",
      "align_content": null,
      "align_items": null,
      "align_self": null,
      "border": null,
      "bottom": null,
      "display": null,
      "flex": null,
      "flex_flow": null,
      "grid_area": null,
      "grid_auto_columns": null,
      "grid_auto_flow": null,
      "grid_auto_rows": null,
      "grid_column": null,
      "grid_gap": null,
      "grid_row": null,
      "grid_template_areas": null,
      "grid_template_columns": null,
      "grid_template_rows": null,
      "height": null,
      "justify_content": null,
      "justify_items": null,
      "left": null,
      "margin": null,
      "max_height": null,
      "max_width": null,
      "min_height": null,
      "min_width": null,
      "object_fit": null,
      "object_position": null,
      "order": null,
      "overflow": null,
      "overflow_x": null,
      "overflow_y": null,
      "padding": null,
      "right": null,
      "top": null,
      "visibility": null,
      "width": null
     }
    },
    "931099df1a26438a83ac9c3804105366": {
     "model_module": "@jupyter-widgets/controls",
     "model_module_version": "1.5.0",
     "model_name": "HBoxModel",
     "state": {
      "_dom_classes": [],
      "_model_module": "@jupyter-widgets/controls",
      "_model_module_version": "1.5.0",
      "_model_name": "HBoxModel",
      "_view_count": null,
      "_view_module": "@jupyter-widgets/controls",
      "_view_module_version": "1.5.0",
      "_view_name": "HBoxView",
      "box_style": "",
      "children": [
       "IPY_MODEL_fc59bab9651d47749533eaba0f6db681",
       "IPY_MODEL_c36fbbf5f8594972a8341f0a9fa0914e",
       "IPY_MODEL_b856225930994d99af9af7db9a4e219f"
      ],
      "layout": "IPY_MODEL_914517dbf0d3453bb96f441925217837"
     }
    },
    "98e7a23aabde4a6495df0a834e7915be": {
     "model_module": "@jupyter-widgets/base",
     "model_module_version": "1.2.0",
     "model_name": "LayoutModel",
     "state": {
      "_model_module": "@jupyter-widgets/base",
      "_model_module_version": "1.2.0",
      "_model_name": "LayoutModel",
      "_view_count": null,
      "_view_module": "@jupyter-widgets/base",
      "_view_module_version": "1.2.0",
      "_view_name": "LayoutView",
      "align_content": null,
      "align_items": null,
      "align_self": null,
      "border": null,
      "bottom": null,
      "display": null,
      "flex": null,
      "flex_flow": null,
      "grid_area": null,
      "grid_auto_columns": null,
      "grid_auto_flow": null,
      "grid_auto_rows": null,
      "grid_column": null,
      "grid_gap": null,
      "grid_row": null,
      "grid_template_areas": null,
      "grid_template_columns": null,
      "grid_template_rows": null,
      "height": null,
      "justify_content": null,
      "justify_items": null,
      "left": null,
      "margin": null,
      "max_height": null,
      "max_width": null,
      "min_height": null,
      "min_width": null,
      "object_fit": null,
      "object_position": null,
      "order": null,
      "overflow": null,
      "overflow_x": null,
      "overflow_y": null,
      "padding": null,
      "right": null,
      "top": null,
      "visibility": null,
      "width": null
     }
    },
    "a25fcffc28d04d0489662224467d8882": {
     "model_module": "@jupyter-widgets/controls",
     "model_module_version": "1.5.0",
     "model_name": "DescriptionStyleModel",
     "state": {
      "_model_module": "@jupyter-widgets/controls",
      "_model_module_version": "1.5.0",
      "_model_name": "DescriptionStyleModel",
      "_view_count": null,
      "_view_module": "@jupyter-widgets/base",
      "_view_module_version": "1.2.0",
      "_view_name": "StyleView",
      "description_width": ""
     }
    },
    "a4213c8bd6b9403780f5a19f8fa0711a": {
     "model_module": "@jupyter-widgets/controls",
     "model_module_version": "1.5.0",
     "model_name": "DescriptionStyleModel",
     "state": {
      "_model_module": "@jupyter-widgets/controls",
      "_model_module_version": "1.5.0",
      "_model_name": "DescriptionStyleModel",
      "_view_count": null,
      "_view_module": "@jupyter-widgets/base",
      "_view_module_version": "1.2.0",
      "_view_name": "StyleView",
      "description_width": ""
     }
    },
    "b856225930994d99af9af7db9a4e219f": {
     "model_module": "@jupyter-widgets/controls",
     "model_module_version": "1.5.0",
     "model_name": "HTMLModel",
     "state": {
      "_dom_classes": [],
      "_model_module": "@jupyter-widgets/controls",
      "_model_module_version": "1.5.0",
      "_model_name": "HTMLModel",
      "_view_count": null,
      "_view_module": "@jupyter-widgets/controls",
      "_view_module_version": "1.5.0",
      "_view_name": "HTMLView",
      "description": "",
      "description_tooltip": null,
      "layout": "IPY_MODEL_dfde22da4cc9440ab93988818135ef43",
      "placeholder": "​",
      "style": "IPY_MODEL_4cc9374f642f406f967a5c7338767354",
      "value": " 5/5 [00:00&lt;00:00, 107.05it/s]"
     }
    },
    "c144de780d044bbdb487200747722322": {
     "model_module": "@jupyter-widgets/controls",
     "model_module_version": "1.5.0",
     "model_name": "DescriptionStyleModel",
     "state": {
      "_model_module": "@jupyter-widgets/controls",
      "_model_module_version": "1.5.0",
      "_model_name": "DescriptionStyleModel",
      "_view_count": null,
      "_view_module": "@jupyter-widgets/base",
      "_view_module_version": "1.2.0",
      "_view_name": "StyleView",
      "description_width": ""
     }
    },
    "c36fbbf5f8594972a8341f0a9fa0914e": {
     "model_module": "@jupyter-widgets/controls",
     "model_module_version": "1.5.0",
     "model_name": "FloatProgressModel",
     "state": {
      "_dom_classes": [],
      "_model_module": "@jupyter-widgets/controls",
      "_model_module_version": "1.5.0",
      "_model_name": "FloatProgressModel",
      "_view_count": null,
      "_view_module": "@jupyter-widgets/controls",
      "_view_module_version": "1.5.0",
      "_view_name": "ProgressView",
      "bar_style": "success",
      "description": "",
      "description_tooltip": null,
      "layout": "IPY_MODEL_5310bc9de5dd48f2ba553dcd800c2882",
      "max": 5,
      "min": 0,
      "orientation": "horizontal",
      "style": "IPY_MODEL_ccde037a7e7345db8f9a9d84d53c5aa8",
      "value": 5
     }
    },
    "ccde037a7e7345db8f9a9d84d53c5aa8": {
     "model_module": "@jupyter-widgets/controls",
     "model_module_version": "1.5.0",
     "model_name": "ProgressStyleModel",
     "state": {
      "_model_module": "@jupyter-widgets/controls",
      "_model_module_version": "1.5.0",
      "_model_name": "ProgressStyleModel",
      "_view_count": null,
      "_view_module": "@jupyter-widgets/base",
      "_view_module_version": "1.2.0",
      "_view_name": "StyleView",
      "bar_color": null,
      "description_width": ""
     }
    },
    "dadc608b8dd347d5a8933ffb540cf465": {
     "model_module": "@jupyter-widgets/base",
     "model_module_version": "1.2.0",
     "model_name": "LayoutModel",
     "state": {
      "_model_module": "@jupyter-widgets/base",
      "_model_module_version": "1.2.0",
      "_model_name": "LayoutModel",
      "_view_count": null,
      "_view_module": "@jupyter-widgets/base",
      "_view_module_version": "1.2.0",
      "_view_name": "LayoutView",
      "align_content": null,
      "align_items": null,
      "align_self": null,
      "border": null,
      "bottom": null,
      "display": null,
      "flex": null,
      "flex_flow": null,
      "grid_area": null,
      "grid_auto_columns": null,
      "grid_auto_flow": null,
      "grid_auto_rows": null,
      "grid_column": null,
      "grid_gap": null,
      "grid_row": null,
      "grid_template_areas": null,
      "grid_template_columns": null,
      "grid_template_rows": null,
      "height": null,
      "justify_content": null,
      "justify_items": null,
      "left": null,
      "margin": null,
      "max_height": null,
      "max_width": null,
      "min_height": null,
      "min_width": null,
      "object_fit": null,
      "object_position": null,
      "order": null,
      "overflow": null,
      "overflow_x": null,
      "overflow_y": null,
      "padding": null,
      "right": null,
      "top": null,
      "visibility": null,
      "width": null
     }
    },
    "dfde22da4cc9440ab93988818135ef43": {
     "model_module": "@jupyter-widgets/base",
     "model_module_version": "1.2.0",
     "model_name": "LayoutModel",
     "state": {
      "_model_module": "@jupyter-widgets/base",
      "_model_module_version": "1.2.0",
      "_model_name": "LayoutModel",
      "_view_count": null,
      "_view_module": "@jupyter-widgets/base",
      "_view_module_version": "1.2.0",
      "_view_name": "LayoutView",
      "align_content": null,
      "align_items": null,
      "align_self": null,
      "border": null,
      "bottom": null,
      "display": null,
      "flex": null,
      "flex_flow": null,
      "grid_area": null,
      "grid_auto_columns": null,
      "grid_auto_flow": null,
      "grid_auto_rows": null,
      "grid_column": null,
      "grid_gap": null,
      "grid_row": null,
      "grid_template_areas": null,
      "grid_template_columns": null,
      "grid_template_rows": null,
      "height": null,
      "justify_content": null,
      "justify_items": null,
      "left": null,
      "margin": null,
      "max_height": null,
      "max_width": null,
      "min_height": null,
      "min_width": null,
      "object_fit": null,
      "object_position": null,
      "order": null,
      "overflow": null,
      "overflow_x": null,
      "overflow_y": null,
      "padding": null,
      "right": null,
      "top": null,
      "visibility": null,
      "width": null
     }
    },
    "eb100af3a268499c8c333851581c45ac": {
     "model_module": "@jupyter-widgets/controls",
     "model_module_version": "1.5.0",
     "model_name": "FloatProgressModel",
     "state": {
      "_dom_classes": [],
      "_model_module": "@jupyter-widgets/controls",
      "_model_module_version": "1.5.0",
      "_model_name": "FloatProgressModel",
      "_view_count": null,
      "_view_module": "@jupyter-widgets/controls",
      "_view_module_version": "1.5.0",
      "_view_name": "ProgressView",
      "bar_style": "success",
      "description": "",
      "description_tooltip": null,
      "layout": "IPY_MODEL_786ed844b5b24e5587bcab67d327be7b",
      "max": 5,
      "min": 0,
      "orientation": "horizontal",
      "style": "IPY_MODEL_3ae08749565c401fbc6c7278c2245277",
      "value": 5
     }
    },
    "fc59bab9651d47749533eaba0f6db681": {
     "model_module": "@jupyter-widgets/controls",
     "model_module_version": "1.5.0",
     "model_name": "HTMLModel",
     "state": {
      "_dom_classes": [],
      "_model_module": "@jupyter-widgets/controls",
      "_model_module_version": "1.5.0",
      "_model_name": "HTMLModel",
      "_view_count": null,
      "_view_module": "@jupyter-widgets/controls",
      "_view_module_version": "1.5.0",
      "_view_name": "HTMLView",
      "description": "",
      "description_tooltip": null,
      "layout": "IPY_MODEL_7265cafc393547ea87c31afea9edd643",
      "placeholder": "​",
      "style": "IPY_MODEL_a25fcffc28d04d0489662224467d8882",
      "value": "100%"
     }
    }
   }
  }
 },
 "nbformat": 4,
 "nbformat_minor": 4
}
