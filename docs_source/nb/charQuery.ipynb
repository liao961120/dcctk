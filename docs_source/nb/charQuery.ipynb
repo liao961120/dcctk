{
 "cells": [
  {
   "cell_type": "code",
   "execution_count": 1,
   "metadata": {},
   "outputs": [],
   "source": [
    "# !pip install -U dcctk"
   ]
  },
  {
   "cell_type": "code",
   "execution_count": 2,
   "metadata": {},
   "outputs": [
    {
     "name": "stdout",
     "output_type": "stream",
     "text": [
      "Indexing corpus for text retrival...\n"
     ]
    },
    {
     "data": {
      "application/vnd.jupyter.widget-view+json": {
       "model_id": "279bb0f3c9cf4ee2b4959379106baca7",
       "version_major": 2,
       "version_minor": 0
      },
      "text/plain": [
       "HBox(children=(FloatProgress(value=0.0, max=5.0), HTML(value='')))"
      ]
     },
     "metadata": {},
     "output_type": "display_data"
    },
    {
     "name": "stdout",
     "output_type": "stream",
     "text": [
      "\n",
      "Indexing corpus for concordance search...\n"
     ]
    },
    {
     "data": {
      "application/vnd.jupyter.widget-view+json": {
       "model_id": "b44259fb2b8843439f88f08bc439e357",
       "version_major": 2,
       "version_minor": 0
      },
      "text/plain": [
       "HBox(children=(FloatProgress(value=0.0, max=5.0), HTML(value='')))"
      ]
     },
     "metadata": {},
     "output_type": "display_data"
    },
    {
     "name": "stdout",
     "output_type": "stream",
     "text": [
      "\n"
     ]
    }
   ],
   "source": [
    "from dcctk.corpusReader import PlainTextReader\n",
    "from dcctk.concordancer import Concordancer\n",
    "\n",
    "c = Concordancer(PlainTextReader(\"data/\").corpus)"
   ]
  },
  {
   "cell_type": "code",
   "execution_count": 3,
   "metadata": {},
   "outputs": [],
   "source": [
    "def get_first_n(cql, n=10):\n",
    "    out = []\n",
    "    for i, result in enumerate(c.cql_search(cql)):\n",
    "        if i == n: break\n",
    "        out.append(result)\n",
    "    return out"
   ]
  },
  {
   "cell_type": "markdown",
   "metadata": {},
   "source": [
    "## 1 Search by Character"
   ]
  },
  {
   "cell_type": "code",
   "execution_count": 4,
   "metadata": {},
   "outputs": [
    {
     "data": {
      "text/plain": [
       "[<Concord 焉耆。於是{龜茲}、疏勒、于>,\n",
       " <Concord 祓之，乃持{龜而}遂之，若常>,\n",
       " <Concord 妖。時則有{龜孽}。時則有雞>,\n",
       " <Concord 配乾作合。{龜筮}並從。內攝>,\n",
       " <Concord 為兒時，以{龜枝}床，至後老>,\n",
       " <Concord 占祲兆，鑽{龜陳}卦，主攘擇>,\n",
       " <Concord ，至不絕，{龜長}於蛇，矩不>,\n",
       " <Concord 奇昌為，三{龜從}兆凶。七信>,\n",
       " <Concord 六級，銅印{龜紐}墨綬；五大>,\n",
       " <Concord 。汝則從，{龜從}，筮從，卿>]"
      ]
     },
     "execution_count": 4,
     "metadata": {},
     "output_type": "execute_result"
    }
   ],
   "source": [
    "cql = '''\n",
    "[char=\"龜\"] [char=\"[一-龜]\"]\n",
    "'''\n",
    "get_first_n(cql, 10)"
   ]
  },
  {
   "cell_type": "markdown",
   "metadata": {},
   "source": [
    "## 2 Search by Character Component\n",
    "\n",
    "### 2.1 Radicals of all characters found in the corpus"
   ]
  },
  {
   "cell_type": "code",
   "execution_count": 5,
   "metadata": {},
   "outputs": [
    {
     "name": "stdout",
     "output_type": "stream",
     "text": [
      "Building index for character radicals...\n",
      "{'', '殳', '鳥', '龜', '丿', '雨', '弓', '舌', '儿', '足', '鼻', '邑', '木', '冫', '龠', '父', '麦', '丨', '牙', '龍', '页', '虍', '里', '示', '禸', '冖', '麥', '巾', '讠', '廾', '瓜', '竹', '角', '用', '魚', '酉', '入', '行', '夊', '夕', '曰', '立', '豕', '口', '比', '高', '网', '亠', '老', '鸟', '鼓', '鼎', '支', '囗', '革', '瓦', '血', '舟', '广', '十', '女', '卜', '矢', '麻', '色', '首', '干', '手', '斤', '玄', '心', '風', '辵', '臣', '而', '辛', '面', '飛', '聿', '无', '馬', '糸', '月', '土', '頁', '方', '門', '言', '士', '见', '爿', '艮', '卩', '骨', '斗', '自', '车', '火', '疒', '犬', '黑', '贝', '鬥', '匕', '戈', '黽', '虫', '隶', '龙', '金', '韦', '甘', '爻', '耳', '己', '亅', '日', '目', '鹿', '赤', '衣', '肉', '氏', '二', '玉', '齊', '走', '厂', '皿', '音', '鬯', '几', '豆', '釆', '黍', '阜', '白', '弋', '鱼', '气', '凵', '力', '隹', '羊', '夂', '毛', '乙', '匚', '靑', '饣', '匸', '田', '見', '辰', '屮', '食', '牛', '韋', '小', '缶', '彡', '片', '毋', '龟', '攴', '纟', '寸', '宀', '穴', '齿', '马', '八', '車', '刀', '鬼', '豸', '長', '貝', '文', '鹵', '戶', '谷', '襾', '身', '子', '米', '风', '人', '幺', '艸', '至', '丶', '鬲', '齒', '疋', '舛', '尸', '厶', '工', '钅', '歹', '冂', '大', '髟', '彐', '皮', '鼠', '欠', '香', '尢', '巛', '廴', '止', '禾', '非', '山', '羽', '彳', '勹', '耒', '生', '石', '癶', '水', '一', '黹', '黾', '韭', '爪', '黃', '门', '矛', '又', '臼'}\n"
     ]
    }
   ],
   "source": [
    "print(c.chr_radicals)"
   ]
  },
  {
   "cell_type": "code",
   "execution_count": 6,
   "metadata": {},
   "outputs": [
    {
     "data": {
      "text/plain": [
       "[<Concord 結桂枝兮延{竚}，羌愈思兮>,\n",
       " <Concord 从立从隶。{䇏}：磊䇏，重>,\n",
       " <Concord 隶。䇏：磊{䇏}，重聚也。>,\n",
       " <Concord 屬皆从立。{䇐}：臨也。从>,\n",
       " <Concord 於上，群臣{竦}懼乎下。明>,\n",
       " <Concord 則恐懼而自{竦}也。此道也>,\n",
       " <Concord ，驚，戁，{竦}，恐，慴，>,\n",
       " <Concord 動、不戁不{竦}、百祿是總>,\n",
       " <Concord 卑身賤體，{竦}心白意，明>,\n",
       " <Concord 則躍，名曰{竦}斯，其鳴自>]"
      ]
     },
     "execution_count": 6,
     "metadata": {},
     "output_type": "execute_result"
    }
   ],
   "source": [
    "cql = '''\n",
    "[radical=\"立\"]\n",
    "'''\n",
    "get_first_n(cql, 10)"
   ]
  },
  {
   "cell_type": "markdown",
   "metadata": {},
   "source": [
    "### 2.2 Ideographic Description Characters (IDCs)"
   ]
  },
  {
   "cell_type": "code",
   "execution_count": 7,
   "metadata": {},
   "outputs": [
    {
     "data": {
      "text/plain": [
       "{'horz2': '⿰',\n",
       " 'vert2': '⿱',\n",
       " 'horz3': '⿲',\n",
       " 'vert3': '⿳',\n",
       " 'encl': '⿴',\n",
       " 'surN': '⿵',\n",
       " 'surU': '⿶',\n",
       " 'curC': '⿷',\n",
       " 'surT': '⿸',\n",
       " 'sur7': '⿹',\n",
       " 'surL': '⿺',\n",
       " 'over': '⿻'}"
      ]
     },
     "execution_count": 7,
     "metadata": {},
     "output_type": "execute_result"
    }
   ],
   "source": [
    "c.chr_idcs"
   ]
  },
  {
   "cell_type": "code",
   "execution_count": 8,
   "metadata": {},
   "outputs": [
    {
     "name": "stdout",
     "output_type": "stream",
     "text": [
      "杜: [<⿰:木土>]\n",
      "李: [<⿱:木子>]\n",
      "国: [<⿴:囗玉>]\n",
      "叵: [<⿷:匚口>]\n"
     ]
    }
   ],
   "source": [
    "from CompoTree import ComponentTree\n",
    "ctree = ComponentTree.load()\n",
    "\n",
    "for ch in \"杜李国叵\":\n",
    "    print(ch, ctree.ids_map.get(ch), sep=\": \")"
   ]
  },
  {
   "cell_type": "code",
   "execution_count": 9,
   "metadata": {},
   "outputs": [
    {
     "data": {
      "text/plain": [
       "[<Concord 之間或謂之{樎}，或謂之皁>,\n",
       " <Concord 从木區聲。{槏}：戶也。从>,\n",
       " <Concord 。計者不如{構}三國攻秦。>,\n",
       " <Concord 大者不計而{構}，心疑者事>,\n",
       " <Concord 。秦、魏之{構}，不待割而>]"
      ]
     },
     "execution_count": 9,
     "metadata": {},
     "output_type": "execute_result"
    }
   ],
   "source": [
    "cql = '''\n",
    "[compo=\"木\" & idc=\"horz2\" & pos=\"0\"]\n",
    "'''\n",
    "get_first_n(cql, 5)"
   ]
  },
  {
   "cell_type": "code",
   "execution_count": 10,
   "metadata": {},
   "outputs": [
    {
     "data": {
      "text/plain": [
       "[<Concord 蟋蟀、入我{牀}下。穹窒熏>,\n",
       " <Concord ：木。可作{牀}几。从木叚>,\n",
       " <Concord 童聲。杠：{牀}前橫木也。>,\n",
       " <Concord 工聲。桯：{牀}前几。从木>,\n",
       " <Concord 从木巠聲。{牀}：安身之坐>]"
      ]
     },
     "execution_count": 10,
     "metadata": {},
     "output_type": "execute_result"
    }
   ],
   "source": [
    "cql = '''\n",
    "[compo=\"木\" & idc=\"horz2\" & pos=\"1\"]\n",
    "'''\n",
    "get_first_n(cql, 5)"
   ]
  },
  {
   "cell_type": "code",
   "execution_count": 11,
   "metadata": {},
   "outputs": [
    {
     "data": {
      "text/plain": [
       "[<Concord 。莫能行於{杳}冥兮，孰能>,\n",
       " <Concord ，經營原野{杳}冥冥兮，乘>,\n",
       " <Concord 以紛紛。日{杳}杳以西頹兮>,\n",
       " <Concord 紛紛。日杳{杳}以西頹兮，>,\n",
       " <Concord 嶄巖兮，阜{杳}杳以蔽日。>]"
      ]
     },
     "execution_count": 11,
     "metadata": {},
     "output_type": "execute_result"
    }
   ],
   "source": [
    "cql = '''\n",
    "[compo=\"木\" & idc=\"vert2\" & pos=\"0\"]\n",
    "'''\n",
    "get_first_n(cql, 5)"
   ]
  }
 ],
 "metadata": {
  "kernelspec": {
   "display_name": "py3.7",
   "language": "python",
   "name": "py3.7"
  },
  "language_info": {
   "codemirror_mode": {
    "name": "ipython",
    "version": 3
   },
   "file_extension": ".py",
   "mimetype": "text/x-python",
   "name": "python",
   "nbconvert_exporter": "python",
   "pygments_lexer": "ipython3",
   "version": "3.7.6"
  }
 },
 "nbformat": 4,
 "nbformat_minor": 4
}
