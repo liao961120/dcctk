{
 "cells": [
  {
   "cell_type": "code",
   "execution_count": 1,
   "metadata": {},
   "outputs": [],
   "source": [
    "# !pip install -U dcctk"
   ]
  },
  {
   "cell_type": "code",
   "execution_count": 2,
   "metadata": {},
   "outputs": [
    {
     "name": "stdout",
     "output_type": "stream",
     "text": [
      "Indexing corpus for text retrival...\n"
     ]
    },
    {
     "data": {
      "application/vnd.jupyter.widget-view+json": {
       "model_id": "6a34e9bb90134f729e88b600007fce08",
       "version_major": 2,
       "version_minor": 0
      },
      "text/plain": [
       "HBox(children=(FloatProgress(value=0.0, max=5.0), HTML(value='')))"
      ]
     },
     "metadata": {},
     "output_type": "display_data"
    },
    {
     "name": "stdout",
     "output_type": "stream",
     "text": [
      "\n",
      "Indexing corpus for concordance search...\n"
     ]
    },
    {
     "data": {
      "application/vnd.jupyter.widget-view+json": {
       "model_id": "10b2f587cf664c739b468403875b0529",
       "version_major": 2,
       "version_minor": 0
      },
      "text/plain": [
       "HBox(children=(FloatProgress(value=0.0, max=5.0), HTML(value='')))"
      ]
     },
     "metadata": {},
     "output_type": "display_data"
    },
    {
     "name": "stdout",
     "output_type": "stream",
     "text": [
      "\n"
     ]
    }
   ],
   "source": [
    "from dcctk.corpusReader import PlainTextReader\n",
    "from dcctk.concordancer import Concordancer\n",
    "\n",
    "c = Concordancer(PlainTextReader(\"data/\").corpus)"
   ]
  },
  {
   "cell_type": "code",
   "execution_count": 3,
   "metadata": {},
   "outputs": [],
   "source": [
    "def get_first_n(cql, n=10):\n",
    "    out = []\n",
    "    for i, result in enumerate(c.cql_search(cql)):\n",
    "        if i == n: break\n",
    "        out.append(result)\n",
    "    return out"
   ]
  },
  {
   "cell_type": "markdown",
   "metadata": {},
   "source": [
    "## 1 Search by Character"
   ]
  },
  {
   "cell_type": "code",
   "execution_count": 4,
   "metadata": {},
   "outputs": [
    {
     "data": {
      "text/plain": [
       "[<Concord 焉耆。於是{龜茲}、疏勒、于>,\n",
       " <Concord 祓之，乃持{龜而}遂之，若常>,\n",
       " <Concord 妖。時則有{龜孽}。時則有雞>,\n",
       " <Concord 配乾作合。{龜筮}並從。內攝>,\n",
       " <Concord 為兒時，以{龜枝}床，至後老>,\n",
       " <Concord 占祲兆，鑽{龜陳}卦，主攘擇>,\n",
       " <Concord ，至不絕，{龜長}於蛇，矩不>,\n",
       " <Concord 奇昌為，三{龜從}兆凶。七信>,\n",
       " <Concord 六級，銅印{龜紐}墨綬；五大>,\n",
       " <Concord 。汝則從，{龜從}，筮從，卿>]"
      ]
     },
     "execution_count": 4,
     "metadata": {},
     "output_type": "execute_result"
    }
   ],
   "source": [
    "cql = '''\n",
    "[char=\"龜\"] [char=\"[一-龜]\"]\n",
    "'''\n",
    "get_first_n(cql, 10)"
   ]
  },
  {
   "cell_type": "markdown",
   "metadata": {},
   "source": [
    "## 2 Search by Character Component\n",
    "\n",
    "### 2.1 Radicals of all characters found in the corpus"
   ]
  },
  {
   "cell_type": "code",
   "execution_count": 5,
   "metadata": {},
   "outputs": [
    {
     "name": "stdout",
     "output_type": "stream",
     "text": [
      "Building index for character radicals...\n",
      "{'', '衣', '靑', '里', '甘', '页', '麥', '音', '高', '广', '黽', '門', '貝', '邑', '干', '彳', '又', '亅', '丿', '豆', '钅', '彡', '革', '谷', '鸟', '疋', '聿', '矢', '皮', '弓', '鼠', '舛', '齊', '鹿', '走', '寸', '羽', '肉', '几', '夂', '米', '鼓', '疒', '爪', '隹', '士', '鳥', '饣', '无', '至', '皿', '行', '髟', '夕', '毋', '片', '隶', '气', '車', '冂', '女', '二', '赤', '卜', '耒', '老', '亠', '网', '馬', '缶', '目', '冫', '风', '辰', '曰', '耳', '瓜', '臼', '舟', '鬯', '鱼', '比', '巾', '色', '禸', '丨', '彐', '非', '龜', '癶', '鼎', '食', '一', '手', '骨', '白', '韋', '韦', '支', '攴', '田', '首', '鬲', '虍', '黃', '辵', '生', '见', '爿', '歹', '犬', '金', '鬼', '人', '匚', '巛', '尢', '玄', '父', '氏', '工', '血', '木', '囗', '水', '鬥', '黑', '廴', '麦', '入', '辛', '臣', '十', '示', '龠', '夊', '戈', '力', '黹', '文', '頁', '殳', '幺', '襾', '弋', '立', '面', '鹵', '方', '厶', '艸', '乙', '自', '豕', '見', '石', '麻', '糸', '虫', '冖', '匕', '宀', '毛', '釆', '月', '穴', '艮', '魚', '而', '勹', '凵', '身', '龍', '用', '角', '阜', '山', '丶', '黾', '止', '香', '马', '豸', '火', '儿', '廾', '飛', '纟', '斤', '讠', '牙', '戶', '風', '日', '刀', '车', '雨', '竹', '羊', '鼻', '龟', '门', '厂', '心', '欠', '瓦', '酉', '足', '土', '屮', '龙', '匸', '黍', '玉', '卩', '子', '矛', '長', '齿', '禾', '贝', '小', '牛', '舌', '韭', '己', '言', '大', '八', '爻', '斗', '口', '齒', '尸'}\n"
     ]
    }
   ],
   "source": [
    "print(c.chr_radicals)"
   ]
  },
  {
   "cell_type": "code",
   "execution_count": 6,
   "metadata": {},
   "outputs": [
    {
     "data": {
      "text/plain": [
       "[<Concord 結桂枝兮延{竚}，羌愈思兮>,\n",
       " <Concord 从立昔聲。{䇑}：短人立䇑>,\n",
       " <Concord 䇑：短人立{䇑}䇑皃。从立>,\n",
       " <Concord ：短人立䇑{䇑}皃。从立卑>,\n",
       " <Concord 叩其兩端而{竭}焉。」子曰>,\n",
       " <Concord 罷不能，既{竭}吾才，如有>,\n",
       " <Concord 下之不治，{竭}聰明，進智>,\n",
       " <Concord 原，泉之不{竭}，表裡遂通>,\n",
       " <Concord ，重賦斂，{竭}民財，急使>,\n",
       " <Concord 罷民力。財{竭}，則不能毋>]"
      ]
     },
     "execution_count": 6,
     "metadata": {},
     "output_type": "execute_result"
    }
   ],
   "source": [
    "cql = '''\n",
    "[radical=\"立\"]\n",
    "'''\n",
    "get_first_n(cql, 10)"
   ]
  },
  {
   "cell_type": "markdown",
   "metadata": {},
   "source": [
    "### 2.2 Ideographic Description Characters (IDCs)"
   ]
  },
  {
   "cell_type": "code",
   "execution_count": 7,
   "metadata": {},
   "outputs": [
    {
     "data": {
      "text/plain": [
       "{'horz2': '⿰',\n",
       " 'vert2': '⿱',\n",
       " 'horz3': '⿲',\n",
       " 'vert3': '⿳',\n",
       " 'encl': '⿴',\n",
       " 'surN': '⿵',\n",
       " 'surU': '⿶',\n",
       " 'curC': '⿷',\n",
       " 'surT': '⿸',\n",
       " 'sur7': '⿹',\n",
       " 'surL': '⿺',\n",
       " 'over': '⿻'}"
      ]
     },
     "execution_count": 7,
     "metadata": {},
     "output_type": "execute_result"
    }
   ],
   "source": [
    "c.chr_idcs"
   ]
  },
  {
   "cell_type": "code",
   "execution_count": 8,
   "metadata": {},
   "outputs": [
    {
     "name": "stdout",
     "output_type": "stream",
     "text": [
      "杜: [<⿰:木土>]\n",
      "李: [<⿱:木子>]\n",
      "国: [<⿴:囗玉>]\n",
      "叵: [<⿷:匚口>]\n"
     ]
    }
   ],
   "source": [
    "from CompoTree import ComponentTree\n",
    "ctree = ComponentTree.load()\n",
    "\n",
    "for ch in \"杜李国叵\":\n",
    "    print(ch, ctree.ids_map.get(ch), sep=\": \")"
   ]
  },
  {
   "cell_type": "code",
   "execution_count": 9,
   "metadata": {},
   "outputs": [
    {
     "data": {
      "text/plain": [
       "[<Concord 从木危聲。{杒}：桎杒也。>,\n",
       " <Concord 聲。杒：桎{杒}也。从木刃>,\n",
       " <Concord 功，待而畚{梮}，營室之中>,\n",
       " <Concord 毳，山行則{梮}，以別九州>,\n",
       " <Concord 三百里。從{極}之淵深三百>]"
      ]
     },
     "execution_count": 9,
     "metadata": {},
     "output_type": "execute_result"
    }
   ],
   "source": [
    "cql = '''\n",
    "[compo=\"木\" & idc=\"horz2\" & pos=\"0\"]\n",
    "'''\n",
    "get_first_n(cql, 5)"
   ]
  },
  {
   "cell_type": "code",
   "execution_count": 10,
   "metadata": {},
   "outputs": [
    {
     "data": {
      "text/plain": [
       "[<Concord 璧之臺，乃{休}。天子乃周>,\n",
       " <Concord 之隥，而降{休}于兩柏之下>,\n",
       " <Concord 喜也。瞿瞿{休}休，儉也。>,\n",
       " <Concord 也。瞿瞿休{休}，儉也。旭>,\n",
       " <Concord 祉。九五：{休}否，大人吉>]"
      ]
     },
     "execution_count": 10,
     "metadata": {},
     "output_type": "execute_result"
    }
   ],
   "source": [
    "cql = '''\n",
    "[compo=\"木\" & idc=\"horz2\" & pos=\"1\"]\n",
    "'''\n",
    "get_first_n(cql, 5)"
   ]
  },
  {
   "cell_type": "code",
   "execution_count": 11,
   "metadata": {},
   "outputs": [
    {
     "name": "stdout",
     "output_type": "stream",
     "text": [
      "Building index for character IDCs...\n"
     ]
    },
    {
     "data": {
      "text/plain": [
       "[<Concord 岸崩。始置{圃囿}署，以宦者>,\n",
       " <Concord 圍也，因形{團圜}而名之也。>,\n",
       " <Concord 仁君。萃：{團團}白日，為月>,\n",
       " <Concord 以草作之，{團團}然也。廁，>,\n",
       " <Concord 而不跌。志{團團}以應懸兮，>]"
      ]
     },
     "execution_count": 11,
     "metadata": {},
     "output_type": "execute_result"
    }
   ],
   "source": [
    "cql = '''\n",
    "[idc=\"encl\"] [idc=\"encl\"]\n",
    "'''\n",
    "get_first_n(cql, 5)"
   ]
  },
  {
   "cell_type": "markdown",
   "metadata": {},
   "source": [
    "## 3 Search by Phonetic Alphabets"
   ]
  },
  {
   "cell_type": "code",
   "execution_count": 12,
   "metadata": {},
   "outputs": [
    {
     "name": "stdout",
     "output_type": "stream",
     "text": [
      "Building index for character phones...\n"
     ]
    },
    {
     "data": {
      "text/plain": [
       "[<Concord 」耳邊不斷{嗡}嗡的縈繞著>,\n",
       " <Concord 耳邊不斷嗡{嗡}的縈繞著類>,\n",
       " <Concord 發猛，塤篪{翁}博，瑟易良>,\n",
       " <Concord ，黑文而赤{翁}，名曰櫟，>,\n",
       " <Concord 昆吾；是使{翁}難卜於白若>]"
      ]
     },
     "execution_count": 12,
     "metadata": {},
     "output_type": "execute_result"
    }
   ],
   "source": [
    "cql = '''\n",
    "[phon=\"ㄨㄥ\" & tone=\"1\"]\n",
    "'''\n",
    "get_first_n(cql, 5)"
   ]
  },
  {
   "cell_type": "code",
   "execution_count": 13,
   "metadata": {},
   "outputs": [
    {
     "data": {
      "text/plain": [
       "[<Concord ，不隨衆以{萍漂}者，蓋亦鮮>,\n",
       " <Concord 中郎將張奐{搫平}之。延熹九>,\n",
       " <Concord 之楊、其葉{肺肺}。昏以為期>,\n",
       " <Concord 和利難傷；{肺偏}傾，則胸偏>,\n",
       " <Concord 脅偏疏者，{肺偏}傾也。青色>]"
      ]
     },
     "execution_count": 13,
     "metadata": {},
     "output_type": "execute_result"
    }
   ],
   "source": [
    "cql = '''\n",
    "[phon=\"^pʰ\" & tp=\"ipa\"] [phon=\"^pʰ\" & tp=\"ipa\"]\n",
    "'''\n",
    "get_first_n(cql, 5)"
   ]
  },
  {
   "cell_type": "markdown",
   "metadata": {},
   "source": [
    "## 4 Component Stats"
   ]
  },
  {
   "cell_type": "code",
   "execution_count": 14,
   "metadata": {},
   "outputs": [],
   "source": [
    "from dcctk.compoAnalysis import CompoAnalysis\n",
    "\n",
    "c2 = CompoAnalysis(c)"
   ]
  },
  {
   "cell_type": "markdown",
   "metadata": {},
   "source": [
    "### 4.1 Frequency Distributions"
   ]
  },
  {
   "cell_type": "markdown",
   "metadata": {},
   "source": [
    "#### 4.1.1 Character"
   ]
  },
  {
   "cell_type": "code",
   "execution_count": 15,
   "metadata": {},
   "outputs": [
    {
     "data": {
      "text/plain": [
       "[('，', 178802),\n",
       " ('。', 83819),\n",
       " ('之', 64665),\n",
       " ('不', 37264),\n",
       " ('也', 32634),\n",
       " ('而', 32035),\n",
       " ('以', 27556),\n",
       " ('其', 25931),\n",
       " ('者', 23304),\n",
       " ('曰', 21763)]"
      ]
     },
     "execution_count": 15,
     "metadata": {},
     "output_type": "execute_result"
    }
   ],
   "source": [
    "c2.freq_distr(tp=\"chr\", subcorp_idx=0).most_common(10)"
   ]
  },
  {
   "cell_type": "markdown",
   "metadata": {},
   "source": [
    "#### 4.1.2 Shape"
   ]
  },
  {
   "cell_type": "code",
   "execution_count": 16,
   "metadata": {},
   "outputs": [
    {
     "data": {
      "text/plain": [
       "Counter({'⿱': 561453,\n",
       "         '': 256312,\n",
       "         'noChrData': 351898,\n",
       "         '⿰': 438079,\n",
       "         '⿵': 25234,\n",
       "         '⿷': 1641,\n",
       "         '⿸': 91226,\n",
       "         '⿻': 37847,\n",
       "         '⿺': 26847,\n",
       "         '⿲': 6242,\n",
       "         '⿳': 14381,\n",
       "         '⿴': 14409,\n",
       "         '⿹': 25384,\n",
       "         '⿶': 7275})"
      ]
     },
     "execution_count": 16,
     "metadata": {},
     "output_type": "execute_result"
    }
   ],
   "source": [
    "c2.freq_distr(tp=\"idc\", subcorp_idx=0)"
   ]
  },
  {
   "cell_type": "markdown",
   "metadata": {},
   "source": [
    "#### 4.1.3 Radical"
   ]
  },
  {
   "cell_type": "code",
   "execution_count": 17,
   "metadata": {},
   "outputs": [
    {
     "data": {
      "text/plain": [
       "[('noChrData', 1517367),\n",
       " ('人', 422649),\n",
       " ('一', 281707),\n",
       " ('丿', 252723),\n",
       " ('口', 249345),\n",
       " ('火', 165875),\n",
       " ('言', 157936),\n",
       " ('水', 155632),\n",
       " ('八', 151539),\n",
       " ('心', 145208)]"
      ]
     },
     "execution_count": 17,
     "metadata": {},
     "output_type": "execute_result"
    }
   ],
   "source": [
    "c2.freq_distr(tp=\"rad\").most_common(10)"
   ]
  },
  {
   "cell_type": "markdown",
   "metadata": {},
   "source": [
    "#### 4.1.4 Characters with a certain radical"
   ]
  },
  {
   "cell_type": "code",
   "execution_count": 18,
   "metadata": {},
   "outputs": [
    {
     "data": {
      "text/plain": [
       "[('度', 4757),\n",
       " ('廣', 4050),\n",
       " ('廟', 3067),\n",
       " ('府', 3064),\n",
       " ('廢', 2542),\n",
       " ('庶', 2281),\n",
       " ('廉', 1594),\n",
       " ('康', 1570),\n",
       " ('序', 1213),\n",
       " ('庭', 1155)]"
      ]
     },
     "execution_count": 18,
     "metadata": {},
     "output_type": "execute_result"
    }
   ],
   "source": [
    "c2.freq_distr(tp=None, radical=\"广\").most_common(10)"
   ]
  },
  {
   "cell_type": "markdown",
   "metadata": {},
   "source": [
    "#### 4.1.5 Characters within a certain component"
   ]
  },
  {
   "cell_type": "code",
   "execution_count": 19,
   "metadata": {},
   "outputs": [
    {
     "data": {
      "text/plain": [
       "Counter({'泉': 1349,\n",
       "         '沓': 89,\n",
       "         '漿': 153,\n",
       "         '滎': 344,\n",
       "         '澩': 3,\n",
       "         '灓': 5,\n",
       "         '淼': 4,\n",
       "         '漐': 9,\n",
       "         '泵': 3,\n",
       "         '漀': 1,\n",
       "         '氶': 1,\n",
       "         '汞': 15})"
      ]
     },
     "execution_count": 19,
     "metadata": {},
     "output_type": "execute_result"
    }
   ],
   "source": [
    "c2.freq_distr(tp=None, compo=\"水\", idc=\"vert2\", pos=-1)"
   ]
  },
  {
   "cell_type": "markdown",
   "metadata": {},
   "source": [
    "### 4.2 Productivity \n",
    "\n",
    "#### 4.2.1 Productivity of a radical"
   ]
  },
  {
   "cell_type": "code",
   "execution_count": 20,
   "metadata": {},
   "outputs": [
    {
     "data": {
      "text/plain": [
       "{'productivity': {'realized': 62,\n",
       "  'expanding': 0.0043206913106096975,\n",
       "  'potential': 0.001526199762591148},\n",
       " 'N': 1858228,\n",
       " 'V1': 2083,\n",
       " 'V1C': 9,\n",
       " 'NC': 5897}"
      ]
     },
     "execution_count": 20,
     "metadata": {},
     "output_type": "execute_result"
    }
   ],
   "source": [
    "c2.productivity(radical=\"广\", subcorp_idx=0)"
   ]
  },
  {
   "cell_type": "markdown",
   "metadata": {},
   "source": [
    "### 4.2.2 Productivity of a component"
   ]
  },
  {
   "cell_type": "code",
   "execution_count": 21,
   "metadata": {},
   "outputs": [
    {
     "data": {
      "text/plain": [
       "{'productivity': {'realized': 178,\n",
       "  'expanding': 0.03456553048487758,\n",
       "  'potential': 0.07010710808179163},\n",
       " 'N': 1858228,\n",
       " 'V1': 2083,\n",
       " 'V1C': 72,\n",
       " 'NC': 1027}"
      ]
     },
     "execution_count": 21,
     "metadata": {},
     "output_type": "execute_result"
    }
   ],
   "source": [
    "c2.productivity(compo=\"虫\", idc=\"horz2\", pos=0, subcorp_idx=0)"
   ]
  },
  {
   "cell_type": "markdown",
   "metadata": {},
   "source": [
    "### 4.2.3 Productivity of Character shapes (IDCs)"
   ]
  },
  {
   "cell_type": "code",
   "execution_count": 22,
   "metadata": {},
   "outputs": [
    {
     "data": {
      "text/html": [
       "<div>\n",
       "<style scoped>\n",
       "    .dataframe tbody tr th:only-of-type {\n",
       "        vertical-align: middle;\n",
       "    }\n",
       "\n",
       "    .dataframe tbody tr th {\n",
       "        vertical-align: top;\n",
       "    }\n",
       "\n",
       "    .dataframe thead th {\n",
       "        text-align: right;\n",
       "    }\n",
       "</style>\n",
       "<table border=\"1\" class=\"dataframe\">\n",
       "  <thead>\n",
       "    <tr style=\"text-align: right;\">\n",
       "      <th></th>\n",
       "      <th>name</th>\n",
       "      <th>shape</th>\n",
       "      <th>realized</th>\n",
       "      <th>expanding</th>\n",
       "      <th>potential</th>\n",
       "      <th>V1C</th>\n",
       "      <th>V1</th>\n",
       "      <th>NC</th>\n",
       "      <th>N</th>\n",
       "    </tr>\n",
       "  </thead>\n",
       "  <tbody>\n",
       "    <tr>\n",
       "      <th>0</th>\n",
       "      <td>horz2</td>\n",
       "      <td>⿰</td>\n",
       "      <td>5580</td>\n",
       "      <td>0.709073</td>\n",
       "      <td>0.003372</td>\n",
       "      <td>1477</td>\n",
       "      <td>2083</td>\n",
       "      <td>438079</td>\n",
       "      <td>1858228</td>\n",
       "    </tr>\n",
       "    <tr>\n",
       "      <th>1</th>\n",
       "      <td>vert2</td>\n",
       "      <td>⿱</td>\n",
       "      <td>2110</td>\n",
       "      <td>0.223236</td>\n",
       "      <td>0.000828</td>\n",
       "      <td>465</td>\n",
       "      <td>2083</td>\n",
       "      <td>561453</td>\n",
       "      <td>1858228</td>\n",
       "    </tr>\n",
       "    <tr>\n",
       "      <th>2</th>\n",
       "      <td>horz3</td>\n",
       "      <td>⿲</td>\n",
       "      <td>37</td>\n",
       "      <td>0.002400</td>\n",
       "      <td>0.000801</td>\n",
       "      <td>5</td>\n",
       "      <td>2083</td>\n",
       "      <td>6242</td>\n",
       "      <td>1858228</td>\n",
       "    </tr>\n",
       "    <tr>\n",
       "      <th>3</th>\n",
       "      <td>vert3</td>\n",
       "      <td>⿳</td>\n",
       "      <td>85</td>\n",
       "      <td>0.006721</td>\n",
       "      <td>0.000974</td>\n",
       "      <td>14</td>\n",
       "      <td>2083</td>\n",
       "      <td>14381</td>\n",
       "      <td>1858228</td>\n",
       "    </tr>\n",
       "    <tr>\n",
       "      <th>4</th>\n",
       "      <td>encl</td>\n",
       "      <td>⿴</td>\n",
       "      <td>27</td>\n",
       "      <td>0.001440</td>\n",
       "      <td>0.000208</td>\n",
       "      <td>3</td>\n",
       "      <td>2083</td>\n",
       "      <td>14409</td>\n",
       "      <td>1858228</td>\n",
       "    </tr>\n",
       "    <tr>\n",
       "      <th>5</th>\n",
       "      <td>surN</td>\n",
       "      <td>⿵</td>\n",
       "      <td>87</td>\n",
       "      <td>0.005761</td>\n",
       "      <td>0.000476</td>\n",
       "      <td>12</td>\n",
       "      <td>2083</td>\n",
       "      <td>25234</td>\n",
       "      <td>1858228</td>\n",
       "    </tr>\n",
       "    <tr>\n",
       "      <th>6</th>\n",
       "      <td>surU</td>\n",
       "      <td>⿶</td>\n",
       "      <td>6</td>\n",
       "      <td>0.000000</td>\n",
       "      <td>0.000000</td>\n",
       "      <td>0</td>\n",
       "      <td>2083</td>\n",
       "      <td>7275</td>\n",
       "      <td>1858228</td>\n",
       "    </tr>\n",
       "    <tr>\n",
       "      <th>7</th>\n",
       "      <td>curC</td>\n",
       "      <td>⿷</td>\n",
       "      <td>20</td>\n",
       "      <td>0.001920</td>\n",
       "      <td>0.002438</td>\n",
       "      <td>4</td>\n",
       "      <td>2083</td>\n",
       "      <td>1641</td>\n",
       "      <td>1858228</td>\n",
       "    </tr>\n",
       "    <tr>\n",
       "      <th>8</th>\n",
       "      <td>surT</td>\n",
       "      <td>⿸</td>\n",
       "      <td>342</td>\n",
       "      <td>0.026884</td>\n",
       "      <td>0.000614</td>\n",
       "      <td>56</td>\n",
       "      <td>2083</td>\n",
       "      <td>91226</td>\n",
       "      <td>1858228</td>\n",
       "    </tr>\n",
       "    <tr>\n",
       "      <th>9</th>\n",
       "      <td>sur7</td>\n",
       "      <td>⿹</td>\n",
       "      <td>51</td>\n",
       "      <td>0.002880</td>\n",
       "      <td>0.000236</td>\n",
       "      <td>6</td>\n",
       "      <td>2083</td>\n",
       "      <td>25384</td>\n",
       "      <td>1858228</td>\n",
       "    </tr>\n",
       "    <tr>\n",
       "      <th>10</th>\n",
       "      <td>surL</td>\n",
       "      <td>⿺</td>\n",
       "      <td>180</td>\n",
       "      <td>0.012482</td>\n",
       "      <td>0.000968</td>\n",
       "      <td>26</td>\n",
       "      <td>2083</td>\n",
       "      <td>26847</td>\n",
       "      <td>1858228</td>\n",
       "    </tr>\n",
       "    <tr>\n",
       "      <th>11</th>\n",
       "      <td>over</td>\n",
       "      <td>⿻</td>\n",
       "      <td>44</td>\n",
       "      <td>0.000960</td>\n",
       "      <td>0.000053</td>\n",
       "      <td>2</td>\n",
       "      <td>2083</td>\n",
       "      <td>37847</td>\n",
       "      <td>1858228</td>\n",
       "    </tr>\n",
       "  </tbody>\n",
       "</table>\n",
       "</div>"
      ],
      "text/plain": [
       "     name shape  realized  expanding  potential   V1C    V1      NC        N\n",
       "0   horz2     ⿰      5580   0.709073   0.003372  1477  2083  438079  1858228\n",
       "1   vert2     ⿱      2110   0.223236   0.000828   465  2083  561453  1858228\n",
       "2   horz3     ⿲        37   0.002400   0.000801     5  2083    6242  1858228\n",
       "3   vert3     ⿳        85   0.006721   0.000974    14  2083   14381  1858228\n",
       "4    encl     ⿴        27   0.001440   0.000208     3  2083   14409  1858228\n",
       "5    surN     ⿵        87   0.005761   0.000476    12  2083   25234  1858228\n",
       "6    surU     ⿶         6   0.000000   0.000000     0  2083    7275  1858228\n",
       "7    curC     ⿷        20   0.001920   0.002438     4  2083    1641  1858228\n",
       "8    surT     ⿸       342   0.026884   0.000614    56  2083   91226  1858228\n",
       "9    sur7     ⿹        51   0.002880   0.000236     6  2083   25384  1858228\n",
       "10   surL     ⿺       180   0.012482   0.000968    26  2083   26847  1858228\n",
       "11   over     ⿻        44   0.000960   0.000053     2  2083   37847  1858228"
      ]
     },
     "execution_count": 22,
     "metadata": {},
     "output_type": "execute_result"
    }
   ],
   "source": [
    "import pandas as pd\n",
    "from CompoTree import IDC\n",
    "\n",
    "df = []\n",
    "for idc in IDC:   \n",
    "    p = c2.productivity(idc=idc.name, subcorp_idx=0)\n",
    "    df.append({\n",
    "        'name': idc.name, \n",
    "        'shape': idc.value, \n",
    "        **p['productivity'],\n",
    "        'V1C': p['V1C'],\n",
    "        'V1': p['V1'],\n",
    "        'NC': p['NC'],\n",
    "        'N': p['N'],\n",
    "    })\n",
    "\n",
    "df = pd.DataFrame(df)\n",
    "df"
   ]
  }
 ],
 "metadata": {
  "kernelspec": {
   "display_name": "py3.7",
   "language": "python",
   "name": "py3.7"
  },
  "language_info": {
   "codemirror_mode": {
    "name": "ipython",
    "version": 3
   },
   "file_extension": ".py",
   "mimetype": "text/x-python",
   "name": "python",
   "nbconvert_exporter": "python",
   "pygments_lexer": "ipython3",
   "version": "3.7.6"
  }
 },
 "nbformat": 4,
 "nbformat_minor": 4
}
