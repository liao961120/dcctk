{
  "cells": [
    {
      "cell_type": "markdown",
      "metadata": {
        "id": "view-in-github",
        "colab_type": "text"
      },
      "source": [
        "<a href=\"https://colab.research.google.com/github/liao961120/hctk/blob/main/docs_source/nb/charQuery.ipynb\" target=\"_parent\"><img src=\"https://colab.research.google.com/assets/colab-badge.svg\" alt=\"Open In Colab\"/></a>"
      ]
    },
    {
      "cell_type": "code",
      "execution_count": 1,
      "metadata": {
        "colab": {
          "base_uri": "https://localhost:8080/"
        },
        "id": "5P99extNBogu",
        "outputId": "80702128-953f-47c5-dc4d-b79b8cec15e5"
      },
      "outputs": [
        {
          "output_type": "stream",
          "name": "stdout",
          "text": [
            "Downloading...\n",
            "From: https://github.com/liao961120/hctk/raw/main/test/data.zip\n",
            "To: /content/data.zip\n",
            "100% 11.5M/11.5M [00:00<00:00, 102MB/s]\n",
            "\u001b[K     |████████████████████████████████| 40 kB 5.0 MB/s \n",
            "\u001b[K     |████████████████████████████████| 467 kB 16.5 MB/s \n",
            "\u001b[K     |████████████████████████████████| 256 kB 57.5 MB/s \n",
            "\u001b[K     |████████████████████████████████| 596 kB 41.8 MB/s \n",
            "\u001b[K     |████████████████████████████████| 1.3 MB 29.2 MB/s \n",
            "\u001b[?25h  Installing build dependencies ... \u001b[?25l\u001b[?25hdone\n",
            "  Getting requirements to build wheel ... \u001b[?25l\u001b[?25hdone\n",
            "    Preparing wheel metadata ... \u001b[?25l\u001b[?25hdone\n",
            "  Building wheel for gdown (PEP 517) ... \u001b[?25l\u001b[?25hdone\n"
          ]
        }
      ],
      "source": [
        "!gdown https://github.com/liao961120/hctk/raw/main/test/data.zip\n",
        "!unzip -q data.zip\n",
        "!pip install -qU hctk"
      ]
    },
    {
      "cell_type": "code",
      "execution_count": 5,
      "metadata": {
        "colab": {
          "base_uri": "https://localhost:8080/",
          "height": 116,
          "referenced_widgets": [
            "6114526361e4403a94ecba4252e81fdb",
            "f5199b99c20343c28acbb5ee63cf69b0",
            "4c5ee0c27c5747e0bf17bb1a13ce038c",
            "ed02d0a1bf384553a4570a070f105da6",
            "63f567d204154a22a5bbcb054aa4824f",
            "d9de1e335e5e42a2859f2d5ccff75b33",
            "a241175f95e0405090a40b05f197dddf",
            "50f7522ff32b42938079fcfe06fb7bfa",
            "1be6fa730dd046b8ab091e8d888977fe",
            "9bd9e92d33474f308bb0f4d4c94d96c5",
            "b2ee2795e9be4ba28480e084f34fa85c",
            "7863f38d9587414fbf631faa238c6543",
            "cc9e1e86c8e3453a9de1833667e65a7a",
            "290e5ca550284fc6a91a18d4d41e4fdb",
            "f4934013891e4a159db18eed35326f39",
            "dde08c378c4742d89451e34a633f1134",
            "54612e5275c74c7eadaa6c893519ef9b",
            "85574d1c0796406bac7b8ef2c1334366",
            "3376402b31fd450a8dae6c543158bfe6",
            "3a2d06dda34d433aac2a45f97e24c2bd",
            "6c5dbea2153c467697d8b271ce7d8511",
            "338316a40f3a4d02acfbf0e08029a6a5"
          ]
        },
        "id": "uB5Op8IuBogw",
        "outputId": "0cf0f342-f04d-455c-a397-1b63709e316d"
      },
      "outputs": [
        {
          "output_type": "stream",
          "name": "stdout",
          "text": [
            "Indexing corpus for text retrival...\n"
          ]
        },
        {
          "output_type": "display_data",
          "data": {
            "application/vnd.jupyter.widget-view+json": {
              "model_id": "6114526361e4403a94ecba4252e81fdb",
              "version_minor": 0,
              "version_major": 2
            },
            "text/plain": [
              "  0%|          | 0/5 [00:00<?, ?it/s]"
            ]
          },
          "metadata": {}
        },
        {
          "output_type": "stream",
          "name": "stdout",
          "text": [
            "Indexing corpus for concordance search...\n"
          ]
        },
        {
          "output_type": "display_data",
          "data": {
            "application/vnd.jupyter.widget-view+json": {
              "model_id": "7863f38d9587414fbf631faa238c6543",
              "version_minor": 0,
              "version_major": 2
            },
            "text/plain": [
              "  0%|          | 0/5 [00:00<?, ?it/s]"
            ]
          },
          "metadata": {}
        }
      ],
      "source": [
        "from hctk import PlainTextReader\n",
        "from hctk import Concordancer\n",
        "\n",
        "c = Concordancer(PlainTextReader(\"data/\").corpus)"
      ]
    },
    {
      "cell_type": "code",
      "execution_count": 3,
      "metadata": {
        "id": "esfml6EkBogy"
      },
      "outputs": [],
      "source": [
        "def get_first_n(cql, n=10):\n",
        "    out = []\n",
        "    for i, result in enumerate(c.cql_search(cql)):\n",
        "        if i == n: break\n",
        "        out.append(result)\n",
        "    return out"
      ]
    },
    {
      "cell_type": "markdown",
      "metadata": {
        "id": "IPf2VPo4Bogy"
      },
      "source": [
        "## 1 Search by Character"
      ]
    },
    {
      "cell_type": "code",
      "execution_count": 4,
      "metadata": {
        "colab": {
          "base_uri": "https://localhost:8080/"
        },
        "id": "Zaau3bHuBogz",
        "outputId": "bcbc37c6-dc7f-4184-94f5-4f4035b2e304"
      },
      "outputs": [
        {
          "output_type": "execute_result",
          "data": {
            "text/plain": [
              "[<Concord 日，假爾泰{龜有}常，假爾泰>,\n",
              " <Concord 之，十朋之{龜弗}克違，永貞>,\n",
              " <Concord 為牝。蚌蛤{龜珠}，與月盛虛>,\n",
              " <Concord 殆。師：靈{龜陸}處，盤桓失>,\n",
              " <Concord 象物雜也。{龜蛇}為旐，旐，>,\n",
              " <Concord 書言古者以{龜貝}為貨，今以>,\n",
              " <Concord 為寶貨。元{龜為}蔡，非四民>,\n",
              " <Concord 。馬非馬。{龜茲}王。所謂騾>,\n",
              " <Concord 。趙又嘗鑿{龜數}筴而北伐燕>,\n",
              " <Concord 之去復育，{龜之}解甲，虵之>]"
            ]
          },
          "metadata": {},
          "execution_count": 4
        }
      ],
      "source": [
        "cql = '''\n",
        "[char=\"龜\"] [char=\"[一-龜]\"]\n",
        "'''\n",
        "get_first_n(cql, 10)"
      ]
    },
    {
      "cell_type": "markdown",
      "metadata": {
        "id": "hnyS9kPyBog0"
      },
      "source": [
        "## 2 Search by Character Component\n",
        "\n",
        "### 2.1 Radicals of all characters found in the corpus"
      ]
    },
    {
      "cell_type": "code",
      "execution_count": 5,
      "metadata": {
        "colab": {
          "base_uri": "https://localhost:8080/"
        },
        "id": "aI2YlSJDBog1",
        "outputId": "7064db47-f50a-4414-9531-bc69dbae6cda"
      },
      "outputs": [
        {
          "output_type": "stream",
          "name": "stdout",
          "text": [
            "Building index for character radicals...\n",
            "{'', '黽', '皿', '艸', '片', '入', '又', '用', '襾', '犬', '月', '虍', '风', '鬥', '音', '心', '车', '矛', '力', '髟', '纟', '至', '八', '足', '刀', '廴', '麦', '儿', '几', '日', '肉', '冖', '牛', '页', '网', '爻', '玄', '目', '鱼', '勹', '穴', '饣', '示', '乙', '人', '魚', '黍', '木', '土', '十', '幺', '龟', '鼻', '赤', '厂', '巛', '甘', '禸', '贝', '一', '彡', '米', '言', '弋', '鹵', '弓', '大', '巾', '鼓', '黹', '女', '飛', '鼎', '尸', '韭', '首', '二', '雨', '卜', '立', '谷', '鬯', '鬼', '亅', '竹', '骨', '卩', '口', '冂', '舟', '而', '虫', '匸', '羽', '爿', '聿', '小', '馬', '子', '比', '矢', '士', '廾', '鳥', '齿', '見', '高', '支', '血', '金', '鸟', '耒', '黑', '耳', '火', '彐', '貝', '屮', '斤', '辛', '见', '羊', '門', '麥', '止', '丶', '齒', '亠', '辵', '老', '鬲', '辰', '車', '糸', '气', '面', '臣', '石', '舌', '手', '生', '豕', '讠', '广', '鼠', '黃', '龙', '皮', '匕', '舛', '曰', '匚', '禾', '丿', '龜', '色', '走', '疋', '文', '食', '方', '彳', '自', '戶', '爪', '牙', '夕', '氏', '己', '无', '釆', '革', '靑', '酉', '尢', '囗', '韦', '凵', '厶', '殳', '里', '黾', '韋', '瓜', '丨', '欠', '宀', '马', '頁', '歹', '玉', '毛', '攴', '瓦', '白', '夊', '门', '父', '豸', '角', '毋', '邑', '行', '麻', '疒', '齊', '寸', '工', '衣', '干', '風', '香', '艮', '夂', '豆', '隶', '龠', '冫', '钅', '身', '缶', '斗', '長', '非', '阜', '水', '臼', '山', '田', '隹', '鹿', '癶', '戈', '龍'}\n"
          ]
        }
      ],
      "source": [
        "print(c.chr_radicals)"
      ]
    },
    {
      "cell_type": "code",
      "execution_count": 6,
      "metadata": {
        "colab": {
          "base_uri": "https://localhost:8080/"
        },
        "id": "X6ad7C6NBog3",
        "outputId": "b36b3ad3-0647-4700-b5aa-3b3a6e940f9e"
      },
      "outputs": [
        {
          "output_type": "execute_result",
          "data": {
            "text/plain": [
              "[<Concord 不足也。故{竑}其輻廣以為>,\n",
              " <Concord 也。从酉，{竷}省聲。讀若>,\n",
              " <Concord 也。从貝，{竷}省聲。賚：>,\n",
              " <Concord 。讀若僕。{竷}：繇也舞也>,\n",
              " <Concord 詩》曰：「{竷}竷舞我。」>,\n",
              " <Concord 》曰：「竷{竷}舞我。」𡕢>,\n",
              " <Concord 羲氏之虙。{䇎}：驚皃。从>,\n",
              " <Concord 結桂枝兮延{竚}，羌愈思兮>,\n",
              " <Concord 公？」因私{競}勸而遂為之>,\n",
              " <Concord 而從，物不{競}不爭。柔心>]"
            ]
          },
          "metadata": {},
          "execution_count": 6
        }
      ],
      "source": [
        "cql = '''\n",
        "[radical=\"立\"]\n",
        "'''\n",
        "get_first_n(cql, 10)"
      ]
    },
    {
      "cell_type": "markdown",
      "metadata": {
        "id": "UHXJKktKBog4"
      },
      "source": [
        "### 2.2 Ideographic Description Characters (IDCs)"
      ]
    },
    {
      "cell_type": "code",
      "execution_count": 7,
      "metadata": {
        "colab": {
          "base_uri": "https://localhost:8080/"
        },
        "id": "m-R8F4-cBog5",
        "outputId": "0f6d7f34-5ea1-4b97-dd84-88d6580b45f4"
      },
      "outputs": [
        {
          "output_type": "execute_result",
          "data": {
            "text/plain": [
              "{'curC': '⿷',\n",
              " 'encl': '⿴',\n",
              " 'horz2': '⿰',\n",
              " 'horz3': '⿲',\n",
              " 'over': '⿻',\n",
              " 'sur7': '⿹',\n",
              " 'surL': '⿺',\n",
              " 'surN': '⿵',\n",
              " 'surT': '⿸',\n",
              " 'surU': '⿶',\n",
              " 'vert2': '⿱',\n",
              " 'vert3': '⿳'}"
            ]
          },
          "metadata": {},
          "execution_count": 7
        }
      ],
      "source": [
        "c.chr_idcs"
      ]
    },
    {
      "cell_type": "code",
      "execution_count": 8,
      "metadata": {
        "colab": {
          "base_uri": "https://localhost:8080/"
        },
        "id": "05n7FqGyBog6",
        "outputId": "567b838f-2af2-4cc7-8587-988ddbe42153"
      },
      "outputs": [
        {
          "output_type": "stream",
          "name": "stdout",
          "text": [
            "杜: [<⿰:木土>]\n",
            "李: [<⿱:木子>]\n",
            "国: [<⿴:囗玉>]\n",
            "叵: [<⿷:匚口>]\n"
          ]
        }
      ],
      "source": [
        "from CompoTree import ComponentTree\n",
        "ctree = ComponentTree.load()\n",
        "\n",
        "for ch in \"杜李国叵\":\n",
        "    print(ch, ctree.ids_map.get(ch), sep=\": \")"
      ]
    },
    {
      "cell_type": "code",
      "execution_count": 9,
      "metadata": {
        "colab": {
          "base_uri": "https://localhost:8080/"
        },
        "id": "-6jcQBGrBog6",
        "outputId": "36a9a52f-34ac-4a4d-f5e9-986b54a123bf"
      },
      "outputs": [
        {
          "output_type": "execute_result",
          "data": {
            "text/plain": [
              "[<Concord 山樗。柏，{椈}。髡，梱。>,\n",
              " <Concord 也。暢臼以{椈}，杵以梧。>,\n",
              " <Concord 危也。東齊{槣}物而危謂之>,\n",
              " <Concord 从木安聲。{檈}：圜案也。>,\n",
              " <Concord 而萎黃。萷{櫹}槮之可哀兮>]"
            ]
          },
          "metadata": {},
          "execution_count": 9
        }
      ],
      "source": [
        "cql = '''\n",
        "[compo=\"木\" & idc=\"horz2\" & pos=\"0\"]\n",
        "'''\n",
        "get_first_n(cql, 5)"
      ]
    },
    {
      "cell_type": "code",
      "execution_count": 10,
      "metadata": {
        "colab": {
          "base_uri": "https://localhost:8080/"
        },
        "id": "dOyBy9yXBog7",
        "outputId": "344f0c71-0fa3-437e-f9f7-05603cee3c52"
      },
      "outputs": [
        {
          "output_type": "execute_result",
          "data": {
            "text/plain": [
              "[<Concord 經旬乃醒。{沐}浴神瀵，膚>,\n",
              " <Concord 越之東有輒{沐}之國，其長>,\n",
              " <Concord 局、薄言歸{沐}。終朝采藍>,\n",
              " <Concord 海兮東游，{沐}盥浴兮天池>,\n",
              " <Concord 靈澤兮一膏{沐}。懷蘭英兮>]"
            ]
          },
          "metadata": {},
          "execution_count": 10
        }
      ],
      "source": [
        "cql = '''\n",
        "[compo=\"木\" & idc=\"horz2\" & pos=\"1\"]\n",
        "'''\n",
        "get_first_n(cql, 5)"
      ]
    },
    {
      "cell_type": "code",
      "execution_count": 11,
      "metadata": {
        "colab": {
          "base_uri": "https://localhost:8080/"
        },
        "id": "tKl_jBfKBog8",
        "outputId": "2c994831-44cb-4de0-df3d-08bf73c0f529"
      },
      "outputs": [
        {
          "output_type": "stream",
          "name": "stdout",
          "text": [
            "Building index for character IDCs...\n"
          ]
        },
        {
          "output_type": "execute_result",
          "data": {
            "text/plain": [
              "[<Concord 岸崩。始置{圃囿}署，以宦者>,\n",
              " <Concord ，分是非，{圓回}天下於掌上>,\n",
              " <Concord 高尺。今有{圓困}，高一丈三>,\n",
              " <Concord 。大家圍著{圓圓}的桌子，稀>,\n",
              " <Concord 屋藏嬌（陳{圓圓}）的「吳家>]"
            ]
          },
          "metadata": {},
          "execution_count": 11
        }
      ],
      "source": [
        "cql = '''\n",
        "[idc=\"encl\"] [idc=\"encl\"]\n",
        "'''\n",
        "get_first_n(cql, 5)"
      ]
    },
    {
      "cell_type": "markdown",
      "metadata": {
        "id": "2FcnQlQ5Bog8"
      },
      "source": [
        "## 3 Search by Phonetic Properties"
      ]
    },
    {
      "cell_type": "code",
      "execution_count": 12,
      "metadata": {
        "colab": {
          "base_uri": "https://localhost:8080/"
        },
        "id": "_j7ewyyJDTf6",
        "outputId": "85b42817-9c1b-48f0-c4f7-b872fb841d5d"
      },
      "outputs": [
        {
          "output_type": "execute_result",
          "data": {
            "text/plain": [
              "{'moe': ['phon', 'tone', 'tp', 'sys=\"moe\"'],\n",
              " '廣韻': ['攝', '聲調', '韻母', '聲母', '開合', '等第', '反切', '拼音', 'IPA', 'sys=\"廣韻\"']}"
            ]
          },
          "metadata": {},
          "execution_count": 12
        }
      ],
      "source": [
        "c.cql_attrs['CharPhonetic']"
      ]
    },
    {
      "cell_type": "markdown",
      "metadata": {
        "id": "OAUkhI1XxcaN"
      },
      "source": [
        "### 3.1 Mandarin (based on [萌典](https://github.com/g0v/moedict-data/blob/master/dict-revised.json)) "
      ]
    },
    {
      "cell_type": "code",
      "execution_count": 13,
      "metadata": {
        "colab": {
          "base_uri": "https://localhost:8080/"
        },
        "id": "DUI5WI1TBog9",
        "outputId": "b7b3bc2f-5abe-4f21-d590-245dbf6200a9"
      },
      "outputs": [
        {
          "output_type": "execute_result",
          "data": {
            "text/plain": [
              "[<Concord 」耳邊不斷{嗡}嗡的縈繞著>,\n",
              " <Concord 耳邊不斷嗡{嗡}的縈繞著類>,\n",
              " <Concord 哭泣不秩聲{翁}，縗絰垂涕>,\n",
              " <Concord ，黑文而赤{翁}，名曰櫟，>,\n",
              " <Concord 發猛，塤篪{翁}博，瑟易良>]"
            ]
          },
          "metadata": {},
          "execution_count": 13
        }
      ],
      "source": [
        "cql = '''\n",
        "[phon=\"ㄨㄥ\" & tone=\"1\" & sys=\"moe\"]\n",
        "'''\n",
        "get_first_n(cql, 5)"
      ]
    },
    {
      "cell_type": "code",
      "execution_count": 14,
      "metadata": {
        "colab": {
          "base_uri": "https://localhost:8080/"
        },
        "id": "Cej-K7OTBog9",
        "outputId": "b3ba25d6-6541-42d8-82c9-2cdb7eb5a407"
      },
      "outputs": [
        {
          "output_type": "execute_result",
          "data": {
            "text/plain": [
              "[<Concord 大禍或遭流{炮波}及。我們步>,\n",
              " <Concord 牀版也。从{片扁}聲。讀若邊>,\n",
              " <Concord 如看推理名{片般}，由姐妹的>,\n",
              " <Concord 了進來，一{片片}綠油油的田>,\n",
              " <Concord 好高哇！一{片片}的竹葉，好>]"
            ]
          },
          "metadata": {},
          "execution_count": 14
        }
      ],
      "source": [
        "cql = '''\n",
        "[phon=\"^pʰ\" & tp=\"ipa\" & sys=\"moe\"] [phon=\"^pʰ\" & tp=\"ipa\" & sys=\"moe\"]\n",
        "'''\n",
        "get_first_n(cql, 5)"
      ]
    },
    {
      "cell_type": "markdown",
      "metadata": {
        "id": "yVFOR9FkyFG7"
      },
      "source": [
        "### 3.2 中古漢語 (based on [廣韻](https://zhuanlan.zhihu.com/p/20430939))"
      ]
    },
    {
      "cell_type": "code",
      "execution_count": 15,
      "metadata": {
        "colab": {
          "base_uri": "https://localhost:8080/"
        },
        "id": "KjcJZTMj08Gb",
        "outputId": "ba599011-b33d-4aa8-8839-0031f6be9eeb"
      },
      "outputs": [
        {
          "output_type": "execute_result",
          "data": {
            "text/plain": [
              "[<Concord 从雨相聲。{霚}：地气發，>,\n",
              " <Concord 山，其上多{銅}，其下多玉>,\n",
              " <Concord 無草木，多{銅}玉。囂水出>,\n",
              " <Concord 玉，其下多{銅}，其獸多閭>,\n",
              " <Concord 山，其上多{銅}玉，其下多>]"
            ]
          },
          "metadata": {},
          "execution_count": 15
        }
      ],
      "source": [
        "cql = '''\n",
        "[韻母=\"東\" & 聲調=\"平\" & sys=\"廣韻\"]\n",
        "'''\n",
        "get_first_n(cql, 5)"
      ]
    },
    {
      "cell_type": "markdown",
      "source": [
        "## 4 Search by Shallow Semantic Tag"
      ],
      "metadata": {
        "id": "Sc_i2apLk9IL"
      }
    },
    {
      "cell_type": "code",
      "source": [
        "cql = '''\n",
        "[semtag=\"植物\"] [semtag=\"植物\"]\n",
        "'''\n",
        "get_first_n(cql, 5)"
      ],
      "metadata": {
        "colab": {
          "base_uri": "https://localhost:8080/"
        },
        "id": "KqszOOMNlKEE",
        "outputId": "c8ea1345-cb8c-40fa-883b-3533e6ea9463"
      },
      "execution_count": 6,
      "outputs": [
        {
          "output_type": "execute_result",
          "data": {
            "text/plain": [
              "[<Concord 。且夫山不{槎蘗}，澤不伐夭>,\n",
              " <Concord 彘有艽莦，{槎櫛}堀虛，連比>,\n",
              " <Concord 則從行獵，{槎桎}拔，失鹿，>,\n",
              " <Concord 。冒甯柘，{槎棘}枳，窮浚谷>,\n",
              " <Concord 嶽之山，多{枳棘}剛木。有獸>]"
            ]
          },
          "metadata": {},
          "execution_count": 6
        }
      ]
    },
    {
      "cell_type": "markdown",
      "metadata": {
        "id": "w5CuYf2kBog-"
      },
      "source": [
        "## 5 Component Stats"
      ]
    },
    {
      "cell_type": "code",
      "execution_count": null,
      "metadata": {
        "id": "F7cP3KohBog-"
      },
      "outputs": [],
      "source": [
        "from hctk.compoAnalysis import CompoAnalysis\n",
        "\n",
        "reader = PlainTextReader(\"data/\", auto_load=False)\n",
        "c2 = CompoAnalysis(reader)"
      ]
    },
    {
      "cell_type": "markdown",
      "metadata": {
        "id": "Y8Qqh7wHBog-"
      },
      "source": [
        "### 4.1 Frequency Distributions"
      ]
    },
    {
      "cell_type": "markdown",
      "metadata": {
        "id": "vtfJ0NqOBog-"
      },
      "source": [
        "#### 4.1.1 Character"
      ]
    },
    {
      "cell_type": "code",
      "execution_count": null,
      "metadata": {
        "colab": {
          "base_uri": "https://localhost:8080/"
        },
        "id": "cR9kxZvYBog_",
        "outputId": "43ca347f-a86f-4474-d123-31f35b871136"
      },
      "outputs": [
        {
          "data": {
            "text/plain": [
              "[('，', 178802),\n",
              " ('。', 83819),\n",
              " ('之', 64665),\n",
              " ('不', 37264),\n",
              " ('也', 32634),\n",
              " ('而', 32035),\n",
              " ('以', 27556),\n",
              " ('其', 25931),\n",
              " ('者', 23304),\n",
              " ('曰', 21763)]"
            ]
          },
          "execution_count": 21,
          "metadata": {},
          "output_type": "execute_result"
        }
      ],
      "source": [
        "c2.freq_distr(tp=\"chr\", subcorp_idx=0).most_common(10)"
      ]
    },
    {
      "cell_type": "markdown",
      "metadata": {
        "id": "yuc227IrBog_"
      },
      "source": [
        "#### 4.1.2 Shape"
      ]
    },
    {
      "cell_type": "code",
      "execution_count": null,
      "metadata": {
        "colab": {
          "base_uri": "https://localhost:8080/"
        },
        "id": "Ttx5SFuxBog_",
        "outputId": "edb6bdbd-4545-4f1e-f2c9-ba2b4613ef6d"
      },
      "outputs": [
        {
          "data": {
            "text/plain": [
              "Counter({'': 256312,\n",
              "         'noChrData': 351898,\n",
              "         '⿰': 438079,\n",
              "         '⿱': 561453,\n",
              "         '⿲': 6242,\n",
              "         '⿳': 14381,\n",
              "         '⿴': 14409,\n",
              "         '⿵': 25234,\n",
              "         '⿶': 7275,\n",
              "         '⿷': 1641,\n",
              "         '⿸': 91226,\n",
              "         '⿹': 25384,\n",
              "         '⿺': 26847,\n",
              "         '⿻': 37847})"
            ]
          },
          "execution_count": 22,
          "metadata": {},
          "output_type": "execute_result"
        }
      ],
      "source": [
        "c2.freq_distr(tp=\"idc\", subcorp_idx=0)"
      ]
    },
    {
      "cell_type": "markdown",
      "metadata": {
        "id": "d54HgCU8BohA"
      },
      "source": [
        "#### 4.1.3 Radical"
      ]
    },
    {
      "cell_type": "code",
      "execution_count": null,
      "metadata": {
        "colab": {
          "base_uri": "https://localhost:8080/"
        },
        "id": "FO_xXBhvBohA",
        "outputId": "34eb4037-e0b6-432a-ec0c-63c4c3edff54"
      },
      "outputs": [
        {
          "data": {
            "text/plain": [
              "[('noChrData', 1517367),\n",
              " ('人', 422649),\n",
              " ('一', 281707),\n",
              " ('丿', 252723),\n",
              " ('口', 249345),\n",
              " ('火', 165875),\n",
              " ('言', 157936),\n",
              " ('水', 155632),\n",
              " ('八', 151539),\n",
              " ('心', 145208)]"
            ]
          },
          "execution_count": 23,
          "metadata": {},
          "output_type": "execute_result"
        }
      ],
      "source": [
        "c2.freq_distr(tp=\"rad\").most_common(10)"
      ]
    },
    {
      "cell_type": "markdown",
      "metadata": {
        "id": "3jiNiunDBohA"
      },
      "source": [
        "#### 4.1.4 Characters with a certain radical"
      ]
    },
    {
      "cell_type": "code",
      "execution_count": null,
      "metadata": {
        "colab": {
          "base_uri": "https://localhost:8080/"
        },
        "id": "3vJy9zWUBohB",
        "outputId": "94d5bdd6-4ca5-41ab-f07e-fa1b8adf071a"
      },
      "outputs": [
        {
          "data": {
            "text/plain": [
              "[('度', 4757),\n",
              " ('廣', 4050),\n",
              " ('廟', 3067),\n",
              " ('府', 3064),\n",
              " ('廢', 2542),\n",
              " ('庶', 2281),\n",
              " ('廉', 1594),\n",
              " ('康', 1570),\n",
              " ('序', 1213),\n",
              " ('庭', 1155)]"
            ]
          },
          "execution_count": 24,
          "metadata": {},
          "output_type": "execute_result"
        }
      ],
      "source": [
        "c2.freq_distr(tp=None, radical=\"广\").most_common(10)"
      ]
    },
    {
      "cell_type": "markdown",
      "metadata": {
        "id": "n98IPgSiBohB"
      },
      "source": [
        "#### 4.1.5 Characters with a certain component"
      ]
    },
    {
      "cell_type": "code",
      "execution_count": null,
      "metadata": {
        "colab": {
          "base_uri": "https://localhost:8080/"
        },
        "id": "r9-13bVrBohB",
        "outputId": "4d249d5b-47de-424a-9d9e-5f6237c3c6f7"
      },
      "outputs": [
        {
          "data": {
            "text/plain": [
              "Counter({'氶': 1,\n",
              "         '汞': 15,\n",
              "         '沓': 89,\n",
              "         '泉': 1349,\n",
              "         '泵': 3,\n",
              "         '淼': 4,\n",
              "         '滎': 344,\n",
              "         '漀': 1,\n",
              "         '漐': 9,\n",
              "         '漿': 153,\n",
              "         '澩': 3,\n",
              "         '灓': 5})"
            ]
          },
          "execution_count": 25,
          "metadata": {},
          "output_type": "execute_result"
        }
      ],
      "source": [
        "c2.freq_distr(tp=None, compo=\"水\", idc=\"vert2\", pos=-1)"
      ]
    },
    {
      "cell_type": "markdown",
      "metadata": {
        "id": "XQpPJpu8BohB"
      },
      "source": [
        "### 4.2 Productivity \n",
        "\n",
        "- Realized Productivity: $V(C, N)$\n",
        "- Expanding Productivity: $\\frac{V(1, C, N)}{V(1, N)}$\n",
        "- Potential Productivity: $\\frac{V(1, C, N)}{N(C)}$\n",
        "\n",
        "#### 4.2.1 Productivity of a radical"
      ]
    },
    {
      "cell_type": "code",
      "execution_count": null,
      "metadata": {
        "colab": {
          "base_uri": "https://localhost:8080/"
        },
        "id": "hrgBYeFxBohC",
        "outputId": "68a56786-89d7-4ace-d69f-16fa12753494"
      },
      "outputs": [
        {
          "data": {
            "text/plain": [
              "{'N': 1858228,\n",
              " 'NC': 5897,\n",
              " 'V1': 2083,\n",
              " 'V1C': 9,\n",
              " 'productivity': {'expanding': 0.0043206913106096975,\n",
              "  'potential': 0.001526199762591148,\n",
              "  'realized': 62}}"
            ]
          },
          "execution_count": 26,
          "metadata": {},
          "output_type": "execute_result"
        }
      ],
      "source": [
        "c2.productivity(radical=\"广\", subcorp_idx=0)"
      ]
    },
    {
      "cell_type": "markdown",
      "metadata": {
        "id": "6256a-ivBohI"
      },
      "source": [
        "### 4.2.2 Productivity of a component"
      ]
    },
    {
      "cell_type": "code",
      "execution_count": null,
      "metadata": {
        "colab": {
          "base_uri": "https://localhost:8080/"
        },
        "id": "X32e1es_BohI",
        "outputId": "f998da15-028a-4e61-addf-8217c1c7fe4c"
      },
      "outputs": [
        {
          "data": {
            "text/plain": [
              "{'N': 1858228,\n",
              " 'NC': 1027,\n",
              " 'V1': 2083,\n",
              " 'V1C': 72,\n",
              " 'productivity': {'expanding': 0.03456553048487758,\n",
              "  'potential': 0.07010710808179163,\n",
              "  'realized': 178}}"
            ]
          },
          "execution_count": 27,
          "metadata": {},
          "output_type": "execute_result"
        }
      ],
      "source": [
        "c2.productivity(compo=\"虫\", idc=\"horz2\", pos=0, subcorp_idx=0)"
      ]
    },
    {
      "cell_type": "markdown",
      "metadata": {
        "id": "faxDjSBZBohI"
      },
      "source": [
        "### 4.2.3 Productivity of Character shapes (IDCs)"
      ]
    },
    {
      "cell_type": "code",
      "execution_count": null,
      "metadata": {
        "colab": {
          "base_uri": "https://localhost:8080/",
          "height": 421
        },
        "id": "AxMiSWpFBohJ",
        "outputId": "31c94d45-942a-43e2-8b4d-682a7881c006"
      },
      "outputs": [
        {
          "data": {
            "text/html": [
              "<div>\n",
              "<style scoped>\n",
              "    .dataframe tbody tr th:only-of-type {\n",
              "        vertical-align: middle;\n",
              "    }\n",
              "\n",
              "    .dataframe tbody tr th {\n",
              "        vertical-align: top;\n",
              "    }\n",
              "\n",
              "    .dataframe thead th {\n",
              "        text-align: right;\n",
              "    }\n",
              "</style>\n",
              "<table border=\"1\" class=\"dataframe\">\n",
              "  <thead>\n",
              "    <tr style=\"text-align: right;\">\n",
              "      <th></th>\n",
              "      <th>name</th>\n",
              "      <th>shape</th>\n",
              "      <th>realized</th>\n",
              "      <th>expanding</th>\n",
              "      <th>potential</th>\n",
              "      <th>V1C</th>\n",
              "      <th>V1</th>\n",
              "      <th>NC</th>\n",
              "      <th>N</th>\n",
              "    </tr>\n",
              "  </thead>\n",
              "  <tbody>\n",
              "    <tr>\n",
              "      <th>0</th>\n",
              "      <td>horz2</td>\n",
              "      <td>⿰</td>\n",
              "      <td>5580</td>\n",
              "      <td>0.709073</td>\n",
              "      <td>0.003372</td>\n",
              "      <td>1477</td>\n",
              "      <td>2083</td>\n",
              "      <td>438079</td>\n",
              "      <td>1858228</td>\n",
              "    </tr>\n",
              "    <tr>\n",
              "      <th>1</th>\n",
              "      <td>vert2</td>\n",
              "      <td>⿱</td>\n",
              "      <td>2110</td>\n",
              "      <td>0.223236</td>\n",
              "      <td>0.000828</td>\n",
              "      <td>465</td>\n",
              "      <td>2083</td>\n",
              "      <td>561453</td>\n",
              "      <td>1858228</td>\n",
              "    </tr>\n",
              "    <tr>\n",
              "      <th>2</th>\n",
              "      <td>horz3</td>\n",
              "      <td>⿲</td>\n",
              "      <td>37</td>\n",
              "      <td>0.002400</td>\n",
              "      <td>0.000801</td>\n",
              "      <td>5</td>\n",
              "      <td>2083</td>\n",
              "      <td>6242</td>\n",
              "      <td>1858228</td>\n",
              "    </tr>\n",
              "    <tr>\n",
              "      <th>3</th>\n",
              "      <td>vert3</td>\n",
              "      <td>⿳</td>\n",
              "      <td>85</td>\n",
              "      <td>0.006721</td>\n",
              "      <td>0.000974</td>\n",
              "      <td>14</td>\n",
              "      <td>2083</td>\n",
              "      <td>14381</td>\n",
              "      <td>1858228</td>\n",
              "    </tr>\n",
              "    <tr>\n",
              "      <th>4</th>\n",
              "      <td>encl</td>\n",
              "      <td>⿴</td>\n",
              "      <td>27</td>\n",
              "      <td>0.001440</td>\n",
              "      <td>0.000208</td>\n",
              "      <td>3</td>\n",
              "      <td>2083</td>\n",
              "      <td>14409</td>\n",
              "      <td>1858228</td>\n",
              "    </tr>\n",
              "    <tr>\n",
              "      <th>5</th>\n",
              "      <td>surN</td>\n",
              "      <td>⿵</td>\n",
              "      <td>87</td>\n",
              "      <td>0.005761</td>\n",
              "      <td>0.000476</td>\n",
              "      <td>12</td>\n",
              "      <td>2083</td>\n",
              "      <td>25234</td>\n",
              "      <td>1858228</td>\n",
              "    </tr>\n",
              "    <tr>\n",
              "      <th>6</th>\n",
              "      <td>surU</td>\n",
              "      <td>⿶</td>\n",
              "      <td>6</td>\n",
              "      <td>0.000000</td>\n",
              "      <td>0.000000</td>\n",
              "      <td>0</td>\n",
              "      <td>2083</td>\n",
              "      <td>7275</td>\n",
              "      <td>1858228</td>\n",
              "    </tr>\n",
              "    <tr>\n",
              "      <th>7</th>\n",
              "      <td>curC</td>\n",
              "      <td>⿷</td>\n",
              "      <td>20</td>\n",
              "      <td>0.001920</td>\n",
              "      <td>0.002438</td>\n",
              "      <td>4</td>\n",
              "      <td>2083</td>\n",
              "      <td>1641</td>\n",
              "      <td>1858228</td>\n",
              "    </tr>\n",
              "    <tr>\n",
              "      <th>8</th>\n",
              "      <td>surT</td>\n",
              "      <td>⿸</td>\n",
              "      <td>342</td>\n",
              "      <td>0.026884</td>\n",
              "      <td>0.000614</td>\n",
              "      <td>56</td>\n",
              "      <td>2083</td>\n",
              "      <td>91226</td>\n",
              "      <td>1858228</td>\n",
              "    </tr>\n",
              "    <tr>\n",
              "      <th>9</th>\n",
              "      <td>sur7</td>\n",
              "      <td>⿹</td>\n",
              "      <td>51</td>\n",
              "      <td>0.002880</td>\n",
              "      <td>0.000236</td>\n",
              "      <td>6</td>\n",
              "      <td>2083</td>\n",
              "      <td>25384</td>\n",
              "      <td>1858228</td>\n",
              "    </tr>\n",
              "    <tr>\n",
              "      <th>10</th>\n",
              "      <td>surL</td>\n",
              "      <td>⿺</td>\n",
              "      <td>180</td>\n",
              "      <td>0.012482</td>\n",
              "      <td>0.000968</td>\n",
              "      <td>26</td>\n",
              "      <td>2083</td>\n",
              "      <td>26847</td>\n",
              "      <td>1858228</td>\n",
              "    </tr>\n",
              "    <tr>\n",
              "      <th>11</th>\n",
              "      <td>over</td>\n",
              "      <td>⿻</td>\n",
              "      <td>44</td>\n",
              "      <td>0.000960</td>\n",
              "      <td>0.000053</td>\n",
              "      <td>2</td>\n",
              "      <td>2083</td>\n",
              "      <td>37847</td>\n",
              "      <td>1858228</td>\n",
              "    </tr>\n",
              "  </tbody>\n",
              "</table>\n",
              "</div>"
            ],
            "text/plain": [
              "     name shape  realized  expanding  potential   V1C    V1      NC        N\n",
              "0   horz2     ⿰      5580   0.709073   0.003372  1477  2083  438079  1858228\n",
              "1   vert2     ⿱      2110   0.223236   0.000828   465  2083  561453  1858228\n",
              "2   horz3     ⿲        37   0.002400   0.000801     5  2083    6242  1858228\n",
              "3   vert3     ⿳        85   0.006721   0.000974    14  2083   14381  1858228\n",
              "4    encl     ⿴        27   0.001440   0.000208     3  2083   14409  1858228\n",
              "5    surN     ⿵        87   0.005761   0.000476    12  2083   25234  1858228\n",
              "6    surU     ⿶         6   0.000000   0.000000     0  2083    7275  1858228\n",
              "7    curC     ⿷        20   0.001920   0.002438     4  2083    1641  1858228\n",
              "8    surT     ⿸       342   0.026884   0.000614    56  2083   91226  1858228\n",
              "9    sur7     ⿹        51   0.002880   0.000236     6  2083   25384  1858228\n",
              "10   surL     ⿺       180   0.012482   0.000968    26  2083   26847  1858228\n",
              "11   over     ⿻        44   0.000960   0.000053     2  2083   37847  1858228"
            ]
          },
          "execution_count": 28,
          "metadata": {},
          "output_type": "execute_result"
        }
      ],
      "source": [
        "import pandas as pd\n",
        "from CompoTree import IDC\n",
        "\n",
        "df = []\n",
        "for idc in IDC:   \n",
        "    p = c2.productivity(idc=idc.name, subcorp_idx=0)\n",
        "    df.append({\n",
        "        'name': idc.name, \n",
        "        'shape': idc.value, \n",
        "        **p['productivity'],\n",
        "        'V1C': p['V1C'],\n",
        "        'V1': p['V1'],\n",
        "        'NC': p['NC'],\n",
        "        'N': p['N'],\n",
        "    })\n",
        "\n",
        "df = pd.DataFrame(df)\n",
        "df"
      ]
    },
    {
      "cell_type": "markdown",
      "metadata": {
        "id": "rOmYYB0vhKgc"
      },
      "source": [
        "## ToDo\n",
        "\n",
        "\n",
        "- N-gram freq\n",
        "- Collocation\n",
        "- Case studies\n",
        "\n",
        "#### 10/14 討論\n",
        "\n",
        "- 穩定指標 (given a query)\n",
        "- 部件資訊 (CompoTree)、[字型複雜度](http://ericdata.com/tw/detail.aspx?no=213258)\n",
        "    - Productivity\n",
        "- 語意變遷 (word2vec for each subcorpus) "
      ]
    }
  ],
  "metadata": {
    "colab": {
      "name": "charQuery.ipynb",
      "provenance": [],
      "toc_visible": true,
      "include_colab_link": true
    },
    "kernelspec": {
      "display_name": "py3.8",
      "language": "python",
      "name": "py3.8"
    },
    "language_info": {
      "codemirror_mode": {
        "name": "ipython",
        "version": 3
      },
      "file_extension": ".py",
      "mimetype": "text/x-python",
      "name": "python",
      "nbconvert_exporter": "python",
      "pygments_lexer": "ipython3",
      "version": "3.8.10"
    },
    "widgets": {
      "application/vnd.jupyter.widget-state+json": {
        "6114526361e4403a94ecba4252e81fdb": {
          "model_module": "@jupyter-widgets/controls",
          "model_name": "HBoxModel",
          "model_module_version": "1.5.0",
          "state": {
            "_view_name": "HBoxView",
            "_dom_classes": [],
            "_model_name": "HBoxModel",
            "_view_module": "@jupyter-widgets/controls",
            "_model_module_version": "1.5.0",
            "_view_count": null,
            "_view_module_version": "1.5.0",
            "box_style": "",
            "layout": "IPY_MODEL_f5199b99c20343c28acbb5ee63cf69b0",
            "_model_module": "@jupyter-widgets/controls",
            "children": [
              "IPY_MODEL_4c5ee0c27c5747e0bf17bb1a13ce038c",
              "IPY_MODEL_ed02d0a1bf384553a4570a070f105da6",
              "IPY_MODEL_63f567d204154a22a5bbcb054aa4824f"
            ]
          }
        },
        "f5199b99c20343c28acbb5ee63cf69b0": {
          "model_module": "@jupyter-widgets/base",
          "model_name": "LayoutModel",
          "model_module_version": "1.2.0",
          "state": {
            "_view_name": "LayoutView",
            "grid_template_rows": null,
            "right": null,
            "justify_content": null,
            "_view_module": "@jupyter-widgets/base",
            "overflow": null,
            "_model_module_version": "1.2.0",
            "_view_count": null,
            "flex_flow": null,
            "width": null,
            "min_width": null,
            "border": null,
            "align_items": null,
            "bottom": null,
            "_model_module": "@jupyter-widgets/base",
            "top": null,
            "grid_column": null,
            "overflow_y": null,
            "overflow_x": null,
            "grid_auto_flow": null,
            "grid_area": null,
            "grid_template_columns": null,
            "flex": null,
            "_model_name": "LayoutModel",
            "justify_items": null,
            "grid_row": null,
            "max_height": null,
            "align_content": null,
            "visibility": null,
            "align_self": null,
            "height": null,
            "min_height": null,
            "padding": null,
            "grid_auto_rows": null,
            "grid_gap": null,
            "max_width": null,
            "order": null,
            "_view_module_version": "1.2.0",
            "grid_template_areas": null,
            "object_position": null,
            "object_fit": null,
            "grid_auto_columns": null,
            "margin": null,
            "display": null,
            "left": null
          }
        },
        "4c5ee0c27c5747e0bf17bb1a13ce038c": {
          "model_module": "@jupyter-widgets/controls",
          "model_name": "HTMLModel",
          "model_module_version": "1.5.0",
          "state": {
            "_view_name": "HTMLView",
            "style": "IPY_MODEL_d9de1e335e5e42a2859f2d5ccff75b33",
            "_dom_classes": [],
            "description": "",
            "_model_name": "HTMLModel",
            "placeholder": "​",
            "_view_module": "@jupyter-widgets/controls",
            "_model_module_version": "1.5.0",
            "value": "100%",
            "_view_count": null,
            "_view_module_version": "1.5.0",
            "description_tooltip": null,
            "_model_module": "@jupyter-widgets/controls",
            "layout": "IPY_MODEL_a241175f95e0405090a40b05f197dddf"
          }
        },
        "ed02d0a1bf384553a4570a070f105da6": {
          "model_module": "@jupyter-widgets/controls",
          "model_name": "FloatProgressModel",
          "model_module_version": "1.5.0",
          "state": {
            "_view_name": "ProgressView",
            "style": "IPY_MODEL_50f7522ff32b42938079fcfe06fb7bfa",
            "_dom_classes": [],
            "description": "",
            "_model_name": "FloatProgressModel",
            "bar_style": "success",
            "max": 5,
            "_view_module": "@jupyter-widgets/controls",
            "_model_module_version": "1.5.0",
            "value": 5,
            "_view_count": null,
            "_view_module_version": "1.5.0",
            "orientation": "horizontal",
            "min": 0,
            "description_tooltip": null,
            "_model_module": "@jupyter-widgets/controls",
            "layout": "IPY_MODEL_1be6fa730dd046b8ab091e8d888977fe"
          }
        },
        "63f567d204154a22a5bbcb054aa4824f": {
          "model_module": "@jupyter-widgets/controls",
          "model_name": "HTMLModel",
          "model_module_version": "1.5.0",
          "state": {
            "_view_name": "HTMLView",
            "style": "IPY_MODEL_9bd9e92d33474f308bb0f4d4c94d96c5",
            "_dom_classes": [],
            "description": "",
            "_model_name": "HTMLModel",
            "placeholder": "​",
            "_view_module": "@jupyter-widgets/controls",
            "_model_module_version": "1.5.0",
            "value": " 5/5 [00:00&lt;00:00, 96.08it/s]",
            "_view_count": null,
            "_view_module_version": "1.5.0",
            "description_tooltip": null,
            "_model_module": "@jupyter-widgets/controls",
            "layout": "IPY_MODEL_b2ee2795e9be4ba28480e084f34fa85c"
          }
        },
        "d9de1e335e5e42a2859f2d5ccff75b33": {
          "model_module": "@jupyter-widgets/controls",
          "model_name": "DescriptionStyleModel",
          "model_module_version": "1.5.0",
          "state": {
            "_view_name": "StyleView",
            "_model_name": "DescriptionStyleModel",
            "description_width": "",
            "_view_module": "@jupyter-widgets/base",
            "_model_module_version": "1.5.0",
            "_view_count": null,
            "_view_module_version": "1.2.0",
            "_model_module": "@jupyter-widgets/controls"
          }
        },
        "a241175f95e0405090a40b05f197dddf": {
          "model_module": "@jupyter-widgets/base",
          "model_name": "LayoutModel",
          "model_module_version": "1.2.0",
          "state": {
            "_view_name": "LayoutView",
            "grid_template_rows": null,
            "right": null,
            "justify_content": null,
            "_view_module": "@jupyter-widgets/base",
            "overflow": null,
            "_model_module_version": "1.2.0",
            "_view_count": null,
            "flex_flow": null,
            "width": null,
            "min_width": null,
            "border": null,
            "align_items": null,
            "bottom": null,
            "_model_module": "@jupyter-widgets/base",
            "top": null,
            "grid_column": null,
            "overflow_y": null,
            "overflow_x": null,
            "grid_auto_flow": null,
            "grid_area": null,
            "grid_template_columns": null,
            "flex": null,
            "_model_name": "LayoutModel",
            "justify_items": null,
            "grid_row": null,
            "max_height": null,
            "align_content": null,
            "visibility": null,
            "align_self": null,
            "height": null,
            "min_height": null,
            "padding": null,
            "grid_auto_rows": null,
            "grid_gap": null,
            "max_width": null,
            "order": null,
            "_view_module_version": "1.2.0",
            "grid_template_areas": null,
            "object_position": null,
            "object_fit": null,
            "grid_auto_columns": null,
            "margin": null,
            "display": null,
            "left": null
          }
        },
        "50f7522ff32b42938079fcfe06fb7bfa": {
          "model_module": "@jupyter-widgets/controls",
          "model_name": "ProgressStyleModel",
          "model_module_version": "1.5.0",
          "state": {
            "_view_name": "StyleView",
            "_model_name": "ProgressStyleModel",
            "description_width": "",
            "_view_module": "@jupyter-widgets/base",
            "_model_module_version": "1.5.0",
            "_view_count": null,
            "_view_module_version": "1.2.0",
            "bar_color": null,
            "_model_module": "@jupyter-widgets/controls"
          }
        },
        "1be6fa730dd046b8ab091e8d888977fe": {
          "model_module": "@jupyter-widgets/base",
          "model_name": "LayoutModel",
          "model_module_version": "1.2.0",
          "state": {
            "_view_name": "LayoutView",
            "grid_template_rows": null,
            "right": null,
            "justify_content": null,
            "_view_module": "@jupyter-widgets/base",
            "overflow": null,
            "_model_module_version": "1.2.0",
            "_view_count": null,
            "flex_flow": null,
            "width": null,
            "min_width": null,
            "border": null,
            "align_items": null,
            "bottom": null,
            "_model_module": "@jupyter-widgets/base",
            "top": null,
            "grid_column": null,
            "overflow_y": null,
            "overflow_x": null,
            "grid_auto_flow": null,
            "grid_area": null,
            "grid_template_columns": null,
            "flex": null,
            "_model_name": "LayoutModel",
            "justify_items": null,
            "grid_row": null,
            "max_height": null,
            "align_content": null,
            "visibility": null,
            "align_self": null,
            "height": null,
            "min_height": null,
            "padding": null,
            "grid_auto_rows": null,
            "grid_gap": null,
            "max_width": null,
            "order": null,
            "_view_module_version": "1.2.0",
            "grid_template_areas": null,
            "object_position": null,
            "object_fit": null,
            "grid_auto_columns": null,
            "margin": null,
            "display": null,
            "left": null
          }
        },
        "9bd9e92d33474f308bb0f4d4c94d96c5": {
          "model_module": "@jupyter-widgets/controls",
          "model_name": "DescriptionStyleModel",
          "model_module_version": "1.5.0",
          "state": {
            "_view_name": "StyleView",
            "_model_name": "DescriptionStyleModel",
            "description_width": "",
            "_view_module": "@jupyter-widgets/base",
            "_model_module_version": "1.5.0",
            "_view_count": null,
            "_view_module_version": "1.2.0",
            "_model_module": "@jupyter-widgets/controls"
          }
        },
        "b2ee2795e9be4ba28480e084f34fa85c": {
          "model_module": "@jupyter-widgets/base",
          "model_name": "LayoutModel",
          "model_module_version": "1.2.0",
          "state": {
            "_view_name": "LayoutView",
            "grid_template_rows": null,
            "right": null,
            "justify_content": null,
            "_view_module": "@jupyter-widgets/base",
            "overflow": null,
            "_model_module_version": "1.2.0",
            "_view_count": null,
            "flex_flow": null,
            "width": null,
            "min_width": null,
            "border": null,
            "align_items": null,
            "bottom": null,
            "_model_module": "@jupyter-widgets/base",
            "top": null,
            "grid_column": null,
            "overflow_y": null,
            "overflow_x": null,
            "grid_auto_flow": null,
            "grid_area": null,
            "grid_template_columns": null,
            "flex": null,
            "_model_name": "LayoutModel",
            "justify_items": null,
            "grid_row": null,
            "max_height": null,
            "align_content": null,
            "visibility": null,
            "align_self": null,
            "height": null,
            "min_height": null,
            "padding": null,
            "grid_auto_rows": null,
            "grid_gap": null,
            "max_width": null,
            "order": null,
            "_view_module_version": "1.2.0",
            "grid_template_areas": null,
            "object_position": null,
            "object_fit": null,
            "grid_auto_columns": null,
            "margin": null,
            "display": null,
            "left": null
          }
        },
        "7863f38d9587414fbf631faa238c6543": {
          "model_module": "@jupyter-widgets/controls",
          "model_name": "HBoxModel",
          "model_module_version": "1.5.0",
          "state": {
            "_view_name": "HBoxView",
            "_dom_classes": [],
            "_model_name": "HBoxModel",
            "_view_module": "@jupyter-widgets/controls",
            "_model_module_version": "1.5.0",
            "_view_count": null,
            "_view_module_version": "1.5.0",
            "box_style": "",
            "layout": "IPY_MODEL_cc9e1e86c8e3453a9de1833667e65a7a",
            "_model_module": "@jupyter-widgets/controls",
            "children": [
              "IPY_MODEL_290e5ca550284fc6a91a18d4d41e4fdb",
              "IPY_MODEL_f4934013891e4a159db18eed35326f39",
              "IPY_MODEL_dde08c378c4742d89451e34a633f1134"
            ]
          }
        },
        "cc9e1e86c8e3453a9de1833667e65a7a": {
          "model_module": "@jupyter-widgets/base",
          "model_name": "LayoutModel",
          "model_module_version": "1.2.0",
          "state": {
            "_view_name": "LayoutView",
            "grid_template_rows": null,
            "right": null,
            "justify_content": null,
            "_view_module": "@jupyter-widgets/base",
            "overflow": null,
            "_model_module_version": "1.2.0",
            "_view_count": null,
            "flex_flow": null,
            "width": null,
            "min_width": null,
            "border": null,
            "align_items": null,
            "bottom": null,
            "_model_module": "@jupyter-widgets/base",
            "top": null,
            "grid_column": null,
            "overflow_y": null,
            "overflow_x": null,
            "grid_auto_flow": null,
            "grid_area": null,
            "grid_template_columns": null,
            "flex": null,
            "_model_name": "LayoutModel",
            "justify_items": null,
            "grid_row": null,
            "max_height": null,
            "align_content": null,
            "visibility": null,
            "align_self": null,
            "height": null,
            "min_height": null,
            "padding": null,
            "grid_auto_rows": null,
            "grid_gap": null,
            "max_width": null,
            "order": null,
            "_view_module_version": "1.2.0",
            "grid_template_areas": null,
            "object_position": null,
            "object_fit": null,
            "grid_auto_columns": null,
            "margin": null,
            "display": null,
            "left": null
          }
        },
        "290e5ca550284fc6a91a18d4d41e4fdb": {
          "model_module": "@jupyter-widgets/controls",
          "model_name": "HTMLModel",
          "model_module_version": "1.5.0",
          "state": {
            "_view_name": "HTMLView",
            "style": "IPY_MODEL_54612e5275c74c7eadaa6c893519ef9b",
            "_dom_classes": [],
            "description": "",
            "_model_name": "HTMLModel",
            "placeholder": "​",
            "_view_module": "@jupyter-widgets/controls",
            "_model_module_version": "1.5.0",
            "value": "100%",
            "_view_count": null,
            "_view_module_version": "1.5.0",
            "description_tooltip": null,
            "_model_module": "@jupyter-widgets/controls",
            "layout": "IPY_MODEL_85574d1c0796406bac7b8ef2c1334366"
          }
        },
        "f4934013891e4a159db18eed35326f39": {
          "model_module": "@jupyter-widgets/controls",
          "model_name": "FloatProgressModel",
          "model_module_version": "1.5.0",
          "state": {
            "_view_name": "ProgressView",
            "style": "IPY_MODEL_3376402b31fd450a8dae6c543158bfe6",
            "_dom_classes": [],
            "description": "",
            "_model_name": "FloatProgressModel",
            "bar_style": "success",
            "max": 5,
            "_view_module": "@jupyter-widgets/controls",
            "_model_module_version": "1.5.0",
            "value": 5,
            "_view_count": null,
            "_view_module_version": "1.5.0",
            "orientation": "horizontal",
            "min": 0,
            "description_tooltip": null,
            "_model_module": "@jupyter-widgets/controls",
            "layout": "IPY_MODEL_3a2d06dda34d433aac2a45f97e24c2bd"
          }
        },
        "dde08c378c4742d89451e34a633f1134": {
          "model_module": "@jupyter-widgets/controls",
          "model_name": "HTMLModel",
          "model_module_version": "1.5.0",
          "state": {
            "_view_name": "HTMLView",
            "style": "IPY_MODEL_6c5dbea2153c467697d8b271ce7d8511",
            "_dom_classes": [],
            "description": "",
            "_model_name": "HTMLModel",
            "placeholder": "​",
            "_view_module": "@jupyter-widgets/controls",
            "_model_module_version": "1.5.0",
            "value": " 5/5 [00:04&lt;00:00,  1.07it/s]",
            "_view_count": null,
            "_view_module_version": "1.5.0",
            "description_tooltip": null,
            "_model_module": "@jupyter-widgets/controls",
            "layout": "IPY_MODEL_338316a40f3a4d02acfbf0e08029a6a5"
          }
        },
        "54612e5275c74c7eadaa6c893519ef9b": {
          "model_module": "@jupyter-widgets/controls",
          "model_name": "DescriptionStyleModel",
          "model_module_version": "1.5.0",
          "state": {
            "_view_name": "StyleView",
            "_model_name": "DescriptionStyleModel",
            "description_width": "",
            "_view_module": "@jupyter-widgets/base",
            "_model_module_version": "1.5.0",
            "_view_count": null,
            "_view_module_version": "1.2.0",
            "_model_module": "@jupyter-widgets/controls"
          }
        },
        "85574d1c0796406bac7b8ef2c1334366": {
          "model_module": "@jupyter-widgets/base",
          "model_name": "LayoutModel",
          "model_module_version": "1.2.0",
          "state": {
            "_view_name": "LayoutView",
            "grid_template_rows": null,
            "right": null,
            "justify_content": null,
            "_view_module": "@jupyter-widgets/base",
            "overflow": null,
            "_model_module_version": "1.2.0",
            "_view_count": null,
            "flex_flow": null,
            "width": null,
            "min_width": null,
            "border": null,
            "align_items": null,
            "bottom": null,
            "_model_module": "@jupyter-widgets/base",
            "top": null,
            "grid_column": null,
            "overflow_y": null,
            "overflow_x": null,
            "grid_auto_flow": null,
            "grid_area": null,
            "grid_template_columns": null,
            "flex": null,
            "_model_name": "LayoutModel",
            "justify_items": null,
            "grid_row": null,
            "max_height": null,
            "align_content": null,
            "visibility": null,
            "align_self": null,
            "height": null,
            "min_height": null,
            "padding": null,
            "grid_auto_rows": null,
            "grid_gap": null,
            "max_width": null,
            "order": null,
            "_view_module_version": "1.2.0",
            "grid_template_areas": null,
            "object_position": null,
            "object_fit": null,
            "grid_auto_columns": null,
            "margin": null,
            "display": null,
            "left": null
          }
        },
        "3376402b31fd450a8dae6c543158bfe6": {
          "model_module": "@jupyter-widgets/controls",
          "model_name": "ProgressStyleModel",
          "model_module_version": "1.5.0",
          "state": {
            "_view_name": "StyleView",
            "_model_name": "ProgressStyleModel",
            "description_width": "",
            "_view_module": "@jupyter-widgets/base",
            "_model_module_version": "1.5.0",
            "_view_count": null,
            "_view_module_version": "1.2.0",
            "bar_color": null,
            "_model_module": "@jupyter-widgets/controls"
          }
        },
        "3a2d06dda34d433aac2a45f97e24c2bd": {
          "model_module": "@jupyter-widgets/base",
          "model_name": "LayoutModel",
          "model_module_version": "1.2.0",
          "state": {
            "_view_name": "LayoutView",
            "grid_template_rows": null,
            "right": null,
            "justify_content": null,
            "_view_module": "@jupyter-widgets/base",
            "overflow": null,
            "_model_module_version": "1.2.0",
            "_view_count": null,
            "flex_flow": null,
            "width": null,
            "min_width": null,
            "border": null,
            "align_items": null,
            "bottom": null,
            "_model_module": "@jupyter-widgets/base",
            "top": null,
            "grid_column": null,
            "overflow_y": null,
            "overflow_x": null,
            "grid_auto_flow": null,
            "grid_area": null,
            "grid_template_columns": null,
            "flex": null,
            "_model_name": "LayoutModel",
            "justify_items": null,
            "grid_row": null,
            "max_height": null,
            "align_content": null,
            "visibility": null,
            "align_self": null,
            "height": null,
            "min_height": null,
            "padding": null,
            "grid_auto_rows": null,
            "grid_gap": null,
            "max_width": null,
            "order": null,
            "_view_module_version": "1.2.0",
            "grid_template_areas": null,
            "object_position": null,
            "object_fit": null,
            "grid_auto_columns": null,
            "margin": null,
            "display": null,
            "left": null
          }
        },
        "6c5dbea2153c467697d8b271ce7d8511": {
          "model_module": "@jupyter-widgets/controls",
          "model_name": "DescriptionStyleModel",
          "model_module_version": "1.5.0",
          "state": {
            "_view_name": "StyleView",
            "_model_name": "DescriptionStyleModel",
            "description_width": "",
            "_view_module": "@jupyter-widgets/base",
            "_model_module_version": "1.5.0",
            "_view_count": null,
            "_view_module_version": "1.2.0",
            "_model_module": "@jupyter-widgets/controls"
          }
        },
        "338316a40f3a4d02acfbf0e08029a6a5": {
          "model_module": "@jupyter-widgets/base",
          "model_name": "LayoutModel",
          "model_module_version": "1.2.0",
          "state": {
            "_view_name": "LayoutView",
            "grid_template_rows": null,
            "right": null,
            "justify_content": null,
            "_view_module": "@jupyter-widgets/base",
            "overflow": null,
            "_model_module_version": "1.2.0",
            "_view_count": null,
            "flex_flow": null,
            "width": null,
            "min_width": null,
            "border": null,
            "align_items": null,
            "bottom": null,
            "_model_module": "@jupyter-widgets/base",
            "top": null,
            "grid_column": null,
            "overflow_y": null,
            "overflow_x": null,
            "grid_auto_flow": null,
            "grid_area": null,
            "grid_template_columns": null,
            "flex": null,
            "_model_name": "LayoutModel",
            "justify_items": null,
            "grid_row": null,
            "max_height": null,
            "align_content": null,
            "visibility": null,
            "align_self": null,
            "height": null,
            "min_height": null,
            "padding": null,
            "grid_auto_rows": null,
            "grid_gap": null,
            "max_width": null,
            "order": null,
            "_view_module_version": "1.2.0",
            "grid_template_areas": null,
            "object_position": null,
            "object_fit": null,
            "grid_auto_columns": null,
            "margin": null,
            "display": null,
            "left": null
          }
        }
      }
    }
  },
  "nbformat": 4,
  "nbformat_minor": 0
}