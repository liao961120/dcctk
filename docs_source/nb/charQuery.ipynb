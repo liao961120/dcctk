{
  "nbformat": 4,
  "nbformat_minor": 0,
  "metadata": {
    "kernelspec": {
      "display_name": "py3.7",
      "language": "python",
      "name": "py3.7"
    },
    "language_info": {
      "codemirror_mode": {
        "name": "ipython",
        "version": 3
      },
      "file_extension": ".py",
      "mimetype": "text/x-python",
      "name": "python",
      "nbconvert_exporter": "python",
      "pygments_lexer": "ipython3",
      "version": "3.7.6"
    },
    "colab": {
      "name": "charQuery.ipynb",
      "provenance": [],
      "include_colab_link": true
    },
    "widgets": {
      "application/vnd.jupyter.widget-state+json": {
        "3d6f14bce1584353a8ee0cc084e7ef02": {
          "model_module": "@jupyter-widgets/controls",
          "model_name": "HBoxModel",
          "model_module_version": "1.5.0",
          "state": {
            "_view_name": "HBoxView",
            "_dom_classes": [],
            "_model_name": "HBoxModel",
            "_view_module": "@jupyter-widgets/controls",
            "_model_module_version": "1.5.0",
            "_view_count": null,
            "_view_module_version": "1.5.0",
            "box_style": "",
            "layout": "IPY_MODEL_a83022eafa7945958774be657bd9be8b",
            "_model_module": "@jupyter-widgets/controls",
            "children": [
              "IPY_MODEL_d1b2e1756dbd431c9ed80992580ae4b6",
              "IPY_MODEL_17c862794e0548eda1d60734df44f41f",
              "IPY_MODEL_a944eb79337e4c25935da03eb7605d46"
            ]
          }
        },
        "a83022eafa7945958774be657bd9be8b": {
          "model_module": "@jupyter-widgets/base",
          "model_name": "LayoutModel",
          "model_module_version": "1.2.0",
          "state": {
            "_view_name": "LayoutView",
            "grid_template_rows": null,
            "right": null,
            "justify_content": null,
            "_view_module": "@jupyter-widgets/base",
            "overflow": null,
            "_model_module_version": "1.2.0",
            "_view_count": null,
            "flex_flow": null,
            "width": null,
            "min_width": null,
            "border": null,
            "align_items": null,
            "bottom": null,
            "_model_module": "@jupyter-widgets/base",
            "top": null,
            "grid_column": null,
            "overflow_y": null,
            "overflow_x": null,
            "grid_auto_flow": null,
            "grid_area": null,
            "grid_template_columns": null,
            "flex": null,
            "_model_name": "LayoutModel",
            "justify_items": null,
            "grid_row": null,
            "max_height": null,
            "align_content": null,
            "visibility": null,
            "align_self": null,
            "height": null,
            "min_height": null,
            "padding": null,
            "grid_auto_rows": null,
            "grid_gap": null,
            "max_width": null,
            "order": null,
            "_view_module_version": "1.2.0",
            "grid_template_areas": null,
            "object_position": null,
            "object_fit": null,
            "grid_auto_columns": null,
            "margin": null,
            "display": null,
            "left": null
          }
        },
        "d1b2e1756dbd431c9ed80992580ae4b6": {
          "model_module": "@jupyter-widgets/controls",
          "model_name": "HTMLModel",
          "model_module_version": "1.5.0",
          "state": {
            "_view_name": "HTMLView",
            "style": "IPY_MODEL_aad7eac192e5454b9cb3b5db3f54223b",
            "_dom_classes": [],
            "description": "",
            "_model_name": "HTMLModel",
            "placeholder": "​",
            "_view_module": "@jupyter-widgets/controls",
            "_model_module_version": "1.5.0",
            "value": "100%",
            "_view_count": null,
            "_view_module_version": "1.5.0",
            "description_tooltip": null,
            "_model_module": "@jupyter-widgets/controls",
            "layout": "IPY_MODEL_90f9af2be93443349861699de0ac15db"
          }
        },
        "17c862794e0548eda1d60734df44f41f": {
          "model_module": "@jupyter-widgets/controls",
          "model_name": "FloatProgressModel",
          "model_module_version": "1.5.0",
          "state": {
            "_view_name": "ProgressView",
            "style": "IPY_MODEL_e88c1f0d1f674d04936d54b0adfd07e8",
            "_dom_classes": [],
            "description": "",
            "_model_name": "FloatProgressModel",
            "bar_style": "success",
            "max": 5,
            "_view_module": "@jupyter-widgets/controls",
            "_model_module_version": "1.5.0",
            "value": 5,
            "_view_count": null,
            "_view_module_version": "1.5.0",
            "orientation": "horizontal",
            "min": 0,
            "description_tooltip": null,
            "_model_module": "@jupyter-widgets/controls",
            "layout": "IPY_MODEL_2c8b49d81c3e427ca0ca70fb8affa2af"
          }
        },
        "a944eb79337e4c25935da03eb7605d46": {
          "model_module": "@jupyter-widgets/controls",
          "model_name": "HTMLModel",
          "model_module_version": "1.5.0",
          "state": {
            "_view_name": "HTMLView",
            "style": "IPY_MODEL_72eff309dcc94715b3ed341769de4979",
            "_dom_classes": [],
            "description": "",
            "_model_name": "HTMLModel",
            "placeholder": "​",
            "_view_module": "@jupyter-widgets/controls",
            "_model_module_version": "1.5.0",
            "value": " 5/5 [00:00&lt;00:00, 99.74it/s]",
            "_view_count": null,
            "_view_module_version": "1.5.0",
            "description_tooltip": null,
            "_model_module": "@jupyter-widgets/controls",
            "layout": "IPY_MODEL_e37fc475fd9249a2bef29bc2dfaa92a4"
          }
        },
        "aad7eac192e5454b9cb3b5db3f54223b": {
          "model_module": "@jupyter-widgets/controls",
          "model_name": "DescriptionStyleModel",
          "model_module_version": "1.5.0",
          "state": {
            "_view_name": "StyleView",
            "_model_name": "DescriptionStyleModel",
            "description_width": "",
            "_view_module": "@jupyter-widgets/base",
            "_model_module_version": "1.5.0",
            "_view_count": null,
            "_view_module_version": "1.2.0",
            "_model_module": "@jupyter-widgets/controls"
          }
        },
        "90f9af2be93443349861699de0ac15db": {
          "model_module": "@jupyter-widgets/base",
          "model_name": "LayoutModel",
          "model_module_version": "1.2.0",
          "state": {
            "_view_name": "LayoutView",
            "grid_template_rows": null,
            "right": null,
            "justify_content": null,
            "_view_module": "@jupyter-widgets/base",
            "overflow": null,
            "_model_module_version": "1.2.0",
            "_view_count": null,
            "flex_flow": null,
            "width": null,
            "min_width": null,
            "border": null,
            "align_items": null,
            "bottom": null,
            "_model_module": "@jupyter-widgets/base",
            "top": null,
            "grid_column": null,
            "overflow_y": null,
            "overflow_x": null,
            "grid_auto_flow": null,
            "grid_area": null,
            "grid_template_columns": null,
            "flex": null,
            "_model_name": "LayoutModel",
            "justify_items": null,
            "grid_row": null,
            "max_height": null,
            "align_content": null,
            "visibility": null,
            "align_self": null,
            "height": null,
            "min_height": null,
            "padding": null,
            "grid_auto_rows": null,
            "grid_gap": null,
            "max_width": null,
            "order": null,
            "_view_module_version": "1.2.0",
            "grid_template_areas": null,
            "object_position": null,
            "object_fit": null,
            "grid_auto_columns": null,
            "margin": null,
            "display": null,
            "left": null
          }
        },
        "e88c1f0d1f674d04936d54b0adfd07e8": {
          "model_module": "@jupyter-widgets/controls",
          "model_name": "ProgressStyleModel",
          "model_module_version": "1.5.0",
          "state": {
            "_view_name": "StyleView",
            "_model_name": "ProgressStyleModel",
            "description_width": "",
            "_view_module": "@jupyter-widgets/base",
            "_model_module_version": "1.5.0",
            "_view_count": null,
            "_view_module_version": "1.2.0",
            "bar_color": null,
            "_model_module": "@jupyter-widgets/controls"
          }
        },
        "2c8b49d81c3e427ca0ca70fb8affa2af": {
          "model_module": "@jupyter-widgets/base",
          "model_name": "LayoutModel",
          "model_module_version": "1.2.0",
          "state": {
            "_view_name": "LayoutView",
            "grid_template_rows": null,
            "right": null,
            "justify_content": null,
            "_view_module": "@jupyter-widgets/base",
            "overflow": null,
            "_model_module_version": "1.2.0",
            "_view_count": null,
            "flex_flow": null,
            "width": null,
            "min_width": null,
            "border": null,
            "align_items": null,
            "bottom": null,
            "_model_module": "@jupyter-widgets/base",
            "top": null,
            "grid_column": null,
            "overflow_y": null,
            "overflow_x": null,
            "grid_auto_flow": null,
            "grid_area": null,
            "grid_template_columns": null,
            "flex": null,
            "_model_name": "LayoutModel",
            "justify_items": null,
            "grid_row": null,
            "max_height": null,
            "align_content": null,
            "visibility": null,
            "align_self": null,
            "height": null,
            "min_height": null,
            "padding": null,
            "grid_auto_rows": null,
            "grid_gap": null,
            "max_width": null,
            "order": null,
            "_view_module_version": "1.2.0",
            "grid_template_areas": null,
            "object_position": null,
            "object_fit": null,
            "grid_auto_columns": null,
            "margin": null,
            "display": null,
            "left": null
          }
        },
        "72eff309dcc94715b3ed341769de4979": {
          "model_module": "@jupyter-widgets/controls",
          "model_name": "DescriptionStyleModel",
          "model_module_version": "1.5.0",
          "state": {
            "_view_name": "StyleView",
            "_model_name": "DescriptionStyleModel",
            "description_width": "",
            "_view_module": "@jupyter-widgets/base",
            "_model_module_version": "1.5.0",
            "_view_count": null,
            "_view_module_version": "1.2.0",
            "_model_module": "@jupyter-widgets/controls"
          }
        },
        "e37fc475fd9249a2bef29bc2dfaa92a4": {
          "model_module": "@jupyter-widgets/base",
          "model_name": "LayoutModel",
          "model_module_version": "1.2.0",
          "state": {
            "_view_name": "LayoutView",
            "grid_template_rows": null,
            "right": null,
            "justify_content": null,
            "_view_module": "@jupyter-widgets/base",
            "overflow": null,
            "_model_module_version": "1.2.0",
            "_view_count": null,
            "flex_flow": null,
            "width": null,
            "min_width": null,
            "border": null,
            "align_items": null,
            "bottom": null,
            "_model_module": "@jupyter-widgets/base",
            "top": null,
            "grid_column": null,
            "overflow_y": null,
            "overflow_x": null,
            "grid_auto_flow": null,
            "grid_area": null,
            "grid_template_columns": null,
            "flex": null,
            "_model_name": "LayoutModel",
            "justify_items": null,
            "grid_row": null,
            "max_height": null,
            "align_content": null,
            "visibility": null,
            "align_self": null,
            "height": null,
            "min_height": null,
            "padding": null,
            "grid_auto_rows": null,
            "grid_gap": null,
            "max_width": null,
            "order": null,
            "_view_module_version": "1.2.0",
            "grid_template_areas": null,
            "object_position": null,
            "object_fit": null,
            "grid_auto_columns": null,
            "margin": null,
            "display": null,
            "left": null
          }
        },
        "46e0f316f4c54f55aaaef3cc317c47d4": {
          "model_module": "@jupyter-widgets/controls",
          "model_name": "HBoxModel",
          "model_module_version": "1.5.0",
          "state": {
            "_view_name": "HBoxView",
            "_dom_classes": [],
            "_model_name": "HBoxModel",
            "_view_module": "@jupyter-widgets/controls",
            "_model_module_version": "1.5.0",
            "_view_count": null,
            "_view_module_version": "1.5.0",
            "box_style": "",
            "layout": "IPY_MODEL_5f7d2c6d11f1429b9cc0a12624157218",
            "_model_module": "@jupyter-widgets/controls",
            "children": [
              "IPY_MODEL_08af949daeea4969bdd3ca5c4c8da37c",
              "IPY_MODEL_6a697d7ab7c64b059554b0e77d884984",
              "IPY_MODEL_c8713ff5085e40349237aa0cc512f405"
            ]
          }
        },
        "5f7d2c6d11f1429b9cc0a12624157218": {
          "model_module": "@jupyter-widgets/base",
          "model_name": "LayoutModel",
          "model_module_version": "1.2.0",
          "state": {
            "_view_name": "LayoutView",
            "grid_template_rows": null,
            "right": null,
            "justify_content": null,
            "_view_module": "@jupyter-widgets/base",
            "overflow": null,
            "_model_module_version": "1.2.0",
            "_view_count": null,
            "flex_flow": null,
            "width": null,
            "min_width": null,
            "border": null,
            "align_items": null,
            "bottom": null,
            "_model_module": "@jupyter-widgets/base",
            "top": null,
            "grid_column": null,
            "overflow_y": null,
            "overflow_x": null,
            "grid_auto_flow": null,
            "grid_area": null,
            "grid_template_columns": null,
            "flex": null,
            "_model_name": "LayoutModel",
            "justify_items": null,
            "grid_row": null,
            "max_height": null,
            "align_content": null,
            "visibility": null,
            "align_self": null,
            "height": null,
            "min_height": null,
            "padding": null,
            "grid_auto_rows": null,
            "grid_gap": null,
            "max_width": null,
            "order": null,
            "_view_module_version": "1.2.0",
            "grid_template_areas": null,
            "object_position": null,
            "object_fit": null,
            "grid_auto_columns": null,
            "margin": null,
            "display": null,
            "left": null
          }
        },
        "08af949daeea4969bdd3ca5c4c8da37c": {
          "model_module": "@jupyter-widgets/controls",
          "model_name": "HTMLModel",
          "model_module_version": "1.5.0",
          "state": {
            "_view_name": "HTMLView",
            "style": "IPY_MODEL_3a644a365a5b428691935c4fb0f76d7f",
            "_dom_classes": [],
            "description": "",
            "_model_name": "HTMLModel",
            "placeholder": "​",
            "_view_module": "@jupyter-widgets/controls",
            "_model_module_version": "1.5.0",
            "value": "100%",
            "_view_count": null,
            "_view_module_version": "1.5.0",
            "description_tooltip": null,
            "_model_module": "@jupyter-widgets/controls",
            "layout": "IPY_MODEL_ef117ab525124436baffa087ba3c8ef7"
          }
        },
        "6a697d7ab7c64b059554b0e77d884984": {
          "model_module": "@jupyter-widgets/controls",
          "model_name": "FloatProgressModel",
          "model_module_version": "1.5.0",
          "state": {
            "_view_name": "ProgressView",
            "style": "IPY_MODEL_42b77823c8274492ba5609bf5a6b8d48",
            "_dom_classes": [],
            "description": "",
            "_model_name": "FloatProgressModel",
            "bar_style": "success",
            "max": 5,
            "_view_module": "@jupyter-widgets/controls",
            "_model_module_version": "1.5.0",
            "value": 5,
            "_view_count": null,
            "_view_module_version": "1.5.0",
            "orientation": "horizontal",
            "min": 0,
            "description_tooltip": null,
            "_model_module": "@jupyter-widgets/controls",
            "layout": "IPY_MODEL_d7868fb514384e68b89b475785fba931"
          }
        },
        "c8713ff5085e40349237aa0cc512f405": {
          "model_module": "@jupyter-widgets/controls",
          "model_name": "HTMLModel",
          "model_module_version": "1.5.0",
          "state": {
            "_view_name": "HTMLView",
            "style": "IPY_MODEL_837cae1200e14c9db882857cddf6889f",
            "_dom_classes": [],
            "description": "",
            "_model_name": "HTMLModel",
            "placeholder": "​",
            "_view_module": "@jupyter-widgets/controls",
            "_model_module_version": "1.5.0",
            "value": " 5/5 [00:04&lt;00:00,  1.01it/s]",
            "_view_count": null,
            "_view_module_version": "1.5.0",
            "description_tooltip": null,
            "_model_module": "@jupyter-widgets/controls",
            "layout": "IPY_MODEL_50776ae0bf6a4beea8da0d8012017d54"
          }
        },
        "3a644a365a5b428691935c4fb0f76d7f": {
          "model_module": "@jupyter-widgets/controls",
          "model_name": "DescriptionStyleModel",
          "model_module_version": "1.5.0",
          "state": {
            "_view_name": "StyleView",
            "_model_name": "DescriptionStyleModel",
            "description_width": "",
            "_view_module": "@jupyter-widgets/base",
            "_model_module_version": "1.5.0",
            "_view_count": null,
            "_view_module_version": "1.2.0",
            "_model_module": "@jupyter-widgets/controls"
          }
        },
        "ef117ab525124436baffa087ba3c8ef7": {
          "model_module": "@jupyter-widgets/base",
          "model_name": "LayoutModel",
          "model_module_version": "1.2.0",
          "state": {
            "_view_name": "LayoutView",
            "grid_template_rows": null,
            "right": null,
            "justify_content": null,
            "_view_module": "@jupyter-widgets/base",
            "overflow": null,
            "_model_module_version": "1.2.0",
            "_view_count": null,
            "flex_flow": null,
            "width": null,
            "min_width": null,
            "border": null,
            "align_items": null,
            "bottom": null,
            "_model_module": "@jupyter-widgets/base",
            "top": null,
            "grid_column": null,
            "overflow_y": null,
            "overflow_x": null,
            "grid_auto_flow": null,
            "grid_area": null,
            "grid_template_columns": null,
            "flex": null,
            "_model_name": "LayoutModel",
            "justify_items": null,
            "grid_row": null,
            "max_height": null,
            "align_content": null,
            "visibility": null,
            "align_self": null,
            "height": null,
            "min_height": null,
            "padding": null,
            "grid_auto_rows": null,
            "grid_gap": null,
            "max_width": null,
            "order": null,
            "_view_module_version": "1.2.0",
            "grid_template_areas": null,
            "object_position": null,
            "object_fit": null,
            "grid_auto_columns": null,
            "margin": null,
            "display": null,
            "left": null
          }
        },
        "42b77823c8274492ba5609bf5a6b8d48": {
          "model_module": "@jupyter-widgets/controls",
          "model_name": "ProgressStyleModel",
          "model_module_version": "1.5.0",
          "state": {
            "_view_name": "StyleView",
            "_model_name": "ProgressStyleModel",
            "description_width": "",
            "_view_module": "@jupyter-widgets/base",
            "_model_module_version": "1.5.0",
            "_view_count": null,
            "_view_module_version": "1.2.0",
            "bar_color": null,
            "_model_module": "@jupyter-widgets/controls"
          }
        },
        "d7868fb514384e68b89b475785fba931": {
          "model_module": "@jupyter-widgets/base",
          "model_name": "LayoutModel",
          "model_module_version": "1.2.0",
          "state": {
            "_view_name": "LayoutView",
            "grid_template_rows": null,
            "right": null,
            "justify_content": null,
            "_view_module": "@jupyter-widgets/base",
            "overflow": null,
            "_model_module_version": "1.2.0",
            "_view_count": null,
            "flex_flow": null,
            "width": null,
            "min_width": null,
            "border": null,
            "align_items": null,
            "bottom": null,
            "_model_module": "@jupyter-widgets/base",
            "top": null,
            "grid_column": null,
            "overflow_y": null,
            "overflow_x": null,
            "grid_auto_flow": null,
            "grid_area": null,
            "grid_template_columns": null,
            "flex": null,
            "_model_name": "LayoutModel",
            "justify_items": null,
            "grid_row": null,
            "max_height": null,
            "align_content": null,
            "visibility": null,
            "align_self": null,
            "height": null,
            "min_height": null,
            "padding": null,
            "grid_auto_rows": null,
            "grid_gap": null,
            "max_width": null,
            "order": null,
            "_view_module_version": "1.2.0",
            "grid_template_areas": null,
            "object_position": null,
            "object_fit": null,
            "grid_auto_columns": null,
            "margin": null,
            "display": null,
            "left": null
          }
        },
        "837cae1200e14c9db882857cddf6889f": {
          "model_module": "@jupyter-widgets/controls",
          "model_name": "DescriptionStyleModel",
          "model_module_version": "1.5.0",
          "state": {
            "_view_name": "StyleView",
            "_model_name": "DescriptionStyleModel",
            "description_width": "",
            "_view_module": "@jupyter-widgets/base",
            "_model_module_version": "1.5.0",
            "_view_count": null,
            "_view_module_version": "1.2.0",
            "_model_module": "@jupyter-widgets/controls"
          }
        },
        "50776ae0bf6a4beea8da0d8012017d54": {
          "model_module": "@jupyter-widgets/base",
          "model_name": "LayoutModel",
          "model_module_version": "1.2.0",
          "state": {
            "_view_name": "LayoutView",
            "grid_template_rows": null,
            "right": null,
            "justify_content": null,
            "_view_module": "@jupyter-widgets/base",
            "overflow": null,
            "_model_module_version": "1.2.0",
            "_view_count": null,
            "flex_flow": null,
            "width": null,
            "min_width": null,
            "border": null,
            "align_items": null,
            "bottom": null,
            "_model_module": "@jupyter-widgets/base",
            "top": null,
            "grid_column": null,
            "overflow_y": null,
            "overflow_x": null,
            "grid_auto_flow": null,
            "grid_area": null,
            "grid_template_columns": null,
            "flex": null,
            "_model_name": "LayoutModel",
            "justify_items": null,
            "grid_row": null,
            "max_height": null,
            "align_content": null,
            "visibility": null,
            "align_self": null,
            "height": null,
            "min_height": null,
            "padding": null,
            "grid_auto_rows": null,
            "grid_gap": null,
            "max_width": null,
            "order": null,
            "_view_module_version": "1.2.0",
            "grid_template_areas": null,
            "object_position": null,
            "object_fit": null,
            "grid_auto_columns": null,
            "margin": null,
            "display": null,
            "left": null
          }
        }
      }
    }
  },
  "cells": [
    {
      "cell_type": "markdown",
      "metadata": {
        "id": "view-in-github",
        "colab_type": "text"
      },
      "source": [
        "<a href=\"https://colab.research.google.com/github/liao961120/dcctk/blob/main/docs_source/nb/charQuery.ipynb\" target=\"_parent\"><img src=\"https://colab.research.google.com/assets/colab-badge.svg\" alt=\"Open In Colab\"/></a>"
      ]
    },
    {
      "cell_type": "markdown",
      "metadata": {
        "id": "78daqe2_Bogo"
      },
      "source": [
        "[![](https://colab.research.google.com/assets/colab-badge.svg)](https://colab.research.google.com/github/liao961120/dcctk/blob/main/docs_source/nb/charQuery.ipynb)"
      ]
    },
    {
      "cell_type": "code",
      "metadata": {
        "id": "5P99extNBogu",
        "colab": {
          "base_uri": "https://localhost:8080/"
        },
        "outputId": "97006369-1399-4370-bf42-1a217086d7fe"
      },
      "source": [
        "!gdown https://github.com/liao961120/dcctk/raw/main/test/data.zip\n",
        "!unzip -q data.zip\n",
        "!pip install -q https://github.com/liao961120/CompoTree/tarball/main\n",
        "!pip install -q https://github.com/liao961120/hanziPhon/tarball/main\n",
        "!pip install -qU dcctk"
      ],
      "execution_count": null,
      "outputs": [
        {
          "output_type": "stream",
          "name": "stdout",
          "text": [
            "Downloading...\n",
            "From: https://github.com/liao961120/dcctk/raw/main/test/data.zip\n",
            "To: /content/data.zip\n",
            "100% 12.3M/12.3M [00:00<00:00, 74.6MB/s]\n",
            "\u001b[K     |████████████████████████████████| 1.7 MB 2.6 MB/s \n",
            "\u001b[?25h  Building wheel for CompoTree (setup.py) ... \u001b[?25l\u001b[?25hdone\n",
            "\u001b[K     \\ 109 kB 7.9 MB/s\n",
            "\u001b[?25h  Building wheel for hanziPhon (setup.py) ... \u001b[?25l\u001b[?25hdone\n",
            "  Installing build dependencies ... \u001b[?25l\u001b[?25hdone\n",
            "  Getting requirements to build wheel ... \u001b[?25l\u001b[?25hdone\n",
            "    Preparing wheel metadata ... \u001b[?25l\u001b[?25hdone\n",
            "\u001b[K     |████████████████████████████████| 596 kB 14.0 MB/s \n",
            "\u001b[?25h  Building wheel for gdown (PEP 517) ... \u001b[?25l\u001b[?25hdone\n"
          ]
        }
      ]
    },
    {
      "cell_type": "code",
      "metadata": {
        "id": "uB5Op8IuBogw",
        "colab": {
          "base_uri": "https://localhost:8080/",
          "height": 118,
          "referenced_widgets": [
            "3d6f14bce1584353a8ee0cc084e7ef02",
            "a83022eafa7945958774be657bd9be8b",
            "d1b2e1756dbd431c9ed80992580ae4b6",
            "17c862794e0548eda1d60734df44f41f",
            "a944eb79337e4c25935da03eb7605d46",
            "aad7eac192e5454b9cb3b5db3f54223b",
            "90f9af2be93443349861699de0ac15db",
            "e88c1f0d1f674d04936d54b0adfd07e8",
            "2c8b49d81c3e427ca0ca70fb8affa2af",
            "72eff309dcc94715b3ed341769de4979",
            "e37fc475fd9249a2bef29bc2dfaa92a4",
            "46e0f316f4c54f55aaaef3cc317c47d4",
            "5f7d2c6d11f1429b9cc0a12624157218",
            "08af949daeea4969bdd3ca5c4c8da37c",
            "6a697d7ab7c64b059554b0e77d884984",
            "c8713ff5085e40349237aa0cc512f405",
            "3a644a365a5b428691935c4fb0f76d7f",
            "ef117ab525124436baffa087ba3c8ef7",
            "42b77823c8274492ba5609bf5a6b8d48",
            "d7868fb514384e68b89b475785fba931",
            "837cae1200e14c9db882857cddf6889f",
            "50776ae0bf6a4beea8da0d8012017d54"
          ]
        },
        "outputId": "146754a6-4edb-4473-8b6d-81d31d0f0a38"
      },
      "source": [
        "from dcctk.corpusReader import PlainTextReader\n",
        "from dcctk.concordancer import Concordancer\n",
        "\n",
        "c = Concordancer(PlainTextReader(\"data/\").corpus)"
      ],
      "execution_count": null,
      "outputs": [
        {
          "output_type": "stream",
          "name": "stdout",
          "text": [
            "Indexing corpus for text retrival...\n"
          ]
        },
        {
          "output_type": "display_data",
          "data": {
            "application/vnd.jupyter.widget-view+json": {
              "model_id": "3d6f14bce1584353a8ee0cc084e7ef02",
              "version_minor": 0,
              "version_major": 2
            },
            "text/plain": [
              "  0%|          | 0/5 [00:00<?, ?it/s]"
            ]
          },
          "metadata": {}
        },
        {
          "output_type": "stream",
          "name": "stdout",
          "text": [
            "Indexing corpus for concordance search...\n"
          ]
        },
        {
          "output_type": "display_data",
          "data": {
            "application/vnd.jupyter.widget-view+json": {
              "model_id": "46e0f316f4c54f55aaaef3cc317c47d4",
              "version_minor": 0,
              "version_major": 2
            },
            "text/plain": [
              "  0%|          | 0/5 [00:00<?, ?it/s]"
            ]
          },
          "metadata": {}
        }
      ]
    },
    {
      "cell_type": "code",
      "metadata": {
        "id": "esfml6EkBogy"
      },
      "source": [
        "def get_first_n(cql, n=10):\n",
        "    out = []\n",
        "    for i, result in enumerate(c.cql_search(cql)):\n",
        "        if i == n: break\n",
        "        out.append(result)\n",
        "    return out"
      ],
      "execution_count": null,
      "outputs": []
    },
    {
      "cell_type": "markdown",
      "metadata": {
        "id": "IPf2VPo4Bogy"
      },
      "source": [
        "## 1 Search by Character"
      ]
    },
    {
      "cell_type": "code",
      "metadata": {
        "id": "Zaau3bHuBogz",
        "colab": {
          "base_uri": "https://localhost:8080/"
        },
        "outputId": "5b70146a-48bc-4810-9ceb-d1e6cdd11d18"
      },
      "source": [
        "cql = '''\n",
        "[char=\"龜\"] [char=\"[一-龜]\"]\n",
        "'''\n",
        "get_first_n(cql, 10)"
      ],
      "execution_count": null,
      "outputs": [
        {
          "output_type": "execute_result",
          "data": {
            "text/plain": [
              "[<Concord 卜師：掌開{龜之}四兆，一曰>,\n",
              " <Concord 也。脩肱而{龜背}，長九尺有>,\n",
              " <Concord 斥蜥蜴兮進{龜龍}，策謀從兮>,\n",
              " <Concord 加三綬。而{龜茲}王白英猶自>,\n",
              " <Concord 置於燋，在{龜東}。族長蒞卜>,\n",
              " <Concord 馬非馬，若{龜茲}王，所謂执>,\n",
              " <Concord ，游於清；{龜食}於清，游於>,\n",
              " <Concord 卜定宅兆，{龜筮}悉從，遂營>,\n",
              " <Concord 室入朝，而{龜茲}王絳賓亦愛>,\n",
              " <Concord 不貧。謙：{龜厭}江海，陸行>]"
            ]
          },
          "metadata": {},
          "execution_count": 4
        }
      ]
    },
    {
      "cell_type": "markdown",
      "metadata": {
        "id": "hnyS9kPyBog0"
      },
      "source": [
        "## 2 Search by Character Component\n",
        "\n",
        "### 2.1 Radicals of all characters found in the corpus"
      ]
    },
    {
      "cell_type": "code",
      "metadata": {
        "id": "aI2YlSJDBog1",
        "colab": {
          "base_uri": "https://localhost:8080/"
        },
        "outputId": "3b3d3b17-e98d-428a-fb7f-1220e556b77c"
      },
      "source": [
        "print(c.chr_radicals)"
      ],
      "execution_count": null,
      "outputs": [
        {
          "output_type": "stream",
          "name": "stdout",
          "text": [
            "Building index for character radicals...\n",
            "{'', '毛', '酉', '鸟', '疋', '匚', '人', '鬥', '甘', '生', '殳', '臼', '廴', '雨', '魚', '八', '面', '玄', '禾', '刀', '水', '肉', '龜', '手', '讠', '白', '丨', '女', '鬼', '尢', '方', '夂', '矢', '言', '弓', '衣', '血', '斗', '小', '韦', '亠', '己', '幺', '長', '卜', '彡', '臣', '彐', '木', '冂', '夕', '貝', '豆', '饣', '豸', '虍', '氏', '用', '巾', '匸', '戶', '气', '犬', '歹', '麻', '大', '邑', '止', '牛', '攴', '目', '士', '皿', '舌', '十', '身', '爻', '革', '土', '山', '羽', '爪', '飛', '龙', '龠', '瓦', '戈', '示', '见', '车', '子', '心', '鬯', '色', '麦', '巛', '口', '日', '彳', '鼎', '韭', '角', '鳥', '艮', '舟', '片', '卩', '見', '疒', '門', '廾', '鼓', '火', '風', '襾', '冖', '玉', '囗', '鹵', '夊', '竹', '比', '弋', '牙', '斤', '鹿', '香', '厂', '又', '齊', '至', '耳', '石', '冫', '禸', '黹', '丶', '田', '缶', '儿', '皮', '谷', '高', '立', '爿', '黃', '宀', '癶', '父', '米', '鱼', '鼠', '月', '入', '舛', '凵', '豕', '龟', '辛', '纟', '黑', '匕', '食', '自', '走', '耒', '金', '钅', '干', '几', '马', '齒', '而', '辰', '釆', '乙', '非', '麥', '虫', '糸', '足', '瓜', '无', '厶', '行', '门', '隶', '丿', '髟', '毋', '勹', '寸', '黽', '文', '穴', '尸', '亅', '广', '黾', '页', '車', '屮', '贝', '龍', '聿', '鼻', '里', '网', '风', '支', '阜', '齿', '馬', '艸', '欠', '工', '骨', '一', '辵', '靑', '老', '羊', '隹', '赤', '曰', '頁', '韋', '首', '二', '黍', '鬲', '音', '力', '矛'}\n"
          ]
        }
      ]
    },
    {
      "cell_type": "code",
      "metadata": {
        "id": "X6ad7C6NBog3",
        "colab": {
          "base_uri": "https://localhost:8080/"
        },
        "outputId": "71351241-7a5b-428b-e17f-b9d7c5bc50ed"
      },
      "source": [
        "cql = '''\n",
        "[radical=\"立\"]\n",
        "'''\n",
        "get_first_n(cql, 10)"
      ],
      "execution_count": null,
      "outputs": [
        {
          "output_type": "execute_result",
          "data": {
            "text/plain": [
              "[<Concord 羲氏之虙。{䇎}：驚皃。从>,\n",
              " <Concord 从立从隶。{䇏}：磊䇏，重>,\n",
              " <Concord 隶。䇏：磊{䇏}，重聚也。>,\n",
              " <Concord 她竟然喚那{站}在炮城邊小>,\n",
              " <Concord 覺，走向車{站}的路途，心>,\n",
              " <Concord 一個類似車{站}的地方，我>,\n",
              " <Concord 到了山上車{站}，我趕緊衝>,\n",
              " <Concord 知名拍賣網{站}－電子灣台>,\n",
              " <Concord 日止，在網{站}上「開拍」>,\n",
              " <Concord ay台灣網{站}拍賣。其中>]"
            ]
          },
          "metadata": {},
          "execution_count": 6
        }
      ]
    },
    {
      "cell_type": "markdown",
      "metadata": {
        "id": "UHXJKktKBog4"
      },
      "source": [
        "### 2.2 Ideographic Description Characters (IDCs)"
      ]
    },
    {
      "cell_type": "code",
      "metadata": {
        "id": "m-R8F4-cBog5",
        "colab": {
          "base_uri": "https://localhost:8080/"
        },
        "outputId": "af0a9cbb-d70c-44b4-cf8e-c6b608919f95"
      },
      "source": [
        "c.chr_idcs"
      ],
      "execution_count": null,
      "outputs": [
        {
          "output_type": "execute_result",
          "data": {
            "text/plain": [
              "{'curC': '⿷',\n",
              " 'encl': '⿴',\n",
              " 'horz2': '⿰',\n",
              " 'horz3': '⿲',\n",
              " 'over': '⿻',\n",
              " 'sur7': '⿹',\n",
              " 'surL': '⿺',\n",
              " 'surN': '⿵',\n",
              " 'surT': '⿸',\n",
              " 'surU': '⿶',\n",
              " 'vert2': '⿱',\n",
              " 'vert3': '⿳'}"
            ]
          },
          "metadata": {},
          "execution_count": 7
        }
      ]
    },
    {
      "cell_type": "code",
      "metadata": {
        "id": "05n7FqGyBog6",
        "colab": {
          "base_uri": "https://localhost:8080/"
        },
        "outputId": "fe15c902-a85d-484b-bec9-e83bd8bd8e52"
      },
      "source": [
        "from CompoTree import ComponentTree\n",
        "ctree = ComponentTree.load()\n",
        "\n",
        "for ch in \"杜李国叵\":\n",
        "    print(ch, ctree.ids_map.get(ch), sep=\": \")"
      ],
      "execution_count": null,
      "outputs": [
        {
          "output_type": "stream",
          "name": "stdout",
          "text": [
            "杜: [<⿰:木土>]\n",
            "李: [<⿱:木子>]\n",
            "国: [<⿴:囗玉>]\n",
            "叵: [<⿷:匚口>]\n"
          ]
        }
      ]
    },
    {
      "cell_type": "code",
      "metadata": {
        "id": "-6jcQBGrBog6",
        "colab": {
          "base_uri": "https://localhost:8080/"
        },
        "outputId": "23087d4f-d8df-4a46-dc41-726f30579b9d"
      },
      "source": [
        "cql = '''\n",
        "[compo=\"木\" & idc=\"horz2\" & pos=\"0\"]\n",
        "'''\n",
        "get_first_n(cql, 5)"
      ],
      "execution_count": null,
      "outputs": [
        {
          "output_type": "execute_result",
          "data": {
            "text/plain": [
              "[<Concord 、啤酒、檸{檬}水沾光了不>,\n",
              " <Concord 椒，擠點檸{檬}汁等等製成>,\n",
              " <Concord 接替「甜檸{檬}」在本周五>,\n",
              " <Concord 山不槎。」{柮}：斷也。从>,\n",
              " <Concord 》曰：「𣚑{柮}。」析：破>]"
            ]
          },
          "metadata": {},
          "execution_count": 9
        }
      ]
    },
    {
      "cell_type": "code",
      "metadata": {
        "id": "dOyBy9yXBog7",
        "colab": {
          "base_uri": "https://localhost:8080/"
        },
        "outputId": "6b20f838-77d6-4fcf-81cf-c534dc9d139b"
      },
      "source": [
        "cql = '''\n",
        "[compo=\"木\" & idc=\"horz2\" & pos=\"1\"]\n",
        "'''\n",
        "get_first_n(cql, 5)"
      ],
      "execution_count": null,
      "outputs": [
        {
          "output_type": "execute_result",
          "data": {
            "text/plain": [
              "[<Concord 於索之，而{休}於使之。《>,\n",
              " <Concord 酒，晝夜不{休}。由余驟諫>,\n",
              " <Concord 五歲。人將{休}，吾將不敢>,\n",
              " <Concord ，吾將不敢{休}；人將臥，>,\n",
              " <Concord 爵貴有名以{休}之。」凡人>]"
            ]
          },
          "metadata": {},
          "execution_count": 10
        }
      ]
    },
    {
      "cell_type": "code",
      "metadata": {
        "id": "tKl_jBfKBog8",
        "colab": {
          "base_uri": "https://localhost:8080/"
        },
        "outputId": "95d4cd06-6d6f-4162-cae8-a0ee8baf9649"
      },
      "source": [
        "cql = '''\n",
        "[idc=\"encl\"] [idc=\"encl\"]\n",
        "'''\n",
        "get_first_n(cql, 5)"
      ],
      "execution_count": null,
      "outputs": [
        {
          "output_type": "stream",
          "name": "stdout",
          "text": [
            "Building index for character IDCs...\n"
          ]
        },
        {
          "output_type": "execute_result",
          "data": {
            "text/plain": [
              "[<Concord 聖王之為苑{囿園}池也，足以>,\n",
              " <Concord 塞。故秦苑{囿園}池，令民得>,\n",
              " <Concord 小；齊宣王{囿四}十里，民以>,\n",
              " <Concord 。諸故秦苑{囿園}池，皆令人>,\n",
              " <Concord 以草作之，{團團}然也。廁，>]"
            ]
          },
          "metadata": {},
          "execution_count": 11
        }
      ]
    },
    {
      "cell_type": "markdown",
      "metadata": {
        "id": "2FcnQlQ5Bog8"
      },
      "source": [
        "## 3 Search by Phonetic Alphabets"
      ]
    },
    {
      "cell_type": "code",
      "metadata": {
        "id": "DUI5WI1TBog9",
        "colab": {
          "base_uri": "https://localhost:8080/"
        },
        "outputId": "7de952d7-c3fe-41d3-e916-e2d7917c818b"
      },
      "source": [
        "cql = '''\n",
        "[phon=\"ㄨㄥ\" & tone=\"1\"]\n",
        "'''\n",
        "get_first_n(cql, 5)"
      ],
      "execution_count": null,
      "outputs": [
        {
          "output_type": "stream",
          "name": "stdout",
          "text": [
            "Building index for character phones...\n"
          ]
        },
        {
          "output_type": "execute_result",
          "data": {
            "text/plain": [
              "[<Concord 」耳邊不斷{嗡}嗡的縈繞著>,\n",
              " <Concord 耳邊不斷嗡{嗡}的縈繞著類>,\n",
              " <Concord ，黑文而赤{翁}，名曰櫟，>,\n",
              " <Concord 發猛，塤篪{翁}博，瑟易良>,\n",
              " <Concord 市朝也。而{翁}不爭焉，顧>]"
            ]
          },
          "metadata": {},
          "execution_count": 12
        }
      ]
    },
    {
      "cell_type": "code",
      "metadata": {
        "id": "Cej-K7OTBog9",
        "colab": {
          "base_uri": "https://localhost:8080/"
        },
        "outputId": "0801055f-b095-4182-b9f4-7ea9593a05c7"
      },
      "source": [
        "cql = '''\n",
        "[phon=\"^pʰ\" & tp=\"ipa\"] [phon=\"^pʰ\" & tp=\"ipa\"]\n",
        "'''\n",
        "get_first_n(cql, 5)"
      ],
      "execution_count": null,
      "outputs": [
        {
          "output_type": "execute_result",
          "data": {
            "text/plain": [
              "[<Concord 我行其野、{芃芃}其麥。控于>,\n",
              " <Concord 念彼京師。{芃芃}黍苗、陰雨>,\n",
              " <Concord 詩》曰：『{芃芃}棫樸，薪之>,\n",
              " <Concord 薄言觀者。{芃芃}黍苗、陰雨>,\n",
              " <Concord 曰有禦侮。{芃芃}棫樸。薪之>]"
            ]
          },
          "metadata": {},
          "execution_count": 13
        }
      ]
    },
    {
      "cell_type": "markdown",
      "metadata": {
        "id": "w5CuYf2kBog-"
      },
      "source": [
        "## 4 Component Stats"
      ]
    },
    {
      "cell_type": "code",
      "metadata": {
        "id": "F7cP3KohBog-"
      },
      "source": [
        "from dcctk.compoAnalysis import CompoAnalysis\n",
        "\n",
        "c2 = CompoAnalysis(c)"
      ],
      "execution_count": null,
      "outputs": []
    },
    {
      "cell_type": "markdown",
      "metadata": {
        "id": "Y8Qqh7wHBog-"
      },
      "source": [
        "### 4.1 Frequency Distributions"
      ]
    },
    {
      "cell_type": "markdown",
      "metadata": {
        "id": "vtfJ0NqOBog-"
      },
      "source": [
        "#### 4.1.1 Character"
      ]
    },
    {
      "cell_type": "code",
      "metadata": {
        "id": "cR9kxZvYBog_",
        "colab": {
          "base_uri": "https://localhost:8080/"
        },
        "outputId": "afc04d99-41ec-402a-9ce3-60f1830b1a0d"
      },
      "source": [
        "c2.freq_distr(tp=\"chr\", subcorp_idx=0).most_common(10)"
      ],
      "execution_count": null,
      "outputs": [
        {
          "output_type": "execute_result",
          "data": {
            "text/plain": [
              "[('，', 178802),\n",
              " ('。', 83819),\n",
              " ('之', 64665),\n",
              " ('不', 37264),\n",
              " ('也', 32634),\n",
              " ('而', 32035),\n",
              " ('以', 27556),\n",
              " ('其', 25931),\n",
              " ('者', 23304),\n",
              " ('曰', 21763)]"
            ]
          },
          "metadata": {},
          "execution_count": 15
        }
      ]
    },
    {
      "cell_type": "markdown",
      "metadata": {
        "id": "yuc227IrBog_"
      },
      "source": [
        "#### 4.1.2 Shape"
      ]
    },
    {
      "cell_type": "code",
      "metadata": {
        "id": "Ttx5SFuxBog_",
        "colab": {
          "base_uri": "https://localhost:8080/"
        },
        "outputId": "b245fec4-db57-45cf-e14f-9e2be76407a1"
      },
      "source": [
        "c2.freq_distr(tp=\"idc\", subcorp_idx=0)"
      ],
      "execution_count": null,
      "outputs": [
        {
          "output_type": "execute_result",
          "data": {
            "text/plain": [
              "Counter({'': 256312,\n",
              "         'noChrData': 351898,\n",
              "         '⿰': 438079,\n",
              "         '⿱': 561453,\n",
              "         '⿲': 6242,\n",
              "         '⿳': 14381,\n",
              "         '⿴': 14409,\n",
              "         '⿵': 25234,\n",
              "         '⿶': 7275,\n",
              "         '⿷': 1641,\n",
              "         '⿸': 91226,\n",
              "         '⿹': 25384,\n",
              "         '⿺': 26847,\n",
              "         '⿻': 37847})"
            ]
          },
          "metadata": {},
          "execution_count": 16
        }
      ]
    },
    {
      "cell_type": "markdown",
      "metadata": {
        "id": "d54HgCU8BohA"
      },
      "source": [
        "#### 4.1.3 Radical"
      ]
    },
    {
      "cell_type": "code",
      "metadata": {
        "id": "FO_xXBhvBohA",
        "colab": {
          "base_uri": "https://localhost:8080/"
        },
        "outputId": "701e2b37-a1a6-484e-f141-db438c9b4605"
      },
      "source": [
        "c2.freq_distr(tp=\"rad\").most_common(10)"
      ],
      "execution_count": null,
      "outputs": [
        {
          "output_type": "execute_result",
          "data": {
            "text/plain": [
              "[('noChrData', 1517367),\n",
              " ('人', 422649),\n",
              " ('一', 281707),\n",
              " ('丿', 252723),\n",
              " ('口', 249345),\n",
              " ('火', 165875),\n",
              " ('言', 157936),\n",
              " ('水', 155632),\n",
              " ('八', 151539),\n",
              " ('心', 145208)]"
            ]
          },
          "metadata": {},
          "execution_count": 17
        }
      ]
    },
    {
      "cell_type": "markdown",
      "metadata": {
        "id": "3jiNiunDBohA"
      },
      "source": [
        "#### 4.1.4 Characters with a certain radical"
      ]
    },
    {
      "cell_type": "code",
      "metadata": {
        "id": "3vJy9zWUBohB",
        "colab": {
          "base_uri": "https://localhost:8080/"
        },
        "outputId": "1217bf17-3911-463a-c00a-2d27f51c4a3f"
      },
      "source": [
        "c2.freq_distr(tp=None, radical=\"广\").most_common(10)"
      ],
      "execution_count": null,
      "outputs": [
        {
          "output_type": "execute_result",
          "data": {
            "text/plain": [
              "[('度', 4757),\n",
              " ('廣', 4050),\n",
              " ('廟', 3067),\n",
              " ('府', 3064),\n",
              " ('廢', 2542),\n",
              " ('庶', 2281),\n",
              " ('廉', 1594),\n",
              " ('康', 1570),\n",
              " ('序', 1213),\n",
              " ('庭', 1155)]"
            ]
          },
          "metadata": {},
          "execution_count": 18
        }
      ]
    },
    {
      "cell_type": "markdown",
      "metadata": {
        "id": "n98IPgSiBohB"
      },
      "source": [
        "#### 4.1.5 Characters within a certain component"
      ]
    },
    {
      "cell_type": "code",
      "metadata": {
        "id": "r9-13bVrBohB",
        "colab": {
          "base_uri": "https://localhost:8080/"
        },
        "outputId": "7796f0e1-66ce-4beb-f262-f90c0be28a71"
      },
      "source": [
        "c2.freq_distr(tp=None, compo=\"水\", idc=\"vert2\", pos=-1)"
      ],
      "execution_count": null,
      "outputs": [
        {
          "output_type": "execute_result",
          "data": {
            "text/plain": [
              "Counter({'氶': 1,\n",
              "         '汞': 15,\n",
              "         '沓': 89,\n",
              "         '泉': 1349,\n",
              "         '泵': 3,\n",
              "         '淼': 4,\n",
              "         '滎': 344,\n",
              "         '漀': 1,\n",
              "         '漐': 9,\n",
              "         '漿': 153,\n",
              "         '澩': 3,\n",
              "         '灓': 5})"
            ]
          },
          "metadata": {},
          "execution_count": 19
        }
      ]
    },
    {
      "cell_type": "markdown",
      "metadata": {
        "id": "XQpPJpu8BohB"
      },
      "source": [
        "### 4.2 Productivity \n",
        "\n",
        "#### 4.2.1 Productivity of a radical"
      ]
    },
    {
      "cell_type": "code",
      "metadata": {
        "id": "hrgBYeFxBohC",
        "colab": {
          "base_uri": "https://localhost:8080/"
        },
        "outputId": "463ff49d-ba1e-44d8-ccd6-90411b7de660"
      },
      "source": [
        "c2.productivity(radical=\"广\", subcorp_idx=0)"
      ],
      "execution_count": null,
      "outputs": [
        {
          "output_type": "execute_result",
          "data": {
            "text/plain": [
              "{'N': 1858228,\n",
              " 'NC': 5897,\n",
              " 'V1': 2083,\n",
              " 'V1C': 9,\n",
              " 'productivity': {'expanding': 0.0043206913106096975,\n",
              "  'potential': 0.001526199762591148,\n",
              "  'realized': 62}}"
            ]
          },
          "metadata": {},
          "execution_count": 20
        }
      ]
    },
    {
      "cell_type": "markdown",
      "metadata": {
        "id": "6256a-ivBohI"
      },
      "source": [
        "### 4.2.2 Productivity of a component"
      ]
    },
    {
      "cell_type": "code",
      "metadata": {
        "id": "X32e1es_BohI",
        "colab": {
          "base_uri": "https://localhost:8080/"
        },
        "outputId": "45d3eae7-f41a-431e-cba4-d55ffae00ad8"
      },
      "source": [
        "c2.productivity(compo=\"虫\", idc=\"horz2\", pos=0, subcorp_idx=0)"
      ],
      "execution_count": null,
      "outputs": [
        {
          "output_type": "execute_result",
          "data": {
            "text/plain": [
              "{'N': 1858228,\n",
              " 'NC': 1027,\n",
              " 'V1': 2083,\n",
              " 'V1C': 72,\n",
              " 'productivity': {'expanding': 0.03456553048487758,\n",
              "  'potential': 0.07010710808179163,\n",
              "  'realized': 178}}"
            ]
          },
          "metadata": {},
          "execution_count": 21
        }
      ]
    },
    {
      "cell_type": "markdown",
      "metadata": {
        "id": "faxDjSBZBohI"
      },
      "source": [
        "### 4.2.3 Productivity of Character shapes (IDCs)"
      ]
    },
    {
      "cell_type": "code",
      "metadata": {
        "id": "AxMiSWpFBohJ",
        "colab": {
          "base_uri": "https://localhost:8080/",
          "height": 426
        },
        "outputId": "91369b66-57cf-4a57-9a7d-121057948153"
      },
      "source": [
        "import pandas as pd\n",
        "from CompoTree import IDC\n",
        "\n",
        "df = []\n",
        "for idc in IDC:   \n",
        "    p = c2.productivity(idc=idc.name, subcorp_idx=0)\n",
        "    df.append({\n",
        "        'name': idc.name, \n",
        "        'shape': idc.value, \n",
        "        **p['productivity'],\n",
        "        'V1C': p['V1C'],\n",
        "        'V1': p['V1'],\n",
        "        'NC': p['NC'],\n",
        "        'N': p['N'],\n",
        "    })\n",
        "\n",
        "df = pd.DataFrame(df)\n",
        "df"
      ],
      "execution_count": null,
      "outputs": [
        {
          "output_type": "execute_result",
          "data": {
            "text/html": [
              "<div>\n",
              "<style scoped>\n",
              "    .dataframe tbody tr th:only-of-type {\n",
              "        vertical-align: middle;\n",
              "    }\n",
              "\n",
              "    .dataframe tbody tr th {\n",
              "        vertical-align: top;\n",
              "    }\n",
              "\n",
              "    .dataframe thead th {\n",
              "        text-align: right;\n",
              "    }\n",
              "</style>\n",
              "<table border=\"1\" class=\"dataframe\">\n",
              "  <thead>\n",
              "    <tr style=\"text-align: right;\">\n",
              "      <th></th>\n",
              "      <th>name</th>\n",
              "      <th>shape</th>\n",
              "      <th>realized</th>\n",
              "      <th>expanding</th>\n",
              "      <th>potential</th>\n",
              "      <th>V1C</th>\n",
              "      <th>V1</th>\n",
              "      <th>NC</th>\n",
              "      <th>N</th>\n",
              "    </tr>\n",
              "  </thead>\n",
              "  <tbody>\n",
              "    <tr>\n",
              "      <th>0</th>\n",
              "      <td>horz2</td>\n",
              "      <td>⿰</td>\n",
              "      <td>5580</td>\n",
              "      <td>0.709073</td>\n",
              "      <td>0.003372</td>\n",
              "      <td>1477</td>\n",
              "      <td>2083</td>\n",
              "      <td>438079</td>\n",
              "      <td>1858228</td>\n",
              "    </tr>\n",
              "    <tr>\n",
              "      <th>1</th>\n",
              "      <td>vert2</td>\n",
              "      <td>⿱</td>\n",
              "      <td>2110</td>\n",
              "      <td>0.223236</td>\n",
              "      <td>0.000828</td>\n",
              "      <td>465</td>\n",
              "      <td>2083</td>\n",
              "      <td>561453</td>\n",
              "      <td>1858228</td>\n",
              "    </tr>\n",
              "    <tr>\n",
              "      <th>2</th>\n",
              "      <td>horz3</td>\n",
              "      <td>⿲</td>\n",
              "      <td>37</td>\n",
              "      <td>0.002400</td>\n",
              "      <td>0.000801</td>\n",
              "      <td>5</td>\n",
              "      <td>2083</td>\n",
              "      <td>6242</td>\n",
              "      <td>1858228</td>\n",
              "    </tr>\n",
              "    <tr>\n",
              "      <th>3</th>\n",
              "      <td>vert3</td>\n",
              "      <td>⿳</td>\n",
              "      <td>85</td>\n",
              "      <td>0.006721</td>\n",
              "      <td>0.000974</td>\n",
              "      <td>14</td>\n",
              "      <td>2083</td>\n",
              "      <td>14381</td>\n",
              "      <td>1858228</td>\n",
              "    </tr>\n",
              "    <tr>\n",
              "      <th>4</th>\n",
              "      <td>encl</td>\n",
              "      <td>⿴</td>\n",
              "      <td>27</td>\n",
              "      <td>0.001440</td>\n",
              "      <td>0.000208</td>\n",
              "      <td>3</td>\n",
              "      <td>2083</td>\n",
              "      <td>14409</td>\n",
              "      <td>1858228</td>\n",
              "    </tr>\n",
              "    <tr>\n",
              "      <th>5</th>\n",
              "      <td>surN</td>\n",
              "      <td>⿵</td>\n",
              "      <td>87</td>\n",
              "      <td>0.005761</td>\n",
              "      <td>0.000476</td>\n",
              "      <td>12</td>\n",
              "      <td>2083</td>\n",
              "      <td>25234</td>\n",
              "      <td>1858228</td>\n",
              "    </tr>\n",
              "    <tr>\n",
              "      <th>6</th>\n",
              "      <td>surU</td>\n",
              "      <td>⿶</td>\n",
              "      <td>6</td>\n",
              "      <td>0.000000</td>\n",
              "      <td>0.000000</td>\n",
              "      <td>0</td>\n",
              "      <td>2083</td>\n",
              "      <td>7275</td>\n",
              "      <td>1858228</td>\n",
              "    </tr>\n",
              "    <tr>\n",
              "      <th>7</th>\n",
              "      <td>curC</td>\n",
              "      <td>⿷</td>\n",
              "      <td>20</td>\n",
              "      <td>0.001920</td>\n",
              "      <td>0.002438</td>\n",
              "      <td>4</td>\n",
              "      <td>2083</td>\n",
              "      <td>1641</td>\n",
              "      <td>1858228</td>\n",
              "    </tr>\n",
              "    <tr>\n",
              "      <th>8</th>\n",
              "      <td>surT</td>\n",
              "      <td>⿸</td>\n",
              "      <td>342</td>\n",
              "      <td>0.026884</td>\n",
              "      <td>0.000614</td>\n",
              "      <td>56</td>\n",
              "      <td>2083</td>\n",
              "      <td>91226</td>\n",
              "      <td>1858228</td>\n",
              "    </tr>\n",
              "    <tr>\n",
              "      <th>9</th>\n",
              "      <td>sur7</td>\n",
              "      <td>⿹</td>\n",
              "      <td>51</td>\n",
              "      <td>0.002880</td>\n",
              "      <td>0.000236</td>\n",
              "      <td>6</td>\n",
              "      <td>2083</td>\n",
              "      <td>25384</td>\n",
              "      <td>1858228</td>\n",
              "    </tr>\n",
              "    <tr>\n",
              "      <th>10</th>\n",
              "      <td>surL</td>\n",
              "      <td>⿺</td>\n",
              "      <td>180</td>\n",
              "      <td>0.012482</td>\n",
              "      <td>0.000968</td>\n",
              "      <td>26</td>\n",
              "      <td>2083</td>\n",
              "      <td>26847</td>\n",
              "      <td>1858228</td>\n",
              "    </tr>\n",
              "    <tr>\n",
              "      <th>11</th>\n",
              "      <td>over</td>\n",
              "      <td>⿻</td>\n",
              "      <td>44</td>\n",
              "      <td>0.000960</td>\n",
              "      <td>0.000053</td>\n",
              "      <td>2</td>\n",
              "      <td>2083</td>\n",
              "      <td>37847</td>\n",
              "      <td>1858228</td>\n",
              "    </tr>\n",
              "  </tbody>\n",
              "</table>\n",
              "</div>"
            ],
            "text/plain": [
              "     name shape  realized  expanding  potential   V1C    V1      NC        N\n",
              "0   horz2     ⿰      5580   0.709073   0.003372  1477  2083  438079  1858228\n",
              "1   vert2     ⿱      2110   0.223236   0.000828   465  2083  561453  1858228\n",
              "2   horz3     ⿲        37   0.002400   0.000801     5  2083    6242  1858228\n",
              "3   vert3     ⿳        85   0.006721   0.000974    14  2083   14381  1858228\n",
              "4    encl     ⿴        27   0.001440   0.000208     3  2083   14409  1858228\n",
              "5    surN     ⿵        87   0.005761   0.000476    12  2083   25234  1858228\n",
              "6    surU     ⿶         6   0.000000   0.000000     0  2083    7275  1858228\n",
              "7    curC     ⿷        20   0.001920   0.002438     4  2083    1641  1858228\n",
              "8    surT     ⿸       342   0.026884   0.000614    56  2083   91226  1858228\n",
              "9    sur7     ⿹        51   0.002880   0.000236     6  2083   25384  1858228\n",
              "10   surL     ⿺       180   0.012482   0.000968    26  2083   26847  1858228\n",
              "11   over     ⿻        44   0.000960   0.000053     2  2083   37847  1858228"
            ]
          },
          "metadata": {},
          "execution_count": 22
        }
      ]
    },
    {
      "cell_type": "markdown",
      "metadata": {
        "id": "rOmYYB0vhKgc"
      },
      "source": [
        "## ToDo\n",
        "\n",
        "\n",
        "- N-gram freq\n",
        "- Collocation\n",
        "- Case studies\n",
        "\n",
        "#### 10/14 討論\n",
        "\n",
        "- 穩定指標 (given a query)\n",
        "- 部件資訊 (CompoTree)、[字型複雜度](http://ericdata.com/tw/detail.aspx?no=213258)\n",
        "    - Productivity\n",
        "- 語意變遷 (word2vec for each subcorpus)"
      ]
    }
  ]
}