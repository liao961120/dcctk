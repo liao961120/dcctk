{
  "nbformat": 4,
  "nbformat_minor": 0,
  "metadata": {
    "kernelspec": {
      "display_name": "py3.7",
      "language": "python",
      "name": "py3.7"
    },
    "language_info": {
      "codemirror_mode": {
        "name": "ipython",
        "version": 3
      },
      "file_extension": ".py",
      "mimetype": "text/x-python",
      "name": "python",
      "nbconvert_exporter": "python",
      "pygments_lexer": "ipython3",
      "version": "3.7.6"
    },
    "colab": {
      "name": "charQuery.ipynb",
      "provenance": [],
      "toc_visible": true,
      "include_colab_link": true
    },
    "widgets": {
      "application/vnd.jupyter.widget-state+json": {
        "89555fdb800a475fbc4c08d253ed76a7": {
          "model_module": "@jupyter-widgets/controls",
          "model_name": "HBoxModel",
          "model_module_version": "1.5.0",
          "state": {
            "_view_name": "HBoxView",
            "_dom_classes": [],
            "_model_name": "HBoxModel",
            "_view_module": "@jupyter-widgets/controls",
            "_model_module_version": "1.5.0",
            "_view_count": null,
            "_view_module_version": "1.5.0",
            "box_style": "",
            "layout": "IPY_MODEL_27b3d0da092642299f6a6e4df8d54ea8",
            "_model_module": "@jupyter-widgets/controls",
            "children": [
              "IPY_MODEL_7b1947d8030e41d4864c0ca1756281db",
              "IPY_MODEL_d1bc470d19d24b3a98838eebc10c1af2",
              "IPY_MODEL_923fa19e34cf4134b2bfdab95cb4e4f2"
            ]
          }
        },
        "27b3d0da092642299f6a6e4df8d54ea8": {
          "model_module": "@jupyter-widgets/base",
          "model_name": "LayoutModel",
          "model_module_version": "1.2.0",
          "state": {
            "_view_name": "LayoutView",
            "grid_template_rows": null,
            "right": null,
            "justify_content": null,
            "_view_module": "@jupyter-widgets/base",
            "overflow": null,
            "_model_module_version": "1.2.0",
            "_view_count": null,
            "flex_flow": null,
            "width": null,
            "min_width": null,
            "border": null,
            "align_items": null,
            "bottom": null,
            "_model_module": "@jupyter-widgets/base",
            "top": null,
            "grid_column": null,
            "overflow_y": null,
            "overflow_x": null,
            "grid_auto_flow": null,
            "grid_area": null,
            "grid_template_columns": null,
            "flex": null,
            "_model_name": "LayoutModel",
            "justify_items": null,
            "grid_row": null,
            "max_height": null,
            "align_content": null,
            "visibility": null,
            "align_self": null,
            "height": null,
            "min_height": null,
            "padding": null,
            "grid_auto_rows": null,
            "grid_gap": null,
            "max_width": null,
            "order": null,
            "_view_module_version": "1.2.0",
            "grid_template_areas": null,
            "object_position": null,
            "object_fit": null,
            "grid_auto_columns": null,
            "margin": null,
            "display": null,
            "left": null
          }
        },
        "7b1947d8030e41d4864c0ca1756281db": {
          "model_module": "@jupyter-widgets/controls",
          "model_name": "HTMLModel",
          "model_module_version": "1.5.0",
          "state": {
            "_view_name": "HTMLView",
            "style": "IPY_MODEL_86e315c120504265865237697cffec01",
            "_dom_classes": [],
            "description": "",
            "_model_name": "HTMLModel",
            "placeholder": "​",
            "_view_module": "@jupyter-widgets/controls",
            "_model_module_version": "1.5.0",
            "value": "100%",
            "_view_count": null,
            "_view_module_version": "1.5.0",
            "description_tooltip": null,
            "_model_module": "@jupyter-widgets/controls",
            "layout": "IPY_MODEL_f513a22ad4784564987a6fdbb14ce1f8"
          }
        },
        "d1bc470d19d24b3a98838eebc10c1af2": {
          "model_module": "@jupyter-widgets/controls",
          "model_name": "FloatProgressModel",
          "model_module_version": "1.5.0",
          "state": {
            "_view_name": "ProgressView",
            "style": "IPY_MODEL_21b24a9f340b4f0bb73dc69ff5df5ef0",
            "_dom_classes": [],
            "description": "",
            "_model_name": "FloatProgressModel",
            "bar_style": "success",
            "max": 5,
            "_view_module": "@jupyter-widgets/controls",
            "_model_module_version": "1.5.0",
            "value": 5,
            "_view_count": null,
            "_view_module_version": "1.5.0",
            "orientation": "horizontal",
            "min": 0,
            "description_tooltip": null,
            "_model_module": "@jupyter-widgets/controls",
            "layout": "IPY_MODEL_a10ce5526cf540faa23972549aedeab1"
          }
        },
        "923fa19e34cf4134b2bfdab95cb4e4f2": {
          "model_module": "@jupyter-widgets/controls",
          "model_name": "HTMLModel",
          "model_module_version": "1.5.0",
          "state": {
            "_view_name": "HTMLView",
            "style": "IPY_MODEL_96148f9182354c91841a9695eab319cd",
            "_dom_classes": [],
            "description": "",
            "_model_name": "HTMLModel",
            "placeholder": "​",
            "_view_module": "@jupyter-widgets/controls",
            "_model_module_version": "1.5.0",
            "value": " 5/5 [00:00&lt;00:00, 132.29it/s]",
            "_view_count": null,
            "_view_module_version": "1.5.0",
            "description_tooltip": null,
            "_model_module": "@jupyter-widgets/controls",
            "layout": "IPY_MODEL_2978df8f8da54125b23e0a55c9ecaae3"
          }
        },
        "86e315c120504265865237697cffec01": {
          "model_module": "@jupyter-widgets/controls",
          "model_name": "DescriptionStyleModel",
          "model_module_version": "1.5.0",
          "state": {
            "_view_name": "StyleView",
            "_model_name": "DescriptionStyleModel",
            "description_width": "",
            "_view_module": "@jupyter-widgets/base",
            "_model_module_version": "1.5.0",
            "_view_count": null,
            "_view_module_version": "1.2.0",
            "_model_module": "@jupyter-widgets/controls"
          }
        },
        "f513a22ad4784564987a6fdbb14ce1f8": {
          "model_module": "@jupyter-widgets/base",
          "model_name": "LayoutModel",
          "model_module_version": "1.2.0",
          "state": {
            "_view_name": "LayoutView",
            "grid_template_rows": null,
            "right": null,
            "justify_content": null,
            "_view_module": "@jupyter-widgets/base",
            "overflow": null,
            "_model_module_version": "1.2.0",
            "_view_count": null,
            "flex_flow": null,
            "width": null,
            "min_width": null,
            "border": null,
            "align_items": null,
            "bottom": null,
            "_model_module": "@jupyter-widgets/base",
            "top": null,
            "grid_column": null,
            "overflow_y": null,
            "overflow_x": null,
            "grid_auto_flow": null,
            "grid_area": null,
            "grid_template_columns": null,
            "flex": null,
            "_model_name": "LayoutModel",
            "justify_items": null,
            "grid_row": null,
            "max_height": null,
            "align_content": null,
            "visibility": null,
            "align_self": null,
            "height": null,
            "min_height": null,
            "padding": null,
            "grid_auto_rows": null,
            "grid_gap": null,
            "max_width": null,
            "order": null,
            "_view_module_version": "1.2.0",
            "grid_template_areas": null,
            "object_position": null,
            "object_fit": null,
            "grid_auto_columns": null,
            "margin": null,
            "display": null,
            "left": null
          }
        },
        "21b24a9f340b4f0bb73dc69ff5df5ef0": {
          "model_module": "@jupyter-widgets/controls",
          "model_name": "ProgressStyleModel",
          "model_module_version": "1.5.0",
          "state": {
            "_view_name": "StyleView",
            "_model_name": "ProgressStyleModel",
            "description_width": "",
            "_view_module": "@jupyter-widgets/base",
            "_model_module_version": "1.5.0",
            "_view_count": null,
            "_view_module_version": "1.2.0",
            "bar_color": null,
            "_model_module": "@jupyter-widgets/controls"
          }
        },
        "a10ce5526cf540faa23972549aedeab1": {
          "model_module": "@jupyter-widgets/base",
          "model_name": "LayoutModel",
          "model_module_version": "1.2.0",
          "state": {
            "_view_name": "LayoutView",
            "grid_template_rows": null,
            "right": null,
            "justify_content": null,
            "_view_module": "@jupyter-widgets/base",
            "overflow": null,
            "_model_module_version": "1.2.0",
            "_view_count": null,
            "flex_flow": null,
            "width": null,
            "min_width": null,
            "border": null,
            "align_items": null,
            "bottom": null,
            "_model_module": "@jupyter-widgets/base",
            "top": null,
            "grid_column": null,
            "overflow_y": null,
            "overflow_x": null,
            "grid_auto_flow": null,
            "grid_area": null,
            "grid_template_columns": null,
            "flex": null,
            "_model_name": "LayoutModel",
            "justify_items": null,
            "grid_row": null,
            "max_height": null,
            "align_content": null,
            "visibility": null,
            "align_self": null,
            "height": null,
            "min_height": null,
            "padding": null,
            "grid_auto_rows": null,
            "grid_gap": null,
            "max_width": null,
            "order": null,
            "_view_module_version": "1.2.0",
            "grid_template_areas": null,
            "object_position": null,
            "object_fit": null,
            "grid_auto_columns": null,
            "margin": null,
            "display": null,
            "left": null
          }
        },
        "96148f9182354c91841a9695eab319cd": {
          "model_module": "@jupyter-widgets/controls",
          "model_name": "DescriptionStyleModel",
          "model_module_version": "1.5.0",
          "state": {
            "_view_name": "StyleView",
            "_model_name": "DescriptionStyleModel",
            "description_width": "",
            "_view_module": "@jupyter-widgets/base",
            "_model_module_version": "1.5.0",
            "_view_count": null,
            "_view_module_version": "1.2.0",
            "_model_module": "@jupyter-widgets/controls"
          }
        },
        "2978df8f8da54125b23e0a55c9ecaae3": {
          "model_module": "@jupyter-widgets/base",
          "model_name": "LayoutModel",
          "model_module_version": "1.2.0",
          "state": {
            "_view_name": "LayoutView",
            "grid_template_rows": null,
            "right": null,
            "justify_content": null,
            "_view_module": "@jupyter-widgets/base",
            "overflow": null,
            "_model_module_version": "1.2.0",
            "_view_count": null,
            "flex_flow": null,
            "width": null,
            "min_width": null,
            "border": null,
            "align_items": null,
            "bottom": null,
            "_model_module": "@jupyter-widgets/base",
            "top": null,
            "grid_column": null,
            "overflow_y": null,
            "overflow_x": null,
            "grid_auto_flow": null,
            "grid_area": null,
            "grid_template_columns": null,
            "flex": null,
            "_model_name": "LayoutModel",
            "justify_items": null,
            "grid_row": null,
            "max_height": null,
            "align_content": null,
            "visibility": null,
            "align_self": null,
            "height": null,
            "min_height": null,
            "padding": null,
            "grid_auto_rows": null,
            "grid_gap": null,
            "max_width": null,
            "order": null,
            "_view_module_version": "1.2.0",
            "grid_template_areas": null,
            "object_position": null,
            "object_fit": null,
            "grid_auto_columns": null,
            "margin": null,
            "display": null,
            "left": null
          }
        },
        "4c843ab3d8fe444bbdd59d58a5cde698": {
          "model_module": "@jupyter-widgets/controls",
          "model_name": "HBoxModel",
          "model_module_version": "1.5.0",
          "state": {
            "_view_name": "HBoxView",
            "_dom_classes": [],
            "_model_name": "HBoxModel",
            "_view_module": "@jupyter-widgets/controls",
            "_model_module_version": "1.5.0",
            "_view_count": null,
            "_view_module_version": "1.5.0",
            "box_style": "",
            "layout": "IPY_MODEL_6b90b2ef579f4812a162046568879943",
            "_model_module": "@jupyter-widgets/controls",
            "children": [
              "IPY_MODEL_b0a4647eb2bd4e65916ff5afca534c09",
              "IPY_MODEL_b97b89dfe6374cbbaffebd7f67ae64d3",
              "IPY_MODEL_d6cbbc5aea6b428791cc18f61bbe7313"
            ]
          }
        },
        "6b90b2ef579f4812a162046568879943": {
          "model_module": "@jupyter-widgets/base",
          "model_name": "LayoutModel",
          "model_module_version": "1.2.0",
          "state": {
            "_view_name": "LayoutView",
            "grid_template_rows": null,
            "right": null,
            "justify_content": null,
            "_view_module": "@jupyter-widgets/base",
            "overflow": null,
            "_model_module_version": "1.2.0",
            "_view_count": null,
            "flex_flow": null,
            "width": null,
            "min_width": null,
            "border": null,
            "align_items": null,
            "bottom": null,
            "_model_module": "@jupyter-widgets/base",
            "top": null,
            "grid_column": null,
            "overflow_y": null,
            "overflow_x": null,
            "grid_auto_flow": null,
            "grid_area": null,
            "grid_template_columns": null,
            "flex": null,
            "_model_name": "LayoutModel",
            "justify_items": null,
            "grid_row": null,
            "max_height": null,
            "align_content": null,
            "visibility": null,
            "align_self": null,
            "height": null,
            "min_height": null,
            "padding": null,
            "grid_auto_rows": null,
            "grid_gap": null,
            "max_width": null,
            "order": null,
            "_view_module_version": "1.2.0",
            "grid_template_areas": null,
            "object_position": null,
            "object_fit": null,
            "grid_auto_columns": null,
            "margin": null,
            "display": null,
            "left": null
          }
        },
        "b0a4647eb2bd4e65916ff5afca534c09": {
          "model_module": "@jupyter-widgets/controls",
          "model_name": "HTMLModel",
          "model_module_version": "1.5.0",
          "state": {
            "_view_name": "HTMLView",
            "style": "IPY_MODEL_68ba8f186153419e8d777d6f325d4c9e",
            "_dom_classes": [],
            "description": "",
            "_model_name": "HTMLModel",
            "placeholder": "​",
            "_view_module": "@jupyter-widgets/controls",
            "_model_module_version": "1.5.0",
            "value": "100%",
            "_view_count": null,
            "_view_module_version": "1.5.0",
            "description_tooltip": null,
            "_model_module": "@jupyter-widgets/controls",
            "layout": "IPY_MODEL_2ec7cefb36f14f70bffed2d559aa9f6a"
          }
        },
        "b97b89dfe6374cbbaffebd7f67ae64d3": {
          "model_module": "@jupyter-widgets/controls",
          "model_name": "FloatProgressModel",
          "model_module_version": "1.5.0",
          "state": {
            "_view_name": "ProgressView",
            "style": "IPY_MODEL_6766d5278f1f47af9491295c885c287f",
            "_dom_classes": [],
            "description": "",
            "_model_name": "FloatProgressModel",
            "bar_style": "success",
            "max": 5,
            "_view_module": "@jupyter-widgets/controls",
            "_model_module_version": "1.5.0",
            "value": 5,
            "_view_count": null,
            "_view_module_version": "1.5.0",
            "orientation": "horizontal",
            "min": 0,
            "description_tooltip": null,
            "_model_module": "@jupyter-widgets/controls",
            "layout": "IPY_MODEL_7b0c4ff0807147eaa9c75b5e4a5ab621"
          }
        },
        "d6cbbc5aea6b428791cc18f61bbe7313": {
          "model_module": "@jupyter-widgets/controls",
          "model_name": "HTMLModel",
          "model_module_version": "1.5.0",
          "state": {
            "_view_name": "HTMLView",
            "style": "IPY_MODEL_106af5eb58b8490d820448a4d5adffe9",
            "_dom_classes": [],
            "description": "",
            "_model_name": "HTMLModel",
            "placeholder": "​",
            "_view_module": "@jupyter-widgets/controls",
            "_model_module_version": "1.5.0",
            "value": " 5/5 [00:04&lt;00:00,  1.04it/s]",
            "_view_count": null,
            "_view_module_version": "1.5.0",
            "description_tooltip": null,
            "_model_module": "@jupyter-widgets/controls",
            "layout": "IPY_MODEL_fa28da8187884c04901ee5b0ac8cf0f5"
          }
        },
        "68ba8f186153419e8d777d6f325d4c9e": {
          "model_module": "@jupyter-widgets/controls",
          "model_name": "DescriptionStyleModel",
          "model_module_version": "1.5.0",
          "state": {
            "_view_name": "StyleView",
            "_model_name": "DescriptionStyleModel",
            "description_width": "",
            "_view_module": "@jupyter-widgets/base",
            "_model_module_version": "1.5.0",
            "_view_count": null,
            "_view_module_version": "1.2.0",
            "_model_module": "@jupyter-widgets/controls"
          }
        },
        "2ec7cefb36f14f70bffed2d559aa9f6a": {
          "model_module": "@jupyter-widgets/base",
          "model_name": "LayoutModel",
          "model_module_version": "1.2.0",
          "state": {
            "_view_name": "LayoutView",
            "grid_template_rows": null,
            "right": null,
            "justify_content": null,
            "_view_module": "@jupyter-widgets/base",
            "overflow": null,
            "_model_module_version": "1.2.0",
            "_view_count": null,
            "flex_flow": null,
            "width": null,
            "min_width": null,
            "border": null,
            "align_items": null,
            "bottom": null,
            "_model_module": "@jupyter-widgets/base",
            "top": null,
            "grid_column": null,
            "overflow_y": null,
            "overflow_x": null,
            "grid_auto_flow": null,
            "grid_area": null,
            "grid_template_columns": null,
            "flex": null,
            "_model_name": "LayoutModel",
            "justify_items": null,
            "grid_row": null,
            "max_height": null,
            "align_content": null,
            "visibility": null,
            "align_self": null,
            "height": null,
            "min_height": null,
            "padding": null,
            "grid_auto_rows": null,
            "grid_gap": null,
            "max_width": null,
            "order": null,
            "_view_module_version": "1.2.0",
            "grid_template_areas": null,
            "object_position": null,
            "object_fit": null,
            "grid_auto_columns": null,
            "margin": null,
            "display": null,
            "left": null
          }
        },
        "6766d5278f1f47af9491295c885c287f": {
          "model_module": "@jupyter-widgets/controls",
          "model_name": "ProgressStyleModel",
          "model_module_version": "1.5.0",
          "state": {
            "_view_name": "StyleView",
            "_model_name": "ProgressStyleModel",
            "description_width": "",
            "_view_module": "@jupyter-widgets/base",
            "_model_module_version": "1.5.0",
            "_view_count": null,
            "_view_module_version": "1.2.0",
            "bar_color": null,
            "_model_module": "@jupyter-widgets/controls"
          }
        },
        "7b0c4ff0807147eaa9c75b5e4a5ab621": {
          "model_module": "@jupyter-widgets/base",
          "model_name": "LayoutModel",
          "model_module_version": "1.2.0",
          "state": {
            "_view_name": "LayoutView",
            "grid_template_rows": null,
            "right": null,
            "justify_content": null,
            "_view_module": "@jupyter-widgets/base",
            "overflow": null,
            "_model_module_version": "1.2.0",
            "_view_count": null,
            "flex_flow": null,
            "width": null,
            "min_width": null,
            "border": null,
            "align_items": null,
            "bottom": null,
            "_model_module": "@jupyter-widgets/base",
            "top": null,
            "grid_column": null,
            "overflow_y": null,
            "overflow_x": null,
            "grid_auto_flow": null,
            "grid_area": null,
            "grid_template_columns": null,
            "flex": null,
            "_model_name": "LayoutModel",
            "justify_items": null,
            "grid_row": null,
            "max_height": null,
            "align_content": null,
            "visibility": null,
            "align_self": null,
            "height": null,
            "min_height": null,
            "padding": null,
            "grid_auto_rows": null,
            "grid_gap": null,
            "max_width": null,
            "order": null,
            "_view_module_version": "1.2.0",
            "grid_template_areas": null,
            "object_position": null,
            "object_fit": null,
            "grid_auto_columns": null,
            "margin": null,
            "display": null,
            "left": null
          }
        },
        "106af5eb58b8490d820448a4d5adffe9": {
          "model_module": "@jupyter-widgets/controls",
          "model_name": "DescriptionStyleModel",
          "model_module_version": "1.5.0",
          "state": {
            "_view_name": "StyleView",
            "_model_name": "DescriptionStyleModel",
            "description_width": "",
            "_view_module": "@jupyter-widgets/base",
            "_model_module_version": "1.5.0",
            "_view_count": null,
            "_view_module_version": "1.2.0",
            "_model_module": "@jupyter-widgets/controls"
          }
        },
        "fa28da8187884c04901ee5b0ac8cf0f5": {
          "model_module": "@jupyter-widgets/base",
          "model_name": "LayoutModel",
          "model_module_version": "1.2.0",
          "state": {
            "_view_name": "LayoutView",
            "grid_template_rows": null,
            "right": null,
            "justify_content": null,
            "_view_module": "@jupyter-widgets/base",
            "overflow": null,
            "_model_module_version": "1.2.0",
            "_view_count": null,
            "flex_flow": null,
            "width": null,
            "min_width": null,
            "border": null,
            "align_items": null,
            "bottom": null,
            "_model_module": "@jupyter-widgets/base",
            "top": null,
            "grid_column": null,
            "overflow_y": null,
            "overflow_x": null,
            "grid_auto_flow": null,
            "grid_area": null,
            "grid_template_columns": null,
            "flex": null,
            "_model_name": "LayoutModel",
            "justify_items": null,
            "grid_row": null,
            "max_height": null,
            "align_content": null,
            "visibility": null,
            "align_self": null,
            "height": null,
            "min_height": null,
            "padding": null,
            "grid_auto_rows": null,
            "grid_gap": null,
            "max_width": null,
            "order": null,
            "_view_module_version": "1.2.0",
            "grid_template_areas": null,
            "object_position": null,
            "object_fit": null,
            "grid_auto_columns": null,
            "margin": null,
            "display": null,
            "left": null
          }
        }
      }
    }
  },
  "cells": [
    {
      "cell_type": "markdown",
      "metadata": {
        "id": "view-in-github",
        "colab_type": "text"
      },
      "source": [
        "<a href=\"https://colab.research.google.com/github/liao961120/dcctk/blob/main/docs_source/nb/charQuery.ipynb\" target=\"_parent\"><img src=\"https://colab.research.google.com/assets/colab-badge.svg\" alt=\"Open In Colab\"/></a>"
      ]
    },
    {
      "cell_type": "code",
      "metadata": {
        "id": "5P99extNBogu"
      },
      "source": [
        "# !gdown https://github.com/liao961120/dcctk/raw/main/test/data.zip\n",
        "# !unzip -q data.zip\n",
        "!pip install -q https://github.com/liao961120/CompoTree/tarball/main\n",
        "!pip install -qU dcctk"
      ],
      "execution_count": 14,
      "outputs": []
    },
    {
      "cell_type": "code",
      "metadata": {
        "id": "uB5Op8IuBogw",
        "colab": {
          "base_uri": "https://localhost:8080/",
          "height": 116,
          "referenced_widgets": [
            "89555fdb800a475fbc4c08d253ed76a7",
            "27b3d0da092642299f6a6e4df8d54ea8",
            "7b1947d8030e41d4864c0ca1756281db",
            "d1bc470d19d24b3a98838eebc10c1af2",
            "923fa19e34cf4134b2bfdab95cb4e4f2",
            "86e315c120504265865237697cffec01",
            "f513a22ad4784564987a6fdbb14ce1f8",
            "21b24a9f340b4f0bb73dc69ff5df5ef0",
            "a10ce5526cf540faa23972549aedeab1",
            "96148f9182354c91841a9695eab319cd",
            "2978df8f8da54125b23e0a55c9ecaae3",
            "4c843ab3d8fe444bbdd59d58a5cde698",
            "6b90b2ef579f4812a162046568879943",
            "b0a4647eb2bd4e65916ff5afca534c09",
            "b97b89dfe6374cbbaffebd7f67ae64d3",
            "d6cbbc5aea6b428791cc18f61bbe7313",
            "68ba8f186153419e8d777d6f325d4c9e",
            "2ec7cefb36f14f70bffed2d559aa9f6a",
            "6766d5278f1f47af9491295c885c287f",
            "7b0c4ff0807147eaa9c75b5e4a5ab621",
            "106af5eb58b8490d820448a4d5adffe9",
            "fa28da8187884c04901ee5b0ac8cf0f5"
          ]
        },
        "outputId": "0290165c-8694-427d-87c8-af0904d232d4"
      },
      "source": [
        "from dcctk.corpusReader import PlainTextReader\n",
        "from dcctk.concordancer import Concordancer\n",
        "\n",
        "c = Concordancer(PlainTextReader(\"data/\").corpus)"
      ],
      "execution_count": 15,
      "outputs": [
        {
          "output_type": "stream",
          "name": "stdout",
          "text": [
            "Indexing corpus for text retrival...\n"
          ]
        },
        {
          "output_type": "display_data",
          "data": {
            "application/vnd.jupyter.widget-view+json": {
              "model_id": "89555fdb800a475fbc4c08d253ed76a7",
              "version_minor": 0,
              "version_major": 2
            },
            "text/plain": [
              "  0%|          | 0/5 [00:00<?, ?it/s]"
            ]
          },
          "metadata": {}
        },
        {
          "output_type": "stream",
          "name": "stdout",
          "text": [
            "Indexing corpus for concordance search...\n"
          ]
        },
        {
          "output_type": "display_data",
          "data": {
            "application/vnd.jupyter.widget-view+json": {
              "model_id": "4c843ab3d8fe444bbdd59d58a5cde698",
              "version_minor": 0,
              "version_major": 2
            },
            "text/plain": [
              "  0%|          | 0/5 [00:00<?, ?it/s]"
            ]
          },
          "metadata": {}
        }
      ]
    },
    {
      "cell_type": "code",
      "metadata": {
        "id": "esfml6EkBogy"
      },
      "source": [
        "def get_first_n(cql, n=10):\n",
        "    out = []\n",
        "    for i, result in enumerate(c.cql_search(cql)):\n",
        "        if i == n: break\n",
        "        out.append(result)\n",
        "    return out"
      ],
      "execution_count": 16,
      "outputs": []
    },
    {
      "cell_type": "markdown",
      "metadata": {
        "id": "IPf2VPo4Bogy"
      },
      "source": [
        "## 1 Search by Character"
      ]
    },
    {
      "cell_type": "code",
      "metadata": {
        "id": "Zaau3bHuBogz",
        "colab": {
          "base_uri": "https://localhost:8080/"
        },
        "outputId": "250a253f-ac96-435f-c2d2-2f4b4f44eaab"
      },
      "source": [
        "cql = '''\n",
        "[char=\"龜\"] [char=\"[一-龜]\"]\n",
        "'''\n",
        "get_first_n(cql, 10)"
      ],
      "execution_count": 4,
      "outputs": [
        {
          "output_type": "execute_result",
          "data": {
            "text/plain": [
              "[<Concord 之謂也。靈{龜文}五色，似玉>,\n",
              " <Concord 擊莎車。而{龜茲}王遣左將軍>,\n",
              " <Concord 傍家人常畜{龜飲}食之，以為>,\n",
              " <Concord 則之。」蓍{龜卜}筮，以定嫌>,\n",
              " <Concord 固，乃譎說{龜茲}王白霸，欲>,\n",
              " <Concord 者趙也。鑿{龜數}筴，兆曰大>,\n",
              " <Concord ，乃是一大{龜耳}。女出食穀>,\n",
              " <Concord 已卜。暮昏{龜之}徼也，不可>,\n",
              " <Concord 所詹。奄有{龜蒙}、遂荒大東>,\n",
              " <Concord 曰：「有神{龜在}江南嘉林中>]"
            ]
          },
          "metadata": {},
          "execution_count": 4
        }
      ]
    },
    {
      "cell_type": "markdown",
      "metadata": {
        "id": "hnyS9kPyBog0"
      },
      "source": [
        "## 2 Search by Character Component\n",
        "\n",
        "### 2.1 Radicals of all characters found in the corpus"
      ]
    },
    {
      "cell_type": "code",
      "metadata": {
        "id": "aI2YlSJDBog1",
        "colab": {
          "base_uri": "https://localhost:8080/"
        },
        "outputId": "c16c21ad-1a38-44c5-96ab-2dd209a52afb"
      },
      "source": [
        "print(c.chr_radicals)"
      ],
      "execution_count": 5,
      "outputs": [
        {
          "output_type": "stream",
          "name": "stdout",
          "text": [
            "Building index for character radicals...\n",
            "{'', '齒', '色', '麥', '虍', '辵', '弓', '鼠', '攴', '丿', '冂', '貝', '犬', '马', '父', '止', '龍', '火', '鼎', '立', '豕', '文', '歹', '雨', '聿', '心', '冖', '田', '方', '木', '十', '黾', '乙', '舛', '刀', '行', '水', '比', '手', '尸', '纟', '又', '首', '艮', '谷', '疋', '彡', '一', '广', '非', '黑', '卩', '山', '食', '廾', '廴', '厶', '瓦', '日', '黽', '米', '巛', '矛', '癶', '二', '丨', '皿', '麻', '巾', '白', '韭', '自', '己', '毋', '阜', '見', '豆', '屮', '邑', '辰', '羽', '髟', '龙', '酉', '鼻', '角', '豸', '頁', '辛', '齿', '龜', '儿', '釆', '入', '小', '工', '皮', '禾', '宀', '言', '鬲', '贝', '片', '用', '干', '彳', '臣', '飛', '缶', '匚', '魚', '厂', '殳', '目', '玉', '矢', '石', '弋', '鸟', '玄', '血', '韦', '夂', '穴', '钅', '门', '子', '香', '勹', '生', '虫', '幺', '舟', '麦', '瓜', '卜', '丶', '鬼', '鹵', '亅', '糸', '龟', '无', '气', '門', '鼓', '赤', '音', '龠', '耳', '隶', '戶', '土', '耒', '隹', '車', '老', '羊', '爻', '爿', '面', '甘', '冫', '示', '力', '口', '黹', '欠', '至', '月', '艸', '毛', '高', '戈', '曰', '長', '黃', '匸', '匕', '凵', '靑', '人', '襾', '大', '足', '鹿', '齊', '金', '氏', '疒', '士', '走', '而', '鬥', '臼', '牙', '身', '肉', '衣', '讠', '夊', '见', '禸', '夕', '尢', '鬯', '寸', '斤', '八', '斗', '车', '革', '韋', '支', '饣', '囗', '鳥', '彐', '网', '風', '黍', '亠', '女', '几', '鱼', '牛', '里', '页', '骨', '风', '竹', '馬', '舌', '爪'}\n"
          ]
        }
      ]
    },
    {
      "cell_type": "code",
      "metadata": {
        "id": "X6ad7C6NBog3",
        "colab": {
          "base_uri": "https://localhost:8080/"
        },
        "outputId": "148a5012-f9c9-4410-8a17-a261d9b77397"
      },
      "source": [
        "cql = '''\n",
        "[radical=\"立\"]\n",
        "'''\n",
        "get_first_n(cql, 10)"
      ],
      "execution_count": 6,
      "outputs": [
        {
          "output_type": "execute_result",
          "data": {
            "text/plain": [
              "[<Concord 出。从一从{䇂}。䇂，辠也>,\n",
              " <Concord 从一从䇂。{䇂}，辠也。辛>,\n",
              " <Concord 也。从口歫{䇂}。䇂，惡聲>,\n",
              " <Concord 从口歫䇂。{䇂}，惡聲也。>,\n",
              " <Concord 曰語。从口{䇂}聲。凡言之>,\n",
              " <Concord 未知其審。{䇂}：辠也。从>,\n",
              " <Concord 文上字。凡{䇂}之屬皆从䇂>,\n",
              " <Concord 䇂之屬皆从{䇂}。讀若愆。>,\n",
              " <Concord 女曰妾。从{䇂}，重省聲。>,\n",
              " <Concord 於君者。从{䇂}从女。《春>]"
            ]
          },
          "metadata": {},
          "execution_count": 6
        }
      ]
    },
    {
      "cell_type": "markdown",
      "metadata": {
        "id": "UHXJKktKBog4"
      },
      "source": [
        "### 2.2 Ideographic Description Characters (IDCs)"
      ]
    },
    {
      "cell_type": "code",
      "metadata": {
        "id": "m-R8F4-cBog5",
        "colab": {
          "base_uri": "https://localhost:8080/"
        },
        "outputId": "d90085c0-acc6-448d-df8e-cc3ddfe508e4"
      },
      "source": [
        "c.chr_idcs"
      ],
      "execution_count": 7,
      "outputs": [
        {
          "output_type": "execute_result",
          "data": {
            "text/plain": [
              "{'curC': '⿷',\n",
              " 'encl': '⿴',\n",
              " 'horz2': '⿰',\n",
              " 'horz3': '⿲',\n",
              " 'over': '⿻',\n",
              " 'sur7': '⿹',\n",
              " 'surL': '⿺',\n",
              " 'surN': '⿵',\n",
              " 'surT': '⿸',\n",
              " 'surU': '⿶',\n",
              " 'vert2': '⿱',\n",
              " 'vert3': '⿳'}"
            ]
          },
          "metadata": {},
          "execution_count": 7
        }
      ]
    },
    {
      "cell_type": "code",
      "metadata": {
        "id": "05n7FqGyBog6",
        "colab": {
          "base_uri": "https://localhost:8080/"
        },
        "outputId": "f442700b-6f76-4021-ccca-4bd24dc0c1cd"
      },
      "source": [
        "from CompoTree import ComponentTree\n",
        "ctree = ComponentTree.load()\n",
        "\n",
        "for ch in \"杜李国叵\":\n",
        "    print(ch, ctree.ids_map.get(ch), sep=\": \")"
      ],
      "execution_count": 8,
      "outputs": [
        {
          "output_type": "stream",
          "name": "stdout",
          "text": [
            "杜: [<⿰:木土>]\n",
            "李: [<⿱:木子>]\n",
            "国: [<⿴:囗玉>]\n",
            "叵: [<⿷:匚口>]\n"
          ]
        }
      ]
    },
    {
      "cell_type": "code",
      "metadata": {
        "id": "-6jcQBGrBog6",
        "colab": {
          "base_uri": "https://localhost:8080/"
        },
        "outputId": "b9d4f206-994b-44fb-d8bb-d83670786990"
      },
      "source": [
        "cql = '''\n",
        "[compo=\"木\" & idc=\"horz2\" & pos=\"0\"]\n",
        "'''\n",
        "get_first_n(cql, 5)"
      ],
      "execution_count": 9,
      "outputs": [
        {
          "output_type": "execute_result",
          "data": {
            "text/plain": [
              "[<Concord 越之劍者，{柙}而藏之，不>,\n",
              " <Concord 服虎而不以{柙}，禁姦而不>,\n",
              " <Concord 難也。故設{柙}非所以備鼠>,\n",
              " <Concord 。虎兕出於{柙}，龜玉毀於>,\n",
              " <Concord ：「置猿於{柙}中，則與豚>]"
            ]
          },
          "metadata": {},
          "execution_count": 9
        }
      ]
    },
    {
      "cell_type": "code",
      "metadata": {
        "id": "dOyBy9yXBog7",
        "colab": {
          "base_uri": "https://localhost:8080/"
        },
        "outputId": "6c9169eb-1a44-4f6a-f9b5-376cdf29769a"
      },
      "source": [
        "cql = '''\n",
        "[compo=\"木\" & idc=\"horz2\" & pos=\"1\"]\n",
        "'''\n",
        "get_first_n(cql, 5)"
      ],
      "execution_count": 10,
      "outputs": [
        {
          "output_type": "execute_result",
          "data": {
            "text/plain": [
              "[<Concord 弟之國，以{休}君憂。今君>,\n",
              " <Concord 酒，晝夜不{休}。由余驟諫>,\n",
              " <Concord 五歲。人將{休}，吾將不敢>,\n",
              " <Concord ，吾將不敢{休}；人將臥，>,\n",
              " <Concord 少民學之不{休}。少民學之>]"
            ]
          },
          "metadata": {},
          "execution_count": 10
        }
      ]
    },
    {
      "cell_type": "code",
      "metadata": {
        "id": "tKl_jBfKBog8",
        "colab": {
          "base_uri": "https://localhost:8080/"
        },
        "outputId": "8a663fb8-58bd-457c-9352-dcd10cbe2867"
      },
      "source": [
        "cql = '''\n",
        "[idc=\"encl\"] [idc=\"encl\"]\n",
        "'''\n",
        "get_first_n(cql, 5)"
      ],
      "execution_count": 11,
      "outputs": [
        {
          "output_type": "stream",
          "name": "stdout",
          "text": [
            "Building index for character IDCs...\n"
          ]
        },
        {
          "output_type": "execute_result",
          "data": {
            "text/plain": [
              "[<Concord 𢦔聲。軍：{圜圍}也。四千人>,\n",
              " <Concord 永昌」，方{圜四}寸，上紐交>,\n",
              " <Concord 在駕訓場繞{圈圈}，不開車上>,\n",
              " <Concord 黨集團」的{圈圈}，紛紛表示>,\n",
              " <Concord 行天下，雖{困四}夷，人莫不>]"
            ]
          },
          "metadata": {},
          "execution_count": 11
        }
      ]
    },
    {
      "cell_type": "markdown",
      "metadata": {
        "id": "2FcnQlQ5Bog8"
      },
      "source": [
        "## 3 Search by Phonetic Properties"
      ]
    },
    {
      "cell_type": "markdown",
      "metadata": {
        "id": "OAUkhI1XxcaN"
      },
      "source": [
        "### 3.1 Mandarin (based on [萌典](https://github.com/g0v/moedict-data/blob/master/dict-revised.json)) "
      ]
    },
    {
      "cell_type": "code",
      "metadata": {
        "id": "DUI5WI1TBog9",
        "colab": {
          "base_uri": "https://localhost:8080/"
        },
        "outputId": "81e62ee6-ee9d-4779-9774-facca03a2a29"
      },
      "source": [
        "cql = '''\n",
        "[phon=\"ㄨㄥ\" & tone=\"1\" & sys=\"moe\"]\n",
        "'''\n",
        "get_first_n(cql, 5)"
      ],
      "execution_count": 21,
      "outputs": [
        {
          "output_type": "execute_result",
          "data": {
            "text/plain": [
              "[<Concord 」耳邊不斷{嗡}嗡的縈繞著>,\n",
              " <Concord 耳邊不斷嗡{嗡}的縈繞著類>,\n",
              " <Concord 哭泣不秩聲{翁}，縗絰垂涕>,\n",
              " <Concord 昆吾；是使{翁}難卜於白若>,\n",
              " <Concord 發猛，塤篪{翁}博，瑟易良>]"
            ]
          },
          "metadata": {},
          "execution_count": 21
        }
      ]
    },
    {
      "cell_type": "code",
      "metadata": {
        "id": "Cej-K7OTBog9",
        "colab": {
          "base_uri": "https://localhost:8080/"
        },
        "outputId": "6434b0a7-15aa-47eb-b763-9cbead6674ad"
      },
      "source": [
        "cql = '''\n",
        "[phon=\"^pʰ\" & tp=\"ipa\" & sys=\"moe\"] [phon=\"^pʰ\" & tp=\"ipa\" & sys=\"moe\"]\n",
        "'''\n",
        "get_first_n(cql, 5)"
      ],
      "execution_count": 22,
      "outputs": [
        {
          "output_type": "execute_result",
          "data": {
            "text/plain": [
              "[<Concord 豉汁淹之，{脯脯}然也。釜，>,\n",
              " <Concord 食。司徒侯{霸辟}閔仲叔，到>,\n",
              " <Concord 時中常侍管{霸頗}有才略，專>,\n",
              " <Concord 拇，逐人伂{駓駓}些。參目虎>,\n",
              " <Concord 無絕交，無{畔朋}。《書》曰>]"
            ]
          },
          "metadata": {},
          "execution_count": 22
        }
      ]
    },
    {
      "cell_type": "markdown",
      "metadata": {
        "id": "yVFOR9FkyFG7"
      },
      "source": [
        "### 3.2 中古漢語 (based on [廣韻](https://zhuanlan.zhihu.com/p/20430939))"
      ]
    },
    {
      "cell_type": "code",
      "metadata": {
        "id": "_j7ewyyJDTf6",
        "colab": {
          "base_uri": "https://localhost:8080/"
        },
        "outputId": "03050aef-5248-451b-c1e0-3d643bebcbc0"
      },
      "source": [
        "c.cql_attrs['CharPhonetic']"
      ],
      "execution_count": 23,
      "outputs": [
        {
          "output_type": "execute_result",
          "data": {
            "text/plain": [
              "{'moe': ['phon', 'tone', 'tp', 'sys=\"moe\"'],\n",
              " '廣韻': ['攝', '聲調', '韻母', '聲母', '開合', '等第', '反切', '拼音', 'IPA', 'sys=\"廣韻\"']}"
            ]
          },
          "metadata": {},
          "execution_count": 23
        }
      ]
    },
    {
      "cell_type": "code",
      "metadata": {
        "id": "KjcJZTMj08Gb",
        "colab": {
          "base_uri": "https://localhost:8080/"
        },
        "outputId": "3471a9c5-e8fe-4b05-df88-34af758c64cb"
      },
      "source": [
        "cql = '''\n",
        "[韻母=\"東\" & 聲調=\"平\" & sys=\"廣韻\"]\n",
        "'''\n",
        "get_first_n(cql, 5)"
      ],
      "execution_count": 24,
      "outputs": [
        {
          "output_type": "execute_result",
          "data": {
            "text/plain": [
              "[<Concord 者使去私就{公}，同知壹䜘>,\n",
              " <Concord 弗由而名尸{公}伯。」>,\n",
              " <Concord 此固世之所{公}哉。同而後>,\n",
              " <Concord 士，大師三{公}，咸作有績>,\n",
              " <Concord 有餘師。」{公}孫丑問曰：>]"
            ]
          },
          "metadata": {},
          "execution_count": 24
        }
      ]
    },
    {
      "cell_type": "markdown",
      "metadata": {
        "id": "w5CuYf2kBog-"
      },
      "source": [
        "## 4 Component Stats"
      ]
    },
    {
      "cell_type": "code",
      "metadata": {
        "id": "F7cP3KohBog-"
      },
      "source": [
        "from dcctk.compoAnalysis import CompoAnalysis\n",
        "\n",
        "reader = PlainTextReader(\"data/\", auto_load=False)\n",
        "c2 = CompoAnalysis(reader)"
      ],
      "execution_count": 26,
      "outputs": []
    },
    {
      "cell_type": "markdown",
      "metadata": {
        "id": "Y8Qqh7wHBog-"
      },
      "source": [
        "### 4.1 Frequency Distributions"
      ]
    },
    {
      "cell_type": "markdown",
      "metadata": {
        "id": "vtfJ0NqOBog-"
      },
      "source": [
        "#### 4.1.1 Character"
      ]
    },
    {
      "cell_type": "code",
      "metadata": {
        "id": "cR9kxZvYBog_",
        "colab": {
          "base_uri": "https://localhost:8080/"
        },
        "outputId": "d468a540-5f22-41c0-a7e0-d8c390ee3982"
      },
      "source": [
        "c2.freq_distr(tp=\"chr\", subcorp_idx=0).most_common(10)"
      ],
      "execution_count": 27,
      "outputs": [
        {
          "output_type": "execute_result",
          "data": {
            "text/plain": [
              "[('，', 178802),\n",
              " ('。', 83819),\n",
              " ('之', 64665),\n",
              " ('不', 37264),\n",
              " ('也', 32634),\n",
              " ('而', 32035),\n",
              " ('以', 27556),\n",
              " ('其', 25931),\n",
              " ('者', 23304),\n",
              " ('曰', 21763)]"
            ]
          },
          "metadata": {},
          "execution_count": 27
        }
      ]
    },
    {
      "cell_type": "markdown",
      "metadata": {
        "id": "yuc227IrBog_"
      },
      "source": [
        "#### 4.1.2 Shape"
      ]
    },
    {
      "cell_type": "code",
      "metadata": {
        "id": "Ttx5SFuxBog_",
        "colab": {
          "base_uri": "https://localhost:8080/"
        },
        "outputId": "88b16234-9d3b-40e3-9086-fd9c998d0883"
      },
      "source": [
        "c2.freq_distr(tp=\"idc\", subcorp_idx=0)"
      ],
      "execution_count": 28,
      "outputs": [
        {
          "output_type": "execute_result",
          "data": {
            "text/plain": [
              "Counter({'': 256312,\n",
              "         'noChrData': 351898,\n",
              "         '⿰': 438079,\n",
              "         '⿱': 561453,\n",
              "         '⿲': 6242,\n",
              "         '⿳': 14381,\n",
              "         '⿴': 14409,\n",
              "         '⿵': 25234,\n",
              "         '⿶': 7275,\n",
              "         '⿷': 1641,\n",
              "         '⿸': 91226,\n",
              "         '⿹': 25384,\n",
              "         '⿺': 26847,\n",
              "         '⿻': 37847})"
            ]
          },
          "metadata": {},
          "execution_count": 28
        }
      ]
    },
    {
      "cell_type": "markdown",
      "metadata": {
        "id": "d54HgCU8BohA"
      },
      "source": [
        "#### 4.1.3 Radical"
      ]
    },
    {
      "cell_type": "code",
      "metadata": {
        "id": "FO_xXBhvBohA",
        "colab": {
          "base_uri": "https://localhost:8080/"
        },
        "outputId": "9c1589b5-417b-4ab6-f4c4-b323d8ff319f"
      },
      "source": [
        "c2.freq_distr(tp=\"rad\").most_common(10)"
      ],
      "execution_count": 29,
      "outputs": [
        {
          "output_type": "execute_result",
          "data": {
            "text/plain": [
              "[('noChrData', 1517367),\n",
              " ('人', 422649),\n",
              " ('一', 281707),\n",
              " ('丿', 252723),\n",
              " ('口', 249345),\n",
              " ('火', 165875),\n",
              " ('言', 157936),\n",
              " ('水', 155632),\n",
              " ('八', 151539),\n",
              " ('心', 145208)]"
            ]
          },
          "metadata": {},
          "execution_count": 29
        }
      ]
    },
    {
      "cell_type": "markdown",
      "metadata": {
        "id": "3jiNiunDBohA"
      },
      "source": [
        "#### 4.1.4 Characters with a certain radical"
      ]
    },
    {
      "cell_type": "code",
      "metadata": {
        "id": "3vJy9zWUBohB",
        "colab": {
          "base_uri": "https://localhost:8080/"
        },
        "outputId": "9bf10a2d-e0f2-4666-c3f3-0e169e220fc8"
      },
      "source": [
        "c2.freq_distr(tp=None, radical=\"广\").most_common(10)"
      ],
      "execution_count": 30,
      "outputs": [
        {
          "output_type": "execute_result",
          "data": {
            "text/plain": [
              "[('度', 4757),\n",
              " ('廣', 4050),\n",
              " ('廟', 3067),\n",
              " ('府', 3064),\n",
              " ('廢', 2542),\n",
              " ('庶', 2281),\n",
              " ('廉', 1594),\n",
              " ('康', 1570),\n",
              " ('序', 1213),\n",
              " ('庭', 1155)]"
            ]
          },
          "metadata": {},
          "execution_count": 30
        }
      ]
    },
    {
      "cell_type": "markdown",
      "metadata": {
        "id": "n98IPgSiBohB"
      },
      "source": [
        "#### 4.1.5 Characters with a certain component"
      ]
    },
    {
      "cell_type": "code",
      "metadata": {
        "id": "r9-13bVrBohB",
        "colab": {
          "base_uri": "https://localhost:8080/"
        },
        "outputId": "e9a1ad82-d632-4942-e54c-9e9ffd7ee67a"
      },
      "source": [
        "c2.freq_distr(tp=None, compo=\"水\", idc=\"vert2\", pos=-1)"
      ],
      "execution_count": 31,
      "outputs": [
        {
          "output_type": "execute_result",
          "data": {
            "text/plain": [
              "Counter({'氶': 1,\n",
              "         '汞': 15,\n",
              "         '沓': 89,\n",
              "         '泉': 1349,\n",
              "         '泵': 3,\n",
              "         '淼': 4,\n",
              "         '滎': 344,\n",
              "         '漀': 1,\n",
              "         '漐': 9,\n",
              "         '漿': 153,\n",
              "         '澩': 3,\n",
              "         '灓': 5})"
            ]
          },
          "metadata": {},
          "execution_count": 31
        }
      ]
    },
    {
      "cell_type": "markdown",
      "metadata": {
        "id": "XQpPJpu8BohB"
      },
      "source": [
        "### 4.2 Productivity \n",
        "\n",
        "- Realized Productivity: $V(C, N)$\n",
        "- Expanding Productivity: $\\frac{V(1, C, N)}{V(1, N)}$\n",
        "- Potential Productivity: $\\frac{V(1, C, N)}{N(C)}$\n",
        "\n",
        "#### 4.2.1 Productivity of a radical"
      ]
    },
    {
      "cell_type": "code",
      "metadata": {
        "id": "hrgBYeFxBohC",
        "colab": {
          "base_uri": "https://localhost:8080/"
        },
        "outputId": "11eae6c0-52b0-4d34-d8c7-05dd441faaa9"
      },
      "source": [
        "c2.productivity(radical=\"广\", subcorp_idx=0)"
      ],
      "execution_count": 32,
      "outputs": [
        {
          "output_type": "execute_result",
          "data": {
            "text/plain": [
              "{'N': 1858228,\n",
              " 'NC': 5897,\n",
              " 'V1': 2083,\n",
              " 'V1C': 9,\n",
              " 'productivity': {'expanding': 0.0043206913106096975,\n",
              "  'potential': 0.001526199762591148,\n",
              "  'realized': 62}}"
            ]
          },
          "metadata": {},
          "execution_count": 32
        }
      ]
    },
    {
      "cell_type": "markdown",
      "metadata": {
        "id": "6256a-ivBohI"
      },
      "source": [
        "### 4.2.2 Productivity of a component"
      ]
    },
    {
      "cell_type": "code",
      "metadata": {
        "id": "X32e1es_BohI",
        "colab": {
          "base_uri": "https://localhost:8080/"
        },
        "outputId": "5681f0f0-ee5a-4690-aa42-948ce8fe84f5"
      },
      "source": [
        "c2.productivity(compo=\"虫\", idc=\"horz2\", pos=0, subcorp_idx=0)"
      ],
      "execution_count": 33,
      "outputs": [
        {
          "output_type": "execute_result",
          "data": {
            "text/plain": [
              "{'N': 1858228,\n",
              " 'NC': 1027,\n",
              " 'V1': 2083,\n",
              " 'V1C': 72,\n",
              " 'productivity': {'expanding': 0.03456553048487758,\n",
              "  'potential': 0.07010710808179163,\n",
              "  'realized': 178}}"
            ]
          },
          "metadata": {},
          "execution_count": 33
        }
      ]
    },
    {
      "cell_type": "markdown",
      "metadata": {
        "id": "faxDjSBZBohI"
      },
      "source": [
        "### 4.2.3 Productivity of Character shapes (IDCs)"
      ]
    },
    {
      "cell_type": "code",
      "metadata": {
        "id": "AxMiSWpFBohJ",
        "colab": {
          "base_uri": "https://localhost:8080/",
          "height": 418
        },
        "outputId": "00038a6d-671d-43f4-fc3b-fcf4294a8d6d"
      },
      "source": [
        "import pandas as pd\n",
        "from CompoTree import IDC\n",
        "\n",
        "df = []\n",
        "for idc in IDC:   \n",
        "    p = c2.productivity(idc=idc.name, subcorp_idx=0)\n",
        "    df.append({\n",
        "        'name': idc.name, \n",
        "        'shape': idc.value, \n",
        "        **p['productivity'],\n",
        "        'V1C': p['V1C'],\n",
        "        'V1': p['V1'],\n",
        "        'NC': p['NC'],\n",
        "        'N': p['N'],\n",
        "    })\n",
        "\n",
        "df = pd.DataFrame(df)\n",
        "df"
      ],
      "execution_count": 34,
      "outputs": [
        {
          "output_type": "execute_result",
          "data": {
            "text/html": [
              "<div>\n",
              "<style scoped>\n",
              "    .dataframe tbody tr th:only-of-type {\n",
              "        vertical-align: middle;\n",
              "    }\n",
              "\n",
              "    .dataframe tbody tr th {\n",
              "        vertical-align: top;\n",
              "    }\n",
              "\n",
              "    .dataframe thead th {\n",
              "        text-align: right;\n",
              "    }\n",
              "</style>\n",
              "<table border=\"1\" class=\"dataframe\">\n",
              "  <thead>\n",
              "    <tr style=\"text-align: right;\">\n",
              "      <th></th>\n",
              "      <th>name</th>\n",
              "      <th>shape</th>\n",
              "      <th>realized</th>\n",
              "      <th>expanding</th>\n",
              "      <th>potential</th>\n",
              "      <th>V1C</th>\n",
              "      <th>V1</th>\n",
              "      <th>NC</th>\n",
              "      <th>N</th>\n",
              "    </tr>\n",
              "  </thead>\n",
              "  <tbody>\n",
              "    <tr>\n",
              "      <th>0</th>\n",
              "      <td>horz2</td>\n",
              "      <td>⿰</td>\n",
              "      <td>5580</td>\n",
              "      <td>0.709073</td>\n",
              "      <td>0.003372</td>\n",
              "      <td>1477</td>\n",
              "      <td>2083</td>\n",
              "      <td>438079</td>\n",
              "      <td>1858228</td>\n",
              "    </tr>\n",
              "    <tr>\n",
              "      <th>1</th>\n",
              "      <td>vert2</td>\n",
              "      <td>⿱</td>\n",
              "      <td>2110</td>\n",
              "      <td>0.223236</td>\n",
              "      <td>0.000828</td>\n",
              "      <td>465</td>\n",
              "      <td>2083</td>\n",
              "      <td>561453</td>\n",
              "      <td>1858228</td>\n",
              "    </tr>\n",
              "    <tr>\n",
              "      <th>2</th>\n",
              "      <td>horz3</td>\n",
              "      <td>⿲</td>\n",
              "      <td>37</td>\n",
              "      <td>0.002400</td>\n",
              "      <td>0.000801</td>\n",
              "      <td>5</td>\n",
              "      <td>2083</td>\n",
              "      <td>6242</td>\n",
              "      <td>1858228</td>\n",
              "    </tr>\n",
              "    <tr>\n",
              "      <th>3</th>\n",
              "      <td>vert3</td>\n",
              "      <td>⿳</td>\n",
              "      <td>85</td>\n",
              "      <td>0.006721</td>\n",
              "      <td>0.000974</td>\n",
              "      <td>14</td>\n",
              "      <td>2083</td>\n",
              "      <td>14381</td>\n",
              "      <td>1858228</td>\n",
              "    </tr>\n",
              "    <tr>\n",
              "      <th>4</th>\n",
              "      <td>encl</td>\n",
              "      <td>⿴</td>\n",
              "      <td>27</td>\n",
              "      <td>0.001440</td>\n",
              "      <td>0.000208</td>\n",
              "      <td>3</td>\n",
              "      <td>2083</td>\n",
              "      <td>14409</td>\n",
              "      <td>1858228</td>\n",
              "    </tr>\n",
              "    <tr>\n",
              "      <th>5</th>\n",
              "      <td>surN</td>\n",
              "      <td>⿵</td>\n",
              "      <td>87</td>\n",
              "      <td>0.005761</td>\n",
              "      <td>0.000476</td>\n",
              "      <td>12</td>\n",
              "      <td>2083</td>\n",
              "      <td>25234</td>\n",
              "      <td>1858228</td>\n",
              "    </tr>\n",
              "    <tr>\n",
              "      <th>6</th>\n",
              "      <td>surU</td>\n",
              "      <td>⿶</td>\n",
              "      <td>6</td>\n",
              "      <td>0.000000</td>\n",
              "      <td>0.000000</td>\n",
              "      <td>0</td>\n",
              "      <td>2083</td>\n",
              "      <td>7275</td>\n",
              "      <td>1858228</td>\n",
              "    </tr>\n",
              "    <tr>\n",
              "      <th>7</th>\n",
              "      <td>curC</td>\n",
              "      <td>⿷</td>\n",
              "      <td>20</td>\n",
              "      <td>0.001920</td>\n",
              "      <td>0.002438</td>\n",
              "      <td>4</td>\n",
              "      <td>2083</td>\n",
              "      <td>1641</td>\n",
              "      <td>1858228</td>\n",
              "    </tr>\n",
              "    <tr>\n",
              "      <th>8</th>\n",
              "      <td>surT</td>\n",
              "      <td>⿸</td>\n",
              "      <td>342</td>\n",
              "      <td>0.026884</td>\n",
              "      <td>0.000614</td>\n",
              "      <td>56</td>\n",
              "      <td>2083</td>\n",
              "      <td>91226</td>\n",
              "      <td>1858228</td>\n",
              "    </tr>\n",
              "    <tr>\n",
              "      <th>9</th>\n",
              "      <td>sur7</td>\n",
              "      <td>⿹</td>\n",
              "      <td>51</td>\n",
              "      <td>0.002880</td>\n",
              "      <td>0.000236</td>\n",
              "      <td>6</td>\n",
              "      <td>2083</td>\n",
              "      <td>25384</td>\n",
              "      <td>1858228</td>\n",
              "    </tr>\n",
              "    <tr>\n",
              "      <th>10</th>\n",
              "      <td>surL</td>\n",
              "      <td>⿺</td>\n",
              "      <td>180</td>\n",
              "      <td>0.012482</td>\n",
              "      <td>0.000968</td>\n",
              "      <td>26</td>\n",
              "      <td>2083</td>\n",
              "      <td>26847</td>\n",
              "      <td>1858228</td>\n",
              "    </tr>\n",
              "    <tr>\n",
              "      <th>11</th>\n",
              "      <td>over</td>\n",
              "      <td>⿻</td>\n",
              "      <td>44</td>\n",
              "      <td>0.000960</td>\n",
              "      <td>0.000053</td>\n",
              "      <td>2</td>\n",
              "      <td>2083</td>\n",
              "      <td>37847</td>\n",
              "      <td>1858228</td>\n",
              "    </tr>\n",
              "  </tbody>\n",
              "</table>\n",
              "</div>"
            ],
            "text/plain": [
              "     name shape  realized  expanding  potential   V1C    V1      NC        N\n",
              "0   horz2     ⿰      5580   0.709073   0.003372  1477  2083  438079  1858228\n",
              "1   vert2     ⿱      2110   0.223236   0.000828   465  2083  561453  1858228\n",
              "2   horz3     ⿲        37   0.002400   0.000801     5  2083    6242  1858228\n",
              "3   vert3     ⿳        85   0.006721   0.000974    14  2083   14381  1858228\n",
              "4    encl     ⿴        27   0.001440   0.000208     3  2083   14409  1858228\n",
              "5    surN     ⿵        87   0.005761   0.000476    12  2083   25234  1858228\n",
              "6    surU     ⿶         6   0.000000   0.000000     0  2083    7275  1858228\n",
              "7    curC     ⿷        20   0.001920   0.002438     4  2083    1641  1858228\n",
              "8    surT     ⿸       342   0.026884   0.000614    56  2083   91226  1858228\n",
              "9    sur7     ⿹        51   0.002880   0.000236     6  2083   25384  1858228\n",
              "10   surL     ⿺       180   0.012482   0.000968    26  2083   26847  1858228\n",
              "11   over     ⿻        44   0.000960   0.000053     2  2083   37847  1858228"
            ]
          },
          "metadata": {},
          "execution_count": 34
        }
      ]
    },
    {
      "cell_type": "markdown",
      "metadata": {
        "id": "rOmYYB0vhKgc"
      },
      "source": [
        "## ToDo\n",
        "\n",
        "\n",
        "- N-gram freq\n",
        "- Collocation\n",
        "- Case studies\n",
        "\n",
        "#### 10/14 討論\n",
        "\n",
        "- 穩定指標 (given a query)\n",
        "- 部件資訊 (CompoTree)、[字型複雜度](http://ericdata.com/tw/detail.aspx?no=213258)\n",
        "    - Productivity\n",
        "- 語意變遷 (word2vec for each subcorpus) "
      ]
    }
  ]
}