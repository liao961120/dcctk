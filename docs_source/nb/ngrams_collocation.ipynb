{
  "nbformat": 4,
  "nbformat_minor": 0,
  "metadata": {
    "kernelspec": {
      "display_name": "py3.7",
      "language": "python",
      "name": "py3.7"
    },
    "language_info": {
      "codemirror_mode": {
        "name": "ipython",
        "version": 3
      },
      "file_extension": ".py",
      "mimetype": "text/x-python",
      "name": "python",
      "nbconvert_exporter": "python",
      "pygments_lexer": "ipython3",
      "version": "3.7.6"
    },
    "colab": {
      "name": "ngrams_collocation",
      "provenance": [],
      "collapsed_sections": [],
      "toc_visible": true,
      "include_colab_link": true
    },
    "widgets": {
      "application/vnd.jupyter.widget-state+json": {
        "b6af5478a81d4c51bad30f65b60efe2b": {
          "model_module": "@jupyter-widgets/controls",
          "model_name": "HBoxModel",
          "model_module_version": "1.5.0",
          "state": {
            "_view_name": "HBoxView",
            "_dom_classes": [],
            "_model_name": "HBoxModel",
            "_view_module": "@jupyter-widgets/controls",
            "_model_module_version": "1.5.0",
            "_view_count": null,
            "_view_module_version": "1.5.0",
            "box_style": "",
            "layout": "IPY_MODEL_800aed0e98ba4ca0b72bfe4e157a9ce3",
            "_model_module": "@jupyter-widgets/controls",
            "children": [
              "IPY_MODEL_bc3f128f1e4c4bb9ba9b613e07f5ee4e",
              "IPY_MODEL_b9d1fc5f5ce14e73a8d7049a1acccbad",
              "IPY_MODEL_51f9594fcb21421c81c53b97765c540c"
            ]
          }
        },
        "800aed0e98ba4ca0b72bfe4e157a9ce3": {
          "model_module": "@jupyter-widgets/base",
          "model_name": "LayoutModel",
          "model_module_version": "1.2.0",
          "state": {
            "_view_name": "LayoutView",
            "grid_template_rows": null,
            "right": null,
            "justify_content": null,
            "_view_module": "@jupyter-widgets/base",
            "overflow": null,
            "_model_module_version": "1.2.0",
            "_view_count": null,
            "flex_flow": null,
            "width": null,
            "min_width": null,
            "border": null,
            "align_items": null,
            "bottom": null,
            "_model_module": "@jupyter-widgets/base",
            "top": null,
            "grid_column": null,
            "overflow_y": null,
            "overflow_x": null,
            "grid_auto_flow": null,
            "grid_area": null,
            "grid_template_columns": null,
            "flex": null,
            "_model_name": "LayoutModel",
            "justify_items": null,
            "grid_row": null,
            "max_height": null,
            "align_content": null,
            "visibility": null,
            "align_self": null,
            "height": null,
            "min_height": null,
            "padding": null,
            "grid_auto_rows": null,
            "grid_gap": null,
            "max_width": null,
            "order": null,
            "_view_module_version": "1.2.0",
            "grid_template_areas": null,
            "object_position": null,
            "object_fit": null,
            "grid_auto_columns": null,
            "margin": null,
            "display": null,
            "left": null
          }
        },
        "bc3f128f1e4c4bb9ba9b613e07f5ee4e": {
          "model_module": "@jupyter-widgets/controls",
          "model_name": "HTMLModel",
          "model_module_version": "1.5.0",
          "state": {
            "_view_name": "HTMLView",
            "style": "IPY_MODEL_7dd9207fc83b44c4b6dba232cb2ae2a1",
            "_dom_classes": [],
            "description": "",
            "_model_name": "HTMLModel",
            "placeholder": "​",
            "_view_module": "@jupyter-widgets/controls",
            "_model_module_version": "1.5.0",
            "value": "100%",
            "_view_count": null,
            "_view_module_version": "1.5.0",
            "description_tooltip": null,
            "_model_module": "@jupyter-widgets/controls",
            "layout": "IPY_MODEL_15163b7dc9df4494a0d7f4e55c5c19f4"
          }
        },
        "b9d1fc5f5ce14e73a8d7049a1acccbad": {
          "model_module": "@jupyter-widgets/controls",
          "model_name": "FloatProgressModel",
          "model_module_version": "1.5.0",
          "state": {
            "_view_name": "ProgressView",
            "style": "IPY_MODEL_2bd3a99a89fd431d95cceaa84d3bb586",
            "_dom_classes": [],
            "description": "",
            "_model_name": "FloatProgressModel",
            "bar_style": "success",
            "max": 5,
            "_view_module": "@jupyter-widgets/controls",
            "_model_module_version": "1.5.0",
            "value": 5,
            "_view_count": null,
            "_view_module_version": "1.5.0",
            "orientation": "horizontal",
            "min": 0,
            "description_tooltip": null,
            "_model_module": "@jupyter-widgets/controls",
            "layout": "IPY_MODEL_8339de5ebcb9466db56d1c56bd528274"
          }
        },
        "51f9594fcb21421c81c53b97765c540c": {
          "model_module": "@jupyter-widgets/controls",
          "model_name": "HTMLModel",
          "model_module_version": "1.5.0",
          "state": {
            "_view_name": "HTMLView",
            "style": "IPY_MODEL_790d8e9d8fe14087be4b76f66534e301",
            "_dom_classes": [],
            "description": "",
            "_model_name": "HTMLModel",
            "placeholder": "​",
            "_view_module": "@jupyter-widgets/controls",
            "_model_module_version": "1.5.0",
            "value": " 5/5 [00:00&lt;00:00, 97.19it/s]",
            "_view_count": null,
            "_view_module_version": "1.5.0",
            "description_tooltip": null,
            "_model_module": "@jupyter-widgets/controls",
            "layout": "IPY_MODEL_e2b4b9e0df1240d0a8d13682d4ba46cf"
          }
        },
        "7dd9207fc83b44c4b6dba232cb2ae2a1": {
          "model_module": "@jupyter-widgets/controls",
          "model_name": "DescriptionStyleModel",
          "model_module_version": "1.5.0",
          "state": {
            "_view_name": "StyleView",
            "_model_name": "DescriptionStyleModel",
            "description_width": "",
            "_view_module": "@jupyter-widgets/base",
            "_model_module_version": "1.5.0",
            "_view_count": null,
            "_view_module_version": "1.2.0",
            "_model_module": "@jupyter-widgets/controls"
          }
        },
        "15163b7dc9df4494a0d7f4e55c5c19f4": {
          "model_module": "@jupyter-widgets/base",
          "model_name": "LayoutModel",
          "model_module_version": "1.2.0",
          "state": {
            "_view_name": "LayoutView",
            "grid_template_rows": null,
            "right": null,
            "justify_content": null,
            "_view_module": "@jupyter-widgets/base",
            "overflow": null,
            "_model_module_version": "1.2.0",
            "_view_count": null,
            "flex_flow": null,
            "width": null,
            "min_width": null,
            "border": null,
            "align_items": null,
            "bottom": null,
            "_model_module": "@jupyter-widgets/base",
            "top": null,
            "grid_column": null,
            "overflow_y": null,
            "overflow_x": null,
            "grid_auto_flow": null,
            "grid_area": null,
            "grid_template_columns": null,
            "flex": null,
            "_model_name": "LayoutModel",
            "justify_items": null,
            "grid_row": null,
            "max_height": null,
            "align_content": null,
            "visibility": null,
            "align_self": null,
            "height": null,
            "min_height": null,
            "padding": null,
            "grid_auto_rows": null,
            "grid_gap": null,
            "max_width": null,
            "order": null,
            "_view_module_version": "1.2.0",
            "grid_template_areas": null,
            "object_position": null,
            "object_fit": null,
            "grid_auto_columns": null,
            "margin": null,
            "display": null,
            "left": null
          }
        },
        "2bd3a99a89fd431d95cceaa84d3bb586": {
          "model_module": "@jupyter-widgets/controls",
          "model_name": "ProgressStyleModel",
          "model_module_version": "1.5.0",
          "state": {
            "_view_name": "StyleView",
            "_model_name": "ProgressStyleModel",
            "description_width": "",
            "_view_module": "@jupyter-widgets/base",
            "_model_module_version": "1.5.0",
            "_view_count": null,
            "_view_module_version": "1.2.0",
            "bar_color": null,
            "_model_module": "@jupyter-widgets/controls"
          }
        },
        "8339de5ebcb9466db56d1c56bd528274": {
          "model_module": "@jupyter-widgets/base",
          "model_name": "LayoutModel",
          "model_module_version": "1.2.0",
          "state": {
            "_view_name": "LayoutView",
            "grid_template_rows": null,
            "right": null,
            "justify_content": null,
            "_view_module": "@jupyter-widgets/base",
            "overflow": null,
            "_model_module_version": "1.2.0",
            "_view_count": null,
            "flex_flow": null,
            "width": null,
            "min_width": null,
            "border": null,
            "align_items": null,
            "bottom": null,
            "_model_module": "@jupyter-widgets/base",
            "top": null,
            "grid_column": null,
            "overflow_y": null,
            "overflow_x": null,
            "grid_auto_flow": null,
            "grid_area": null,
            "grid_template_columns": null,
            "flex": null,
            "_model_name": "LayoutModel",
            "justify_items": null,
            "grid_row": null,
            "max_height": null,
            "align_content": null,
            "visibility": null,
            "align_self": null,
            "height": null,
            "min_height": null,
            "padding": null,
            "grid_auto_rows": null,
            "grid_gap": null,
            "max_width": null,
            "order": null,
            "_view_module_version": "1.2.0",
            "grid_template_areas": null,
            "object_position": null,
            "object_fit": null,
            "grid_auto_columns": null,
            "margin": null,
            "display": null,
            "left": null
          }
        },
        "790d8e9d8fe14087be4b76f66534e301": {
          "model_module": "@jupyter-widgets/controls",
          "model_name": "DescriptionStyleModel",
          "model_module_version": "1.5.0",
          "state": {
            "_view_name": "StyleView",
            "_model_name": "DescriptionStyleModel",
            "description_width": "",
            "_view_module": "@jupyter-widgets/base",
            "_model_module_version": "1.5.0",
            "_view_count": null,
            "_view_module_version": "1.2.0",
            "_model_module": "@jupyter-widgets/controls"
          }
        },
        "e2b4b9e0df1240d0a8d13682d4ba46cf": {
          "model_module": "@jupyter-widgets/base",
          "model_name": "LayoutModel",
          "model_module_version": "1.2.0",
          "state": {
            "_view_name": "LayoutView",
            "grid_template_rows": null,
            "right": null,
            "justify_content": null,
            "_view_module": "@jupyter-widgets/base",
            "overflow": null,
            "_model_module_version": "1.2.0",
            "_view_count": null,
            "flex_flow": null,
            "width": null,
            "min_width": null,
            "border": null,
            "align_items": null,
            "bottom": null,
            "_model_module": "@jupyter-widgets/base",
            "top": null,
            "grid_column": null,
            "overflow_y": null,
            "overflow_x": null,
            "grid_auto_flow": null,
            "grid_area": null,
            "grid_template_columns": null,
            "flex": null,
            "_model_name": "LayoutModel",
            "justify_items": null,
            "grid_row": null,
            "max_height": null,
            "align_content": null,
            "visibility": null,
            "align_self": null,
            "height": null,
            "min_height": null,
            "padding": null,
            "grid_auto_rows": null,
            "grid_gap": null,
            "max_width": null,
            "order": null,
            "_view_module_version": "1.2.0",
            "grid_template_areas": null,
            "object_position": null,
            "object_fit": null,
            "grid_auto_columns": null,
            "margin": null,
            "display": null,
            "left": null
          }
        },
        "f9310fd1c73e4ac1822fec886a481e49": {
          "model_module": "@jupyter-widgets/controls",
          "model_name": "HBoxModel",
          "model_module_version": "1.5.0",
          "state": {
            "_view_name": "HBoxView",
            "_dom_classes": [],
            "_model_name": "HBoxModel",
            "_view_module": "@jupyter-widgets/controls",
            "_model_module_version": "1.5.0",
            "_view_count": null,
            "_view_module_version": "1.5.0",
            "box_style": "",
            "layout": "IPY_MODEL_f0e3fbe582354ab6b72ce77ddf081022",
            "_model_module": "@jupyter-widgets/controls",
            "children": [
              "IPY_MODEL_3ddc5d7ad8a04bef83c8b9506bc79d73",
              "IPY_MODEL_8c77a63b313242b3960dc65fd0afe1d6",
              "IPY_MODEL_42712a5ca16344269fd90f6f53fb695b"
            ]
          }
        },
        "f0e3fbe582354ab6b72ce77ddf081022": {
          "model_module": "@jupyter-widgets/base",
          "model_name": "LayoutModel",
          "model_module_version": "1.2.0",
          "state": {
            "_view_name": "LayoutView",
            "grid_template_rows": null,
            "right": null,
            "justify_content": null,
            "_view_module": "@jupyter-widgets/base",
            "overflow": null,
            "_model_module_version": "1.2.0",
            "_view_count": null,
            "flex_flow": null,
            "width": null,
            "min_width": null,
            "border": null,
            "align_items": null,
            "bottom": null,
            "_model_module": "@jupyter-widgets/base",
            "top": null,
            "grid_column": null,
            "overflow_y": null,
            "overflow_x": null,
            "grid_auto_flow": null,
            "grid_area": null,
            "grid_template_columns": null,
            "flex": null,
            "_model_name": "LayoutModel",
            "justify_items": null,
            "grid_row": null,
            "max_height": null,
            "align_content": null,
            "visibility": null,
            "align_self": null,
            "height": null,
            "min_height": null,
            "padding": null,
            "grid_auto_rows": null,
            "grid_gap": null,
            "max_width": null,
            "order": null,
            "_view_module_version": "1.2.0",
            "grid_template_areas": null,
            "object_position": null,
            "object_fit": null,
            "grid_auto_columns": null,
            "margin": null,
            "display": null,
            "left": null
          }
        },
        "3ddc5d7ad8a04bef83c8b9506bc79d73": {
          "model_module": "@jupyter-widgets/controls",
          "model_name": "HTMLModel",
          "model_module_version": "1.5.0",
          "state": {
            "_view_name": "HTMLView",
            "style": "IPY_MODEL_dd4cbea773a34b3aa45be48d5698fc17",
            "_dom_classes": [],
            "description": "",
            "_model_name": "HTMLModel",
            "placeholder": "​",
            "_view_module": "@jupyter-widgets/controls",
            "_model_module_version": "1.5.0",
            "value": "100%",
            "_view_count": null,
            "_view_module_version": "1.5.0",
            "description_tooltip": null,
            "_model_module": "@jupyter-widgets/controls",
            "layout": "IPY_MODEL_7e1599ab79414b5283d42c0f376b2074"
          }
        },
        "8c77a63b313242b3960dc65fd0afe1d6": {
          "model_module": "@jupyter-widgets/controls",
          "model_name": "FloatProgressModel",
          "model_module_version": "1.5.0",
          "state": {
            "_view_name": "ProgressView",
            "style": "IPY_MODEL_7e4bddcbfffb48d1b3de4f986868c7e1",
            "_dom_classes": [],
            "description": "",
            "_model_name": "FloatProgressModel",
            "bar_style": "success",
            "max": 5,
            "_view_module": "@jupyter-widgets/controls",
            "_model_module_version": "1.5.0",
            "value": 5,
            "_view_count": null,
            "_view_module_version": "1.5.0",
            "orientation": "horizontal",
            "min": 0,
            "description_tooltip": null,
            "_model_module": "@jupyter-widgets/controls",
            "layout": "IPY_MODEL_d705cfe846aa43ceb620d756cc95f0c5"
          }
        },
        "42712a5ca16344269fd90f6f53fb695b": {
          "model_module": "@jupyter-widgets/controls",
          "model_name": "HTMLModel",
          "model_module_version": "1.5.0",
          "state": {
            "_view_name": "HTMLView",
            "style": "IPY_MODEL_256c6b2ab6404a0c9451fee20157decc",
            "_dom_classes": [],
            "description": "",
            "_model_name": "HTMLModel",
            "placeholder": "​",
            "_view_module": "@jupyter-widgets/controls",
            "_model_module_version": "1.5.0",
            "value": " 5/5 [00:04&lt;00:00,  1.08it/s]",
            "_view_count": null,
            "_view_module_version": "1.5.0",
            "description_tooltip": null,
            "_model_module": "@jupyter-widgets/controls",
            "layout": "IPY_MODEL_277523f9892d48c3ae56a2ad10f0a40e"
          }
        },
        "dd4cbea773a34b3aa45be48d5698fc17": {
          "model_module": "@jupyter-widgets/controls",
          "model_name": "DescriptionStyleModel",
          "model_module_version": "1.5.0",
          "state": {
            "_view_name": "StyleView",
            "_model_name": "DescriptionStyleModel",
            "description_width": "",
            "_view_module": "@jupyter-widgets/base",
            "_model_module_version": "1.5.0",
            "_view_count": null,
            "_view_module_version": "1.2.0",
            "_model_module": "@jupyter-widgets/controls"
          }
        },
        "7e1599ab79414b5283d42c0f376b2074": {
          "model_module": "@jupyter-widgets/base",
          "model_name": "LayoutModel",
          "model_module_version": "1.2.0",
          "state": {
            "_view_name": "LayoutView",
            "grid_template_rows": null,
            "right": null,
            "justify_content": null,
            "_view_module": "@jupyter-widgets/base",
            "overflow": null,
            "_model_module_version": "1.2.0",
            "_view_count": null,
            "flex_flow": null,
            "width": null,
            "min_width": null,
            "border": null,
            "align_items": null,
            "bottom": null,
            "_model_module": "@jupyter-widgets/base",
            "top": null,
            "grid_column": null,
            "overflow_y": null,
            "overflow_x": null,
            "grid_auto_flow": null,
            "grid_area": null,
            "grid_template_columns": null,
            "flex": null,
            "_model_name": "LayoutModel",
            "justify_items": null,
            "grid_row": null,
            "max_height": null,
            "align_content": null,
            "visibility": null,
            "align_self": null,
            "height": null,
            "min_height": null,
            "padding": null,
            "grid_auto_rows": null,
            "grid_gap": null,
            "max_width": null,
            "order": null,
            "_view_module_version": "1.2.0",
            "grid_template_areas": null,
            "object_position": null,
            "object_fit": null,
            "grid_auto_columns": null,
            "margin": null,
            "display": null,
            "left": null
          }
        },
        "7e4bddcbfffb48d1b3de4f986868c7e1": {
          "model_module": "@jupyter-widgets/controls",
          "model_name": "ProgressStyleModel",
          "model_module_version": "1.5.0",
          "state": {
            "_view_name": "StyleView",
            "_model_name": "ProgressStyleModel",
            "description_width": "",
            "_view_module": "@jupyter-widgets/base",
            "_model_module_version": "1.5.0",
            "_view_count": null,
            "_view_module_version": "1.2.0",
            "bar_color": null,
            "_model_module": "@jupyter-widgets/controls"
          }
        },
        "d705cfe846aa43ceb620d756cc95f0c5": {
          "model_module": "@jupyter-widgets/base",
          "model_name": "LayoutModel",
          "model_module_version": "1.2.0",
          "state": {
            "_view_name": "LayoutView",
            "grid_template_rows": null,
            "right": null,
            "justify_content": null,
            "_view_module": "@jupyter-widgets/base",
            "overflow": null,
            "_model_module_version": "1.2.0",
            "_view_count": null,
            "flex_flow": null,
            "width": null,
            "min_width": null,
            "border": null,
            "align_items": null,
            "bottom": null,
            "_model_module": "@jupyter-widgets/base",
            "top": null,
            "grid_column": null,
            "overflow_y": null,
            "overflow_x": null,
            "grid_auto_flow": null,
            "grid_area": null,
            "grid_template_columns": null,
            "flex": null,
            "_model_name": "LayoutModel",
            "justify_items": null,
            "grid_row": null,
            "max_height": null,
            "align_content": null,
            "visibility": null,
            "align_self": null,
            "height": null,
            "min_height": null,
            "padding": null,
            "grid_auto_rows": null,
            "grid_gap": null,
            "max_width": null,
            "order": null,
            "_view_module_version": "1.2.0",
            "grid_template_areas": null,
            "object_position": null,
            "object_fit": null,
            "grid_auto_columns": null,
            "margin": null,
            "display": null,
            "left": null
          }
        },
        "256c6b2ab6404a0c9451fee20157decc": {
          "model_module": "@jupyter-widgets/controls",
          "model_name": "DescriptionStyleModel",
          "model_module_version": "1.5.0",
          "state": {
            "_view_name": "StyleView",
            "_model_name": "DescriptionStyleModel",
            "description_width": "",
            "_view_module": "@jupyter-widgets/base",
            "_model_module_version": "1.5.0",
            "_view_count": null,
            "_view_module_version": "1.2.0",
            "_model_module": "@jupyter-widgets/controls"
          }
        },
        "277523f9892d48c3ae56a2ad10f0a40e": {
          "model_module": "@jupyter-widgets/base",
          "model_name": "LayoutModel",
          "model_module_version": "1.2.0",
          "state": {
            "_view_name": "LayoutView",
            "grid_template_rows": null,
            "right": null,
            "justify_content": null,
            "_view_module": "@jupyter-widgets/base",
            "overflow": null,
            "_model_module_version": "1.2.0",
            "_view_count": null,
            "flex_flow": null,
            "width": null,
            "min_width": null,
            "border": null,
            "align_items": null,
            "bottom": null,
            "_model_module": "@jupyter-widgets/base",
            "top": null,
            "grid_column": null,
            "overflow_y": null,
            "overflow_x": null,
            "grid_auto_flow": null,
            "grid_area": null,
            "grid_template_columns": null,
            "flex": null,
            "_model_name": "LayoutModel",
            "justify_items": null,
            "grid_row": null,
            "max_height": null,
            "align_content": null,
            "visibility": null,
            "align_self": null,
            "height": null,
            "min_height": null,
            "padding": null,
            "grid_auto_rows": null,
            "grid_gap": null,
            "max_width": null,
            "order": null,
            "_view_module_version": "1.2.0",
            "grid_template_areas": null,
            "object_position": null,
            "object_fit": null,
            "grid_auto_columns": null,
            "margin": null,
            "display": null,
            "left": null
          }
        },
        "67fec3813f3142bd90b6bb212f0d466a": {
          "model_module": "@jupyter-widgets/controls",
          "model_name": "HBoxModel",
          "model_module_version": "1.5.0",
          "state": {
            "_view_name": "HBoxView",
            "_dom_classes": [],
            "_model_name": "HBoxModel",
            "_view_module": "@jupyter-widgets/controls",
            "_model_module_version": "1.5.0",
            "_view_count": null,
            "_view_module_version": "1.5.0",
            "box_style": "",
            "layout": "IPY_MODEL_61041e1076e749d59a8c46adcea468b3",
            "_model_module": "@jupyter-widgets/controls",
            "children": [
              "IPY_MODEL_6d179e940f4e42b38cf2d9dd70f8e647",
              "IPY_MODEL_9c2535a2af9748e88099f022ef652a5e",
              "IPY_MODEL_da92de0e3d4145a3a056585175f1592f"
            ]
          }
        },
        "61041e1076e749d59a8c46adcea468b3": {
          "model_module": "@jupyter-widgets/base",
          "model_name": "LayoutModel",
          "model_module_version": "1.2.0",
          "state": {
            "_view_name": "LayoutView",
            "grid_template_rows": null,
            "right": null,
            "justify_content": null,
            "_view_module": "@jupyter-widgets/base",
            "overflow": null,
            "_model_module_version": "1.2.0",
            "_view_count": null,
            "flex_flow": null,
            "width": null,
            "min_width": null,
            "border": null,
            "align_items": null,
            "bottom": null,
            "_model_module": "@jupyter-widgets/base",
            "top": null,
            "grid_column": null,
            "overflow_y": null,
            "overflow_x": null,
            "grid_auto_flow": null,
            "grid_area": null,
            "grid_template_columns": null,
            "flex": null,
            "_model_name": "LayoutModel",
            "justify_items": null,
            "grid_row": null,
            "max_height": null,
            "align_content": null,
            "visibility": null,
            "align_self": null,
            "height": null,
            "min_height": null,
            "padding": null,
            "grid_auto_rows": null,
            "grid_gap": null,
            "max_width": null,
            "order": null,
            "_view_module_version": "1.2.0",
            "grid_template_areas": null,
            "object_position": null,
            "object_fit": null,
            "grid_auto_columns": null,
            "margin": null,
            "display": null,
            "left": null
          }
        },
        "6d179e940f4e42b38cf2d9dd70f8e647": {
          "model_module": "@jupyter-widgets/controls",
          "model_name": "HTMLModel",
          "model_module_version": "1.5.0",
          "state": {
            "_view_name": "HTMLView",
            "style": "IPY_MODEL_e2adc75baa82474289794bf309bde4cb",
            "_dom_classes": [],
            "description": "",
            "_model_name": "HTMLModel",
            "placeholder": "​",
            "_view_module": "@jupyter-widgets/controls",
            "_model_module_version": "1.5.0",
            "value": "100%",
            "_view_count": null,
            "_view_module_version": "1.5.0",
            "description_tooltip": null,
            "_model_module": "@jupyter-widgets/controls",
            "layout": "IPY_MODEL_f6b35bcf6f0d45329ee8344cd64b290f"
          }
        },
        "9c2535a2af9748e88099f022ef652a5e": {
          "model_module": "@jupyter-widgets/controls",
          "model_name": "FloatProgressModel",
          "model_module_version": "1.5.0",
          "state": {
            "_view_name": "ProgressView",
            "style": "IPY_MODEL_711b2f70b6984d52b5664f7bb7a4ef8d",
            "_dom_classes": [],
            "description": "",
            "_model_name": "FloatProgressModel",
            "bar_style": "success",
            "max": 5,
            "_view_module": "@jupyter-widgets/controls",
            "_model_module_version": "1.5.0",
            "value": 5,
            "_view_count": null,
            "_view_module_version": "1.5.0",
            "orientation": "horizontal",
            "min": 0,
            "description_tooltip": null,
            "_model_module": "@jupyter-widgets/controls",
            "layout": "IPY_MODEL_57a9ea2de3224e778a8d4929f7e5d519"
          }
        },
        "da92de0e3d4145a3a056585175f1592f": {
          "model_module": "@jupyter-widgets/controls",
          "model_name": "HTMLModel",
          "model_module_version": "1.5.0",
          "state": {
            "_view_name": "HTMLView",
            "style": "IPY_MODEL_248850bb986d48edbc02eaf7793cab40",
            "_dom_classes": [],
            "description": "",
            "_model_name": "HTMLModel",
            "placeholder": "​",
            "_view_module": "@jupyter-widgets/controls",
            "_model_module_version": "1.5.0",
            "value": " 5/5 [00:20&lt;00:00,  4.24s/it]",
            "_view_count": null,
            "_view_module_version": "1.5.0",
            "description_tooltip": null,
            "_model_module": "@jupyter-widgets/controls",
            "layout": "IPY_MODEL_f09e690ea9d542fa8c81a21c97843b8d"
          }
        },
        "e2adc75baa82474289794bf309bde4cb": {
          "model_module": "@jupyter-widgets/controls",
          "model_name": "DescriptionStyleModel",
          "model_module_version": "1.5.0",
          "state": {
            "_view_name": "StyleView",
            "_model_name": "DescriptionStyleModel",
            "description_width": "",
            "_view_module": "@jupyter-widgets/base",
            "_model_module_version": "1.5.0",
            "_view_count": null,
            "_view_module_version": "1.2.0",
            "_model_module": "@jupyter-widgets/controls"
          }
        },
        "f6b35bcf6f0d45329ee8344cd64b290f": {
          "model_module": "@jupyter-widgets/base",
          "model_name": "LayoutModel",
          "model_module_version": "1.2.0",
          "state": {
            "_view_name": "LayoutView",
            "grid_template_rows": null,
            "right": null,
            "justify_content": null,
            "_view_module": "@jupyter-widgets/base",
            "overflow": null,
            "_model_module_version": "1.2.0",
            "_view_count": null,
            "flex_flow": null,
            "width": null,
            "min_width": null,
            "border": null,
            "align_items": null,
            "bottom": null,
            "_model_module": "@jupyter-widgets/base",
            "top": null,
            "grid_column": null,
            "overflow_y": null,
            "overflow_x": null,
            "grid_auto_flow": null,
            "grid_area": null,
            "grid_template_columns": null,
            "flex": null,
            "_model_name": "LayoutModel",
            "justify_items": null,
            "grid_row": null,
            "max_height": null,
            "align_content": null,
            "visibility": null,
            "align_self": null,
            "height": null,
            "min_height": null,
            "padding": null,
            "grid_auto_rows": null,
            "grid_gap": null,
            "max_width": null,
            "order": null,
            "_view_module_version": "1.2.0",
            "grid_template_areas": null,
            "object_position": null,
            "object_fit": null,
            "grid_auto_columns": null,
            "margin": null,
            "display": null,
            "left": null
          }
        },
        "711b2f70b6984d52b5664f7bb7a4ef8d": {
          "model_module": "@jupyter-widgets/controls",
          "model_name": "ProgressStyleModel",
          "model_module_version": "1.5.0",
          "state": {
            "_view_name": "StyleView",
            "_model_name": "ProgressStyleModel",
            "description_width": "",
            "_view_module": "@jupyter-widgets/base",
            "_model_module_version": "1.5.0",
            "_view_count": null,
            "_view_module_version": "1.2.0",
            "bar_color": null,
            "_model_module": "@jupyter-widgets/controls"
          }
        },
        "57a9ea2de3224e778a8d4929f7e5d519": {
          "model_module": "@jupyter-widgets/base",
          "model_name": "LayoutModel",
          "model_module_version": "1.2.0",
          "state": {
            "_view_name": "LayoutView",
            "grid_template_rows": null,
            "right": null,
            "justify_content": null,
            "_view_module": "@jupyter-widgets/base",
            "overflow": null,
            "_model_module_version": "1.2.0",
            "_view_count": null,
            "flex_flow": null,
            "width": null,
            "min_width": null,
            "border": null,
            "align_items": null,
            "bottom": null,
            "_model_module": "@jupyter-widgets/base",
            "top": null,
            "grid_column": null,
            "overflow_y": null,
            "overflow_x": null,
            "grid_auto_flow": null,
            "grid_area": null,
            "grid_template_columns": null,
            "flex": null,
            "_model_name": "LayoutModel",
            "justify_items": null,
            "grid_row": null,
            "max_height": null,
            "align_content": null,
            "visibility": null,
            "align_self": null,
            "height": null,
            "min_height": null,
            "padding": null,
            "grid_auto_rows": null,
            "grid_gap": null,
            "max_width": null,
            "order": null,
            "_view_module_version": "1.2.0",
            "grid_template_areas": null,
            "object_position": null,
            "object_fit": null,
            "grid_auto_columns": null,
            "margin": null,
            "display": null,
            "left": null
          }
        },
        "248850bb986d48edbc02eaf7793cab40": {
          "model_module": "@jupyter-widgets/controls",
          "model_name": "DescriptionStyleModel",
          "model_module_version": "1.5.0",
          "state": {
            "_view_name": "StyleView",
            "_model_name": "DescriptionStyleModel",
            "description_width": "",
            "_view_module": "@jupyter-widgets/base",
            "_model_module_version": "1.5.0",
            "_view_count": null,
            "_view_module_version": "1.2.0",
            "_model_module": "@jupyter-widgets/controls"
          }
        },
        "f09e690ea9d542fa8c81a21c97843b8d": {
          "model_module": "@jupyter-widgets/base",
          "model_name": "LayoutModel",
          "model_module_version": "1.2.0",
          "state": {
            "_view_name": "LayoutView",
            "grid_template_rows": null,
            "right": null,
            "justify_content": null,
            "_view_module": "@jupyter-widgets/base",
            "overflow": null,
            "_model_module_version": "1.2.0",
            "_view_count": null,
            "flex_flow": null,
            "width": null,
            "min_width": null,
            "border": null,
            "align_items": null,
            "bottom": null,
            "_model_module": "@jupyter-widgets/base",
            "top": null,
            "grid_column": null,
            "overflow_y": null,
            "overflow_x": null,
            "grid_auto_flow": null,
            "grid_area": null,
            "grid_template_columns": null,
            "flex": null,
            "_model_name": "LayoutModel",
            "justify_items": null,
            "grid_row": null,
            "max_height": null,
            "align_content": null,
            "visibility": null,
            "align_self": null,
            "height": null,
            "min_height": null,
            "padding": null,
            "grid_auto_rows": null,
            "grid_gap": null,
            "max_width": null,
            "order": null,
            "_view_module_version": "1.2.0",
            "grid_template_areas": null,
            "object_position": null,
            "object_fit": null,
            "grid_auto_columns": null,
            "margin": null,
            "display": null,
            "left": null
          }
        }
      }
    }
  },
  "cells": [
    {
      "cell_type": "markdown",
      "metadata": {
        "id": "view-in-github",
        "colab_type": "text"
      },
      "source": [
        "<a href=\"https://colab.research.google.com/github/liao961120/hctk/blob/main/docs_source/nb/ngrams_collocation.ipynb\" target=\"_parent\"><img src=\"https://colab.research.google.com/assets/colab-badge.svg\" alt=\"Open In Colab\"/></a>"
      ]
    },
    {
      "cell_type": "code",
      "metadata": {
        "id": "5P99extNBogu",
        "outputId": "7e81edf8-7cd7-40cf-9946-d64dfe8afe94",
        "colab": {
          "base_uri": "https://localhost:8080/"
        }
      },
      "source": [
        "!gdown https://github.com/liao961120/hctk/raw/main/test/data.zip\n",
        "!unzip -q data.zip\n",
        "!pip install -q https://github.com/liao961120/CompoTree/tarball/main\n",
        "!pip install -qU hctk"
      ],
      "execution_count": 1,
      "outputs": [
        {
          "output_type": "stream",
          "name": "stdout",
          "text": [
            "Downloading...\n",
            "From: https://github.com/liao961120/hctk/raw/main/test/data.zip\n",
            "To: /content/data.zip\n",
            "100% 12.3M/12.3M [00:00<00:00, 75.2MB/s]\n",
            "\u001b[K     | 1.7 MB 6.2 MB/s\n",
            "\u001b[?25h  Building wheel for CompoTree (setup.py) ... \u001b[?25l\u001b[?25hdone\n",
            "\u001b[K     |████████████████████████████████| 467 kB 9.0 MB/s \n",
            "\u001b[?25h  Installing build dependencies ... \u001b[?25l\u001b[?25hdone\n",
            "  Getting requirements to build wheel ... \u001b[?25l\u001b[?25hdone\n",
            "    Preparing wheel metadata ... \u001b[?25l\u001b[?25hdone\n",
            "\u001b[K     |████████████████████████████████| 256 kB 49.7 MB/s \n",
            "\u001b[K     |████████████████████████████████| 596 kB 42.9 MB/s \n",
            "\u001b[?25h  Building wheel for gdown (PEP 517) ... \u001b[?25l\u001b[?25hdone\n"
          ]
        }
      ]
    },
    {
      "cell_type": "code",
      "metadata": {
        "id": "uB5Op8IuBogw",
        "colab": {
          "base_uri": "https://localhost:8080/",
          "height": 115,
          "referenced_widgets": [
            "b6af5478a81d4c51bad30f65b60efe2b",
            "800aed0e98ba4ca0b72bfe4e157a9ce3",
            "bc3f128f1e4c4bb9ba9b613e07f5ee4e",
            "b9d1fc5f5ce14e73a8d7049a1acccbad",
            "51f9594fcb21421c81c53b97765c540c",
            "7dd9207fc83b44c4b6dba232cb2ae2a1",
            "15163b7dc9df4494a0d7f4e55c5c19f4",
            "2bd3a99a89fd431d95cceaa84d3bb586",
            "8339de5ebcb9466db56d1c56bd528274",
            "790d8e9d8fe14087be4b76f66534e301",
            "e2b4b9e0df1240d0a8d13682d4ba46cf",
            "f9310fd1c73e4ac1822fec886a481e49",
            "f0e3fbe582354ab6b72ce77ddf081022",
            "3ddc5d7ad8a04bef83c8b9506bc79d73",
            "8c77a63b313242b3960dc65fd0afe1d6",
            "42712a5ca16344269fd90f6f53fb695b",
            "dd4cbea773a34b3aa45be48d5698fc17",
            "7e1599ab79414b5283d42c0f376b2074",
            "7e4bddcbfffb48d1b3de4f986868c7e1",
            "d705cfe846aa43ceb620d756cc95f0c5",
            "256c6b2ab6404a0c9451fee20157decc",
            "277523f9892d48c3ae56a2ad10f0a40e"
          ]
        },
        "outputId": "3521c648-6790-4c5a-f3b7-714a36ed0c33"
      },
      "source": [
        "from hctk import PlainTextReader\n",
        "from hctk import Concordancer\n",
        "\n",
        "c = Concordancer(PlainTextReader(\"data/\").corpus)"
      ],
      "execution_count": 3,
      "outputs": [
        {
          "output_type": "stream",
          "name": "stdout",
          "text": [
            "Indexing corpus for text retrival...\n"
          ]
        },
        {
          "output_type": "display_data",
          "data": {
            "application/vnd.jupyter.widget-view+json": {
              "model_id": "b6af5478a81d4c51bad30f65b60efe2b",
              "version_minor": 0,
              "version_major": 2
            },
            "text/plain": [
              "  0%|          | 0/5 [00:00<?, ?it/s]"
            ]
          },
          "metadata": {}
        },
        {
          "output_type": "stream",
          "name": "stdout",
          "text": [
            "Indexing corpus for concordance search...\n"
          ]
        },
        {
          "output_type": "display_data",
          "data": {
            "application/vnd.jupyter.widget-view+json": {
              "model_id": "f9310fd1c73e4ac1822fec886a481e49",
              "version_minor": 0,
              "version_major": 2
            },
            "text/plain": [
              "  0%|          | 0/5 [00:00<?, ?it/s]"
            ]
          },
          "metadata": {}
        }
      ]
    },
    {
      "cell_type": "markdown",
      "metadata": {
        "id": "wl_bJGzyjgxT"
      },
      "source": [
        "## Ngram Frequency"
      ]
    },
    {
      "cell_type": "code",
      "metadata": {
        "colab": {
          "base_uri": "https://localhost:8080/"
        },
        "id": "6pgHbspSjfht",
        "outputId": "fc1949df-4dee-4eba-d637-3979c17bb832"
      },
      "source": [
        "c.freq_distr_ngrams(n=2, subcorp_idx=0).most_common(10)"
      ],
      "execution_count": 6,
      "outputs": [
        {
          "output_type": "execute_result",
          "data": {
            "text/plain": [
              "[('而不', 3913),\n",
              " ('天下', 3661),\n",
              " ('不可', 2985),\n",
              " ('之所', 2723),\n",
              " ('子曰', 2581),\n",
              " ('人之', 2317),\n",
              " ('以為', 2231),\n",
              " ('所以', 2023),\n",
              " ('不能', 1934),\n",
              " ('可以', 1667)]"
            ]
          },
          "metadata": {},
          "execution_count": 6
        }
      ]
    },
    {
      "cell_type": "code",
      "metadata": {
        "colab": {
          "base_uri": "https://localhost:8080/",
          "height": 236,
          "referenced_widgets": [
            "67fec3813f3142bd90b6bb212f0d466a",
            "61041e1076e749d59a8c46adcea468b3",
            "6d179e940f4e42b38cf2d9dd70f8e647",
            "9c2535a2af9748e88099f022ef652a5e",
            "da92de0e3d4145a3a056585175f1592f",
            "e2adc75baa82474289794bf309bde4cb",
            "f6b35bcf6f0d45329ee8344cd64b290f",
            "711b2f70b6984d52b5664f7bb7a4ef8d",
            "57a9ea2de3224e778a8d4929f7e5d519",
            "248850bb986d48edbc02eaf7793cab40",
            "f09e690ea9d542fa8c81a21c97843b8d"
          ]
        },
        "id": "FkSqSXXVj5_l",
        "outputId": "e447f6ea-7fa8-4348-d499-271e2d4cbf30"
      },
      "source": [
        "c.freq_distr_ngrams(n=3, subcorp_idx=0).most_common(10)"
      ],
      "execution_count": 7,
      "outputs": [
        {
          "output_type": "stream",
          "name": "stdout",
          "text": [
            "Counting 3-grams...\n"
          ]
        },
        {
          "output_type": "display_data",
          "data": {
            "application/vnd.jupyter.widget-view+json": {
              "model_id": "67fec3813f3142bd90b6bb212f0d466a",
              "version_minor": 0,
              "version_major": 2
            },
            "text/plain": [
              "  0%|          | 0/5 [00:00<?, ?it/s]"
            ]
          },
          "metadata": {}
        },
        {
          "output_type": "execute_result",
          "data": {
            "text/plain": [
              "[('天下之', 946),\n",
              " ('歧伯曰', 766),\n",
              " ('之所以', 605),\n",
              " ('不可以', 580),\n",
              " ('子對曰', 443),\n",
              " ('黃帝曰', 403),\n",
              " ('此之謂', 350),\n",
              " ('子墨子', 343),\n",
              " ('孔子曰', 302),\n",
              " ('不可不', 298)]"
            ]
          },
          "metadata": {},
          "execution_count": 7
        }
      ]
    },
    {
      "cell_type": "markdown",
      "metadata": {
        "id": "5S7uOv0mm29F"
      },
      "source": [
        "## Collocations\n",
        "\n",
        "### Bigram Association"
      ]
    },
    {
      "cell_type": "code",
      "metadata": {
        "colab": {
          "base_uri": "https://localhost:8080/"
        },
        "id": "jHwStOQlzCAl",
        "outputId": "4b84b68b-7293-4d94-8f7b-949b7bfe7127"
      },
      "source": [
        "bi_asso = c.bigram_associations(subcorp_idx=0, sort_by=\"DeltaP21\")\n",
        "[x for x in bi_asso if x[1].get('RawCount', 0) > 100][:10]"
      ],
      "execution_count": 8,
      "outputs": [
        {
          "output_type": "execute_result",
          "data": {
            "text/plain": [
              "[('歧伯',\n",
              "  {'DeltaP12': 0.515988379165576,\n",
              "   'DeltaP21': 0.9870480872578454,\n",
              "   'Dice': 0.6778754298815437,\n",
              "   'FisherExact': 0.0,\n",
              "   'Gsq': 12041.994806908666,\n",
              "   'MI': 9.41167469710956,\n",
              "   'RawCount': 887,\n",
              "   'Xsq': 603675.038957376}),\n",
              " ('柰何',\n",
              "  {'DeltaP12': 0.056661809249506735,\n",
              "   'DeltaP21': 0.9864357417273106,\n",
              "   'Dice': 0.10718562874251497,\n",
              "   'FisherExact': 0.0,\n",
              "   'Gsq': 2110.3645096843,\n",
              "   'MI': 8.535527535461881,\n",
              "   'RawCount': 179,\n",
              "   'Xsq': 66249.74702510444}),\n",
              " ('嗚呼',\n",
              "  {'DeltaP12': 0.5684168332436602,\n",
              "   'DeltaP21': 0.9699560936315373,\n",
              "   'Dice': 0.7168141592920354,\n",
              "   'FisherExact': 0.0,\n",
              "   'Gsq': 2772.224707107538,\n",
              "   'MI': 11.978137468386173,\n",
              "   'RawCount': 162,\n",
              "   'Xsq': 653497.5945430023}),\n",
              " ('奈何',\n",
              "  {'DeltaP12': 0.12217026433374524,\n",
              "   'DeltaP21': 0.9391230952265434,\n",
              "   'Dice': 0.21630708882039787,\n",
              "   'FisherExact': 0.0,\n",
              "   'Gsq': 4442.425062898784,\n",
              "   'MI': 8.464534583043465,\n",
              "   'RawCount': 386,\n",
              "   'Xsq': 135991.8936699005}),\n",
              " ('阼階',\n",
              "  {'DeltaP12': 0.2686904721001812,\n",
              "   'DeltaP21': 0.9259116045139213,\n",
              "   'Dice': 0.4165680473372781,\n",
              "   'FisherExact': 0.0,\n",
              "   'Gsq': 2592.5326250911617,\n",
              "   'MI': 10.711034780909241,\n",
              "   'RawCount': 176,\n",
              "   'Xsq': 294880.99301096663}),\n",
              " ('對曰',\n",
              "  {'DeltaP12': 0.07659539725557495,\n",
              "   'DeltaP21': 0.918674290777102,\n",
              "   'Dice': 0.14171974522292993,\n",
              "   'FisherExact': 0.0,\n",
              "   'Gsq': 11201.278149711608,\n",
              "   'MI': 5.896317856336788,\n",
              "   'RawCount': 1424,\n",
              "   'Xsq': 83404.4499375834}),\n",
              " ('晏子',\n",
              "  {'DeltaP12': 0.05296806107307085,\n",
              "   'DeltaP21': 0.8903371687720162,\n",
              "   'Dice': 0.10017815540633136,\n",
              "   'FisherExact': 0.0,\n",
              "   'Gsq': 6030.559352165265,\n",
              "   'MI': 6.27637704080371,\n",
              "   'RawCount': 731,\n",
              "   'Xsq': 55897.65212955982}),\n",
              " ('桓公',\n",
              "  {'DeltaP12': 0.16475240534715407,\n",
              "   'DeltaP21': 0.8872763958033842,\n",
              "   'Dice': 0.2781703235403496,\n",
              "   'FisherExact': 0.0,\n",
              "   'Gsq': 7875.958716855979,\n",
              "   'MI': 7.861617915576881,\n",
              "   'RawCount': 748,\n",
              "   'Xsq': 173266.92934122906}),\n",
              " ('鮑叔',\n",
              "  {'DeltaP12': 0.23231499758563387,\n",
              "   'DeltaP21': 0.7958298601489006,\n",
              "   'Dice': 0.3597122302158273,\n",
              "   'FisherExact': 0.0,\n",
              "   'Gsq': 1797.2400919520173,\n",
              "   'MI': 10.77651104024154,\n",
              "   'RawCount': 125,\n",
              "   'Xsq': 219140.40728099796}),\n",
              " ('社稷',\n",
              "  {'DeltaP12': 0.642779493603884,\n",
              "   'DeltaP21': 0.7687007482349815,\n",
              "   'Dice': 0.700228832951945,\n",
              "   'FisherExact': 0.0,\n",
              "   'Gsq': 4617.393760169551,\n",
              "   'MI': 10.902755325868764,\n",
              "   'RawCount': 306,\n",
              "   'Xsq': 585658.3016324444})]"
            ]
          },
          "metadata": {},
          "execution_count": 8
        }
      ]
    },
    {
      "cell_type": "markdown",
      "metadata": {
        "id": "aUiwyzUFzENR"
      },
      "source": [
        "### Node-Collocate Association"
      ]
    },
    {
      "cell_type": "code",
      "metadata": {
        "colab": {
          "base_uri": "https://localhost:8080/"
        },
        "id": "dFeUG-yKnMgo",
        "outputId": "349b88bd-2c95-4e27-b113-070d7dc84ce2"
      },
      "source": [
        "cql = \"\"\"\n",
        "\"孔\" \"子\"\n",
        "\"\"\"\n",
        "collo = c.collocates(cql, left=3, right=3, subcorp_idx=0, sort_by=\"Xsq\", alpha=0)\n",
        "collo[:5]"
      ],
      "execution_count": 9,
      "outputs": [
        {
          "output_type": "execute_result",
          "data": {
            "text/plain": [
              "[('曰',\n",
              "  {'DeltaP12': 0.5508984202190699,\n",
              "   'DeltaP21': 0.017436408382199422,\n",
              "   'Dice': 0.03412938870076635,\n",
              "   'FisherExact': 0.0,\n",
              "   'Gsq': 2486.7011528898893,\n",
              "   'MI': 5.5855958675486095,\n",
              "   'RawCount': 383,\n",
              "   'Xsq': 17849.561805227277}),\n",
              " ('愀',\n",
              "  {'DeltaP12': 0.008807342620906026,\n",
              "   'DeltaP21': 0.4996367483650986,\n",
              "   'Dice': 0.017316017316017316,\n",
              "   'FisherExact': 2.1855507492354285e-18,\n",
              "   'Gsq': 78.36068664097104,\n",
              "   'MI': 10.41398510902232,\n",
              "   'RawCount': 6,\n",
              "   'Xsq': 8177.080337219988}),\n",
              " ('孔',\n",
              "  {'DeltaP12': 0.06707828763041274,\n",
              "   'DeltaP21': 0.04976704015525816,\n",
              "   'Dice': 0.05753595997498437,\n",
              "   'FisherExact': 1.5730409497803884e-81,\n",
              "   'Gsq': 366.5766447587887,\n",
              "   'MI': 7.095196721665525,\n",
              "   'RawCount': 46,\n",
              "   'Xsq': 6203.299925288661}),\n",
              " ('矙',\n",
              "  {'DeltaP12': 0.002936857562408223,\n",
              "   'DeltaP21': 0.999634597729232,\n",
              "   'Dice': 0.005856515373352855,\n",
              "   'FisherExact': 1.341091030070595e-07,\n",
              "   'Gsq': 31.652163710326512,\n",
              "   'MI': 11.41398510902232,\n",
              "   'RawCount': 2,\n",
              "   'Xsq': 5455.356826047563}),\n",
              " ('問',\n",
              "  {'DeltaP12': 0.06938851232700384,\n",
              "   'DeltaP21': 0.022691599983249697,\n",
              "   'Dice': 0.03471971066907776,\n",
              "   'FisherExact': 1.0446010447528008e-68,\n",
              "   'Gsq': 307.47664398618406,\n",
              "   'MI': 5.973808047464968,\n",
              "   'RawCount': 48,\n",
              "   'Xsq': 2925.847560753262})]"
            ]
          },
          "metadata": {},
          "execution_count": 9
        }
      ]
    }
  ]
}