{
 "cells": [
  {
   "cell_type": "markdown",
   "metadata": {
    "colab": {
     "base_uri": "https://localhost:8080/",
     "height": 118
    },
    "id": "t4M8f6QnYlap",
    "outputId": "22a4ec93-8b99-4aae-fb2d-d4b8076e8454"
   },
   "source": [
    "[Run on Colab](https://colab.research.google.com/drive/1wyw6IkKrZYsP0HNA51-d8b9O64Z_k18L?usp=sharing)"
   ]
  },
  {
   "cell_type": "code",
   "execution_count": null,
   "metadata": {},
   "outputs": [],
   "source": [
    "from dcctk.corpusReader import PlainTextReader\n",
    "from dcctk.concordancer import Concordancer\n",
    "from dcctk.corpus import TextBasedCorpus\n",
    "\n",
    "c = Concordancer(PlainTextReader(\"data\").corpus)"
   ]
  },
  {
   "cell_type": "markdown",
   "metadata": {
    "id": "p7DkNJV7jP25"
   },
   "source": [
    "## 1 Concordance Search"
   ]
  },
  {
   "cell_type": "code",
   "execution_count": 6,
   "metadata": {
    "colab": {
     "base_uri": "https://localhost:8080/"
    },
    "id": "XGR0igAjaFU1",
    "outputId": "a6829ca1-6c54-4131-c2a9-6f4ba2c31242"
   },
   "outputs": [
    {
     "name": "stdout",
     "output_type": "stream",
     "text": [
      "Num of results: 3570\n",
      "<Concord 雨，不及地尺而復。」{君子者}、孔子。孔子修之曰：>\n",
      "<Concord 位，而反乎屠羊之肆。{君子聞}之曰：「甚矣哉！屠羊>\n",
      "<Concord 或遇以死，或遇以生，{君子避}之，是亦傷人，故吏者>\n",
      "<Concord 五伯有暴亂之謀。是故{君子不}責備于一人，方正而不>\n",
      "<Concord 禽何？學者，所以求為{君子也}。求而不得者有矣，夫>\n"
     ]
    }
   ],
   "source": [
    "cql = '''\n",
    "\"君\" \"子\" [ char!=\"[，。、《》「」『』！？：；]\" ]\n",
    "'''.strip()\n",
    "results = list(c.cql_search(cql, left=10, right=10))\n",
    "\n",
    "print('Num of results:', len(results))\n",
    "for r in results[:5]: print(r)"
   ]
  },
  {
   "cell_type": "markdown",
   "metadata": {
    "id": "gF-rpmoLkj0K"
   },
   "source": [
    "### 1.1 Concord Object"
   ]
  },
  {
   "cell_type": "code",
   "execution_count": 7,
   "metadata": {
    "colab": {
     "base_uri": "https://localhost:8080/"
    },
    "id": "vvirQYOYkqci",
    "outputId": "e69be048-cfff-4bab-a590-1c6ba5bd9c85"
   },
   "outputs": [
    {
     "data": {
      "text/plain": [
       "('雨，不及地尺而復。」君子者、孔子。孔子修之曰：', (10, 12))"
      ]
     },
     "execution_count": 7,
     "metadata": {},
     "output_type": "execute_result"
    }
   ],
   "source": [
    "results[0].get_kwic()"
   ]
  },
  {
   "cell_type": "code",
   "execution_count": 8,
   "metadata": {
    "colab": {
     "base_uri": "https://localhost:8080/"
    },
    "id": "3ddDnMOLjo6C",
    "outputId": "298a961b-aea3-4718-904a-fde0803db2db"
   },
   "outputs": [
    {
     "data": {
      "text/plain": [
       "1"
      ]
     },
     "execution_count": 8,
     "metadata": {},
     "output_type": "execute_result"
    }
   ],
   "source": [
    "results[0].get_timestep()"
   ]
  },
  {
   "cell_type": "code",
   "execution_count": 9,
   "metadata": {
    "colab": {
     "base_uri": "https://localhost:8080/"
    },
    "id": "T01QyoMQlCaQ",
    "outputId": "eb6d4b44-c59a-4bda-b606-b2bd81f45568"
   },
   "outputs": [
    {
     "data": {
      "text/plain": [
       "[-205, 220]"
      ]
     },
     "execution_count": 9,
     "metadata": {},
     "output_type": "execute_result"
    }
   ],
   "source": [
    "results[0].get_timestep(lambda x: x['time_range'])"
   ]
  },
  {
   "cell_type": "code",
   "execution_count": 10,
   "metadata": {
    "colab": {
     "base_uri": "https://localhost:8080/"
    },
    "id": "VTFkIVFijdPc",
    "outputId": "8b4f0345-74c1-4886-d0b8-9470d7207037"
   },
   "outputs": [
    {
     "data": {
      "text/plain": [
       "{'captureGroups': {},\n",
       " 'keyword': '君子者',\n",
       " 'left': '雨，不及地尺而復。」',\n",
       " 'meta': {'id': '02/論衡_說日.txt',\n",
       "  'text': {'author': 'Wang Chong', 'book': '論衡', 'sec': '說日'},\n",
       "  'time': {'label': '漢', 'ord': 2, 'time_range': [-205, 220]}},\n",
       " 'position': (1, 160, 27, 132),\n",
       " 'right': '、孔子。孔子修之曰：'}"
      ]
     },
     "execution_count": 10,
     "metadata": {},
     "output_type": "execute_result"
    }
   ],
   "source": [
    "results[0].data"
   ]
  },
  {
   "cell_type": "markdown",
   "metadata": {
    "id": "jYxTCZuLuKcM"
   },
   "source": [
    "## 2 Semantic Similarity with AnchiBert"
   ]
  },
  {
   "cell_type": "code",
   "execution_count": 11,
   "metadata": {
    "colab": {
     "base_uri": "https://localhost:8080/",
     "height": 250,
     "referenced_widgets": [
      "83b6032703db4ab4a3a6c28447de3298",
      "3418357041e547ea864e53242117e9e7",
      "241777479b8048ea8f01be42a4cb62d8",
      "c28d25b6e3744015baecb3b990cda5b0",
      "cf29688d2f9f422a83c4abb5ab76c050",
      "00c84f3c07b34239b0a1839986434a4d",
      "eb35dc963f6d4a2ca861191213eaa3dc",
      "e8fbf656d76745449edbc0755f122d18",
      "ed6cfaf1bb0a4902935d788385054b4f",
      "34c85a7ef60e4172b224aebb6f9a6455",
      "5561417958424345882440e7a100cc08"
     ]
    },
    "id": "dmasGs2iuMvy",
    "outputId": "79c96ee9-0544-4de9-e9d3-11eaeec00896"
   },
   "outputs": [
    {
     "name": "stdout",
     "output_type": "stream",
     "text": [
      "Downloading AnchiBert model ...\n"
     ]
    },
    {
     "name": "stderr",
     "output_type": "stream",
     "text": [
      "Downloading...\n",
      "From: https://drive.google.com/uc?id=1uMlNJzilEhSigIcfjTjPdYOZL9IQfHNK\n",
      "To: /content/AnchiBERT.zip\n",
      "100%|██████████| 382M/382M [00:02<00:00, 140MB/s]\n"
     ]
    },
    {
     "name": "stdout",
     "output_type": "stream",
     "text": [
      "Loading AnchiBERT model from AnchiBERT/ ...\n"
     ]
    },
    {
     "name": "stderr",
     "output_type": "stream",
     "text": [
      "Some weights of the model checkpoint at AnchiBERT/ were not used when initializing BertModel: ['cls.predictions.transform.dense.bias', 'cls.predictions.transform.LayerNorm.weight', 'cls.predictions.transform.LayerNorm.bias', 'cls.predictions.bias', 'cls.predictions.transform.dense.weight', 'cls.predictions.decoder.weight']\n",
      "- This IS expected if you are initializing BertModel from the checkpoint of a model trained on another task or with another architecture (e.g. initializing a BertForSequenceClassification model from a BertForPreTraining model).\n",
      "- This IS NOT expected if you are initializing BertModel from the checkpoint of a model that you expect to be exactly identical (initializing a BertForSequenceClassification model from a BertForSequenceClassification model).\n"
     ]
    },
    {
     "name": "stdout",
     "output_type": "stream",
     "text": [
      "Computing bert embeddings...\n"
     ]
    },
    {
     "data": {
      "application/vnd.jupyter.widget-view+json": {
       "model_id": "83b6032703db4ab4a3a6c28447de3298",
       "version_major": 2,
       "version_minor": 0
      },
      "text/plain": [
       "  0%|          | 0/500 [00:00<?, ?it/s]"
      ]
     },
     "metadata": {},
     "output_type": "display_data"
    }
   ],
   "source": [
    "from random import sample, seed\n",
    "from dcctk.embeddings import AnchiBert\n",
    "from dcctk.concordSimil import ConcordSimil\n",
    "\n",
    "# Jupyter settings for interactive visualizations\n",
    "from bokeh.io import output_notebook\n",
    "from bokeh.resources import INLINE\n",
    "output_notebook(resources=INLINE)\n",
    "\n",
    "\n",
    "# Initialize bert model\n",
    "emb = AnchiBert()\n",
    "\n",
    "# Sample 500 concordance lines of \"君子\"\n",
    "seed(100)\n",
    "results_samp = sample(results, 500)\n",
    "cs = ConcordSimil(concord_lines=results_samp, bert_model=emb)"
   ]
  },
  {
   "cell_type": "markdown",
   "metadata": {
    "id": "gTL_dalwhwTH"
   },
   "source": [
    "### 2.1 Sorting Concordance Lines based on Bert similarity"
   ]
  },
  {
   "cell_type": "code",
   "execution_count": 12,
   "metadata": {
    "colab": {
     "base_uri": "https://localhost:8080/",
     "height": 249,
     "referenced_widgets": [
      "22e4f7a760ea450fa501abf58d514ad0",
      "155c919aeb60444fab001c6705695511",
      "09bd48e52b8a487188444141f733533f",
      "14f264fffd9b43dfa0f1a317b44577b2",
      "2f8b945777dd49838a6d1201b18dde31",
      "277f1bfe8e46436184d71ddbc932f22d",
      "2ad964662b434861b9725e3628885a1a",
      "5241f9361a0045f981fa04c9e6e3384e",
      "bd3358902f964c32b58abec4cb957f87",
      "1e045967144a4a2fa110ed2a78793aed",
      "a5adc1d1a3c24aabbe568c7c4a5cb3d5"
     ]
    },
    "id": "zGN18JPXiV8e",
    "outputId": "fe99c2bf-ea78-4403-d479-1c58dd1d07d7"
   },
   "outputs": [
    {
     "name": "stdout",
     "output_type": "stream",
     "text": [
      "('絕之？懷惡而討不義，君子不予也。楚公子棄疾帥師', (10, 12))\n"
     ]
    },
    {
     "data": {
      "application/vnd.jupyter.widget-view+json": {
       "model_id": "22e4f7a760ea450fa501abf58d514ad0",
       "version_major": 2,
       "version_minor": 0
      },
      "text/plain": [
       "  0%|          | 0/500 [00:00<?, ?it/s]"
      ]
     },
     "metadata": {},
     "output_type": "display_data"
    },
    {
     "data": {
      "text/plain": [
       "[(<Concord 絕之？懷惡而討不義，{君子不}予也。楚公子棄疾帥師>, 1.0000000249452985),\n",
       " (<Concord 直而俓，儉而好𠋤者，{君子不}與也。夸而無恥，彊而>, 0.9443227685052723),\n",
       " (<Concord ，拂乎正，沈而樂者，{君子不}聽也。」或問：「侍君>, 0.942362932104167),\n",
       " (<Concord 庸行翳路，沖沖而活，{君子不}貴也。」楚兩龔之絜，>, 0.9412178065511391),\n",
       " (<Concord ，『其身親為不善者，{君子不}入也』。今佛肸親以中>, 0.9233915517589399),\n",
       " (<Concord 皆在於凶德，雖得之，{君子不}貴也。君子則不然，言>, 0.9127920194460578),\n",
       " (<Concord 。不合乎先王之法者，{君子不}法也。」觀書者譬諸觀>, 0.9127349625150739),\n",
       " (<Concord 巧。邪生於多慾。是以{君子不}尚也。禮。與其奢也寧>, 0.9035240450850379),\n",
       " (<Concord 中道別去。爵級不進，{君子不}興。既濟：六雁俱飛，>, 0.8991585156332778),\n",
       " (<Concord 百姓也。故無功之師，{君子不}行；無用之地，聖王不>, 0.8982093864739673)]"
      ]
     },
     "execution_count": 12,
     "metadata": {},
     "output_type": "execute_result"
    }
   ],
   "source": [
    "compare_base = results_samp[20].get_kwic()\n",
    "print(compare_base)\n",
    "cs.semantic_sort(*compare_base, is_traditional=True)[:10]"
   ]
  },
  {
   "cell_type": "markdown",
   "metadata": {
    "id": "yV5CIAZJ48k-"
   },
   "source": [
    "### 2.2 Visualizing Bert embeddings"
   ]
  },
  {
   "cell_type": "code",
   "execution_count": 35,
   "metadata": {
    "colab": {
     "base_uri": "https://localhost:8080/",
     "height": 635
    },
    "id": "dCPQhaZRlA8v",
    "outputId": "67ee90a2-5778-4421-ffe1-24832f4f56d2"
   },
   "outputs": [
    {
     "data": {
      "image/png": "[encoded data removed]",
      "text/plain": [
       "<Figure size 800x800 with 1 Axes>"
      ]
     },
     "metadata": {},
     "output_type": "display_data"
    }
   ],
   "source": [
    "cs.plot_embeddings(labels=\"m.time.label\", interactive=False, background='0.35')"
   ]
  },
  {
   "cell_type": "markdown",
   "metadata": {
    "id": "85FslQ0wtTHU"
   },
   "source": [
    "### 2.3 Hierarchical Clustering of Instances"
   ]
  },
  {
   "cell_type": "markdown",
   "metadata": {
    "id": "4wugLOVHgWf2"
   },
   "source": [
    "#### 2.3.1 Exploring Optimal Number of Clusters"
   ]
  },
  {
   "cell_type": "code",
   "execution_count": 15,
   "metadata": {
    "colab": {
     "base_uri": "https://localhost:8080/",
     "height": 866
    },
    "id": "wC1acI33tbCX",
    "outputId": "a4978521-d2b7-4fd1-e815-80c465c5090c"
   },
   "outputs": [
    {
     "data": {
      "image/png": "[encoded data removed]",
      "text/plain": [
       "<Figure size 1656x504 with 1 Axes>"
      ]
     },
     "metadata": {
      "needs_background": "light"
     },
     "output_type": "display_data"
    },
    {
     "data": {
      "image/png": "[encoded data removed]",
      "text/plain": [
       "<Figure size 1656x504 with 3 Axes>"
      ]
     },
     "metadata": {},
     "output_type": "display_data"
    }
   ],
   "source": [
    "cs.hierarchical_clustering_explore(method='average', metric='cosine', standardize_features=True)"
   ]
  },
  {
   "cell_type": "markdown",
   "metadata": {
    "id": "cYYkKs7ZgfHe"
   },
   "source": [
    "#### 2.3.2 Hierarchical Clustering with average linkage and cosine distance\n"
   ]
  },
  {
   "cell_type": "code",
   "execution_count": 16,
   "metadata": {
    "colab": {
     "base_uri": "https://localhost:8080/",
     "height": 597
    },
    "id": "O4tPgHPWuppg",
    "outputId": "0bde2388-8691-406a-9b7a-c7a138dd94a4"
   },
   "outputs": [
    {
     "data": {
      "text/html": [
       "<div>\n",
       "<style scoped>\n",
       "    .dataframe tbody tr th:only-of-type {\n",
       "        vertical-align: middle;\n",
       "    }\n",
       "\n",
       "    .dataframe tbody tr th {\n",
       "        vertical-align: top;\n",
       "    }\n",
       "\n",
       "    .dataframe thead th {\n",
       "        text-align: right;\n",
       "    }\n",
       "</style>\n",
       "<table border=\"1\" class=\"dataframe\">\n",
       "  <thead>\n",
       "    <tr style=\"text-align: right;\">\n",
       "      <th></th>\n",
       "      <th>left</th>\n",
       "      <th>keyword</th>\n",
       "      <th>right</th>\n",
       "      <th>timestep</th>\n",
       "      <th>m.id</th>\n",
       "      <th>m.time.time_range</th>\n",
       "      <th>m.time.label</th>\n",
       "      <th>m.time.ord</th>\n",
       "      <th>m.text.book</th>\n",
       "      <th>m.text.sec</th>\n",
       "      <th>emb_id</th>\n",
       "      <th>m.text.author</th>\n",
       "      <th>cluster</th>\n",
       "    </tr>\n",
       "  </thead>\n",
       "  <tbody>\n",
       "    <tr>\n",
       "      <th>0</th>\n",
       "      <td>能為表者，未之聞也。</td>\n",
       "      <td>君子時</td>\n",
       "      <td>則進，得之以義，何幸</td>\n",
       "      <td>1</td>\n",
       "      <td>02/淮南子_繆稱訓.txt</td>\n",
       "      <td>-205, 220</td>\n",
       "      <td>漢</td>\n",
       "      <td>2</td>\n",
       "      <td>淮南子</td>\n",
       "      <td>繆稱訓</td>\n",
       "      <td>0</td>\n",
       "      <td>NaN</td>\n",
       "      <td>7</td>\n",
       "    </tr>\n",
       "    <tr>\n",
       "      <th>1</th>\n",
       "      <td>行也。山下有雷，頤；</td>\n",
       "      <td>君子以</td>\n",
       "      <td>慎言語，節飲食。觀我</td>\n",
       "      <td>0</td>\n",
       "      <td>01/周易_象傳.txt</td>\n",
       "      <td>-1000, -206</td>\n",
       "      <td>先秦</td>\n",
       "      <td>1</td>\n",
       "      <td>周易</td>\n",
       "      <td>象傳</td>\n",
       "      <td>1</td>\n",
       "      <td>NaN</td>\n",
       "      <td>12</td>\n",
       "    </tr>\n",
       "    <tr>\n",
       "      <th>2</th>\n",
       "      <td>冬至絕事。冬至前後，</td>\n",
       "      <td>君子安</td>\n",
       "      <td>身靜體，百官絕事，不</td>\n",
       "      <td>2</td>\n",
       "      <td>03/後漢書_志.txt</td>\n",
       "      <td>221, 589</td>\n",
       "      <td>魏晉南北</td>\n",
       "      <td>3</td>\n",
       "      <td>後漢書</td>\n",
       "      <td>志</td>\n",
       "      <td>2</td>\n",
       "      <td>NaN</td>\n",
       "      <td>19</td>\n",
       "    </tr>\n",
       "    <tr>\n",
       "      <th>3</th>\n",
       "      <td>德潤身，心廣體胖，故</td>\n",
       "      <td>君子必</td>\n",
       "      <td>誠其意。《詩》云：「</td>\n",
       "      <td>0</td>\n",
       "      <td>01/禮記_大學.txt</td>\n",
       "      <td>-1000, -206</td>\n",
       "      <td>先秦</td>\n",
       "      <td>1</td>\n",
       "      <td>禮記</td>\n",
       "      <td>大學</td>\n",
       "      <td>3</td>\n",
       "      <td>NaN</td>\n",
       "      <td>8</td>\n",
       "    </tr>\n",
       "    <tr>\n",
       "      <th>4</th>\n",
       "      <td>鑿也，不其然乎？是以</td>\n",
       "      <td>君子之</td>\n",
       "      <td>為論也，必原事類之宜</td>\n",
       "      <td>1</td>\n",
       "      <td>02/中論_夭壽.txt</td>\n",
       "      <td>-205, 220</td>\n",
       "      <td>漢</td>\n",
       "      <td>2</td>\n",
       "      <td>中論</td>\n",
       "      <td>夭壽</td>\n",
       "      <td>4</td>\n",
       "      <td>Xu Gan</td>\n",
       "      <td>1</td>\n",
       "    </tr>\n",
       "    <tr>\n",
       "      <th>...</th>\n",
       "      <td>...</td>\n",
       "      <td>...</td>\n",
       "      <td>...</td>\n",
       "      <td>...</td>\n",
       "      <td>...</td>\n",
       "      <td>...</td>\n",
       "      <td>...</td>\n",
       "      <td>...</td>\n",
       "      <td>...</td>\n",
       "      <td>...</td>\n",
       "      <td>...</td>\n",
       "      <td>...</td>\n",
       "      <td>...</td>\n",
       "    </tr>\n",
       "    <tr>\n",
       "      <th>495</th>\n",
       "      <td>從外來，驕其妻妾。由</td>\n",
       "      <td>君子觀</td>\n",
       "      <td>之，則人之所以求富貴</td>\n",
       "      <td>0</td>\n",
       "      <td>01/孟子_離婁下.txt</td>\n",
       "      <td>-1000, -206</td>\n",
       "      <td>先秦</td>\n",
       "      <td>1</td>\n",
       "      <td>孟子</td>\n",
       "      <td>離婁下</td>\n",
       "      <td>495</td>\n",
       "      <td>NaN</td>\n",
       "      <td>13</td>\n",
       "    </tr>\n",
       "    <tr>\n",
       "      <th>496</th>\n",
       "      <td>者靈以化。於戲允哉！</td>\n",
       "      <td>君子辟</td>\n",
       "      <td>神也，觀彼威儀，遊燕</td>\n",
       "      <td>1</td>\n",
       "      <td>02/說苑_辨物.txt</td>\n",
       "      <td>-205, 220</td>\n",
       "      <td>漢</td>\n",
       "      <td>2</td>\n",
       "      <td>說苑</td>\n",
       "      <td>辨物</td>\n",
       "      <td>496</td>\n",
       "      <td>Liu Xiang</td>\n",
       "      <td>11</td>\n",
       "    </tr>\n",
       "    <tr>\n",
       "      <th>497</th>\n",
       "      <td>婦；君之父母、従母；</td>\n",
       "      <td>君子子</td>\n",
       "      <td>為庶母慈己者。緦麻，</td>\n",
       "      <td>0</td>\n",
       "      <td>01/儀禮_喪服.txt</td>\n",
       "      <td>-1000, -206</td>\n",
       "      <td>先秦</td>\n",
       "      <td>1</td>\n",
       "      <td>儀禮</td>\n",
       "      <td>喪服</td>\n",
       "      <td>497</td>\n",
       "      <td>NaN</td>\n",
       "      <td>11</td>\n",
       "    </tr>\n",
       "    <tr>\n",
       "      <th>498</th>\n",
       "      <td>子論其材曰：『有土之</td>\n",
       "      <td>君子也</td>\n",
       "      <td>，有眾使也，有刑用也</td>\n",
       "      <td>1</td>\n",
       "      <td>02/孔子家語_弟子行.txt</td>\n",
       "      <td>-205, 220</td>\n",
       "      <td>漢</td>\n",
       "      <td>2</td>\n",
       "      <td>孔子家語</td>\n",
       "      <td>弟子行</td>\n",
       "      <td>498</td>\n",
       "      <td>NaN</td>\n",
       "      <td>4</td>\n",
       "    </tr>\n",
       "    <tr>\n",
       "      <th>499</th>\n",
       "      <td>詩》云：「窈窕淑女，</td>\n",
       "      <td>君子好</td>\n",
       "      <td>逑。」言賢女能為君子</td>\n",
       "      <td>1</td>\n",
       "      <td>02/列女傳_母儀.txt</td>\n",
       "      <td>-205, 220</td>\n",
       "      <td>漢</td>\n",
       "      <td>2</td>\n",
       "      <td>列女傳</td>\n",
       "      <td>母儀</td>\n",
       "      <td>499</td>\n",
       "      <td>Liu Xiang</td>\n",
       "      <td>19</td>\n",
       "    </tr>\n",
       "  </tbody>\n",
       "</table>\n",
       "<p>500 rows × 13 columns</p>\n",
       "</div>"
      ],
      "text/plain": [
       "           left keyword       right  ...  emb_id m.text.author cluster\n",
       "0    能為表者，未之聞也。     君子時  則進，得之以義，何幸  ...       0           NaN       7\n",
       "1    行也。山下有雷，頤；     君子以  慎言語，節飲食。觀我  ...       1           NaN      12\n",
       "2    冬至絕事。冬至前後，     君子安  身靜體，百官絕事，不  ...       2           NaN      19\n",
       "3    德潤身，心廣體胖，故     君子必  誠其意。《詩》云：「  ...       3           NaN       8\n",
       "4    鑿也，不其然乎？是以     君子之  為論也，必原事類之宜  ...       4        Xu Gan       1\n",
       "..          ...     ...         ...  ...     ...           ...     ...\n",
       "495  從外來，驕其妻妾。由     君子觀  之，則人之所以求富貴  ...     495           NaN      13\n",
       "496  者靈以化。於戲允哉！     君子辟  神也，觀彼威儀，遊燕  ...     496     Liu Xiang      11\n",
       "497  婦；君之父母、従母；     君子子  為庶母慈己者。緦麻，  ...     497           NaN      11\n",
       "498  子論其材曰：『有土之     君子也  ，有眾使也，有刑用也  ...     498           NaN       4\n",
       "499  詩》云：「窈窕淑女，     君子好  逑。」言賢女能為君子  ...     499     Liu Xiang      19\n",
       "\n",
       "[500 rows x 13 columns]"
      ]
     },
     "execution_count": 16,
     "metadata": {},
     "output_type": "execute_result"
    }
   ],
   "source": [
    "# cs.hierarchical_clustering(threshold=.8, criterion='distance', visualize=False)\n",
    "df = cs.hierarchical_clustering(threshold=19, criterion='maxclust', visualize=False)\n",
    "df"
   ]
  },
  {
   "cell_type": "code",
   "execution_count": 19,
   "metadata": {
    "colab": {
     "base_uri": "https://localhost:8080/",
     "height": 635
    },
    "id": "5l-TetpF--gt",
    "outputId": "fdbc07ad-43d7-41a5-8a25-4ee071c87ebb"
   },
   "outputs": [
    {
     "data": {
      "image/png": "[encoded data removed]",
      "text/plain": [
       "<Figure size 800x800 with 1 Axes>"
      ]
     },
     "metadata": {},
     "output_type": "display_data"
    }
   ],
   "source": [
    "cs.plot_cluster_results(interactive=False, background='0.35')"
   ]
  },
  {
   "cell_type": "code",
   "execution_count": 20,
   "metadata": {
    "colab": {
     "base_uri": "https://localhost:8080/",
     "height": 409
    },
    "id": "GSRJWwNndX2x",
    "outputId": "5f990cf2-2fbb-4544-edcb-aecea831feeb"
   },
   "outputs": [
    {
     "name": "stdout",
     "output_type": "stream",
     "text": [
      "num of results: 7\n"
     ]
    },
    {
     "data": {
      "text/html": [
       "<div>\n",
       "<style scoped>\n",
       "    .dataframe tbody tr th:only-of-type {\n",
       "        vertical-align: middle;\n",
       "    }\n",
       "\n",
       "    .dataframe tbody tr th {\n",
       "        vertical-align: top;\n",
       "    }\n",
       "\n",
       "    .dataframe thead th {\n",
       "        text-align: right;\n",
       "    }\n",
       "</style>\n",
       "<table border=\"1\" class=\"dataframe\">\n",
       "  <thead>\n",
       "    <tr style=\"text-align: right;\">\n",
       "      <th></th>\n",
       "      <th>left</th>\n",
       "      <th>keyword</th>\n",
       "      <th>right</th>\n",
       "      <th>timestep</th>\n",
       "      <th>m.id</th>\n",
       "      <th>m.time.time_range</th>\n",
       "      <th>m.time.label</th>\n",
       "      <th>m.time.ord</th>\n",
       "      <th>m.text.book</th>\n",
       "      <th>m.text.sec</th>\n",
       "      <th>emb_id</th>\n",
       "      <th>m.text.author</th>\n",
       "      <th>cluster</th>\n",
       "    </tr>\n",
       "  </thead>\n",
       "  <tbody>\n",
       "    <tr>\n",
       "      <th>122</th>\n",
       "      <td>死夫。裴回兩渠間兮，</td>\n",
       "      <td>君子獨</td>\n",
       "      <td>安居！」坐者皆泣。有</td>\n",
       "      <td>1</td>\n",
       "      <td>02/漢書_傳.txt</td>\n",
       "      <td>-205, 220</td>\n",
       "      <td>漢</td>\n",
       "      <td>2</td>\n",
       "      <td>漢書</td>\n",
       "      <td>傳</td>\n",
       "      <td>122</td>\n",
       "      <td>NaN</td>\n",
       "      <td>9</td>\n",
       "    </tr>\n",
       "    <tr>\n",
       "      <th>136</th>\n",
       "      <td>，人道福正而禍邪。故</td>\n",
       "      <td>君子內</td>\n",
       "      <td>正而外馴，每以下人。</td>\n",
       "      <td>1</td>\n",
       "      <td>02/太玄經_太玄瑩.txt</td>\n",
       "      <td>-205, 220</td>\n",
       "      <td>漢</td>\n",
       "      <td>2</td>\n",
       "      <td>太玄經</td>\n",
       "      <td>太玄瑩</td>\n",
       "      <td>136</td>\n",
       "      <td>Yang Xiong</td>\n",
       "      <td>9</td>\n",
       "    </tr>\n",
       "    <tr>\n",
       "      <th>264</th>\n",
       "      <td>有喜色。門人曰：「聞</td>\n",
       "      <td>君子禍</td>\n",
       "      <td>至不懼，福至不喜。」</td>\n",
       "      <td>1</td>\n",
       "      <td>02/史記_世家.txt</td>\n",
       "      <td>-205, 220</td>\n",
       "      <td>漢</td>\n",
       "      <td>2</td>\n",
       "      <td>史記</td>\n",
       "      <td>世家</td>\n",
       "      <td>264</td>\n",
       "      <td>Sima Qian</td>\n",
       "      <td>9</td>\n",
       "    </tr>\n",
       "    <tr>\n",
       "      <th>371</th>\n",
       "      <td>田，利見大人。九三：</td>\n",
       "      <td>君子終</td>\n",
       "      <td>日乾乾，夕惕若，厲，</td>\n",
       "      <td>0</td>\n",
       "      <td>01/周易_易經.txt</td>\n",
       "      <td>-1000, -206</td>\n",
       "      <td>先秦</td>\n",
       "      <td>1</td>\n",
       "      <td>周易</td>\n",
       "      <td>易經</td>\n",
       "      <td>371</td>\n",
       "      <td>NaN</td>\n",
       "      <td>9</td>\n",
       "    </tr>\n",
       "    <tr>\n",
       "      <th>391</th>\n",
       "      <td>安，是以嬰得順也。聞</td>\n",
       "      <td>君子獨</td>\n",
       "      <td>立不慚於影。今孔子伐</td>\n",
       "      <td>1</td>\n",
       "      <td>02/孔叢子_詰墨.txt</td>\n",
       "      <td>-205, 220</td>\n",
       "      <td>漢</td>\n",
       "      <td>2</td>\n",
       "      <td>孔叢子</td>\n",
       "      <td>詰墨</td>\n",
       "      <td>391</td>\n",
       "      <td>NaN</td>\n",
       "      <td>9</td>\n",
       "    </tr>\n",
       "    <tr>\n",
       "      <th>423</th>\n",
       "      <td>水而生，失水而死，故</td>\n",
       "      <td>君子常</td>\n",
       "      <td>懼而不敢失道。豪傑秉</td>\n",
       "      <td>1</td>\n",
       "      <td>02/三略_下略.txt</td>\n",
       "      <td>-205, 220</td>\n",
       "      <td>漢</td>\n",
       "      <td>2</td>\n",
       "      <td>三略</td>\n",
       "      <td>下略</td>\n",
       "      <td>423</td>\n",
       "      <td>NaN</td>\n",
       "      <td>9</td>\n",
       "    </tr>\n",
       "    <tr>\n",
       "      <th>458</th>\n",
       "      <td>甘糟糠而安藜藿。「夫</td>\n",
       "      <td>君子非</td>\n",
       "      <td>不欲仕也。恥夸毗以求</td>\n",
       "      <td>2</td>\n",
       "      <td>03/後漢書_列傳.txt</td>\n",
       "      <td>221, 589</td>\n",
       "      <td>魏晉南北</td>\n",
       "      <td>3</td>\n",
       "      <td>後漢書</td>\n",
       "      <td>列傳</td>\n",
       "      <td>458</td>\n",
       "      <td>NaN</td>\n",
       "      <td>9</td>\n",
       "    </tr>\n",
       "  </tbody>\n",
       "</table>\n",
       "</div>"
      ],
      "text/plain": [
       "           left keyword       right  ...  emb_id m.text.author cluster\n",
       "122  死夫。裴回兩渠間兮，     君子獨  安居！」坐者皆泣。有  ...     122           NaN       9\n",
       "136  ，人道福正而禍邪。故     君子內  正而外馴，每以下人。  ...     136    Yang Xiong       9\n",
       "264  有喜色。門人曰：「聞     君子禍  至不懼，福至不喜。」  ...     264     Sima Qian       9\n",
       "371  田，利見大人。九三：     君子終  日乾乾，夕惕若，厲，  ...     371           NaN       9\n",
       "391  安，是以嬰得順也。聞     君子獨  立不慚於影。今孔子伐  ...     391           NaN       9\n",
       "423  水而生，失水而死，故     君子常  懼而不敢失道。豪傑秉  ...     423           NaN       9\n",
       "458  甘糟糠而安藜藿。「夫     君子非  不欲仕也。恥夸毗以求  ...     458           NaN       9\n",
       "\n",
       "[7 rows x 13 columns]"
      ]
     },
     "execution_count": 20,
     "metadata": {},
     "output_type": "execute_result"
    }
   ],
   "source": [
    "df_sub = df[df.cluster == 9]\n",
    "print('num of results:', df_sub.shape[0])\n",
    "df_sub"
   ]
  },
  {
   "cell_type": "markdown",
   "metadata": {
    "id": "3IljzPpI99qp"
   },
   "source": [
    "## 3 Sense Analysis"
   ]
  },
  {
   "cell_type": "code",
   "execution_count": 21,
   "metadata": {
    "id": "LKCYBhi7Ahz0"
   },
   "outputs": [],
   "source": [
    "from dcctk.senseAnalysis import SenseAnalysis\n",
    "\n",
    "dsa = SenseAnalysis(cs)"
   ]
  },
  {
   "cell_type": "markdown",
   "metadata": {
    "id": "rMxe9PXaPHkD"
   },
   "source": [
    "### 3.1 Sense distribution across time"
   ]
  },
  {
   "cell_type": "code",
   "execution_count": 22,
   "metadata": {
    "colab": {
     "base_uri": "https://localhost:8080/",
     "height": 143
    },
    "id": "w0UiAs13ogrk",
    "outputId": "1b697d3a-8b8b-4714-d791-c818653ca2fb"
   },
   "outputs": [
    {
     "data": {
      "text/html": [
       "<div>\n",
       "<style scoped>\n",
       "    .dataframe tbody tr th:only-of-type {\n",
       "        vertical-align: middle;\n",
       "    }\n",
       "\n",
       "    .dataframe tbody tr th {\n",
       "        vertical-align: top;\n",
       "    }\n",
       "\n",
       "    .dataframe thead th {\n",
       "        text-align: right;\n",
       "    }\n",
       "</style>\n",
       "<table border=\"1\" class=\"dataframe\">\n",
       "  <thead>\n",
       "    <tr style=\"text-align: right;\">\n",
       "      <th></th>\n",
       "      <th>1</th>\n",
       "      <th>2</th>\n",
       "      <th>3</th>\n",
       "      <th>4</th>\n",
       "      <th>5</th>\n",
       "      <th>6</th>\n",
       "      <th>7</th>\n",
       "      <th>8</th>\n",
       "      <th>9</th>\n",
       "      <th>10</th>\n",
       "      <th>11</th>\n",
       "      <th>12</th>\n",
       "      <th>13</th>\n",
       "      <th>14</th>\n",
       "      <th>15</th>\n",
       "      <th>16</th>\n",
       "      <th>17</th>\n",
       "      <th>18</th>\n",
       "      <th>19</th>\n",
       "    </tr>\n",
       "  </thead>\n",
       "  <tbody>\n",
       "    <tr>\n",
       "      <th>0</th>\n",
       "      <td>32</td>\n",
       "      <td>1</td>\n",
       "      <td>19</td>\n",
       "      <td>15</td>\n",
       "      <td>5</td>\n",
       "      <td>2</td>\n",
       "      <td>24</td>\n",
       "      <td>7</td>\n",
       "      <td>1</td>\n",
       "      <td>0</td>\n",
       "      <td>12</td>\n",
       "      <td>12</td>\n",
       "      <td>3</td>\n",
       "      <td>2</td>\n",
       "      <td>10</td>\n",
       "      <td>8</td>\n",
       "      <td>6</td>\n",
       "      <td>2</td>\n",
       "      <td>13</td>\n",
       "    </tr>\n",
       "    <tr>\n",
       "      <th>1</th>\n",
       "      <td>40</td>\n",
       "      <td>7</td>\n",
       "      <td>37</td>\n",
       "      <td>25</td>\n",
       "      <td>4</td>\n",
       "      <td>5</td>\n",
       "      <td>42</td>\n",
       "      <td>2</td>\n",
       "      <td>5</td>\n",
       "      <td>4</td>\n",
       "      <td>15</td>\n",
       "      <td>7</td>\n",
       "      <td>26</td>\n",
       "      <td>3</td>\n",
       "      <td>15</td>\n",
       "      <td>3</td>\n",
       "      <td>11</td>\n",
       "      <td>5</td>\n",
       "      <td>21</td>\n",
       "    </tr>\n",
       "    <tr>\n",
       "      <th>2</th>\n",
       "      <td>15</td>\n",
       "      <td>2</td>\n",
       "      <td>0</td>\n",
       "      <td>6</td>\n",
       "      <td>0</td>\n",
       "      <td>0</td>\n",
       "      <td>7</td>\n",
       "      <td>1</td>\n",
       "      <td>1</td>\n",
       "      <td>1</td>\n",
       "      <td>2</td>\n",
       "      <td>3</td>\n",
       "      <td>0</td>\n",
       "      <td>1</td>\n",
       "      <td>2</td>\n",
       "      <td>3</td>\n",
       "      <td>1</td>\n",
       "      <td>1</td>\n",
       "      <td>3</td>\n",
       "    </tr>\n",
       "  </tbody>\n",
       "</table>\n",
       "</div>"
      ],
      "text/plain": [
       "   1   2   3   4   5   6   7   8   9   10  11  12  13  14  15  16  17  18  19\n",
       "0  32   1  19  15   5   2  24   7   1   0  12  12   3   2  10   8   6   2  13\n",
       "1  40   7  37  25   4   5  42   2   5   4  15   7  26   3  15   3  11   5  21\n",
       "2  15   2   0   6   0   0   7   1   1   1   2   3   0   1   2   3   1   1   3"
      ]
     },
     "execution_count": 22,
     "metadata": {},
     "output_type": "execute_result"
    }
   ],
   "source": [
    "dsa.sense_distribution_raw"
   ]
  },
  {
   "cell_type": "code",
   "execution_count": 23,
   "metadata": {
    "colab": {
     "base_uri": "https://localhost:8080/",
     "height": 143
    },
    "id": "Fcq1LbsuouxE",
    "outputId": "e5d99270-1369-4052-f32b-dacdafdcbc9c"
   },
   "outputs": [
    {
     "data": {
      "text/html": [
       "<div>\n",
       "<style scoped>\n",
       "    .dataframe tbody tr th:only-of-type {\n",
       "        vertical-align: middle;\n",
       "    }\n",
       "\n",
       "    .dataframe tbody tr th {\n",
       "        vertical-align: top;\n",
       "    }\n",
       "\n",
       "    .dataframe thead th {\n",
       "        text-align: right;\n",
       "    }\n",
       "</style>\n",
       "<table border=\"1\" class=\"dataframe\">\n",
       "  <thead>\n",
       "    <tr style=\"text-align: right;\">\n",
       "      <th></th>\n",
       "      <th>1</th>\n",
       "      <th>2</th>\n",
       "      <th>3</th>\n",
       "      <th>4</th>\n",
       "      <th>5</th>\n",
       "      <th>6</th>\n",
       "      <th>7</th>\n",
       "      <th>8</th>\n",
       "      <th>9</th>\n",
       "      <th>10</th>\n",
       "      <th>11</th>\n",
       "      <th>12</th>\n",
       "      <th>13</th>\n",
       "      <th>14</th>\n",
       "      <th>15</th>\n",
       "      <th>16</th>\n",
       "      <th>17</th>\n",
       "      <th>18</th>\n",
       "      <th>19</th>\n",
       "    </tr>\n",
       "  </thead>\n",
       "  <tbody>\n",
       "    <tr>\n",
       "      <th>0</th>\n",
       "      <td>0.183908</td>\n",
       "      <td>0.005747</td>\n",
       "      <td>0.109195</td>\n",
       "      <td>0.086207</td>\n",
       "      <td>0.028736</td>\n",
       "      <td>0.011494</td>\n",
       "      <td>0.137931</td>\n",
       "      <td>0.040230</td>\n",
       "      <td>0.005747</td>\n",
       "      <td>0.000000</td>\n",
       "      <td>0.068966</td>\n",
       "      <td>0.068966</td>\n",
       "      <td>0.017241</td>\n",
       "      <td>0.011494</td>\n",
       "      <td>0.057471</td>\n",
       "      <td>0.045977</td>\n",
       "      <td>0.034483</td>\n",
       "      <td>0.011494</td>\n",
       "      <td>0.074713</td>\n",
       "    </tr>\n",
       "    <tr>\n",
       "      <th>1</th>\n",
       "      <td>0.144404</td>\n",
       "      <td>0.025271</td>\n",
       "      <td>0.133574</td>\n",
       "      <td>0.090253</td>\n",
       "      <td>0.014440</td>\n",
       "      <td>0.018051</td>\n",
       "      <td>0.151625</td>\n",
       "      <td>0.007220</td>\n",
       "      <td>0.018051</td>\n",
       "      <td>0.014440</td>\n",
       "      <td>0.054152</td>\n",
       "      <td>0.025271</td>\n",
       "      <td>0.093863</td>\n",
       "      <td>0.010830</td>\n",
       "      <td>0.054152</td>\n",
       "      <td>0.010830</td>\n",
       "      <td>0.039711</td>\n",
       "      <td>0.018051</td>\n",
       "      <td>0.075812</td>\n",
       "    </tr>\n",
       "    <tr>\n",
       "      <th>2</th>\n",
       "      <td>0.306122</td>\n",
       "      <td>0.040816</td>\n",
       "      <td>0.000000</td>\n",
       "      <td>0.122449</td>\n",
       "      <td>0.000000</td>\n",
       "      <td>0.000000</td>\n",
       "      <td>0.142857</td>\n",
       "      <td>0.020408</td>\n",
       "      <td>0.020408</td>\n",
       "      <td>0.020408</td>\n",
       "      <td>0.040816</td>\n",
       "      <td>0.061224</td>\n",
       "      <td>0.000000</td>\n",
       "      <td>0.020408</td>\n",
       "      <td>0.040816</td>\n",
       "      <td>0.061224</td>\n",
       "      <td>0.020408</td>\n",
       "      <td>0.020408</td>\n",
       "      <td>0.061224</td>\n",
       "    </tr>\n",
       "  </tbody>\n",
       "</table>\n",
       "</div>"
      ],
      "text/plain": [
       "         1         2         3   ...        17        18        19\n",
       "0  0.183908  0.005747  0.109195  ...  0.034483  0.011494  0.074713\n",
       "1  0.144404  0.025271  0.133574  ...  0.039711  0.018051  0.075812\n",
       "2  0.306122  0.040816  0.000000  ...  0.020408  0.020408  0.061224\n",
       "\n",
       "[3 rows x 19 columns]"
      ]
     },
     "execution_count": 23,
     "metadata": {},
     "output_type": "execute_result"
    }
   ],
   "source": [
    "dsa.sense_distribution"
   ]
  },
  {
   "cell_type": "code",
   "execution_count": 37,
   "metadata": {
    "colab": {
     "base_uri": "https://localhost:8080/",
     "height": 324
    },
    "id": "qpIP_uXJI2MO",
    "outputId": "48a9b3ca-8e10-432e-cc7b-432a9fa975ca"
   },
   "outputs": [
    {
     "data": {
      "image/png": "[encoded data removed]",
      "text/plain": [
       "<Figure size 1440x324 with 1 Axes>"
      ]
     },
     "metadata": {},
     "output_type": "display_data"
    }
   ],
   "source": [
    "dsa.plot_sense_distribution(timelabel='m.time.label', fontsize=13, figsize=(20,4.5))"
   ]
  },
  {
   "cell_type": "code",
   "execution_count": 36,
   "metadata": {
    "colab": {
     "base_uri": "https://localhost:8080/",
     "height": 350
    },
    "id": "0gbhZA-1fIpn",
    "outputId": "85d3c043-8534-44d1-da8a-0904242b6208"
   },
   "outputs": [
    {
     "data": {
      "image/png": "[encoded data removed]",
      "text/plain": [
       "<Figure size 576x396 with 1 Axes>"
      ]
     },
     "metadata": {},
     "output_type": "display_data"
    }
   ],
   "source": [
    "dsa.plot_sense_timeseries(clusters=[1, 3, 4, 5, 8], timelabel='m.time.label', raw_count=True, fontsize=13)"
   ]
  },
  {
   "cell_type": "markdown",
   "metadata": {
    "id": "DIk5GadqIpm0"
   },
   "source": [
    "## 4 Dispersion"
   ]
  },
  {
   "cell_type": "code",
   "execution_count": 26,
   "metadata": {
    "colab": {
     "base_uri": "https://localhost:8080/",
     "height": 118
    },
    "id": "lYy5VR4fIrmT",
    "outputId": "b91093ed-5037-406a-bc57-b9fa29fef94c"
   },
   "outputs": [
    {
     "name": "stdout",
     "output_type": "stream",
     "text": [
      "Indexing corpus for text retrival...\n"
     ]
    },
    {
     "data": {
      "application/vnd.jupyter.widget-view+json": {
       "model_id": "7b46c4b28eda467fa3d33803b02e8c00",
       "version_major": 2,
       "version_minor": 0
      },
      "text/plain": [
       "  0%|          | 0/5 [00:00<?, ?it/s]"
      ]
     },
     "metadata": {},
     "output_type": "display_data"
    },
    {
     "name": "stdout",
     "output_type": "stream",
     "text": [
      "Indexing corpus for concordance search...\n"
     ]
    },
    {
     "data": {
      "application/vnd.jupyter.widget-view+json": {
       "model_id": "258cae6db71241cb80a302abec91041b",
       "version_major": 2,
       "version_minor": 0
      },
      "text/plain": [
       "  0%|          | 0/5 [00:00<?, ?it/s]"
      ]
     },
     "metadata": {},
     "output_type": "display_data"
    }
   ],
   "source": [
    "import pprint\n",
    "from dcctk.dispersion import Dispersion\n",
    "from dcctk.corpusReader import PlainTextReader\n",
    "\n",
    "dp = Dispersion(PlainTextReader(\"data\").corpus)"
   ]
  },
  {
   "cell_type": "markdown",
   "metadata": {
    "id": "DM2IGzh2I9tA"
   },
   "source": [
    "### 4.1 Dispersion measures of a character\n",
    "\n",
    "Corpus parts are separated text files."
   ]
  },
  {
   "cell_type": "code",
   "execution_count": 27,
   "metadata": {
    "colab": {
     "base_uri": "https://localhost:8080/"
    },
    "id": "Vr7h443EJK_3",
    "outputId": "5f0f8c70-a086-4a74-d87d-8e7db2bc2403"
   },
   "outputs": [
    {
     "data": {
      "text/plain": [
       "{'DP': 0.2022111504415149,\n",
       " 'DPnorm': 0.20221136832606973,\n",
       " 'JuillandD': 0.9852650352870054,\n",
       " 'KLdivergence': 0.19438300669532335,\n",
       " 'RosengrenS': 0.9263291584455613,\n",
       " 'range': 1844}"
      ]
     },
     "execution_count": 27,
     "metadata": {},
     "output_type": "execute_result"
    }
   ],
   "source": [
    "# Compute on the full corpus\n",
    "dp.char_dispersion(char='之')"
   ]
  },
  {
   "cell_type": "code",
   "execution_count": 28,
   "metadata": {
    "colab": {
     "base_uri": "https://localhost:8080/"
    },
    "id": "Opxy9JX3KUBJ",
    "outputId": "58625c1d-cc11-40ee-fd2c-94840d03d5c8"
   },
   "outputs": [
    {
     "name": "stdout",
     "output_type": "stream",
     "text": [
      "Time: 0\n",
      "Occured 64665 times in 732 texts\n",
      "\n",
      "{'DP': 0.12850786502690828,\n",
      " 'DPnorm': 0.12850904069194602,\n",
      " 'JuillandD': 0.9773162825598201,\n",
      " 'KLdivergence': 0.09589034120820826,\n",
      " 'RosengrenS': 0.9614052434775078,\n",
      " 'range': 666}\n",
      "\n",
      "\n",
      "Time: 1\n",
      "Occured 100411 times in 1049 texts\n",
      "\n",
      "{'DP': 0.177157904011686,\n",
      " 'DPnorm': 0.17715848879560456,\n",
      " 'JuillandD': 0.9793139748213145,\n",
      " 'KLdivergence': 0.14783747591652752,\n",
      " 'RosengrenS': 0.9465804731333193,\n",
      " 'range': 1021}\n",
      "\n",
      "\n",
      "Time: 2\n",
      "Occured 44167 times in 156 texts\n",
      "\n",
      "{'DP': 0.13409883701225642,\n",
      " 'DPnorm': 0.13411539941898626,\n",
      " 'JuillandD': 0.9639771653228966,\n",
      " 'KLdivergence': 0.0886095001420331,\n",
      " 'RosengrenS': 0.9702834801523642,\n",
      " 'range': 156}\n",
      "\n",
      "\n",
      "Time: 3\n",
      "Occured 1365 times in 1 texts\n",
      "\n",
      "{'DP': 0.0,\n",
      " 'DPnorm': 0,\n",
      " 'JuillandD': None,\n",
      " 'KLdivergence': 0.0,\n",
      " 'RosengrenS': 1.0000000000000002,\n",
      " 'range': 1}\n",
      "\n",
      "\n",
      "Time: 4\n",
      "Occured 0 times in 5 texts\n",
      "\n",
      "{'DP': 0,\n",
      " 'DPnorm': 0,\n",
      " 'JuillandD': None,\n",
      " 'KLdivergence': 0,\n",
      " 'RosengrenS': None,\n",
      " 'range': 0}\n",
      "\n",
      "\n"
     ]
    }
   ],
   "source": [
    "# Compute separate dispersion measures for each subcorpus (time-sliced)\n",
    "for i in range(dp.num_of_subcorp):\n",
    "    stats, data = dp.char_dispersion(char='之', subcorp_idx=i, return_raw=True)\n",
    "    print(f\"Time: {i}\")\n",
    "    print(f\"Occured {data['f']} times in {data['n']} texts\\n\")\n",
    "    pprint.pprint(stats)\n",
    "    print('\\n')"
   ]
  },
  {
   "cell_type": "markdown",
   "metadata": {
    "id": "eNNc9HOKMxfX"
   },
   "source": [
    "### 4.2 Dispersion measures of a complex form"
   ]
  },
  {
   "cell_type": "markdown",
   "metadata": {
    "id": "gphsTU78M5F7"
   },
   "source": [
    "### 4.2.1 CQL Search Result"
   ]
  },
  {
   "cell_type": "code",
   "execution_count": 29,
   "metadata": {
    "colab": {
     "base_uri": "https://localhost:8080/",
     "height": 226,
     "referenced_widgets": [
      "33495329c94247f48c9703ca8dad391a",
      "e5089f91ade4433fa887905d703a64db",
      "3e3e81a7792e4016ab7e17031fa4895a",
      "aa08bdf19db74fafad52441d939bcb5e",
      "885f4643b6f44598862eeb6072041f2f",
      "e10ad3a635db4452961c8770a31832c9",
      "147e028609084ce78f01671cf6e47d80",
      "923659fcb3a54d6abd86799e006fce68",
      "7b5301ad98074358b77c890cde07f350",
      "128943b0b9214aedb8264adcafdba2ff",
      "b7095a8a14a34132b108d88dfedd324d"
     ]
    },
    "id": "IHjkjnUPM_3E",
    "outputId": "4cc5bf53-5561-49d3-893b-9cb931796f22"
   },
   "outputs": [
    {
     "name": "stdout",
     "output_type": "stream",
     "text": [
      "Indexing corpus for text retrival...\n"
     ]
    },
    {
     "data": {
      "application/vnd.jupyter.widget-view+json": {
       "model_id": "33495329c94247f48c9703ca8dad391a",
       "version_major": 2,
       "version_minor": 0
      },
      "text/plain": [
       "  0%|          | 0/5 [00:00<?, ?it/s]"
      ]
     },
     "metadata": {},
     "output_type": "display_data"
    },
    {
     "name": "stdout",
     "output_type": "stream",
     "text": [
      "Indexing corpus for concordance search...\n"
     ]
    },
    {
     "data": {
      "application/vnd.jupyter.widget-view+json": {
       "model_id": "991eb7a639ce4663b9eafdc092e29fca",
       "version_major": 2,
       "version_minor": 0
      },
      "text/plain": [
       "  0%|          | 0/5 [00:00<?, ?it/s]"
      ]
     },
     "metadata": {},
     "output_type": "display_data"
    },
    {
     "name": "stdout",
     "output_type": "stream",
     "text": [
      "Num of results: 1152\n",
      "<Concord 寧，明王之憂也。』故{王者}之於天下，猶一室之中>\n",
      "<Concord 固辭曰：「昔陳嬰不受{王者}，以有老母也。今統內>\n",
      "<Concord ，臣等誠竊惶懼。臣聞{王者}動設先置，止則交戟，>\n",
      "<Concord 也。非王者則曷為謂之{王者}？王者無求，曰：是子>\n",
      "<Concord 此一時也。五百年必有{王者}興，其間必有名世者。>\n"
     ]
    }
   ],
   "source": [
    "import pandas as pd\n",
    "from dcctk.concordancer import Concordancer\n",
    "\n",
    "c = Concordancer(PlainTextReader(\"data\").corpus)\n",
    "cql = \"\"\"\n",
    "\"王\" \"者\"\n",
    "\"\"\".strip()\n",
    "results = list(c.cql_search(cql, left=10, right=10))\n",
    "\n",
    "print('Num of results:', len(results))\n",
    "for r in results[:5]: print(r)"
   ]
  },
  {
   "cell_type": "code",
   "execution_count": 30,
   "metadata": {
    "colab": {
     "base_uri": "https://localhost:8080/",
     "height": 206
    },
    "id": "fWvzhdYcNTZ8",
    "outputId": "2820f5bf-e097-42a0-f62c-5c6a69e0b3f6"
   },
   "outputs": [
    {
     "data": {
      "text/html": [
       "<div>\n",
       "<style scoped>\n",
       "    .dataframe tbody tr th:only-of-type {\n",
       "        vertical-align: middle;\n",
       "    }\n",
       "\n",
       "    .dataframe tbody tr th {\n",
       "        vertical-align: top;\n",
       "    }\n",
       "\n",
       "    .dataframe thead th {\n",
       "        text-align: right;\n",
       "    }\n",
       "</style>\n",
       "<table border=\"1\" class=\"dataframe\">\n",
       "  <thead>\n",
       "    <tr style=\"text-align: right;\">\n",
       "      <th></th>\n",
       "      <th>range</th>\n",
       "      <th>DP</th>\n",
       "      <th>DPnorm</th>\n",
       "      <th>KLdivergence</th>\n",
       "      <th>JuillandD</th>\n",
       "      <th>RosengrenS</th>\n",
       "      <th>time</th>\n",
       "      <th>freq</th>\n",
       "      <th>range (%)</th>\n",
       "      <th>num_of_texts</th>\n",
       "      <th>corpus_size</th>\n",
       "    </tr>\n",
       "  </thead>\n",
       "  <tbody>\n",
       "    <tr>\n",
       "      <th>0</th>\n",
       "      <td>117</td>\n",
       "      <td>0.730767</td>\n",
       "      <td>0.730774</td>\n",
       "      <td>2.468989</td>\n",
       "      <td>0.865116</td>\n",
       "      <td>0.230688</td>\n",
       "      <td>0</td>\n",
       "      <td>242</td>\n",
       "      <td>0.159836</td>\n",
       "      <td>732</td>\n",
       "      <td>1858228</td>\n",
       "    </tr>\n",
       "    <tr>\n",
       "      <th>1</th>\n",
       "      <td>206</td>\n",
       "      <td>0.510130</td>\n",
       "      <td>0.510132</td>\n",
       "      <td>1.693783</td>\n",
       "      <td>0.835961</td>\n",
       "      <td>0.462887</td>\n",
       "      <td>1</td>\n",
       "      <td>775</td>\n",
       "      <td>0.196378</td>\n",
       "      <td>1049</td>\n",
       "      <td>3938310</td>\n",
       "    </tr>\n",
       "    <tr>\n",
       "      <th>2</th>\n",
       "      <td>40</td>\n",
       "      <td>0.328366</td>\n",
       "      <td>0.328406</td>\n",
       "      <td>0.682159</td>\n",
       "      <td>0.804040</td>\n",
       "      <td>0.673157</td>\n",
       "      <td>2</td>\n",
       "      <td>135</td>\n",
       "      <td>0.256410</td>\n",
       "      <td>156</td>\n",
       "      <td>2097273</td>\n",
       "    </tr>\n",
       "    <tr>\n",
       "      <th>3</th>\n",
       "      <td>0</td>\n",
       "      <td>0.000000</td>\n",
       "      <td>0.000000</td>\n",
       "      <td>0.000000</td>\n",
       "      <td>NaN</td>\n",
       "      <td>NaN</td>\n",
       "      <td>3</td>\n",
       "      <td>0</td>\n",
       "      <td>0.000000</td>\n",
       "      <td>1</td>\n",
       "      <td>458738</td>\n",
       "    </tr>\n",
       "    <tr>\n",
       "      <th>4</th>\n",
       "      <td>0</td>\n",
       "      <td>0.000000</td>\n",
       "      <td>0.000000</td>\n",
       "      <td>0.000000</td>\n",
       "      <td>NaN</td>\n",
       "      <td>NaN</td>\n",
       "      <td>4</td>\n",
       "      <td>0</td>\n",
       "      <td>0.000000</td>\n",
       "      <td>5</td>\n",
       "      <td>50</td>\n",
       "    </tr>\n",
       "  </tbody>\n",
       "</table>\n",
       "</div>"
      ],
      "text/plain": [
       "   range        DP    DPnorm  ...  range (%)  num_of_texts  corpus_size\n",
       "0    117  0.730767  0.730774  ...   0.159836           732      1858228\n",
       "1    206  0.510130  0.510132  ...   0.196378          1049      3938310\n",
       "2     40  0.328366  0.328406  ...   0.256410           156      2097273\n",
       "3      0  0.000000  0.000000  ...   0.000000             1       458738\n",
       "4      0  0.000000  0.000000  ...   0.000000             5           50\n",
       "\n",
       "[5 rows x 11 columns]"
      ]
     },
     "execution_count": 30,
     "metadata": {},
     "output_type": "execute_result"
    }
   ],
   "source": [
    "# Compute separate dispersion measures for each subcorpus (time-sliced)\n",
    "df = []\n",
    "for i in range(dp.num_of_subcorp):\n",
    "    stats, data = dp.pattern_dispersion(data=results, subcorp_idx=i, return_raw=True)\n",
    "    stats['time'] = i\n",
    "    stats['freq'] = data['f']\n",
    "    stats['range (%)'] = stats['range'] / data['n']\n",
    "    stats['num_of_texts'] = data['n']\n",
    "    stats['corpus_size'] = data['corpus_size']\n",
    "    df.append(stats)\n",
    "\n",
    "pd.DataFrame(df)"
   ]
  },
  {
   "cell_type": "markdown",
   "metadata": {
    "id": "EMp-e8edRRUc"
   },
   "source": [
    "### 4.2.2 Sense Cluster"
   ]
  },
  {
   "cell_type": "code",
   "execution_count": 31,
   "metadata": {
    "colab": {
     "base_uri": "https://localhost:8080/",
     "height": 536
    },
    "id": "SGDqrechRlGx",
    "outputId": "16f52c5a-31ca-41e9-fabf-8f734e0c7ac5"
   },
   "outputs": [
    {
     "data": {
      "text/html": [
       "<div>\n",
       "<style scoped>\n",
       "    .dataframe tbody tr th:only-of-type {\n",
       "        vertical-align: middle;\n",
       "    }\n",
       "\n",
       "    .dataframe tbody tr th {\n",
       "        vertical-align: top;\n",
       "    }\n",
       "\n",
       "    .dataframe thead th {\n",
       "        text-align: right;\n",
       "    }\n",
       "</style>\n",
       "<table border=\"1\" class=\"dataframe\">\n",
       "  <thead>\n",
       "    <tr style=\"text-align: right;\">\n",
       "      <th></th>\n",
       "      <th>left</th>\n",
       "      <th>keyword</th>\n",
       "      <th>right</th>\n",
       "      <th>timestep</th>\n",
       "      <th>m.id</th>\n",
       "      <th>m.time.time_range</th>\n",
       "      <th>m.time.label</th>\n",
       "      <th>m.time.ord</th>\n",
       "      <th>m.text.book</th>\n",
       "      <th>m.text.sec</th>\n",
       "      <th>emb_id</th>\n",
       "      <th>m.text.author</th>\n",
       "      <th>cluster</th>\n",
       "    </tr>\n",
       "  </thead>\n",
       "  <tbody>\n",
       "    <tr>\n",
       "      <th>3</th>\n",
       "      <td>德潤身，心廣體胖，故</td>\n",
       "      <td>君子必</td>\n",
       "      <td>誠其意。《詩》云：「</td>\n",
       "      <td>0</td>\n",
       "      <td>01/禮記_大學.txt</td>\n",
       "      <td>-1000, -206</td>\n",
       "      <td>先秦</td>\n",
       "      <td>1</td>\n",
       "      <td>禮記</td>\n",
       "      <td>大學</td>\n",
       "      <td>3</td>\n",
       "      <td>NaN</td>\n",
       "      <td>8</td>\n",
       "    </tr>\n",
       "    <tr>\n",
       "      <th>6</th>\n",
       "      <td>也；見敬愛者，人也。</td>\n",
       "      <td>君子必</td>\n",
       "      <td>在己者，不必在人者也</td>\n",
       "      <td>0</td>\n",
       "      <td>01/呂氏春秋_孝行覽.txt</td>\n",
       "      <td>-1000, -206</td>\n",
       "      <td>先秦</td>\n",
       "      <td>1</td>\n",
       "      <td>呂氏春秋</td>\n",
       "      <td>孝行覽</td>\n",
       "      <td>6</td>\n",
       "      <td>Lu Bu-wei</td>\n",
       "      <td>8</td>\n",
       "    </tr>\n",
       "    <tr>\n",
       "      <th>95</th>\n",
       "      <td>其所貴。」此之謂也。</td>\n",
       "      <td>君子必</td>\n",
       "      <td>辯。凡人莫不好言其所</td>\n",
       "      <td>0</td>\n",
       "      <td>01/荀子_非相.txt</td>\n",
       "      <td>-1000, -206</td>\n",
       "      <td>先秦</td>\n",
       "      <td>1</td>\n",
       "      <td>荀子</td>\n",
       "      <td>非相</td>\n",
       "      <td>95</td>\n",
       "      <td>NaN</td>\n",
       "      <td>8</td>\n",
       "    </tr>\n",
       "    <tr>\n",
       "      <th>173</th>\n",
       "      <td>，知之，正之至也。故</td>\n",
       "      <td>君子必</td>\n",
       "      <td>存乎三至，弗至，斯有</td>\n",
       "      <td>1</td>\n",
       "      <td>02/申鑒_雜言下.txt</td>\n",
       "      <td>-205, 220</td>\n",
       "      <td>漢</td>\n",
       "      <td>2</td>\n",
       "      <td>申鑒</td>\n",
       "      <td>雜言下</td>\n",
       "      <td>173</td>\n",
       "      <td>NaN</td>\n",
       "      <td>8</td>\n",
       "    </tr>\n",
       "    <tr>\n",
       "      <th>248</th>\n",
       "      <td>兆，而成之者無幾。故</td>\n",
       "      <td>君子必</td>\n",
       "      <td>立其志。《易》曰：「</td>\n",
       "      <td>1</td>\n",
       "      <td>02/中論_治學.txt</td>\n",
       "      <td>-205, 220</td>\n",
       "      <td>漢</td>\n",
       "      <td>2</td>\n",
       "      <td>中論</td>\n",
       "      <td>治學</td>\n",
       "      <td>248</td>\n",
       "      <td>Xu Gan</td>\n",
       "      <td>8</td>\n",
       "    </tr>\n",
       "    <tr>\n",
       "      <th>268</th>\n",
       "      <td>必友，為人弟必悌。故</td>\n",
       "      <td>君子莫</td>\n",
       "      <td>若欲為惠君、忠臣、慈</td>\n",
       "      <td>0</td>\n",
       "      <td>01/墨子_卷四.txt</td>\n",
       "      <td>-1000, -206</td>\n",
       "      <td>先秦</td>\n",
       "      <td>1</td>\n",
       "      <td>墨子</td>\n",
       "      <td>卷四</td>\n",
       "      <td>268</td>\n",
       "      <td>NaN</td>\n",
       "      <td>8</td>\n",
       "    </tr>\n",
       "    <tr>\n",
       "      <th>365</th>\n",
       "      <td>好色，此之謂自謙，故</td>\n",
       "      <td>君子必</td>\n",
       "      <td>慎其獨也！小人閑居為</td>\n",
       "      <td>0</td>\n",
       "      <td>01/禮記_大學.txt</td>\n",
       "      <td>-1000, -206</td>\n",
       "      <td>先秦</td>\n",
       "      <td>1</td>\n",
       "      <td>禮記</td>\n",
       "      <td>大學</td>\n",
       "      <td>365</td>\n",
       "      <td>NaN</td>\n",
       "      <td>8</td>\n",
       "    </tr>\n",
       "    <tr>\n",
       "      <th>387</th>\n",
       "      <td>行安之，樂言之；故言</td>\n",
       "      <td>君子必</td>\n",
       "      <td>辯。小辯不如見端，見</td>\n",
       "      <td>0</td>\n",
       "      <td>01/荀子_非相.txt</td>\n",
       "      <td>-1000, -206</td>\n",
       "      <td>先秦</td>\n",
       "      <td>1</td>\n",
       "      <td>荀子</td>\n",
       "      <td>非相</td>\n",
       "      <td>387</td>\n",
       "      <td>NaN</td>\n",
       "      <td>8</td>\n",
       "    </tr>\n",
       "    <tr>\n",
       "      <th>469</th>\n",
       "      <td>楊柳有路側之勢故也。</td>\n",
       "      <td>君子當</td>\n",
       "      <td>去二輕取四重：言重則</td>\n",
       "      <td>2</td>\n",
       "      <td>03/金樓子_立言.txt</td>\n",
       "      <td>221, 589</td>\n",
       "      <td>魏晉南北</td>\n",
       "      <td>3</td>\n",
       "      <td>金樓子</td>\n",
       "      <td>立言</td>\n",
       "      <td>469</td>\n",
       "      <td>NaN</td>\n",
       "      <td>8</td>\n",
       "    </tr>\n",
       "    <tr>\n",
       "      <th>488</th>\n",
       "      <td>民衣食之所以足也。故</td>\n",
       "      <td>君子莫</td>\n",
       "      <td>若審兼而務行之，為人</td>\n",
       "      <td>0</td>\n",
       "      <td>01/墨子_卷四.txt</td>\n",
       "      <td>-1000, -206</td>\n",
       "      <td>先秦</td>\n",
       "      <td>1</td>\n",
       "      <td>墨子</td>\n",
       "      <td>卷四</td>\n",
       "      <td>488</td>\n",
       "      <td>NaN</td>\n",
       "      <td>8</td>\n",
       "    </tr>\n",
       "  </tbody>\n",
       "</table>\n",
       "</div>"
      ],
      "text/plain": [
       "           left keyword       right  ...  emb_id m.text.author cluster\n",
       "3    德潤身，心廣體胖，故     君子必  誠其意。《詩》云：「  ...       3           NaN       8\n",
       "6    也；見敬愛者，人也。     君子必  在己者，不必在人者也  ...       6     Lu Bu-wei       8\n",
       "95   其所貴。」此之謂也。     君子必  辯。凡人莫不好言其所  ...      95           NaN       8\n",
       "173  ，知之，正之至也。故     君子必  存乎三至，弗至，斯有  ...     173           NaN       8\n",
       "248  兆，而成之者無幾。故     君子必  立其志。《易》曰：「  ...     248        Xu Gan       8\n",
       "268  必友，為人弟必悌。故     君子莫  若欲為惠君、忠臣、慈  ...     268           NaN       8\n",
       "365  好色，此之謂自謙，故     君子必  慎其獨也！小人閑居為  ...     365           NaN       8\n",
       "387  行安之，樂言之；故言     君子必  辯。小辯不如見端，見  ...     387           NaN       8\n",
       "469  楊柳有路側之勢故也。     君子當  去二輕取四重：言重則  ...     469           NaN       8\n",
       "488  民衣食之所以足也。故     君子莫  若審兼而務行之，為人  ...     488           NaN       8\n",
       "\n",
       "[10 rows x 13 columns]"
      ]
     },
     "execution_count": 31,
     "metadata": {},
     "output_type": "execute_result"
    }
   ],
   "source": [
    "d = cs.hierarchical_clustering(threshold=19, criterion='maxclust', visualize=False)\n",
    "d = d[d.cluster == 8]\n",
    "d"
   ]
  },
  {
   "cell_type": "code",
   "execution_count": 32,
   "metadata": {
    "colab": {
     "base_uri": "https://localhost:8080/",
     "height": 206
    },
    "id": "A_v2zIXwRXGT",
    "outputId": "cd49d9b2-11b2-4929-9624-e281ffe4f89f"
   },
   "outputs": [
    {
     "data": {
      "text/html": [
       "<div>\n",
       "<style scoped>\n",
       "    .dataframe tbody tr th:only-of-type {\n",
       "        vertical-align: middle;\n",
       "    }\n",
       "\n",
       "    .dataframe tbody tr th {\n",
       "        vertical-align: top;\n",
       "    }\n",
       "\n",
       "    .dataframe thead th {\n",
       "        text-align: right;\n",
       "    }\n",
       "</style>\n",
       "<table border=\"1\" class=\"dataframe\">\n",
       "  <thead>\n",
       "    <tr style=\"text-align: right;\">\n",
       "      <th></th>\n",
       "      <th>range</th>\n",
       "      <th>DP</th>\n",
       "      <th>DPnorm</th>\n",
       "      <th>KLdivergence</th>\n",
       "      <th>JuillandD</th>\n",
       "      <th>RosengrenS</th>\n",
       "      <th>time</th>\n",
       "      <th>freq</th>\n",
       "      <th>range (%)</th>\n",
       "      <th>num_of_texts</th>\n",
       "      <th>corpus_size</th>\n",
       "    </tr>\n",
       "  </thead>\n",
       "  <tbody>\n",
       "    <tr>\n",
       "      <th>0</th>\n",
       "      <td>4</td>\n",
       "      <td>0.990412</td>\n",
       "      <td>0.990421</td>\n",
       "      <td>7.100799</td>\n",
       "      <td>4.231818e-01</td>\n",
       "      <td>0.008283</td>\n",
       "      <td>先秦</td>\n",
       "      <td>7</td>\n",
       "      <td>0.005464</td>\n",
       "      <td>732</td>\n",
       "      <td>1858228</td>\n",
       "    </tr>\n",
       "    <tr>\n",
       "      <th>1</th>\n",
       "      <td>2</td>\n",
       "      <td>0.998976</td>\n",
       "      <td>0.998980</td>\n",
       "      <td>10.052050</td>\n",
       "      <td>2.409732e-01</td>\n",
       "      <td>0.000983</td>\n",
       "      <td>漢</td>\n",
       "      <td>2</td>\n",
       "      <td>0.001907</td>\n",
       "      <td>1049</td>\n",
       "      <td>3938310</td>\n",
       "    </tr>\n",
       "    <tr>\n",
       "      <th>2</th>\n",
       "      <td>1</td>\n",
       "      <td>0.994173</td>\n",
       "      <td>0.994296</td>\n",
       "      <td>7.423009</td>\n",
       "      <td>1.110223e-16</td>\n",
       "      <td>0.005827</td>\n",
       "      <td>魏晉南北</td>\n",
       "      <td>1</td>\n",
       "      <td>0.006410</td>\n",
       "      <td>156</td>\n",
       "      <td>2097273</td>\n",
       "    </tr>\n",
       "    <tr>\n",
       "      <th>3</th>\n",
       "      <td>0</td>\n",
       "      <td>0.000000</td>\n",
       "      <td>0.000000</td>\n",
       "      <td>0.000000</td>\n",
       "      <td>NaN</td>\n",
       "      <td>NaN</td>\n",
       "      <td>ASBC</td>\n",
       "      <td>0</td>\n",
       "      <td>0.000000</td>\n",
       "      <td>1</td>\n",
       "      <td>458738</td>\n",
       "    </tr>\n",
       "    <tr>\n",
       "      <th>4</th>\n",
       "      <td>0</td>\n",
       "      <td>0.000000</td>\n",
       "      <td>0.000000</td>\n",
       "      <td>0.000000</td>\n",
       "      <td>NaN</td>\n",
       "      <td>NaN</td>\n",
       "      <td>Analyzing Dispersion toy data</td>\n",
       "      <td>0</td>\n",
       "      <td>0.000000</td>\n",
       "      <td>5</td>\n",
       "      <td>50</td>\n",
       "    </tr>\n",
       "  </tbody>\n",
       "</table>\n",
       "</div>"
      ],
      "text/plain": [
       "   range        DP    DPnorm  ...  range (%)  num_of_texts  corpus_size\n",
       "0      4  0.990412  0.990421  ...   0.005464           732      1858228\n",
       "1      2  0.998976  0.998980  ...   0.001907          1049      3938310\n",
       "2      1  0.994173  0.994296  ...   0.006410           156      2097273\n",
       "3      0  0.000000  0.000000  ...   0.000000             1       458738\n",
       "4      0  0.000000  0.000000  ...   0.000000             5           50\n",
       "\n",
       "[5 rows x 11 columns]"
      ]
     },
     "execution_count": 32,
     "metadata": {},
     "output_type": "execute_result"
    }
   ],
   "source": [
    "# Compute separate dispersion measures for each subcorpus (time-sliced)\n",
    "df = []\n",
    "for i in range(dp.num_of_subcorp):\n",
    "    stats, data = dp.pattern_dispersion(data=d, subcorp_idx=i, return_raw=True)\n",
    "    stats['time'] = c.get_meta(i).get('label', '')\n",
    "    stats['freq'] = data['f']\n",
    "    stats['range (%)'] = stats['range'] / data['n']\n",
    "    stats['num_of_texts'] = data['n']\n",
    "    stats['corpus_size'] = data['corpus_size']\n",
    "    df.append(stats)\n",
    "\n",
    "pd.DataFrame(df)"
   ]
  }
 ],
 "metadata": {
  "colab": {
   "collapsed_sections": [],
   "name": "dcctk_test.ipynb",
   "provenance": []
  },
  "kernelspec": {
   "display_name": "Python 3",
   "language": "python",
   "name": "python3"
  },
  "language_info": {
   "codemirror_mode": {
    "name": "ipython",
    "version": 3
   },
   "file_extension": ".py",
   "mimetype": "text/x-python",
   "name": "python",
   "nbconvert_exporter": "python",
   "pygments_lexer": "ipython3",
   "version": "3.8.10"
  },
  "widgets": {
   "application/vnd.jupyter.widget-state+json": {
    "00c84f3c07b34239b0a1839986434a4d": {
     "model_module": "@jupyter-widgets/controls",
     "model_module_version": "1.5.0",
     "model_name": "DescriptionStyleModel",
     "state": {
      "_model_module": "@jupyter-widgets/controls",
      "_model_module_version": "1.5.0",
      "_model_name": "DescriptionStyleModel",
      "_view_count": null,
      "_view_module": "@jupyter-widgets/base",
      "_view_module_version": "1.2.0",
      "_view_name": "StyleView",
      "description_width": ""
     }
    },
    "09bd48e52b8a487188444141f733533f": {
     "model_module": "@jupyter-widgets/controls",
     "model_module_version": "1.5.0",
     "model_name": "HTMLModel",
     "state": {
      "_dom_classes": [],
      "_model_module": "@jupyter-widgets/controls",
      "_model_module_version": "1.5.0",
      "_model_name": "HTMLModel",
      "_view_count": null,
      "_view_module": "@jupyter-widgets/controls",
      "_view_module_version": "1.5.0",
      "_view_name": "HTMLView",
      "description": "",
      "description_tooltip": null,
      "layout": "IPY_MODEL_2ad964662b434861b9725e3628885a1a",
      "placeholder": "​",
      "style": "IPY_MODEL_277f1bfe8e46436184d71ddbc932f22d",
      "value": "100%"
     }
    },
    "128943b0b9214aedb8264adcafdba2ff": {
     "model_module": "@jupyter-widgets/controls",
     "model_module_version": "1.5.0",
     "model_name": "DescriptionStyleModel",
     "state": {
      "_model_module": "@jupyter-widgets/controls",
      "_model_module_version": "1.5.0",
      "_model_name": "DescriptionStyleModel",
      "_view_count": null,
      "_view_module": "@jupyter-widgets/base",
      "_view_module_version": "1.2.0",
      "_view_name": "StyleView",
      "description_width": ""
     }
    },
    "147e028609084ce78f01671cf6e47d80": {
     "model_module": "@jupyter-widgets/base",
     "model_module_version": "1.2.0",
     "model_name": "LayoutModel",
     "state": {
      "_model_module": "@jupyter-widgets/base",
      "_model_module_version": "1.2.0",
      "_model_name": "LayoutModel",
      "_view_count": null,
      "_view_module": "@jupyter-widgets/base",
      "_view_module_version": "1.2.0",
      "_view_name": "LayoutView",
      "align_content": null,
      "align_items": null,
      "align_self": null,
      "border": null,
      "bottom": null,
      "display": null,
      "flex": null,
      "flex_flow": null,
      "grid_area": null,
      "grid_auto_columns": null,
      "grid_auto_flow": null,
      "grid_auto_rows": null,
      "grid_column": null,
      "grid_gap": null,
      "grid_row": null,
      "grid_template_areas": null,
      "grid_template_columns": null,
      "grid_template_rows": null,
      "height": null,
      "justify_content": null,
      "justify_items": null,
      "left": null,
      "margin": null,
      "max_height": null,
      "max_width": null,
      "min_height": null,
      "min_width": null,
      "object_fit": null,
      "object_position": null,
      "order": null,
      "overflow": null,
      "overflow_x": null,
      "overflow_y": null,
      "padding": null,
      "right": null,
      "top": null,
      "visibility": null,
      "width": null
     }
    },
    "14f264fffd9b43dfa0f1a317b44577b2": {
     "model_module": "@jupyter-widgets/controls",
     "model_module_version": "1.5.0",
     "model_name": "FloatProgressModel",
     "state": {
      "_dom_classes": [],
      "_model_module": "@jupyter-widgets/controls",
      "_model_module_version": "1.5.0",
      "_model_name": "FloatProgressModel",
      "_view_count": null,
      "_view_module": "@jupyter-widgets/controls",
      "_view_module_version": "1.5.0",
      "_view_name": "ProgressView",
      "bar_style": "success",
      "description": "",
      "description_tooltip": null,
      "layout": "IPY_MODEL_bd3358902f964c32b58abec4cb957f87",
      "max": 500,
      "min": 0,
      "orientation": "horizontal",
      "style": "IPY_MODEL_5241f9361a0045f981fa04c9e6e3384e",
      "value": 500
     }
    },
    "155c919aeb60444fab001c6705695511": {
     "model_module": "@jupyter-widgets/base",
     "model_module_version": "1.2.0",
     "model_name": "LayoutModel",
     "state": {
      "_model_module": "@jupyter-widgets/base",
      "_model_module_version": "1.2.0",
      "_model_name": "LayoutModel",
      "_view_count": null,
      "_view_module": "@jupyter-widgets/base",
      "_view_module_version": "1.2.0",
      "_view_name": "LayoutView",
      "align_content": null,
      "align_items": null,
      "align_self": null,
      "border": null,
      "bottom": null,
      "display": null,
      "flex": null,
      "flex_flow": null,
      "grid_area": null,
      "grid_auto_columns": null,
      "grid_auto_flow": null,
      "grid_auto_rows": null,
      "grid_column": null,
      "grid_gap": null,
      "grid_row": null,
      "grid_template_areas": null,
      "grid_template_columns": null,
      "grid_template_rows": null,
      "height": null,
      "justify_content": null,
      "justify_items": null,
      "left": null,
      "margin": null,
      "max_height": null,
      "max_width": null,
      "min_height": null,
      "min_width": null,
      "object_fit": null,
      "object_position": null,
      "order": null,
      "overflow": null,
      "overflow_x": null,
      "overflow_y": null,
      "padding": null,
      "right": null,
      "top": null,
      "visibility": null,
      "width": null
     }
    },
    "1e045967144a4a2fa110ed2a78793aed": {
     "model_module": "@jupyter-widgets/controls",
     "model_module_version": "1.5.0",
     "model_name": "DescriptionStyleModel",
     "state": {
      "_model_module": "@jupyter-widgets/controls",
      "_model_module_version": "1.5.0",
      "_model_name": "DescriptionStyleModel",
      "_view_count": null,
      "_view_module": "@jupyter-widgets/base",
      "_view_module_version": "1.2.0",
      "_view_name": "StyleView",
      "description_width": ""
     }
    },
    "22e4f7a760ea450fa501abf58d514ad0": {
     "model_module": "@jupyter-widgets/controls",
     "model_module_version": "1.5.0",
     "model_name": "HBoxModel",
     "state": {
      "_dom_classes": [],
      "_model_module": "@jupyter-widgets/controls",
      "_model_module_version": "1.5.0",
      "_model_name": "HBoxModel",
      "_view_count": null,
      "_view_module": "@jupyter-widgets/controls",
      "_view_module_version": "1.5.0",
      "_view_name": "HBoxView",
      "box_style": "",
      "children": [
       "IPY_MODEL_09bd48e52b8a487188444141f733533f",
       "IPY_MODEL_14f264fffd9b43dfa0f1a317b44577b2",
       "IPY_MODEL_2f8b945777dd49838a6d1201b18dde31"
      ],
      "layout": "IPY_MODEL_155c919aeb60444fab001c6705695511"
     }
    },
    "241777479b8048ea8f01be42a4cb62d8": {
     "model_module": "@jupyter-widgets/controls",
     "model_module_version": "1.5.0",
     "model_name": "HTMLModel",
     "state": {
      "_dom_classes": [],
      "_model_module": "@jupyter-widgets/controls",
      "_model_module_version": "1.5.0",
      "_model_name": "HTMLModel",
      "_view_count": null,
      "_view_module": "@jupyter-widgets/controls",
      "_view_module_version": "1.5.0",
      "_view_name": "HTMLView",
      "description": "",
      "description_tooltip": null,
      "layout": "IPY_MODEL_eb35dc963f6d4a2ca861191213eaa3dc",
      "placeholder": "​",
      "style": "IPY_MODEL_00c84f3c07b34239b0a1839986434a4d",
      "value": "100%"
     }
    },
    "277f1bfe8e46436184d71ddbc932f22d": {
     "model_module": "@jupyter-widgets/controls",
     "model_module_version": "1.5.0",
     "model_name": "DescriptionStyleModel",
     "state": {
      "_model_module": "@jupyter-widgets/controls",
      "_model_module_version": "1.5.0",
      "_model_name": "DescriptionStyleModel",
      "_view_count": null,
      "_view_module": "@jupyter-widgets/base",
      "_view_module_version": "1.2.0",
      "_view_name": "StyleView",
      "description_width": ""
     }
    },
    "2ad964662b434861b9725e3628885a1a": {
     "model_module": "@jupyter-widgets/base",
     "model_module_version": "1.2.0",
     "model_name": "LayoutModel",
     "state": {
      "_model_module": "@jupyter-widgets/base",
      "_model_module_version": "1.2.0",
      "_model_name": "LayoutModel",
      "_view_count": null,
      "_view_module": "@jupyter-widgets/base",
      "_view_module_version": "1.2.0",
      "_view_name": "LayoutView",
      "align_content": null,
      "align_items": null,
      "align_self": null,
      "border": null,
      "bottom": null,
      "display": null,
      "flex": null,
      "flex_flow": null,
      "grid_area": null,
      "grid_auto_columns": null,
      "grid_auto_flow": null,
      "grid_auto_rows": null,
      "grid_column": null,
      "grid_gap": null,
      "grid_row": null,
      "grid_template_areas": null,
      "grid_template_columns": null,
      "grid_template_rows": null,
      "height": null,
      "justify_content": null,
      "justify_items": null,
      "left": null,
      "margin": null,
      "max_height": null,
      "max_width": null,
      "min_height": null,
      "min_width": null,
      "object_fit": null,
      "object_position": null,
      "order": null,
      "overflow": null,
      "overflow_x": null,
      "overflow_y": null,
      "padding": null,
      "right": null,
      "top": null,
      "visibility": null,
      "width": null
     }
    },
    "2f8b945777dd49838a6d1201b18dde31": {
     "model_module": "@jupyter-widgets/controls",
     "model_module_version": "1.5.0",
     "model_name": "HTMLModel",
     "state": {
      "_dom_classes": [],
      "_model_module": "@jupyter-widgets/controls",
      "_model_module_version": "1.5.0",
      "_model_name": "HTMLModel",
      "_view_count": null,
      "_view_module": "@jupyter-widgets/controls",
      "_view_module_version": "1.5.0",
      "_view_name": "HTMLView",
      "description": "",
      "description_tooltip": null,
      "layout": "IPY_MODEL_a5adc1d1a3c24aabbe568c7c4a5cb3d5",
      "placeholder": "​",
      "style": "IPY_MODEL_1e045967144a4a2fa110ed2a78793aed",
      "value": " 500/500 [00:00&lt;00:00, 5604.69it/s]"
     }
    },
    "33495329c94247f48c9703ca8dad391a": {
     "model_module": "@jupyter-widgets/controls",
     "model_module_version": "1.5.0",
     "model_name": "HBoxModel",
     "state": {
      "_dom_classes": [],
      "_model_module": "@jupyter-widgets/controls",
      "_model_module_version": "1.5.0",
      "_model_name": "HBoxModel",
      "_view_count": null,
      "_view_module": "@jupyter-widgets/controls",
      "_view_module_version": "1.5.0",
      "_view_name": "HBoxView",
      "box_style": "",
      "children": [
       "IPY_MODEL_3e3e81a7792e4016ab7e17031fa4895a",
       "IPY_MODEL_aa08bdf19db74fafad52441d939bcb5e",
       "IPY_MODEL_885f4643b6f44598862eeb6072041f2f"
      ],
      "layout": "IPY_MODEL_e5089f91ade4433fa887905d703a64db"
     }
    },
    "3418357041e547ea864e53242117e9e7": {
     "model_module": "@jupyter-widgets/base",
     "model_module_version": "1.2.0",
     "model_name": "LayoutModel",
     "state": {
      "_model_module": "@jupyter-widgets/base",
      "_model_module_version": "1.2.0",
      "_model_name": "LayoutModel",
      "_view_count": null,
      "_view_module": "@jupyter-widgets/base",
      "_view_module_version": "1.2.0",
      "_view_name": "LayoutView",
      "align_content": null,
      "align_items": null,
      "align_self": null,
      "border": null,
      "bottom": null,
      "display": null,
      "flex": null,
      "flex_flow": null,
      "grid_area": null,
      "grid_auto_columns": null,
      "grid_auto_flow": null,
      "grid_auto_rows": null,
      "grid_column": null,
      "grid_gap": null,
      "grid_row": null,
      "grid_template_areas": null,
      "grid_template_columns": null,
      "grid_template_rows": null,
      "height": null,
      "justify_content": null,
      "justify_items": null,
      "left": null,
      "margin": null,
      "max_height": null,
      "max_width": null,
      "min_height": null,
      "min_width": null,
      "object_fit": null,
      "object_position": null,
      "order": null,
      "overflow": null,
      "overflow_x": null,
      "overflow_y": null,
      "padding": null,
      "right": null,
      "top": null,
      "visibility": null,
      "width": null
     }
    },
    "34c85a7ef60e4172b224aebb6f9a6455": {
     "model_module": "@jupyter-widgets/controls",
     "model_module_version": "1.5.0",
     "model_name": "DescriptionStyleModel",
     "state": {
      "_model_module": "@jupyter-widgets/controls",
      "_model_module_version": "1.5.0",
      "_model_name": "DescriptionStyleModel",
      "_view_count": null,
      "_view_module": "@jupyter-widgets/base",
      "_view_module_version": "1.2.0",
      "_view_name": "StyleView",
      "description_width": ""
     }
    },
    "3e3e81a7792e4016ab7e17031fa4895a": {
     "model_module": "@jupyter-widgets/controls",
     "model_module_version": "1.5.0",
     "model_name": "HTMLModel",
     "state": {
      "_dom_classes": [],
      "_model_module": "@jupyter-widgets/controls",
      "_model_module_version": "1.5.0",
      "_model_name": "HTMLModel",
      "_view_count": null,
      "_view_module": "@jupyter-widgets/controls",
      "_view_module_version": "1.5.0",
      "_view_name": "HTMLView",
      "description": "",
      "description_tooltip": null,
      "layout": "IPY_MODEL_147e028609084ce78f01671cf6e47d80",
      "placeholder": "​",
      "style": "IPY_MODEL_e10ad3a635db4452961c8770a31832c9",
      "value": "100%"
     }
    },
    "5241f9361a0045f981fa04c9e6e3384e": {
     "model_module": "@jupyter-widgets/controls",
     "model_module_version": "1.5.0",
     "model_name": "ProgressStyleModel",
     "state": {
      "_model_module": "@jupyter-widgets/controls",
      "_model_module_version": "1.5.0",
      "_model_name": "ProgressStyleModel",
      "_view_count": null,
      "_view_module": "@jupyter-widgets/base",
      "_view_module_version": "1.2.0",
      "_view_name": "StyleView",
      "bar_color": null,
      "description_width": ""
     }
    },
    "5561417958424345882440e7a100cc08": {
     "model_module": "@jupyter-widgets/base",
     "model_module_version": "1.2.0",
     "model_name": "LayoutModel",
     "state": {
      "_model_module": "@jupyter-widgets/base",
      "_model_module_version": "1.2.0",
      "_model_name": "LayoutModel",
      "_view_count": null,
      "_view_module": "@jupyter-widgets/base",
      "_view_module_version": "1.2.0",
      "_view_name": "LayoutView",
      "align_content": null,
      "align_items": null,
      "align_self": null,
      "border": null,
      "bottom": null,
      "display": null,
      "flex": null,
      "flex_flow": null,
      "grid_area": null,
      "grid_auto_columns": null,
      "grid_auto_flow": null,
      "grid_auto_rows": null,
      "grid_column": null,
      "grid_gap": null,
      "grid_row": null,
      "grid_template_areas": null,
      "grid_template_columns": null,
      "grid_template_rows": null,
      "height": null,
      "justify_content": null,
      "justify_items": null,
      "left": null,
      "margin": null,
      "max_height": null,
      "max_width": null,
      "min_height": null,
      "min_width": null,
      "object_fit": null,
      "object_position": null,
      "order": null,
      "overflow": null,
      "overflow_x": null,
      "overflow_y": null,
      "padding": null,
      "right": null,
      "top": null,
      "visibility": null,
      "width": null
     }
    },
    "7b5301ad98074358b77c890cde07f350": {
     "model_module": "@jupyter-widgets/base",
     "model_module_version": "1.2.0",
     "model_name": "LayoutModel",
     "state": {
      "_model_module": "@jupyter-widgets/base",
      "_model_module_version": "1.2.0",
      "_model_name": "LayoutModel",
      "_view_count": null,
      "_view_module": "@jupyter-widgets/base",
      "_view_module_version": "1.2.0",
      "_view_name": "LayoutView",
      "align_content": null,
      "align_items": null,
      "align_self": null,
      "border": null,
      "bottom": null,
      "display": null,
      "flex": null,
      "flex_flow": null,
      "grid_area": null,
      "grid_auto_columns": null,
      "grid_auto_flow": null,
      "grid_auto_rows": null,
      "grid_column": null,
      "grid_gap": null,
      "grid_row": null,
      "grid_template_areas": null,
      "grid_template_columns": null,
      "grid_template_rows": null,
      "height": null,
      "justify_content": null,
      "justify_items": null,
      "left": null,
      "margin": null,
      "max_height": null,
      "max_width": null,
      "min_height": null,
      "min_width": null,
      "object_fit": null,
      "object_position": null,
      "order": null,
      "overflow": null,
      "overflow_x": null,
      "overflow_y": null,
      "padding": null,
      "right": null,
      "top": null,
      "visibility": null,
      "width": null
     }
    },
    "83b6032703db4ab4a3a6c28447de3298": {
     "model_module": "@jupyter-widgets/controls",
     "model_module_version": "1.5.0",
     "model_name": "HBoxModel",
     "state": {
      "_dom_classes": [],
      "_model_module": "@jupyter-widgets/controls",
      "_model_module_version": "1.5.0",
      "_model_name": "HBoxModel",
      "_view_count": null,
      "_view_module": "@jupyter-widgets/controls",
      "_view_module_version": "1.5.0",
      "_view_name": "HBoxView",
      "box_style": "",
      "children": [
       "IPY_MODEL_241777479b8048ea8f01be42a4cb62d8",
       "IPY_MODEL_c28d25b6e3744015baecb3b990cda5b0",
       "IPY_MODEL_cf29688d2f9f422a83c4abb5ab76c050"
      ],
      "layout": "IPY_MODEL_3418357041e547ea864e53242117e9e7"
     }
    },
    "885f4643b6f44598862eeb6072041f2f": {
     "model_module": "@jupyter-widgets/controls",
     "model_module_version": "1.5.0",
     "model_name": "HTMLModel",
     "state": {
      "_dom_classes": [],
      "_model_module": "@jupyter-widgets/controls",
      "_model_module_version": "1.5.0",
      "_model_name": "HTMLModel",
      "_view_count": null,
      "_view_module": "@jupyter-widgets/controls",
      "_view_module_version": "1.5.0",
      "_view_name": "HTMLView",
      "description": "",
      "description_tooltip": null,
      "layout": "IPY_MODEL_b7095a8a14a34132b108d88dfedd324d",
      "placeholder": "​",
      "style": "IPY_MODEL_128943b0b9214aedb8264adcafdba2ff",
      "value": " 5/5 [00:00&lt;00:00, 88.40it/s]"
     }
    },
    "923659fcb3a54d6abd86799e006fce68": {
     "model_module": "@jupyter-widgets/controls",
     "model_module_version": "1.5.0",
     "model_name": "ProgressStyleModel",
     "state": {
      "_model_module": "@jupyter-widgets/controls",
      "_model_module_version": "1.5.0",
      "_model_name": "ProgressStyleModel",
      "_view_count": null,
      "_view_module": "@jupyter-widgets/base",
      "_view_module_version": "1.2.0",
      "_view_name": "StyleView",
      "bar_color": null,
      "description_width": ""
     }
    },
    "a5adc1d1a3c24aabbe568c7c4a5cb3d5": {
     "model_module": "@jupyter-widgets/base",
     "model_module_version": "1.2.0",
     "model_name": "LayoutModel",
     "state": {
      "_model_module": "@jupyter-widgets/base",
      "_model_module_version": "1.2.0",
      "_model_name": "LayoutModel",
      "_view_count": null,
      "_view_module": "@jupyter-widgets/base",
      "_view_module_version": "1.2.0",
      "_view_name": "LayoutView",
      "align_content": null,
      "align_items": null,
      "align_self": null,
      "border": null,
      "bottom": null,
      "display": null,
      "flex": null,
      "flex_flow": null,
      "grid_area": null,
      "grid_auto_columns": null,
      "grid_auto_flow": null,
      "grid_auto_rows": null,
      "grid_column": null,
      "grid_gap": null,
      "grid_row": null,
      "grid_template_areas": null,
      "grid_template_columns": null,
      "grid_template_rows": null,
      "height": null,
      "justify_content": null,
      "justify_items": null,
      "left": null,
      "margin": null,
      "max_height": null,
      "max_width": null,
      "min_height": null,
      "min_width": null,
      "object_fit": null,
      "object_position": null,
      "order": null,
      "overflow": null,
      "overflow_x": null,
      "overflow_y": null,
      "padding": null,
      "right": null,
      "top": null,
      "visibility": null,
      "width": null
     }
    },
    "aa08bdf19db74fafad52441d939bcb5e": {
     "model_module": "@jupyter-widgets/controls",
     "model_module_version": "1.5.0",
     "model_name": "FloatProgressModel",
     "state": {
      "_dom_classes": [],
      "_model_module": "@jupyter-widgets/controls",
      "_model_module_version": "1.5.0",
      "_model_name": "FloatProgressModel",
      "_view_count": null,
      "_view_module": "@jupyter-widgets/controls",
      "_view_module_version": "1.5.0",
      "_view_name": "ProgressView",
      "bar_style": "success",
      "description": "",
      "description_tooltip": null,
      "layout": "IPY_MODEL_7b5301ad98074358b77c890cde07f350",
      "max": 5,
      "min": 0,
      "orientation": "horizontal",
      "style": "IPY_MODEL_923659fcb3a54d6abd86799e006fce68",
      "value": 5
     }
    },
    "b7095a8a14a34132b108d88dfedd324d": {
     "model_module": "@jupyter-widgets/base",
     "model_module_version": "1.2.0",
     "model_name": "LayoutModel",
     "state": {
      "_model_module": "@jupyter-widgets/base",
      "_model_module_version": "1.2.0",
      "_model_name": "LayoutModel",
      "_view_count": null,
      "_view_module": "@jupyter-widgets/base",
      "_view_module_version": "1.2.0",
      "_view_name": "LayoutView",
      "align_content": null,
      "align_items": null,
      "align_self": null,
      "border": null,
      "bottom": null,
      "display": null,
      "flex": null,
      "flex_flow": null,
      "grid_area": null,
      "grid_auto_columns": null,
      "grid_auto_flow": null,
      "grid_auto_rows": null,
      "grid_column": null,
      "grid_gap": null,
      "grid_row": null,
      "grid_template_areas": null,
      "grid_template_columns": null,
      "grid_template_rows": null,
      "height": null,
      "justify_content": null,
      "justify_items": null,
      "left": null,
      "margin": null,
      "max_height": null,
      "max_width": null,
      "min_height": null,
      "min_width": null,
      "object_fit": null,
      "object_position": null,
      "order": null,
      "overflow": null,
      "overflow_x": null,
      "overflow_y": null,
      "padding": null,
      "right": null,
      "top": null,
      "visibility": null,
      "width": null
     }
    },
    "bd3358902f964c32b58abec4cb957f87": {
     "model_module": "@jupyter-widgets/base",
     "model_module_version": "1.2.0",
     "model_name": "LayoutModel",
     "state": {
      "_model_module": "@jupyter-widgets/base",
      "_model_module_version": "1.2.0",
      "_model_name": "LayoutModel",
      "_view_count": null,
      "_view_module": "@jupyter-widgets/base",
      "_view_module_version": "1.2.0",
      "_view_name": "LayoutView",
      "align_content": null,
      "align_items": null,
      "align_self": null,
      "border": null,
      "bottom": null,
      "display": null,
      "flex": null,
      "flex_flow": null,
      "grid_area": null,
      "grid_auto_columns": null,
      "grid_auto_flow": null,
      "grid_auto_rows": null,
      "grid_column": null,
      "grid_gap": null,
      "grid_row": null,
      "grid_template_areas": null,
      "grid_template_columns": null,
      "grid_template_rows": null,
      "height": null,
      "justify_content": null,
      "justify_items": null,
      "left": null,
      "margin": null,
      "max_height": null,
      "max_width": null,
      "min_height": null,
      "min_width": null,
      "object_fit": null,
      "object_position": null,
      "order": null,
      "overflow": null,
      "overflow_x": null,
      "overflow_y": null,
      "padding": null,
      "right": null,
      "top": null,
      "visibility": null,
      "width": null
     }
    },
    "c28d25b6e3744015baecb3b990cda5b0": {
     "model_module": "@jupyter-widgets/controls",
     "model_module_version": "1.5.0",
     "model_name": "FloatProgressModel",
     "state": {
      "_dom_classes": [],
      "_model_module": "@jupyter-widgets/controls",
      "_model_module_version": "1.5.0",
      "_model_name": "FloatProgressModel",
      "_view_count": null,
      "_view_module": "@jupyter-widgets/controls",
      "_view_module_version": "1.5.0",
      "_view_name": "ProgressView",
      "bar_style": "success",
      "description": "",
      "description_tooltip": null,
      "layout": "IPY_MODEL_ed6cfaf1bb0a4902935d788385054b4f",
      "max": 500,
      "min": 0,
      "orientation": "horizontal",
      "style": "IPY_MODEL_e8fbf656d76745449edbc0755f122d18",
      "value": 500
     }
    },
    "cf29688d2f9f422a83c4abb5ab76c050": {
     "model_module": "@jupyter-widgets/controls",
     "model_module_version": "1.5.0",
     "model_name": "HTMLModel",
     "state": {
      "_dom_classes": [],
      "_model_module": "@jupyter-widgets/controls",
      "_model_module_version": "1.5.0",
      "_model_name": "HTMLModel",
      "_view_count": null,
      "_view_module": "@jupyter-widgets/controls",
      "_view_module_version": "1.5.0",
      "_view_name": "HTMLView",
      "description": "",
      "description_tooltip": null,
      "layout": "IPY_MODEL_5561417958424345882440e7a100cc08",
      "placeholder": "​",
      "style": "IPY_MODEL_34c85a7ef60e4172b224aebb6f9a6455",
      "value": " 500/500 [01:25&lt;00:00,  6.14it/s]"
     }
    },
    "e10ad3a635db4452961c8770a31832c9": {
     "model_module": "@jupyter-widgets/controls",
     "model_module_version": "1.5.0",
     "model_name": "DescriptionStyleModel",
     "state": {
      "_model_module": "@jupyter-widgets/controls",
      "_model_module_version": "1.5.0",
      "_model_name": "DescriptionStyleModel",
      "_view_count": null,
      "_view_module": "@jupyter-widgets/base",
      "_view_module_version": "1.2.0",
      "_view_name": "StyleView",
      "description_width": ""
     }
    },
    "e5089f91ade4433fa887905d703a64db": {
     "model_module": "@jupyter-widgets/base",
     "model_module_version": "1.2.0",
     "model_name": "LayoutModel",
     "state": {
      "_model_module": "@jupyter-widgets/base",
      "_model_module_version": "1.2.0",
      "_model_name": "LayoutModel",
      "_view_count": null,
      "_view_module": "@jupyter-widgets/base",
      "_view_module_version": "1.2.0",
      "_view_name": "LayoutView",
      "align_content": null,
      "align_items": null,
      "align_self": null,
      "border": null,
      "bottom": null,
      "display": null,
      "flex": null,
      "flex_flow": null,
      "grid_area": null,
      "grid_auto_columns": null,
      "grid_auto_flow": null,
      "grid_auto_rows": null,
      "grid_column": null,
      "grid_gap": null,
      "grid_row": null,
      "grid_template_areas": null,
      "grid_template_columns": null,
      "grid_template_rows": null,
      "height": null,
      "justify_content": null,
      "justify_items": null,
      "left": null,
      "margin": null,
      "max_height": null,
      "max_width": null,
      "min_height": null,
      "min_width": null,
      "object_fit": null,
      "object_position": null,
      "order": null,
      "overflow": null,
      "overflow_x": null,
      "overflow_y": null,
      "padding": null,
      "right": null,
      "top": null,
      "visibility": null,
      "width": null
     }
    },
    "e8fbf656d76745449edbc0755f122d18": {
     "model_module": "@jupyter-widgets/controls",
     "model_module_version": "1.5.0",
     "model_name": "ProgressStyleModel",
     "state": {
      "_model_module": "@jupyter-widgets/controls",
      "_model_module_version": "1.5.0",
      "_model_name": "ProgressStyleModel",
      "_view_count": null,
      "_view_module": "@jupyter-widgets/base",
      "_view_module_version": "1.2.0",
      "_view_name": "StyleView",
      "bar_color": null,
      "description_width": ""
     }
    },
    "eb35dc963f6d4a2ca861191213eaa3dc": {
     "model_module": "@jupyter-widgets/base",
     "model_module_version": "1.2.0",
     "model_name": "LayoutModel",
     "state": {
      "_model_module": "@jupyter-widgets/base",
      "_model_module_version": "1.2.0",
      "_model_name": "LayoutModel",
      "_view_count": null,
      "_view_module": "@jupyter-widgets/base",
      "_view_module_version": "1.2.0",
      "_view_name": "LayoutView",
      "align_content": null,
      "align_items": null,
      "align_self": null,
      "border": null,
      "bottom": null,
      "display": null,
      "flex": null,
      "flex_flow": null,
      "grid_area": null,
      "grid_auto_columns": null,
      "grid_auto_flow": null,
      "grid_auto_rows": null,
      "grid_column": null,
      "grid_gap": null,
      "grid_row": null,
      "grid_template_areas": null,
      "grid_template_columns": null,
      "grid_template_rows": null,
      "height": null,
      "justify_content": null,
      "justify_items": null,
      "left": null,
      "margin": null,
      "max_height": null,
      "max_width": null,
      "min_height": null,
      "min_width": null,
      "object_fit": null,
      "object_position": null,
      "order": null,
      "overflow": null,
      "overflow_x": null,
      "overflow_y": null,
      "padding": null,
      "right": null,
      "top": null,
      "visibility": null,
      "width": null
     }
    },
    "ed6cfaf1bb0a4902935d788385054b4f": {
     "model_module": "@jupyter-widgets/base",
     "model_module_version": "1.2.0",
     "model_name": "LayoutModel",
     "state": {
      "_model_module": "@jupyter-widgets/base",
      "_model_module_version": "1.2.0",
      "_model_name": "LayoutModel",
      "_view_count": null,
      "_view_module": "@jupyter-widgets/base",
      "_view_module_version": "1.2.0",
      "_view_name": "LayoutView",
      "align_content": null,
      "align_items": null,
      "align_self": null,
      "border": null,
      "bottom": null,
      "display": null,
      "flex": null,
      "flex_flow": null,
      "grid_area": null,
      "grid_auto_columns": null,
      "grid_auto_flow": null,
      "grid_auto_rows": null,
      "grid_column": null,
      "grid_gap": null,
      "grid_row": null,
      "grid_template_areas": null,
      "grid_template_columns": null,
      "grid_template_rows": null,
      "height": null,
      "justify_content": null,
      "justify_items": null,
      "left": null,
      "margin": null,
      "max_height": null,
      "max_width": null,
      "min_height": null,
      "min_width": null,
      "object_fit": null,
      "object_position": null,
      "order": null,
      "overflow": null,
      "overflow_x": null,
      "overflow_y": null,
      "padding": null,
      "right": null,
      "top": null,
      "visibility": null,
      "width": null
     }
    }
   }
  }
 },
 "nbformat": 4,
 "nbformat_minor": 4
}
