{
 "cells": [
  {
   "cell_type": "markdown",
   "id": "ambient-crest",
   "metadata": {},
   "source": [
    "<a href=\"https://colab.research.google.com/github/liao961120/hgct/blob/main/docs_source/nb/corpusAnalysis.ipynb\" target=\"_parent\"><img src=\"https://colab.research.google.com/assets/colab-badge.svg\" alt=\"Open In Colab\"/></a>"
   ]
  },
  {
   "cell_type": "code",
   "execution_count": 1,
   "id": "divided-bulgaria",
   "metadata": {},
   "outputs": [],
   "source": [
    "## Colab setup\n",
    "# !gdown https://github.com/liao961120/hgct/raw/main/test/data.zip\n",
    "# !unzip -q data.zip\n",
    "# !pip install -qU hgct"
   ]
  },
  {
   "cell_type": "markdown",
   "id": "geological-fifteen",
   "metadata": {},
   "source": [
    "# Corpus Analysis API in *hgtk*"
   ]
  },
  {
   "cell_type": "markdown",
   "id": "moved-dover",
   "metadata": {},
   "source": [
    "In this second tutorial, we demonstrate functions for quantitative\n",
    "analysis of the corpus in *hgct*. To get started, we need two additional\n",
    "objects `CompoAnalysis` and `Dispersion` in addition to the\n",
    "`Concordancer` object introduced in the previous tutorial. The corpus\n",
    "used is identical to the one in Appendix A.\n",
    "\n",
    "Note that when initializing with `CompoAnalysis()` and\n",
    "`PlainTextReader()`, the argument `auto_load=False` needs to be given to\n",
    "`PlainTextReader()`. This prevents the full corpus to be loaded into the\n",
    "memory, such that functionalities provided by `CompoAnalysis` could be\n",
    "used to analyze large data that do not fit into the computer’s memory.\n",
    "For more information, refer to the source code on GitHub[1].\n",
    "\n",
    "[1] https://github.com/liao961120/hgct/blob/main/hgct/compoAnalysis.py"
   ]
  },
  {
   "cell_type": "code",
   "execution_count": 18,
   "id": "grave-credit",
   "metadata": {
    "outputId": "7f4ed6ea-3787-423d-f2cf-66e77c4e13f3"
   },
   "outputs": [],
   "source": [
    "import pandas as pd\n",
    "from hgct import PlainTextReader, Concordancer\n",
    "from hgct import CompoAnalysis, Dispersion\n",
    "\n",
    "CC = Concordancer(PlainTextReader(\"data/\").corpus)\n",
    "CA = CompoAnalysis(PlainTextReader(\"data/\", auto_load=False))\n",
    "DP = Dispersion(PlainTextReader(\"data/\").corpus)"
   ]
  },
  {
   "cell_type": "markdown",
   "id": "black-gathering",
   "metadata": {},
   "source": [
    "## Frequency List (Distribution)\n",
    "\n",
    "Frequency lists are provided by the function\n",
    "`CompoAnalysis.freq_distr()`. Based on the arguments passed, this\n",
    "function computes and returns the frequency distribution of either the\n",
    "characters, IDCs, Kangxi radicals, or characters with a given\n",
    "radical/component. Below, we demonstrate each of these types of\n",
    "frequency distributions."
   ]
  },
  {
   "cell_type": "markdown",
   "id": "balanced-inspiration",
   "metadata": {},
   "source": [
    "### Character\n",
    "\n",
    "To return the frequency distribution of the characters in the corpus,\n",
    "set the argument `tp` to `\"chr\"`. `CompoAnalysis.freq_distr()` by\n",
    "default returns a `Counter`[1], which has the convenient method\n",
    "`most_common()` that could be used to retrieve the terms with the\n",
    "highest frequencies.\n",
    "\n",
    "[1] https://docs.python.org/3/library/collections.html#collections.Counter"
   ]
  },
  {
   "cell_type": "code",
   "execution_count": null,
   "id": "sharing-facial",
   "metadata": {
    "colab": {
     "base_uri": "https://localhost:8080/"
    },
    "outputId": "fad03fd0-8e33-4a89-bac8-31e37b36181e"
   },
   "outputs": [
    {
     "data": {
      "text/plain": [
       "[('之', 210608), ('不', 129212), ('也', 107639), ('以', 104578)]"
      ]
     },
     "execution_count": 6,
     "metadata": {},
     "output_type": "execute_result"
    }
   ],
   "source": [
    "CA.freq_distr(tp=\"chr\").most_common(4)"
   ]
  },
  {
   "cell_type": "markdown",
   "id": "annoying-sailing",
   "metadata": {},
   "source": [
    "As mentioned in @sec:app-search-by-character, we could limit the scope\n",
    "of calculation to a particular subcorpus by specifying its index. To do\n",
    "this, pass the argument `subcorp_idx` to the function. The example below\n",
    "sets the subcorpus to `3`, which is the subcorpus of modern Chinese\n",
    "(ASBC)."
   ]
  },
  {
   "cell_type": "code",
   "execution_count": null,
   "id": "sorted-religion",
   "metadata": {
    "colab": {
     "base_uri": "https://localhost:8080/"
    },
    "outputId": "6a16b4da-46fc-4f23-fe6d-8b0391d218aa"
   },
   "outputs": [
    {
     "data": {
      "text/plain": [
       "[('的', 15826), ('一', 5537), ('是', 5130), ('不', 4469)]"
      ]
     },
     "execution_count": 107,
     "metadata": {},
     "output_type": "execute_result"
    }
   ],
   "source": [
    "CA.freq_distr(tp=\"chr\", subcorp_idx=3).most_common(4)"
   ]
  },
  {
   "cell_type": "markdown",
   "id": "chubby-orchestra",
   "metadata": {},
   "source": [
    "### IDC\n",
    "\n",
    "Frequency distributions of the Ideographic Description Characters (IDCs)\n",
    "could similarly be retrieved by setting `tp` to `\"idc\"`. Note that there\n",
    "is an argument `use_chr_types` that applies when `tp=\"idc\"` (IDC) or\n",
    "`tp=\"rad\"` (radical). `use_chr_types` is used to determine how to\n",
    "compute the frequencies. If it is set to `False`, character frequencies\n",
    "are considered. If it is `True`, character frequencies are discarded. In\n",
    "other words, when `use_chr_types=False`, an IDC or a radical would only\n",
    "be counted once for each type of character. See @sec:frequency-lists for\n",
    "a toy example."
   ]
  },
  {
   "cell_type": "code",
   "execution_count": null,
   "id": "bright-particle",
   "metadata": {
    "colab": {
     "base_uri": "https://localhost:8080/"
    },
    "outputId": "70308d2f-eaa5-4a1e-f5f2-78c8ed145134"
   },
   "outputs": [
    {
     "data": {
      "text/plain": [
       "Counter({'': 48725,\n",
       "         '⿰': 167681,\n",
       "         '⿱': 120035,\n",
       "         '⿲': 1965,\n",
       "         '⿳': 4068,\n",
       "         '⿴': 5744,\n",
       "         '⿵': 7834,\n",
       "         '⿶': 1637,\n",
       "         '⿷': 537,\n",
       "         '⿸': 18511,\n",
       "         '⿹': 4412,\n",
       "         '⿺': 13451,\n",
       "         '⿻': 10324})"
      ]
     },
     "execution_count": 27,
     "metadata": {},
     "output_type": "execute_result"
    }
   ],
   "source": [
    "CA.freq_distr(tp=\"idc\", subcorp_idx=3)"
   ]
  },
  {
   "cell_type": "code",
   "execution_count": null,
   "id": "statutory-tiger",
   "metadata": {
    "colab": {
     "base_uri": "https://localhost:8080/"
    },
    "outputId": "61b02428-8486-40fb-d401-962f104a058e"
   },
   "outputs": [
    {
     "data": {
      "text/plain": [
       "Counter({'': 119,\n",
       "         '⿰': 2454,\n",
       "         '⿱': 1019,\n",
       "         '⿲': 26,\n",
       "         '⿳': 39,\n",
       "         '⿴': 18,\n",
       "         '⿵': 45,\n",
       "         '⿶': 6,\n",
       "         '⿷': 12,\n",
       "         '⿸': 176,\n",
       "         '⿹': 41,\n",
       "         '⿺': 123,\n",
       "         '⿻': 32})"
      ]
     },
     "execution_count": 28,
     "metadata": {},
     "output_type": "execute_result"
    }
   ],
   "source": [
    "CA.freq_distr(tp=\"idc\", use_chr_types=True, subcorp_idx=3)"
   ]
  },
  {
   "cell_type": "markdown",
   "id": "treated-argument",
   "metadata": {},
   "source": [
    "### Radical\n",
    "\n",
    "To retrieve frequency distributions for radicals, set `tp=\"rad\"`. The\n",
    "usage of `use_chr_types` here is similar to the IDC described above."
   ]
  },
  {
   "cell_type": "code",
   "execution_count": null,
   "id": "instructional-companion",
   "metadata": {
    "colab": {
     "base_uri": "https://localhost:8080/"
    },
    "outputId": "22309249-a191-49a0-a1dc-e7941e6fdc8a"
   },
   "outputs": [
    {
     "data": {
      "text/plain": [
       "[('人', 28149), ('白', 16640), ('一', 15567), ('口', 15443)]"
      ]
     },
     "execution_count": 26,
     "metadata": {},
     "output_type": "execute_result"
    }
   ],
   "source": [
    "CA.freq_distr(tp=\"rad\", subcorp_idx=3).most_common(4)"
   ]
  },
  {
   "cell_type": "code",
   "execution_count": null,
   "id": "objective-aquarium",
   "metadata": {
    "colab": {
     "base_uri": "https://localhost:8080/"
    },
    "outputId": "8e428ea7-94e7-4f81-92fe-220acdc079aa"
   },
   "outputs": [
    {
     "data": {
      "text/plain": [
       "[('水', 233), ('口', 207), ('手', 201), ('人', 172)]"
      ]
     },
     "execution_count": 25,
     "metadata": {},
     "output_type": "execute_result"
    }
   ],
   "source": [
    "CA.freq_distr(tp=\"rad\", use_chr_types=True, subcorp_idx=3).most_common(4)"
   ]
  },
  {
   "cell_type": "markdown",
   "id": "particular-haven",
   "metadata": {},
   "source": [
    "### Characters with a given radical\n",
    "\n",
    "It is also possible to look into characters of a specific type. By\n",
    "setting `tp=None`, one could then pass in a radical to the argument\n",
    "`radical` to look at the frequency distribution of the characters with\n",
    "this particular radical."
   ]
  },
  {
   "cell_type": "code",
   "execution_count": null,
   "id": "egyptian-playlist",
   "metadata": {
    "colab": {
     "base_uri": "https://localhost:8080/"
    },
    "outputId": "504ab6ff-7b11-4add-d419-632bb21a6dee"
   },
   "outputs": [
    {
     "data": {
      "text/plain": [
       "[('度', 4757), ('廣', 4050), ('廟', 3067), ('府', 3064)]"
      ]
     },
     "execution_count": 30,
     "metadata": {},
     "output_type": "execute_result"
    }
   ],
   "source": [
    "CA.freq_distr(tp=None, radical=\"广\").most_common(4)"
   ]
  },
  {
   "cell_type": "markdown",
   "id": "refined-variable",
   "metadata": {},
   "source": [
    "### Characters with a given IDC component\n",
    "\n",
    "Similarly, a frequency distribution of characters of a specific type\n",
    "defined according to a component and an optional IDC describing the the\n",
    "shape could also be retrieved by specifying `tp=None` and the arguments\n",
    "`compo` and `idc` (optional)."
   ]
  },
  {
   "cell_type": "code",
   "execution_count": null,
   "id": "cross-corrections",
   "metadata": {
    "colab": {
     "base_uri": "https://localhost:8080/"
    },
    "outputId": "26d05b0d-1b7f-4771-b6ae-fb1f44cb465a"
   },
   "outputs": [
    {
     "data": {
      "text/plain": [
       "Counter({'氶': 1,\n",
       "         '汞': 15,\n",
       "         '沓': 89,\n",
       "         '泉': 1349,\n",
       "         '泵': 3,\n",
       "         '淼': 4,\n",
       "         '滎': 344,\n",
       "         '漀': 1,\n",
       "         '漐': 9,\n",
       "         '漿': 153,\n",
       "         '澩': 3,\n",
       "         '灓': 5})"
      ]
     },
     "execution_count": 111,
     "metadata": {},
     "output_type": "execute_result"
    }
   ],
   "source": [
    "CA.freq_distr(tp=None, compo=\"水\", idc=\"vert2\")"
   ]
  },
  {
   "cell_type": "markdown",
   "id": "solid-jackson",
   "metadata": {},
   "source": [
    "## Dispersion\n",
    "\n",
    "Measures of dispersion could be calculated based on a character or a\n",
    "search pattern."
   ]
  },
  {
   "cell_type": "markdown",
   "id": "friendly-average",
   "metadata": {},
   "source": [
    "### Dispersion Measures for Characters\n",
    "\n",
    "`Dispersion.char_dispersion()` is used for calculating dispersion\n",
    "measures for a character. The examples below—using the toy corpus in\n",
    "Gries (2020)—demonstrate the validity of the returned measure. The\n",
    "values should be identical to those in Table 1 of Gries (2020)."
   ]
  },
  {
   "cell_type": "code",
   "execution_count": null,
   "id": "great-receiver",
   "metadata": {
    "colab": {
     "base_uri": "https://localhost:8080/"
    },
    "outputId": "c7da95e8-271c-4b54-a47b-12b795937923"
   },
   "outputs": [
    {
     "data": {
      "text/plain": [
       "{'DP': 0.18,\n",
       " 'DPnorm': 0.2195121951219512,\n",
       " 'JuillandD': 0.7851504534504508,\n",
       " 'KLdivergence': 0.13697172936522078,\n",
       " 'Range': 5,\n",
       " 'RosengrenS': 0.9498163423042408}"
      ]
     },
     "execution_count": 45,
     "metadata": {},
     "output_type": "execute_result"
    }
   ],
   "source": [
    "# Gries (2020, Table 1)\n",
    "DP.char_dispersion(char='a', subcorp_idx=4)"
   ]
  },
  {
   "cell_type": "code",
   "execution_count": null,
   "id": "small-outside",
   "metadata": {
    "colab": {
     "base_uri": "https://localhost:8080/"
    },
    "outputId": "abbd07b4-e5b1-48f2-f5c6-48f264f94d5f"
   },
   "outputs": [
    {
     "data": {
      "text/plain": [
       "({'DP': 0.18,\n",
       "  'DPnorm': 0.2195121951219512,\n",
       "  'JuillandD': 0.7851504534504508,\n",
       "  'KLdivergence': 0.13697172936522078,\n",
       "  'Range': 5,\n",
       "  'RosengrenS': 0.9498163423042408},\n",
       " {'corpus_size': 50,\n",
       "  'f': 15,\n",
       "  'n': 5,\n",
       "  'p': [0.1111111111111111, 0.45454545454545453, 0.3, 0.2, 0.4],\n",
       "  's': [0.18, 0.22, 0.2, 0.2, 0.2],\n",
       "  'v': [1, 5, 3, 2, 4]})"
      ]
     },
     "execution_count": 46,
     "metadata": {},
     "output_type": "execute_result"
    }
   ],
   "source": [
    "# return_raw=True to get the raw data for dispersion calculation\n",
    "DP.char_dispersion(char='a', return_raw=True, subcorp_idx=4)"
   ]
  },
  {
   "cell_type": "markdown",
   "id": "indirect-cloud",
   "metadata": {},
   "source": [
    "To see how dispersion measures behave on real data, we calculate\n",
    "dispersion measures for four characters (之, 也, 草, and 巾) in a corpus\n",
    "of Literary Chinese texts. The first two characters 之 and 也 are often\n",
    "used as function words and the last two as content words in Literary\n",
    "Chinese. Hence, we would expect the first two to be distributed evenly,\n",
    "and the latter two unevenly in the corpus."
   ]
  },
  {
   "cell_type": "code",
   "execution_count": 27,
   "id": "freelance-wealth",
   "metadata": {
    "colab": {
     "base_uri": "https://localhost:8080/"
    },
    "outputId": "f4fb9e90-db5f-4a3e-e6f2-77beee785248"
   },
   "outputs": [],
   "source": [
    "subcorp_idx = 0\n",
    "df_disp = []\n",
    "for ch in '之也草巾':\n",
    "    stats, raw = DP.char_dispersion(\n",
    "        char=ch, subcorp_idx=subcorp_idx, return_raw=True\n",
    "    )\n",
    "    d = {\n",
    "        'char': ch,\n",
    "        'Range(%)': '{:.2f}'.format(100 * stats['Range'] / raw['n']),\n",
    "        **stats\n",
    "    }\n",
    "    df_disp.append(d)\n",
    "df_disp = pd.DataFrame(df_disp)\n",
    "df_disp"
   ]
  },
  {
   "cell_type": "markdown",
   "id": "bulgarian-judge",
   "metadata": {},
   "source": [
    "### Dispersion Measures of Complex Forms (defined by CQL)\n",
    "\n",
    "Dispersion measures for abstract units could also be calculated with the\n",
    "returned concordance lines provided by `Concordancer.cql_search()`. The\n",
    "function `DP.pattern_dispersion()` is designed to take the queried\n",
    "results from `Concordancer.cql_search()` to calculate dispersion\n",
    "measures."
   ]
  },
  {
   "cell_type": "code",
   "execution_count": 24,
   "id": "fifty-florence",
   "metadata": {
    "colab": {
     "base_uri": "https://localhost:8080/"
    },
    "outputId": "6ff562a5-3505-4b67-9f55-3fad4b0db066"
   },
   "outputs": [
    {
     "name": "stdout",
     "output_type": "stream",
     "text": [
      "Num of results: 8459\n",
      "<Concord 侯之心{惕惕}焉。」>\n",
      "<Concord 突盜，{惕悍}憍暴，>\n",
      "<Concord 皆有怵{惕惻}隱之心>"
     ]
    }
   ],
   "source": [
    "cql = \"\"\"\n",
    "[semtag=\"人體精神\"] [semtag=\"人體精神\"]\n",
    "\"\"\"\n",
    "results = list(CC.cql_search(cql, left=3, right=3))\n",
    "print('Num of results:', len(results))\n",
    "for r in results[:3]: print(r)"
   ]
  },
  {
   "cell_type": "code",
   "execution_count": null,
   "id": "gothic-truck",
   "metadata": {
    "colab": {
     "base_uri": "https://localhost:8080/"
    },
    "outputId": "27809c35-b950-411b-badc-a782084a2a93"
   },
   "outputs": [
    {
     "data": {
      "text/plain": [
       "{'DP': 0.1504848557289626,\n",
       " 'DPnorm': 0.15050344195568013,\n",
       " 'JuillandD': 0.9387038720245429,\n",
       " 'KLdivergence': 0.135483902941753,\n",
       " 'Range': 134,\n",
       " 'RosengrenS': 0.9428568965311757}"
      ]
     },
     "execution_count": 51,
     "metadata": {},
     "output_type": "execute_result"
    }
   ],
   "source": [
    "DP.pattern_dispersion(data=results, subcorp_idx=2)"
   ]
  },
  {
   "cell_type": "markdown",
   "id": "executed-airport",
   "metadata": {},
   "source": [
    "The example below calculates dispersion measures for **each subcorpus 0,\n",
    "1, and 2**. This is useful when the user is interested in contrasting\n",
    "dispersion measures in different corpora (e.g., genre/diachronic\n",
    "comparison)."
   ]
  },
  {
   "cell_type": "code",
   "execution_count": 28,
   "id": "different-custom",
   "metadata": {
    "colab": {
     "base_uri": "https://localhost:8080/"
    },
    "outputId": "ff57a5ea-396b-41a5-9f30-272831fc26f9"
   },
   "outputs": [],
   "source": [
    "# Compute separate dispersion measures for each subcorpus\n",
    "df_pat_disp = []\n",
    "for i in range(3):\n",
    "    stats, raw = DP.pattern_dispersion(\n",
    "        data=results, subcorp_idx=i, return_raw=True\n",
    "    )\n",
    "    d = {\n",
    "        'Range(%)': '{:.2f}'.format(100 * stats['Range'] / raw['n']),\n",
    "        **stats,\n",
    "        'freq': raw['f'],\n",
    "        'corp_size': raw['corpus_size']\n",
    "    }\n",
    "    df_pat_disp.append(d)\n",
    "df_pat_disp = pd.DataFrame(df_pat_disp)\n",
    "df_pat_disp"
   ]
  },
  {
   "cell_type": "markdown",
   "id": "ideal-perry",
   "metadata": {},
   "source": [
    "## Ngram Frequency\n",
    "\n",
    "We now turn to the relationships across characters. To compute character\n",
    "n-grams, one can use `Concordancer.freq_distr_ngrams()`."
   ]
  },
  {
   "cell_type": "code",
   "execution_count": 4,
   "id": "monetary-jesus",
   "metadata": {
    "outputId": "d556ccc6-54e8-4402-bbac-9da8390a5732"
   },
   "outputs": [
    {
     "data": {
      "text/plain": [
       "[('而不', 3913), ('天下', 3661), ('不可', 2985), ('之所', 2723)]"
      ]
     },
     "execution_count": 4,
     "metadata": {},
     "output_type": "execute_result"
    }
   ],
   "source": [
    "CC.freq_distr_ngrams(n=2, subcorp_idx=0).most_common(4)"
   ]
  },
  {
   "cell_type": "code",
   "execution_count": 5,
   "id": "grateful-budapest",
   "metadata": {
    "outputId": "78da0fc1-3cf6-4bb3-d5b4-0f0fa1dacec4"
   },
   "outputs": [
    {
     "data": {
      "text/plain": [
       "[('天下之', 946), ('歧伯曰', 766), ('之所以', 605), ('不可以', 580)]"
      ]
     },
     "execution_count": 5,
     "metadata": {},
     "output_type": "execute_result"
    }
   ],
   "source": [
    "CC.freq_distr_ngrams(n=3, subcorp_idx=0).most_common(4)"
   ]
  },
  {
   "cell_type": "markdown",
   "id": "endless-bleeding",
   "metadata": {},
   "source": [
    "## Collocation\n",
    "\n",
    "Association measures could be used to quantify the strengths of\n",
    "attraction between a pair of characters. Pairs with strong attractions\n",
    "could be considered as collocations. *hgct* implements two types of\n",
    "collocation extraction functions. The first\n",
    "(`Concordancer.bigram_associations()`) is based on bigrams, which simply\n",
    "computes association scores for all bigrams. With the second\n",
    "implementation (`Concordancer.collocates()`), users could specify a node\n",
    "and a window size, and characters falling within this window around the\n",
    "node would be treated as a node-collocate pair. Each pair is then\n",
    "computed for an association score."
   ]
  },
  {
   "cell_type": "markdown",
   "id": "located-academy",
   "metadata": {},
   "source": [
    "### Bigram Association"
   ]
  },
  {
   "cell_type": "code",
   "execution_count": 30,
   "id": "special-division",
   "metadata": {
    "outputId": "02db459f-26e0-419c-a113-647ba73b59f6"
   },
   "outputs": [
    {
     "data": {
      "text/plain": [
       "('自己',\n",
       " {'DeltaP12': 0.9778668701918644,\n",
       "  'DeltaP21': 0.36342714003090937,\n",
       "  'Dice': 0.5303392259913999,\n",
       "  'FisherExact': 0.0,\n",
       "  'Gsq': 6188.677676112116,\n",
       "  'MI': 7.855905225817536,\n",
       "  'RawCount': 555,\n",
       "  'Xsq': 128210.23324106314})"
      ]
     },
     "execution_count": 30,
     "metadata": {},
     "output_type": "execute_result"
    }
   ],
   "source": [
    "bi_asso = CC.bigram_associations(subcorp_idx=3, sort_by=\"Gsq\")\n",
    "bi_asso[0]"
   ]
  },
  {
   "cell_type": "code",
   "execution_count": 31,
   "id": "likely-original",
   "metadata": {
    "colab": {
     "base_uri": "https://localhost:8080/"
    },
    "outputId": "74f63848-2356-4142-b2a3-d30710b9274d"
   },
   "outputs": [],
   "source": [
    "d = pd.DataFrame([{'bigram': x[0], **x[1]} for x in bi_asso][:5])\n",
    "print(d.to_markdown(index=False, floatfmt=\".2f\", numalign=\"left\"))"
   ]
  },
  {
   "cell_type": "markdown",
   "id": "hollow-antarctica",
   "metadata": {},
   "source": [
    "### Node-Collocate Association\n",
    "\n",
    "The example below use the character sequence `我們` as the node and\n",
    "looks for collocates occurring on the immediate right (`left=0` and\n",
    "`right=1`) on the node. After computing association scores for each\n",
    "node-collocate pair, these pairs are sorted based on the MI measure. The\n",
    "data frame below shows the top-5 collocates with the highest MI scores\n",
    "(a minimum frequency threshold of 6 is applied) of the node `我們`."
   ]
  },
  {
   "cell_type": "code",
   "execution_count": 32,
   "id": "studied-district",
   "metadata": {
    "colab": {
     "base_uri": "https://localhost:8080/"
    },
    "outputId": "0843db4d-6313-4b1b-dd7f-f9c17720ba75"
   },
   "outputs": [
    {
     "data": {
      "text/plain": [
       "('釘',\n",
       " {'DeltaP12': 0.0016848237685590844,\n",
       "  'DeltaP21': 0.33204500782950214,\n",
       "  'Dice': 0.0033613445378151263,\n",
       "  'FisherExact': 0.003866505328061448,\n",
       "  'Gsq': 9.493215334772461,\n",
       "  'MI': 8.012895027477056,\n",
       "  'RawCount': 1,\n",
       "  'Xsq': 256.6351579547297})"
      ]
     },
     "execution_count": 32,
     "metadata": {},
     "output_type": "execute_result"
    }
   ],
   "source": [
    "cql = \"\"\"\n",
    "[char=\"我\"] [char=\"們\"]\n",
    "\"\"\"\n",
    "collo = CC.collocates(cql, left=0, right=1, subcorp_idx=3, \n",
    "                      sort_by=\"MI\", alpha=0)\n",
    "collo[0]"
   ]
  },
  {
   "cell_type": "code",
   "execution_count": 33,
   "id": "athletic-oracle",
   "metadata": {
    "colab": {
     "base_uri": "https://localhost:8080/"
    },
    "outputId": "a35d766e-c451-414c-fcb4-fa7bf6678eed"
   },
   "outputs": [],
   "source": [
    "d = pd.DataFrame([{'char': x[0], **x[1]} for x in collo \n",
    "                  if x[1]['RawCount'] > 5][:5])\n",
    "print(d.to_markdown(index=False, floatfmt=\".2f\", numalign=\"left\"))"
   ]
  },
  {
   "cell_type": "markdown",
   "id": "geographic-influence",
   "metadata": {},
   "source": [
    "## Productivity\n",
    "\n",
    "Finally, we demonstrate the usage of the tentative applications of\n",
    "Productivity measures \\[@baayen1993;@baayen2009\\] to character\n",
    "components. This is implemented in `CompoAnalysis.productivity()`. The\n",
    "categories for computing measures of productivity are defined based on\n",
    "the arguments passed."
   ]
  },
  {
   "cell_type": "code",
   "execution_count": null,
   "id": "jewish-tutorial",
   "metadata": {
    "colab": {
     "base_uri": "https://localhost:8080/"
    },
    "outputId": "c9059e29-b294-45aa-a2a4-f7bc2a84e2d3"
   },
   "outputs": [
    {
     "data": {
      "text/plain": [
       "{'N': 1505967,\n",
       " 'NC': 5889,\n",
       " 'V1': 1896,\n",
       " 'V1C': 7,\n",
       " 'productivity': {'expanding': 0.003691983122362869,\n",
       "  'potential': 0.0011886568177958906,\n",
       "  'realized': 58}}"
      ]
     },
     "execution_count": 71,
     "metadata": {},
     "output_type": "execute_result"
    }
   ],
   "source": [
    "# Productivity of a radical\n",
    "CA.productivity(radical=\"广\", subcorp_idx=0)"
   ]
  },
  {
   "cell_type": "code",
   "execution_count": null,
   "id": "golden-theory",
   "metadata": {
    "colab": {
     "base_uri": "https://localhost:8080/"
    },
    "outputId": "90dc4cf1-1353-442e-db42-be5aea8b8963"
   },
   "outputs": [
    {
     "data": {
      "text/plain": [
       "{'N': 1505967,\n",
       " 'NC': 1027,\n",
       " 'V1': 1896,\n",
       " 'V1C': 72,\n",
       " 'productivity': {'expanding': 0.0379746835443038,\n",
       "  'potential': 0.07010710808179163,\n",
       "  'realized': 178}}"
      ]
     },
     "execution_count": 72,
     "metadata": {},
     "output_type": "execute_result"
    }
   ],
   "source": [
    "# Productivity of a component\n",
    "CA.productivity(compo=\"虫\", idc=\"horz2\", pos=0, subcorp_idx=0)"
   ]
  },
  {
   "cell_type": "code",
   "execution_count": 34,
   "id": "burning-innocent",
   "metadata": {
    "colab": {
     "base_uri": "https://localhost:8080/"
    },
    "outputId": "d1840ffd-6b42-47d6-e5e7-732da7ac11d3"
   },
   "outputs": [],
   "source": [
    "# Productivity of Hanzi shapes (IDCs)\n",
    "df_prod = []\n",
    "for idc_nm, idc_val in CC.chr_idcs.items():   \n",
    "    p = CA.productivity(idc=idc_nm, subcorp_idx=0)\n",
    "    df_prod.append({\n",
    "        'name': idc_nm, \n",
    "        'shape': idc_val, \n",
    "        **p['productivity'],\n",
    "        'V1C': p['V1C'],\n",
    "        'V1': p['V1'],\n",
    "        'NC': p['NC'],\n",
    "        'N': p['N'],\n",
    "    })\n",
    "\n",
    "df_prod = pd.DataFrame(df_prod)\n",
    "df_prod"
   ]
  }
 ],
 "metadata": {
  "kernelspec": {
   "display_name": "py3.8",
   "language": "python",
   "name": "py3.8"
  },
  "language_info": {
   "codemirror_mode": {
    "name": "ipython",
    "version": 3
   },
   "file_extension": ".py",
   "mimetype": "text/x-python",
   "name": "python",
   "nbconvert_exporter": "python",
   "pygments_lexer": "ipython3",
   "version": "3.8.10"
  }
 },
 "nbformat": 4,
 "nbformat_minor": 5
}
