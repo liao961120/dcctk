{
  "nbformat": 4,
  "nbformat_minor": 5,
  "metadata": {
    "kernelspec": {
      "display_name": "py3.8",
      "language": "python",
      "name": "py3.8"
    },
    "language_info": {
      "codemirror_mode": {
        "name": "ipython",
        "version": 3
      },
      "file_extension": ".py",
      "mimetype": "text/x-python",
      "name": "python",
      "nbconvert_exporter": "python",
      "pygments_lexer": "ipython3",
      "version": "3.8.10"
    },
    "colab": {
      "name": "hgct_corpusAnalysis.ipynb",
      "provenance": [],
      "collapsed_sections": [],
      "toc_visible": true,
      "include_colab_link": true
    },
    "widgets": {
      "application/vnd.jupyter.widget-state+json": {
        "a2fa6e2842584e23bf1daed1f992022b": {
          "model_module": "@jupyter-widgets/controls",
          "model_name": "HBoxModel",
          "model_module_version": "1.5.0",
          "state": {
            "_view_name": "HBoxView",
            "_dom_classes": [],
            "_model_name": "HBoxModel",
            "_view_module": "@jupyter-widgets/controls",
            "_model_module_version": "1.5.0",
            "_view_count": null,
            "_view_module_version": "1.5.0",
            "box_style": "",
            "layout": "IPY_MODEL_56460a7c083a4deda60d344790e72e00",
            "_model_module": "@jupyter-widgets/controls",
            "children": [
              "IPY_MODEL_a897d2e47ee747be9cd95107e4a73b57",
              "IPY_MODEL_464f54beb5154c608cc8166c26d6cad4",
              "IPY_MODEL_be13ccc43bbe444abc6f09dcd4e9e384"
            ]
          }
        },
        "56460a7c083a4deda60d344790e72e00": {
          "model_module": "@jupyter-widgets/base",
          "model_name": "LayoutModel",
          "model_module_version": "1.2.0",
          "state": {
            "_view_name": "LayoutView",
            "grid_template_rows": null,
            "right": null,
            "justify_content": null,
            "_view_module": "@jupyter-widgets/base",
            "overflow": null,
            "_model_module_version": "1.2.0",
            "_view_count": null,
            "flex_flow": null,
            "width": null,
            "min_width": null,
            "border": null,
            "align_items": null,
            "bottom": null,
            "_model_module": "@jupyter-widgets/base",
            "top": null,
            "grid_column": null,
            "overflow_y": null,
            "overflow_x": null,
            "grid_auto_flow": null,
            "grid_area": null,
            "grid_template_columns": null,
            "flex": null,
            "_model_name": "LayoutModel",
            "justify_items": null,
            "grid_row": null,
            "max_height": null,
            "align_content": null,
            "visibility": null,
            "align_self": null,
            "height": null,
            "min_height": null,
            "padding": null,
            "grid_auto_rows": null,
            "grid_gap": null,
            "max_width": null,
            "order": null,
            "_view_module_version": "1.2.0",
            "grid_template_areas": null,
            "object_position": null,
            "object_fit": null,
            "grid_auto_columns": null,
            "margin": null,
            "display": null,
            "left": null
          }
        },
        "a897d2e47ee747be9cd95107e4a73b57": {
          "model_module": "@jupyter-widgets/controls",
          "model_name": "HTMLModel",
          "model_module_version": "1.5.0",
          "state": {
            "_view_name": "HTMLView",
            "style": "IPY_MODEL_791d59fd8ac74f7ca48bcb1191bf05db",
            "_dom_classes": [],
            "description": "",
            "_model_name": "HTMLModel",
            "placeholder": "​",
            "_view_module": "@jupyter-widgets/controls",
            "_model_module_version": "1.5.0",
            "value": "100%",
            "_view_count": null,
            "_view_module_version": "1.5.0",
            "description_tooltip": null,
            "_model_module": "@jupyter-widgets/controls",
            "layout": "IPY_MODEL_e17dd2299cc0460d90188de003bc5c8f"
          }
        },
        "464f54beb5154c608cc8166c26d6cad4": {
          "model_module": "@jupyter-widgets/controls",
          "model_name": "FloatProgressModel",
          "model_module_version": "1.5.0",
          "state": {
            "_view_name": "ProgressView",
            "style": "IPY_MODEL_3cdb3952e0d84e019ea9be0540a22d40",
            "_dom_classes": [],
            "description": "",
            "_model_name": "FloatProgressModel",
            "bar_style": "success",
            "max": 5,
            "_view_module": "@jupyter-widgets/controls",
            "_model_module_version": "1.5.0",
            "value": 5,
            "_view_count": null,
            "_view_module_version": "1.5.0",
            "orientation": "horizontal",
            "min": 0,
            "description_tooltip": null,
            "_model_module": "@jupyter-widgets/controls",
            "layout": "IPY_MODEL_93e3f657787548a1bdf265629021caef"
          }
        },
        "be13ccc43bbe444abc6f09dcd4e9e384": {
          "model_module": "@jupyter-widgets/controls",
          "model_name": "HTMLModel",
          "model_module_version": "1.5.0",
          "state": {
            "_view_name": "HTMLView",
            "style": "IPY_MODEL_4f3c42932b254e5a824ef8e55c69720a",
            "_dom_classes": [],
            "description": "",
            "_model_name": "HTMLModel",
            "placeholder": "​",
            "_view_module": "@jupyter-widgets/controls",
            "_model_module_version": "1.5.0",
            "value": " 5/5 [00:00&lt;00:00, 112.75it/s]",
            "_view_count": null,
            "_view_module_version": "1.5.0",
            "description_tooltip": null,
            "_model_module": "@jupyter-widgets/controls",
            "layout": "IPY_MODEL_b7ceef4b42ef4cc691687e6291eb0e13"
          }
        },
        "791d59fd8ac74f7ca48bcb1191bf05db": {
          "model_module": "@jupyter-widgets/controls",
          "model_name": "DescriptionStyleModel",
          "model_module_version": "1.5.0",
          "state": {
            "_view_name": "StyleView",
            "_model_name": "DescriptionStyleModel",
            "description_width": "",
            "_view_module": "@jupyter-widgets/base",
            "_model_module_version": "1.5.0",
            "_view_count": null,
            "_view_module_version": "1.2.0",
            "_model_module": "@jupyter-widgets/controls"
          }
        },
        "e17dd2299cc0460d90188de003bc5c8f": {
          "model_module": "@jupyter-widgets/base",
          "model_name": "LayoutModel",
          "model_module_version": "1.2.0",
          "state": {
            "_view_name": "LayoutView",
            "grid_template_rows": null,
            "right": null,
            "justify_content": null,
            "_view_module": "@jupyter-widgets/base",
            "overflow": null,
            "_model_module_version": "1.2.0",
            "_view_count": null,
            "flex_flow": null,
            "width": null,
            "min_width": null,
            "border": null,
            "align_items": null,
            "bottom": null,
            "_model_module": "@jupyter-widgets/base",
            "top": null,
            "grid_column": null,
            "overflow_y": null,
            "overflow_x": null,
            "grid_auto_flow": null,
            "grid_area": null,
            "grid_template_columns": null,
            "flex": null,
            "_model_name": "LayoutModel",
            "justify_items": null,
            "grid_row": null,
            "max_height": null,
            "align_content": null,
            "visibility": null,
            "align_self": null,
            "height": null,
            "min_height": null,
            "padding": null,
            "grid_auto_rows": null,
            "grid_gap": null,
            "max_width": null,
            "order": null,
            "_view_module_version": "1.2.0",
            "grid_template_areas": null,
            "object_position": null,
            "object_fit": null,
            "grid_auto_columns": null,
            "margin": null,
            "display": null,
            "left": null
          }
        },
        "3cdb3952e0d84e019ea9be0540a22d40": {
          "model_module": "@jupyter-widgets/controls",
          "model_name": "ProgressStyleModel",
          "model_module_version": "1.5.0",
          "state": {
            "_view_name": "StyleView",
            "_model_name": "ProgressStyleModel",
            "description_width": "",
            "_view_module": "@jupyter-widgets/base",
            "_model_module_version": "1.5.0",
            "_view_count": null,
            "_view_module_version": "1.2.0",
            "bar_color": null,
            "_model_module": "@jupyter-widgets/controls"
          }
        },
        "93e3f657787548a1bdf265629021caef": {
          "model_module": "@jupyter-widgets/base",
          "model_name": "LayoutModel",
          "model_module_version": "1.2.0",
          "state": {
            "_view_name": "LayoutView",
            "grid_template_rows": null,
            "right": null,
            "justify_content": null,
            "_view_module": "@jupyter-widgets/base",
            "overflow": null,
            "_model_module_version": "1.2.0",
            "_view_count": null,
            "flex_flow": null,
            "width": null,
            "min_width": null,
            "border": null,
            "align_items": null,
            "bottom": null,
            "_model_module": "@jupyter-widgets/base",
            "top": null,
            "grid_column": null,
            "overflow_y": null,
            "overflow_x": null,
            "grid_auto_flow": null,
            "grid_area": null,
            "grid_template_columns": null,
            "flex": null,
            "_model_name": "LayoutModel",
            "justify_items": null,
            "grid_row": null,
            "max_height": null,
            "align_content": null,
            "visibility": null,
            "align_self": null,
            "height": null,
            "min_height": null,
            "padding": null,
            "grid_auto_rows": null,
            "grid_gap": null,
            "max_width": null,
            "order": null,
            "_view_module_version": "1.2.0",
            "grid_template_areas": null,
            "object_position": null,
            "object_fit": null,
            "grid_auto_columns": null,
            "margin": null,
            "display": null,
            "left": null
          }
        },
        "4f3c42932b254e5a824ef8e55c69720a": {
          "model_module": "@jupyter-widgets/controls",
          "model_name": "DescriptionStyleModel",
          "model_module_version": "1.5.0",
          "state": {
            "_view_name": "StyleView",
            "_model_name": "DescriptionStyleModel",
            "description_width": "",
            "_view_module": "@jupyter-widgets/base",
            "_model_module_version": "1.5.0",
            "_view_count": null,
            "_view_module_version": "1.2.0",
            "_model_module": "@jupyter-widgets/controls"
          }
        },
        "b7ceef4b42ef4cc691687e6291eb0e13": {
          "model_module": "@jupyter-widgets/base",
          "model_name": "LayoutModel",
          "model_module_version": "1.2.0",
          "state": {
            "_view_name": "LayoutView",
            "grid_template_rows": null,
            "right": null,
            "justify_content": null,
            "_view_module": "@jupyter-widgets/base",
            "overflow": null,
            "_model_module_version": "1.2.0",
            "_view_count": null,
            "flex_flow": null,
            "width": null,
            "min_width": null,
            "border": null,
            "align_items": null,
            "bottom": null,
            "_model_module": "@jupyter-widgets/base",
            "top": null,
            "grid_column": null,
            "overflow_y": null,
            "overflow_x": null,
            "grid_auto_flow": null,
            "grid_area": null,
            "grid_template_columns": null,
            "flex": null,
            "_model_name": "LayoutModel",
            "justify_items": null,
            "grid_row": null,
            "max_height": null,
            "align_content": null,
            "visibility": null,
            "align_self": null,
            "height": null,
            "min_height": null,
            "padding": null,
            "grid_auto_rows": null,
            "grid_gap": null,
            "max_width": null,
            "order": null,
            "_view_module_version": "1.2.0",
            "grid_template_areas": null,
            "object_position": null,
            "object_fit": null,
            "grid_auto_columns": null,
            "margin": null,
            "display": null,
            "left": null
          }
        },
        "ebadab87ec68430e9093811fd010db7f": {
          "model_module": "@jupyter-widgets/controls",
          "model_name": "HBoxModel",
          "model_module_version": "1.5.0",
          "state": {
            "_view_name": "HBoxView",
            "_dom_classes": [],
            "_model_name": "HBoxModel",
            "_view_module": "@jupyter-widgets/controls",
            "_model_module_version": "1.5.0",
            "_view_count": null,
            "_view_module_version": "1.5.0",
            "box_style": "",
            "layout": "IPY_MODEL_efb2665f9f4449fc8ad6adcb8aa51468",
            "_model_module": "@jupyter-widgets/controls",
            "children": [
              "IPY_MODEL_aead17c2b30f45e0aed42e49801d6e58",
              "IPY_MODEL_1f6d97438d7446479cd9e93f8b0a8b62",
              "IPY_MODEL_6715b5e46c0444778f5415e3c3c4067e"
            ]
          }
        },
        "efb2665f9f4449fc8ad6adcb8aa51468": {
          "model_module": "@jupyter-widgets/base",
          "model_name": "LayoutModel",
          "model_module_version": "1.2.0",
          "state": {
            "_view_name": "LayoutView",
            "grid_template_rows": null,
            "right": null,
            "justify_content": null,
            "_view_module": "@jupyter-widgets/base",
            "overflow": null,
            "_model_module_version": "1.2.0",
            "_view_count": null,
            "flex_flow": null,
            "width": null,
            "min_width": null,
            "border": null,
            "align_items": null,
            "bottom": null,
            "_model_module": "@jupyter-widgets/base",
            "top": null,
            "grid_column": null,
            "overflow_y": null,
            "overflow_x": null,
            "grid_auto_flow": null,
            "grid_area": null,
            "grid_template_columns": null,
            "flex": null,
            "_model_name": "LayoutModel",
            "justify_items": null,
            "grid_row": null,
            "max_height": null,
            "align_content": null,
            "visibility": null,
            "align_self": null,
            "height": null,
            "min_height": null,
            "padding": null,
            "grid_auto_rows": null,
            "grid_gap": null,
            "max_width": null,
            "order": null,
            "_view_module_version": "1.2.0",
            "grid_template_areas": null,
            "object_position": null,
            "object_fit": null,
            "grid_auto_columns": null,
            "margin": null,
            "display": null,
            "left": null
          }
        },
        "aead17c2b30f45e0aed42e49801d6e58": {
          "model_module": "@jupyter-widgets/controls",
          "model_name": "HTMLModel",
          "model_module_version": "1.5.0",
          "state": {
            "_view_name": "HTMLView",
            "style": "IPY_MODEL_652c267750ea4f79b9b2e294c5fd3a0f",
            "_dom_classes": [],
            "description": "",
            "_model_name": "HTMLModel",
            "placeholder": "​",
            "_view_module": "@jupyter-widgets/controls",
            "_model_module_version": "1.5.0",
            "value": "100%",
            "_view_count": null,
            "_view_module_version": "1.5.0",
            "description_tooltip": null,
            "_model_module": "@jupyter-widgets/controls",
            "layout": "IPY_MODEL_1482a2fd822f426fbd7b1dbf970393cc"
          }
        },
        "1f6d97438d7446479cd9e93f8b0a8b62": {
          "model_module": "@jupyter-widgets/controls",
          "model_name": "FloatProgressModel",
          "model_module_version": "1.5.0",
          "state": {
            "_view_name": "ProgressView",
            "style": "IPY_MODEL_3068c67340d94b649a6ab2beec79c86e",
            "_dom_classes": [],
            "description": "",
            "_model_name": "FloatProgressModel",
            "bar_style": "success",
            "max": 5,
            "_view_module": "@jupyter-widgets/controls",
            "_model_module_version": "1.5.0",
            "value": 5,
            "_view_count": null,
            "_view_module_version": "1.5.0",
            "orientation": "horizontal",
            "min": 0,
            "description_tooltip": null,
            "_model_module": "@jupyter-widgets/controls",
            "layout": "IPY_MODEL_e4db6ebe8932429180efb7696b704099"
          }
        },
        "6715b5e46c0444778f5415e3c3c4067e": {
          "model_module": "@jupyter-widgets/controls",
          "model_name": "HTMLModel",
          "model_module_version": "1.5.0",
          "state": {
            "_view_name": "HTMLView",
            "style": "IPY_MODEL_e630e7618f944749ab787cc5685a2284",
            "_dom_classes": [],
            "description": "",
            "_model_name": "HTMLModel",
            "placeholder": "​",
            "_view_module": "@jupyter-widgets/controls",
            "_model_module_version": "1.5.0",
            "value": " 5/5 [00:08&lt;00:00,  2.08s/it]",
            "_view_count": null,
            "_view_module_version": "1.5.0",
            "description_tooltip": null,
            "_model_module": "@jupyter-widgets/controls",
            "layout": "IPY_MODEL_f5732c199e234d36945c701a36c6b330"
          }
        },
        "652c267750ea4f79b9b2e294c5fd3a0f": {
          "model_module": "@jupyter-widgets/controls",
          "model_name": "DescriptionStyleModel",
          "model_module_version": "1.5.0",
          "state": {
            "_view_name": "StyleView",
            "_model_name": "DescriptionStyleModel",
            "description_width": "",
            "_view_module": "@jupyter-widgets/base",
            "_model_module_version": "1.5.0",
            "_view_count": null,
            "_view_module_version": "1.2.0",
            "_model_module": "@jupyter-widgets/controls"
          }
        },
        "1482a2fd822f426fbd7b1dbf970393cc": {
          "model_module": "@jupyter-widgets/base",
          "model_name": "LayoutModel",
          "model_module_version": "1.2.0",
          "state": {
            "_view_name": "LayoutView",
            "grid_template_rows": null,
            "right": null,
            "justify_content": null,
            "_view_module": "@jupyter-widgets/base",
            "overflow": null,
            "_model_module_version": "1.2.0",
            "_view_count": null,
            "flex_flow": null,
            "width": null,
            "min_width": null,
            "border": null,
            "align_items": null,
            "bottom": null,
            "_model_module": "@jupyter-widgets/base",
            "top": null,
            "grid_column": null,
            "overflow_y": null,
            "overflow_x": null,
            "grid_auto_flow": null,
            "grid_area": null,
            "grid_template_columns": null,
            "flex": null,
            "_model_name": "LayoutModel",
            "justify_items": null,
            "grid_row": null,
            "max_height": null,
            "align_content": null,
            "visibility": null,
            "align_self": null,
            "height": null,
            "min_height": null,
            "padding": null,
            "grid_auto_rows": null,
            "grid_gap": null,
            "max_width": null,
            "order": null,
            "_view_module_version": "1.2.0",
            "grid_template_areas": null,
            "object_position": null,
            "object_fit": null,
            "grid_auto_columns": null,
            "margin": null,
            "display": null,
            "left": null
          }
        },
        "3068c67340d94b649a6ab2beec79c86e": {
          "model_module": "@jupyter-widgets/controls",
          "model_name": "ProgressStyleModel",
          "model_module_version": "1.5.0",
          "state": {
            "_view_name": "StyleView",
            "_model_name": "ProgressStyleModel",
            "description_width": "",
            "_view_module": "@jupyter-widgets/base",
            "_model_module_version": "1.5.0",
            "_view_count": null,
            "_view_module_version": "1.2.0",
            "bar_color": null,
            "_model_module": "@jupyter-widgets/controls"
          }
        },
        "e4db6ebe8932429180efb7696b704099": {
          "model_module": "@jupyter-widgets/base",
          "model_name": "LayoutModel",
          "model_module_version": "1.2.0",
          "state": {
            "_view_name": "LayoutView",
            "grid_template_rows": null,
            "right": null,
            "justify_content": null,
            "_view_module": "@jupyter-widgets/base",
            "overflow": null,
            "_model_module_version": "1.2.0",
            "_view_count": null,
            "flex_flow": null,
            "width": null,
            "min_width": null,
            "border": null,
            "align_items": null,
            "bottom": null,
            "_model_module": "@jupyter-widgets/base",
            "top": null,
            "grid_column": null,
            "overflow_y": null,
            "overflow_x": null,
            "grid_auto_flow": null,
            "grid_area": null,
            "grid_template_columns": null,
            "flex": null,
            "_model_name": "LayoutModel",
            "justify_items": null,
            "grid_row": null,
            "max_height": null,
            "align_content": null,
            "visibility": null,
            "align_self": null,
            "height": null,
            "min_height": null,
            "padding": null,
            "grid_auto_rows": null,
            "grid_gap": null,
            "max_width": null,
            "order": null,
            "_view_module_version": "1.2.0",
            "grid_template_areas": null,
            "object_position": null,
            "object_fit": null,
            "grid_auto_columns": null,
            "margin": null,
            "display": null,
            "left": null
          }
        },
        "e630e7618f944749ab787cc5685a2284": {
          "model_module": "@jupyter-widgets/controls",
          "model_name": "DescriptionStyleModel",
          "model_module_version": "1.5.0",
          "state": {
            "_view_name": "StyleView",
            "_model_name": "DescriptionStyleModel",
            "description_width": "",
            "_view_module": "@jupyter-widgets/base",
            "_model_module_version": "1.5.0",
            "_view_count": null,
            "_view_module_version": "1.2.0",
            "_model_module": "@jupyter-widgets/controls"
          }
        },
        "f5732c199e234d36945c701a36c6b330": {
          "model_module": "@jupyter-widgets/base",
          "model_name": "LayoutModel",
          "model_module_version": "1.2.0",
          "state": {
            "_view_name": "LayoutView",
            "grid_template_rows": null,
            "right": null,
            "justify_content": null,
            "_view_module": "@jupyter-widgets/base",
            "overflow": null,
            "_model_module_version": "1.2.0",
            "_view_count": null,
            "flex_flow": null,
            "width": null,
            "min_width": null,
            "border": null,
            "align_items": null,
            "bottom": null,
            "_model_module": "@jupyter-widgets/base",
            "top": null,
            "grid_column": null,
            "overflow_y": null,
            "overflow_x": null,
            "grid_auto_flow": null,
            "grid_area": null,
            "grid_template_columns": null,
            "flex": null,
            "_model_name": "LayoutModel",
            "justify_items": null,
            "grid_row": null,
            "max_height": null,
            "align_content": null,
            "visibility": null,
            "align_self": null,
            "height": null,
            "min_height": null,
            "padding": null,
            "grid_auto_rows": null,
            "grid_gap": null,
            "max_width": null,
            "order": null,
            "_view_module_version": "1.2.0",
            "grid_template_areas": null,
            "object_position": null,
            "object_fit": null,
            "grid_auto_columns": null,
            "margin": null,
            "display": null,
            "left": null
          }
        },
        "3ad92478e3194e54ab70115c476ab89b": {
          "model_module": "@jupyter-widgets/controls",
          "model_name": "HBoxModel",
          "model_module_version": "1.5.0",
          "state": {
            "_view_name": "HBoxView",
            "_dom_classes": [],
            "_model_name": "HBoxModel",
            "_view_module": "@jupyter-widgets/controls",
            "_model_module_version": "1.5.0",
            "_view_count": null,
            "_view_module_version": "1.5.0",
            "box_style": "",
            "layout": "IPY_MODEL_cf23f571c7b244e788fac32051b18ef8",
            "_model_module": "@jupyter-widgets/controls",
            "children": [
              "IPY_MODEL_e5cbaca2b6504b7f81db3dfc2da0dbc1",
              "IPY_MODEL_c859df84a3984567a3413188cfc5a319",
              "IPY_MODEL_4ba9579e01604358998cdd909684e817"
            ]
          }
        },
        "cf23f571c7b244e788fac32051b18ef8": {
          "model_module": "@jupyter-widgets/base",
          "model_name": "LayoutModel",
          "model_module_version": "1.2.0",
          "state": {
            "_view_name": "LayoutView",
            "grid_template_rows": null,
            "right": null,
            "justify_content": null,
            "_view_module": "@jupyter-widgets/base",
            "overflow": null,
            "_model_module_version": "1.2.0",
            "_view_count": null,
            "flex_flow": null,
            "width": null,
            "min_width": null,
            "border": null,
            "align_items": null,
            "bottom": null,
            "_model_module": "@jupyter-widgets/base",
            "top": null,
            "grid_column": null,
            "overflow_y": null,
            "overflow_x": null,
            "grid_auto_flow": null,
            "grid_area": null,
            "grid_template_columns": null,
            "flex": null,
            "_model_name": "LayoutModel",
            "justify_items": null,
            "grid_row": null,
            "max_height": null,
            "align_content": null,
            "visibility": null,
            "align_self": null,
            "height": null,
            "min_height": null,
            "padding": null,
            "grid_auto_rows": null,
            "grid_gap": null,
            "max_width": null,
            "order": null,
            "_view_module_version": "1.2.0",
            "grid_template_areas": null,
            "object_position": null,
            "object_fit": null,
            "grid_auto_columns": null,
            "margin": null,
            "display": null,
            "left": null
          }
        },
        "e5cbaca2b6504b7f81db3dfc2da0dbc1": {
          "model_module": "@jupyter-widgets/controls",
          "model_name": "HTMLModel",
          "model_module_version": "1.5.0",
          "state": {
            "_view_name": "HTMLView",
            "style": "IPY_MODEL_93918940698d406ea78741c3293051ea",
            "_dom_classes": [],
            "description": "",
            "_model_name": "HTMLModel",
            "placeholder": "​",
            "_view_module": "@jupyter-widgets/controls",
            "_model_module_version": "1.5.0",
            "value": "100%",
            "_view_count": null,
            "_view_module_version": "1.5.0",
            "description_tooltip": null,
            "_model_module": "@jupyter-widgets/controls",
            "layout": "IPY_MODEL_b68a8ab4ce454de99eff6d594c5e9e62"
          }
        },
        "c859df84a3984567a3413188cfc5a319": {
          "model_module": "@jupyter-widgets/controls",
          "model_name": "FloatProgressModel",
          "model_module_version": "1.5.0",
          "state": {
            "_view_name": "ProgressView",
            "style": "IPY_MODEL_ce5e33e5a9c4414ea2f3c3f39184a5ec",
            "_dom_classes": [],
            "description": "",
            "_model_name": "FloatProgressModel",
            "bar_style": "success",
            "max": 5,
            "_view_module": "@jupyter-widgets/controls",
            "_model_module_version": "1.5.0",
            "value": 5,
            "_view_count": null,
            "_view_module_version": "1.5.0",
            "orientation": "horizontal",
            "min": 0,
            "description_tooltip": null,
            "_model_module": "@jupyter-widgets/controls",
            "layout": "IPY_MODEL_055488ff712749a1b2d44cc42ec72be0"
          }
        },
        "4ba9579e01604358998cdd909684e817": {
          "model_module": "@jupyter-widgets/controls",
          "model_name": "HTMLModel",
          "model_module_version": "1.5.0",
          "state": {
            "_view_name": "HTMLView",
            "style": "IPY_MODEL_2344e6a778e74f4fbc8c0866b2743602",
            "_dom_classes": [],
            "description": "",
            "_model_name": "HTMLModel",
            "placeholder": "​",
            "_view_module": "@jupyter-widgets/controls",
            "_model_module_version": "1.5.0",
            "value": " 5/5 [00:00&lt;00:00, 100.05it/s]",
            "_view_count": null,
            "_view_module_version": "1.5.0",
            "description_tooltip": null,
            "_model_module": "@jupyter-widgets/controls",
            "layout": "IPY_MODEL_dfb83db9ddbb4ded946e887562faf4ce"
          }
        },
        "93918940698d406ea78741c3293051ea": {
          "model_module": "@jupyter-widgets/controls",
          "model_name": "DescriptionStyleModel",
          "model_module_version": "1.5.0",
          "state": {
            "_view_name": "StyleView",
            "_model_name": "DescriptionStyleModel",
            "description_width": "",
            "_view_module": "@jupyter-widgets/base",
            "_model_module_version": "1.5.0",
            "_view_count": null,
            "_view_module_version": "1.2.0",
            "_model_module": "@jupyter-widgets/controls"
          }
        },
        "b68a8ab4ce454de99eff6d594c5e9e62": {
          "model_module": "@jupyter-widgets/base",
          "model_name": "LayoutModel",
          "model_module_version": "1.2.0",
          "state": {
            "_view_name": "LayoutView",
            "grid_template_rows": null,
            "right": null,
            "justify_content": null,
            "_view_module": "@jupyter-widgets/base",
            "overflow": null,
            "_model_module_version": "1.2.0",
            "_view_count": null,
            "flex_flow": null,
            "width": null,
            "min_width": null,
            "border": null,
            "align_items": null,
            "bottom": null,
            "_model_module": "@jupyter-widgets/base",
            "top": null,
            "grid_column": null,
            "overflow_y": null,
            "overflow_x": null,
            "grid_auto_flow": null,
            "grid_area": null,
            "grid_template_columns": null,
            "flex": null,
            "_model_name": "LayoutModel",
            "justify_items": null,
            "grid_row": null,
            "max_height": null,
            "align_content": null,
            "visibility": null,
            "align_self": null,
            "height": null,
            "min_height": null,
            "padding": null,
            "grid_auto_rows": null,
            "grid_gap": null,
            "max_width": null,
            "order": null,
            "_view_module_version": "1.2.0",
            "grid_template_areas": null,
            "object_position": null,
            "object_fit": null,
            "grid_auto_columns": null,
            "margin": null,
            "display": null,
            "left": null
          }
        },
        "ce5e33e5a9c4414ea2f3c3f39184a5ec": {
          "model_module": "@jupyter-widgets/controls",
          "model_name": "ProgressStyleModel",
          "model_module_version": "1.5.0",
          "state": {
            "_view_name": "StyleView",
            "_model_name": "ProgressStyleModel",
            "description_width": "",
            "_view_module": "@jupyter-widgets/base",
            "_model_module_version": "1.5.0",
            "_view_count": null,
            "_view_module_version": "1.2.0",
            "bar_color": null,
            "_model_module": "@jupyter-widgets/controls"
          }
        },
        "055488ff712749a1b2d44cc42ec72be0": {
          "model_module": "@jupyter-widgets/base",
          "model_name": "LayoutModel",
          "model_module_version": "1.2.0",
          "state": {
            "_view_name": "LayoutView",
            "grid_template_rows": null,
            "right": null,
            "justify_content": null,
            "_view_module": "@jupyter-widgets/base",
            "overflow": null,
            "_model_module_version": "1.2.0",
            "_view_count": null,
            "flex_flow": null,
            "width": null,
            "min_width": null,
            "border": null,
            "align_items": null,
            "bottom": null,
            "_model_module": "@jupyter-widgets/base",
            "top": null,
            "grid_column": null,
            "overflow_y": null,
            "overflow_x": null,
            "grid_auto_flow": null,
            "grid_area": null,
            "grid_template_columns": null,
            "flex": null,
            "_model_name": "LayoutModel",
            "justify_items": null,
            "grid_row": null,
            "max_height": null,
            "align_content": null,
            "visibility": null,
            "align_self": null,
            "height": null,
            "min_height": null,
            "padding": null,
            "grid_auto_rows": null,
            "grid_gap": null,
            "max_width": null,
            "order": null,
            "_view_module_version": "1.2.0",
            "grid_template_areas": null,
            "object_position": null,
            "object_fit": null,
            "grid_auto_columns": null,
            "margin": null,
            "display": null,
            "left": null
          }
        },
        "2344e6a778e74f4fbc8c0866b2743602": {
          "model_module": "@jupyter-widgets/controls",
          "model_name": "DescriptionStyleModel",
          "model_module_version": "1.5.0",
          "state": {
            "_view_name": "StyleView",
            "_model_name": "DescriptionStyleModel",
            "description_width": "",
            "_view_module": "@jupyter-widgets/base",
            "_model_module_version": "1.5.0",
            "_view_count": null,
            "_view_module_version": "1.2.0",
            "_model_module": "@jupyter-widgets/controls"
          }
        },
        "dfb83db9ddbb4ded946e887562faf4ce": {
          "model_module": "@jupyter-widgets/base",
          "model_name": "LayoutModel",
          "model_module_version": "1.2.0",
          "state": {
            "_view_name": "LayoutView",
            "grid_template_rows": null,
            "right": null,
            "justify_content": null,
            "_view_module": "@jupyter-widgets/base",
            "overflow": null,
            "_model_module_version": "1.2.0",
            "_view_count": null,
            "flex_flow": null,
            "width": null,
            "min_width": null,
            "border": null,
            "align_items": null,
            "bottom": null,
            "_model_module": "@jupyter-widgets/base",
            "top": null,
            "grid_column": null,
            "overflow_y": null,
            "overflow_x": null,
            "grid_auto_flow": null,
            "grid_area": null,
            "grid_template_columns": null,
            "flex": null,
            "_model_name": "LayoutModel",
            "justify_items": null,
            "grid_row": null,
            "max_height": null,
            "align_content": null,
            "visibility": null,
            "align_self": null,
            "height": null,
            "min_height": null,
            "padding": null,
            "grid_auto_rows": null,
            "grid_gap": null,
            "max_width": null,
            "order": null,
            "_view_module_version": "1.2.0",
            "grid_template_areas": null,
            "object_position": null,
            "object_fit": null,
            "grid_auto_columns": null,
            "margin": null,
            "display": null,
            "left": null
          }
        },
        "ec7bea9b26194c26b025eebb55667938": {
          "model_module": "@jupyter-widgets/controls",
          "model_name": "HBoxModel",
          "model_module_version": "1.5.0",
          "state": {
            "_view_name": "HBoxView",
            "_dom_classes": [],
            "_model_name": "HBoxModel",
            "_view_module": "@jupyter-widgets/controls",
            "_model_module_version": "1.5.0",
            "_view_count": null,
            "_view_module_version": "1.5.0",
            "box_style": "",
            "layout": "IPY_MODEL_a35c7a5b42354848b648204dbc613afe",
            "_model_module": "@jupyter-widgets/controls",
            "children": [
              "IPY_MODEL_0661844ed7db4d4f8fa33fdbdcfaa948",
              "IPY_MODEL_106d13e936994f4ab5c7c40a456e9d8e",
              "IPY_MODEL_86afcc7d003d47dcb7fc8aff80f32cad"
            ]
          }
        },
        "a35c7a5b42354848b648204dbc613afe": {
          "model_module": "@jupyter-widgets/base",
          "model_name": "LayoutModel",
          "model_module_version": "1.2.0",
          "state": {
            "_view_name": "LayoutView",
            "grid_template_rows": null,
            "right": null,
            "justify_content": null,
            "_view_module": "@jupyter-widgets/base",
            "overflow": null,
            "_model_module_version": "1.2.0",
            "_view_count": null,
            "flex_flow": null,
            "width": null,
            "min_width": null,
            "border": null,
            "align_items": null,
            "bottom": null,
            "_model_module": "@jupyter-widgets/base",
            "top": null,
            "grid_column": null,
            "overflow_y": null,
            "overflow_x": null,
            "grid_auto_flow": null,
            "grid_area": null,
            "grid_template_columns": null,
            "flex": null,
            "_model_name": "LayoutModel",
            "justify_items": null,
            "grid_row": null,
            "max_height": null,
            "align_content": null,
            "visibility": null,
            "align_self": null,
            "height": null,
            "min_height": null,
            "padding": null,
            "grid_auto_rows": null,
            "grid_gap": null,
            "max_width": null,
            "order": null,
            "_view_module_version": "1.2.0",
            "grid_template_areas": null,
            "object_position": null,
            "object_fit": null,
            "grid_auto_columns": null,
            "margin": null,
            "display": null,
            "left": null
          }
        },
        "0661844ed7db4d4f8fa33fdbdcfaa948": {
          "model_module": "@jupyter-widgets/controls",
          "model_name": "HTMLModel",
          "model_module_version": "1.5.0",
          "state": {
            "_view_name": "HTMLView",
            "style": "IPY_MODEL_3add2d20b8c3402d853d60f9235ed170",
            "_dom_classes": [],
            "description": "",
            "_model_name": "HTMLModel",
            "placeholder": "​",
            "_view_module": "@jupyter-widgets/controls",
            "_model_module_version": "1.5.0",
            "value": "100%",
            "_view_count": null,
            "_view_module_version": "1.5.0",
            "description_tooltip": null,
            "_model_module": "@jupyter-widgets/controls",
            "layout": "IPY_MODEL_c4be195151cb4390a0b04a4ff55e4a91"
          }
        },
        "106d13e936994f4ab5c7c40a456e9d8e": {
          "model_module": "@jupyter-widgets/controls",
          "model_name": "FloatProgressModel",
          "model_module_version": "1.5.0",
          "state": {
            "_view_name": "ProgressView",
            "style": "IPY_MODEL_b3cbce1144624c5588ac2a3bd0a9c559",
            "_dom_classes": [],
            "description": "",
            "_model_name": "FloatProgressModel",
            "bar_style": "success",
            "max": 5,
            "_view_module": "@jupyter-widgets/controls",
            "_model_module_version": "1.5.0",
            "value": 5,
            "_view_count": null,
            "_view_module_version": "1.5.0",
            "orientation": "horizontal",
            "min": 0,
            "description_tooltip": null,
            "_model_module": "@jupyter-widgets/controls",
            "layout": "IPY_MODEL_9b5ffcdc65524d03a4087ee60243e789"
          }
        },
        "86afcc7d003d47dcb7fc8aff80f32cad": {
          "model_module": "@jupyter-widgets/controls",
          "model_name": "HTMLModel",
          "model_module_version": "1.5.0",
          "state": {
            "_view_name": "HTMLView",
            "style": "IPY_MODEL_e95104c2c28b4cbab5f6ab3656fe86b8",
            "_dom_classes": [],
            "description": "",
            "_model_name": "HTMLModel",
            "placeholder": "​",
            "_view_module": "@jupyter-widgets/controls",
            "_model_module_version": "1.5.0",
            "value": " 5/5 [00:04&lt;00:00,  1.03it/s]",
            "_view_count": null,
            "_view_module_version": "1.5.0",
            "description_tooltip": null,
            "_model_module": "@jupyter-widgets/controls",
            "layout": "IPY_MODEL_9c8eca8758e94429ad3f91542f39e595"
          }
        },
        "3add2d20b8c3402d853d60f9235ed170": {
          "model_module": "@jupyter-widgets/controls",
          "model_name": "DescriptionStyleModel",
          "model_module_version": "1.5.0",
          "state": {
            "_view_name": "StyleView",
            "_model_name": "DescriptionStyleModel",
            "description_width": "",
            "_view_module": "@jupyter-widgets/base",
            "_model_module_version": "1.5.0",
            "_view_count": null,
            "_view_module_version": "1.2.0",
            "_model_module": "@jupyter-widgets/controls"
          }
        },
        "c4be195151cb4390a0b04a4ff55e4a91": {
          "model_module": "@jupyter-widgets/base",
          "model_name": "LayoutModel",
          "model_module_version": "1.2.0",
          "state": {
            "_view_name": "LayoutView",
            "grid_template_rows": null,
            "right": null,
            "justify_content": null,
            "_view_module": "@jupyter-widgets/base",
            "overflow": null,
            "_model_module_version": "1.2.0",
            "_view_count": null,
            "flex_flow": null,
            "width": null,
            "min_width": null,
            "border": null,
            "align_items": null,
            "bottom": null,
            "_model_module": "@jupyter-widgets/base",
            "top": null,
            "grid_column": null,
            "overflow_y": null,
            "overflow_x": null,
            "grid_auto_flow": null,
            "grid_area": null,
            "grid_template_columns": null,
            "flex": null,
            "_model_name": "LayoutModel",
            "justify_items": null,
            "grid_row": null,
            "max_height": null,
            "align_content": null,
            "visibility": null,
            "align_self": null,
            "height": null,
            "min_height": null,
            "padding": null,
            "grid_auto_rows": null,
            "grid_gap": null,
            "max_width": null,
            "order": null,
            "_view_module_version": "1.2.0",
            "grid_template_areas": null,
            "object_position": null,
            "object_fit": null,
            "grid_auto_columns": null,
            "margin": null,
            "display": null,
            "left": null
          }
        },
        "b3cbce1144624c5588ac2a3bd0a9c559": {
          "model_module": "@jupyter-widgets/controls",
          "model_name": "ProgressStyleModel",
          "model_module_version": "1.5.0",
          "state": {
            "_view_name": "StyleView",
            "_model_name": "ProgressStyleModel",
            "description_width": "",
            "_view_module": "@jupyter-widgets/base",
            "_model_module_version": "1.5.0",
            "_view_count": null,
            "_view_module_version": "1.2.0",
            "bar_color": null,
            "_model_module": "@jupyter-widgets/controls"
          }
        },
        "9b5ffcdc65524d03a4087ee60243e789": {
          "model_module": "@jupyter-widgets/base",
          "model_name": "LayoutModel",
          "model_module_version": "1.2.0",
          "state": {
            "_view_name": "LayoutView",
            "grid_template_rows": null,
            "right": null,
            "justify_content": null,
            "_view_module": "@jupyter-widgets/base",
            "overflow": null,
            "_model_module_version": "1.2.0",
            "_view_count": null,
            "flex_flow": null,
            "width": null,
            "min_width": null,
            "border": null,
            "align_items": null,
            "bottom": null,
            "_model_module": "@jupyter-widgets/base",
            "top": null,
            "grid_column": null,
            "overflow_y": null,
            "overflow_x": null,
            "grid_auto_flow": null,
            "grid_area": null,
            "grid_template_columns": null,
            "flex": null,
            "_model_name": "LayoutModel",
            "justify_items": null,
            "grid_row": null,
            "max_height": null,
            "align_content": null,
            "visibility": null,
            "align_self": null,
            "height": null,
            "min_height": null,
            "padding": null,
            "grid_auto_rows": null,
            "grid_gap": null,
            "max_width": null,
            "order": null,
            "_view_module_version": "1.2.0",
            "grid_template_areas": null,
            "object_position": null,
            "object_fit": null,
            "grid_auto_columns": null,
            "margin": null,
            "display": null,
            "left": null
          }
        },
        "e95104c2c28b4cbab5f6ab3656fe86b8": {
          "model_module": "@jupyter-widgets/controls",
          "model_name": "DescriptionStyleModel",
          "model_module_version": "1.5.0",
          "state": {
            "_view_name": "StyleView",
            "_model_name": "DescriptionStyleModel",
            "description_width": "",
            "_view_module": "@jupyter-widgets/base",
            "_model_module_version": "1.5.0",
            "_view_count": null,
            "_view_module_version": "1.2.0",
            "_model_module": "@jupyter-widgets/controls"
          }
        },
        "9c8eca8758e94429ad3f91542f39e595": {
          "model_module": "@jupyter-widgets/base",
          "model_name": "LayoutModel",
          "model_module_version": "1.2.0",
          "state": {
            "_view_name": "LayoutView",
            "grid_template_rows": null,
            "right": null,
            "justify_content": null,
            "_view_module": "@jupyter-widgets/base",
            "overflow": null,
            "_model_module_version": "1.2.0",
            "_view_count": null,
            "flex_flow": null,
            "width": null,
            "min_width": null,
            "border": null,
            "align_items": null,
            "bottom": null,
            "_model_module": "@jupyter-widgets/base",
            "top": null,
            "grid_column": null,
            "overflow_y": null,
            "overflow_x": null,
            "grid_auto_flow": null,
            "grid_area": null,
            "grid_template_columns": null,
            "flex": null,
            "_model_name": "LayoutModel",
            "justify_items": null,
            "grid_row": null,
            "max_height": null,
            "align_content": null,
            "visibility": null,
            "align_self": null,
            "height": null,
            "min_height": null,
            "padding": null,
            "grid_auto_rows": null,
            "grid_gap": null,
            "max_width": null,
            "order": null,
            "_view_module_version": "1.2.0",
            "grid_template_areas": null,
            "object_position": null,
            "object_fit": null,
            "grid_auto_columns": null,
            "margin": null,
            "display": null,
            "left": null
          }
        },
        "e579d7bd18554db0be63758a8dc14e0d": {
          "model_module": "@jupyter-widgets/controls",
          "model_name": "HBoxModel",
          "model_module_version": "1.5.0",
          "state": {
            "_view_name": "HBoxView",
            "_dom_classes": [],
            "_model_name": "HBoxModel",
            "_view_module": "@jupyter-widgets/controls",
            "_model_module_version": "1.5.0",
            "_view_count": null,
            "_view_module_version": "1.5.0",
            "box_style": "",
            "layout": "IPY_MODEL_90dfeec19f26419590eceb36ffcead06",
            "_model_module": "@jupyter-widgets/controls",
            "children": [
              "IPY_MODEL_d473648578a442b1a28a455c1c961897",
              "IPY_MODEL_e3794f10198149979638b562c61f85d5",
              "IPY_MODEL_4d2b4f5489534a3bbb095426627b2fab"
            ]
          }
        },
        "90dfeec19f26419590eceb36ffcead06": {
          "model_module": "@jupyter-widgets/base",
          "model_name": "LayoutModel",
          "model_module_version": "1.2.0",
          "state": {
            "_view_name": "LayoutView",
            "grid_template_rows": null,
            "right": null,
            "justify_content": null,
            "_view_module": "@jupyter-widgets/base",
            "overflow": null,
            "_model_module_version": "1.2.0",
            "_view_count": null,
            "flex_flow": null,
            "width": null,
            "min_width": null,
            "border": null,
            "align_items": null,
            "bottom": null,
            "_model_module": "@jupyter-widgets/base",
            "top": null,
            "grid_column": null,
            "overflow_y": null,
            "overflow_x": null,
            "grid_auto_flow": null,
            "grid_area": null,
            "grid_template_columns": null,
            "flex": null,
            "_model_name": "LayoutModel",
            "justify_items": null,
            "grid_row": null,
            "max_height": null,
            "align_content": null,
            "visibility": null,
            "align_self": null,
            "height": null,
            "min_height": null,
            "padding": null,
            "grid_auto_rows": null,
            "grid_gap": null,
            "max_width": null,
            "order": null,
            "_view_module_version": "1.2.0",
            "grid_template_areas": null,
            "object_position": null,
            "object_fit": null,
            "grid_auto_columns": null,
            "margin": null,
            "display": null,
            "left": null
          }
        },
        "d473648578a442b1a28a455c1c961897": {
          "model_module": "@jupyter-widgets/controls",
          "model_name": "HTMLModel",
          "model_module_version": "1.5.0",
          "state": {
            "_view_name": "HTMLView",
            "style": "IPY_MODEL_8803098785a74779ab6724ac3c64155c",
            "_dom_classes": [],
            "description": "",
            "_model_name": "HTMLModel",
            "placeholder": "​",
            "_view_module": "@jupyter-widgets/controls",
            "_model_module_version": "1.5.0",
            "value": "100%",
            "_view_count": null,
            "_view_module_version": "1.5.0",
            "description_tooltip": null,
            "_model_module": "@jupyter-widgets/controls",
            "layout": "IPY_MODEL_9aab865914064ccf9352820848b413eb"
          }
        },
        "e3794f10198149979638b562c61f85d5": {
          "model_module": "@jupyter-widgets/controls",
          "model_name": "FloatProgressModel",
          "model_module_version": "1.5.0",
          "state": {
            "_view_name": "ProgressView",
            "style": "IPY_MODEL_9101bf32ae444b5a8328a8519a3db251",
            "_dom_classes": [],
            "description": "",
            "_model_name": "FloatProgressModel",
            "bar_style": "success",
            "max": 5,
            "_view_module": "@jupyter-widgets/controls",
            "_model_module_version": "1.5.0",
            "value": 5,
            "_view_count": null,
            "_view_module_version": "1.5.0",
            "orientation": "horizontal",
            "min": 0,
            "description_tooltip": null,
            "_model_module": "@jupyter-widgets/controls",
            "layout": "IPY_MODEL_f8e46c828eb84592bc7e33f71ba25872"
          }
        },
        "4d2b4f5489534a3bbb095426627b2fab": {
          "model_module": "@jupyter-widgets/controls",
          "model_name": "HTMLModel",
          "model_module_version": "1.5.0",
          "state": {
            "_view_name": "HTMLView",
            "style": "IPY_MODEL_3d842f9a46f04f258772450a0feae2aa",
            "_dom_classes": [],
            "description": "",
            "_model_name": "HTMLModel",
            "placeholder": "​",
            "_view_module": "@jupyter-widgets/controls",
            "_model_module_version": "1.5.0",
            "value": " 5/5 [00:26&lt;00:00,  5.40s/it]",
            "_view_count": null,
            "_view_module_version": "1.5.0",
            "description_tooltip": null,
            "_model_module": "@jupyter-widgets/controls",
            "layout": "IPY_MODEL_87f0be02f0ed47eeab55178d6e13d8dc"
          }
        },
        "8803098785a74779ab6724ac3c64155c": {
          "model_module": "@jupyter-widgets/controls",
          "model_name": "DescriptionStyleModel",
          "model_module_version": "1.5.0",
          "state": {
            "_view_name": "StyleView",
            "_model_name": "DescriptionStyleModel",
            "description_width": "",
            "_view_module": "@jupyter-widgets/base",
            "_model_module_version": "1.5.0",
            "_view_count": null,
            "_view_module_version": "1.2.0",
            "_model_module": "@jupyter-widgets/controls"
          }
        },
        "9aab865914064ccf9352820848b413eb": {
          "model_module": "@jupyter-widgets/base",
          "model_name": "LayoutModel",
          "model_module_version": "1.2.0",
          "state": {
            "_view_name": "LayoutView",
            "grid_template_rows": null,
            "right": null,
            "justify_content": null,
            "_view_module": "@jupyter-widgets/base",
            "overflow": null,
            "_model_module_version": "1.2.0",
            "_view_count": null,
            "flex_flow": null,
            "width": null,
            "min_width": null,
            "border": null,
            "align_items": null,
            "bottom": null,
            "_model_module": "@jupyter-widgets/base",
            "top": null,
            "grid_column": null,
            "overflow_y": null,
            "overflow_x": null,
            "grid_auto_flow": null,
            "grid_area": null,
            "grid_template_columns": null,
            "flex": null,
            "_model_name": "LayoutModel",
            "justify_items": null,
            "grid_row": null,
            "max_height": null,
            "align_content": null,
            "visibility": null,
            "align_self": null,
            "height": null,
            "min_height": null,
            "padding": null,
            "grid_auto_rows": null,
            "grid_gap": null,
            "max_width": null,
            "order": null,
            "_view_module_version": "1.2.0",
            "grid_template_areas": null,
            "object_position": null,
            "object_fit": null,
            "grid_auto_columns": null,
            "margin": null,
            "display": null,
            "left": null
          }
        },
        "9101bf32ae444b5a8328a8519a3db251": {
          "model_module": "@jupyter-widgets/controls",
          "model_name": "ProgressStyleModel",
          "model_module_version": "1.5.0",
          "state": {
            "_view_name": "StyleView",
            "_model_name": "ProgressStyleModel",
            "description_width": "",
            "_view_module": "@jupyter-widgets/base",
            "_model_module_version": "1.5.0",
            "_view_count": null,
            "_view_module_version": "1.2.0",
            "bar_color": null,
            "_model_module": "@jupyter-widgets/controls"
          }
        },
        "f8e46c828eb84592bc7e33f71ba25872": {
          "model_module": "@jupyter-widgets/base",
          "model_name": "LayoutModel",
          "model_module_version": "1.2.0",
          "state": {
            "_view_name": "LayoutView",
            "grid_template_rows": null,
            "right": null,
            "justify_content": null,
            "_view_module": "@jupyter-widgets/base",
            "overflow": null,
            "_model_module_version": "1.2.0",
            "_view_count": null,
            "flex_flow": null,
            "width": null,
            "min_width": null,
            "border": null,
            "align_items": null,
            "bottom": null,
            "_model_module": "@jupyter-widgets/base",
            "top": null,
            "grid_column": null,
            "overflow_y": null,
            "overflow_x": null,
            "grid_auto_flow": null,
            "grid_area": null,
            "grid_template_columns": null,
            "flex": null,
            "_model_name": "LayoutModel",
            "justify_items": null,
            "grid_row": null,
            "max_height": null,
            "align_content": null,
            "visibility": null,
            "align_self": null,
            "height": null,
            "min_height": null,
            "padding": null,
            "grid_auto_rows": null,
            "grid_gap": null,
            "max_width": null,
            "order": null,
            "_view_module_version": "1.2.0",
            "grid_template_areas": null,
            "object_position": null,
            "object_fit": null,
            "grid_auto_columns": null,
            "margin": null,
            "display": null,
            "left": null
          }
        },
        "3d842f9a46f04f258772450a0feae2aa": {
          "model_module": "@jupyter-widgets/controls",
          "model_name": "DescriptionStyleModel",
          "model_module_version": "1.5.0",
          "state": {
            "_view_name": "StyleView",
            "_model_name": "DescriptionStyleModel",
            "description_width": "",
            "_view_module": "@jupyter-widgets/base",
            "_model_module_version": "1.5.0",
            "_view_count": null,
            "_view_module_version": "1.2.0",
            "_model_module": "@jupyter-widgets/controls"
          }
        },
        "87f0be02f0ed47eeab55178d6e13d8dc": {
          "model_module": "@jupyter-widgets/base",
          "model_name": "LayoutModel",
          "model_module_version": "1.2.0",
          "state": {
            "_view_name": "LayoutView",
            "grid_template_rows": null,
            "right": null,
            "justify_content": null,
            "_view_module": "@jupyter-widgets/base",
            "overflow": null,
            "_model_module_version": "1.2.0",
            "_view_count": null,
            "flex_flow": null,
            "width": null,
            "min_width": null,
            "border": null,
            "align_items": null,
            "bottom": null,
            "_model_module": "@jupyter-widgets/base",
            "top": null,
            "grid_column": null,
            "overflow_y": null,
            "overflow_x": null,
            "grid_auto_flow": null,
            "grid_area": null,
            "grid_template_columns": null,
            "flex": null,
            "_model_name": "LayoutModel",
            "justify_items": null,
            "grid_row": null,
            "max_height": null,
            "align_content": null,
            "visibility": null,
            "align_self": null,
            "height": null,
            "min_height": null,
            "padding": null,
            "grid_auto_rows": null,
            "grid_gap": null,
            "max_width": null,
            "order": null,
            "_view_module_version": "1.2.0",
            "grid_template_areas": null,
            "object_position": null,
            "object_fit": null,
            "grid_auto_columns": null,
            "margin": null,
            "display": null,
            "left": null
          }
        },
        "74b0c2d9dff645d5a775116612e51b23": {
          "model_module": "@jupyter-widgets/controls",
          "model_name": "HBoxModel",
          "model_module_version": "1.5.0",
          "state": {
            "_view_name": "HBoxView",
            "_dom_classes": [],
            "_model_name": "HBoxModel",
            "_view_module": "@jupyter-widgets/controls",
            "_model_module_version": "1.5.0",
            "_view_count": null,
            "_view_module_version": "1.5.0",
            "box_style": "",
            "layout": "IPY_MODEL_d00f6939012743acb547b2ac9aab2c8f",
            "_model_module": "@jupyter-widgets/controls",
            "children": [
              "IPY_MODEL_1e6e060d32d84969a69bb534cd241aba",
              "IPY_MODEL_007b3bc8ab904d4e92ec65ca17cab59d",
              "IPY_MODEL_159eca9b611c416b992d55090a1d9f97"
            ]
          }
        },
        "d00f6939012743acb547b2ac9aab2c8f": {
          "model_module": "@jupyter-widgets/base",
          "model_name": "LayoutModel",
          "model_module_version": "1.2.0",
          "state": {
            "_view_name": "LayoutView",
            "grid_template_rows": null,
            "right": null,
            "justify_content": null,
            "_view_module": "@jupyter-widgets/base",
            "overflow": null,
            "_model_module_version": "1.2.0",
            "_view_count": null,
            "flex_flow": null,
            "width": null,
            "min_width": null,
            "border": null,
            "align_items": null,
            "bottom": null,
            "_model_module": "@jupyter-widgets/base",
            "top": null,
            "grid_column": null,
            "overflow_y": null,
            "overflow_x": null,
            "grid_auto_flow": null,
            "grid_area": null,
            "grid_template_columns": null,
            "flex": null,
            "_model_name": "LayoutModel",
            "justify_items": null,
            "grid_row": null,
            "max_height": null,
            "align_content": null,
            "visibility": null,
            "align_self": null,
            "height": null,
            "min_height": null,
            "padding": null,
            "grid_auto_rows": null,
            "grid_gap": null,
            "max_width": null,
            "order": null,
            "_view_module_version": "1.2.0",
            "grid_template_areas": null,
            "object_position": null,
            "object_fit": null,
            "grid_auto_columns": null,
            "margin": null,
            "display": null,
            "left": null
          }
        },
        "1e6e060d32d84969a69bb534cd241aba": {
          "model_module": "@jupyter-widgets/controls",
          "model_name": "HTMLModel",
          "model_module_version": "1.5.0",
          "state": {
            "_view_name": "HTMLView",
            "style": "IPY_MODEL_19022b62ba644b228831202d88cf6b21",
            "_dom_classes": [],
            "description": "",
            "_model_name": "HTMLModel",
            "placeholder": "​",
            "_view_module": "@jupyter-widgets/controls",
            "_model_module_version": "1.5.0",
            "value": "100%",
            "_view_count": null,
            "_view_module_version": "1.5.0",
            "description_tooltip": null,
            "_model_module": "@jupyter-widgets/controls",
            "layout": "IPY_MODEL_fe8f4b0cc5df467581736b42be8a9721"
          }
        },
        "007b3bc8ab904d4e92ec65ca17cab59d": {
          "model_module": "@jupyter-widgets/controls",
          "model_name": "FloatProgressModel",
          "model_module_version": "1.5.0",
          "state": {
            "_view_name": "ProgressView",
            "style": "IPY_MODEL_4de5833cb8c743dfb53ade6c26d7b2d8",
            "_dom_classes": [],
            "description": "",
            "_model_name": "FloatProgressModel",
            "bar_style": "success",
            "max": 5,
            "_view_module": "@jupyter-widgets/controls",
            "_model_module_version": "1.5.0",
            "value": 5,
            "_view_count": null,
            "_view_module_version": "1.5.0",
            "orientation": "horizontal",
            "min": 0,
            "description_tooltip": null,
            "_model_module": "@jupyter-widgets/controls",
            "layout": "IPY_MODEL_09b37d0d563347f7ab6ee9620f2d4bb1"
          }
        },
        "159eca9b611c416b992d55090a1d9f97": {
          "model_module": "@jupyter-widgets/controls",
          "model_name": "HTMLModel",
          "model_module_version": "1.5.0",
          "state": {
            "_view_name": "HTMLView",
            "style": "IPY_MODEL_7d712617c9494290b1d9684a5e060d9d",
            "_dom_classes": [],
            "description": "",
            "_model_name": "HTMLModel",
            "placeholder": "​",
            "_view_module": "@jupyter-widgets/controls",
            "_model_module_version": "1.5.0",
            "value": " 5/5 [00:20&lt;00:00,  4.33s/it]",
            "_view_count": null,
            "_view_module_version": "1.5.0",
            "description_tooltip": null,
            "_model_module": "@jupyter-widgets/controls",
            "layout": "IPY_MODEL_ce21929ff3cb42aca39abbe819fe15d2"
          }
        },
        "19022b62ba644b228831202d88cf6b21": {
          "model_module": "@jupyter-widgets/controls",
          "model_name": "DescriptionStyleModel",
          "model_module_version": "1.5.0",
          "state": {
            "_view_name": "StyleView",
            "_model_name": "DescriptionStyleModel",
            "description_width": "",
            "_view_module": "@jupyter-widgets/base",
            "_model_module_version": "1.5.0",
            "_view_count": null,
            "_view_module_version": "1.2.0",
            "_model_module": "@jupyter-widgets/controls"
          }
        },
        "fe8f4b0cc5df467581736b42be8a9721": {
          "model_module": "@jupyter-widgets/base",
          "model_name": "LayoutModel",
          "model_module_version": "1.2.0",
          "state": {
            "_view_name": "LayoutView",
            "grid_template_rows": null,
            "right": null,
            "justify_content": null,
            "_view_module": "@jupyter-widgets/base",
            "overflow": null,
            "_model_module_version": "1.2.0",
            "_view_count": null,
            "flex_flow": null,
            "width": null,
            "min_width": null,
            "border": null,
            "align_items": null,
            "bottom": null,
            "_model_module": "@jupyter-widgets/base",
            "top": null,
            "grid_column": null,
            "overflow_y": null,
            "overflow_x": null,
            "grid_auto_flow": null,
            "grid_area": null,
            "grid_template_columns": null,
            "flex": null,
            "_model_name": "LayoutModel",
            "justify_items": null,
            "grid_row": null,
            "max_height": null,
            "align_content": null,
            "visibility": null,
            "align_self": null,
            "height": null,
            "min_height": null,
            "padding": null,
            "grid_auto_rows": null,
            "grid_gap": null,
            "max_width": null,
            "order": null,
            "_view_module_version": "1.2.0",
            "grid_template_areas": null,
            "object_position": null,
            "object_fit": null,
            "grid_auto_columns": null,
            "margin": null,
            "display": null,
            "left": null
          }
        },
        "4de5833cb8c743dfb53ade6c26d7b2d8": {
          "model_module": "@jupyter-widgets/controls",
          "model_name": "ProgressStyleModel",
          "model_module_version": "1.5.0",
          "state": {
            "_view_name": "StyleView",
            "_model_name": "ProgressStyleModel",
            "description_width": "",
            "_view_module": "@jupyter-widgets/base",
            "_model_module_version": "1.5.0",
            "_view_count": null,
            "_view_module_version": "1.2.0",
            "bar_color": null,
            "_model_module": "@jupyter-widgets/controls"
          }
        },
        "09b37d0d563347f7ab6ee9620f2d4bb1": {
          "model_module": "@jupyter-widgets/base",
          "model_name": "LayoutModel",
          "model_module_version": "1.2.0",
          "state": {
            "_view_name": "LayoutView",
            "grid_template_rows": null,
            "right": null,
            "justify_content": null,
            "_view_module": "@jupyter-widgets/base",
            "overflow": null,
            "_model_module_version": "1.2.0",
            "_view_count": null,
            "flex_flow": null,
            "width": null,
            "min_width": null,
            "border": null,
            "align_items": null,
            "bottom": null,
            "_model_module": "@jupyter-widgets/base",
            "top": null,
            "grid_column": null,
            "overflow_y": null,
            "overflow_x": null,
            "grid_auto_flow": null,
            "grid_area": null,
            "grid_template_columns": null,
            "flex": null,
            "_model_name": "LayoutModel",
            "justify_items": null,
            "grid_row": null,
            "max_height": null,
            "align_content": null,
            "visibility": null,
            "align_self": null,
            "height": null,
            "min_height": null,
            "padding": null,
            "grid_auto_rows": null,
            "grid_gap": null,
            "max_width": null,
            "order": null,
            "_view_module_version": "1.2.0",
            "grid_template_areas": null,
            "object_position": null,
            "object_fit": null,
            "grid_auto_columns": null,
            "margin": null,
            "display": null,
            "left": null
          }
        },
        "7d712617c9494290b1d9684a5e060d9d": {
          "model_module": "@jupyter-widgets/controls",
          "model_name": "DescriptionStyleModel",
          "model_module_version": "1.5.0",
          "state": {
            "_view_name": "StyleView",
            "_model_name": "DescriptionStyleModel",
            "description_width": "",
            "_view_module": "@jupyter-widgets/base",
            "_model_module_version": "1.5.0",
            "_view_count": null,
            "_view_module_version": "1.2.0",
            "_model_module": "@jupyter-widgets/controls"
          }
        },
        "ce21929ff3cb42aca39abbe819fe15d2": {
          "model_module": "@jupyter-widgets/base",
          "model_name": "LayoutModel",
          "model_module_version": "1.2.0",
          "state": {
            "_view_name": "LayoutView",
            "grid_template_rows": null,
            "right": null,
            "justify_content": null,
            "_view_module": "@jupyter-widgets/base",
            "overflow": null,
            "_model_module_version": "1.2.0",
            "_view_count": null,
            "flex_flow": null,
            "width": null,
            "min_width": null,
            "border": null,
            "align_items": null,
            "bottom": null,
            "_model_module": "@jupyter-widgets/base",
            "top": null,
            "grid_column": null,
            "overflow_y": null,
            "overflow_x": null,
            "grid_auto_flow": null,
            "grid_area": null,
            "grid_template_columns": null,
            "flex": null,
            "_model_name": "LayoutModel",
            "justify_items": null,
            "grid_row": null,
            "max_height": null,
            "align_content": null,
            "visibility": null,
            "align_self": null,
            "height": null,
            "min_height": null,
            "padding": null,
            "grid_auto_rows": null,
            "grid_gap": null,
            "max_width": null,
            "order": null,
            "_view_module_version": "1.2.0",
            "grid_template_areas": null,
            "object_position": null,
            "object_fit": null,
            "grid_auto_columns": null,
            "margin": null,
            "display": null,
            "left": null
          }
        },
        "4cd459c27d914349befedfd3e41597a4": {
          "model_module": "@jupyter-widgets/controls",
          "model_name": "HBoxModel",
          "model_module_version": "1.5.0",
          "state": {
            "_view_name": "HBoxView",
            "_dom_classes": [],
            "_model_name": "HBoxModel",
            "_view_module": "@jupyter-widgets/controls",
            "_model_module_version": "1.5.0",
            "_view_count": null,
            "_view_module_version": "1.5.0",
            "box_style": "",
            "layout": "IPY_MODEL_0df938b2d30e44acb4f5bd1fe924798a",
            "_model_module": "@jupyter-widgets/controls",
            "children": [
              "IPY_MODEL_2fa790ab34c64ad4b0e1807121aea77b",
              "IPY_MODEL_f5b8556734704d67a482d6edb4f90916",
              "IPY_MODEL_a639d8393c8d4cdaa2e02d048647d349"
            ]
          }
        },
        "0df938b2d30e44acb4f5bd1fe924798a": {
          "model_module": "@jupyter-widgets/base",
          "model_name": "LayoutModel",
          "model_module_version": "1.2.0",
          "state": {
            "_view_name": "LayoutView",
            "grid_template_rows": null,
            "right": null,
            "justify_content": null,
            "_view_module": "@jupyter-widgets/base",
            "overflow": null,
            "_model_module_version": "1.2.0",
            "_view_count": null,
            "flex_flow": null,
            "width": null,
            "min_width": null,
            "border": null,
            "align_items": null,
            "bottom": null,
            "_model_module": "@jupyter-widgets/base",
            "top": null,
            "grid_column": null,
            "overflow_y": null,
            "overflow_x": null,
            "grid_auto_flow": null,
            "grid_area": null,
            "grid_template_columns": null,
            "flex": null,
            "_model_name": "LayoutModel",
            "justify_items": null,
            "grid_row": null,
            "max_height": null,
            "align_content": null,
            "visibility": null,
            "align_self": null,
            "height": null,
            "min_height": null,
            "padding": null,
            "grid_auto_rows": null,
            "grid_gap": null,
            "max_width": null,
            "order": null,
            "_view_module_version": "1.2.0",
            "grid_template_areas": null,
            "object_position": null,
            "object_fit": null,
            "grid_auto_columns": null,
            "margin": null,
            "display": null,
            "left": null
          }
        },
        "2fa790ab34c64ad4b0e1807121aea77b": {
          "model_module": "@jupyter-widgets/controls",
          "model_name": "HTMLModel",
          "model_module_version": "1.5.0",
          "state": {
            "_view_name": "HTMLView",
            "style": "IPY_MODEL_8dd5bf1675c04af5b3e42a72cafe60a9",
            "_dom_classes": [],
            "description": "",
            "_model_name": "HTMLModel",
            "placeholder": "​",
            "_view_module": "@jupyter-widgets/controls",
            "_model_module_version": "1.5.0",
            "value": "100%",
            "_view_count": null,
            "_view_module_version": "1.5.0",
            "description_tooltip": null,
            "_model_module": "@jupyter-widgets/controls",
            "layout": "IPY_MODEL_78013cddb5814c5b95fe5854e7cf96bf"
          }
        },
        "f5b8556734704d67a482d6edb4f90916": {
          "model_module": "@jupyter-widgets/controls",
          "model_name": "FloatProgressModel",
          "model_module_version": "1.5.0",
          "state": {
            "_view_name": "ProgressView",
            "style": "IPY_MODEL_8fce0537172b430db38ce11efc15369a",
            "_dom_classes": [],
            "description": "",
            "_model_name": "FloatProgressModel",
            "bar_style": "success",
            "max": 5,
            "_view_module": "@jupyter-widgets/controls",
            "_model_module_version": "1.5.0",
            "value": 5,
            "_view_count": null,
            "_view_module_version": "1.5.0",
            "orientation": "horizontal",
            "min": 0,
            "description_tooltip": null,
            "_model_module": "@jupyter-widgets/controls",
            "layout": "IPY_MODEL_228fdb94cd5f4b0f8a77312efd3a12bb"
          }
        },
        "a639d8393c8d4cdaa2e02d048647d349": {
          "model_module": "@jupyter-widgets/controls",
          "model_name": "HTMLModel",
          "model_module_version": "1.5.0",
          "state": {
            "_view_name": "HTMLView",
            "style": "IPY_MODEL_348e5bc277e1436aa8d800fa6eb8d07e",
            "_dom_classes": [],
            "description": "",
            "_model_name": "HTMLModel",
            "placeholder": "​",
            "_view_module": "@jupyter-widgets/controls",
            "_model_module_version": "1.5.0",
            "value": " 5/5 [00:23&lt;00:00,  4.99s/it]",
            "_view_count": null,
            "_view_module_version": "1.5.0",
            "description_tooltip": null,
            "_model_module": "@jupyter-widgets/controls",
            "layout": "IPY_MODEL_36536dc54d004dff8357015cb46a69a1"
          }
        },
        "8dd5bf1675c04af5b3e42a72cafe60a9": {
          "model_module": "@jupyter-widgets/controls",
          "model_name": "DescriptionStyleModel",
          "model_module_version": "1.5.0",
          "state": {
            "_view_name": "StyleView",
            "_model_name": "DescriptionStyleModel",
            "description_width": "",
            "_view_module": "@jupyter-widgets/base",
            "_model_module_version": "1.5.0",
            "_view_count": null,
            "_view_module_version": "1.2.0",
            "_model_module": "@jupyter-widgets/controls"
          }
        },
        "78013cddb5814c5b95fe5854e7cf96bf": {
          "model_module": "@jupyter-widgets/base",
          "model_name": "LayoutModel",
          "model_module_version": "1.2.0",
          "state": {
            "_view_name": "LayoutView",
            "grid_template_rows": null,
            "right": null,
            "justify_content": null,
            "_view_module": "@jupyter-widgets/base",
            "overflow": null,
            "_model_module_version": "1.2.0",
            "_view_count": null,
            "flex_flow": null,
            "width": null,
            "min_width": null,
            "border": null,
            "align_items": null,
            "bottom": null,
            "_model_module": "@jupyter-widgets/base",
            "top": null,
            "grid_column": null,
            "overflow_y": null,
            "overflow_x": null,
            "grid_auto_flow": null,
            "grid_area": null,
            "grid_template_columns": null,
            "flex": null,
            "_model_name": "LayoutModel",
            "justify_items": null,
            "grid_row": null,
            "max_height": null,
            "align_content": null,
            "visibility": null,
            "align_self": null,
            "height": null,
            "min_height": null,
            "padding": null,
            "grid_auto_rows": null,
            "grid_gap": null,
            "max_width": null,
            "order": null,
            "_view_module_version": "1.2.0",
            "grid_template_areas": null,
            "object_position": null,
            "object_fit": null,
            "grid_auto_columns": null,
            "margin": null,
            "display": null,
            "left": null
          }
        },
        "8fce0537172b430db38ce11efc15369a": {
          "model_module": "@jupyter-widgets/controls",
          "model_name": "ProgressStyleModel",
          "model_module_version": "1.5.0",
          "state": {
            "_view_name": "StyleView",
            "_model_name": "ProgressStyleModel",
            "description_width": "",
            "_view_module": "@jupyter-widgets/base",
            "_model_module_version": "1.5.0",
            "_view_count": null,
            "_view_module_version": "1.2.0",
            "bar_color": null,
            "_model_module": "@jupyter-widgets/controls"
          }
        },
        "228fdb94cd5f4b0f8a77312efd3a12bb": {
          "model_module": "@jupyter-widgets/base",
          "model_name": "LayoutModel",
          "model_module_version": "1.2.0",
          "state": {
            "_view_name": "LayoutView",
            "grid_template_rows": null,
            "right": null,
            "justify_content": null,
            "_view_module": "@jupyter-widgets/base",
            "overflow": null,
            "_model_module_version": "1.2.0",
            "_view_count": null,
            "flex_flow": null,
            "width": null,
            "min_width": null,
            "border": null,
            "align_items": null,
            "bottom": null,
            "_model_module": "@jupyter-widgets/base",
            "top": null,
            "grid_column": null,
            "overflow_y": null,
            "overflow_x": null,
            "grid_auto_flow": null,
            "grid_area": null,
            "grid_template_columns": null,
            "flex": null,
            "_model_name": "LayoutModel",
            "justify_items": null,
            "grid_row": null,
            "max_height": null,
            "align_content": null,
            "visibility": null,
            "align_self": null,
            "height": null,
            "min_height": null,
            "padding": null,
            "grid_auto_rows": null,
            "grid_gap": null,
            "max_width": null,
            "order": null,
            "_view_module_version": "1.2.0",
            "grid_template_areas": null,
            "object_position": null,
            "object_fit": null,
            "grid_auto_columns": null,
            "margin": null,
            "display": null,
            "left": null
          }
        },
        "348e5bc277e1436aa8d800fa6eb8d07e": {
          "model_module": "@jupyter-widgets/controls",
          "model_name": "DescriptionStyleModel",
          "model_module_version": "1.5.0",
          "state": {
            "_view_name": "StyleView",
            "_model_name": "DescriptionStyleModel",
            "description_width": "",
            "_view_module": "@jupyter-widgets/base",
            "_model_module_version": "1.5.0",
            "_view_count": null,
            "_view_module_version": "1.2.0",
            "_model_module": "@jupyter-widgets/controls"
          }
        },
        "36536dc54d004dff8357015cb46a69a1": {
          "model_module": "@jupyter-widgets/base",
          "model_name": "LayoutModel",
          "model_module_version": "1.2.0",
          "state": {
            "_view_name": "LayoutView",
            "grid_template_rows": null,
            "right": null,
            "justify_content": null,
            "_view_module": "@jupyter-widgets/base",
            "overflow": null,
            "_model_module_version": "1.2.0",
            "_view_count": null,
            "flex_flow": null,
            "width": null,
            "min_width": null,
            "border": null,
            "align_items": null,
            "bottom": null,
            "_model_module": "@jupyter-widgets/base",
            "top": null,
            "grid_column": null,
            "overflow_y": null,
            "overflow_x": null,
            "grid_auto_flow": null,
            "grid_area": null,
            "grid_template_columns": null,
            "flex": null,
            "_model_name": "LayoutModel",
            "justify_items": null,
            "grid_row": null,
            "max_height": null,
            "align_content": null,
            "visibility": null,
            "align_self": null,
            "height": null,
            "min_height": null,
            "padding": null,
            "grid_auto_rows": null,
            "grid_gap": null,
            "max_width": null,
            "order": null,
            "_view_module_version": "1.2.0",
            "grid_template_areas": null,
            "object_position": null,
            "object_fit": null,
            "grid_auto_columns": null,
            "margin": null,
            "display": null,
            "left": null
          }
        }
      }
    }
  },
  "cells": [
    {
      "cell_type": "markdown",
      "metadata": {
        "id": "view-in-github",
        "colab_type": "text"
      },
      "source": [
        "<a href=\"https://colab.research.google.com/github/liao961120/hgct/blob/main/docs_source/nb/corpusAnalysis.ipynb\" target=\"_parent\"><img src=\"https://colab.research.google.com/assets/colab-badge.svg\" alt=\"Open In Colab\"/></a>"
      ]
    },
    {
      "cell_type": "code",
      "metadata": {
        "id": "solar-defense",
        "outputId": "bde99740-04f9-499c-d60c-f9ee07a2e848",
        "colab": {
          "base_uri": "https://localhost:8080/"
        }
      },
      "source": [
        "!gdown https://github.com/liao961120/hgct/raw/main/test/data.zip\n",
        "!unzip -q data.zip\n",
        "!pip install -qU hgct"
      ],
      "id": "solar-defense",
      "execution_count": 17,
      "outputs": [
        {
          "output_type": "stream",
          "name": "stdout",
          "text": [
            "Downloading...\n",
            "From: https://github.com/liao961120/hgct/raw/main/test/data.zip\n",
            "To: /content/data.zip\n",
            "\r  0% 0.00/11.5M [00:00<?, ?B/s]\r100% 11.5M/11.5M [00:00<00:00, 150MB/s]\n",
            "replace data/01/儀禮_公食大夫禮.txt? [y]es, [n]o, [A]ll, [N]one, [r]ename: "
          ]
        }
      ]
    },
    {
      "cell_type": "markdown",
      "source": [
        "In this second tutorial, we demonstrate functions for quantitative analysis of the corpus in *hgct*. To get started, we need two additional objects `CompoAnalysis` and `Dispersion` in addition to the `Concordancer` object introduced in the previous tutorial. The corpus used is identical to the one in Appendix A.\n",
        "\n",
        "Note that when initializing with `CompoAnalysis()` and `PlainTextReader()`, the argument `auto_load=False` needs to be given to `PlainTextReader()`. This prevents the full corpus to be loaded into the memory, such that functionalities provided by `CompoAnalysis` could be used to analyze large data that do not fit into the computer's memory. For more information, refer to the source code on GitHub[^compoanalysis-src].\n",
        "\n",
        "[^compoanalysis-src]: https://github.com/liao961120/hgct/blob/main/hgct/compoAnalysis.py"
      ],
      "metadata": {
        "id": "f03izYQ___La"
      },
      "id": "f03izYQ___La"
    },
    {
      "cell_type": "code",
      "source": [
        "import pandas as pd\n",
        "from hgct import PlainTextReader, Concordancer, CompoAnalysis, Dispersion\n",
        "\n",
        "CC = Concordancer(PlainTextReader(\"data/\").corpus)\n",
        "CA = CompoAnalysis(PlainTextReader(\"data/\", auto_load=False))\n",
        "DP = Dispersion(PlainTextReader(\"data\").corpus)"
      ],
      "metadata": {
        "colab": {
          "base_uri": "https://localhost:8080/",
          "height": 218,
          "referenced_widgets": [
            "a2fa6e2842584e23bf1daed1f992022b",
            "56460a7c083a4deda60d344790e72e00",
            "a897d2e47ee747be9cd95107e4a73b57",
            "464f54beb5154c608cc8166c26d6cad4",
            "be13ccc43bbe444abc6f09dcd4e9e384",
            "791d59fd8ac74f7ca48bcb1191bf05db",
            "e17dd2299cc0460d90188de003bc5c8f",
            "3cdb3952e0d84e019ea9be0540a22d40",
            "93e3f657787548a1bdf265629021caef",
            "4f3c42932b254e5a824ef8e55c69720a",
            "b7ceef4b42ef4cc691687e6291eb0e13",
            "ebadab87ec68430e9093811fd010db7f",
            "efb2665f9f4449fc8ad6adcb8aa51468",
            "aead17c2b30f45e0aed42e49801d6e58",
            "1f6d97438d7446479cd9e93f8b0a8b62",
            "6715b5e46c0444778f5415e3c3c4067e",
            "652c267750ea4f79b9b2e294c5fd3a0f",
            "1482a2fd822f426fbd7b1dbf970393cc",
            "3068c67340d94b649a6ab2beec79c86e",
            "e4db6ebe8932429180efb7696b704099",
            "e630e7618f944749ab787cc5685a2284",
            "f5732c199e234d36945c701a36c6b330",
            "3ad92478e3194e54ab70115c476ab89b",
            "cf23f571c7b244e788fac32051b18ef8",
            "e5cbaca2b6504b7f81db3dfc2da0dbc1",
            "c859df84a3984567a3413188cfc5a319",
            "4ba9579e01604358998cdd909684e817",
            "93918940698d406ea78741c3293051ea",
            "b68a8ab4ce454de99eff6d594c5e9e62",
            "ce5e33e5a9c4414ea2f3c3f39184a5ec",
            "055488ff712749a1b2d44cc42ec72be0",
            "2344e6a778e74f4fbc8c0866b2743602",
            "dfb83db9ddbb4ded946e887562faf4ce",
            "ec7bea9b26194c26b025eebb55667938",
            "a35c7a5b42354848b648204dbc613afe",
            "0661844ed7db4d4f8fa33fdbdcfaa948",
            "106d13e936994f4ab5c7c40a456e9d8e",
            "86afcc7d003d47dcb7fc8aff80f32cad",
            "3add2d20b8c3402d853d60f9235ed170",
            "c4be195151cb4390a0b04a4ff55e4a91",
            "b3cbce1144624c5588ac2a3bd0a9c559",
            "9b5ffcdc65524d03a4087ee60243e789",
            "e95104c2c28b4cbab5f6ab3656fe86b8",
            "9c8eca8758e94429ad3f91542f39e595"
          ]
        },
        "id": "zJJ_i98WwRol",
        "outputId": "7f4ed6ea-3787-423d-f2cf-66e77c4e13f3"
      },
      "id": "zJJ_i98WwRol",
      "execution_count": 18,
      "outputs": [
        {
          "output_type": "stream",
          "name": "stdout",
          "text": [
            "Indexing corpus for text retrival...\n"
          ]
        },
        {
          "output_type": "display_data",
          "data": {
            "application/vnd.jupyter.widget-view+json": {
              "model_id": "a2fa6e2842584e23bf1daed1f992022b",
              "version_minor": 0,
              "version_major": 2
            },
            "text/plain": [
              "  0%|          | 0/5 [00:00<?, ?it/s]"
            ]
          },
          "metadata": {}
        },
        {
          "output_type": "stream",
          "name": "stdout",
          "text": [
            "Indexing corpus for concordance search...\n"
          ]
        },
        {
          "output_type": "display_data",
          "data": {
            "application/vnd.jupyter.widget-view+json": {
              "model_id": "ebadab87ec68430e9093811fd010db7f",
              "version_minor": 0,
              "version_major": 2
            },
            "text/plain": [
              "  0%|          | 0/5 [00:00<?, ?it/s]"
            ]
          },
          "metadata": {}
        },
        {
          "output_type": "stream",
          "name": "stdout",
          "text": [
            "Indexing corpus for text retrival...\n"
          ]
        },
        {
          "output_type": "display_data",
          "data": {
            "application/vnd.jupyter.widget-view+json": {
              "model_id": "3ad92478e3194e54ab70115c476ab89b",
              "version_minor": 0,
              "version_major": 2
            },
            "text/plain": [
              "  0%|          | 0/5 [00:00<?, ?it/s]"
            ]
          },
          "metadata": {}
        },
        {
          "output_type": "stream",
          "name": "stdout",
          "text": [
            "Indexing corpus for concordance search...\n"
          ]
        },
        {
          "output_type": "display_data",
          "data": {
            "application/vnd.jupyter.widget-view+json": {
              "model_id": "ec7bea9b26194c26b025eebb55667938",
              "version_minor": 0,
              "version_major": 2
            },
            "text/plain": [
              "  0%|          | 0/5 [00:00<?, ?it/s]"
            ]
          },
          "metadata": {}
        }
      ]
    },
    {
      "cell_type": "markdown",
      "source": [
        "## Frequency List (Distribution)\n",
        "\n",
        "Freqency lists are provided by the function `CompoAnalysis.freq_distr()`. Based on the arguments passed, this function computes and return the frequency distribution of either the characters, IDCs, Kangxi radicals, or characters with a given radical/component. Below, we demonstrate each of these types of frequency distributions.\n"
      ],
      "metadata": {
        "id": "i3pM6wrDxnH2"
      },
      "id": "i3pM6wrDxnH2"
    },
    {
      "cell_type": "markdown",
      "source": [
        "### Character\n",
        "\n",
        "To return the frequency distribution of the characters in the corpus, set the argument `tp` to `\"chr\"`. `CompoAnalysis.freq_distr()` by default returns a `Counter`[^py-counter], which has the convenient method `most_common()` that could be used to retrieve the terms with the highest frequencies.\n",
        "\n",
        "[^py-counter]: https://docs.python.org/3/library/collections.html#collections.Counter"
      ],
      "metadata": {
        "id": "9dc3WgcVxsso"
      },
      "id": "9dc3WgcVxsso"
    },
    {
      "cell_type": "code",
      "source": [
        "CA.freq_distr(tp=\"chr\").most_common(5)"
      ],
      "metadata": {
        "colab": {
          "base_uri": "https://localhost:8080/"
        },
        "id": "O3hy3rrfw7nC",
        "outputId": "fad03fd0-8e33-4a89-bac8-31e37b36181e"
      },
      "id": "O3hy3rrfw7nC",
      "execution_count": null,
      "outputs": [
        {
          "output_type": "execute_result",
          "data": {
            "text/plain": [
              "[('之', 210608), ('不', 129212), ('也', 107639), ('以', 104578), ('而', 92963)]"
            ]
          },
          "metadata": {},
          "execution_count": 6
        }
      ]
    },
    {
      "cell_type": "markdown",
      "source": [
        "As mentioned in @sec:app-search-by-character, we could limit the scope of calculation to a particular subcorpus by specifying the its index. To do this, pass the arguement `subcorp_idx` to the function. The example below sets the subcorpus to `3`, which is the subcorpus of modern Chinese (ASBC).\n"
      ],
      "metadata": {
        "id": "gyTwIeKHFQhk"
      },
      "id": "gyTwIeKHFQhk"
    },
    {
      "cell_type": "code",
      "source": [
        "CA.freq_distr(tp=\"chr\", subcorp_idx=3).most_common(5)"
      ],
      "metadata": {
        "colab": {
          "base_uri": "https://localhost:8080/"
        },
        "id": "UqgQr6ksxOhu",
        "outputId": "6a16b4da-46fc-4f23-fe6d-8b0391d218aa"
      },
      "id": "UqgQr6ksxOhu",
      "execution_count": null,
      "outputs": [
        {
          "output_type": "execute_result",
          "data": {
            "text/plain": [
              "[('的', 15826), ('一', 5537), ('是', 5130), ('不', 4469), ('人', 4042)]"
            ]
          },
          "metadata": {},
          "execution_count": 107
        }
      ]
    },
    {
      "cell_type": "markdown",
      "source": [
        "### IDC\n",
        "\n",
        "Frequency distributions of the Ideographic Description Characters (IDCs) could similarly be retrieved by setting `tp` to `\"idc\"`. Note that there is an argument `use_chr_types` that applies when `tp=\"idc\"` (IDC) or `tp=\"rad\"` (radical). `use_chr_types` is used to determine how to compute the frequencies. If it is set to `False`, character frequencies are considered. If it is `True`, character frequencies are discarded. In other words, when `use_chr_types=False`, an IDC or a radical would only be counted once for each type of character. See @sec:frequency-lists for a toy example."
      ],
      "metadata": {
        "id": "DW2vGN_yxlGX"
      },
      "id": "DW2vGN_yxlGX"
    },
    {
      "cell_type": "code",
      "source": [
        "CA.freq_distr(tp=\"idc\", subcorp_idx=3)"
      ],
      "metadata": {
        "colab": {
          "base_uri": "https://localhost:8080/"
        },
        "id": "yqkcTZLgxf6G",
        "outputId": "70308d2f-eaa5-4a1e-f5f2-78c8ed145134"
      },
      "id": "yqkcTZLgxf6G",
      "execution_count": null,
      "outputs": [
        {
          "output_type": "execute_result",
          "data": {
            "text/plain": [
              "Counter({'': 48725,\n",
              "         '⿰': 167681,\n",
              "         '⿱': 120035,\n",
              "         '⿲': 1965,\n",
              "         '⿳': 4068,\n",
              "         '⿴': 5744,\n",
              "         '⿵': 7834,\n",
              "         '⿶': 1637,\n",
              "         '⿷': 537,\n",
              "         '⿸': 18511,\n",
              "         '⿹': 4412,\n",
              "         '⿺': 13451,\n",
              "         '⿻': 10324})"
            ]
          },
          "metadata": {},
          "execution_count": 27
        }
      ]
    },
    {
      "cell_type": "code",
      "source": [
        "CA.freq_distr(tp=\"idc\", use_chr_types=True, subcorp_idx=3)"
      ],
      "metadata": {
        "colab": {
          "base_uri": "https://localhost:8080/"
        },
        "id": "K_mBjV52ychm",
        "outputId": "61b02428-8486-40fb-d401-962f104a058e"
      },
      "id": "K_mBjV52ychm",
      "execution_count": null,
      "outputs": [
        {
          "output_type": "execute_result",
          "data": {
            "text/plain": [
              "Counter({'': 119,\n",
              "         '⿰': 2454,\n",
              "         '⿱': 1019,\n",
              "         '⿲': 26,\n",
              "         '⿳': 39,\n",
              "         '⿴': 18,\n",
              "         '⿵': 45,\n",
              "         '⿶': 6,\n",
              "         '⿷': 12,\n",
              "         '⿸': 176,\n",
              "         '⿹': 41,\n",
              "         '⿺': 123,\n",
              "         '⿻': 32})"
            ]
          },
          "metadata": {},
          "execution_count": 28
        }
      ]
    },
    {
      "cell_type": "markdown",
      "source": [
        "### Radical\n",
        "\n",
        "To retrieve frequency distributions for radicals, set `tp=\"rad\"`. The usage of `use_chr_types` here is similar to the IDC described above."
      ],
      "metadata": {
        "id": "A65wHz8kxvOR"
      },
      "id": "A65wHz8kxvOR"
    },
    {
      "cell_type": "code",
      "source": [
        "CA.freq_distr(tp=\"rad\", subcorp_idx=3).most_common(5)"
      ],
      "metadata": {
        "colab": {
          "base_uri": "https://localhost:8080/"
        },
        "id": "fCNZZr8Tx0_E",
        "outputId": "22309249-a191-49a0-a1dc-e7941e6fdc8a"
      },
      "id": "fCNZZr8Tx0_E",
      "execution_count": null,
      "outputs": [
        {
          "output_type": "execute_result",
          "data": {
            "text/plain": [
              "[('人', 28149), ('白', 16640), ('一', 15567), ('口', 15443), ('水', 11552)]"
            ]
          },
          "metadata": {},
          "execution_count": 26
        }
      ]
    },
    {
      "cell_type": "code",
      "source": [
        "CA.freq_distr(tp=\"rad\", use_chr_types=True, subcorp_idx=3).most_common(5)"
      ],
      "metadata": {
        "colab": {
          "base_uri": "https://localhost:8080/"
        },
        "id": "2qxAFbZ4ymlV",
        "outputId": "8e428ea7-94e7-4f81-92fe-220acdc079aa"
      },
      "id": "2qxAFbZ4ymlV",
      "execution_count": null,
      "outputs": [
        {
          "output_type": "execute_result",
          "data": {
            "text/plain": [
              "[('水', 233), ('口', 207), ('手', 201), ('人', 172), ('木', 171)]"
            ]
          },
          "metadata": {},
          "execution_count": 25
        }
      ]
    },
    {
      "cell_type": "markdown",
      "source": [
        "### Characters with a given radical\n",
        "\n",
        "It is also possible to look into charcters of a specific type. By setting `tp=None`, one could then pass in a radical to the argument `radical` to look at the frequency distribution of the characters with this particular radical."
      ],
      "metadata": {
        "id": "ADGrxH2WyAuC"
      },
      "id": "ADGrxH2WyAuC"
    },
    {
      "cell_type": "code",
      "source": [
        "CA.freq_distr(tp=None, radical=\"广\").most_common(5)"
      ],
      "metadata": {
        "colab": {
          "base_uri": "https://localhost:8080/"
        },
        "id": "zdXkAlpbyC4Y",
        "outputId": "504ab6ff-7b11-4add-d419-632bb21a6dee"
      },
      "id": "zdXkAlpbyC4Y",
      "execution_count": null,
      "outputs": [
        {
          "output_type": "execute_result",
          "data": {
            "text/plain": [
              "[('度', 4757), ('廣', 4050), ('廟', 3067), ('府', 3064), ('廢', 2542)]"
            ]
          },
          "metadata": {},
          "execution_count": 30
        }
      ]
    },
    {
      "cell_type": "markdown",
      "source": [
        "### Characters with a given IDC component\n",
        "\n",
        "Similarly, a frequency distribution of characters of a specific type defined according to a component and an optional IDC describing the shape, could also be retrieved by specifying `tp=None` and the arguments `compo` and `idc` (optional)."
      ],
      "metadata": {
        "id": "CPzqotSuyO6L"
      },
      "id": "CPzqotSuyO6L"
    },
    {
      "cell_type": "code",
      "source": [
        "CA.freq_distr(tp=None, compo=\"水\", idc=\"vert2\")"
      ],
      "metadata": {
        "colab": {
          "base_uri": "https://localhost:8080/"
        },
        "id": "qxRtRMKvyQ0e",
        "outputId": "26d05b0d-1b7f-4771-b6ae-fb1f44cb465a"
      },
      "id": "qxRtRMKvyQ0e",
      "execution_count": null,
      "outputs": [
        {
          "output_type": "execute_result",
          "data": {
            "text/plain": [
              "Counter({'氶': 1,\n",
              "         '汞': 15,\n",
              "         '沓': 89,\n",
              "         '泉': 1349,\n",
              "         '泵': 3,\n",
              "         '淼': 4,\n",
              "         '滎': 344,\n",
              "         '漀': 1,\n",
              "         '漐': 9,\n",
              "         '漿': 153,\n",
              "         '澩': 3,\n",
              "         '灓': 5})"
            ]
          },
          "metadata": {},
          "execution_count": 111
        }
      ]
    },
    {
      "cell_type": "markdown",
      "metadata": {
        "id": "fuzzy-granny"
      },
      "source": [
        "## Dispersion\n",
        "\n",
        "Measures of dispersion could be calculated based on a charcter or a search pattern. "
      ],
      "id": "fuzzy-granny"
    },
    {
      "cell_type": "markdown",
      "metadata": {
        "id": "covered-parallel"
      },
      "source": [
        "### Dispersion Measures for Characters\n",
        "\n",
        "`Dispersion.char_dispersion()` is used for calculating dispersion measures for a character. The examples below uses the toy corpus in Gries (2020) to demonstrate the validity of the returned measure. The values should be identical to those in Table 1 of Gries (2020)."
      ],
      "id": "covered-parallel"
    },
    {
      "cell_type": "code",
      "source": [
        "# Gries (2020, Table 1)\n",
        "DP.char_dispersion(char='a', subcorp_idx=4)"
      ],
      "metadata": {
        "colab": {
          "base_uri": "https://localhost:8080/"
        },
        "id": "oQOiz4kNzefR",
        "outputId": "c7da95e8-271c-4b54-a47b-12b795937923"
      },
      "id": "oQOiz4kNzefR",
      "execution_count": null,
      "outputs": [
        {
          "output_type": "execute_result",
          "data": {
            "text/plain": [
              "{'DP': 0.18,\n",
              " 'DPnorm': 0.2195121951219512,\n",
              " 'JuillandD': 0.7851504534504508,\n",
              " 'KLdivergence': 0.13697172936522078,\n",
              " 'Range': 5,\n",
              " 'RosengrenS': 0.9498163423042408}"
            ]
          },
          "metadata": {},
          "execution_count": 45
        }
      ]
    },
    {
      "cell_type": "code",
      "source": [
        "# Setting return_raw=True to get the raw data for dispersion calculation\n",
        "DP.char_dispersion(char='a', return_raw=True, subcorp_idx=4)"
      ],
      "metadata": {
        "colab": {
          "base_uri": "https://localhost:8080/"
        },
        "id": "CkRCf0mb2_ch",
        "outputId": "abbd07b4-e5b1-48f2-f5c6-48f264f94d5f"
      },
      "id": "CkRCf0mb2_ch",
      "execution_count": null,
      "outputs": [
        {
          "output_type": "execute_result",
          "data": {
            "text/plain": [
              "({'DP': 0.18,\n",
              "  'DPnorm': 0.2195121951219512,\n",
              "  'JuillandD': 0.7851504534504508,\n",
              "  'KLdivergence': 0.13697172936522078,\n",
              "  'Range': 5,\n",
              "  'RosengrenS': 0.9498163423042408},\n",
              " {'corpus_size': 50,\n",
              "  'f': 15,\n",
              "  'n': 5,\n",
              "  'p': [0.1111111111111111, 0.45454545454545453, 0.3, 0.2, 0.4],\n",
              "  's': [0.18, 0.22, 0.2, 0.2, 0.2],\n",
              "  'v': [1, 5, 3, 2, 4]})"
            ]
          },
          "metadata": {},
          "execution_count": 46
        }
      ]
    },
    {
      "cell_type": "markdown",
      "source": [
        "To see how dispersion measures behave on real data, we calculate dispersion measures for four characters (之, 也, 草, and 巾) in a corpus of Literary Chinese texts. The first two characters 之 and 也 are often used as function words, and the last two as content words in Literary Chinese. Hence, we would expect the first two to be distributed evenly, and the last two unevenly in the corpus.\n",
        "\n",
        "\n"
      ],
      "metadata": {
        "id": "ddBXRTD1NdhC"
      },
      "id": "ddBXRTD1NdhC"
    },
    {
      "cell_type": "code",
      "source": [
        "subcorp_idx = 0\n",
        "df_disp = []\n",
        "for ch in '之也草巾':\n",
        "    stats, raw = DP.char_dispersion(char=ch, subcorp_idx=subcorp_idx, return_raw=True)\n",
        "    d = {\n",
        "         'char': ch,\n",
        "         'Range(%)': '{:.2f}'.format(100 * stats['Range'] / raw['n']),\n",
        "         **stats\n",
        "    }\n",
        "    df_disp.append(d)\n",
        "df_disp = pd.DataFrame(df_disp)\n",
        "print(df_disp.to_markdown(index=False, floatfmt=\".2f\", numalign=\"left\"))"
      ],
      "metadata": {
        "colab": {
          "base_uri": "https://localhost:8080/"
        },
        "id": "hnT8x2EvzzSn",
        "outputId": "f4fb9e90-db5f-4a3e-e6f2-77beee785248"
      },
      "id": "hnT8x2EvzzSn",
      "execution_count": 27,
      "outputs": [
        {
          "output_type": "stream",
          "name": "stdout",
          "text": [
            "| char   | Range(%)   | Range   | DP   | DPnorm   | KLdivergence   | JuillandD   | RosengrenS   |\n",
            "|:-------|:-----------|:--------|:-----|:---------|:---------------|:------------|:-------------|\n",
            "| 之     | 90.98      | 666     | 0.13 | 0.13     | 0.10           | 0.98        | 0.96         |\n",
            "| 也     | 77.05      | 564     | 0.25 | 0.25     | 0.40           | 0.96        | 0.82         |\n",
            "| 草     | 22.40      | 164     | 0.65 | 0.65     | 2.33           | 0.86        | 0.32         |\n",
            "| 巾     | 3.69       | 27      | 0.84 | 0.84     | 4.08           | 0.54        | 0.10         |\n"
          ]
        }
      ]
    },
    {
      "cell_type": "markdown",
      "metadata": {
        "id": "certified-ambassador"
      },
      "source": [
        "### Dispersion Measures of Complex Forms (defined by CQL)\n",
        "\n",
        "Dispersion measures for abstract units could also be calculated with the returned concordance lines provided by `Concordancer.cql_search()`. The function `DP.pattern_dispersion()` is designed to take the queried results from `Concordancer.cql_search()` to calculate dispersion measures."
      ],
      "id": "certified-ambassador"
    },
    {
      "cell_type": "code",
      "metadata": {
        "id": "covered-stylus",
        "outputId": "6ff562a5-3505-4b67-9f55-3fad4b0db066",
        "colab": {
          "base_uri": "https://localhost:8080/"
        }
      },
      "source": [
        "cql = \"\"\"\n",
        "[semtag=\"人體精神\"] [semtag=\"人體精神\"]\n",
        "\"\"\"\n",
        "results = list(CC.cql_search(cql, left=3, right=3))\n",
        "print('Num of results:', len(results))\n",
        "for r in results[:3]: print(r)"
      ],
      "id": "covered-stylus",
      "execution_count": 24,
      "outputs": [
        {
          "output_type": "stream",
          "name": "stdout",
          "text": [
            "Num of results: 8459\n",
            "<Concord 侯之心{惕惕}焉。」>\n",
            "<Concord 突盜，{惕悍}憍暴，>\n",
            "<Concord 皆有怵{惕惻}隱之心>\n"
          ]
        }
      ]
    },
    {
      "cell_type": "code",
      "source": [
        "DP.pattern_dispersion(data=results, subcorp_idx=2)"
      ],
      "metadata": {
        "colab": {
          "base_uri": "https://localhost:8080/"
        },
        "id": "yH81mIqC35VX",
        "outputId": "27809c35-b950-411b-badc-a782084a2a93"
      },
      "id": "yH81mIqC35VX",
      "execution_count": null,
      "outputs": [
        {
          "output_type": "execute_result",
          "data": {
            "text/plain": [
              "{'DP': 0.1504848557289626,\n",
              " 'DPnorm': 0.15050344195568013,\n",
              " 'JuillandD': 0.9387038720245429,\n",
              " 'KLdivergence': 0.135483902941753,\n",
              " 'Range': 134,\n",
              " 'RosengrenS': 0.9428568965311757}"
            ]
          },
          "metadata": {},
          "execution_count": 51
        }
      ]
    },
    {
      "cell_type": "markdown",
      "source": [
        "The example below calcuates dispersion measures for **each of the subcorpora 0, 1, and 2**. This can be useful if the user is interested in constrasting dispersion meaures in different corpora (e.g., genre/diachronic comparison)."
      ],
      "metadata": {
        "id": "mFV4qR5qPz1i"
      },
      "id": "mFV4qR5qPz1i"
    },
    {
      "cell_type": "code",
      "metadata": {
        "id": "bearing-relationship",
        "outputId": "ff57a5ea-396b-41a5-9f30-272831fc26f9",
        "colab": {
          "base_uri": "https://localhost:8080/"
        }
      },
      "source": [
        "# Compute separate dispersion measures for each subcorpus\n",
        "df_pat_disp = []\n",
        "for i in range(3):\n",
        "    stats, raw = DP.pattern_dispersion(data=results, subcorp_idx=i, return_raw=True)\n",
        "    d = {\n",
        "         'Range(%)': '{:.2f}'.format(100 * stats['Range'] / raw['n']),\n",
        "         **stats,\n",
        "         'freq': raw['f'],\n",
        "         'corp_size': raw['corpus_size']\n",
        "    }\n",
        "    df_pat_disp.append(d)\n",
        "df_pat_disp = pd.DataFrame(df_pat_disp)\n",
        "print(df_pat_disp.to_markdown(index=False, floatfmt=\".2f\", numalign=\"left\"))"
      ],
      "id": "bearing-relationship",
      "execution_count": 28,
      "outputs": [
        {
          "output_type": "stream",
          "name": "stdout",
          "text": [
            "| Range(%)   | Range   | DP   | DPnorm   | KLdivergence   | JuillandD   | RosengrenS   | freq   | corp_size   |\n",
            "|:-----------|:--------|:-----|:---------|:---------------|:------------|:-------------|:-------|:------------|\n",
            "| 44.40      | 325     | 0.40 | 0.40     | 1.00           | 0.91        | 0.63         | 1689   | 1858228     |\n",
            "| 53.38      | 560     | 0.33 | 0.33     | 0.62           | 0.95        | 0.75         | 3500   | 3938310     |\n",
            "| 85.90      | 134     | 0.15 | 0.15     | 0.14           | 0.94        | 0.94         | 2489   | 2097273     |\n"
          ]
        }
      ]
    },
    {
      "cell_type": "markdown",
      "metadata": {
        "id": "quality-resolution"
      },
      "source": [
        "## Ngram Frequency\n",
        "\n",
        "We now turn to the relationships across characters. To compute character n-grams, one can use `Concordancer.freq_distr_ngrams()`."
      ],
      "id": "quality-resolution"
    },
    {
      "cell_type": "code",
      "metadata": {
        "id": "circular-lawsuit",
        "outputId": "d556ccc6-54e8-4402-bbac-9da8390a5732",
        "colab": {
          "base_uri": "https://localhost:8080/",
          "height": 86,
          "referenced_widgets": [
            "e579d7bd18554db0be63758a8dc14e0d",
            "90dfeec19f26419590eceb36ffcead06",
            "d473648578a442b1a28a455c1c961897",
            "e3794f10198149979638b562c61f85d5",
            "4d2b4f5489534a3bbb095426627b2fab",
            "8803098785a74779ab6724ac3c64155c",
            "9aab865914064ccf9352820848b413eb",
            "9101bf32ae444b5a8328a8519a3db251",
            "f8e46c828eb84592bc7e33f71ba25872",
            "3d842f9a46f04f258772450a0feae2aa",
            "87f0be02f0ed47eeab55178d6e13d8dc"
          ]
        }
      },
      "source": [
        "CC.freq_distr_ngrams(n=2, subcorp_idx=0).most_common(5)"
      ],
      "id": "circular-lawsuit",
      "execution_count": 4,
      "outputs": [
        {
          "output_type": "stream",
          "name": "stdout",
          "text": [
            "Counting 2-grams...\n"
          ]
        },
        {
          "output_type": "display_data",
          "data": {
            "application/vnd.jupyter.widget-view+json": {
              "model_id": "e579d7bd18554db0be63758a8dc14e0d",
              "version_minor": 0,
              "version_major": 2
            },
            "text/plain": [
              "  0%|          | 0/5 [00:00<?, ?it/s]"
            ]
          },
          "metadata": {}
        },
        {
          "output_type": "execute_result",
          "data": {
            "text/plain": [
              "[('而不', 3913), ('天下', 3661), ('不可', 2985), ('之所', 2723), ('子曰', 2581)]"
            ]
          },
          "metadata": {},
          "execution_count": 4
        }
      ]
    },
    {
      "cell_type": "code",
      "metadata": {
        "id": "affecting-pleasure",
        "outputId": "78da0fc1-3cf6-4bb3-d5b4-0f0fa1dacec4",
        "colab": {
          "base_uri": "https://localhost:8080/",
          "height": 86,
          "referenced_widgets": [
            "74b0c2d9dff645d5a775116612e51b23",
            "d00f6939012743acb547b2ac9aab2c8f",
            "1e6e060d32d84969a69bb534cd241aba",
            "007b3bc8ab904d4e92ec65ca17cab59d",
            "159eca9b611c416b992d55090a1d9f97",
            "19022b62ba644b228831202d88cf6b21",
            "fe8f4b0cc5df467581736b42be8a9721",
            "4de5833cb8c743dfb53ade6c26d7b2d8",
            "09b37d0d563347f7ab6ee9620f2d4bb1",
            "7d712617c9494290b1d9684a5e060d9d",
            "ce21929ff3cb42aca39abbe819fe15d2"
          ]
        }
      },
      "source": [
        "CC.freq_distr_ngrams(n=3, subcorp_idx=0).most_common(5)"
      ],
      "id": "affecting-pleasure",
      "execution_count": 5,
      "outputs": [
        {
          "output_type": "stream",
          "name": "stdout",
          "text": [
            "Counting 3-grams...\n"
          ]
        },
        {
          "output_type": "display_data",
          "data": {
            "application/vnd.jupyter.widget-view+json": {
              "model_id": "74b0c2d9dff645d5a775116612e51b23",
              "version_minor": 0,
              "version_major": 2
            },
            "text/plain": [
              "  0%|          | 0/5 [00:00<?, ?it/s]"
            ]
          },
          "metadata": {}
        },
        {
          "output_type": "execute_result",
          "data": {
            "text/plain": [
              "[('天下之', 946), ('歧伯曰', 766), ('之所以', 605), ('不可以', 580), ('子對曰', 443)]"
            ]
          },
          "metadata": {},
          "execution_count": 5
        }
      ]
    },
    {
      "cell_type": "markdown",
      "metadata": {
        "id": "returning-marriage"
      },
      "source": [
        "## Collocation\n",
        "\n",
        "Association measures could be used to quantify the strengths of attraction between a pair of characters. Pairs with strong attractions could be considered as collocations. *hgct* implements two types of collocation extraction functions. The first (`Concordancer.bigram_associations()`) is based on bigrams, which simply computes association scores for all bigrams. With the second implementation (`Concordancer.collocates()`), users could specify a node and a window size, and characters falling within this window around the node would be treated as a node-collocate pair. Each pair is then computed for an association score."
      ],
      "id": "returning-marriage"
    },
    {
      "cell_type": "markdown",
      "metadata": {
        "id": "82FLXB8C4zdo"
      },
      "source": [
        "### Bigram Association"
      ],
      "id": "82FLXB8C4zdo"
    },
    {
      "cell_type": "code",
      "metadata": {
        "id": "lyric-ensemble",
        "outputId": "02db459f-26e0-419c-a113-647ba73b59f6",
        "colab": {
          "base_uri": "https://localhost:8080/",
          "height": 230,
          "referenced_widgets": [
            "4cd459c27d914349befedfd3e41597a4",
            "0df938b2d30e44acb4f5bd1fe924798a",
            "2fa790ab34c64ad4b0e1807121aea77b",
            "f5b8556734704d67a482d6edb4f90916",
            "a639d8393c8d4cdaa2e02d048647d349",
            "8dd5bf1675c04af5b3e42a72cafe60a9",
            "78013cddb5814c5b95fe5854e7cf96bf",
            "8fce0537172b430db38ce11efc15369a",
            "228fdb94cd5f4b0f8a77312efd3a12bb",
            "348e5bc277e1436aa8d800fa6eb8d07e",
            "36536dc54d004dff8357015cb46a69a1"
          ]
        }
      },
      "source": [
        "bi_asso = CC.bigram_associations(subcorp_idx=3, sort_by=\"Gsq\")\n",
        "bi_asso[0]"
      ],
      "id": "lyric-ensemble",
      "execution_count": 30,
      "outputs": [
        {
          "output_type": "stream",
          "name": "stdout",
          "text": [
            "Counting 2-grams...\n"
          ]
        },
        {
          "output_type": "display_data",
          "data": {
            "application/vnd.jupyter.widget-view+json": {
              "model_id": "4cd459c27d914349befedfd3e41597a4",
              "version_minor": 0,
              "version_major": 2
            },
            "text/plain": [
              "  0%|          | 0/5 [00:00<?, ?it/s]"
            ]
          },
          "metadata": {}
        },
        {
          "output_type": "execute_result",
          "data": {
            "text/plain": [
              "('自己',\n",
              " {'DeltaP12': 0.9778668701918644,\n",
              "  'DeltaP21': 0.36342714003090937,\n",
              "  'Dice': 0.5303392259913999,\n",
              "  'FisherExact': 0.0,\n",
              "  'Gsq': 6188.677676112116,\n",
              "  'MI': 7.855905225817536,\n",
              "  'RawCount': 555,\n",
              "  'Xsq': 128210.23324106314})"
            ]
          },
          "metadata": {},
          "execution_count": 30
        }
      ]
    },
    {
      "cell_type": "code",
      "source": [
        "d = pd.DataFrame([{'bigram': x[0], **x[1]} for x in bi_asso][:5])\n",
        "print(d.to_markdown(index=False, floatfmt=\".2f\", numalign=\"left\"))"
      ],
      "metadata": {
        "colab": {
          "base_uri": "https://localhost:8080/"
        },
        "id": "v1t9KQV9-fLP",
        "outputId": "74f63848-2356-4142-b2a3-d30710b9274d"
      },
      "id": "v1t9KQV9-fLP",
      "execution_count": 31,
      "outputs": [
        {
          "output_type": "stream",
          "name": "stdout",
          "text": [
            "| bigram   | MI   | Xsq       | Gsq     | Dice   | DeltaP21   | DeltaP12   | FisherExact   | RawCount   |\n",
            "|:---------|:-----|:----------|:--------|:-------|:-----------|:-----------|:--------------|:-----------|\n",
            "| 自己     | 7.86 | 128210.23 | 6188.68 | 0.53   | 0.36       | 0.98       | 0.00          | 555        |\n",
            "| 什麼     | 9.15 | 192859.82 | 4474.73 | 0.70   | 0.98       | 0.55       | 0.00          | 339        |\n",
            "| 我們     | 6.18 | 42280.22  | 4389.15 | 0.33   | 0.26       | 0.45       | 0.00          | 592        |\n",
            "| 台灣     | 8.13 | 111740.17 | 4314.05 | 0.54   | 0.45       | 0.69       | 0.00          | 401        |\n",
            "| 沒有     | 6.39 | 43012.13  | 4186.92 | 0.27   | 0.73       | 0.16       | 0.00          | 518        |\n"
          ]
        }
      ]
    },
    {
      "cell_type": "markdown",
      "metadata": {
        "id": "active-feeding"
      },
      "source": [
        "### Node-Collocate Association\n",
        "\n",
        "The example below use the character sequence `我們` as node and looks for collocates occuring on the immediate right (`left=0` and `right=1`) on the node. After computing association scores for each of the node-collocate pairs, the pairs are sorted based on the MI measure. The data frame below shows the top-5 collocates with the highest MI scores (a minimum frequency threshold of 6 is applied) of the node `我們`."
      ],
      "id": "active-feeding"
    },
    {
      "cell_type": "code",
      "metadata": {
        "id": "geological-cholesterol",
        "outputId": "0843db4d-6313-4b1b-dd7f-f9c17720ba75",
        "colab": {
          "base_uri": "https://localhost:8080/"
        }
      },
      "source": [
        "cql = \"\"\"\n",
        "[char=\"我\"] [char=\"們\"]\n",
        "\"\"\"\n",
        "collo = CC.collocates(cql, left=0, right=1, subcorp_idx=3, sort_by=\"MI\", alpha=0)\n",
        "collo[0]"
      ],
      "id": "geological-cholesterol",
      "execution_count": 32,
      "outputs": [
        {
          "output_type": "execute_result",
          "data": {
            "text/plain": [
              "('釘',\n",
              " {'DeltaP12': 0.0016848237685590844,\n",
              "  'DeltaP21': 0.33204500782950214,\n",
              "  'Dice': 0.0033613445378151263,\n",
              "  'FisherExact': 0.003866505328061448,\n",
              "  'Gsq': 9.493215334772461,\n",
              "  'MI': 8.012895027477056,\n",
              "  'RawCount': 1,\n",
              "  'Xsq': 256.6351579547297})"
            ]
          },
          "metadata": {},
          "execution_count": 32
        }
      ]
    },
    {
      "cell_type": "code",
      "source": [
        "d = pd.DataFrame([{'char': x[0], **x[1]} for x in collo if x[1]['RawCount'] > 5][:5])\n",
        "print(d.to_markdown(index=False, floatfmt=\".2f\", numalign=\"left\"))"
      ],
      "metadata": {
        "colab": {
          "base_uri": "https://localhost:8080/"
        },
        "id": "4QvoIznl-cMh",
        "outputId": "a35d766e-c451-414c-fcb4-fa7bf6678eed"
      },
      "id": "4QvoIznl-cMh",
      "execution_count": 33,
      "outputs": [
        {
          "output_type": "stream",
          "name": "stdout",
          "text": [
            "| char   | MI   | Xsq    | Gsq   | Dice   | DeltaP21   | DeltaP12   | FisherExact   | RawCount   |\n",
            "|:-------|:-----|:-------|:------|:-------|:-----------|:-----------|:--------------|:-----------|\n",
            "| 認     | 3.98 | 124.86 | 33.08 | 0.02   | 0.02       | 0.01       | 0.00          | 9          |\n",
            "| 還     | 3.39 | 77.32  | 26.21 | 0.01   | 0.01       | 0.01       | 0.00          | 9          |\n",
            "| 都     | 3.33 | 122.65 | 42.67 | 0.02   | 0.01       | 0.02       | 0.00          | 15         |\n",
            "| 就     | 3.21 | 125.44 | 45.83 | 0.02   | 0.01       | 0.03       | 0.00          | 17         |\n",
            "| 所     | 3.05 | 76.93  | 29.88 | 0.01   | 0.01       | 0.02       | 0.00          | 12         |\n"
          ]
        }
      ]
    },
    {
      "cell_type": "markdown",
      "metadata": {
        "id": "fatty-program"
      },
      "source": [
        "## Productivity\n",
        "\n",
        "Finally, we demonstrate the usage of the tentative applications of Productivity measures [@baayen1993;@baayen2009] to character components. This is implemented in `CompoAnalysis.productivity()`. The categories for computing measures of productivity are defined based on the arguments passed in.\n"
      ],
      "id": "fatty-program"
    },
    {
      "cell_type": "code",
      "metadata": {
        "id": "limited-shareware",
        "outputId": "c9059e29-b294-45aa-a2a4-f7bc2a84e2d3",
        "colab": {
          "base_uri": "https://localhost:8080/"
        }
      },
      "source": [
        "# Productivity of a radical\n",
        "CA.productivity(radical=\"广\", subcorp_idx=0)"
      ],
      "id": "limited-shareware",
      "execution_count": null,
      "outputs": [
        {
          "output_type": "execute_result",
          "data": {
            "text/plain": [
              "{'N': 1505967,\n",
              " 'NC': 5889,\n",
              " 'V1': 1896,\n",
              " 'V1C': 7,\n",
              " 'productivity': {'expanding': 0.003691983122362869,\n",
              "  'potential': 0.0011886568177958906,\n",
              "  'realized': 58}}"
            ]
          },
          "metadata": {},
          "execution_count": 71
        }
      ]
    },
    {
      "cell_type": "code",
      "metadata": {
        "id": "referenced-render",
        "outputId": "90dc4cf1-1353-442e-db42-be5aea8b8963",
        "colab": {
          "base_uri": "https://localhost:8080/"
        }
      },
      "source": [
        "# Productivity of a component\n",
        "CA.productivity(compo=\"虫\", idc=\"horz2\", pos=0, subcorp_idx=0)"
      ],
      "id": "referenced-render",
      "execution_count": null,
      "outputs": [
        {
          "output_type": "execute_result",
          "data": {
            "text/plain": [
              "{'N': 1505967,\n",
              " 'NC': 1027,\n",
              " 'V1': 1896,\n",
              " 'V1C': 72,\n",
              " 'productivity': {'expanding': 0.0379746835443038,\n",
              "  'potential': 0.07010710808179163,\n",
              "  'realized': 178}}"
            ]
          },
          "metadata": {},
          "execution_count": 72
        }
      ]
    },
    {
      "cell_type": "code",
      "metadata": {
        "id": "metric-studio",
        "outputId": "d1840ffd-6b42-47d6-e5e7-732da7ac11d3",
        "colab": {
          "base_uri": "https://localhost:8080/"
        }
      },
      "source": [
        "# Productivity of Hanzi shapes (IDCs)\n",
        "df_prod = []\n",
        "for idc_nm, idc_val in CC.chr_idcs.items():   \n",
        "    p = CA.productivity(idc=idc_nm, subcorp_idx=0)\n",
        "    df_prod.append({\n",
        "        'name': idc_nm, \n",
        "        'shape': idc_val, \n",
        "        **p['productivity'],\n",
        "        'V1C': p['V1C'],\n",
        "        'V1': p['V1'],\n",
        "        'NC': p['NC'],\n",
        "        'N': p['N'],\n",
        "    })\n",
        "\n",
        "df_prod = pd.DataFrame(df_prod)\n",
        "print(df_prod.to_markdown(index=False, floatfmt=\".4f\", numalign=\"left\"))"
      ],
      "id": "metric-studio",
      "execution_count": 34,
      "outputs": [
        {
          "output_type": "stream",
          "name": "stdout",
          "text": [
            "| name   | shape   | realized   | expanding   | potential   | V1C   | V1   | NC     | N       |\n",
            "|:-------|:--------|:-----------|:------------|:------------|:------|:-----|:-------|:--------|\n",
            "| horz2  | ⿰      | 5436       | 0.7194      | 0.0031      | 1364  | 1896 | 437854 | 1505967 |\n",
            "| vert2  | ⿱      | 2045       | 0.2194      | 0.0007      | 416   | 1896 | 561357 | 1505967 |\n",
            "| horz3  | ⿲      | 35         | 0.0016      | 0.0005      | 3     | 1896 | 6240   | 1505967 |\n",
            "| vert3  | ⿳      | 80         | 0.0058      | 0.0008      | 11    | 1896 | 14371  | 1505967 |\n",
            "| encl   | ⿴      | 27         | 0.0016      | 0.0002      | 3     | 1896 | 14409  | 1505967 |\n",
            "| surN   | ⿵      | 84         | 0.0047      | 0.0004      | 9     | 1896 | 25231  | 1505967 |\n",
            "| surU   | ⿶      | 6          | 0.0000      | 0.0000      | 0     | 1896 | 7275   | 1505967 |\n",
            "| curC   | ⿷      | 20         | 0.0021      | 0.0024      | 4     | 1896 | 1641   | 1505967 |\n",
            "| surT   | ⿸      | 332        | 0.0264      | 0.0005      | 50    | 1896 | 91208  | 1505967 |\n",
            "| sur7   | ⿹      | 48         | 0.0026      | 0.0002      | 5     | 1896 | 25379  | 1505967 |\n",
            "| surL   | ⿺      | 178        | 0.0132      | 0.0009      | 25    | 1896 | 26844  | 1505967 |\n",
            "| over   | ⿻      | 43         | 0.0005      | 0.0000      | 1     | 1896 | 37846  | 1505967 |\n"
          ]
        }
      ]
    }
  ]
}