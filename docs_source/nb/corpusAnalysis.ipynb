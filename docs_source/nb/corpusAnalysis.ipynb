{
  "nbformat": 4,
  "nbformat_minor": 5,
  "metadata": {
    "kernelspec": {
      "display_name": "py3.8",
      "language": "python",
      "name": "py3.8"
    },
    "language_info": {
      "codemirror_mode": {
        "name": "ipython",
        "version": 3
      },
      "file_extension": ".py",
      "mimetype": "text/x-python",
      "name": "python",
      "nbconvert_exporter": "python",
      "pygments_lexer": "ipython3",
      "version": "3.8.10"
    },
    "colab": {
      "name": "hgct_corpusAnalysis.ipynb",
      "provenance": [],
      "collapsed_sections": [],
      "toc_visible": true,
      "include_colab_link": true
    },
    "widgets": {
      "application/vnd.jupyter.widget-state+json": {
        "dc6ad316726f4e49adc6ab2b93581524": {
          "model_module": "@jupyter-widgets/controls",
          "model_name": "HBoxModel",
          "model_module_version": "1.5.0",
          "state": {
            "_view_name": "HBoxView",
            "_dom_classes": [],
            "_model_name": "HBoxModel",
            "_view_module": "@jupyter-widgets/controls",
            "_model_module_version": "1.5.0",
            "_view_count": null,
            "_view_module_version": "1.5.0",
            "box_style": "",
            "layout": "IPY_MODEL_2a1b186cc6134232aaf7c087dd5964f3",
            "_model_module": "@jupyter-widgets/controls",
            "children": [
              "IPY_MODEL_5ef730cc5a2b438c8ea174c0ea27afc6",
              "IPY_MODEL_535472733ca94708b3a50af5f2e6ca6b",
              "IPY_MODEL_63f4fdbfa6fa4873ae08146bda0c0646"
            ]
          }
        },
        "2a1b186cc6134232aaf7c087dd5964f3": {
          "model_module": "@jupyter-widgets/base",
          "model_name": "LayoutModel",
          "model_module_version": "1.2.0",
          "state": {
            "_view_name": "LayoutView",
            "grid_template_rows": null,
            "right": null,
            "justify_content": null,
            "_view_module": "@jupyter-widgets/base",
            "overflow": null,
            "_model_module_version": "1.2.0",
            "_view_count": null,
            "flex_flow": null,
            "width": null,
            "min_width": null,
            "border": null,
            "align_items": null,
            "bottom": null,
            "_model_module": "@jupyter-widgets/base",
            "top": null,
            "grid_column": null,
            "overflow_y": null,
            "overflow_x": null,
            "grid_auto_flow": null,
            "grid_area": null,
            "grid_template_columns": null,
            "flex": null,
            "_model_name": "LayoutModel",
            "justify_items": null,
            "grid_row": null,
            "max_height": null,
            "align_content": null,
            "visibility": null,
            "align_self": null,
            "height": null,
            "min_height": null,
            "padding": null,
            "grid_auto_rows": null,
            "grid_gap": null,
            "max_width": null,
            "order": null,
            "_view_module_version": "1.2.0",
            "grid_template_areas": null,
            "object_position": null,
            "object_fit": null,
            "grid_auto_columns": null,
            "margin": null,
            "display": null,
            "left": null
          }
        },
        "5ef730cc5a2b438c8ea174c0ea27afc6": {
          "model_module": "@jupyter-widgets/controls",
          "model_name": "HTMLModel",
          "model_module_version": "1.5.0",
          "state": {
            "_view_name": "HTMLView",
            "style": "IPY_MODEL_6ead463ab5b94188b482a96a66bab21f",
            "_dom_classes": [],
            "description": "",
            "_model_name": "HTMLModel",
            "placeholder": "​",
            "_view_module": "@jupyter-widgets/controls",
            "_model_module_version": "1.5.0",
            "value": "100%",
            "_view_count": null,
            "_view_module_version": "1.5.0",
            "description_tooltip": null,
            "_model_module": "@jupyter-widgets/controls",
            "layout": "IPY_MODEL_c9821b634ff544dcbf4a9851bb823b9e"
          }
        },
        "535472733ca94708b3a50af5f2e6ca6b": {
          "model_module": "@jupyter-widgets/controls",
          "model_name": "FloatProgressModel",
          "model_module_version": "1.5.0",
          "state": {
            "_view_name": "ProgressView",
            "style": "IPY_MODEL_55fb8a190f0d480d85a4e5c4bb9e8dcb",
            "_dom_classes": [],
            "description": "",
            "_model_name": "FloatProgressModel",
            "bar_style": "success",
            "max": 5,
            "_view_module": "@jupyter-widgets/controls",
            "_model_module_version": "1.5.0",
            "value": 5,
            "_view_count": null,
            "_view_module_version": "1.5.0",
            "orientation": "horizontal",
            "min": 0,
            "description_tooltip": null,
            "_model_module": "@jupyter-widgets/controls",
            "layout": "IPY_MODEL_a0d8104731ad4bf38eea377f80ca491c"
          }
        },
        "63f4fdbfa6fa4873ae08146bda0c0646": {
          "model_module": "@jupyter-widgets/controls",
          "model_name": "HTMLModel",
          "model_module_version": "1.5.0",
          "state": {
            "_view_name": "HTMLView",
            "style": "IPY_MODEL_c307e68b705f4d07a1f91715d4750662",
            "_dom_classes": [],
            "description": "",
            "_model_name": "HTMLModel",
            "placeholder": "​",
            "_view_module": "@jupyter-widgets/controls",
            "_model_module_version": "1.5.0",
            "value": " 5/5 [00:00&lt;00:00, 53.10it/s]",
            "_view_count": null,
            "_view_module_version": "1.5.0",
            "description_tooltip": null,
            "_model_module": "@jupyter-widgets/controls",
            "layout": "IPY_MODEL_c7ebbaf521de40dfb46a59404ebc3122"
          }
        },
        "6ead463ab5b94188b482a96a66bab21f": {
          "model_module": "@jupyter-widgets/controls",
          "model_name": "DescriptionStyleModel",
          "model_module_version": "1.5.0",
          "state": {
            "_view_name": "StyleView",
            "_model_name": "DescriptionStyleModel",
            "description_width": "",
            "_view_module": "@jupyter-widgets/base",
            "_model_module_version": "1.5.0",
            "_view_count": null,
            "_view_module_version": "1.2.0",
            "_model_module": "@jupyter-widgets/controls"
          }
        },
        "c9821b634ff544dcbf4a9851bb823b9e": {
          "model_module": "@jupyter-widgets/base",
          "model_name": "LayoutModel",
          "model_module_version": "1.2.0",
          "state": {
            "_view_name": "LayoutView",
            "grid_template_rows": null,
            "right": null,
            "justify_content": null,
            "_view_module": "@jupyter-widgets/base",
            "overflow": null,
            "_model_module_version": "1.2.0",
            "_view_count": null,
            "flex_flow": null,
            "width": null,
            "min_width": null,
            "border": null,
            "align_items": null,
            "bottom": null,
            "_model_module": "@jupyter-widgets/base",
            "top": null,
            "grid_column": null,
            "overflow_y": null,
            "overflow_x": null,
            "grid_auto_flow": null,
            "grid_area": null,
            "grid_template_columns": null,
            "flex": null,
            "_model_name": "LayoutModel",
            "justify_items": null,
            "grid_row": null,
            "max_height": null,
            "align_content": null,
            "visibility": null,
            "align_self": null,
            "height": null,
            "min_height": null,
            "padding": null,
            "grid_auto_rows": null,
            "grid_gap": null,
            "max_width": null,
            "order": null,
            "_view_module_version": "1.2.0",
            "grid_template_areas": null,
            "object_position": null,
            "object_fit": null,
            "grid_auto_columns": null,
            "margin": null,
            "display": null,
            "left": null
          }
        },
        "55fb8a190f0d480d85a4e5c4bb9e8dcb": {
          "model_module": "@jupyter-widgets/controls",
          "model_name": "ProgressStyleModel",
          "model_module_version": "1.5.0",
          "state": {
            "_view_name": "StyleView",
            "_model_name": "ProgressStyleModel",
            "description_width": "",
            "_view_module": "@jupyter-widgets/base",
            "_model_module_version": "1.5.0",
            "_view_count": null,
            "_view_module_version": "1.2.0",
            "bar_color": null,
            "_model_module": "@jupyter-widgets/controls"
          }
        },
        "a0d8104731ad4bf38eea377f80ca491c": {
          "model_module": "@jupyter-widgets/base",
          "model_name": "LayoutModel",
          "model_module_version": "1.2.0",
          "state": {
            "_view_name": "LayoutView",
            "grid_template_rows": null,
            "right": null,
            "justify_content": null,
            "_view_module": "@jupyter-widgets/base",
            "overflow": null,
            "_model_module_version": "1.2.0",
            "_view_count": null,
            "flex_flow": null,
            "width": null,
            "min_width": null,
            "border": null,
            "align_items": null,
            "bottom": null,
            "_model_module": "@jupyter-widgets/base",
            "top": null,
            "grid_column": null,
            "overflow_y": null,
            "overflow_x": null,
            "grid_auto_flow": null,
            "grid_area": null,
            "grid_template_columns": null,
            "flex": null,
            "_model_name": "LayoutModel",
            "justify_items": null,
            "grid_row": null,
            "max_height": null,
            "align_content": null,
            "visibility": null,
            "align_self": null,
            "height": null,
            "min_height": null,
            "padding": null,
            "grid_auto_rows": null,
            "grid_gap": null,
            "max_width": null,
            "order": null,
            "_view_module_version": "1.2.0",
            "grid_template_areas": null,
            "object_position": null,
            "object_fit": null,
            "grid_auto_columns": null,
            "margin": null,
            "display": null,
            "left": null
          }
        },
        "c307e68b705f4d07a1f91715d4750662": {
          "model_module": "@jupyter-widgets/controls",
          "model_name": "DescriptionStyleModel",
          "model_module_version": "1.5.0",
          "state": {
            "_view_name": "StyleView",
            "_model_name": "DescriptionStyleModel",
            "description_width": "",
            "_view_module": "@jupyter-widgets/base",
            "_model_module_version": "1.5.0",
            "_view_count": null,
            "_view_module_version": "1.2.0",
            "_model_module": "@jupyter-widgets/controls"
          }
        },
        "c7ebbaf521de40dfb46a59404ebc3122": {
          "model_module": "@jupyter-widgets/base",
          "model_name": "LayoutModel",
          "model_module_version": "1.2.0",
          "state": {
            "_view_name": "LayoutView",
            "grid_template_rows": null,
            "right": null,
            "justify_content": null,
            "_view_module": "@jupyter-widgets/base",
            "overflow": null,
            "_model_module_version": "1.2.0",
            "_view_count": null,
            "flex_flow": null,
            "width": null,
            "min_width": null,
            "border": null,
            "align_items": null,
            "bottom": null,
            "_model_module": "@jupyter-widgets/base",
            "top": null,
            "grid_column": null,
            "overflow_y": null,
            "overflow_x": null,
            "grid_auto_flow": null,
            "grid_area": null,
            "grid_template_columns": null,
            "flex": null,
            "_model_name": "LayoutModel",
            "justify_items": null,
            "grid_row": null,
            "max_height": null,
            "align_content": null,
            "visibility": null,
            "align_self": null,
            "height": null,
            "min_height": null,
            "padding": null,
            "grid_auto_rows": null,
            "grid_gap": null,
            "max_width": null,
            "order": null,
            "_view_module_version": "1.2.0",
            "grid_template_areas": null,
            "object_position": null,
            "object_fit": null,
            "grid_auto_columns": null,
            "margin": null,
            "display": null,
            "left": null
          }
        },
        "baee7214242245a89821b47e9264a06f": {
          "model_module": "@jupyter-widgets/controls",
          "model_name": "HBoxModel",
          "model_module_version": "1.5.0",
          "state": {
            "_view_name": "HBoxView",
            "_dom_classes": [],
            "_model_name": "HBoxModel",
            "_view_module": "@jupyter-widgets/controls",
            "_model_module_version": "1.5.0",
            "_view_count": null,
            "_view_module_version": "1.5.0",
            "box_style": "",
            "layout": "IPY_MODEL_c6067de6390940febd3c9f31c5f59555",
            "_model_module": "@jupyter-widgets/controls",
            "children": [
              "IPY_MODEL_b42dbfce954643249a1268ba1861843d",
              "IPY_MODEL_41a70ae307c740899667994fcb1c1397",
              "IPY_MODEL_a9e6c0c8669a4775ba50b9f2056fbbcf"
            ]
          }
        },
        "c6067de6390940febd3c9f31c5f59555": {
          "model_module": "@jupyter-widgets/base",
          "model_name": "LayoutModel",
          "model_module_version": "1.2.0",
          "state": {
            "_view_name": "LayoutView",
            "grid_template_rows": null,
            "right": null,
            "justify_content": null,
            "_view_module": "@jupyter-widgets/base",
            "overflow": null,
            "_model_module_version": "1.2.0",
            "_view_count": null,
            "flex_flow": null,
            "width": null,
            "min_width": null,
            "border": null,
            "align_items": null,
            "bottom": null,
            "_model_module": "@jupyter-widgets/base",
            "top": null,
            "grid_column": null,
            "overflow_y": null,
            "overflow_x": null,
            "grid_auto_flow": null,
            "grid_area": null,
            "grid_template_columns": null,
            "flex": null,
            "_model_name": "LayoutModel",
            "justify_items": null,
            "grid_row": null,
            "max_height": null,
            "align_content": null,
            "visibility": null,
            "align_self": null,
            "height": null,
            "min_height": null,
            "padding": null,
            "grid_auto_rows": null,
            "grid_gap": null,
            "max_width": null,
            "order": null,
            "_view_module_version": "1.2.0",
            "grid_template_areas": null,
            "object_position": null,
            "object_fit": null,
            "grid_auto_columns": null,
            "margin": null,
            "display": null,
            "left": null
          }
        },
        "b42dbfce954643249a1268ba1861843d": {
          "model_module": "@jupyter-widgets/controls",
          "model_name": "HTMLModel",
          "model_module_version": "1.5.0",
          "state": {
            "_view_name": "HTMLView",
            "style": "IPY_MODEL_ada20ea55cb24eed82b5e1b85e5fd450",
            "_dom_classes": [],
            "description": "",
            "_model_name": "HTMLModel",
            "placeholder": "​",
            "_view_module": "@jupyter-widgets/controls",
            "_model_module_version": "1.5.0",
            "value": "100%",
            "_view_count": null,
            "_view_module_version": "1.5.0",
            "description_tooltip": null,
            "_model_module": "@jupyter-widgets/controls",
            "layout": "IPY_MODEL_2000502d825946018cc287b401c4ba8b"
          }
        },
        "41a70ae307c740899667994fcb1c1397": {
          "model_module": "@jupyter-widgets/controls",
          "model_name": "FloatProgressModel",
          "model_module_version": "1.5.0",
          "state": {
            "_view_name": "ProgressView",
            "style": "IPY_MODEL_e5a18eda291849029bb6ad075a41628b",
            "_dom_classes": [],
            "description": "",
            "_model_name": "FloatProgressModel",
            "bar_style": "success",
            "max": 5,
            "_view_module": "@jupyter-widgets/controls",
            "_model_module_version": "1.5.0",
            "value": 5,
            "_view_count": null,
            "_view_module_version": "1.5.0",
            "orientation": "horizontal",
            "min": 0,
            "description_tooltip": null,
            "_model_module": "@jupyter-widgets/controls",
            "layout": "IPY_MODEL_a0b6dbcc07454c28bc84af6542f03c2d"
          }
        },
        "a9e6c0c8669a4775ba50b9f2056fbbcf": {
          "model_module": "@jupyter-widgets/controls",
          "model_name": "HTMLModel",
          "model_module_version": "1.5.0",
          "state": {
            "_view_name": "HTMLView",
            "style": "IPY_MODEL_5dc7bb7ea7214e7cbcc16a4e71d74c3d",
            "_dom_classes": [],
            "description": "",
            "_model_name": "HTMLModel",
            "placeholder": "​",
            "_view_module": "@jupyter-widgets/controls",
            "_model_module_version": "1.5.0",
            "value": " 5/5 [00:05&lt;00:00,  1.13s/it]",
            "_view_count": null,
            "_view_module_version": "1.5.0",
            "description_tooltip": null,
            "_model_module": "@jupyter-widgets/controls",
            "layout": "IPY_MODEL_62a4f4c9ca0b48b8999b40fd998e2270"
          }
        },
        "ada20ea55cb24eed82b5e1b85e5fd450": {
          "model_module": "@jupyter-widgets/controls",
          "model_name": "DescriptionStyleModel",
          "model_module_version": "1.5.0",
          "state": {
            "_view_name": "StyleView",
            "_model_name": "DescriptionStyleModel",
            "description_width": "",
            "_view_module": "@jupyter-widgets/base",
            "_model_module_version": "1.5.0",
            "_view_count": null,
            "_view_module_version": "1.2.0",
            "_model_module": "@jupyter-widgets/controls"
          }
        },
        "2000502d825946018cc287b401c4ba8b": {
          "model_module": "@jupyter-widgets/base",
          "model_name": "LayoutModel",
          "model_module_version": "1.2.0",
          "state": {
            "_view_name": "LayoutView",
            "grid_template_rows": null,
            "right": null,
            "justify_content": null,
            "_view_module": "@jupyter-widgets/base",
            "overflow": null,
            "_model_module_version": "1.2.0",
            "_view_count": null,
            "flex_flow": null,
            "width": null,
            "min_width": null,
            "border": null,
            "align_items": null,
            "bottom": null,
            "_model_module": "@jupyter-widgets/base",
            "top": null,
            "grid_column": null,
            "overflow_y": null,
            "overflow_x": null,
            "grid_auto_flow": null,
            "grid_area": null,
            "grid_template_columns": null,
            "flex": null,
            "_model_name": "LayoutModel",
            "justify_items": null,
            "grid_row": null,
            "max_height": null,
            "align_content": null,
            "visibility": null,
            "align_self": null,
            "height": null,
            "min_height": null,
            "padding": null,
            "grid_auto_rows": null,
            "grid_gap": null,
            "max_width": null,
            "order": null,
            "_view_module_version": "1.2.0",
            "grid_template_areas": null,
            "object_position": null,
            "object_fit": null,
            "grid_auto_columns": null,
            "margin": null,
            "display": null,
            "left": null
          }
        },
        "e5a18eda291849029bb6ad075a41628b": {
          "model_module": "@jupyter-widgets/controls",
          "model_name": "ProgressStyleModel",
          "model_module_version": "1.5.0",
          "state": {
            "_view_name": "StyleView",
            "_model_name": "ProgressStyleModel",
            "description_width": "",
            "_view_module": "@jupyter-widgets/base",
            "_model_module_version": "1.5.0",
            "_view_count": null,
            "_view_module_version": "1.2.0",
            "bar_color": null,
            "_model_module": "@jupyter-widgets/controls"
          }
        },
        "a0b6dbcc07454c28bc84af6542f03c2d": {
          "model_module": "@jupyter-widgets/base",
          "model_name": "LayoutModel",
          "model_module_version": "1.2.0",
          "state": {
            "_view_name": "LayoutView",
            "grid_template_rows": null,
            "right": null,
            "justify_content": null,
            "_view_module": "@jupyter-widgets/base",
            "overflow": null,
            "_model_module_version": "1.2.0",
            "_view_count": null,
            "flex_flow": null,
            "width": null,
            "min_width": null,
            "border": null,
            "align_items": null,
            "bottom": null,
            "_model_module": "@jupyter-widgets/base",
            "top": null,
            "grid_column": null,
            "overflow_y": null,
            "overflow_x": null,
            "grid_auto_flow": null,
            "grid_area": null,
            "grid_template_columns": null,
            "flex": null,
            "_model_name": "LayoutModel",
            "justify_items": null,
            "grid_row": null,
            "max_height": null,
            "align_content": null,
            "visibility": null,
            "align_self": null,
            "height": null,
            "min_height": null,
            "padding": null,
            "grid_auto_rows": null,
            "grid_gap": null,
            "max_width": null,
            "order": null,
            "_view_module_version": "1.2.0",
            "grid_template_areas": null,
            "object_position": null,
            "object_fit": null,
            "grid_auto_columns": null,
            "margin": null,
            "display": null,
            "left": null
          }
        },
        "5dc7bb7ea7214e7cbcc16a4e71d74c3d": {
          "model_module": "@jupyter-widgets/controls",
          "model_name": "DescriptionStyleModel",
          "model_module_version": "1.5.0",
          "state": {
            "_view_name": "StyleView",
            "_model_name": "DescriptionStyleModel",
            "description_width": "",
            "_view_module": "@jupyter-widgets/base",
            "_model_module_version": "1.5.0",
            "_view_count": null,
            "_view_module_version": "1.2.0",
            "_model_module": "@jupyter-widgets/controls"
          }
        },
        "62a4f4c9ca0b48b8999b40fd998e2270": {
          "model_module": "@jupyter-widgets/base",
          "model_name": "LayoutModel",
          "model_module_version": "1.2.0",
          "state": {
            "_view_name": "LayoutView",
            "grid_template_rows": null,
            "right": null,
            "justify_content": null,
            "_view_module": "@jupyter-widgets/base",
            "overflow": null,
            "_model_module_version": "1.2.0",
            "_view_count": null,
            "flex_flow": null,
            "width": null,
            "min_width": null,
            "border": null,
            "align_items": null,
            "bottom": null,
            "_model_module": "@jupyter-widgets/base",
            "top": null,
            "grid_column": null,
            "overflow_y": null,
            "overflow_x": null,
            "grid_auto_flow": null,
            "grid_area": null,
            "grid_template_columns": null,
            "flex": null,
            "_model_name": "LayoutModel",
            "justify_items": null,
            "grid_row": null,
            "max_height": null,
            "align_content": null,
            "visibility": null,
            "align_self": null,
            "height": null,
            "min_height": null,
            "padding": null,
            "grid_auto_rows": null,
            "grid_gap": null,
            "max_width": null,
            "order": null,
            "_view_module_version": "1.2.0",
            "grid_template_areas": null,
            "object_position": null,
            "object_fit": null,
            "grid_auto_columns": null,
            "margin": null,
            "display": null,
            "left": null
          }
        },
        "529c95803fe04a8aae572c155551167f": {
          "model_module": "@jupyter-widgets/controls",
          "model_name": "HBoxModel",
          "model_module_version": "1.5.0",
          "state": {
            "_view_name": "HBoxView",
            "_dom_classes": [],
            "_model_name": "HBoxModel",
            "_view_module": "@jupyter-widgets/controls",
            "_model_module_version": "1.5.0",
            "_view_count": null,
            "_view_module_version": "1.5.0",
            "box_style": "",
            "layout": "IPY_MODEL_9d284f8af6cf4b7db3861f50be9203f1",
            "_model_module": "@jupyter-widgets/controls",
            "children": [
              "IPY_MODEL_31e8d73d7d844f4da94b531917775dc2",
              "IPY_MODEL_f8499bd54ea040ea9962707b3819a339",
              "IPY_MODEL_b541921f1319429b838d3ea1e34023b3"
            ]
          }
        },
        "9d284f8af6cf4b7db3861f50be9203f1": {
          "model_module": "@jupyter-widgets/base",
          "model_name": "LayoutModel",
          "model_module_version": "1.2.0",
          "state": {
            "_view_name": "LayoutView",
            "grid_template_rows": null,
            "right": null,
            "justify_content": null,
            "_view_module": "@jupyter-widgets/base",
            "overflow": null,
            "_model_module_version": "1.2.0",
            "_view_count": null,
            "flex_flow": null,
            "width": null,
            "min_width": null,
            "border": null,
            "align_items": null,
            "bottom": null,
            "_model_module": "@jupyter-widgets/base",
            "top": null,
            "grid_column": null,
            "overflow_y": null,
            "overflow_x": null,
            "grid_auto_flow": null,
            "grid_area": null,
            "grid_template_columns": null,
            "flex": null,
            "_model_name": "LayoutModel",
            "justify_items": null,
            "grid_row": null,
            "max_height": null,
            "align_content": null,
            "visibility": null,
            "align_self": null,
            "height": null,
            "min_height": null,
            "padding": null,
            "grid_auto_rows": null,
            "grid_gap": null,
            "max_width": null,
            "order": null,
            "_view_module_version": "1.2.0",
            "grid_template_areas": null,
            "object_position": null,
            "object_fit": null,
            "grid_auto_columns": null,
            "margin": null,
            "display": null,
            "left": null
          }
        },
        "31e8d73d7d844f4da94b531917775dc2": {
          "model_module": "@jupyter-widgets/controls",
          "model_name": "HTMLModel",
          "model_module_version": "1.5.0",
          "state": {
            "_view_name": "HTMLView",
            "style": "IPY_MODEL_765a266f6b5b453eb4815e79eb414a86",
            "_dom_classes": [],
            "description": "",
            "_model_name": "HTMLModel",
            "placeholder": "​",
            "_view_module": "@jupyter-widgets/controls",
            "_model_module_version": "1.5.0",
            "value": "100%",
            "_view_count": null,
            "_view_module_version": "1.5.0",
            "description_tooltip": null,
            "_model_module": "@jupyter-widgets/controls",
            "layout": "IPY_MODEL_e0a3d3c3ead64837921a1ba312753e5d"
          }
        },
        "f8499bd54ea040ea9962707b3819a339": {
          "model_module": "@jupyter-widgets/controls",
          "model_name": "FloatProgressModel",
          "model_module_version": "1.5.0",
          "state": {
            "_view_name": "ProgressView",
            "style": "IPY_MODEL_32eb5a8292f04fbdbbd24aa0add96bb8",
            "_dom_classes": [],
            "description": "",
            "_model_name": "FloatProgressModel",
            "bar_style": "success",
            "max": 5,
            "_view_module": "@jupyter-widgets/controls",
            "_model_module_version": "1.5.0",
            "value": 5,
            "_view_count": null,
            "_view_module_version": "1.5.0",
            "orientation": "horizontal",
            "min": 0,
            "description_tooltip": null,
            "_model_module": "@jupyter-widgets/controls",
            "layout": "IPY_MODEL_99c54c7fdb9f4315a831d5c66e4bcd13"
          }
        },
        "b541921f1319429b838d3ea1e34023b3": {
          "model_module": "@jupyter-widgets/controls",
          "model_name": "HTMLModel",
          "model_module_version": "1.5.0",
          "state": {
            "_view_name": "HTMLView",
            "style": "IPY_MODEL_08b8169a6b48490d8747b21a8d402e1d",
            "_dom_classes": [],
            "description": "",
            "_model_name": "HTMLModel",
            "placeholder": "​",
            "_view_module": "@jupyter-widgets/controls",
            "_model_module_version": "1.5.0",
            "value": " 5/5 [00:00&lt;00:00,  9.18it/s]",
            "_view_count": null,
            "_view_module_version": "1.5.0",
            "description_tooltip": null,
            "_model_module": "@jupyter-widgets/controls",
            "layout": "IPY_MODEL_96b1637ebf7145ffa546cd3d76b48b5f"
          }
        },
        "765a266f6b5b453eb4815e79eb414a86": {
          "model_module": "@jupyter-widgets/controls",
          "model_name": "DescriptionStyleModel",
          "model_module_version": "1.5.0",
          "state": {
            "_view_name": "StyleView",
            "_model_name": "DescriptionStyleModel",
            "description_width": "",
            "_view_module": "@jupyter-widgets/base",
            "_model_module_version": "1.5.0",
            "_view_count": null,
            "_view_module_version": "1.2.0",
            "_model_module": "@jupyter-widgets/controls"
          }
        },
        "e0a3d3c3ead64837921a1ba312753e5d": {
          "model_module": "@jupyter-widgets/base",
          "model_name": "LayoutModel",
          "model_module_version": "1.2.0",
          "state": {
            "_view_name": "LayoutView",
            "grid_template_rows": null,
            "right": null,
            "justify_content": null,
            "_view_module": "@jupyter-widgets/base",
            "overflow": null,
            "_model_module_version": "1.2.0",
            "_view_count": null,
            "flex_flow": null,
            "width": null,
            "min_width": null,
            "border": null,
            "align_items": null,
            "bottom": null,
            "_model_module": "@jupyter-widgets/base",
            "top": null,
            "grid_column": null,
            "overflow_y": null,
            "overflow_x": null,
            "grid_auto_flow": null,
            "grid_area": null,
            "grid_template_columns": null,
            "flex": null,
            "_model_name": "LayoutModel",
            "justify_items": null,
            "grid_row": null,
            "max_height": null,
            "align_content": null,
            "visibility": null,
            "align_self": null,
            "height": null,
            "min_height": null,
            "padding": null,
            "grid_auto_rows": null,
            "grid_gap": null,
            "max_width": null,
            "order": null,
            "_view_module_version": "1.2.0",
            "grid_template_areas": null,
            "object_position": null,
            "object_fit": null,
            "grid_auto_columns": null,
            "margin": null,
            "display": null,
            "left": null
          }
        },
        "32eb5a8292f04fbdbbd24aa0add96bb8": {
          "model_module": "@jupyter-widgets/controls",
          "model_name": "ProgressStyleModel",
          "model_module_version": "1.5.0",
          "state": {
            "_view_name": "StyleView",
            "_model_name": "ProgressStyleModel",
            "description_width": "",
            "_view_module": "@jupyter-widgets/base",
            "_model_module_version": "1.5.0",
            "_view_count": null,
            "_view_module_version": "1.2.0",
            "bar_color": null,
            "_model_module": "@jupyter-widgets/controls"
          }
        },
        "99c54c7fdb9f4315a831d5c66e4bcd13": {
          "model_module": "@jupyter-widgets/base",
          "model_name": "LayoutModel",
          "model_module_version": "1.2.0",
          "state": {
            "_view_name": "LayoutView",
            "grid_template_rows": null,
            "right": null,
            "justify_content": null,
            "_view_module": "@jupyter-widgets/base",
            "overflow": null,
            "_model_module_version": "1.2.0",
            "_view_count": null,
            "flex_flow": null,
            "width": null,
            "min_width": null,
            "border": null,
            "align_items": null,
            "bottom": null,
            "_model_module": "@jupyter-widgets/base",
            "top": null,
            "grid_column": null,
            "overflow_y": null,
            "overflow_x": null,
            "grid_auto_flow": null,
            "grid_area": null,
            "grid_template_columns": null,
            "flex": null,
            "_model_name": "LayoutModel",
            "justify_items": null,
            "grid_row": null,
            "max_height": null,
            "align_content": null,
            "visibility": null,
            "align_self": null,
            "height": null,
            "min_height": null,
            "padding": null,
            "grid_auto_rows": null,
            "grid_gap": null,
            "max_width": null,
            "order": null,
            "_view_module_version": "1.2.0",
            "grid_template_areas": null,
            "object_position": null,
            "object_fit": null,
            "grid_auto_columns": null,
            "margin": null,
            "display": null,
            "left": null
          }
        },
        "08b8169a6b48490d8747b21a8d402e1d": {
          "model_module": "@jupyter-widgets/controls",
          "model_name": "DescriptionStyleModel",
          "model_module_version": "1.5.0",
          "state": {
            "_view_name": "StyleView",
            "_model_name": "DescriptionStyleModel",
            "description_width": "",
            "_view_module": "@jupyter-widgets/base",
            "_model_module_version": "1.5.0",
            "_view_count": null,
            "_view_module_version": "1.2.0",
            "_model_module": "@jupyter-widgets/controls"
          }
        },
        "96b1637ebf7145ffa546cd3d76b48b5f": {
          "model_module": "@jupyter-widgets/base",
          "model_name": "LayoutModel",
          "model_module_version": "1.2.0",
          "state": {
            "_view_name": "LayoutView",
            "grid_template_rows": null,
            "right": null,
            "justify_content": null,
            "_view_module": "@jupyter-widgets/base",
            "overflow": null,
            "_model_module_version": "1.2.0",
            "_view_count": null,
            "flex_flow": null,
            "width": null,
            "min_width": null,
            "border": null,
            "align_items": null,
            "bottom": null,
            "_model_module": "@jupyter-widgets/base",
            "top": null,
            "grid_column": null,
            "overflow_y": null,
            "overflow_x": null,
            "grid_auto_flow": null,
            "grid_area": null,
            "grid_template_columns": null,
            "flex": null,
            "_model_name": "LayoutModel",
            "justify_items": null,
            "grid_row": null,
            "max_height": null,
            "align_content": null,
            "visibility": null,
            "align_self": null,
            "height": null,
            "min_height": null,
            "padding": null,
            "grid_auto_rows": null,
            "grid_gap": null,
            "max_width": null,
            "order": null,
            "_view_module_version": "1.2.0",
            "grid_template_areas": null,
            "object_position": null,
            "object_fit": null,
            "grid_auto_columns": null,
            "margin": null,
            "display": null,
            "left": null
          }
        },
        "0ad63e39c1114dffbdc5465a422a2c22": {
          "model_module": "@jupyter-widgets/controls",
          "model_name": "HBoxModel",
          "model_module_version": "1.5.0",
          "state": {
            "_view_name": "HBoxView",
            "_dom_classes": [],
            "_model_name": "HBoxModel",
            "_view_module": "@jupyter-widgets/controls",
            "_model_module_version": "1.5.0",
            "_view_count": null,
            "_view_module_version": "1.5.0",
            "box_style": "",
            "layout": "IPY_MODEL_0189887082b34e9ba18fe327f25bf7ad",
            "_model_module": "@jupyter-widgets/controls",
            "children": [
              "IPY_MODEL_710adf3c0ab643ed9251e2fd8baf58b3",
              "IPY_MODEL_5cc329136b19495a8dda0bcbc9627a27",
              "IPY_MODEL_5b2cbcd6a193429984f82d5a059d7b46"
            ]
          }
        },
        "0189887082b34e9ba18fe327f25bf7ad": {
          "model_module": "@jupyter-widgets/base",
          "model_name": "LayoutModel",
          "model_module_version": "1.2.0",
          "state": {
            "_view_name": "LayoutView",
            "grid_template_rows": null,
            "right": null,
            "justify_content": null,
            "_view_module": "@jupyter-widgets/base",
            "overflow": null,
            "_model_module_version": "1.2.0",
            "_view_count": null,
            "flex_flow": null,
            "width": null,
            "min_width": null,
            "border": null,
            "align_items": null,
            "bottom": null,
            "_model_module": "@jupyter-widgets/base",
            "top": null,
            "grid_column": null,
            "overflow_y": null,
            "overflow_x": null,
            "grid_auto_flow": null,
            "grid_area": null,
            "grid_template_columns": null,
            "flex": null,
            "_model_name": "LayoutModel",
            "justify_items": null,
            "grid_row": null,
            "max_height": null,
            "align_content": null,
            "visibility": null,
            "align_self": null,
            "height": null,
            "min_height": null,
            "padding": null,
            "grid_auto_rows": null,
            "grid_gap": null,
            "max_width": null,
            "order": null,
            "_view_module_version": "1.2.0",
            "grid_template_areas": null,
            "object_position": null,
            "object_fit": null,
            "grid_auto_columns": null,
            "margin": null,
            "display": null,
            "left": null
          }
        },
        "710adf3c0ab643ed9251e2fd8baf58b3": {
          "model_module": "@jupyter-widgets/controls",
          "model_name": "HTMLModel",
          "model_module_version": "1.5.0",
          "state": {
            "_view_name": "HTMLView",
            "style": "IPY_MODEL_ef49f09e13864fb285e0c1a60bbd18bf",
            "_dom_classes": [],
            "description": "",
            "_model_name": "HTMLModel",
            "placeholder": "​",
            "_view_module": "@jupyter-widgets/controls",
            "_model_module_version": "1.5.0",
            "value": "100%",
            "_view_count": null,
            "_view_module_version": "1.5.0",
            "description_tooltip": null,
            "_model_module": "@jupyter-widgets/controls",
            "layout": "IPY_MODEL_b7ed34e8448b45cb88bb918ed250608c"
          }
        },
        "5cc329136b19495a8dda0bcbc9627a27": {
          "model_module": "@jupyter-widgets/controls",
          "model_name": "FloatProgressModel",
          "model_module_version": "1.5.0",
          "state": {
            "_view_name": "ProgressView",
            "style": "IPY_MODEL_a4aab78d1fae4411a7f97238091e1703",
            "_dom_classes": [],
            "description": "",
            "_model_name": "FloatProgressModel",
            "bar_style": "success",
            "max": 5,
            "_view_module": "@jupyter-widgets/controls",
            "_model_module_version": "1.5.0",
            "value": 5,
            "_view_count": null,
            "_view_module_version": "1.5.0",
            "orientation": "horizontal",
            "min": 0,
            "description_tooltip": null,
            "_model_module": "@jupyter-widgets/controls",
            "layout": "IPY_MODEL_0097aab7751a47439df80f1d4e38f791"
          }
        },
        "5b2cbcd6a193429984f82d5a059d7b46": {
          "model_module": "@jupyter-widgets/controls",
          "model_name": "HTMLModel",
          "model_module_version": "1.5.0",
          "state": {
            "_view_name": "HTMLView",
            "style": "IPY_MODEL_9f88c1a46cc842599e90700ca5daa701",
            "_dom_classes": [],
            "description": "",
            "_model_name": "HTMLModel",
            "placeholder": "​",
            "_view_module": "@jupyter-widgets/controls",
            "_model_module_version": "1.5.0",
            "value": " 5/5 [00:07&lt;00:00,  1.44s/it]",
            "_view_count": null,
            "_view_module_version": "1.5.0",
            "description_tooltip": null,
            "_model_module": "@jupyter-widgets/controls",
            "layout": "IPY_MODEL_fafd4e86f1af4ed8ba4bfb6c83739a86"
          }
        },
        "ef49f09e13864fb285e0c1a60bbd18bf": {
          "model_module": "@jupyter-widgets/controls",
          "model_name": "DescriptionStyleModel",
          "model_module_version": "1.5.0",
          "state": {
            "_view_name": "StyleView",
            "_model_name": "DescriptionStyleModel",
            "description_width": "",
            "_view_module": "@jupyter-widgets/base",
            "_model_module_version": "1.5.0",
            "_view_count": null,
            "_view_module_version": "1.2.0",
            "_model_module": "@jupyter-widgets/controls"
          }
        },
        "b7ed34e8448b45cb88bb918ed250608c": {
          "model_module": "@jupyter-widgets/base",
          "model_name": "LayoutModel",
          "model_module_version": "1.2.0",
          "state": {
            "_view_name": "LayoutView",
            "grid_template_rows": null,
            "right": null,
            "justify_content": null,
            "_view_module": "@jupyter-widgets/base",
            "overflow": null,
            "_model_module_version": "1.2.0",
            "_view_count": null,
            "flex_flow": null,
            "width": null,
            "min_width": null,
            "border": null,
            "align_items": null,
            "bottom": null,
            "_model_module": "@jupyter-widgets/base",
            "top": null,
            "grid_column": null,
            "overflow_y": null,
            "overflow_x": null,
            "grid_auto_flow": null,
            "grid_area": null,
            "grid_template_columns": null,
            "flex": null,
            "_model_name": "LayoutModel",
            "justify_items": null,
            "grid_row": null,
            "max_height": null,
            "align_content": null,
            "visibility": null,
            "align_self": null,
            "height": null,
            "min_height": null,
            "padding": null,
            "grid_auto_rows": null,
            "grid_gap": null,
            "max_width": null,
            "order": null,
            "_view_module_version": "1.2.0",
            "grid_template_areas": null,
            "object_position": null,
            "object_fit": null,
            "grid_auto_columns": null,
            "margin": null,
            "display": null,
            "left": null
          }
        },
        "a4aab78d1fae4411a7f97238091e1703": {
          "model_module": "@jupyter-widgets/controls",
          "model_name": "ProgressStyleModel",
          "model_module_version": "1.5.0",
          "state": {
            "_view_name": "StyleView",
            "_model_name": "ProgressStyleModel",
            "description_width": "",
            "_view_module": "@jupyter-widgets/base",
            "_model_module_version": "1.5.0",
            "_view_count": null,
            "_view_module_version": "1.2.0",
            "bar_color": null,
            "_model_module": "@jupyter-widgets/controls"
          }
        },
        "0097aab7751a47439df80f1d4e38f791": {
          "model_module": "@jupyter-widgets/base",
          "model_name": "LayoutModel",
          "model_module_version": "1.2.0",
          "state": {
            "_view_name": "LayoutView",
            "grid_template_rows": null,
            "right": null,
            "justify_content": null,
            "_view_module": "@jupyter-widgets/base",
            "overflow": null,
            "_model_module_version": "1.2.0",
            "_view_count": null,
            "flex_flow": null,
            "width": null,
            "min_width": null,
            "border": null,
            "align_items": null,
            "bottom": null,
            "_model_module": "@jupyter-widgets/base",
            "top": null,
            "grid_column": null,
            "overflow_y": null,
            "overflow_x": null,
            "grid_auto_flow": null,
            "grid_area": null,
            "grid_template_columns": null,
            "flex": null,
            "_model_name": "LayoutModel",
            "justify_items": null,
            "grid_row": null,
            "max_height": null,
            "align_content": null,
            "visibility": null,
            "align_self": null,
            "height": null,
            "min_height": null,
            "padding": null,
            "grid_auto_rows": null,
            "grid_gap": null,
            "max_width": null,
            "order": null,
            "_view_module_version": "1.2.0",
            "grid_template_areas": null,
            "object_position": null,
            "object_fit": null,
            "grid_auto_columns": null,
            "margin": null,
            "display": null,
            "left": null
          }
        },
        "9f88c1a46cc842599e90700ca5daa701": {
          "model_module": "@jupyter-widgets/controls",
          "model_name": "DescriptionStyleModel",
          "model_module_version": "1.5.0",
          "state": {
            "_view_name": "StyleView",
            "_model_name": "DescriptionStyleModel",
            "description_width": "",
            "_view_module": "@jupyter-widgets/base",
            "_model_module_version": "1.5.0",
            "_view_count": null,
            "_view_module_version": "1.2.0",
            "_model_module": "@jupyter-widgets/controls"
          }
        },
        "fafd4e86f1af4ed8ba4bfb6c83739a86": {
          "model_module": "@jupyter-widgets/base",
          "model_name": "LayoutModel",
          "model_module_version": "1.2.0",
          "state": {
            "_view_name": "LayoutView",
            "grid_template_rows": null,
            "right": null,
            "justify_content": null,
            "_view_module": "@jupyter-widgets/base",
            "overflow": null,
            "_model_module_version": "1.2.0",
            "_view_count": null,
            "flex_flow": null,
            "width": null,
            "min_width": null,
            "border": null,
            "align_items": null,
            "bottom": null,
            "_model_module": "@jupyter-widgets/base",
            "top": null,
            "grid_column": null,
            "overflow_y": null,
            "overflow_x": null,
            "grid_auto_flow": null,
            "grid_area": null,
            "grid_template_columns": null,
            "flex": null,
            "_model_name": "LayoutModel",
            "justify_items": null,
            "grid_row": null,
            "max_height": null,
            "align_content": null,
            "visibility": null,
            "align_self": null,
            "height": null,
            "min_height": null,
            "padding": null,
            "grid_auto_rows": null,
            "grid_gap": null,
            "max_width": null,
            "order": null,
            "_view_module_version": "1.2.0",
            "grid_template_areas": null,
            "object_position": null,
            "object_fit": null,
            "grid_auto_columns": null,
            "margin": null,
            "display": null,
            "left": null
          }
        },
        "e579d7bd18554db0be63758a8dc14e0d": {
          "model_module": "@jupyter-widgets/controls",
          "model_name": "HBoxModel",
          "model_module_version": "1.5.0",
          "state": {
            "_view_name": "HBoxView",
            "_dom_classes": [],
            "_model_name": "HBoxModel",
            "_view_module": "@jupyter-widgets/controls",
            "_model_module_version": "1.5.0",
            "_view_count": null,
            "_view_module_version": "1.5.0",
            "box_style": "",
            "layout": "IPY_MODEL_90dfeec19f26419590eceb36ffcead06",
            "_model_module": "@jupyter-widgets/controls",
            "children": [
              "IPY_MODEL_d473648578a442b1a28a455c1c961897",
              "IPY_MODEL_e3794f10198149979638b562c61f85d5",
              "IPY_MODEL_4d2b4f5489534a3bbb095426627b2fab"
            ]
          }
        },
        "90dfeec19f26419590eceb36ffcead06": {
          "model_module": "@jupyter-widgets/base",
          "model_name": "LayoutModel",
          "model_module_version": "1.2.0",
          "state": {
            "_view_name": "LayoutView",
            "grid_template_rows": null,
            "right": null,
            "justify_content": null,
            "_view_module": "@jupyter-widgets/base",
            "overflow": null,
            "_model_module_version": "1.2.0",
            "_view_count": null,
            "flex_flow": null,
            "width": null,
            "min_width": null,
            "border": null,
            "align_items": null,
            "bottom": null,
            "_model_module": "@jupyter-widgets/base",
            "top": null,
            "grid_column": null,
            "overflow_y": null,
            "overflow_x": null,
            "grid_auto_flow": null,
            "grid_area": null,
            "grid_template_columns": null,
            "flex": null,
            "_model_name": "LayoutModel",
            "justify_items": null,
            "grid_row": null,
            "max_height": null,
            "align_content": null,
            "visibility": null,
            "align_self": null,
            "height": null,
            "min_height": null,
            "padding": null,
            "grid_auto_rows": null,
            "grid_gap": null,
            "max_width": null,
            "order": null,
            "_view_module_version": "1.2.0",
            "grid_template_areas": null,
            "object_position": null,
            "object_fit": null,
            "grid_auto_columns": null,
            "margin": null,
            "display": null,
            "left": null
          }
        },
        "d473648578a442b1a28a455c1c961897": {
          "model_module": "@jupyter-widgets/controls",
          "model_name": "HTMLModel",
          "model_module_version": "1.5.0",
          "state": {
            "_view_name": "HTMLView",
            "style": "IPY_MODEL_8803098785a74779ab6724ac3c64155c",
            "_dom_classes": [],
            "description": "",
            "_model_name": "HTMLModel",
            "placeholder": "​",
            "_view_module": "@jupyter-widgets/controls",
            "_model_module_version": "1.5.0",
            "value": "100%",
            "_view_count": null,
            "_view_module_version": "1.5.0",
            "description_tooltip": null,
            "_model_module": "@jupyter-widgets/controls",
            "layout": "IPY_MODEL_9aab865914064ccf9352820848b413eb"
          }
        },
        "e3794f10198149979638b562c61f85d5": {
          "model_module": "@jupyter-widgets/controls",
          "model_name": "FloatProgressModel",
          "model_module_version": "1.5.0",
          "state": {
            "_view_name": "ProgressView",
            "style": "IPY_MODEL_9101bf32ae444b5a8328a8519a3db251",
            "_dom_classes": [],
            "description": "",
            "_model_name": "FloatProgressModel",
            "bar_style": "success",
            "max": 5,
            "_view_module": "@jupyter-widgets/controls",
            "_model_module_version": "1.5.0",
            "value": 5,
            "_view_count": null,
            "_view_module_version": "1.5.0",
            "orientation": "horizontal",
            "min": 0,
            "description_tooltip": null,
            "_model_module": "@jupyter-widgets/controls",
            "layout": "IPY_MODEL_f8e46c828eb84592bc7e33f71ba25872"
          }
        },
        "4d2b4f5489534a3bbb095426627b2fab": {
          "model_module": "@jupyter-widgets/controls",
          "model_name": "HTMLModel",
          "model_module_version": "1.5.0",
          "state": {
            "_view_name": "HTMLView",
            "style": "IPY_MODEL_3d842f9a46f04f258772450a0feae2aa",
            "_dom_classes": [],
            "description": "",
            "_model_name": "HTMLModel",
            "placeholder": "​",
            "_view_module": "@jupyter-widgets/controls",
            "_model_module_version": "1.5.0",
            "value": " 5/5 [00:26&lt;00:00,  5.40s/it]",
            "_view_count": null,
            "_view_module_version": "1.5.0",
            "description_tooltip": null,
            "_model_module": "@jupyter-widgets/controls",
            "layout": "IPY_MODEL_87f0be02f0ed47eeab55178d6e13d8dc"
          }
        },
        "8803098785a74779ab6724ac3c64155c": {
          "model_module": "@jupyter-widgets/controls",
          "model_name": "DescriptionStyleModel",
          "model_module_version": "1.5.0",
          "state": {
            "_view_name": "StyleView",
            "_model_name": "DescriptionStyleModel",
            "description_width": "",
            "_view_module": "@jupyter-widgets/base",
            "_model_module_version": "1.5.0",
            "_view_count": null,
            "_view_module_version": "1.2.0",
            "_model_module": "@jupyter-widgets/controls"
          }
        },
        "9aab865914064ccf9352820848b413eb": {
          "model_module": "@jupyter-widgets/base",
          "model_name": "LayoutModel",
          "model_module_version": "1.2.0",
          "state": {
            "_view_name": "LayoutView",
            "grid_template_rows": null,
            "right": null,
            "justify_content": null,
            "_view_module": "@jupyter-widgets/base",
            "overflow": null,
            "_model_module_version": "1.2.0",
            "_view_count": null,
            "flex_flow": null,
            "width": null,
            "min_width": null,
            "border": null,
            "align_items": null,
            "bottom": null,
            "_model_module": "@jupyter-widgets/base",
            "top": null,
            "grid_column": null,
            "overflow_y": null,
            "overflow_x": null,
            "grid_auto_flow": null,
            "grid_area": null,
            "grid_template_columns": null,
            "flex": null,
            "_model_name": "LayoutModel",
            "justify_items": null,
            "grid_row": null,
            "max_height": null,
            "align_content": null,
            "visibility": null,
            "align_self": null,
            "height": null,
            "min_height": null,
            "padding": null,
            "grid_auto_rows": null,
            "grid_gap": null,
            "max_width": null,
            "order": null,
            "_view_module_version": "1.2.0",
            "grid_template_areas": null,
            "object_position": null,
            "object_fit": null,
            "grid_auto_columns": null,
            "margin": null,
            "display": null,
            "left": null
          }
        },
        "9101bf32ae444b5a8328a8519a3db251": {
          "model_module": "@jupyter-widgets/controls",
          "model_name": "ProgressStyleModel",
          "model_module_version": "1.5.0",
          "state": {
            "_view_name": "StyleView",
            "_model_name": "ProgressStyleModel",
            "description_width": "",
            "_view_module": "@jupyter-widgets/base",
            "_model_module_version": "1.5.0",
            "_view_count": null,
            "_view_module_version": "1.2.0",
            "bar_color": null,
            "_model_module": "@jupyter-widgets/controls"
          }
        },
        "f8e46c828eb84592bc7e33f71ba25872": {
          "model_module": "@jupyter-widgets/base",
          "model_name": "LayoutModel",
          "model_module_version": "1.2.0",
          "state": {
            "_view_name": "LayoutView",
            "grid_template_rows": null,
            "right": null,
            "justify_content": null,
            "_view_module": "@jupyter-widgets/base",
            "overflow": null,
            "_model_module_version": "1.2.0",
            "_view_count": null,
            "flex_flow": null,
            "width": null,
            "min_width": null,
            "border": null,
            "align_items": null,
            "bottom": null,
            "_model_module": "@jupyter-widgets/base",
            "top": null,
            "grid_column": null,
            "overflow_y": null,
            "overflow_x": null,
            "grid_auto_flow": null,
            "grid_area": null,
            "grid_template_columns": null,
            "flex": null,
            "_model_name": "LayoutModel",
            "justify_items": null,
            "grid_row": null,
            "max_height": null,
            "align_content": null,
            "visibility": null,
            "align_self": null,
            "height": null,
            "min_height": null,
            "padding": null,
            "grid_auto_rows": null,
            "grid_gap": null,
            "max_width": null,
            "order": null,
            "_view_module_version": "1.2.0",
            "grid_template_areas": null,
            "object_position": null,
            "object_fit": null,
            "grid_auto_columns": null,
            "margin": null,
            "display": null,
            "left": null
          }
        },
        "3d842f9a46f04f258772450a0feae2aa": {
          "model_module": "@jupyter-widgets/controls",
          "model_name": "DescriptionStyleModel",
          "model_module_version": "1.5.0",
          "state": {
            "_view_name": "StyleView",
            "_model_name": "DescriptionStyleModel",
            "description_width": "",
            "_view_module": "@jupyter-widgets/base",
            "_model_module_version": "1.5.0",
            "_view_count": null,
            "_view_module_version": "1.2.0",
            "_model_module": "@jupyter-widgets/controls"
          }
        },
        "87f0be02f0ed47eeab55178d6e13d8dc": {
          "model_module": "@jupyter-widgets/base",
          "model_name": "LayoutModel",
          "model_module_version": "1.2.0",
          "state": {
            "_view_name": "LayoutView",
            "grid_template_rows": null,
            "right": null,
            "justify_content": null,
            "_view_module": "@jupyter-widgets/base",
            "overflow": null,
            "_model_module_version": "1.2.0",
            "_view_count": null,
            "flex_flow": null,
            "width": null,
            "min_width": null,
            "border": null,
            "align_items": null,
            "bottom": null,
            "_model_module": "@jupyter-widgets/base",
            "top": null,
            "grid_column": null,
            "overflow_y": null,
            "overflow_x": null,
            "grid_auto_flow": null,
            "grid_area": null,
            "grid_template_columns": null,
            "flex": null,
            "_model_name": "LayoutModel",
            "justify_items": null,
            "grid_row": null,
            "max_height": null,
            "align_content": null,
            "visibility": null,
            "align_self": null,
            "height": null,
            "min_height": null,
            "padding": null,
            "grid_auto_rows": null,
            "grid_gap": null,
            "max_width": null,
            "order": null,
            "_view_module_version": "1.2.0",
            "grid_template_areas": null,
            "object_position": null,
            "object_fit": null,
            "grid_auto_columns": null,
            "margin": null,
            "display": null,
            "left": null
          }
        },
        "74b0c2d9dff645d5a775116612e51b23": {
          "model_module": "@jupyter-widgets/controls",
          "model_name": "HBoxModel",
          "model_module_version": "1.5.0",
          "state": {
            "_view_name": "HBoxView",
            "_dom_classes": [],
            "_model_name": "HBoxModel",
            "_view_module": "@jupyter-widgets/controls",
            "_model_module_version": "1.5.0",
            "_view_count": null,
            "_view_module_version": "1.5.0",
            "box_style": "",
            "layout": "IPY_MODEL_d00f6939012743acb547b2ac9aab2c8f",
            "_model_module": "@jupyter-widgets/controls",
            "children": [
              "IPY_MODEL_1e6e060d32d84969a69bb534cd241aba",
              "IPY_MODEL_007b3bc8ab904d4e92ec65ca17cab59d",
              "IPY_MODEL_159eca9b611c416b992d55090a1d9f97"
            ]
          }
        },
        "d00f6939012743acb547b2ac9aab2c8f": {
          "model_module": "@jupyter-widgets/base",
          "model_name": "LayoutModel",
          "model_module_version": "1.2.0",
          "state": {
            "_view_name": "LayoutView",
            "grid_template_rows": null,
            "right": null,
            "justify_content": null,
            "_view_module": "@jupyter-widgets/base",
            "overflow": null,
            "_model_module_version": "1.2.0",
            "_view_count": null,
            "flex_flow": null,
            "width": null,
            "min_width": null,
            "border": null,
            "align_items": null,
            "bottom": null,
            "_model_module": "@jupyter-widgets/base",
            "top": null,
            "grid_column": null,
            "overflow_y": null,
            "overflow_x": null,
            "grid_auto_flow": null,
            "grid_area": null,
            "grid_template_columns": null,
            "flex": null,
            "_model_name": "LayoutModel",
            "justify_items": null,
            "grid_row": null,
            "max_height": null,
            "align_content": null,
            "visibility": null,
            "align_self": null,
            "height": null,
            "min_height": null,
            "padding": null,
            "grid_auto_rows": null,
            "grid_gap": null,
            "max_width": null,
            "order": null,
            "_view_module_version": "1.2.0",
            "grid_template_areas": null,
            "object_position": null,
            "object_fit": null,
            "grid_auto_columns": null,
            "margin": null,
            "display": null,
            "left": null
          }
        },
        "1e6e060d32d84969a69bb534cd241aba": {
          "model_module": "@jupyter-widgets/controls",
          "model_name": "HTMLModel",
          "model_module_version": "1.5.0",
          "state": {
            "_view_name": "HTMLView",
            "style": "IPY_MODEL_19022b62ba644b228831202d88cf6b21",
            "_dom_classes": [],
            "description": "",
            "_model_name": "HTMLModel",
            "placeholder": "​",
            "_view_module": "@jupyter-widgets/controls",
            "_model_module_version": "1.5.0",
            "value": "100%",
            "_view_count": null,
            "_view_module_version": "1.5.0",
            "description_tooltip": null,
            "_model_module": "@jupyter-widgets/controls",
            "layout": "IPY_MODEL_fe8f4b0cc5df467581736b42be8a9721"
          }
        },
        "007b3bc8ab904d4e92ec65ca17cab59d": {
          "model_module": "@jupyter-widgets/controls",
          "model_name": "FloatProgressModel",
          "model_module_version": "1.5.0",
          "state": {
            "_view_name": "ProgressView",
            "style": "IPY_MODEL_4de5833cb8c743dfb53ade6c26d7b2d8",
            "_dom_classes": [],
            "description": "",
            "_model_name": "FloatProgressModel",
            "bar_style": "success",
            "max": 5,
            "_view_module": "@jupyter-widgets/controls",
            "_model_module_version": "1.5.0",
            "value": 5,
            "_view_count": null,
            "_view_module_version": "1.5.0",
            "orientation": "horizontal",
            "min": 0,
            "description_tooltip": null,
            "_model_module": "@jupyter-widgets/controls",
            "layout": "IPY_MODEL_09b37d0d563347f7ab6ee9620f2d4bb1"
          }
        },
        "159eca9b611c416b992d55090a1d9f97": {
          "model_module": "@jupyter-widgets/controls",
          "model_name": "HTMLModel",
          "model_module_version": "1.5.0",
          "state": {
            "_view_name": "HTMLView",
            "style": "IPY_MODEL_7d712617c9494290b1d9684a5e060d9d",
            "_dom_classes": [],
            "description": "",
            "_model_name": "HTMLModel",
            "placeholder": "​",
            "_view_module": "@jupyter-widgets/controls",
            "_model_module_version": "1.5.0",
            "value": " 5/5 [00:20&lt;00:00,  4.33s/it]",
            "_view_count": null,
            "_view_module_version": "1.5.0",
            "description_tooltip": null,
            "_model_module": "@jupyter-widgets/controls",
            "layout": "IPY_MODEL_ce21929ff3cb42aca39abbe819fe15d2"
          }
        },
        "19022b62ba644b228831202d88cf6b21": {
          "model_module": "@jupyter-widgets/controls",
          "model_name": "DescriptionStyleModel",
          "model_module_version": "1.5.0",
          "state": {
            "_view_name": "StyleView",
            "_model_name": "DescriptionStyleModel",
            "description_width": "",
            "_view_module": "@jupyter-widgets/base",
            "_model_module_version": "1.5.0",
            "_view_count": null,
            "_view_module_version": "1.2.0",
            "_model_module": "@jupyter-widgets/controls"
          }
        },
        "fe8f4b0cc5df467581736b42be8a9721": {
          "model_module": "@jupyter-widgets/base",
          "model_name": "LayoutModel",
          "model_module_version": "1.2.0",
          "state": {
            "_view_name": "LayoutView",
            "grid_template_rows": null,
            "right": null,
            "justify_content": null,
            "_view_module": "@jupyter-widgets/base",
            "overflow": null,
            "_model_module_version": "1.2.0",
            "_view_count": null,
            "flex_flow": null,
            "width": null,
            "min_width": null,
            "border": null,
            "align_items": null,
            "bottom": null,
            "_model_module": "@jupyter-widgets/base",
            "top": null,
            "grid_column": null,
            "overflow_y": null,
            "overflow_x": null,
            "grid_auto_flow": null,
            "grid_area": null,
            "grid_template_columns": null,
            "flex": null,
            "_model_name": "LayoutModel",
            "justify_items": null,
            "grid_row": null,
            "max_height": null,
            "align_content": null,
            "visibility": null,
            "align_self": null,
            "height": null,
            "min_height": null,
            "padding": null,
            "grid_auto_rows": null,
            "grid_gap": null,
            "max_width": null,
            "order": null,
            "_view_module_version": "1.2.0",
            "grid_template_areas": null,
            "object_position": null,
            "object_fit": null,
            "grid_auto_columns": null,
            "margin": null,
            "display": null,
            "left": null
          }
        },
        "4de5833cb8c743dfb53ade6c26d7b2d8": {
          "model_module": "@jupyter-widgets/controls",
          "model_name": "ProgressStyleModel",
          "model_module_version": "1.5.0",
          "state": {
            "_view_name": "StyleView",
            "_model_name": "ProgressStyleModel",
            "description_width": "",
            "_view_module": "@jupyter-widgets/base",
            "_model_module_version": "1.5.0",
            "_view_count": null,
            "_view_module_version": "1.2.0",
            "bar_color": null,
            "_model_module": "@jupyter-widgets/controls"
          }
        },
        "09b37d0d563347f7ab6ee9620f2d4bb1": {
          "model_module": "@jupyter-widgets/base",
          "model_name": "LayoutModel",
          "model_module_version": "1.2.0",
          "state": {
            "_view_name": "LayoutView",
            "grid_template_rows": null,
            "right": null,
            "justify_content": null,
            "_view_module": "@jupyter-widgets/base",
            "overflow": null,
            "_model_module_version": "1.2.0",
            "_view_count": null,
            "flex_flow": null,
            "width": null,
            "min_width": null,
            "border": null,
            "align_items": null,
            "bottom": null,
            "_model_module": "@jupyter-widgets/base",
            "top": null,
            "grid_column": null,
            "overflow_y": null,
            "overflow_x": null,
            "grid_auto_flow": null,
            "grid_area": null,
            "grid_template_columns": null,
            "flex": null,
            "_model_name": "LayoutModel",
            "justify_items": null,
            "grid_row": null,
            "max_height": null,
            "align_content": null,
            "visibility": null,
            "align_self": null,
            "height": null,
            "min_height": null,
            "padding": null,
            "grid_auto_rows": null,
            "grid_gap": null,
            "max_width": null,
            "order": null,
            "_view_module_version": "1.2.0",
            "grid_template_areas": null,
            "object_position": null,
            "object_fit": null,
            "grid_auto_columns": null,
            "margin": null,
            "display": null,
            "left": null
          }
        },
        "7d712617c9494290b1d9684a5e060d9d": {
          "model_module": "@jupyter-widgets/controls",
          "model_name": "DescriptionStyleModel",
          "model_module_version": "1.5.0",
          "state": {
            "_view_name": "StyleView",
            "_model_name": "DescriptionStyleModel",
            "description_width": "",
            "_view_module": "@jupyter-widgets/base",
            "_model_module_version": "1.5.0",
            "_view_count": null,
            "_view_module_version": "1.2.0",
            "_model_module": "@jupyter-widgets/controls"
          }
        },
        "ce21929ff3cb42aca39abbe819fe15d2": {
          "model_module": "@jupyter-widgets/base",
          "model_name": "LayoutModel",
          "model_module_version": "1.2.0",
          "state": {
            "_view_name": "LayoutView",
            "grid_template_rows": null,
            "right": null,
            "justify_content": null,
            "_view_module": "@jupyter-widgets/base",
            "overflow": null,
            "_model_module_version": "1.2.0",
            "_view_count": null,
            "flex_flow": null,
            "width": null,
            "min_width": null,
            "border": null,
            "align_items": null,
            "bottom": null,
            "_model_module": "@jupyter-widgets/base",
            "top": null,
            "grid_column": null,
            "overflow_y": null,
            "overflow_x": null,
            "grid_auto_flow": null,
            "grid_area": null,
            "grid_template_columns": null,
            "flex": null,
            "_model_name": "LayoutModel",
            "justify_items": null,
            "grid_row": null,
            "max_height": null,
            "align_content": null,
            "visibility": null,
            "align_self": null,
            "height": null,
            "min_height": null,
            "padding": null,
            "grid_auto_rows": null,
            "grid_gap": null,
            "max_width": null,
            "order": null,
            "_view_module_version": "1.2.0",
            "grid_template_areas": null,
            "object_position": null,
            "object_fit": null,
            "grid_auto_columns": null,
            "margin": null,
            "display": null,
            "left": null
          }
        }
      }
    }
  },
  "cells": [
    {
      "cell_type": "markdown",
      "metadata": {
        "id": "view-in-github",
        "colab_type": "text"
      },
      "source": [
        "<a href=\"https://colab.research.google.com/github/liao961120/hgct/blob/main/docs_source/nb/corpusAnalysis.ipynb\" target=\"_parent\"><img src=\"https://colab.research.google.com/assets/colab-badge.svg\" alt=\"Open In Colab\"/></a>"
      ]
    },
    {
      "cell_type": "code",
      "metadata": {
        "id": "solar-defense",
        "outputId": "03c7f4fd-2f01-4970-93e6-0d1144bed48b",
        "colab": {
          "base_uri": "https://localhost:8080/"
        }
      },
      "source": [
        "!gdown https://github.com/liao961120/hgct/raw/main/test/data.zip\n",
        "!unzip -q data.zip\n",
        "!pip install -qU hgct"
      ],
      "id": "solar-defense",
      "execution_count": 2,
      "outputs": [
        {
          "output_type": "stream",
          "name": "stdout",
          "text": [
            "Downloading...\n",
            "From: https://github.com/liao961120/hgct/raw/main/test/data.zip\n",
            "To: /content/data.zip\n",
            "100% 11.5M/11.5M [00:00<00:00, 104MB/s]\n",
            "\u001b[K     |████████████████████████████████| 40 kB 2.7 MB/s \n",
            "\u001b[?25h  Installing build dependencies ... \u001b[?25l\u001b[?25hdone\n",
            "  Getting requirements to build wheel ... \u001b[?25l\u001b[?25hdone\n",
            "    Preparing wheel metadata ... \u001b[?25l\u001b[?25hdone\n",
            "\u001b[K     |████████████████████████████████| 467 kB 10.9 MB/s \n",
            "\u001b[K     |████████████████████████████████| 256 kB 16.1 MB/s \n",
            "\u001b[K     |████████████████████████████████| 596 kB 17.5 MB/s \n",
            "\u001b[K     |████████████████████████████████| 1.3 MB 46.9 MB/s \n",
            "\u001b[?25h  Building wheel for gdown (PEP 517) ... \u001b[?25l\u001b[?25hdone\n"
          ]
        }
      ]
    },
    {
      "cell_type": "markdown",
      "source": [
        "In this second tutorial, we demonstrate functions for quantitative analysis of the corpus in *hgct*. To get started, we need two additional objects `CompoAnalysis` and `Dispersion` in addition to the `Concordancer` object introduced in the previous tutorial. The corpus used is identical to the one in Appendix A.\n",
        "\n",
        "Note that when initializing with `CompoAnalysis()` and `PlainTextReader()`, the argument `auto_load=False` needs to be given to `PlainTextReader()`. This prevents the full corpus to be loaded into the memory, such that functionalities provided by `CompoAnalysis` could be used to analyze large data that do not fit into the computer's memory. For more information, refer to the source code on GitHub[^compoanalysis-src].\n",
        "\n",
        "[^compoanalysis-src]: https://github.com/liao961120/hgct/blob/main/hgct/compoAnalysis.py"
      ],
      "metadata": {
        "id": "f03izYQ___La"
      },
      "id": "f03izYQ___La"
    },
    {
      "cell_type": "code",
      "source": [
        "import pandas as pd\n",
        "from hgct import PlainTextReader, Concordancer, CompoAnalysis, Dispersion\n",
        "\n",
        "CC = Concordancer(PlainTextReader(\"data/\").corpus)\n",
        "CA = CompoAnalysis(PlainTextReader(\"data/\", auto_load=False))\n",
        "DP = Dispersion(PlainTextReader(\"data\").corpus)"
      ],
      "metadata": {
        "colab": {
          "base_uri": "https://localhost:8080/",
          "height": 218,
          "referenced_widgets": [
            "dc6ad316726f4e49adc6ab2b93581524",
            "2a1b186cc6134232aaf7c087dd5964f3",
            "5ef730cc5a2b438c8ea174c0ea27afc6",
            "535472733ca94708b3a50af5f2e6ca6b",
            "63f4fdbfa6fa4873ae08146bda0c0646",
            "6ead463ab5b94188b482a96a66bab21f",
            "c9821b634ff544dcbf4a9851bb823b9e",
            "55fb8a190f0d480d85a4e5c4bb9e8dcb",
            "a0d8104731ad4bf38eea377f80ca491c",
            "c307e68b705f4d07a1f91715d4750662",
            "c7ebbaf521de40dfb46a59404ebc3122",
            "baee7214242245a89821b47e9264a06f",
            "c6067de6390940febd3c9f31c5f59555",
            "b42dbfce954643249a1268ba1861843d",
            "41a70ae307c740899667994fcb1c1397",
            "a9e6c0c8669a4775ba50b9f2056fbbcf",
            "ada20ea55cb24eed82b5e1b85e5fd450",
            "2000502d825946018cc287b401c4ba8b",
            "e5a18eda291849029bb6ad075a41628b",
            "a0b6dbcc07454c28bc84af6542f03c2d",
            "5dc7bb7ea7214e7cbcc16a4e71d74c3d",
            "62a4f4c9ca0b48b8999b40fd998e2270",
            "529c95803fe04a8aae572c155551167f",
            "9d284f8af6cf4b7db3861f50be9203f1",
            "31e8d73d7d844f4da94b531917775dc2",
            "f8499bd54ea040ea9962707b3819a339",
            "b541921f1319429b838d3ea1e34023b3",
            "765a266f6b5b453eb4815e79eb414a86",
            "e0a3d3c3ead64837921a1ba312753e5d",
            "32eb5a8292f04fbdbbd24aa0add96bb8",
            "99c54c7fdb9f4315a831d5c66e4bcd13",
            "08b8169a6b48490d8747b21a8d402e1d",
            "96b1637ebf7145ffa546cd3d76b48b5f",
            "0ad63e39c1114dffbdc5465a422a2c22",
            "0189887082b34e9ba18fe327f25bf7ad",
            "710adf3c0ab643ed9251e2fd8baf58b3",
            "5cc329136b19495a8dda0bcbc9627a27",
            "5b2cbcd6a193429984f82d5a059d7b46",
            "ef49f09e13864fb285e0c1a60bbd18bf",
            "b7ed34e8448b45cb88bb918ed250608c",
            "a4aab78d1fae4411a7f97238091e1703",
            "0097aab7751a47439df80f1d4e38f791",
            "9f88c1a46cc842599e90700ca5daa701",
            "fafd4e86f1af4ed8ba4bfb6c83739a86"
          ]
        },
        "id": "zJJ_i98WwRol",
        "outputId": "3fed8cc4-73e3-4aac-b845-b66e1080122b"
      },
      "id": "zJJ_i98WwRol",
      "execution_count": 3,
      "outputs": [
        {
          "output_type": "stream",
          "name": "stdout",
          "text": [
            "Indexing corpus for text retrival...\n"
          ]
        },
        {
          "output_type": "display_data",
          "data": {
            "application/vnd.jupyter.widget-view+json": {
              "model_id": "dc6ad316726f4e49adc6ab2b93581524",
              "version_minor": 0,
              "version_major": 2
            },
            "text/plain": [
              "  0%|          | 0/5 [00:00<?, ?it/s]"
            ]
          },
          "metadata": {}
        },
        {
          "output_type": "stream",
          "name": "stdout",
          "text": [
            "Indexing corpus for concordance search...\n"
          ]
        },
        {
          "output_type": "display_data",
          "data": {
            "application/vnd.jupyter.widget-view+json": {
              "model_id": "baee7214242245a89821b47e9264a06f",
              "version_minor": 0,
              "version_major": 2
            },
            "text/plain": [
              "  0%|          | 0/5 [00:00<?, ?it/s]"
            ]
          },
          "metadata": {}
        },
        {
          "output_type": "stream",
          "name": "stdout",
          "text": [
            "Indexing corpus for text retrival...\n"
          ]
        },
        {
          "output_type": "display_data",
          "data": {
            "application/vnd.jupyter.widget-view+json": {
              "model_id": "529c95803fe04a8aae572c155551167f",
              "version_minor": 0,
              "version_major": 2
            },
            "text/plain": [
              "  0%|          | 0/5 [00:00<?, ?it/s]"
            ]
          },
          "metadata": {}
        },
        {
          "output_type": "stream",
          "name": "stdout",
          "text": [
            "Indexing corpus for concordance search...\n"
          ]
        },
        {
          "output_type": "display_data",
          "data": {
            "application/vnd.jupyter.widget-view+json": {
              "model_id": "0ad63e39c1114dffbdc5465a422a2c22",
              "version_minor": 0,
              "version_major": 2
            },
            "text/plain": [
              "  0%|          | 0/5 [00:00<?, ?it/s]"
            ]
          },
          "metadata": {}
        }
      ]
    },
    {
      "cell_type": "markdown",
      "source": [
        "## Frequency List (Distribution)\n",
        "\n",
        "Freqency lists are provided by the function `CompoAnalysis.freq_distr()`. Based on the arguments passed, this function computes and return the frequency distribution of either the characters, IDCs, Kangxi radicals, or characters with a given radical/component. Below, we demonstrate each of these types of frequency distributions.\n"
      ],
      "metadata": {
        "id": "i3pM6wrDxnH2"
      },
      "id": "i3pM6wrDxnH2"
    },
    {
      "cell_type": "markdown",
      "source": [
        "### Character\n",
        "\n",
        "To return the frequency distribution of the characters in the corpus, set the argument `tp` to `\"chr\"`. `CompoAnalysis.freq_distr()` by default returns a `Counter`[^py-counter], which has the convenient method `most_common()` that could be used to retrieve the terms with the highest frequencies.\n",
        "\n",
        "[^py-counter]: https://docs.python.org/3/library/collections.html#collections.Counter"
      ],
      "metadata": {
        "id": "9dc3WgcVxsso"
      },
      "id": "9dc3WgcVxsso"
    },
    {
      "cell_type": "code",
      "source": [
        "CA.freq_distr(tp=\"chr\").most_common(5)"
      ],
      "metadata": {
        "colab": {
          "base_uri": "https://localhost:8080/"
        },
        "id": "O3hy3rrfw7nC",
        "outputId": "fad03fd0-8e33-4a89-bac8-31e37b36181e"
      },
      "id": "O3hy3rrfw7nC",
      "execution_count": null,
      "outputs": [
        {
          "output_type": "execute_result",
          "data": {
            "text/plain": [
              "[('之', 210608), ('不', 129212), ('也', 107639), ('以', 104578), ('而', 92963)]"
            ]
          },
          "metadata": {},
          "execution_count": 6
        }
      ]
    },
    {
      "cell_type": "markdown",
      "source": [
        "As mentioned in @sec:app-search-by-character, we could limit the scope of calculation to a particular subcorpus by specifying the its index. To do this, pass the arguement `subcorp_idx` to the function. The example below sets the subcorpus to `3`, which is the subcorpus of modern Chinese (ASBC).\n"
      ],
      "metadata": {
        "id": "gyTwIeKHFQhk"
      },
      "id": "gyTwIeKHFQhk"
    },
    {
      "cell_type": "code",
      "source": [
        "CA.freq_distr(tp=\"chr\", subcorp_idx=3).most_common(5)"
      ],
      "metadata": {
        "colab": {
          "base_uri": "https://localhost:8080/"
        },
        "id": "UqgQr6ksxOhu",
        "outputId": "6a16b4da-46fc-4f23-fe6d-8b0391d218aa"
      },
      "id": "UqgQr6ksxOhu",
      "execution_count": null,
      "outputs": [
        {
          "output_type": "execute_result",
          "data": {
            "text/plain": [
              "[('的', 15826), ('一', 5537), ('是', 5130), ('不', 4469), ('人', 4042)]"
            ]
          },
          "metadata": {},
          "execution_count": 107
        }
      ]
    },
    {
      "cell_type": "markdown",
      "source": [
        "### IDC\n",
        "\n",
        "Frequency distributions of the Ideographic Description Characters (IDCs) could similarly be retrieved by setting `tp` to `\"idc\"`. Note that there is an argument `use_chr_types` that applies when `tp=\"idc\"` (IDC) or `tp=\"rad\"` (radical). `use_chr_types` is used to determine how to compute the frequencies. If it is set to `False`, character frequencies are considered. If it is `True`, character frequencies are discarded. In other words, when `use_chr_types=False`, an IDC or a radical would only be counted once for each type of character. See @sec:frequency-lists for a toy example."
      ],
      "metadata": {
        "id": "DW2vGN_yxlGX"
      },
      "id": "DW2vGN_yxlGX"
    },
    {
      "cell_type": "code",
      "source": [
        "CA.freq_distr(tp=\"idc\", subcorp_idx=3)"
      ],
      "metadata": {
        "colab": {
          "base_uri": "https://localhost:8080/"
        },
        "id": "yqkcTZLgxf6G",
        "outputId": "70308d2f-eaa5-4a1e-f5f2-78c8ed145134"
      },
      "id": "yqkcTZLgxf6G",
      "execution_count": null,
      "outputs": [
        {
          "output_type": "execute_result",
          "data": {
            "text/plain": [
              "Counter({'': 48725,\n",
              "         '⿰': 167681,\n",
              "         '⿱': 120035,\n",
              "         '⿲': 1965,\n",
              "         '⿳': 4068,\n",
              "         '⿴': 5744,\n",
              "         '⿵': 7834,\n",
              "         '⿶': 1637,\n",
              "         '⿷': 537,\n",
              "         '⿸': 18511,\n",
              "         '⿹': 4412,\n",
              "         '⿺': 13451,\n",
              "         '⿻': 10324})"
            ]
          },
          "metadata": {},
          "execution_count": 27
        }
      ]
    },
    {
      "cell_type": "code",
      "source": [
        "CA.freq_distr(tp=\"idc\", use_chr_types=True, subcorp_idx=3)"
      ],
      "metadata": {
        "colab": {
          "base_uri": "https://localhost:8080/"
        },
        "id": "K_mBjV52ychm",
        "outputId": "61b02428-8486-40fb-d401-962f104a058e"
      },
      "id": "K_mBjV52ychm",
      "execution_count": null,
      "outputs": [
        {
          "output_type": "execute_result",
          "data": {
            "text/plain": [
              "Counter({'': 119,\n",
              "         '⿰': 2454,\n",
              "         '⿱': 1019,\n",
              "         '⿲': 26,\n",
              "         '⿳': 39,\n",
              "         '⿴': 18,\n",
              "         '⿵': 45,\n",
              "         '⿶': 6,\n",
              "         '⿷': 12,\n",
              "         '⿸': 176,\n",
              "         '⿹': 41,\n",
              "         '⿺': 123,\n",
              "         '⿻': 32})"
            ]
          },
          "metadata": {},
          "execution_count": 28
        }
      ]
    },
    {
      "cell_type": "markdown",
      "source": [
        "### Radical\n",
        "\n",
        "To retrieve frequency distributions for radicals, set `tp=\"rad\"`. The usage of `use_chr_types` here is similar to the IDC described above."
      ],
      "metadata": {
        "id": "A65wHz8kxvOR"
      },
      "id": "A65wHz8kxvOR"
    },
    {
      "cell_type": "code",
      "source": [
        "CA.freq_distr(tp=\"rad\", subcorp_idx=3).most_common(5)"
      ],
      "metadata": {
        "colab": {
          "base_uri": "https://localhost:8080/"
        },
        "id": "fCNZZr8Tx0_E",
        "outputId": "22309249-a191-49a0-a1dc-e7941e6fdc8a"
      },
      "id": "fCNZZr8Tx0_E",
      "execution_count": null,
      "outputs": [
        {
          "output_type": "execute_result",
          "data": {
            "text/plain": [
              "[('人', 28149), ('白', 16640), ('一', 15567), ('口', 15443), ('水', 11552)]"
            ]
          },
          "metadata": {},
          "execution_count": 26
        }
      ]
    },
    {
      "cell_type": "code",
      "source": [
        "CA.freq_distr(tp=\"rad\", use_chr_types=True, subcorp_idx=3).most_common(5)"
      ],
      "metadata": {
        "colab": {
          "base_uri": "https://localhost:8080/"
        },
        "id": "2qxAFbZ4ymlV",
        "outputId": "8e428ea7-94e7-4f81-92fe-220acdc079aa"
      },
      "id": "2qxAFbZ4ymlV",
      "execution_count": null,
      "outputs": [
        {
          "output_type": "execute_result",
          "data": {
            "text/plain": [
              "[('水', 233), ('口', 207), ('手', 201), ('人', 172), ('木', 171)]"
            ]
          },
          "metadata": {},
          "execution_count": 25
        }
      ]
    },
    {
      "cell_type": "markdown",
      "source": [
        "### Characters with a given radical\n",
        "\n",
        "It is also possible to look into charcters of a specific type. By setting `tp=None`, one could then pass in a radical to the argument `radical` to look at the frequency distribution of the characters with this particular radical."
      ],
      "metadata": {
        "id": "ADGrxH2WyAuC"
      },
      "id": "ADGrxH2WyAuC"
    },
    {
      "cell_type": "code",
      "source": [
        "CA.freq_distr(tp=None, radical=\"广\").most_common(5)"
      ],
      "metadata": {
        "colab": {
          "base_uri": "https://localhost:8080/"
        },
        "id": "zdXkAlpbyC4Y",
        "outputId": "504ab6ff-7b11-4add-d419-632bb21a6dee"
      },
      "id": "zdXkAlpbyC4Y",
      "execution_count": null,
      "outputs": [
        {
          "output_type": "execute_result",
          "data": {
            "text/plain": [
              "[('度', 4757), ('廣', 4050), ('廟', 3067), ('府', 3064), ('廢', 2542)]"
            ]
          },
          "metadata": {},
          "execution_count": 30
        }
      ]
    },
    {
      "cell_type": "markdown",
      "source": [
        "### Characters with a given IDC component\n",
        "\n",
        "Similarly, a frequency distribution of characters of a specific type defined according to a component and an optional IDC describing the shape, could also be retrieved by specifying `tp=None` and the arguments `compo` and `idc` (optional)."
      ],
      "metadata": {
        "id": "CPzqotSuyO6L"
      },
      "id": "CPzqotSuyO6L"
    },
    {
      "cell_type": "code",
      "source": [
        "CA.freq_distr(tp=None, compo=\"水\", idc=\"vert2\")"
      ],
      "metadata": {
        "colab": {
          "base_uri": "https://localhost:8080/"
        },
        "id": "qxRtRMKvyQ0e",
        "outputId": "26d05b0d-1b7f-4771-b6ae-fb1f44cb465a"
      },
      "id": "qxRtRMKvyQ0e",
      "execution_count": null,
      "outputs": [
        {
          "output_type": "execute_result",
          "data": {
            "text/plain": [
              "Counter({'氶': 1,\n",
              "         '汞': 15,\n",
              "         '沓': 89,\n",
              "         '泉': 1349,\n",
              "         '泵': 3,\n",
              "         '淼': 4,\n",
              "         '滎': 344,\n",
              "         '漀': 1,\n",
              "         '漐': 9,\n",
              "         '漿': 153,\n",
              "         '澩': 3,\n",
              "         '灓': 5})"
            ]
          },
          "metadata": {},
          "execution_count": 111
        }
      ]
    },
    {
      "cell_type": "markdown",
      "metadata": {
        "id": "fuzzy-granny"
      },
      "source": [
        "## Dispersion\n",
        "\n",
        "Measures of dispersion could be calculated based on a charcter or a search pattern. "
      ],
      "id": "fuzzy-granny"
    },
    {
      "cell_type": "markdown",
      "metadata": {
        "id": "covered-parallel"
      },
      "source": [
        "### Dispersion Measures for Characters\n",
        "\n",
        "`Dispersion.char_dispersion()` is used for calculating dispersion measures for a character. The examples below uses the toy corpus in Gries (2020) to demonstrate the validity of the returned measure. The values should be identical to those in Table 1 of Gries (2020)."
      ],
      "id": "covered-parallel"
    },
    {
      "cell_type": "code",
      "source": [
        "# Gries (2020, Table 1)\n",
        "DP.char_dispersion(char='a', subcorp_idx=4)"
      ],
      "metadata": {
        "colab": {
          "base_uri": "https://localhost:8080/"
        },
        "id": "oQOiz4kNzefR",
        "outputId": "c7da95e8-271c-4b54-a47b-12b795937923"
      },
      "id": "oQOiz4kNzefR",
      "execution_count": null,
      "outputs": [
        {
          "output_type": "execute_result",
          "data": {
            "text/plain": [
              "{'DP': 0.18,\n",
              " 'DPnorm': 0.2195121951219512,\n",
              " 'JuillandD': 0.7851504534504508,\n",
              " 'KLdivergence': 0.13697172936522078,\n",
              " 'Range': 5,\n",
              " 'RosengrenS': 0.9498163423042408}"
            ]
          },
          "metadata": {},
          "execution_count": 45
        }
      ]
    },
    {
      "cell_type": "code",
      "source": [
        "# Setting return_raw=True to get the raw data for dispersion calculation\n",
        "DP.char_dispersion(char='a', return_raw=True, subcorp_idx=4)"
      ],
      "metadata": {
        "colab": {
          "base_uri": "https://localhost:8080/"
        },
        "id": "CkRCf0mb2_ch",
        "outputId": "abbd07b4-e5b1-48f2-f5c6-48f264f94d5f"
      },
      "id": "CkRCf0mb2_ch",
      "execution_count": null,
      "outputs": [
        {
          "output_type": "execute_result",
          "data": {
            "text/plain": [
              "({'DP': 0.18,\n",
              "  'DPnorm': 0.2195121951219512,\n",
              "  'JuillandD': 0.7851504534504508,\n",
              "  'KLdivergence': 0.13697172936522078,\n",
              "  'Range': 5,\n",
              "  'RosengrenS': 0.9498163423042408},\n",
              " {'corpus_size': 50,\n",
              "  'f': 15,\n",
              "  'n': 5,\n",
              "  'p': [0.1111111111111111, 0.45454545454545453, 0.3, 0.2, 0.4],\n",
              "  's': [0.18, 0.22, 0.2, 0.2, 0.2],\n",
              "  'v': [1, 5, 3, 2, 4]})"
            ]
          },
          "metadata": {},
          "execution_count": 46
        }
      ]
    },
    {
      "cell_type": "markdown",
      "source": [
        "To see how dispersion measures behave on real data, we calculate dispersion measures for four characters (之, 也, 草, and 巾) in a corpus of Literary Chinese texts. The first two characters 之 and 也 are often used as function words, and the last two as content words in Literary Chinese. Hence, we would expect the first two to be distributed evenly, and the last two unevenly in the corpus.\n",
        "\n",
        "\n"
      ],
      "metadata": {
        "id": "ddBXRTD1NdhC"
      },
      "id": "ddBXRTD1NdhC"
    },
    {
      "cell_type": "code",
      "source": [
        "subcorp_idx = 0\n",
        "df_disp = []\n",
        "for ch in '之也草巾':\n",
        "    stats, raw = DP.char_dispersion(char=ch, subcorp_idx=subcorp_idx, return_raw=True)\n",
        "    d = {\n",
        "         'char': ch,\n",
        "         'Range(%)': '{:.2f}'.format(100 * stats['Range'] / raw['n']),\n",
        "         **stats\n",
        "    }\n",
        "    df_disp.append(d)\n",
        "df_disp = pd.DataFrame(df_disp)\n",
        "df_disp"
      ],
      "metadata": {
        "colab": {
          "base_uri": "https://localhost:8080/",
          "height": 174
        },
        "id": "hnT8x2EvzzSn",
        "outputId": "b6f9c45f-4210-4963-eadb-c3bc0ca08e15"
      },
      "id": "hnT8x2EvzzSn",
      "execution_count": null,
      "outputs": [
        {
          "output_type": "execute_result",
          "data": {
            "text/html": [
              "\n",
              "  <div id=\"df-81a17e12-3cb9-4eab-80a5-6f7ba3edc887\">\n",
              "    <div class=\"colab-df-container\">\n",
              "      <div>\n",
              "<style scoped>\n",
              "    .dataframe tbody tr th:only-of-type {\n",
              "        vertical-align: middle;\n",
              "    }\n",
              "\n",
              "    .dataframe tbody tr th {\n",
              "        vertical-align: top;\n",
              "    }\n",
              "\n",
              "    .dataframe thead th {\n",
              "        text-align: right;\n",
              "    }\n",
              "</style>\n",
              "<table border=\"1\" class=\"dataframe\">\n",
              "  <thead>\n",
              "    <tr style=\"text-align: right;\">\n",
              "      <th></th>\n",
              "      <th>char</th>\n",
              "      <th>Range(%)</th>\n",
              "      <th>Range</th>\n",
              "      <th>DP</th>\n",
              "      <th>DPnorm</th>\n",
              "      <th>KLdivergence</th>\n",
              "      <th>JuillandD</th>\n",
              "      <th>RosengrenS</th>\n",
              "    </tr>\n",
              "  </thead>\n",
              "  <tbody>\n",
              "    <tr>\n",
              "      <th>0</th>\n",
              "      <td>之</td>\n",
              "      <td>90.98</td>\n",
              "      <td>666</td>\n",
              "      <td>0.128508</td>\n",
              "      <td>0.128509</td>\n",
              "      <td>0.095890</td>\n",
              "      <td>0.977316</td>\n",
              "      <td>0.961405</td>\n",
              "    </tr>\n",
              "    <tr>\n",
              "      <th>1</th>\n",
              "      <td>也</td>\n",
              "      <td>77.05</td>\n",
              "      <td>564</td>\n",
              "      <td>0.251459</td>\n",
              "      <td>0.251462</td>\n",
              "      <td>0.401038</td>\n",
              "      <td>0.962913</td>\n",
              "      <td>0.823893</td>\n",
              "    </tr>\n",
              "    <tr>\n",
              "      <th>2</th>\n",
              "      <td>草</td>\n",
              "      <td>22.40</td>\n",
              "      <td>164</td>\n",
              "      <td>0.649643</td>\n",
              "      <td>0.649649</td>\n",
              "      <td>2.331477</td>\n",
              "      <td>0.863829</td>\n",
              "      <td>0.320790</td>\n",
              "    </tr>\n",
              "    <tr>\n",
              "      <th>3</th>\n",
              "      <td>巾</td>\n",
              "      <td>3.69</td>\n",
              "      <td>27</td>\n",
              "      <td>0.844676</td>\n",
              "      <td>0.844683</td>\n",
              "      <td>4.077689</td>\n",
              "      <td>0.541787</td>\n",
              "      <td>0.101871</td>\n",
              "    </tr>\n",
              "  </tbody>\n",
              "</table>\n",
              "</div>\n",
              "      <button class=\"colab-df-convert\" onclick=\"convertToInteractive('df-81a17e12-3cb9-4eab-80a5-6f7ba3edc887')\"\n",
              "              title=\"Convert this dataframe to an interactive table.\"\n",
              "              style=\"display:none;\">\n",
              "        \n",
              "  <svg xmlns=\"http://www.w3.org/2000/svg\" height=\"24px\"viewBox=\"0 0 24 24\"\n",
              "       width=\"24px\">\n",
              "    <path d=\"M0 0h24v24H0V0z\" fill=\"none\"/>\n",
              "    <path d=\"M18.56 5.44l.94 2.06.94-2.06 2.06-.94-2.06-.94-.94-2.06-.94 2.06-2.06.94zm-11 1L8.5 8.5l.94-2.06 2.06-.94-2.06-.94L8.5 2.5l-.94 2.06-2.06.94zm10 10l.94 2.06.94-2.06 2.06-.94-2.06-.94-.94-2.06-.94 2.06-2.06.94z\"/><path d=\"M17.41 7.96l-1.37-1.37c-.4-.4-.92-.59-1.43-.59-.52 0-1.04.2-1.43.59L10.3 9.45l-7.72 7.72c-.78.78-.78 2.05 0 2.83L4 21.41c.39.39.9.59 1.41.59.51 0 1.02-.2 1.41-.59l7.78-7.78 2.81-2.81c.8-.78.8-2.07 0-2.86zM5.41 20L4 18.59l7.72-7.72 1.47 1.35L5.41 20z\"/>\n",
              "  </svg>\n",
              "      </button>\n",
              "      \n",
              "  <style>\n",
              "    .colab-df-container {\n",
              "      display:flex;\n",
              "      flex-wrap:wrap;\n",
              "      gap: 12px;\n",
              "    }\n",
              "\n",
              "    .colab-df-convert {\n",
              "      background-color: #E8F0FE;\n",
              "      border: none;\n",
              "      border-radius: 50%;\n",
              "      cursor: pointer;\n",
              "      display: none;\n",
              "      fill: #1967D2;\n",
              "      height: 32px;\n",
              "      padding: 0 0 0 0;\n",
              "      width: 32px;\n",
              "    }\n",
              "\n",
              "    .colab-df-convert:hover {\n",
              "      background-color: #E2EBFA;\n",
              "      box-shadow: 0px 1px 2px rgba(60, 64, 67, 0.3), 0px 1px 3px 1px rgba(60, 64, 67, 0.15);\n",
              "      fill: #174EA6;\n",
              "    }\n",
              "\n",
              "    [theme=dark] .colab-df-convert {\n",
              "      background-color: #3B4455;\n",
              "      fill: #D2E3FC;\n",
              "    }\n",
              "\n",
              "    [theme=dark] .colab-df-convert:hover {\n",
              "      background-color: #434B5C;\n",
              "      box-shadow: 0px 1px 3px 1px rgba(0, 0, 0, 0.15);\n",
              "      filter: drop-shadow(0px 1px 2px rgba(0, 0, 0, 0.3));\n",
              "      fill: #FFFFFF;\n",
              "    }\n",
              "  </style>\n",
              "\n",
              "      <script>\n",
              "        const buttonEl =\n",
              "          document.querySelector('#df-81a17e12-3cb9-4eab-80a5-6f7ba3edc887 button.colab-df-convert');\n",
              "        buttonEl.style.display =\n",
              "          google.colab.kernel.accessAllowed ? 'block' : 'none';\n",
              "\n",
              "        async function convertToInteractive(key) {\n",
              "          const element = document.querySelector('#df-81a17e12-3cb9-4eab-80a5-6f7ba3edc887');\n",
              "          const dataTable =\n",
              "            await google.colab.kernel.invokeFunction('convertToInteractive',\n",
              "                                                     [key], {});\n",
              "          if (!dataTable) return;\n",
              "\n",
              "          const docLinkHtml = 'Like what you see? Visit the ' +\n",
              "            '<a target=\"_blank\" href=https://colab.research.google.com/notebooks/data_table.ipynb>data table notebook</a>'\n",
              "            + ' to learn more about interactive tables.';\n",
              "          element.innerHTML = '';\n",
              "          dataTable['output_type'] = 'display_data';\n",
              "          await google.colab.output.renderOutput(dataTable, element);\n",
              "          const docLink = document.createElement('div');\n",
              "          docLink.innerHTML = docLinkHtml;\n",
              "          element.appendChild(docLink);\n",
              "        }\n",
              "      </script>\n",
              "    </div>\n",
              "  </div>\n",
              "  "
            ],
            "text/plain": [
              "  char Range(%)  Range        DP    DPnorm  KLdivergence  JuillandD  RosengrenS\n",
              "0    之    90.98    666  0.128508  0.128509      0.095890   0.977316    0.961405\n",
              "1    也    77.05    564  0.251459  0.251462      0.401038   0.962913    0.823893\n",
              "2    草    22.40    164  0.649643  0.649649      2.331477   0.863829    0.320790\n",
              "3    巾     3.69     27  0.844676  0.844683      4.077689   0.541787    0.101871"
            ]
          },
          "metadata": {},
          "execution_count": 66
        }
      ]
    },
    {
      "cell_type": "markdown",
      "metadata": {
        "id": "certified-ambassador"
      },
      "source": [
        "### Dispersion Measures of Complex Forms (defined by CQL)\n",
        "\n",
        "Dispersion measures for abstract units could also be calculated with the returned concordance lines provided by `Concordancer.cql_search()`. The function `DP.pattern_dispersion()` is designed to take the queried results from `Concordancer.cql_search()` to calculate dispersion measures."
      ],
      "id": "certified-ambassador"
    },
    {
      "cell_type": "code",
      "metadata": {
        "id": "covered-stylus",
        "outputId": "7d347ad9-ff4d-4614-d6fa-8a777b53e3d8",
        "colab": {
          "base_uri": "https://localhost:8080/"
        }
      },
      "source": [
        "cql = \"\"\"\n",
        "[semtag=\"人體精神\"] [semtag=\"人體精神\"]\n",
        "\"\"\"\n",
        "results = list(CC.cql_search(cql, left=3, right=3))\n",
        "print('Num of results:', len(results))\n",
        "for r in results[:3]: print(r)"
      ],
      "id": "covered-stylus",
      "execution_count": null,
      "outputs": [
        {
          "output_type": "stream",
          "name": "stdout",
          "text": [
            "Num of results: 8459\n",
            "<Concord 兮，心{惶惑}而自悲>\n",
            "<Concord ，而卒{惶急}無以擊>\n",
            "<Concord 走，卒{惶急}不知所>\n"
          ]
        }
      ]
    },
    {
      "cell_type": "code",
      "source": [
        "DP.pattern_dispersion(data=results, subcorp_idx=2)"
      ],
      "metadata": {
        "colab": {
          "base_uri": "https://localhost:8080/"
        },
        "id": "yH81mIqC35VX",
        "outputId": "27809c35-b950-411b-badc-a782084a2a93"
      },
      "id": "yH81mIqC35VX",
      "execution_count": null,
      "outputs": [
        {
          "output_type": "execute_result",
          "data": {
            "text/plain": [
              "{'DP': 0.1504848557289626,\n",
              " 'DPnorm': 0.15050344195568013,\n",
              " 'JuillandD': 0.9387038720245429,\n",
              " 'KLdivergence': 0.135483902941753,\n",
              " 'Range': 134,\n",
              " 'RosengrenS': 0.9428568965311757}"
            ]
          },
          "metadata": {},
          "execution_count": 51
        }
      ]
    },
    {
      "cell_type": "markdown",
      "source": [
        "The example below calcuates dispersion measures for **each of the subcorpora 0, 1, and 2**. This can be useful if the user is interested in constrasting dispersion meaures in different corpora (e.g., genre/diachronic comparison)."
      ],
      "metadata": {
        "id": "mFV4qR5qPz1i"
      },
      "id": "mFV4qR5qPz1i"
    },
    {
      "cell_type": "code",
      "metadata": {
        "id": "bearing-relationship",
        "outputId": "39be6b24-9c64-4068-8c9e-2f2a6369d9a9",
        "colab": {
          "base_uri": "https://localhost:8080/",
          "height": 143
        }
      },
      "source": [
        "# Compute separate dispersion measures for each subcorpus\n",
        "df_pat_disp = []\n",
        "for i in range(3):\n",
        "    stats, raw = DP.pattern_dispersion(data=results, subcorp_idx=i, return_raw=True)\n",
        "    d = {\n",
        "         'Range(%)': '{:.2f}'.format(100 * stats['Range'] / raw['n']),\n",
        "         **stats,\n",
        "         'freq': raw['f'],\n",
        "         'corp_size': raw['corpus_size']\n",
        "    }\n",
        "    df_pat_disp.append(d)\n",
        "\n",
        "pd.DataFrame(df_pat_disp)"
      ],
      "id": "bearing-relationship",
      "execution_count": null,
      "outputs": [
        {
          "output_type": "execute_result",
          "data": {
            "text/html": [
              "\n",
              "  <div id=\"df-973ca02b-2d80-4460-8a90-89005d719585\">\n",
              "    <div class=\"colab-df-container\">\n",
              "      <div>\n",
              "<style scoped>\n",
              "    .dataframe tbody tr th:only-of-type {\n",
              "        vertical-align: middle;\n",
              "    }\n",
              "\n",
              "    .dataframe tbody tr th {\n",
              "        vertical-align: top;\n",
              "    }\n",
              "\n",
              "    .dataframe thead th {\n",
              "        text-align: right;\n",
              "    }\n",
              "</style>\n",
              "<table border=\"1\" class=\"dataframe\">\n",
              "  <thead>\n",
              "    <tr style=\"text-align: right;\">\n",
              "      <th></th>\n",
              "      <th>Range(%)</th>\n",
              "      <th>Range</th>\n",
              "      <th>DP</th>\n",
              "      <th>DPnorm</th>\n",
              "      <th>KLdivergence</th>\n",
              "      <th>JuillandD</th>\n",
              "      <th>RosengrenS</th>\n",
              "      <th>freq</th>\n",
              "      <th>corp_size</th>\n",
              "    </tr>\n",
              "  </thead>\n",
              "  <tbody>\n",
              "    <tr>\n",
              "      <th>0</th>\n",
              "      <td>44.40</td>\n",
              "      <td>325</td>\n",
              "      <td>0.399226</td>\n",
              "      <td>0.399229</td>\n",
              "      <td>1.002285</td>\n",
              "      <td>0.907705</td>\n",
              "      <td>0.629630</td>\n",
              "      <td>1689</td>\n",
              "      <td>1858228</td>\n",
              "    </tr>\n",
              "    <tr>\n",
              "      <th>1</th>\n",
              "      <td>53.38</td>\n",
              "      <td>560</td>\n",
              "      <td>0.325007</td>\n",
              "      <td>0.325008</td>\n",
              "      <td>0.617590</td>\n",
              "      <td>0.950161</td>\n",
              "      <td>0.753668</td>\n",
              "      <td>3500</td>\n",
              "      <td>3938310</td>\n",
              "    </tr>\n",
              "    <tr>\n",
              "      <th>2</th>\n",
              "      <td>85.90</td>\n",
              "      <td>134</td>\n",
              "      <td>0.150485</td>\n",
              "      <td>0.150503</td>\n",
              "      <td>0.135484</td>\n",
              "      <td>0.938704</td>\n",
              "      <td>0.942857</td>\n",
              "      <td>2489</td>\n",
              "      <td>2097273</td>\n",
              "    </tr>\n",
              "  </tbody>\n",
              "</table>\n",
              "</div>\n",
              "      <button class=\"colab-df-convert\" onclick=\"convertToInteractive('df-973ca02b-2d80-4460-8a90-89005d719585')\"\n",
              "              title=\"Convert this dataframe to an interactive table.\"\n",
              "              style=\"display:none;\">\n",
              "        \n",
              "  <svg xmlns=\"http://www.w3.org/2000/svg\" height=\"24px\"viewBox=\"0 0 24 24\"\n",
              "       width=\"24px\">\n",
              "    <path d=\"M0 0h24v24H0V0z\" fill=\"none\"/>\n",
              "    <path d=\"M18.56 5.44l.94 2.06.94-2.06 2.06-.94-2.06-.94-.94-2.06-.94 2.06-2.06.94zm-11 1L8.5 8.5l.94-2.06 2.06-.94-2.06-.94L8.5 2.5l-.94 2.06-2.06.94zm10 10l.94 2.06.94-2.06 2.06-.94-2.06-.94-.94-2.06-.94 2.06-2.06.94z\"/><path d=\"M17.41 7.96l-1.37-1.37c-.4-.4-.92-.59-1.43-.59-.52 0-1.04.2-1.43.59L10.3 9.45l-7.72 7.72c-.78.78-.78 2.05 0 2.83L4 21.41c.39.39.9.59 1.41.59.51 0 1.02-.2 1.41-.59l7.78-7.78 2.81-2.81c.8-.78.8-2.07 0-2.86zM5.41 20L4 18.59l7.72-7.72 1.47 1.35L5.41 20z\"/>\n",
              "  </svg>\n",
              "      </button>\n",
              "      \n",
              "  <style>\n",
              "    .colab-df-container {\n",
              "      display:flex;\n",
              "      flex-wrap:wrap;\n",
              "      gap: 12px;\n",
              "    }\n",
              "\n",
              "    .colab-df-convert {\n",
              "      background-color: #E8F0FE;\n",
              "      border: none;\n",
              "      border-radius: 50%;\n",
              "      cursor: pointer;\n",
              "      display: none;\n",
              "      fill: #1967D2;\n",
              "      height: 32px;\n",
              "      padding: 0 0 0 0;\n",
              "      width: 32px;\n",
              "    }\n",
              "\n",
              "    .colab-df-convert:hover {\n",
              "      background-color: #E2EBFA;\n",
              "      box-shadow: 0px 1px 2px rgba(60, 64, 67, 0.3), 0px 1px 3px 1px rgba(60, 64, 67, 0.15);\n",
              "      fill: #174EA6;\n",
              "    }\n",
              "\n",
              "    [theme=dark] .colab-df-convert {\n",
              "      background-color: #3B4455;\n",
              "      fill: #D2E3FC;\n",
              "    }\n",
              "\n",
              "    [theme=dark] .colab-df-convert:hover {\n",
              "      background-color: #434B5C;\n",
              "      box-shadow: 0px 1px 3px 1px rgba(0, 0, 0, 0.15);\n",
              "      filter: drop-shadow(0px 1px 2px rgba(0, 0, 0, 0.3));\n",
              "      fill: #FFFFFF;\n",
              "    }\n",
              "  </style>\n",
              "\n",
              "      <script>\n",
              "        const buttonEl =\n",
              "          document.querySelector('#df-973ca02b-2d80-4460-8a90-89005d719585 button.colab-df-convert');\n",
              "        buttonEl.style.display =\n",
              "          google.colab.kernel.accessAllowed ? 'block' : 'none';\n",
              "\n",
              "        async function convertToInteractive(key) {\n",
              "          const element = document.querySelector('#df-973ca02b-2d80-4460-8a90-89005d719585');\n",
              "          const dataTable =\n",
              "            await google.colab.kernel.invokeFunction('convertToInteractive',\n",
              "                                                     [key], {});\n",
              "          if (!dataTable) return;\n",
              "\n",
              "          const docLinkHtml = 'Like what you see? Visit the ' +\n",
              "            '<a target=\"_blank\" href=https://colab.research.google.com/notebooks/data_table.ipynb>data table notebook</a>'\n",
              "            + ' to learn more about interactive tables.';\n",
              "          element.innerHTML = '';\n",
              "          dataTable['output_type'] = 'display_data';\n",
              "          await google.colab.output.renderOutput(dataTable, element);\n",
              "          const docLink = document.createElement('div');\n",
              "          docLink.innerHTML = docLinkHtml;\n",
              "          element.appendChild(docLink);\n",
              "        }\n",
              "      </script>\n",
              "    </div>\n",
              "  </div>\n",
              "  "
            ],
            "text/plain": [
              "  Range(%)  Range        DP    DPnorm  ...  JuillandD  RosengrenS  freq  corp_size\n",
              "0    44.40    325  0.399226  0.399229  ...   0.907705    0.629630  1689    1858228\n",
              "1    53.38    560  0.325007  0.325008  ...   0.950161    0.753668  3500    3938310\n",
              "2    85.90    134  0.150485  0.150503  ...   0.938704    0.942857  2489    2097273\n",
              "\n",
              "[3 rows x 9 columns]"
            ]
          },
          "metadata": {},
          "execution_count": 69
        }
      ]
    },
    {
      "cell_type": "markdown",
      "metadata": {
        "id": "quality-resolution"
      },
      "source": [
        "## Ngram Frequency\n",
        "\n",
        "We now turn to the relationships across characters. To compute character n-grams, one can use `Concordancer.freq_distr_ngrams()`."
      ],
      "id": "quality-resolution"
    },
    {
      "cell_type": "code",
      "metadata": {
        "id": "circular-lawsuit",
        "outputId": "d556ccc6-54e8-4402-bbac-9da8390a5732",
        "colab": {
          "base_uri": "https://localhost:8080/",
          "height": 86,
          "referenced_widgets": [
            "e579d7bd18554db0be63758a8dc14e0d",
            "90dfeec19f26419590eceb36ffcead06",
            "d473648578a442b1a28a455c1c961897",
            "e3794f10198149979638b562c61f85d5",
            "4d2b4f5489534a3bbb095426627b2fab",
            "8803098785a74779ab6724ac3c64155c",
            "9aab865914064ccf9352820848b413eb",
            "9101bf32ae444b5a8328a8519a3db251",
            "f8e46c828eb84592bc7e33f71ba25872",
            "3d842f9a46f04f258772450a0feae2aa",
            "87f0be02f0ed47eeab55178d6e13d8dc"
          ]
        }
      },
      "source": [
        "CC.freq_distr_ngrams(n=2, subcorp_idx=0).most_common(5)"
      ],
      "id": "circular-lawsuit",
      "execution_count": 4,
      "outputs": [
        {
          "output_type": "stream",
          "name": "stdout",
          "text": [
            "Counting 2-grams...\n"
          ]
        },
        {
          "output_type": "display_data",
          "data": {
            "application/vnd.jupyter.widget-view+json": {
              "model_id": "e579d7bd18554db0be63758a8dc14e0d",
              "version_minor": 0,
              "version_major": 2
            },
            "text/plain": [
              "  0%|          | 0/5 [00:00<?, ?it/s]"
            ]
          },
          "metadata": {}
        },
        {
          "output_type": "execute_result",
          "data": {
            "text/plain": [
              "[('而不', 3913), ('天下', 3661), ('不可', 2985), ('之所', 2723), ('子曰', 2581)]"
            ]
          },
          "metadata": {},
          "execution_count": 4
        }
      ]
    },
    {
      "cell_type": "code",
      "metadata": {
        "id": "affecting-pleasure",
        "outputId": "78da0fc1-3cf6-4bb3-d5b4-0f0fa1dacec4",
        "colab": {
          "base_uri": "https://localhost:8080/",
          "height": 86,
          "referenced_widgets": [
            "74b0c2d9dff645d5a775116612e51b23",
            "d00f6939012743acb547b2ac9aab2c8f",
            "1e6e060d32d84969a69bb534cd241aba",
            "007b3bc8ab904d4e92ec65ca17cab59d",
            "159eca9b611c416b992d55090a1d9f97",
            "19022b62ba644b228831202d88cf6b21",
            "fe8f4b0cc5df467581736b42be8a9721",
            "4de5833cb8c743dfb53ade6c26d7b2d8",
            "09b37d0d563347f7ab6ee9620f2d4bb1",
            "7d712617c9494290b1d9684a5e060d9d",
            "ce21929ff3cb42aca39abbe819fe15d2"
          ]
        }
      },
      "source": [
        "CC.freq_distr_ngrams(n=3, subcorp_idx=0).most_common(5)"
      ],
      "id": "affecting-pleasure",
      "execution_count": 5,
      "outputs": [
        {
          "output_type": "stream",
          "name": "stdout",
          "text": [
            "Counting 3-grams...\n"
          ]
        },
        {
          "output_type": "display_data",
          "data": {
            "application/vnd.jupyter.widget-view+json": {
              "model_id": "74b0c2d9dff645d5a775116612e51b23",
              "version_minor": 0,
              "version_major": 2
            },
            "text/plain": [
              "  0%|          | 0/5 [00:00<?, ?it/s]"
            ]
          },
          "metadata": {}
        },
        {
          "output_type": "execute_result",
          "data": {
            "text/plain": [
              "[('天下之', 946), ('歧伯曰', 766), ('之所以', 605), ('不可以', 580), ('子對曰', 443)]"
            ]
          },
          "metadata": {},
          "execution_count": 5
        }
      ]
    },
    {
      "cell_type": "markdown",
      "metadata": {
        "id": "returning-marriage"
      },
      "source": [
        "## Collocation\n",
        "\n",
        "Association measures could be used to quantify the strengths of attraction between a pair of characters. Pairs with strong attractions could be considered as collocations. *hgct* implements two types of collocation extraction functions. The first (`Concordancer.bigram_associations()`) is based on bigrams, which simply computes association scores for all bigrams. With the second implementation (`Concordancer.collocates()`), users could specify a node and a window size, and characters falling within this window around the node would be treated as a node-collocate pair. Each pair is then computed for an association score."
      ],
      "id": "returning-marriage"
    },
    {
      "cell_type": "markdown",
      "metadata": {
        "id": "82FLXB8C4zdo"
      },
      "source": [
        "### Bigram Association"
      ],
      "id": "82FLXB8C4zdo"
    },
    {
      "cell_type": "code",
      "metadata": {
        "id": "lyric-ensemble",
        "outputId": "f681f358-036d-4318-a012-ef0725b3128c",
        "colab": {
          "base_uri": "https://localhost:8080/"
        }
      },
      "source": [
        "bi_asso = CC.bigram_associations(subcorp_idx=3, sort_by=\"Gsq\")\n",
        "bi_asso[0]"
      ],
      "id": "lyric-ensemble",
      "execution_count": null,
      "outputs": [
        {
          "output_type": "execute_result",
          "data": {
            "text/plain": [
              "('自己',\n",
              " {'DeltaP12': 0.9778668701918644,\n",
              "  'DeltaP21': 0.36342714003090937,\n",
              "  'Dice': 0.5303392259913999,\n",
              "  'FisherExact': 0.0,\n",
              "  'Gsq': 6188.677676112116,\n",
              "  'MI': 7.855905225817536,\n",
              "  'RawCount': 555,\n",
              "  'Xsq': 128210.23324106314})"
            ]
          },
          "metadata": {},
          "execution_count": 103
        }
      ]
    },
    {
      "cell_type": "code",
      "source": [
        "pd.DataFrame([{'bigram': x[0], **x[1]} for x in bi_asso][:5])"
      ],
      "metadata": {
        "colab": {
          "base_uri": "https://localhost:8080/",
          "height": 206
        },
        "id": "v1t9KQV9-fLP",
        "outputId": "920563af-dc48-40ac-f58e-85ba536004f9"
      },
      "id": "v1t9KQV9-fLP",
      "execution_count": null,
      "outputs": [
        {
          "output_type": "execute_result",
          "data": {
            "text/html": [
              "\n",
              "  <div id=\"df-f0f1d412-afc1-46c4-8252-828827df2643\">\n",
              "    <div class=\"colab-df-container\">\n",
              "      <div>\n",
              "<style scoped>\n",
              "    .dataframe tbody tr th:only-of-type {\n",
              "        vertical-align: middle;\n",
              "    }\n",
              "\n",
              "    .dataframe tbody tr th {\n",
              "        vertical-align: top;\n",
              "    }\n",
              "\n",
              "    .dataframe thead th {\n",
              "        text-align: right;\n",
              "    }\n",
              "</style>\n",
              "<table border=\"1\" class=\"dataframe\">\n",
              "  <thead>\n",
              "    <tr style=\"text-align: right;\">\n",
              "      <th></th>\n",
              "      <th>bigram</th>\n",
              "      <th>MI</th>\n",
              "      <th>Xsq</th>\n",
              "      <th>Gsq</th>\n",
              "      <th>Dice</th>\n",
              "      <th>DeltaP21</th>\n",
              "      <th>DeltaP12</th>\n",
              "      <th>FisherExact</th>\n",
              "      <th>RawCount</th>\n",
              "    </tr>\n",
              "  </thead>\n",
              "  <tbody>\n",
              "    <tr>\n",
              "      <th>0</th>\n",
              "      <td>自己</td>\n",
              "      <td>7.855905</td>\n",
              "      <td>128210.233241</td>\n",
              "      <td>6188.677676</td>\n",
              "      <td>0.530339</td>\n",
              "      <td>0.363427</td>\n",
              "      <td>0.977867</td>\n",
              "      <td>0.0</td>\n",
              "      <td>555</td>\n",
              "    </tr>\n",
              "    <tr>\n",
              "      <th>1</th>\n",
              "      <td>什麼</td>\n",
              "      <td>9.153258</td>\n",
              "      <td>192859.824384</td>\n",
              "      <td>4474.727091</td>\n",
              "      <td>0.701863</td>\n",
              "      <td>0.976168</td>\n",
              "      <td>0.547635</td>\n",
              "      <td>0.0</td>\n",
              "      <td>339</td>\n",
              "    </tr>\n",
              "    <tr>\n",
              "      <th>2</th>\n",
              "      <td>我們</td>\n",
              "      <td>6.183966</td>\n",
              "      <td>42280.224680</td>\n",
              "      <td>4389.147721</td>\n",
              "      <td>0.333427</td>\n",
              "      <td>0.262396</td>\n",
              "      <td>0.446638</td>\n",
              "      <td>0.0</td>\n",
              "      <td>592</td>\n",
              "    </tr>\n",
              "    <tr>\n",
              "      <th>3</th>\n",
              "      <td>台灣</td>\n",
              "      <td>8.126771</td>\n",
              "      <td>111740.169937</td>\n",
              "      <td>4314.053443</td>\n",
              "      <td>0.544098</td>\n",
              "      <td>0.446557</td>\n",
              "      <td>0.693597</td>\n",
              "      <td>0.0</td>\n",
              "      <td>401</td>\n",
              "    </tr>\n",
              "    <tr>\n",
              "      <th>4</th>\n",
              "      <td>沒有</td>\n",
              "      <td>6.394685</td>\n",
              "      <td>43012.134830</td>\n",
              "      <td>4186.922495</td>\n",
              "      <td>0.268951</td>\n",
              "      <td>0.726412</td>\n",
              "      <td>0.164128</td>\n",
              "      <td>0.0</td>\n",
              "      <td>518</td>\n",
              "    </tr>\n",
              "  </tbody>\n",
              "</table>\n",
              "</div>\n",
              "      <button class=\"colab-df-convert\" onclick=\"convertToInteractive('df-f0f1d412-afc1-46c4-8252-828827df2643')\"\n",
              "              title=\"Convert this dataframe to an interactive table.\"\n",
              "              style=\"display:none;\">\n",
              "        \n",
              "  <svg xmlns=\"http://www.w3.org/2000/svg\" height=\"24px\"viewBox=\"0 0 24 24\"\n",
              "       width=\"24px\">\n",
              "    <path d=\"M0 0h24v24H0V0z\" fill=\"none\"/>\n",
              "    <path d=\"M18.56 5.44l.94 2.06.94-2.06 2.06-.94-2.06-.94-.94-2.06-.94 2.06-2.06.94zm-11 1L8.5 8.5l.94-2.06 2.06-.94-2.06-.94L8.5 2.5l-.94 2.06-2.06.94zm10 10l.94 2.06.94-2.06 2.06-.94-2.06-.94-.94-2.06-.94 2.06-2.06.94z\"/><path d=\"M17.41 7.96l-1.37-1.37c-.4-.4-.92-.59-1.43-.59-.52 0-1.04.2-1.43.59L10.3 9.45l-7.72 7.72c-.78.78-.78 2.05 0 2.83L4 21.41c.39.39.9.59 1.41.59.51 0 1.02-.2 1.41-.59l7.78-7.78 2.81-2.81c.8-.78.8-2.07 0-2.86zM5.41 20L4 18.59l7.72-7.72 1.47 1.35L5.41 20z\"/>\n",
              "  </svg>\n",
              "      </button>\n",
              "      \n",
              "  <style>\n",
              "    .colab-df-container {\n",
              "      display:flex;\n",
              "      flex-wrap:wrap;\n",
              "      gap: 12px;\n",
              "    }\n",
              "\n",
              "    .colab-df-convert {\n",
              "      background-color: #E8F0FE;\n",
              "      border: none;\n",
              "      border-radius: 50%;\n",
              "      cursor: pointer;\n",
              "      display: none;\n",
              "      fill: #1967D2;\n",
              "      height: 32px;\n",
              "      padding: 0 0 0 0;\n",
              "      width: 32px;\n",
              "    }\n",
              "\n",
              "    .colab-df-convert:hover {\n",
              "      background-color: #E2EBFA;\n",
              "      box-shadow: 0px 1px 2px rgba(60, 64, 67, 0.3), 0px 1px 3px 1px rgba(60, 64, 67, 0.15);\n",
              "      fill: #174EA6;\n",
              "    }\n",
              "\n",
              "    [theme=dark] .colab-df-convert {\n",
              "      background-color: #3B4455;\n",
              "      fill: #D2E3FC;\n",
              "    }\n",
              "\n",
              "    [theme=dark] .colab-df-convert:hover {\n",
              "      background-color: #434B5C;\n",
              "      box-shadow: 0px 1px 3px 1px rgba(0, 0, 0, 0.15);\n",
              "      filter: drop-shadow(0px 1px 2px rgba(0, 0, 0, 0.3));\n",
              "      fill: #FFFFFF;\n",
              "    }\n",
              "  </style>\n",
              "\n",
              "      <script>\n",
              "        const buttonEl =\n",
              "          document.querySelector('#df-f0f1d412-afc1-46c4-8252-828827df2643 button.colab-df-convert');\n",
              "        buttonEl.style.display =\n",
              "          google.colab.kernel.accessAllowed ? 'block' : 'none';\n",
              "\n",
              "        async function convertToInteractive(key) {\n",
              "          const element = document.querySelector('#df-f0f1d412-afc1-46c4-8252-828827df2643');\n",
              "          const dataTable =\n",
              "            await google.colab.kernel.invokeFunction('convertToInteractive',\n",
              "                                                     [key], {});\n",
              "          if (!dataTable) return;\n",
              "\n",
              "          const docLinkHtml = 'Like what you see? Visit the ' +\n",
              "            '<a target=\"_blank\" href=https://colab.research.google.com/notebooks/data_table.ipynb>data table notebook</a>'\n",
              "            + ' to learn more about interactive tables.';\n",
              "          element.innerHTML = '';\n",
              "          dataTable['output_type'] = 'display_data';\n",
              "          await google.colab.output.renderOutput(dataTable, element);\n",
              "          const docLink = document.createElement('div');\n",
              "          docLink.innerHTML = docLinkHtml;\n",
              "          element.appendChild(docLink);\n",
              "        }\n",
              "      </script>\n",
              "    </div>\n",
              "  </div>\n",
              "  "
            ],
            "text/plain": [
              "  bigram        MI            Xsq  ...  DeltaP12  FisherExact  RawCount\n",
              "0     自己  7.855905  128210.233241  ...  0.977867          0.0       555\n",
              "1     什麼  9.153258  192859.824384  ...  0.547635          0.0       339\n",
              "2     我們  6.183966   42280.224680  ...  0.446638          0.0       592\n",
              "3     台灣  8.126771  111740.169937  ...  0.693597          0.0       401\n",
              "4     沒有  6.394685   43012.134830  ...  0.164128          0.0       518\n",
              "\n",
              "[5 rows x 9 columns]"
            ]
          },
          "metadata": {},
          "execution_count": 105
        }
      ]
    },
    {
      "cell_type": "markdown",
      "metadata": {
        "id": "active-feeding"
      },
      "source": [
        "### Node-Collocate Association\n",
        "\n",
        "The example below use the character sequence `我們` as node and looks for collocates occuring on the immediate right (`left=0` and `right=1`) on the node. After computing association scores for each of the node-collocate pairs, the pairs are sorted based on the MI measure. The data frame below shows the top-5 collocates with the highest MI scores (a minimum frequency threshold of 6 is applied) of the node `我們`."
      ],
      "id": "active-feeding"
    },
    {
      "cell_type": "code",
      "metadata": {
        "id": "geological-cholesterol",
        "outputId": "537dd8ff-a0fc-4e47-c626-fe69e729d509",
        "colab": {
          "base_uri": "https://localhost:8080/"
        }
      },
      "source": [
        "cql = \"\"\"\n",
        "[char=\"我\"] [char=\"們\"]\n",
        "\"\"\"\n",
        "collo = CC.collocates(cql, left=0, right=1, subcorp_idx=3, sort_by=\"MI\", alpha=0)\n",
        "collo[0]"
      ],
      "id": "geological-cholesterol",
      "execution_count": 15,
      "outputs": [
        {
          "output_type": "execute_result",
          "data": {
            "text/plain": [
              "('釘',\n",
              " {'DeltaP12': 0.0016848237685590844,\n",
              "  'DeltaP21': 0.33204500782950214,\n",
              "  'Dice': 0.0033613445378151263,\n",
              "  'FisherExact': 0.003866505328061448,\n",
              "  'Gsq': 9.493215334772461,\n",
              "  'MI': 8.012895027477056,\n",
              "  'RawCount': 1,\n",
              "  'Xsq': 256.6351579547297})"
            ]
          },
          "metadata": {},
          "execution_count": 15
        }
      ]
    },
    {
      "cell_type": "code",
      "source": [
        "pd.DataFrame([{'char': x[0], **x[1]} for x in collo if x[1]['RawCount'] > 5][:5])"
      ],
      "metadata": {
        "colab": {
          "base_uri": "https://localhost:8080/",
          "height": 206
        },
        "id": "4QvoIznl-cMh",
        "outputId": "2f50c4c0-8b82-4840-a49a-8885e7b66c0a"
      },
      "id": "4QvoIznl-cMh",
      "execution_count": 16,
      "outputs": [
        {
          "output_type": "execute_result",
          "data": {
            "text/html": [
              "\n",
              "  <div id=\"df-34ae183e-8117-4330-a5c5-226e668e2914\">\n",
              "    <div class=\"colab-df-container\">\n",
              "      <div>\n",
              "<style scoped>\n",
              "    .dataframe tbody tr th:only-of-type {\n",
              "        vertical-align: middle;\n",
              "    }\n",
              "\n",
              "    .dataframe tbody tr th {\n",
              "        vertical-align: top;\n",
              "    }\n",
              "\n",
              "    .dataframe thead th {\n",
              "        text-align: right;\n",
              "    }\n",
              "</style>\n",
              "<table border=\"1\" class=\"dataframe\">\n",
              "  <thead>\n",
              "    <tr style=\"text-align: right;\">\n",
              "      <th></th>\n",
              "      <th>char</th>\n",
              "      <th>MI</th>\n",
              "      <th>Xsq</th>\n",
              "      <th>Gsq</th>\n",
              "      <th>Dice</th>\n",
              "      <th>DeltaP21</th>\n",
              "      <th>DeltaP12</th>\n",
              "      <th>FisherExact</th>\n",
              "      <th>RawCount</th>\n",
              "    </tr>\n",
              "  </thead>\n",
              "  <tbody>\n",
              "    <tr>\n",
              "      <th>0</th>\n",
              "      <td>認</td>\n",
              "      <td>3.979880</td>\n",
              "      <td>124.857368</td>\n",
              "      <td>33.079250</td>\n",
              "      <td>0.017408</td>\n",
              "      <td>0.019090</td>\n",
              "      <td>0.014258</td>\n",
              "      <td>9.310853e-09</td>\n",
              "      <td>9</td>\n",
              "    </tr>\n",
              "    <tr>\n",
              "      <th>1</th>\n",
              "      <td>還</td>\n",
              "      <td>3.388404</td>\n",
              "      <td>77.315368</td>\n",
              "      <td>26.207677</td>\n",
              "      <td>0.014308</td>\n",
              "      <td>0.012241</td>\n",
              "      <td>0.013769</td>\n",
              "      <td>2.970053e-07</td>\n",
              "      <td>9</td>\n",
              "    </tr>\n",
              "    <tr>\n",
              "      <th>2</th>\n",
              "      <td>都</td>\n",
              "      <td>3.328575</td>\n",
              "      <td>122.653021</td>\n",
              "      <td>42.672214</td>\n",
              "      <td>0.017153</td>\n",
              "      <td>0.011704</td>\n",
              "      <td>0.022845</td>\n",
              "      <td>6.215205e-11</td>\n",
              "      <td>15</td>\n",
              "    </tr>\n",
              "    <tr>\n",
              "      <th>3</th>\n",
              "      <td>就</td>\n",
              "      <td>3.207562</td>\n",
              "      <td>125.435532</td>\n",
              "      <td>45.828371</td>\n",
              "      <td>0.016848</td>\n",
              "      <td>0.010664</td>\n",
              "      <td>0.025641</td>\n",
              "      <td>1.218295e-11</td>\n",
              "      <td>17</td>\n",
              "    </tr>\n",
              "    <tr>\n",
              "      <th>4</th>\n",
              "      <td>所</td>\n",
              "      <td>3.047111</td>\n",
              "      <td>76.926085</td>\n",
              "      <td>29.883052</td>\n",
              "      <td>0.013978</td>\n",
              "      <td>0.009399</td>\n",
              "      <td>0.017841</td>\n",
              "      <td>4.222232e-08</td>\n",
              "      <td>12</td>\n",
              "    </tr>\n",
              "  </tbody>\n",
              "</table>\n",
              "</div>\n",
              "      <button class=\"colab-df-convert\" onclick=\"convertToInteractive('df-34ae183e-8117-4330-a5c5-226e668e2914')\"\n",
              "              title=\"Convert this dataframe to an interactive table.\"\n",
              "              style=\"display:none;\">\n",
              "        \n",
              "  <svg xmlns=\"http://www.w3.org/2000/svg\" height=\"24px\"viewBox=\"0 0 24 24\"\n",
              "       width=\"24px\">\n",
              "    <path d=\"M0 0h24v24H0V0z\" fill=\"none\"/>\n",
              "    <path d=\"M18.56 5.44l.94 2.06.94-2.06 2.06-.94-2.06-.94-.94-2.06-.94 2.06-2.06.94zm-11 1L8.5 8.5l.94-2.06 2.06-.94-2.06-.94L8.5 2.5l-.94 2.06-2.06.94zm10 10l.94 2.06.94-2.06 2.06-.94-2.06-.94-.94-2.06-.94 2.06-2.06.94z\"/><path d=\"M17.41 7.96l-1.37-1.37c-.4-.4-.92-.59-1.43-.59-.52 0-1.04.2-1.43.59L10.3 9.45l-7.72 7.72c-.78.78-.78 2.05 0 2.83L4 21.41c.39.39.9.59 1.41.59.51 0 1.02-.2 1.41-.59l7.78-7.78 2.81-2.81c.8-.78.8-2.07 0-2.86zM5.41 20L4 18.59l7.72-7.72 1.47 1.35L5.41 20z\"/>\n",
              "  </svg>\n",
              "      </button>\n",
              "      \n",
              "  <style>\n",
              "    .colab-df-container {\n",
              "      display:flex;\n",
              "      flex-wrap:wrap;\n",
              "      gap: 12px;\n",
              "    }\n",
              "\n",
              "    .colab-df-convert {\n",
              "      background-color: #E8F0FE;\n",
              "      border: none;\n",
              "      border-radius: 50%;\n",
              "      cursor: pointer;\n",
              "      display: none;\n",
              "      fill: #1967D2;\n",
              "      height: 32px;\n",
              "      padding: 0 0 0 0;\n",
              "      width: 32px;\n",
              "    }\n",
              "\n",
              "    .colab-df-convert:hover {\n",
              "      background-color: #E2EBFA;\n",
              "      box-shadow: 0px 1px 2px rgba(60, 64, 67, 0.3), 0px 1px 3px 1px rgba(60, 64, 67, 0.15);\n",
              "      fill: #174EA6;\n",
              "    }\n",
              "\n",
              "    [theme=dark] .colab-df-convert {\n",
              "      background-color: #3B4455;\n",
              "      fill: #D2E3FC;\n",
              "    }\n",
              "\n",
              "    [theme=dark] .colab-df-convert:hover {\n",
              "      background-color: #434B5C;\n",
              "      box-shadow: 0px 1px 3px 1px rgba(0, 0, 0, 0.15);\n",
              "      filter: drop-shadow(0px 1px 2px rgba(0, 0, 0, 0.3));\n",
              "      fill: #FFFFFF;\n",
              "    }\n",
              "  </style>\n",
              "\n",
              "      <script>\n",
              "        const buttonEl =\n",
              "          document.querySelector('#df-34ae183e-8117-4330-a5c5-226e668e2914 button.colab-df-convert');\n",
              "        buttonEl.style.display =\n",
              "          google.colab.kernel.accessAllowed ? 'block' : 'none';\n",
              "\n",
              "        async function convertToInteractive(key) {\n",
              "          const element = document.querySelector('#df-34ae183e-8117-4330-a5c5-226e668e2914');\n",
              "          const dataTable =\n",
              "            await google.colab.kernel.invokeFunction('convertToInteractive',\n",
              "                                                     [key], {});\n",
              "          if (!dataTable) return;\n",
              "\n",
              "          const docLinkHtml = 'Like what you see? Visit the ' +\n",
              "            '<a target=\"_blank\" href=https://colab.research.google.com/notebooks/data_table.ipynb>data table notebook</a>'\n",
              "            + ' to learn more about interactive tables.';\n",
              "          element.innerHTML = '';\n",
              "          dataTable['output_type'] = 'display_data';\n",
              "          await google.colab.output.renderOutput(dataTable, element);\n",
              "          const docLink = document.createElement('div');\n",
              "          docLink.innerHTML = docLinkHtml;\n",
              "          element.appendChild(docLink);\n",
              "        }\n",
              "      </script>\n",
              "    </div>\n",
              "  </div>\n",
              "  "
            ],
            "text/plain": [
              "  char        MI         Xsq  ...  DeltaP12   FisherExact  RawCount\n",
              "0    認  3.979880  124.857368  ...  0.014258  9.310853e-09         9\n",
              "1    還  3.388404   77.315368  ...  0.013769  2.970053e-07         9\n",
              "2    都  3.328575  122.653021  ...  0.022845  6.215205e-11        15\n",
              "3    就  3.207562  125.435532  ...  0.025641  1.218295e-11        17\n",
              "4    所  3.047111   76.926085  ...  0.017841  4.222232e-08        12\n",
              "\n",
              "[5 rows x 9 columns]"
            ]
          },
          "metadata": {},
          "execution_count": 16
        }
      ]
    },
    {
      "cell_type": "markdown",
      "metadata": {
        "id": "fatty-program"
      },
      "source": [
        "## Productivity\n",
        "\n",
        "Finally, we demonstrate the usage of the tentative applications of Productivity measures [@baayen1993;@baayen2009] to character components. This is implemented in `CompoAnalysis.productivity()`. The categories for computing measures of productivity are defined based on the arguments passed in.\n"
      ],
      "id": "fatty-program"
    },
    {
      "cell_type": "code",
      "metadata": {
        "id": "limited-shareware",
        "outputId": "c9059e29-b294-45aa-a2a4-f7bc2a84e2d3",
        "colab": {
          "base_uri": "https://localhost:8080/"
        }
      },
      "source": [
        "# Productivity of a radical\n",
        "CA.productivity(radical=\"广\", subcorp_idx=0)"
      ],
      "id": "limited-shareware",
      "execution_count": null,
      "outputs": [
        {
          "output_type": "execute_result",
          "data": {
            "text/plain": [
              "{'N': 1505967,\n",
              " 'NC': 5889,\n",
              " 'V1': 1896,\n",
              " 'V1C': 7,\n",
              " 'productivity': {'expanding': 0.003691983122362869,\n",
              "  'potential': 0.0011886568177958906,\n",
              "  'realized': 58}}"
            ]
          },
          "metadata": {},
          "execution_count": 71
        }
      ]
    },
    {
      "cell_type": "code",
      "metadata": {
        "id": "referenced-render",
        "outputId": "90dc4cf1-1353-442e-db42-be5aea8b8963",
        "colab": {
          "base_uri": "https://localhost:8080/"
        }
      },
      "source": [
        "# Productivity of a component\n",
        "CA.productivity(compo=\"虫\", idc=\"horz2\", pos=0, subcorp_idx=0)"
      ],
      "id": "referenced-render",
      "execution_count": null,
      "outputs": [
        {
          "output_type": "execute_result",
          "data": {
            "text/plain": [
              "{'N': 1505967,\n",
              " 'NC': 1027,\n",
              " 'V1': 1896,\n",
              " 'V1C': 72,\n",
              " 'productivity': {'expanding': 0.0379746835443038,\n",
              "  'potential': 0.07010710808179163,\n",
              "  'realized': 178}}"
            ]
          },
          "metadata": {},
          "execution_count": 72
        }
      ]
    },
    {
      "cell_type": "code",
      "metadata": {
        "id": "metric-studio",
        "outputId": "5d5f82c7-66f6-4ff3-ca9a-79cf82aa2295",
        "colab": {
          "base_uri": "https://localhost:8080/",
          "height": 426
        }
      },
      "source": [
        "# Productivity of Hanzi shapes (IDCs)\n",
        "df_prod = []\n",
        "for idc_nm, idc_val in CC.chr_idcs.items():   \n",
        "    p = CA.productivity(idc=idc_nm, subcorp_idx=0)\n",
        "    df_prod.append({\n",
        "        'name': idc_nm, \n",
        "        'shape': idc_val, \n",
        "        **p['productivity'],\n",
        "        'V1C': p['V1C'],\n",
        "        'V1': p['V1'],\n",
        "        'NC': p['NC'],\n",
        "        'N': p['N'],\n",
        "    })\n",
        "\n",
        "df_prod = pd.DataFrame(df_prod)\n",
        "df_prod"
      ],
      "id": "metric-studio",
      "execution_count": null,
      "outputs": [
        {
          "output_type": "execute_result",
          "data": {
            "text/html": [
              "\n",
              "  <div id=\"df-b45b3d27-d709-4652-936d-0361182ab1cb\">\n",
              "    <div class=\"colab-df-container\">\n",
              "      <div>\n",
              "<style scoped>\n",
              "    .dataframe tbody tr th:only-of-type {\n",
              "        vertical-align: middle;\n",
              "    }\n",
              "\n",
              "    .dataframe tbody tr th {\n",
              "        vertical-align: top;\n",
              "    }\n",
              "\n",
              "    .dataframe thead th {\n",
              "        text-align: right;\n",
              "    }\n",
              "</style>\n",
              "<table border=\"1\" class=\"dataframe\">\n",
              "  <thead>\n",
              "    <tr style=\"text-align: right;\">\n",
              "      <th></th>\n",
              "      <th>name</th>\n",
              "      <th>shape</th>\n",
              "      <th>realized</th>\n",
              "      <th>expanding</th>\n",
              "      <th>potential</th>\n",
              "      <th>V1C</th>\n",
              "      <th>V1</th>\n",
              "      <th>NC</th>\n",
              "      <th>N</th>\n",
              "    </tr>\n",
              "  </thead>\n",
              "  <tbody>\n",
              "    <tr>\n",
              "      <th>0</th>\n",
              "      <td>horz2</td>\n",
              "      <td>⿰</td>\n",
              "      <td>5436</td>\n",
              "      <td>0.719409</td>\n",
              "      <td>0.003115</td>\n",
              "      <td>1364</td>\n",
              "      <td>1896</td>\n",
              "      <td>437854</td>\n",
              "      <td>1505967</td>\n",
              "    </tr>\n",
              "    <tr>\n",
              "      <th>1</th>\n",
              "      <td>vert2</td>\n",
              "      <td>⿱</td>\n",
              "      <td>2045</td>\n",
              "      <td>0.219409</td>\n",
              "      <td>0.000741</td>\n",
              "      <td>416</td>\n",
              "      <td>1896</td>\n",
              "      <td>561357</td>\n",
              "      <td>1505967</td>\n",
              "    </tr>\n",
              "    <tr>\n",
              "      <th>2</th>\n",
              "      <td>horz3</td>\n",
              "      <td>⿲</td>\n",
              "      <td>35</td>\n",
              "      <td>0.001582</td>\n",
              "      <td>0.000481</td>\n",
              "      <td>3</td>\n",
              "      <td>1896</td>\n",
              "      <td>6240</td>\n",
              "      <td>1505967</td>\n",
              "    </tr>\n",
              "    <tr>\n",
              "      <th>3</th>\n",
              "      <td>vert3</td>\n",
              "      <td>⿳</td>\n",
              "      <td>80</td>\n",
              "      <td>0.005802</td>\n",
              "      <td>0.000765</td>\n",
              "      <td>11</td>\n",
              "      <td>1896</td>\n",
              "      <td>14371</td>\n",
              "      <td>1505967</td>\n",
              "    </tr>\n",
              "    <tr>\n",
              "      <th>4</th>\n",
              "      <td>encl</td>\n",
              "      <td>⿴</td>\n",
              "      <td>27</td>\n",
              "      <td>0.001582</td>\n",
              "      <td>0.000208</td>\n",
              "      <td>3</td>\n",
              "      <td>1896</td>\n",
              "      <td>14409</td>\n",
              "      <td>1505967</td>\n",
              "    </tr>\n",
              "    <tr>\n",
              "      <th>5</th>\n",
              "      <td>surN</td>\n",
              "      <td>⿵</td>\n",
              "      <td>84</td>\n",
              "      <td>0.004747</td>\n",
              "      <td>0.000357</td>\n",
              "      <td>9</td>\n",
              "      <td>1896</td>\n",
              "      <td>25231</td>\n",
              "      <td>1505967</td>\n",
              "    </tr>\n",
              "    <tr>\n",
              "      <th>6</th>\n",
              "      <td>surU</td>\n",
              "      <td>⿶</td>\n",
              "      <td>6</td>\n",
              "      <td>0.000000</td>\n",
              "      <td>0.000000</td>\n",
              "      <td>0</td>\n",
              "      <td>1896</td>\n",
              "      <td>7275</td>\n",
              "      <td>1505967</td>\n",
              "    </tr>\n",
              "    <tr>\n",
              "      <th>7</th>\n",
              "      <td>curC</td>\n",
              "      <td>⿷</td>\n",
              "      <td>20</td>\n",
              "      <td>0.002110</td>\n",
              "      <td>0.002438</td>\n",
              "      <td>4</td>\n",
              "      <td>1896</td>\n",
              "      <td>1641</td>\n",
              "      <td>1505967</td>\n",
              "    </tr>\n",
              "    <tr>\n",
              "      <th>8</th>\n",
              "      <td>surT</td>\n",
              "      <td>⿸</td>\n",
              "      <td>332</td>\n",
              "      <td>0.026371</td>\n",
              "      <td>0.000548</td>\n",
              "      <td>50</td>\n",
              "      <td>1896</td>\n",
              "      <td>91208</td>\n",
              "      <td>1505967</td>\n",
              "    </tr>\n",
              "    <tr>\n",
              "      <th>9</th>\n",
              "      <td>sur7</td>\n",
              "      <td>⿹</td>\n",
              "      <td>48</td>\n",
              "      <td>0.002637</td>\n",
              "      <td>0.000197</td>\n",
              "      <td>5</td>\n",
              "      <td>1896</td>\n",
              "      <td>25379</td>\n",
              "      <td>1505967</td>\n",
              "    </tr>\n",
              "    <tr>\n",
              "      <th>10</th>\n",
              "      <td>surL</td>\n",
              "      <td>⿺</td>\n",
              "      <td>178</td>\n",
              "      <td>0.013186</td>\n",
              "      <td>0.000931</td>\n",
              "      <td>25</td>\n",
              "      <td>1896</td>\n",
              "      <td>26844</td>\n",
              "      <td>1505967</td>\n",
              "    </tr>\n",
              "    <tr>\n",
              "      <th>11</th>\n",
              "      <td>over</td>\n",
              "      <td>⿻</td>\n",
              "      <td>43</td>\n",
              "      <td>0.000527</td>\n",
              "      <td>0.000026</td>\n",
              "      <td>1</td>\n",
              "      <td>1896</td>\n",
              "      <td>37846</td>\n",
              "      <td>1505967</td>\n",
              "    </tr>\n",
              "  </tbody>\n",
              "</table>\n",
              "</div>\n",
              "      <button class=\"colab-df-convert\" onclick=\"convertToInteractive('df-b45b3d27-d709-4652-936d-0361182ab1cb')\"\n",
              "              title=\"Convert this dataframe to an interactive table.\"\n",
              "              style=\"display:none;\">\n",
              "        \n",
              "  <svg xmlns=\"http://www.w3.org/2000/svg\" height=\"24px\"viewBox=\"0 0 24 24\"\n",
              "       width=\"24px\">\n",
              "    <path d=\"M0 0h24v24H0V0z\" fill=\"none\"/>\n",
              "    <path d=\"M18.56 5.44l.94 2.06.94-2.06 2.06-.94-2.06-.94-.94-2.06-.94 2.06-2.06.94zm-11 1L8.5 8.5l.94-2.06 2.06-.94-2.06-.94L8.5 2.5l-.94 2.06-2.06.94zm10 10l.94 2.06.94-2.06 2.06-.94-2.06-.94-.94-2.06-.94 2.06-2.06.94z\"/><path d=\"M17.41 7.96l-1.37-1.37c-.4-.4-.92-.59-1.43-.59-.52 0-1.04.2-1.43.59L10.3 9.45l-7.72 7.72c-.78.78-.78 2.05 0 2.83L4 21.41c.39.39.9.59 1.41.59.51 0 1.02-.2 1.41-.59l7.78-7.78 2.81-2.81c.8-.78.8-2.07 0-2.86zM5.41 20L4 18.59l7.72-7.72 1.47 1.35L5.41 20z\"/>\n",
              "  </svg>\n",
              "      </button>\n",
              "      \n",
              "  <style>\n",
              "    .colab-df-container {\n",
              "      display:flex;\n",
              "      flex-wrap:wrap;\n",
              "      gap: 12px;\n",
              "    }\n",
              "\n",
              "    .colab-df-convert {\n",
              "      background-color: #E8F0FE;\n",
              "      border: none;\n",
              "      border-radius: 50%;\n",
              "      cursor: pointer;\n",
              "      display: none;\n",
              "      fill: #1967D2;\n",
              "      height: 32px;\n",
              "      padding: 0 0 0 0;\n",
              "      width: 32px;\n",
              "    }\n",
              "\n",
              "    .colab-df-convert:hover {\n",
              "      background-color: #E2EBFA;\n",
              "      box-shadow: 0px 1px 2px rgba(60, 64, 67, 0.3), 0px 1px 3px 1px rgba(60, 64, 67, 0.15);\n",
              "      fill: #174EA6;\n",
              "    }\n",
              "\n",
              "    [theme=dark] .colab-df-convert {\n",
              "      background-color: #3B4455;\n",
              "      fill: #D2E3FC;\n",
              "    }\n",
              "\n",
              "    [theme=dark] .colab-df-convert:hover {\n",
              "      background-color: #434B5C;\n",
              "      box-shadow: 0px 1px 3px 1px rgba(0, 0, 0, 0.15);\n",
              "      filter: drop-shadow(0px 1px 2px rgba(0, 0, 0, 0.3));\n",
              "      fill: #FFFFFF;\n",
              "    }\n",
              "  </style>\n",
              "\n",
              "      <script>\n",
              "        const buttonEl =\n",
              "          document.querySelector('#df-b45b3d27-d709-4652-936d-0361182ab1cb button.colab-df-convert');\n",
              "        buttonEl.style.display =\n",
              "          google.colab.kernel.accessAllowed ? 'block' : 'none';\n",
              "\n",
              "        async function convertToInteractive(key) {\n",
              "          const element = document.querySelector('#df-b45b3d27-d709-4652-936d-0361182ab1cb');\n",
              "          const dataTable =\n",
              "            await google.colab.kernel.invokeFunction('convertToInteractive',\n",
              "                                                     [key], {});\n",
              "          if (!dataTable) return;\n",
              "\n",
              "          const docLinkHtml = 'Like what you see? Visit the ' +\n",
              "            '<a target=\"_blank\" href=https://colab.research.google.com/notebooks/data_table.ipynb>data table notebook</a>'\n",
              "            + ' to learn more about interactive tables.';\n",
              "          element.innerHTML = '';\n",
              "          dataTable['output_type'] = 'display_data';\n",
              "          await google.colab.output.renderOutput(dataTable, element);\n",
              "          const docLink = document.createElement('div');\n",
              "          docLink.innerHTML = docLinkHtml;\n",
              "          element.appendChild(docLink);\n",
              "        }\n",
              "      </script>\n",
              "    </div>\n",
              "  </div>\n",
              "  "
            ],
            "text/plain": [
              "     name shape  realized  expanding  potential   V1C    V1      NC        N\n",
              "0   horz2     ⿰      5436   0.719409   0.003115  1364  1896  437854  1505967\n",
              "1   vert2     ⿱      2045   0.219409   0.000741   416  1896  561357  1505967\n",
              "2   horz3     ⿲        35   0.001582   0.000481     3  1896    6240  1505967\n",
              "3   vert3     ⿳        80   0.005802   0.000765    11  1896   14371  1505967\n",
              "4    encl     ⿴        27   0.001582   0.000208     3  1896   14409  1505967\n",
              "5    surN     ⿵        84   0.004747   0.000357     9  1896   25231  1505967\n",
              "6    surU     ⿶         6   0.000000   0.000000     0  1896    7275  1505967\n",
              "7    curC     ⿷        20   0.002110   0.002438     4  1896    1641  1505967\n",
              "8    surT     ⿸       332   0.026371   0.000548    50  1896   91208  1505967\n",
              "9    sur7     ⿹        48   0.002637   0.000197     5  1896   25379  1505967\n",
              "10   surL     ⿺       178   0.013186   0.000931    25  1896   26844  1505967\n",
              "11   over     ⿻        43   0.000527   0.000026     1  1896   37846  1505967"
            ]
          },
          "metadata": {},
          "execution_count": 77
        }
      ]
    }
  ]
}