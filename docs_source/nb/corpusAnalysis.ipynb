{
  "cells": [
    {
      "cell_type": "markdown",
      "metadata": {
        "id": "view-in-github",
        "colab_type": "text"
      },
      "source": [
        "<a href=\"https://colab.research.google.com/github/liao961120/hgct/blob/main/docs_source/nb/corpusAnalysis.ipynb\" target=\"_parent\"><img src=\"https://colab.research.google.com/assets/colab-badge.svg\" alt=\"Open In Colab\"/></a>"
      ]
    },
    {
      "cell_type": "code",
      "execution_count": 26,
      "id": "divided-bulgaria",
      "metadata": {
        "id": "divided-bulgaria"
      },
      "outputs": [],
      "source": [
        "## Colab setup\n",
        "# !gdown https://github.com/liao961120/hgct/raw/main/test/data.zip\n",
        "# !unzip -q data.zip\n",
        "# !pip install -qU hgct"
      ]
    },
    {
      "cell_type": "markdown",
      "id": "geological-fifteen",
      "metadata": {
        "id": "geological-fifteen"
      },
      "source": [
        "# Corpus Analysis API in *hgtk*"
      ]
    },
    {
      "cell_type": "markdown",
      "id": "moved-dover",
      "metadata": {
        "id": "moved-dover"
      },
      "source": [
        "In this second tutorial, we demonstrate functions for quantitative\n",
        "analysis of the corpus in *hgct*. To get started, we need two additional\n",
        "objects `CompoAnalysis` and `Dispersion` in addition to the\n",
        "`Concordancer` object introduced in the previous tutorial. The corpus\n",
        "used is identical to the one in Appendix A.\n",
        "\n",
        "Note that when initializing with `CompoAnalysis()` and\n",
        "`PlainTextReader()`, the argument `auto_load=False` needs to be given to\n",
        "`PlainTextReader()`. This prevents the full corpus to be loaded into the\n",
        "memory, such that functionalities provided by `CompoAnalysis` could be\n",
        "used to analyze large data that do not fit into the computer’s memory.\n",
        "For more information, refer to the source code on GitHub[1].\n",
        "\n",
        "[1] https://github.com/liao961120/hgct/blob/main/hgct/compoAnalysis.py"
      ]
    },
    {
      "cell_type": "code",
      "execution_count": 2,
      "id": "grave-credit",
      "metadata": {
        "outputId": "2615ecda-bec6-4be3-c53b-1ff501fea117",
        "colab": {
          "base_uri": "https://localhost:8080/",
          "height": 214,
          "referenced_widgets": [
            "58de1c717dba4b13b447b9c9d19e02b7",
            "dd4290c28d9d4cbf8966cc18beb1a8ab",
            "bd52dd243f3b4caab0952b48f8e386cd",
            "b20bad3ee50947429093a50e1fd22f5e",
            "cc108a7e60894644abe9780e62b3d41b",
            "f96adfcee7394407a337a26ec5644373",
            "dc57cf658fa545d1a47cdbc9cad96df2",
            "07978b64c68f4eba806b78cffe066968",
            "58e4fff537e341b4b3fec89f8c263ac4",
            "0b51cdfca90343a2b8f3d2ad3ae6beef",
            "50780d37d5074a29b23a93bcca5a5b15",
            "638bc9b3e1e740fcb0332d33fd692876",
            "bb167498542a42cf9757097de3ddfba7",
            "47e1293f95ac47218b30b15d37f0ac66",
            "6a85b8be14904ff5a850fb1359eec9da",
            "0d60ec314a8141589b07752015c84b3c",
            "c363248ee2ac43169a8af061c2bddaef",
            "2e920477ea5d49b1b9889a88d6772c5a",
            "cb4d702a712643bbabf4ec939337ee53",
            "4a862499ea504a59b77135c0861d4593",
            "14e59c9e03d649aaa701c3b72eb8050b",
            "a7c1b0eba7204ea0a1f2dad201b63f4c",
            "23eb85e2194a4cbb82db8031596b9b29",
            "4397a85ab84948e29b77b5c50be1f216",
            "576cc28bcf4e4c6d8e92218b8433373a",
            "4edfc7fe189a47f0a435f0ecc919af27",
            "4308f42729be44a6b47ad3c472e70369",
            "1fdd6d63d3714b69abb742590029489e",
            "0ed1f3163b5d48c1bb17ed7650f78eb0",
            "0cde484113cd41969f5c838e515b5967",
            "19aba3ba6e4841e9874e985ce8cdead2",
            "237e599d91404f1b845c7e6465b650d3",
            "407a2b7f8205487eb10d0d7c2b00fcd2",
            "dbe1ae734bfa43baac59822da8c1059b",
            "ba90a9c4abc2470dbd40da2b96fc75c7",
            "4b7427da57134c249271c2f3d4cc1c94",
            "371bc352a1fe4f569b5923750b70d088",
            "94550faf4a5342848c0f4df82c323d52",
            "4d57f9e0d0ca4ef1971ca8c2b6d39b23",
            "47024355ff2043fe8a09e18b7b94442e",
            "271a3e8a376c4db18c516604b8627943",
            "6074b80ea4464336a08b35fffeac758a",
            "169128ae481c49818c5edcf4bae53100",
            "df179ebbc727411bb64edfd4fe24a89f"
          ]
        },
        "id": "grave-credit"
      },
      "outputs": [
        {
          "output_type": "stream",
          "name": "stdout",
          "text": [
            "Indexing corpus for text retrival...\n"
          ]
        },
        {
          "output_type": "display_data",
          "data": {
            "application/vnd.jupyter.widget-view+json": {
              "model_id": "58de1c717dba4b13b447b9c9d19e02b7",
              "version_minor": 0,
              "version_major": 2
            },
            "text/plain": [
              "  0%|          | 0/5 [00:00<?, ?it/s]"
            ]
          },
          "metadata": {}
        },
        {
          "output_type": "stream",
          "name": "stdout",
          "text": [
            "Indexing corpus for concordance search...\n"
          ]
        },
        {
          "output_type": "display_data",
          "data": {
            "application/vnd.jupyter.widget-view+json": {
              "model_id": "638bc9b3e1e740fcb0332d33fd692876",
              "version_minor": 0,
              "version_major": 2
            },
            "text/plain": [
              "  0%|          | 0/5 [00:00<?, ?it/s]"
            ]
          },
          "metadata": {}
        },
        {
          "output_type": "stream",
          "name": "stdout",
          "text": [
            "Indexing corpus for text retrival...\n"
          ]
        },
        {
          "output_type": "display_data",
          "data": {
            "application/vnd.jupyter.widget-view+json": {
              "model_id": "23eb85e2194a4cbb82db8031596b9b29",
              "version_minor": 0,
              "version_major": 2
            },
            "text/plain": [
              "  0%|          | 0/5 [00:00<?, ?it/s]"
            ]
          },
          "metadata": {}
        },
        {
          "output_type": "stream",
          "name": "stdout",
          "text": [
            "Indexing corpus for concordance search...\n"
          ]
        },
        {
          "output_type": "display_data",
          "data": {
            "application/vnd.jupyter.widget-view+json": {
              "model_id": "dbe1ae734bfa43baac59822da8c1059b",
              "version_minor": 0,
              "version_major": 2
            },
            "text/plain": [
              "  0%|          | 0/5 [00:00<?, ?it/s]"
            ]
          },
          "metadata": {}
        }
      ],
      "source": [
        "import pandas as pd\n",
        "from hgct import PlainTextReader, Concordancer\n",
        "from hgct import CompoAnalysis, Dispersion\n",
        "\n",
        "CC = Concordancer(PlainTextReader(\"data/\").corpus)\n",
        "CA = CompoAnalysis(PlainTextReader(\"data/\", auto_load=False))\n",
        "DP = Dispersion(PlainTextReader(\"data/\").corpus)"
      ]
    },
    {
      "cell_type": "markdown",
      "id": "black-gathering",
      "metadata": {
        "id": "black-gathering"
      },
      "source": [
        "## Frequency List (Distribution)\n",
        "\n",
        "Frequency lists are provided by the function\n",
        "`CompoAnalysis.freq_distr()`. Based on the arguments passed, this\n",
        "function computes and returns the frequency distribution of either the\n",
        "characters, IDCs, Kangxi radicals, or characters with a given\n",
        "radical/component. Below, we demonstrate each of these types of\n",
        "frequency distributions."
      ]
    },
    {
      "cell_type": "markdown",
      "id": "balanced-inspiration",
      "metadata": {
        "id": "balanced-inspiration"
      },
      "source": [
        "### Character\n",
        "\n",
        "To return the frequency distribution of the characters in the corpus,\n",
        "set the argument `tp` to `\"chr\"`. `CompoAnalysis.freq_distr()` by\n",
        "default returns a `Counter`[1], which has the convenient method\n",
        "`most_common()` that could be used to retrieve the terms with the\n",
        "highest frequencies.\n",
        "\n",
        "[1] https://docs.python.org/3/library/collections.html#collections.Counter"
      ]
    },
    {
      "cell_type": "code",
      "execution_count": 3,
      "id": "sharing-facial",
      "metadata": {
        "colab": {
          "base_uri": "https://localhost:8080/"
        },
        "outputId": "b6a9aba9-2078-4589-8669-f63e5fd7c102",
        "id": "sharing-facial"
      },
      "outputs": [
        {
          "output_type": "execute_result",
          "data": {
            "text/plain": [
              "[('之', 210608), ('不', 129212), ('也', 107639), ('以', 104578)]"
            ]
          },
          "metadata": {},
          "execution_count": 3
        }
      ],
      "source": [
        "CA.freq_distr(tp=\"chr\").most_common(4)"
      ]
    },
    {
      "cell_type": "markdown",
      "id": "annoying-sailing",
      "metadata": {
        "id": "annoying-sailing"
      },
      "source": [
        "As mentioned in @sec:app-search-by-character, we could limit the scope\n",
        "of calculation to a particular subcorpus by specifying its index. To do\n",
        "this, pass the argument `subcorp_idx` to the function. The example below\n",
        "sets the subcorpus to `3`, which is the subcorpus of modern Chinese\n",
        "(ASBC)."
      ]
    },
    {
      "cell_type": "code",
      "execution_count": 4,
      "id": "sorted-religion",
      "metadata": {
        "colab": {
          "base_uri": "https://localhost:8080/"
        },
        "outputId": "88d73a2e-d679-4663-9170-85441d9d2200",
        "id": "sorted-religion"
      },
      "outputs": [
        {
          "output_type": "execute_result",
          "data": {
            "text/plain": [
              "[('的', 15826), ('一', 5537), ('是', 5130), ('不', 4469)]"
            ]
          },
          "metadata": {},
          "execution_count": 4
        }
      ],
      "source": [
        "CA.freq_distr(tp=\"chr\", subcorp_idx=3).most_common(4)"
      ]
    },
    {
      "cell_type": "markdown",
      "id": "chubby-orchestra",
      "metadata": {
        "id": "chubby-orchestra"
      },
      "source": [
        "### IDC\n",
        "\n",
        "Frequency distributions of the Ideographic Description Characters (IDCs)\n",
        "could similarly be retrieved by setting `tp` to `\"idc\"`. Note that there\n",
        "is an argument `use_chr_types` that applies when `tp=\"idc\"` (IDC) or\n",
        "`tp=\"rad\"` (radical). `use_chr_types` is used to determine how to\n",
        "compute the frequencies. If it is set to `False`, character frequencies\n",
        "are considered. If it is `True`, character frequencies are discarded. In\n",
        "other words, when `use_chr_types=False`, an IDC or a radical would only\n",
        "be counted once for each type of character. See @sec:frequency-lists for\n",
        "a toy example."
      ]
    },
    {
      "cell_type": "code",
      "execution_count": 5,
      "id": "bright-particle",
      "metadata": {
        "colab": {
          "base_uri": "https://localhost:8080/"
        },
        "outputId": "bc1a88c5-3530-4042-ff3b-06f6af4050e0",
        "id": "bright-particle"
      },
      "outputs": [
        {
          "output_type": "execute_result",
          "data": {
            "text/plain": [
              "Counter({'': 48725,\n",
              "         '⿰': 167681,\n",
              "         '⿱': 120035,\n",
              "         '⿲': 1965,\n",
              "         '⿳': 4068,\n",
              "         '⿴': 5744,\n",
              "         '⿵': 7834,\n",
              "         '⿶': 1637,\n",
              "         '⿷': 537,\n",
              "         '⿸': 18511,\n",
              "         '⿹': 4412,\n",
              "         '⿺': 13451,\n",
              "         '⿻': 10324})"
            ]
          },
          "metadata": {},
          "execution_count": 5
        }
      ],
      "source": [
        "CA.freq_distr(tp=\"idc\", subcorp_idx=3)"
      ]
    },
    {
      "cell_type": "code",
      "execution_count": 6,
      "id": "statutory-tiger",
      "metadata": {
        "colab": {
          "base_uri": "https://localhost:8080/"
        },
        "outputId": "b29c3812-8636-450c-ef93-0b860a75676c",
        "id": "statutory-tiger"
      },
      "outputs": [
        {
          "output_type": "execute_result",
          "data": {
            "text/plain": [
              "Counter({'': 119,\n",
              "         '⿰': 2454,\n",
              "         '⿱': 1019,\n",
              "         '⿲': 26,\n",
              "         '⿳': 39,\n",
              "         '⿴': 18,\n",
              "         '⿵': 45,\n",
              "         '⿶': 6,\n",
              "         '⿷': 12,\n",
              "         '⿸': 176,\n",
              "         '⿹': 41,\n",
              "         '⿺': 123,\n",
              "         '⿻': 32})"
            ]
          },
          "metadata": {},
          "execution_count": 6
        }
      ],
      "source": [
        "CA.freq_distr(tp=\"idc\", use_chr_types=True, subcorp_idx=3)"
      ]
    },
    {
      "cell_type": "markdown",
      "id": "treated-argument",
      "metadata": {
        "id": "treated-argument"
      },
      "source": [
        "### Radical\n",
        "\n",
        "To retrieve frequency distributions for radicals, set `tp=\"rad\"`. The\n",
        "usage of `use_chr_types` here is similar to the IDC described above."
      ]
    },
    {
      "cell_type": "code",
      "execution_count": 7,
      "id": "instructional-companion",
      "metadata": {
        "colab": {
          "base_uri": "https://localhost:8080/"
        },
        "outputId": "7b88b9d8-4923-4eb9-86b7-eba3d5345c1c",
        "id": "instructional-companion"
      },
      "outputs": [
        {
          "output_type": "execute_result",
          "data": {
            "text/plain": [
              "[('人', 28149), ('白', 16640), ('一', 15567), ('口', 15443)]"
            ]
          },
          "metadata": {},
          "execution_count": 7
        }
      ],
      "source": [
        "CA.freq_distr(tp=\"rad\", subcorp_idx=3).most_common(4)"
      ]
    },
    {
      "cell_type": "code",
      "execution_count": 8,
      "id": "objective-aquarium",
      "metadata": {
        "colab": {
          "base_uri": "https://localhost:8080/"
        },
        "outputId": "23a54907-f3a0-452a-8ccf-d1f8fde9747c",
        "id": "objective-aquarium"
      },
      "outputs": [
        {
          "output_type": "execute_result",
          "data": {
            "text/plain": [
              "[('水', 233), ('口', 207), ('手', 201), ('人', 172)]"
            ]
          },
          "metadata": {},
          "execution_count": 8
        }
      ],
      "source": [
        "CA.freq_distr(tp=\"rad\", use_chr_types=True, subcorp_idx=3).most_common(4)"
      ]
    },
    {
      "cell_type": "markdown",
      "id": "particular-haven",
      "metadata": {
        "id": "particular-haven"
      },
      "source": [
        "### Characters with a given radical\n",
        "\n",
        "It is also possible to look into characters of a specific type. By\n",
        "setting `tp=None`, one could then pass in a radical to the argument\n",
        "`radical` to look at the frequency distribution of the characters with\n",
        "this particular radical."
      ]
    },
    {
      "cell_type": "code",
      "execution_count": 9,
      "id": "egyptian-playlist",
      "metadata": {
        "colab": {
          "base_uri": "https://localhost:8080/"
        },
        "outputId": "07ac6068-8f76-4897-b13f-f7ff40fc9e27",
        "id": "egyptian-playlist"
      },
      "outputs": [
        {
          "output_type": "execute_result",
          "data": {
            "text/plain": [
              "[('度', 4757), ('廣', 4050), ('廟', 3067), ('府', 3064)]"
            ]
          },
          "metadata": {},
          "execution_count": 9
        }
      ],
      "source": [
        "CA.freq_distr(tp=None, radical=\"广\").most_common(4)"
      ]
    },
    {
      "cell_type": "markdown",
      "id": "refined-variable",
      "metadata": {
        "id": "refined-variable"
      },
      "source": [
        "### Characters with a given IDC component\n",
        "\n",
        "Similarly, a frequency distribution of characters of a specific type\n",
        "defined according to a component and an optional IDC describing the the\n",
        "shape could also be retrieved by specifying `tp=None` and the arguments\n",
        "`compo` and `idc` (optional)."
      ]
    },
    {
      "cell_type": "code",
      "execution_count": 10,
      "id": "cross-corrections",
      "metadata": {
        "colab": {
          "base_uri": "https://localhost:8080/"
        },
        "outputId": "57a0d9b4-98e0-4b16-fd10-6a180c3e2e51",
        "id": "cross-corrections"
      },
      "outputs": [
        {
          "output_type": "execute_result",
          "data": {
            "text/plain": [
              "Counter({'氶': 1,\n",
              "         '汞': 15,\n",
              "         '沓': 89,\n",
              "         '泉': 1349,\n",
              "         '泵': 3,\n",
              "         '淼': 4,\n",
              "         '滎': 344,\n",
              "         '漀': 1,\n",
              "         '漐': 9,\n",
              "         '漿': 153,\n",
              "         '澩': 3,\n",
              "         '灓': 5})"
            ]
          },
          "metadata": {},
          "execution_count": 10
        }
      ],
      "source": [
        "CA.freq_distr(tp=None, compo=\"水\", idc=\"vert2\")"
      ]
    },
    {
      "cell_type": "markdown",
      "id": "solid-jackson",
      "metadata": {
        "id": "solid-jackson"
      },
      "source": [
        "## Dispersion\n",
        "\n",
        "Measures of dispersion could be calculated based on a character or a\n",
        "search pattern."
      ]
    },
    {
      "cell_type": "markdown",
      "id": "friendly-average",
      "metadata": {
        "id": "friendly-average"
      },
      "source": [
        "### Dispersion Measures for Characters\n",
        "\n",
        "`Dispersion.char_dispersion()` is used for calculating dispersion\n",
        "measures for a character. The examples below—using the toy corpus in\n",
        "Gries (2020)—demonstrate the validity of the returned measure. The\n",
        "values should be identical to those in Table 1 of Gries (2020)."
      ]
    },
    {
      "cell_type": "code",
      "execution_count": 11,
      "id": "great-receiver",
      "metadata": {
        "colab": {
          "base_uri": "https://localhost:8080/"
        },
        "outputId": "b9392478-ad4d-4aa3-b446-c2bea500bbd7",
        "id": "great-receiver"
      },
      "outputs": [
        {
          "output_type": "execute_result",
          "data": {
            "text/plain": [
              "{'DP': 0.18,\n",
              " 'DPnorm': 0.2195121951219512,\n",
              " 'JuillandD': 0.7851504534504508,\n",
              " 'KLdivergence': 0.13697172936522078,\n",
              " 'Range': 5,\n",
              " 'RosengrenS': 0.9498163423042408}"
            ]
          },
          "metadata": {},
          "execution_count": 11
        }
      ],
      "source": [
        "# Gries (2020, Table 1)\n",
        "DP.char_dispersion(char='a', subcorp_idx=4)"
      ]
    },
    {
      "cell_type": "code",
      "execution_count": 12,
      "id": "small-outside",
      "metadata": {
        "colab": {
          "base_uri": "https://localhost:8080/"
        },
        "outputId": "7ac0fb0b-85e4-4355-9064-61f2533c09e5",
        "id": "small-outside"
      },
      "outputs": [
        {
          "output_type": "execute_result",
          "data": {
            "text/plain": [
              "({'DP': 0.18,\n",
              "  'DPnorm': 0.2195121951219512,\n",
              "  'JuillandD': 0.7851504534504508,\n",
              "  'KLdivergence': 0.13697172936522078,\n",
              "  'Range': 5,\n",
              "  'RosengrenS': 0.9498163423042408},\n",
              " {'corpus_size': 50,\n",
              "  'f': 15,\n",
              "  'n': 5,\n",
              "  'p': [0.1111111111111111, 0.45454545454545453, 0.3, 0.2, 0.4],\n",
              "  's': [0.18, 0.22, 0.2, 0.2, 0.2],\n",
              "  'v': [1, 5, 3, 2, 4]})"
            ]
          },
          "metadata": {},
          "execution_count": 12
        }
      ],
      "source": [
        "# return_raw=True to get the raw data for dispersion calculation\n",
        "DP.char_dispersion(char='a', return_raw=True, subcorp_idx=4)"
      ]
    },
    {
      "cell_type": "markdown",
      "id": "indirect-cloud",
      "metadata": {
        "id": "indirect-cloud"
      },
      "source": [
        "To see how dispersion measures behave on real data, we calculate\n",
        "dispersion measures for four characters (之, 也, 草, and 巾) in a corpus\n",
        "of Literary Chinese texts. The first two characters 之 and 也 are often\n",
        "used as function words and the last two as content words in Literary\n",
        "Chinese. Hence, we would expect the first two to be distributed evenly,\n",
        "and the latter two unevenly in the corpus."
      ]
    },
    {
      "cell_type": "code",
      "execution_count": 13,
      "id": "freelance-wealth",
      "metadata": {
        "colab": {
          "base_uri": "https://localhost:8080/",
          "height": 175
        },
        "outputId": "c5a6e5e9-722c-43cd-c660-429f9de0afde",
        "id": "freelance-wealth"
      },
      "outputs": [
        {
          "output_type": "execute_result",
          "data": {
            "text/html": [
              "\n",
              "  <div id=\"df-ac5d2c7b-cc5c-4690-a85e-0be0162c2b49\">\n",
              "    <div class=\"colab-df-container\">\n",
              "      <div>\n",
              "<style scoped>\n",
              "    .dataframe tbody tr th:only-of-type {\n",
              "        vertical-align: middle;\n",
              "    }\n",
              "\n",
              "    .dataframe tbody tr th {\n",
              "        vertical-align: top;\n",
              "    }\n",
              "\n",
              "    .dataframe thead th {\n",
              "        text-align: right;\n",
              "    }\n",
              "</style>\n",
              "<table border=\"1\" class=\"dataframe\">\n",
              "  <thead>\n",
              "    <tr style=\"text-align: right;\">\n",
              "      <th></th>\n",
              "      <th>char</th>\n",
              "      <th>Range(%)</th>\n",
              "      <th>Range</th>\n",
              "      <th>DP</th>\n",
              "      <th>DPnorm</th>\n",
              "      <th>KLdivergence</th>\n",
              "      <th>JuillandD</th>\n",
              "      <th>RosengrenS</th>\n",
              "    </tr>\n",
              "  </thead>\n",
              "  <tbody>\n",
              "    <tr>\n",
              "      <th>0</th>\n",
              "      <td>之</td>\n",
              "      <td>90.98</td>\n",
              "      <td>666</td>\n",
              "      <td>0.128508</td>\n",
              "      <td>0.128509</td>\n",
              "      <td>0.095890</td>\n",
              "      <td>0.977316</td>\n",
              "      <td>0.961405</td>\n",
              "    </tr>\n",
              "    <tr>\n",
              "      <th>1</th>\n",
              "      <td>也</td>\n",
              "      <td>77.05</td>\n",
              "      <td>564</td>\n",
              "      <td>0.251459</td>\n",
              "      <td>0.251462</td>\n",
              "      <td>0.401038</td>\n",
              "      <td>0.962913</td>\n",
              "      <td>0.823893</td>\n",
              "    </tr>\n",
              "    <tr>\n",
              "      <th>2</th>\n",
              "      <td>草</td>\n",
              "      <td>22.40</td>\n",
              "      <td>164</td>\n",
              "      <td>0.649643</td>\n",
              "      <td>0.649649</td>\n",
              "      <td>2.331477</td>\n",
              "      <td>0.863829</td>\n",
              "      <td>0.320790</td>\n",
              "    </tr>\n",
              "    <tr>\n",
              "      <th>3</th>\n",
              "      <td>巾</td>\n",
              "      <td>3.69</td>\n",
              "      <td>27</td>\n",
              "      <td>0.844676</td>\n",
              "      <td>0.844683</td>\n",
              "      <td>4.077689</td>\n",
              "      <td>0.541787</td>\n",
              "      <td>0.101871</td>\n",
              "    </tr>\n",
              "  </tbody>\n",
              "</table>\n",
              "</div>\n",
              "      <button class=\"colab-df-convert\" onclick=\"convertToInteractive('df-ac5d2c7b-cc5c-4690-a85e-0be0162c2b49')\"\n",
              "              title=\"Convert this dataframe to an interactive table.\"\n",
              "              style=\"display:none;\">\n",
              "        \n",
              "  <svg xmlns=\"http://www.w3.org/2000/svg\" height=\"24px\"viewBox=\"0 0 24 24\"\n",
              "       width=\"24px\">\n",
              "    <path d=\"M0 0h24v24H0V0z\" fill=\"none\"/>\n",
              "    <path d=\"M18.56 5.44l.94 2.06.94-2.06 2.06-.94-2.06-.94-.94-2.06-.94 2.06-2.06.94zm-11 1L8.5 8.5l.94-2.06 2.06-.94-2.06-.94L8.5 2.5l-.94 2.06-2.06.94zm10 10l.94 2.06.94-2.06 2.06-.94-2.06-.94-.94-2.06-.94 2.06-2.06.94z\"/><path d=\"M17.41 7.96l-1.37-1.37c-.4-.4-.92-.59-1.43-.59-.52 0-1.04.2-1.43.59L10.3 9.45l-7.72 7.72c-.78.78-.78 2.05 0 2.83L4 21.41c.39.39.9.59 1.41.59.51 0 1.02-.2 1.41-.59l7.78-7.78 2.81-2.81c.8-.78.8-2.07 0-2.86zM5.41 20L4 18.59l7.72-7.72 1.47 1.35L5.41 20z\"/>\n",
              "  </svg>\n",
              "      </button>\n",
              "      \n",
              "  <style>\n",
              "    .colab-df-container {\n",
              "      display:flex;\n",
              "      flex-wrap:wrap;\n",
              "      gap: 12px;\n",
              "    }\n",
              "\n",
              "    .colab-df-convert {\n",
              "      background-color: #E8F0FE;\n",
              "      border: none;\n",
              "      border-radius: 50%;\n",
              "      cursor: pointer;\n",
              "      display: none;\n",
              "      fill: #1967D2;\n",
              "      height: 32px;\n",
              "      padding: 0 0 0 0;\n",
              "      width: 32px;\n",
              "    }\n",
              "\n",
              "    .colab-df-convert:hover {\n",
              "      background-color: #E2EBFA;\n",
              "      box-shadow: 0px 1px 2px rgba(60, 64, 67, 0.3), 0px 1px 3px 1px rgba(60, 64, 67, 0.15);\n",
              "      fill: #174EA6;\n",
              "    }\n",
              "\n",
              "    [theme=dark] .colab-df-convert {\n",
              "      background-color: #3B4455;\n",
              "      fill: #D2E3FC;\n",
              "    }\n",
              "\n",
              "    [theme=dark] .colab-df-convert:hover {\n",
              "      background-color: #434B5C;\n",
              "      box-shadow: 0px 1px 3px 1px rgba(0, 0, 0, 0.15);\n",
              "      filter: drop-shadow(0px 1px 2px rgba(0, 0, 0, 0.3));\n",
              "      fill: #FFFFFF;\n",
              "    }\n",
              "  </style>\n",
              "\n",
              "      <script>\n",
              "        const buttonEl =\n",
              "          document.querySelector('#df-ac5d2c7b-cc5c-4690-a85e-0be0162c2b49 button.colab-df-convert');\n",
              "        buttonEl.style.display =\n",
              "          google.colab.kernel.accessAllowed ? 'block' : 'none';\n",
              "\n",
              "        async function convertToInteractive(key) {\n",
              "          const element = document.querySelector('#df-ac5d2c7b-cc5c-4690-a85e-0be0162c2b49');\n",
              "          const dataTable =\n",
              "            await google.colab.kernel.invokeFunction('convertToInteractive',\n",
              "                                                     [key], {});\n",
              "          if (!dataTable) return;\n",
              "\n",
              "          const docLinkHtml = 'Like what you see? Visit the ' +\n",
              "            '<a target=\"_blank\" href=https://colab.research.google.com/notebooks/data_table.ipynb>data table notebook</a>'\n",
              "            + ' to learn more about interactive tables.';\n",
              "          element.innerHTML = '';\n",
              "          dataTable['output_type'] = 'display_data';\n",
              "          await google.colab.output.renderOutput(dataTable, element);\n",
              "          const docLink = document.createElement('div');\n",
              "          docLink.innerHTML = docLinkHtml;\n",
              "          element.appendChild(docLink);\n",
              "        }\n",
              "      </script>\n",
              "    </div>\n",
              "  </div>\n",
              "  "
            ],
            "text/plain": [
              "  char Range(%)  Range        DP    DPnorm  KLdivergence  JuillandD  RosengrenS\n",
              "0    之    90.98    666  0.128508  0.128509      0.095890   0.977316    0.961405\n",
              "1    也    77.05    564  0.251459  0.251462      0.401038   0.962913    0.823893\n",
              "2    草    22.40    164  0.649643  0.649649      2.331477   0.863829    0.320790\n",
              "3    巾     3.69     27  0.844676  0.844683      4.077689   0.541787    0.101871"
            ]
          },
          "metadata": {},
          "execution_count": 13
        }
      ],
      "source": [
        "subcorp_idx = 0\n",
        "df_disp = []\n",
        "for ch in '之也草巾':\n",
        "    stats, raw = DP.char_dispersion(\n",
        "        char=ch, subcorp_idx=subcorp_idx, return_raw=True\n",
        "    )\n",
        "    d = {\n",
        "        'char': ch,\n",
        "        'Range(%)': '{:.2f}'.format(100 * stats['Range'] / raw['n']),\n",
        "        **stats\n",
        "    }\n",
        "    df_disp.append(d)\n",
        "df_disp = pd.DataFrame(df_disp)\n",
        "df_disp"
      ]
    },
    {
      "cell_type": "markdown",
      "id": "bulgarian-judge",
      "metadata": {
        "id": "bulgarian-judge"
      },
      "source": [
        "### Dispersion Measures of Complex Forms (defined by CQL)\n",
        "\n",
        "Dispersion measures for abstract units could also be calculated with the\n",
        "returned concordance lines provided by `Concordancer.cql_search()`. The\n",
        "function `DP.pattern_dispersion()` is designed to take the queried\n",
        "results from `Concordancer.cql_search()` to calculate dispersion\n",
        "measures."
      ]
    },
    {
      "cell_type": "code",
      "execution_count": 14,
      "id": "fifty-florence",
      "metadata": {
        "colab": {
          "base_uri": "https://localhost:8080/"
        },
        "outputId": "88b72f54-63eb-44f9-9079-b6aee5badcb8",
        "id": "fifty-florence"
      },
      "outputs": [
        {
          "output_type": "stream",
          "name": "stdout",
          "text": [
            "Num of results: 8459\n",
            "<Concord 。有孚{惠心}，勿問>\n",
            "<Concord 大澤則{惠必}及下，>\n",
            "<Concord 「仁義{惠愛}而已矣>\n"
          ]
        }
      ],
      "source": [
        "cql = \"\"\"\n",
        "[semtag=\"人體精神\"] [semtag=\"人體精神\"]\n",
        "\"\"\"\n",
        "results = list(CC.cql_search(cql, left=3, right=3))\n",
        "print('Num of results:', len(results))\n",
        "for r in results[:3]: print(r)"
      ]
    },
    {
      "cell_type": "code",
      "execution_count": 15,
      "id": "gothic-truck",
      "metadata": {
        "colab": {
          "base_uri": "https://localhost:8080/"
        },
        "outputId": "c836fa95-e069-449a-b381-ac3d75a6855e",
        "id": "gothic-truck"
      },
      "outputs": [
        {
          "output_type": "execute_result",
          "data": {
            "text/plain": [
              "{'DP': 0.1504848557289626,\n",
              " 'DPnorm': 0.15050344195568013,\n",
              " 'JuillandD': 0.9387038720245429,\n",
              " 'KLdivergence': 0.135483902941753,\n",
              " 'Range': 134,\n",
              " 'RosengrenS': 0.9428568965311757}"
            ]
          },
          "metadata": {},
          "execution_count": 15
        }
      ],
      "source": [
        "DP.pattern_dispersion(data=results, subcorp_idx=2)"
      ]
    },
    {
      "cell_type": "markdown",
      "id": "executed-airport",
      "metadata": {
        "id": "executed-airport"
      },
      "source": [
        "The example below calculates dispersion measures for **each subcorpus 0,\n",
        "1, and 2**. This is useful when the user is interested in contrasting\n",
        "dispersion measures in different corpora (e.g., genre/diachronic\n",
        "comparison)."
      ]
    },
    {
      "cell_type": "code",
      "execution_count": 16,
      "id": "different-custom",
      "metadata": {
        "colab": {
          "base_uri": "https://localhost:8080/",
          "height": 143
        },
        "outputId": "b74e5073-4c73-4d45-f3ec-ac2b35280fa6",
        "id": "different-custom"
      },
      "outputs": [
        {
          "output_type": "execute_result",
          "data": {
            "text/html": [
              "\n",
              "  <div id=\"df-79498488-f275-4e23-bef4-d34eba991f6c\">\n",
              "    <div class=\"colab-df-container\">\n",
              "      <div>\n",
              "<style scoped>\n",
              "    .dataframe tbody tr th:only-of-type {\n",
              "        vertical-align: middle;\n",
              "    }\n",
              "\n",
              "    .dataframe tbody tr th {\n",
              "        vertical-align: top;\n",
              "    }\n",
              "\n",
              "    .dataframe thead th {\n",
              "        text-align: right;\n",
              "    }\n",
              "</style>\n",
              "<table border=\"1\" class=\"dataframe\">\n",
              "  <thead>\n",
              "    <tr style=\"text-align: right;\">\n",
              "      <th></th>\n",
              "      <th>Range(%)</th>\n",
              "      <th>Range</th>\n",
              "      <th>DP</th>\n",
              "      <th>DPnorm</th>\n",
              "      <th>KLdivergence</th>\n",
              "      <th>JuillandD</th>\n",
              "      <th>RosengrenS</th>\n",
              "      <th>freq</th>\n",
              "      <th>corp_size</th>\n",
              "    </tr>\n",
              "  </thead>\n",
              "  <tbody>\n",
              "    <tr>\n",
              "      <th>0</th>\n",
              "      <td>44.40</td>\n",
              "      <td>325</td>\n",
              "      <td>0.399226</td>\n",
              "      <td>0.399229</td>\n",
              "      <td>1.002285</td>\n",
              "      <td>0.907705</td>\n",
              "      <td>0.629630</td>\n",
              "      <td>1689</td>\n",
              "      <td>1858228</td>\n",
              "    </tr>\n",
              "    <tr>\n",
              "      <th>1</th>\n",
              "      <td>53.38</td>\n",
              "      <td>560</td>\n",
              "      <td>0.325007</td>\n",
              "      <td>0.325008</td>\n",
              "      <td>0.617590</td>\n",
              "      <td>0.950161</td>\n",
              "      <td>0.753668</td>\n",
              "      <td>3500</td>\n",
              "      <td>3938310</td>\n",
              "    </tr>\n",
              "    <tr>\n",
              "      <th>2</th>\n",
              "      <td>85.90</td>\n",
              "      <td>134</td>\n",
              "      <td>0.150485</td>\n",
              "      <td>0.150503</td>\n",
              "      <td>0.135484</td>\n",
              "      <td>0.938704</td>\n",
              "      <td>0.942857</td>\n",
              "      <td>2489</td>\n",
              "      <td>2097273</td>\n",
              "    </tr>\n",
              "  </tbody>\n",
              "</table>\n",
              "</div>\n",
              "      <button class=\"colab-df-convert\" onclick=\"convertToInteractive('df-79498488-f275-4e23-bef4-d34eba991f6c')\"\n",
              "              title=\"Convert this dataframe to an interactive table.\"\n",
              "              style=\"display:none;\">\n",
              "        \n",
              "  <svg xmlns=\"http://www.w3.org/2000/svg\" height=\"24px\"viewBox=\"0 0 24 24\"\n",
              "       width=\"24px\">\n",
              "    <path d=\"M0 0h24v24H0V0z\" fill=\"none\"/>\n",
              "    <path d=\"M18.56 5.44l.94 2.06.94-2.06 2.06-.94-2.06-.94-.94-2.06-.94 2.06-2.06.94zm-11 1L8.5 8.5l.94-2.06 2.06-.94-2.06-.94L8.5 2.5l-.94 2.06-2.06.94zm10 10l.94 2.06.94-2.06 2.06-.94-2.06-.94-.94-2.06-.94 2.06-2.06.94z\"/><path d=\"M17.41 7.96l-1.37-1.37c-.4-.4-.92-.59-1.43-.59-.52 0-1.04.2-1.43.59L10.3 9.45l-7.72 7.72c-.78.78-.78 2.05 0 2.83L4 21.41c.39.39.9.59 1.41.59.51 0 1.02-.2 1.41-.59l7.78-7.78 2.81-2.81c.8-.78.8-2.07 0-2.86zM5.41 20L4 18.59l7.72-7.72 1.47 1.35L5.41 20z\"/>\n",
              "  </svg>\n",
              "      </button>\n",
              "      \n",
              "  <style>\n",
              "    .colab-df-container {\n",
              "      display:flex;\n",
              "      flex-wrap:wrap;\n",
              "      gap: 12px;\n",
              "    }\n",
              "\n",
              "    .colab-df-convert {\n",
              "      background-color: #E8F0FE;\n",
              "      border: none;\n",
              "      border-radius: 50%;\n",
              "      cursor: pointer;\n",
              "      display: none;\n",
              "      fill: #1967D2;\n",
              "      height: 32px;\n",
              "      padding: 0 0 0 0;\n",
              "      width: 32px;\n",
              "    }\n",
              "\n",
              "    .colab-df-convert:hover {\n",
              "      background-color: #E2EBFA;\n",
              "      box-shadow: 0px 1px 2px rgba(60, 64, 67, 0.3), 0px 1px 3px 1px rgba(60, 64, 67, 0.15);\n",
              "      fill: #174EA6;\n",
              "    }\n",
              "\n",
              "    [theme=dark] .colab-df-convert {\n",
              "      background-color: #3B4455;\n",
              "      fill: #D2E3FC;\n",
              "    }\n",
              "\n",
              "    [theme=dark] .colab-df-convert:hover {\n",
              "      background-color: #434B5C;\n",
              "      box-shadow: 0px 1px 3px 1px rgba(0, 0, 0, 0.15);\n",
              "      filter: drop-shadow(0px 1px 2px rgba(0, 0, 0, 0.3));\n",
              "      fill: #FFFFFF;\n",
              "    }\n",
              "  </style>\n",
              "\n",
              "      <script>\n",
              "        const buttonEl =\n",
              "          document.querySelector('#df-79498488-f275-4e23-bef4-d34eba991f6c button.colab-df-convert');\n",
              "        buttonEl.style.display =\n",
              "          google.colab.kernel.accessAllowed ? 'block' : 'none';\n",
              "\n",
              "        async function convertToInteractive(key) {\n",
              "          const element = document.querySelector('#df-79498488-f275-4e23-bef4-d34eba991f6c');\n",
              "          const dataTable =\n",
              "            await google.colab.kernel.invokeFunction('convertToInteractive',\n",
              "                                                     [key], {});\n",
              "          if (!dataTable) return;\n",
              "\n",
              "          const docLinkHtml = 'Like what you see? Visit the ' +\n",
              "            '<a target=\"_blank\" href=https://colab.research.google.com/notebooks/data_table.ipynb>data table notebook</a>'\n",
              "            + ' to learn more about interactive tables.';\n",
              "          element.innerHTML = '';\n",
              "          dataTable['output_type'] = 'display_data';\n",
              "          await google.colab.output.renderOutput(dataTable, element);\n",
              "          const docLink = document.createElement('div');\n",
              "          docLink.innerHTML = docLinkHtml;\n",
              "          element.appendChild(docLink);\n",
              "        }\n",
              "      </script>\n",
              "    </div>\n",
              "  </div>\n",
              "  "
            ],
            "text/plain": [
              "  Range(%)  Range        DP    DPnorm  ...  JuillandD  RosengrenS  freq  corp_size\n",
              "0    44.40    325  0.399226  0.399229  ...   0.907705    0.629630  1689    1858228\n",
              "1    53.38    560  0.325007  0.325008  ...   0.950161    0.753668  3500    3938310\n",
              "2    85.90    134  0.150485  0.150503  ...   0.938704    0.942857  2489    2097273\n",
              "\n",
              "[3 rows x 9 columns]"
            ]
          },
          "metadata": {},
          "execution_count": 16
        }
      ],
      "source": [
        "# Compute separate dispersion measures for each subcorpus\n",
        "df_pat_disp = []\n",
        "for i in range(3):\n",
        "    stats, raw = DP.pattern_dispersion(\n",
        "        data=results, subcorp_idx=i, return_raw=True\n",
        "    )\n",
        "    d = {\n",
        "        'Range(%)': '{:.2f}'.format(100 * stats['Range'] / raw['n']),\n",
        "        **stats,\n",
        "        'freq': raw['f'],\n",
        "        'corp_size': raw['corpus_size']\n",
        "    }\n",
        "    df_pat_disp.append(d)\n",
        "df_pat_disp = pd.DataFrame(df_pat_disp)\n",
        "df_pat_disp"
      ]
    },
    {
      "cell_type": "markdown",
      "id": "ideal-perry",
      "metadata": {
        "id": "ideal-perry"
      },
      "source": [
        "## Ngram Frequency\n",
        "\n",
        "We now turn to the relationships across characters. To compute character\n",
        "n-grams, one can use `Concordancer.freq_distr_ngrams()`."
      ]
    },
    {
      "cell_type": "code",
      "execution_count": 17,
      "id": "monetary-jesus",
      "metadata": {
        "outputId": "95cc4c4e-3ad7-4b94-b421-aed5bf1d5ed3",
        "colab": {
          "base_uri": "https://localhost:8080/",
          "height": 84,
          "referenced_widgets": [
            "bb5037e60ea8460abcc2e2050bd94200",
            "d40582fa7fba42c29ecdb5f8a7a322ae",
            "3d41992659e54e94a501d9b3fe2e3084",
            "f374c6ce1019481dac77983ce5c3d62b",
            "820e34aad56548dc87f41e26c70ba1dc",
            "25c0e98bdce9447498e5de5b4f8e1d2f",
            "db1aa77d6135477880513a60f4cc5044",
            "19597326b91c4f99b51876669299eade",
            "8841ab7e360c4410ae64759bfda596bb",
            "c72e160e090e4338bddae311f5ab4a12",
            "196f2772f703455296742a73f3e56e1a"
          ]
        },
        "id": "monetary-jesus"
      },
      "outputs": [
        {
          "output_type": "stream",
          "name": "stdout",
          "text": [
            "Counting 2-grams...\n"
          ]
        },
        {
          "output_type": "display_data",
          "data": {
            "application/vnd.jupyter.widget-view+json": {
              "model_id": "bb5037e60ea8460abcc2e2050bd94200",
              "version_minor": 0,
              "version_major": 2
            },
            "text/plain": [
              "  0%|          | 0/5 [00:00<?, ?it/s]"
            ]
          },
          "metadata": {}
        },
        {
          "output_type": "execute_result",
          "data": {
            "text/plain": [
              "[('而不', 3913), ('天下', 3661), ('不可', 2985), ('之所', 2723)]"
            ]
          },
          "metadata": {},
          "execution_count": 17
        }
      ],
      "source": [
        "CC.freq_distr_ngrams(n=2, subcorp_idx=0).most_common(4)"
      ]
    },
    {
      "cell_type": "code",
      "execution_count": 18,
      "id": "grateful-budapest",
      "metadata": {
        "outputId": "4287c591-4411-4151-9382-0346cd266aa6",
        "colab": {
          "base_uri": "https://localhost:8080/",
          "height": 84,
          "referenced_widgets": [
            "98917c323e1943c694386d79c257604f",
            "5d3e17e5ef2f43d8812b712d84898b29",
            "ce813239f1c4493aaf1dd3d519d6477c",
            "3f73f070c07c4dbaaf4464b9e046eaba",
            "06739c6d78fe4e9b99a3d1b0f5fe087e",
            "4c4d05668654499db16f121c0eea03d5",
            "bb408a1b31b246a78260e84657e330f0",
            "c0c340d0ddae475e8b937959fd7cdd79",
            "7a2ee28b49ff440caae0248c44a1f476",
            "36f56677c0cc444884520efee5c5072c",
            "1e00e3f732c5426ba3d50dada70d9da2"
          ]
        },
        "id": "grateful-budapest"
      },
      "outputs": [
        {
          "output_type": "stream",
          "name": "stdout",
          "text": [
            "Counting 3-grams...\n"
          ]
        },
        {
          "output_type": "display_data",
          "data": {
            "application/vnd.jupyter.widget-view+json": {
              "model_id": "98917c323e1943c694386d79c257604f",
              "version_minor": 0,
              "version_major": 2
            },
            "text/plain": [
              "  0%|          | 0/5 [00:00<?, ?it/s]"
            ]
          },
          "metadata": {}
        },
        {
          "output_type": "execute_result",
          "data": {
            "text/plain": [
              "[('天下之', 946), ('歧伯曰', 766), ('之所以', 605), ('不可以', 580)]"
            ]
          },
          "metadata": {},
          "execution_count": 18
        }
      ],
      "source": [
        "CC.freq_distr_ngrams(n=3, subcorp_idx=0).most_common(4)"
      ]
    },
    {
      "cell_type": "markdown",
      "id": "endless-bleeding",
      "metadata": {
        "id": "endless-bleeding"
      },
      "source": [
        "## Collocation\n",
        "\n",
        "Association measures could be used to quantify the strengths of\n",
        "attraction between a pair of characters. Pairs with strong attractions\n",
        "could be considered as collocations. *hgct* implements two types of\n",
        "collocation extraction functions. The first\n",
        "(`Concordancer.bigram_associations()`) is based on bigrams, which simply\n",
        "computes association scores for all bigrams. With the second\n",
        "implementation (`Concordancer.collocates()`), users could specify a node\n",
        "and a window size, and characters falling within this window around the\n",
        "node would be treated as a node-collocate pair. Each pair is then\n",
        "computed for an association score."
      ]
    },
    {
      "cell_type": "markdown",
      "id": "located-academy",
      "metadata": {
        "id": "located-academy"
      },
      "source": [
        "### Bigram Association"
      ]
    },
    {
      "cell_type": "code",
      "execution_count": 19,
      "id": "special-division",
      "metadata": {
        "outputId": "38247e74-95f5-404e-8bf4-0a1bb27e0872",
        "colab": {
          "base_uri": "https://localhost:8080/"
        },
        "id": "special-division"
      },
      "outputs": [
        {
          "output_type": "execute_result",
          "data": {
            "text/plain": [
              "('自己',\n",
              " {'DeltaP12': 0.9778668701918644,\n",
              "  'DeltaP21': 0.36342714003090937,\n",
              "  'Dice': 0.5303392259913999,\n",
              "  'FisherExact': 0.0,\n",
              "  'Gsq': 6188.677676112116,\n",
              "  'MI': 7.855905225817536,\n",
              "  'RawCount': 555,\n",
              "  'Xsq': 128210.23324106314})"
            ]
          },
          "metadata": {},
          "execution_count": 19
        }
      ],
      "source": [
        "bi_asso = CC.bigram_associations(subcorp_idx=3, sort_by=\"Gsq\")\n",
        "bi_asso[0]"
      ]
    },
    {
      "cell_type": "code",
      "execution_count": 28,
      "id": "likely-original",
      "metadata": {
        "colab": {
          "base_uri": "https://localhost:8080/",
          "height": 206
        },
        "outputId": "f9cc620b-cce2-450c-badc-b2d61a29b889",
        "id": "likely-original"
      },
      "outputs": [
        {
          "output_type": "execute_result",
          "data": {
            "text/html": [
              "\n",
              "  <div id=\"df-0e2126e1-2e46-48b4-85d1-468ba812013e\">\n",
              "    <div class=\"colab-df-container\">\n",
              "      <div>\n",
              "<style scoped>\n",
              "    .dataframe tbody tr th:only-of-type {\n",
              "        vertical-align: middle;\n",
              "    }\n",
              "\n",
              "    .dataframe tbody tr th {\n",
              "        vertical-align: top;\n",
              "    }\n",
              "\n",
              "    .dataframe thead th {\n",
              "        text-align: right;\n",
              "    }\n",
              "</style>\n",
              "<table border=\"1\" class=\"dataframe\">\n",
              "  <thead>\n",
              "    <tr style=\"text-align: right;\">\n",
              "      <th></th>\n",
              "      <th>bigram</th>\n",
              "      <th>MI</th>\n",
              "      <th>Xsq</th>\n",
              "      <th>Gsq</th>\n",
              "      <th>Dice</th>\n",
              "      <th>DeltaP21</th>\n",
              "      <th>DeltaP12</th>\n",
              "      <th>FisherExact</th>\n",
              "      <th>RawCount</th>\n",
              "    </tr>\n",
              "  </thead>\n",
              "  <tbody>\n",
              "    <tr>\n",
              "      <th>0</th>\n",
              "      <td>自己</td>\n",
              "      <td>7.855905</td>\n",
              "      <td>128210.233241</td>\n",
              "      <td>6188.677676</td>\n",
              "      <td>0.530339</td>\n",
              "      <td>0.363427</td>\n",
              "      <td>0.977867</td>\n",
              "      <td>0.0</td>\n",
              "      <td>555</td>\n",
              "    </tr>\n",
              "    <tr>\n",
              "      <th>1</th>\n",
              "      <td>什麼</td>\n",
              "      <td>9.153258</td>\n",
              "      <td>192859.824384</td>\n",
              "      <td>4474.727091</td>\n",
              "      <td>0.701863</td>\n",
              "      <td>0.976168</td>\n",
              "      <td>0.547635</td>\n",
              "      <td>0.0</td>\n",
              "      <td>339</td>\n",
              "    </tr>\n",
              "    <tr>\n",
              "      <th>2</th>\n",
              "      <td>我們</td>\n",
              "      <td>6.183966</td>\n",
              "      <td>42280.224680</td>\n",
              "      <td>4389.147721</td>\n",
              "      <td>0.333427</td>\n",
              "      <td>0.262396</td>\n",
              "      <td>0.446638</td>\n",
              "      <td>0.0</td>\n",
              "      <td>592</td>\n",
              "    </tr>\n",
              "    <tr>\n",
              "      <th>3</th>\n",
              "      <td>台灣</td>\n",
              "      <td>8.126771</td>\n",
              "      <td>111740.169937</td>\n",
              "      <td>4314.053443</td>\n",
              "      <td>0.544098</td>\n",
              "      <td>0.446557</td>\n",
              "      <td>0.693597</td>\n",
              "      <td>0.0</td>\n",
              "      <td>401</td>\n",
              "    </tr>\n",
              "    <tr>\n",
              "      <th>4</th>\n",
              "      <td>沒有</td>\n",
              "      <td>6.394685</td>\n",
              "      <td>43012.134830</td>\n",
              "      <td>4186.922495</td>\n",
              "      <td>0.268951</td>\n",
              "      <td>0.726412</td>\n",
              "      <td>0.164128</td>\n",
              "      <td>0.0</td>\n",
              "      <td>518</td>\n",
              "    </tr>\n",
              "  </tbody>\n",
              "</table>\n",
              "</div>\n",
              "      <button class=\"colab-df-convert\" onclick=\"convertToInteractive('df-0e2126e1-2e46-48b4-85d1-468ba812013e')\"\n",
              "              title=\"Convert this dataframe to an interactive table.\"\n",
              "              style=\"display:none;\">\n",
              "        \n",
              "  <svg xmlns=\"http://www.w3.org/2000/svg\" height=\"24px\"viewBox=\"0 0 24 24\"\n",
              "       width=\"24px\">\n",
              "    <path d=\"M0 0h24v24H0V0z\" fill=\"none\"/>\n",
              "    <path d=\"M18.56 5.44l.94 2.06.94-2.06 2.06-.94-2.06-.94-.94-2.06-.94 2.06-2.06.94zm-11 1L8.5 8.5l.94-2.06 2.06-.94-2.06-.94L8.5 2.5l-.94 2.06-2.06.94zm10 10l.94 2.06.94-2.06 2.06-.94-2.06-.94-.94-2.06-.94 2.06-2.06.94z\"/><path d=\"M17.41 7.96l-1.37-1.37c-.4-.4-.92-.59-1.43-.59-.52 0-1.04.2-1.43.59L10.3 9.45l-7.72 7.72c-.78.78-.78 2.05 0 2.83L4 21.41c.39.39.9.59 1.41.59.51 0 1.02-.2 1.41-.59l7.78-7.78 2.81-2.81c.8-.78.8-2.07 0-2.86zM5.41 20L4 18.59l7.72-7.72 1.47 1.35L5.41 20z\"/>\n",
              "  </svg>\n",
              "      </button>\n",
              "      \n",
              "  <style>\n",
              "    .colab-df-container {\n",
              "      display:flex;\n",
              "      flex-wrap:wrap;\n",
              "      gap: 12px;\n",
              "    }\n",
              "\n",
              "    .colab-df-convert {\n",
              "      background-color: #E8F0FE;\n",
              "      border: none;\n",
              "      border-radius: 50%;\n",
              "      cursor: pointer;\n",
              "      display: none;\n",
              "      fill: #1967D2;\n",
              "      height: 32px;\n",
              "      padding: 0 0 0 0;\n",
              "      width: 32px;\n",
              "    }\n",
              "\n",
              "    .colab-df-convert:hover {\n",
              "      background-color: #E2EBFA;\n",
              "      box-shadow: 0px 1px 2px rgba(60, 64, 67, 0.3), 0px 1px 3px 1px rgba(60, 64, 67, 0.15);\n",
              "      fill: #174EA6;\n",
              "    }\n",
              "\n",
              "    [theme=dark] .colab-df-convert {\n",
              "      background-color: #3B4455;\n",
              "      fill: #D2E3FC;\n",
              "    }\n",
              "\n",
              "    [theme=dark] .colab-df-convert:hover {\n",
              "      background-color: #434B5C;\n",
              "      box-shadow: 0px 1px 3px 1px rgba(0, 0, 0, 0.15);\n",
              "      filter: drop-shadow(0px 1px 2px rgba(0, 0, 0, 0.3));\n",
              "      fill: #FFFFFF;\n",
              "    }\n",
              "  </style>\n",
              "\n",
              "      <script>\n",
              "        const buttonEl =\n",
              "          document.querySelector('#df-0e2126e1-2e46-48b4-85d1-468ba812013e button.colab-df-convert');\n",
              "        buttonEl.style.display =\n",
              "          google.colab.kernel.accessAllowed ? 'block' : 'none';\n",
              "\n",
              "        async function convertToInteractive(key) {\n",
              "          const element = document.querySelector('#df-0e2126e1-2e46-48b4-85d1-468ba812013e');\n",
              "          const dataTable =\n",
              "            await google.colab.kernel.invokeFunction('convertToInteractive',\n",
              "                                                     [key], {});\n",
              "          if (!dataTable) return;\n",
              "\n",
              "          const docLinkHtml = 'Like what you see? Visit the ' +\n",
              "            '<a target=\"_blank\" href=https://colab.research.google.com/notebooks/data_table.ipynb>data table notebook</a>'\n",
              "            + ' to learn more about interactive tables.';\n",
              "          element.innerHTML = '';\n",
              "          dataTable['output_type'] = 'display_data';\n",
              "          await google.colab.output.renderOutput(dataTable, element);\n",
              "          const docLink = document.createElement('div');\n",
              "          docLink.innerHTML = docLinkHtml;\n",
              "          element.appendChild(docLink);\n",
              "        }\n",
              "      </script>\n",
              "    </div>\n",
              "  </div>\n",
              "  "
            ],
            "text/plain": [
              "  bigram        MI            Xsq  ...  DeltaP12  FisherExact  RawCount\n",
              "0     自己  7.855905  128210.233241  ...  0.977867          0.0       555\n",
              "1     什麼  9.153258  192859.824384  ...  0.547635          0.0       339\n",
              "2     我們  6.183966   42280.224680  ...  0.446638          0.0       592\n",
              "3     台灣  8.126771  111740.169937  ...  0.693597          0.0       401\n",
              "4     沒有  6.394685   43012.134830  ...  0.164128          0.0       518\n",
              "\n",
              "[5 rows x 9 columns]"
            ]
          },
          "metadata": {},
          "execution_count": 28
        }
      ],
      "source": [
        "d = pd.DataFrame([{'bigram': x[0], **x[1]} for x in bi_asso][:5])\n",
        "# print(d.to_markdown(index=False, floatfmt=\".2f\", numalign=\"left\"))\n",
        "d"
      ]
    },
    {
      "cell_type": "markdown",
      "id": "hollow-antarctica",
      "metadata": {
        "id": "hollow-antarctica"
      },
      "source": [
        "### Node-Collocate Association\n",
        "\n",
        "The example below use the character sequence `我們` as the node and\n",
        "looks for collocates occurring on the immediate right (`left=0` and\n",
        "`right=1`) on the node. After computing association scores for each\n",
        "node-collocate pair, these pairs are sorted based on the MI measure. The\n",
        "data frame below shows the top-5 collocates with the highest MI scores\n",
        "(a minimum frequency threshold of 6 is applied) of the node `我們`."
      ]
    },
    {
      "cell_type": "code",
      "execution_count": 21,
      "id": "studied-district",
      "metadata": {
        "colab": {
          "base_uri": "https://localhost:8080/"
        },
        "outputId": "c1104b37-5df4-4a5e-f774-703710cf287b",
        "id": "studied-district"
      },
      "outputs": [
        {
          "output_type": "execute_result",
          "data": {
            "text/plain": [
              "('釘',\n",
              " {'DeltaP12': 0.0016848237685590844,\n",
              "  'DeltaP21': 0.33204500782950214,\n",
              "  'Dice': 0.0033613445378151263,\n",
              "  'FisherExact': 0.003866505328061448,\n",
              "  'Gsq': 9.493215334772461,\n",
              "  'MI': 8.012895027477056,\n",
              "  'RawCount': 1,\n",
              "  'Xsq': 256.6351579547297})"
            ]
          },
          "metadata": {},
          "execution_count": 21
        }
      ],
      "source": [
        "cql = \"\"\"\n",
        "[char=\"我\"] [char=\"們\"]\n",
        "\"\"\"\n",
        "collo = CC.collocates(cql, left=0, right=1, subcorp_idx=3, \n",
        "                      sort_by=\"MI\", alpha=0)\n",
        "collo[0]"
      ]
    },
    {
      "cell_type": "code",
      "execution_count": 27,
      "id": "athletic-oracle",
      "metadata": {
        "colab": {
          "base_uri": "https://localhost:8080/",
          "height": 206
        },
        "outputId": "8227af5e-4550-4e3f-f952-8fd8441bbea6",
        "id": "athletic-oracle"
      },
      "outputs": [
        {
          "output_type": "execute_result",
          "data": {
            "text/html": [
              "\n",
              "  <div id=\"df-56a1b217-6789-40b2-aaa3-a8731649c4d7\">\n",
              "    <div class=\"colab-df-container\">\n",
              "      <div>\n",
              "<style scoped>\n",
              "    .dataframe tbody tr th:only-of-type {\n",
              "        vertical-align: middle;\n",
              "    }\n",
              "\n",
              "    .dataframe tbody tr th {\n",
              "        vertical-align: top;\n",
              "    }\n",
              "\n",
              "    .dataframe thead th {\n",
              "        text-align: right;\n",
              "    }\n",
              "</style>\n",
              "<table border=\"1\" class=\"dataframe\">\n",
              "  <thead>\n",
              "    <tr style=\"text-align: right;\">\n",
              "      <th></th>\n",
              "      <th>char</th>\n",
              "      <th>MI</th>\n",
              "      <th>Xsq</th>\n",
              "      <th>Gsq</th>\n",
              "      <th>Dice</th>\n",
              "      <th>DeltaP21</th>\n",
              "      <th>DeltaP12</th>\n",
              "      <th>FisherExact</th>\n",
              "      <th>RawCount</th>\n",
              "    </tr>\n",
              "  </thead>\n",
              "  <tbody>\n",
              "    <tr>\n",
              "      <th>0</th>\n",
              "      <td>認</td>\n",
              "      <td>3.979880</td>\n",
              "      <td>124.857368</td>\n",
              "      <td>33.079250</td>\n",
              "      <td>0.017408</td>\n",
              "      <td>0.019090</td>\n",
              "      <td>0.014258</td>\n",
              "      <td>9.310853e-09</td>\n",
              "      <td>9</td>\n",
              "    </tr>\n",
              "    <tr>\n",
              "      <th>1</th>\n",
              "      <td>還</td>\n",
              "      <td>3.388404</td>\n",
              "      <td>77.315368</td>\n",
              "      <td>26.207677</td>\n",
              "      <td>0.014308</td>\n",
              "      <td>0.012241</td>\n",
              "      <td>0.013769</td>\n",
              "      <td>2.970053e-07</td>\n",
              "      <td>9</td>\n",
              "    </tr>\n",
              "    <tr>\n",
              "      <th>2</th>\n",
              "      <td>都</td>\n",
              "      <td>3.328575</td>\n",
              "      <td>122.653021</td>\n",
              "      <td>42.672214</td>\n",
              "      <td>0.017153</td>\n",
              "      <td>0.011704</td>\n",
              "      <td>0.022845</td>\n",
              "      <td>6.215205e-11</td>\n",
              "      <td>15</td>\n",
              "    </tr>\n",
              "    <tr>\n",
              "      <th>3</th>\n",
              "      <td>就</td>\n",
              "      <td>3.207562</td>\n",
              "      <td>125.435532</td>\n",
              "      <td>45.828371</td>\n",
              "      <td>0.016848</td>\n",
              "      <td>0.010664</td>\n",
              "      <td>0.025641</td>\n",
              "      <td>1.218295e-11</td>\n",
              "      <td>17</td>\n",
              "    </tr>\n",
              "    <tr>\n",
              "      <th>4</th>\n",
              "      <td>所</td>\n",
              "      <td>3.047111</td>\n",
              "      <td>76.926085</td>\n",
              "      <td>29.883052</td>\n",
              "      <td>0.013978</td>\n",
              "      <td>0.009399</td>\n",
              "      <td>0.017841</td>\n",
              "      <td>4.222232e-08</td>\n",
              "      <td>12</td>\n",
              "    </tr>\n",
              "  </tbody>\n",
              "</table>\n",
              "</div>\n",
              "      <button class=\"colab-df-convert\" onclick=\"convertToInteractive('df-56a1b217-6789-40b2-aaa3-a8731649c4d7')\"\n",
              "              title=\"Convert this dataframe to an interactive table.\"\n",
              "              style=\"display:none;\">\n",
              "        \n",
              "  <svg xmlns=\"http://www.w3.org/2000/svg\" height=\"24px\"viewBox=\"0 0 24 24\"\n",
              "       width=\"24px\">\n",
              "    <path d=\"M0 0h24v24H0V0z\" fill=\"none\"/>\n",
              "    <path d=\"M18.56 5.44l.94 2.06.94-2.06 2.06-.94-2.06-.94-.94-2.06-.94 2.06-2.06.94zm-11 1L8.5 8.5l.94-2.06 2.06-.94-2.06-.94L8.5 2.5l-.94 2.06-2.06.94zm10 10l.94 2.06.94-2.06 2.06-.94-2.06-.94-.94-2.06-.94 2.06-2.06.94z\"/><path d=\"M17.41 7.96l-1.37-1.37c-.4-.4-.92-.59-1.43-.59-.52 0-1.04.2-1.43.59L10.3 9.45l-7.72 7.72c-.78.78-.78 2.05 0 2.83L4 21.41c.39.39.9.59 1.41.59.51 0 1.02-.2 1.41-.59l7.78-7.78 2.81-2.81c.8-.78.8-2.07 0-2.86zM5.41 20L4 18.59l7.72-7.72 1.47 1.35L5.41 20z\"/>\n",
              "  </svg>\n",
              "      </button>\n",
              "      \n",
              "  <style>\n",
              "    .colab-df-container {\n",
              "      display:flex;\n",
              "      flex-wrap:wrap;\n",
              "      gap: 12px;\n",
              "    }\n",
              "\n",
              "    .colab-df-convert {\n",
              "      background-color: #E8F0FE;\n",
              "      border: none;\n",
              "      border-radius: 50%;\n",
              "      cursor: pointer;\n",
              "      display: none;\n",
              "      fill: #1967D2;\n",
              "      height: 32px;\n",
              "      padding: 0 0 0 0;\n",
              "      width: 32px;\n",
              "    }\n",
              "\n",
              "    .colab-df-convert:hover {\n",
              "      background-color: #E2EBFA;\n",
              "      box-shadow: 0px 1px 2px rgba(60, 64, 67, 0.3), 0px 1px 3px 1px rgba(60, 64, 67, 0.15);\n",
              "      fill: #174EA6;\n",
              "    }\n",
              "\n",
              "    [theme=dark] .colab-df-convert {\n",
              "      background-color: #3B4455;\n",
              "      fill: #D2E3FC;\n",
              "    }\n",
              "\n",
              "    [theme=dark] .colab-df-convert:hover {\n",
              "      background-color: #434B5C;\n",
              "      box-shadow: 0px 1px 3px 1px rgba(0, 0, 0, 0.15);\n",
              "      filter: drop-shadow(0px 1px 2px rgba(0, 0, 0, 0.3));\n",
              "      fill: #FFFFFF;\n",
              "    }\n",
              "  </style>\n",
              "\n",
              "      <script>\n",
              "        const buttonEl =\n",
              "          document.querySelector('#df-56a1b217-6789-40b2-aaa3-a8731649c4d7 button.colab-df-convert');\n",
              "        buttonEl.style.display =\n",
              "          google.colab.kernel.accessAllowed ? 'block' : 'none';\n",
              "\n",
              "        async function convertToInteractive(key) {\n",
              "          const element = document.querySelector('#df-56a1b217-6789-40b2-aaa3-a8731649c4d7');\n",
              "          const dataTable =\n",
              "            await google.colab.kernel.invokeFunction('convertToInteractive',\n",
              "                                                     [key], {});\n",
              "          if (!dataTable) return;\n",
              "\n",
              "          const docLinkHtml = 'Like what you see? Visit the ' +\n",
              "            '<a target=\"_blank\" href=https://colab.research.google.com/notebooks/data_table.ipynb>data table notebook</a>'\n",
              "            + ' to learn more about interactive tables.';\n",
              "          element.innerHTML = '';\n",
              "          dataTable['output_type'] = 'display_data';\n",
              "          await google.colab.output.renderOutput(dataTable, element);\n",
              "          const docLink = document.createElement('div');\n",
              "          docLink.innerHTML = docLinkHtml;\n",
              "          element.appendChild(docLink);\n",
              "        }\n",
              "      </script>\n",
              "    </div>\n",
              "  </div>\n",
              "  "
            ],
            "text/plain": [
              "  char        MI         Xsq  ...  DeltaP12   FisherExact  RawCount\n",
              "0    認  3.979880  124.857368  ...  0.014258  9.310853e-09         9\n",
              "1    還  3.388404   77.315368  ...  0.013769  2.970053e-07         9\n",
              "2    都  3.328575  122.653021  ...  0.022845  6.215205e-11        15\n",
              "3    就  3.207562  125.435532  ...  0.025641  1.218295e-11        17\n",
              "4    所  3.047111   76.926085  ...  0.017841  4.222232e-08        12\n",
              "\n",
              "[5 rows x 9 columns]"
            ]
          },
          "metadata": {},
          "execution_count": 27
        }
      ],
      "source": [
        "d = pd.DataFrame([{'char': x[0], **x[1]} for x in collo \n",
        "                  if x[1]['RawCount'] > 5][:5])\n",
        "#print(d.to_markdown(index=False, floatfmt=\".2f\", numalign=\"left\"))\n",
        "d"
      ]
    },
    {
      "cell_type": "markdown",
      "id": "geographic-influence",
      "metadata": {
        "id": "geographic-influence"
      },
      "source": [
        "## Productivity\n",
        "\n",
        "Finally, we demonstrate the usage of the tentative applications of\n",
        "Productivity measures \\[@baayen1993;@baayen2009\\] to character\n",
        "components. This is implemented in `CompoAnalysis.productivity()`. The\n",
        "categories for computing measures of productivity are defined based on\n",
        "the arguments passed."
      ]
    },
    {
      "cell_type": "code",
      "execution_count": 23,
      "id": "jewish-tutorial",
      "metadata": {
        "colab": {
          "base_uri": "https://localhost:8080/"
        },
        "outputId": "4a618e3b-84c0-4c56-8439-60f6f5de74e4",
        "id": "jewish-tutorial"
      },
      "outputs": [
        {
          "output_type": "execute_result",
          "data": {
            "text/plain": [
              "{'N': 1505967,\n",
              " 'NC': 5889,\n",
              " 'V1': 1896,\n",
              " 'V1C': 7,\n",
              " 'productivity': {'expanding': 0.003691983122362869,\n",
              "  'potential': 0.0011886568177958906,\n",
              "  'realized': 58}}"
            ]
          },
          "metadata": {},
          "execution_count": 23
        }
      ],
      "source": [
        "# Productivity of a radical\n",
        "CA.productivity(radical=\"广\", subcorp_idx=0)"
      ]
    },
    {
      "cell_type": "code",
      "execution_count": 24,
      "id": "golden-theory",
      "metadata": {
        "colab": {
          "base_uri": "https://localhost:8080/"
        },
        "outputId": "30d69fbe-ac97-49fb-9056-1829a1c30f79",
        "id": "golden-theory"
      },
      "outputs": [
        {
          "output_type": "execute_result",
          "data": {
            "text/plain": [
              "{'N': 1505967,\n",
              " 'NC': 1027,\n",
              " 'V1': 1896,\n",
              " 'V1C': 72,\n",
              " 'productivity': {'expanding': 0.0379746835443038,\n",
              "  'potential': 0.07010710808179163,\n",
              "  'realized': 178}}"
            ]
          },
          "metadata": {},
          "execution_count": 24
        }
      ],
      "source": [
        "# Productivity of a component\n",
        "CA.productivity(compo=\"虫\", idc=\"horz2\", pos=0, subcorp_idx=0)"
      ]
    },
    {
      "cell_type": "code",
      "execution_count": 25,
      "id": "burning-innocent",
      "metadata": {
        "colab": {
          "base_uri": "https://localhost:8080/",
          "height": 426
        },
        "outputId": "67a61899-f37d-496e-847a-08c77b8ef888",
        "id": "burning-innocent"
      },
      "outputs": [
        {
          "output_type": "execute_result",
          "data": {
            "text/html": [
              "\n",
              "  <div id=\"df-462b09f7-78db-46bf-984f-9e8ab1f5d7a8\">\n",
              "    <div class=\"colab-df-container\">\n",
              "      <div>\n",
              "<style scoped>\n",
              "    .dataframe tbody tr th:only-of-type {\n",
              "        vertical-align: middle;\n",
              "    }\n",
              "\n",
              "    .dataframe tbody tr th {\n",
              "        vertical-align: top;\n",
              "    }\n",
              "\n",
              "    .dataframe thead th {\n",
              "        text-align: right;\n",
              "    }\n",
              "</style>\n",
              "<table border=\"1\" class=\"dataframe\">\n",
              "  <thead>\n",
              "    <tr style=\"text-align: right;\">\n",
              "      <th></th>\n",
              "      <th>name</th>\n",
              "      <th>shape</th>\n",
              "      <th>realized</th>\n",
              "      <th>expanding</th>\n",
              "      <th>potential</th>\n",
              "      <th>V1C</th>\n",
              "      <th>V1</th>\n",
              "      <th>NC</th>\n",
              "      <th>N</th>\n",
              "    </tr>\n",
              "  </thead>\n",
              "  <tbody>\n",
              "    <tr>\n",
              "      <th>0</th>\n",
              "      <td>horz2</td>\n",
              "      <td>⿰</td>\n",
              "      <td>5436</td>\n",
              "      <td>0.719409</td>\n",
              "      <td>0.003115</td>\n",
              "      <td>1364</td>\n",
              "      <td>1896</td>\n",
              "      <td>437854</td>\n",
              "      <td>1505967</td>\n",
              "    </tr>\n",
              "    <tr>\n",
              "      <th>1</th>\n",
              "      <td>vert2</td>\n",
              "      <td>⿱</td>\n",
              "      <td>2045</td>\n",
              "      <td>0.219409</td>\n",
              "      <td>0.000741</td>\n",
              "      <td>416</td>\n",
              "      <td>1896</td>\n",
              "      <td>561357</td>\n",
              "      <td>1505967</td>\n",
              "    </tr>\n",
              "    <tr>\n",
              "      <th>2</th>\n",
              "      <td>horz3</td>\n",
              "      <td>⿲</td>\n",
              "      <td>35</td>\n",
              "      <td>0.001582</td>\n",
              "      <td>0.000481</td>\n",
              "      <td>3</td>\n",
              "      <td>1896</td>\n",
              "      <td>6240</td>\n",
              "      <td>1505967</td>\n",
              "    </tr>\n",
              "    <tr>\n",
              "      <th>3</th>\n",
              "      <td>vert3</td>\n",
              "      <td>⿳</td>\n",
              "      <td>80</td>\n",
              "      <td>0.005802</td>\n",
              "      <td>0.000765</td>\n",
              "      <td>11</td>\n",
              "      <td>1896</td>\n",
              "      <td>14371</td>\n",
              "      <td>1505967</td>\n",
              "    </tr>\n",
              "    <tr>\n",
              "      <th>4</th>\n",
              "      <td>encl</td>\n",
              "      <td>⿴</td>\n",
              "      <td>27</td>\n",
              "      <td>0.001582</td>\n",
              "      <td>0.000208</td>\n",
              "      <td>3</td>\n",
              "      <td>1896</td>\n",
              "      <td>14409</td>\n",
              "      <td>1505967</td>\n",
              "    </tr>\n",
              "    <tr>\n",
              "      <th>5</th>\n",
              "      <td>surN</td>\n",
              "      <td>⿵</td>\n",
              "      <td>84</td>\n",
              "      <td>0.004747</td>\n",
              "      <td>0.000357</td>\n",
              "      <td>9</td>\n",
              "      <td>1896</td>\n",
              "      <td>25231</td>\n",
              "      <td>1505967</td>\n",
              "    </tr>\n",
              "    <tr>\n",
              "      <th>6</th>\n",
              "      <td>surU</td>\n",
              "      <td>⿶</td>\n",
              "      <td>6</td>\n",
              "      <td>0.000000</td>\n",
              "      <td>0.000000</td>\n",
              "      <td>0</td>\n",
              "      <td>1896</td>\n",
              "      <td>7275</td>\n",
              "      <td>1505967</td>\n",
              "    </tr>\n",
              "    <tr>\n",
              "      <th>7</th>\n",
              "      <td>curC</td>\n",
              "      <td>⿷</td>\n",
              "      <td>20</td>\n",
              "      <td>0.002110</td>\n",
              "      <td>0.002438</td>\n",
              "      <td>4</td>\n",
              "      <td>1896</td>\n",
              "      <td>1641</td>\n",
              "      <td>1505967</td>\n",
              "    </tr>\n",
              "    <tr>\n",
              "      <th>8</th>\n",
              "      <td>surT</td>\n",
              "      <td>⿸</td>\n",
              "      <td>332</td>\n",
              "      <td>0.026371</td>\n",
              "      <td>0.000548</td>\n",
              "      <td>50</td>\n",
              "      <td>1896</td>\n",
              "      <td>91208</td>\n",
              "      <td>1505967</td>\n",
              "    </tr>\n",
              "    <tr>\n",
              "      <th>9</th>\n",
              "      <td>sur7</td>\n",
              "      <td>⿹</td>\n",
              "      <td>48</td>\n",
              "      <td>0.002637</td>\n",
              "      <td>0.000197</td>\n",
              "      <td>5</td>\n",
              "      <td>1896</td>\n",
              "      <td>25379</td>\n",
              "      <td>1505967</td>\n",
              "    </tr>\n",
              "    <tr>\n",
              "      <th>10</th>\n",
              "      <td>surL</td>\n",
              "      <td>⿺</td>\n",
              "      <td>178</td>\n",
              "      <td>0.013186</td>\n",
              "      <td>0.000931</td>\n",
              "      <td>25</td>\n",
              "      <td>1896</td>\n",
              "      <td>26844</td>\n",
              "      <td>1505967</td>\n",
              "    </tr>\n",
              "    <tr>\n",
              "      <th>11</th>\n",
              "      <td>over</td>\n",
              "      <td>⿻</td>\n",
              "      <td>43</td>\n",
              "      <td>0.000527</td>\n",
              "      <td>0.000026</td>\n",
              "      <td>1</td>\n",
              "      <td>1896</td>\n",
              "      <td>37846</td>\n",
              "      <td>1505967</td>\n",
              "    </tr>\n",
              "  </tbody>\n",
              "</table>\n",
              "</div>\n",
              "      <button class=\"colab-df-convert\" onclick=\"convertToInteractive('df-462b09f7-78db-46bf-984f-9e8ab1f5d7a8')\"\n",
              "              title=\"Convert this dataframe to an interactive table.\"\n",
              "              style=\"display:none;\">\n",
              "        \n",
              "  <svg xmlns=\"http://www.w3.org/2000/svg\" height=\"24px\"viewBox=\"0 0 24 24\"\n",
              "       width=\"24px\">\n",
              "    <path d=\"M0 0h24v24H0V0z\" fill=\"none\"/>\n",
              "    <path d=\"M18.56 5.44l.94 2.06.94-2.06 2.06-.94-2.06-.94-.94-2.06-.94 2.06-2.06.94zm-11 1L8.5 8.5l.94-2.06 2.06-.94-2.06-.94L8.5 2.5l-.94 2.06-2.06.94zm10 10l.94 2.06.94-2.06 2.06-.94-2.06-.94-.94-2.06-.94 2.06-2.06.94z\"/><path d=\"M17.41 7.96l-1.37-1.37c-.4-.4-.92-.59-1.43-.59-.52 0-1.04.2-1.43.59L10.3 9.45l-7.72 7.72c-.78.78-.78 2.05 0 2.83L4 21.41c.39.39.9.59 1.41.59.51 0 1.02-.2 1.41-.59l7.78-7.78 2.81-2.81c.8-.78.8-2.07 0-2.86zM5.41 20L4 18.59l7.72-7.72 1.47 1.35L5.41 20z\"/>\n",
              "  </svg>\n",
              "      </button>\n",
              "      \n",
              "  <style>\n",
              "    .colab-df-container {\n",
              "      display:flex;\n",
              "      flex-wrap:wrap;\n",
              "      gap: 12px;\n",
              "    }\n",
              "\n",
              "    .colab-df-convert {\n",
              "      background-color: #E8F0FE;\n",
              "      border: none;\n",
              "      border-radius: 50%;\n",
              "      cursor: pointer;\n",
              "      display: none;\n",
              "      fill: #1967D2;\n",
              "      height: 32px;\n",
              "      padding: 0 0 0 0;\n",
              "      width: 32px;\n",
              "    }\n",
              "\n",
              "    .colab-df-convert:hover {\n",
              "      background-color: #E2EBFA;\n",
              "      box-shadow: 0px 1px 2px rgba(60, 64, 67, 0.3), 0px 1px 3px 1px rgba(60, 64, 67, 0.15);\n",
              "      fill: #174EA6;\n",
              "    }\n",
              "\n",
              "    [theme=dark] .colab-df-convert {\n",
              "      background-color: #3B4455;\n",
              "      fill: #D2E3FC;\n",
              "    }\n",
              "\n",
              "    [theme=dark] .colab-df-convert:hover {\n",
              "      background-color: #434B5C;\n",
              "      box-shadow: 0px 1px 3px 1px rgba(0, 0, 0, 0.15);\n",
              "      filter: drop-shadow(0px 1px 2px rgba(0, 0, 0, 0.3));\n",
              "      fill: #FFFFFF;\n",
              "    }\n",
              "  </style>\n",
              "\n",
              "      <script>\n",
              "        const buttonEl =\n",
              "          document.querySelector('#df-462b09f7-78db-46bf-984f-9e8ab1f5d7a8 button.colab-df-convert');\n",
              "        buttonEl.style.display =\n",
              "          google.colab.kernel.accessAllowed ? 'block' : 'none';\n",
              "\n",
              "        async function convertToInteractive(key) {\n",
              "          const element = document.querySelector('#df-462b09f7-78db-46bf-984f-9e8ab1f5d7a8');\n",
              "          const dataTable =\n",
              "            await google.colab.kernel.invokeFunction('convertToInteractive',\n",
              "                                                     [key], {});\n",
              "          if (!dataTable) return;\n",
              "\n",
              "          const docLinkHtml = 'Like what you see? Visit the ' +\n",
              "            '<a target=\"_blank\" href=https://colab.research.google.com/notebooks/data_table.ipynb>data table notebook</a>'\n",
              "            + ' to learn more about interactive tables.';\n",
              "          element.innerHTML = '';\n",
              "          dataTable['output_type'] = 'display_data';\n",
              "          await google.colab.output.renderOutput(dataTable, element);\n",
              "          const docLink = document.createElement('div');\n",
              "          docLink.innerHTML = docLinkHtml;\n",
              "          element.appendChild(docLink);\n",
              "        }\n",
              "      </script>\n",
              "    </div>\n",
              "  </div>\n",
              "  "
            ],
            "text/plain": [
              "     name shape  realized  expanding  potential   V1C    V1      NC        N\n",
              "0   horz2     ⿰      5436   0.719409   0.003115  1364  1896  437854  1505967\n",
              "1   vert2     ⿱      2045   0.219409   0.000741   416  1896  561357  1505967\n",
              "2   horz3     ⿲        35   0.001582   0.000481     3  1896    6240  1505967\n",
              "3   vert3     ⿳        80   0.005802   0.000765    11  1896   14371  1505967\n",
              "4    encl     ⿴        27   0.001582   0.000208     3  1896   14409  1505967\n",
              "5    surN     ⿵        84   0.004747   0.000357     9  1896   25231  1505967\n",
              "6    surU     ⿶         6   0.000000   0.000000     0  1896    7275  1505967\n",
              "7    curC     ⿷        20   0.002110   0.002438     4  1896    1641  1505967\n",
              "8    surT     ⿸       332   0.026371   0.000548    50  1896   91208  1505967\n",
              "9    sur7     ⿹        48   0.002637   0.000197     5  1896   25379  1505967\n",
              "10   surL     ⿺       178   0.013186   0.000931    25  1896   26844  1505967\n",
              "11   over     ⿻        43   0.000527   0.000026     1  1896   37846  1505967"
            ]
          },
          "metadata": {},
          "execution_count": 25
        }
      ],
      "source": [
        "# Productivity of Hanzi shapes (IDCs)\n",
        "df_prod = []\n",
        "for idc_nm, idc_val in CC.chr_idcs.items():   \n",
        "    p = CA.productivity(idc=idc_nm, subcorp_idx=0)\n",
        "    df_prod.append({\n",
        "        'name': idc_nm, \n",
        "        'shape': idc_val, \n",
        "        **p['productivity'],\n",
        "        'V1C': p['V1C'],\n",
        "        'V1': p['V1'],\n",
        "        'NC': p['NC'],\n",
        "        'N': p['N'],\n",
        "    })\n",
        "\n",
        "df_prod = pd.DataFrame(df_prod)\n",
        "df_prod"
      ]
    }
  ],
  "metadata": {
    "kernelspec": {
      "display_name": "py3.8",
      "language": "python",
      "name": "py3.8"
    },
    "language_info": {
      "codemirror_mode": {
        "name": "ipython",
        "version": 3
      },
      "file_extension": ".py",
      "mimetype": "text/x-python",
      "name": "python",
      "nbconvert_exporter": "python",
      "pygments_lexer": "ipython3",
      "version": "3.8.10"
    },
    "colab": {
      "name": "corpusAnalysis.ipynb",
      "provenance": [],
      "include_colab_link": true
    },
    "widgets": {
      "application/vnd.jupyter.widget-state+json": {
        "58de1c717dba4b13b447b9c9d19e02b7": {
          "model_module": "@jupyter-widgets/controls",
          "model_name": "HBoxModel",
          "model_module_version": "1.5.0",
          "state": {
            "_view_name": "HBoxView",
            "_dom_classes": [],
            "_model_name": "HBoxModel",
            "_view_module": "@jupyter-widgets/controls",
            "_model_module_version": "1.5.0",
            "_view_count": null,
            "_view_module_version": "1.5.0",
            "box_style": "",
            "layout": "IPY_MODEL_dd4290c28d9d4cbf8966cc18beb1a8ab",
            "_model_module": "@jupyter-widgets/controls",
            "children": [
              "IPY_MODEL_bd52dd243f3b4caab0952b48f8e386cd",
              "IPY_MODEL_b20bad3ee50947429093a50e1fd22f5e",
              "IPY_MODEL_cc108a7e60894644abe9780e62b3d41b"
            ]
          }
        },
        "dd4290c28d9d4cbf8966cc18beb1a8ab": {
          "model_module": "@jupyter-widgets/base",
          "model_name": "LayoutModel",
          "model_module_version": "1.2.0",
          "state": {
            "_view_name": "LayoutView",
            "grid_template_rows": null,
            "right": null,
            "justify_content": null,
            "_view_module": "@jupyter-widgets/base",
            "overflow": null,
            "_model_module_version": "1.2.0",
            "_view_count": null,
            "flex_flow": null,
            "width": null,
            "min_width": null,
            "border": null,
            "align_items": null,
            "bottom": null,
            "_model_module": "@jupyter-widgets/base",
            "top": null,
            "grid_column": null,
            "overflow_y": null,
            "overflow_x": null,
            "grid_auto_flow": null,
            "grid_area": null,
            "grid_template_columns": null,
            "flex": null,
            "_model_name": "LayoutModel",
            "justify_items": null,
            "grid_row": null,
            "max_height": null,
            "align_content": null,
            "visibility": null,
            "align_self": null,
            "height": null,
            "min_height": null,
            "padding": null,
            "grid_auto_rows": null,
            "grid_gap": null,
            "max_width": null,
            "order": null,
            "_view_module_version": "1.2.0",
            "grid_template_areas": null,
            "object_position": null,
            "object_fit": null,
            "grid_auto_columns": null,
            "margin": null,
            "display": null,
            "left": null
          }
        },
        "bd52dd243f3b4caab0952b48f8e386cd": {
          "model_module": "@jupyter-widgets/controls",
          "model_name": "HTMLModel",
          "model_module_version": "1.5.0",
          "state": {
            "_view_name": "HTMLView",
            "style": "IPY_MODEL_f96adfcee7394407a337a26ec5644373",
            "_dom_classes": [],
            "description": "",
            "_model_name": "HTMLModel",
            "placeholder": "​",
            "_view_module": "@jupyter-widgets/controls",
            "_model_module_version": "1.5.0",
            "value": "100%",
            "_view_count": null,
            "_view_module_version": "1.5.0",
            "description_tooltip": null,
            "_model_module": "@jupyter-widgets/controls",
            "layout": "IPY_MODEL_dc57cf658fa545d1a47cdbc9cad96df2"
          }
        },
        "b20bad3ee50947429093a50e1fd22f5e": {
          "model_module": "@jupyter-widgets/controls",
          "model_name": "FloatProgressModel",
          "model_module_version": "1.5.0",
          "state": {
            "_view_name": "ProgressView",
            "style": "IPY_MODEL_07978b64c68f4eba806b78cffe066968",
            "_dom_classes": [],
            "description": "",
            "_model_name": "FloatProgressModel",
            "bar_style": "success",
            "max": 5,
            "_view_module": "@jupyter-widgets/controls",
            "_model_module_version": "1.5.0",
            "value": 5,
            "_view_count": null,
            "_view_module_version": "1.5.0",
            "orientation": "horizontal",
            "min": 0,
            "description_tooltip": null,
            "_model_module": "@jupyter-widgets/controls",
            "layout": "IPY_MODEL_58e4fff537e341b4b3fec89f8c263ac4"
          }
        },
        "cc108a7e60894644abe9780e62b3d41b": {
          "model_module": "@jupyter-widgets/controls",
          "model_name": "HTMLModel",
          "model_module_version": "1.5.0",
          "state": {
            "_view_name": "HTMLView",
            "style": "IPY_MODEL_0b51cdfca90343a2b8f3d2ad3ae6beef",
            "_dom_classes": [],
            "description": "",
            "_model_name": "HTMLModel",
            "placeholder": "​",
            "_view_module": "@jupyter-widgets/controls",
            "_model_module_version": "1.5.0",
            "value": " 5/5 [00:00&lt;00:00,  7.58it/s]",
            "_view_count": null,
            "_view_module_version": "1.5.0",
            "description_tooltip": null,
            "_model_module": "@jupyter-widgets/controls",
            "layout": "IPY_MODEL_50780d37d5074a29b23a93bcca5a5b15"
          }
        },
        "f96adfcee7394407a337a26ec5644373": {
          "model_module": "@jupyter-widgets/controls",
          "model_name": "DescriptionStyleModel",
          "model_module_version": "1.5.0",
          "state": {
            "_view_name": "StyleView",
            "_model_name": "DescriptionStyleModel",
            "description_width": "",
            "_view_module": "@jupyter-widgets/base",
            "_model_module_version": "1.5.0",
            "_view_count": null,
            "_view_module_version": "1.2.0",
            "_model_module": "@jupyter-widgets/controls"
          }
        },
        "dc57cf658fa545d1a47cdbc9cad96df2": {
          "model_module": "@jupyter-widgets/base",
          "model_name": "LayoutModel",
          "model_module_version": "1.2.0",
          "state": {
            "_view_name": "LayoutView",
            "grid_template_rows": null,
            "right": null,
            "justify_content": null,
            "_view_module": "@jupyter-widgets/base",
            "overflow": null,
            "_model_module_version": "1.2.0",
            "_view_count": null,
            "flex_flow": null,
            "width": null,
            "min_width": null,
            "border": null,
            "align_items": null,
            "bottom": null,
            "_model_module": "@jupyter-widgets/base",
            "top": null,
            "grid_column": null,
            "overflow_y": null,
            "overflow_x": null,
            "grid_auto_flow": null,
            "grid_area": null,
            "grid_template_columns": null,
            "flex": null,
            "_model_name": "LayoutModel",
            "justify_items": null,
            "grid_row": null,
            "max_height": null,
            "align_content": null,
            "visibility": null,
            "align_self": null,
            "height": null,
            "min_height": null,
            "padding": null,
            "grid_auto_rows": null,
            "grid_gap": null,
            "max_width": null,
            "order": null,
            "_view_module_version": "1.2.0",
            "grid_template_areas": null,
            "object_position": null,
            "object_fit": null,
            "grid_auto_columns": null,
            "margin": null,
            "display": null,
            "left": null
          }
        },
        "07978b64c68f4eba806b78cffe066968": {
          "model_module": "@jupyter-widgets/controls",
          "model_name": "ProgressStyleModel",
          "model_module_version": "1.5.0",
          "state": {
            "_view_name": "StyleView",
            "_model_name": "ProgressStyleModel",
            "description_width": "",
            "_view_module": "@jupyter-widgets/base",
            "_model_module_version": "1.5.0",
            "_view_count": null,
            "_view_module_version": "1.2.0",
            "bar_color": null,
            "_model_module": "@jupyter-widgets/controls"
          }
        },
        "58e4fff537e341b4b3fec89f8c263ac4": {
          "model_module": "@jupyter-widgets/base",
          "model_name": "LayoutModel",
          "model_module_version": "1.2.0",
          "state": {
            "_view_name": "LayoutView",
            "grid_template_rows": null,
            "right": null,
            "justify_content": null,
            "_view_module": "@jupyter-widgets/base",
            "overflow": null,
            "_model_module_version": "1.2.0",
            "_view_count": null,
            "flex_flow": null,
            "width": null,
            "min_width": null,
            "border": null,
            "align_items": null,
            "bottom": null,
            "_model_module": "@jupyter-widgets/base",
            "top": null,
            "grid_column": null,
            "overflow_y": null,
            "overflow_x": null,
            "grid_auto_flow": null,
            "grid_area": null,
            "grid_template_columns": null,
            "flex": null,
            "_model_name": "LayoutModel",
            "justify_items": null,
            "grid_row": null,
            "max_height": null,
            "align_content": null,
            "visibility": null,
            "align_self": null,
            "height": null,
            "min_height": null,
            "padding": null,
            "grid_auto_rows": null,
            "grid_gap": null,
            "max_width": null,
            "order": null,
            "_view_module_version": "1.2.0",
            "grid_template_areas": null,
            "object_position": null,
            "object_fit": null,
            "grid_auto_columns": null,
            "margin": null,
            "display": null,
            "left": null
          }
        },
        "0b51cdfca90343a2b8f3d2ad3ae6beef": {
          "model_module": "@jupyter-widgets/controls",
          "model_name": "DescriptionStyleModel",
          "model_module_version": "1.5.0",
          "state": {
            "_view_name": "StyleView",
            "_model_name": "DescriptionStyleModel",
            "description_width": "",
            "_view_module": "@jupyter-widgets/base",
            "_model_module_version": "1.5.0",
            "_view_count": null,
            "_view_module_version": "1.2.0",
            "_model_module": "@jupyter-widgets/controls"
          }
        },
        "50780d37d5074a29b23a93bcca5a5b15": {
          "model_module": "@jupyter-widgets/base",
          "model_name": "LayoutModel",
          "model_module_version": "1.2.0",
          "state": {
            "_view_name": "LayoutView",
            "grid_template_rows": null,
            "right": null,
            "justify_content": null,
            "_view_module": "@jupyter-widgets/base",
            "overflow": null,
            "_model_module_version": "1.2.0",
            "_view_count": null,
            "flex_flow": null,
            "width": null,
            "min_width": null,
            "border": null,
            "align_items": null,
            "bottom": null,
            "_model_module": "@jupyter-widgets/base",
            "top": null,
            "grid_column": null,
            "overflow_y": null,
            "overflow_x": null,
            "grid_auto_flow": null,
            "grid_area": null,
            "grid_template_columns": null,
            "flex": null,
            "_model_name": "LayoutModel",
            "justify_items": null,
            "grid_row": null,
            "max_height": null,
            "align_content": null,
            "visibility": null,
            "align_self": null,
            "height": null,
            "min_height": null,
            "padding": null,
            "grid_auto_rows": null,
            "grid_gap": null,
            "max_width": null,
            "order": null,
            "_view_module_version": "1.2.0",
            "grid_template_areas": null,
            "object_position": null,
            "object_fit": null,
            "grid_auto_columns": null,
            "margin": null,
            "display": null,
            "left": null
          }
        },
        "638bc9b3e1e740fcb0332d33fd692876": {
          "model_module": "@jupyter-widgets/controls",
          "model_name": "HBoxModel",
          "model_module_version": "1.5.0",
          "state": {
            "_view_name": "HBoxView",
            "_dom_classes": [],
            "_model_name": "HBoxModel",
            "_view_module": "@jupyter-widgets/controls",
            "_model_module_version": "1.5.0",
            "_view_count": null,
            "_view_module_version": "1.5.0",
            "box_style": "",
            "layout": "IPY_MODEL_bb167498542a42cf9757097de3ddfba7",
            "_model_module": "@jupyter-widgets/controls",
            "children": [
              "IPY_MODEL_47e1293f95ac47218b30b15d37f0ac66",
              "IPY_MODEL_6a85b8be14904ff5a850fb1359eec9da",
              "IPY_MODEL_0d60ec314a8141589b07752015c84b3c"
            ]
          }
        },
        "bb167498542a42cf9757097de3ddfba7": {
          "model_module": "@jupyter-widgets/base",
          "model_name": "LayoutModel",
          "model_module_version": "1.2.0",
          "state": {
            "_view_name": "LayoutView",
            "grid_template_rows": null,
            "right": null,
            "justify_content": null,
            "_view_module": "@jupyter-widgets/base",
            "overflow": null,
            "_model_module_version": "1.2.0",
            "_view_count": null,
            "flex_flow": null,
            "width": null,
            "min_width": null,
            "border": null,
            "align_items": null,
            "bottom": null,
            "_model_module": "@jupyter-widgets/base",
            "top": null,
            "grid_column": null,
            "overflow_y": null,
            "overflow_x": null,
            "grid_auto_flow": null,
            "grid_area": null,
            "grid_template_columns": null,
            "flex": null,
            "_model_name": "LayoutModel",
            "justify_items": null,
            "grid_row": null,
            "max_height": null,
            "align_content": null,
            "visibility": null,
            "align_self": null,
            "height": null,
            "min_height": null,
            "padding": null,
            "grid_auto_rows": null,
            "grid_gap": null,
            "max_width": null,
            "order": null,
            "_view_module_version": "1.2.0",
            "grid_template_areas": null,
            "object_position": null,
            "object_fit": null,
            "grid_auto_columns": null,
            "margin": null,
            "display": null,
            "left": null
          }
        },
        "47e1293f95ac47218b30b15d37f0ac66": {
          "model_module": "@jupyter-widgets/controls",
          "model_name": "HTMLModel",
          "model_module_version": "1.5.0",
          "state": {
            "_view_name": "HTMLView",
            "style": "IPY_MODEL_c363248ee2ac43169a8af061c2bddaef",
            "_dom_classes": [],
            "description": "",
            "_model_name": "HTMLModel",
            "placeholder": "​",
            "_view_module": "@jupyter-widgets/controls",
            "_model_module_version": "1.5.0",
            "value": "100%",
            "_view_count": null,
            "_view_module_version": "1.5.0",
            "description_tooltip": null,
            "_model_module": "@jupyter-widgets/controls",
            "layout": "IPY_MODEL_2e920477ea5d49b1b9889a88d6772c5a"
          }
        },
        "6a85b8be14904ff5a850fb1359eec9da": {
          "model_module": "@jupyter-widgets/controls",
          "model_name": "FloatProgressModel",
          "model_module_version": "1.5.0",
          "state": {
            "_view_name": "ProgressView",
            "style": "IPY_MODEL_cb4d702a712643bbabf4ec939337ee53",
            "_dom_classes": [],
            "description": "",
            "_model_name": "FloatProgressModel",
            "bar_style": "success",
            "max": 5,
            "_view_module": "@jupyter-widgets/controls",
            "_model_module_version": "1.5.0",
            "value": 5,
            "_view_count": null,
            "_view_module_version": "1.5.0",
            "orientation": "horizontal",
            "min": 0,
            "description_tooltip": null,
            "_model_module": "@jupyter-widgets/controls",
            "layout": "IPY_MODEL_4a862499ea504a59b77135c0861d4593"
          }
        },
        "0d60ec314a8141589b07752015c84b3c": {
          "model_module": "@jupyter-widgets/controls",
          "model_name": "HTMLModel",
          "model_module_version": "1.5.0",
          "state": {
            "_view_name": "HTMLView",
            "style": "IPY_MODEL_14e59c9e03d649aaa701c3b72eb8050b",
            "_dom_classes": [],
            "description": "",
            "_model_name": "HTMLModel",
            "placeholder": "​",
            "_view_module": "@jupyter-widgets/controls",
            "_model_module_version": "1.5.0",
            "value": " 5/5 [00:04&lt;00:00,  1.03s/it]",
            "_view_count": null,
            "_view_module_version": "1.5.0",
            "description_tooltip": null,
            "_model_module": "@jupyter-widgets/controls",
            "layout": "IPY_MODEL_a7c1b0eba7204ea0a1f2dad201b63f4c"
          }
        },
        "c363248ee2ac43169a8af061c2bddaef": {
          "model_module": "@jupyter-widgets/controls",
          "model_name": "DescriptionStyleModel",
          "model_module_version": "1.5.0",
          "state": {
            "_view_name": "StyleView",
            "_model_name": "DescriptionStyleModel",
            "description_width": "",
            "_view_module": "@jupyter-widgets/base",
            "_model_module_version": "1.5.0",
            "_view_count": null,
            "_view_module_version": "1.2.0",
            "_model_module": "@jupyter-widgets/controls"
          }
        },
        "2e920477ea5d49b1b9889a88d6772c5a": {
          "model_module": "@jupyter-widgets/base",
          "model_name": "LayoutModel",
          "model_module_version": "1.2.0",
          "state": {
            "_view_name": "LayoutView",
            "grid_template_rows": null,
            "right": null,
            "justify_content": null,
            "_view_module": "@jupyter-widgets/base",
            "overflow": null,
            "_model_module_version": "1.2.0",
            "_view_count": null,
            "flex_flow": null,
            "width": null,
            "min_width": null,
            "border": null,
            "align_items": null,
            "bottom": null,
            "_model_module": "@jupyter-widgets/base",
            "top": null,
            "grid_column": null,
            "overflow_y": null,
            "overflow_x": null,
            "grid_auto_flow": null,
            "grid_area": null,
            "grid_template_columns": null,
            "flex": null,
            "_model_name": "LayoutModel",
            "justify_items": null,
            "grid_row": null,
            "max_height": null,
            "align_content": null,
            "visibility": null,
            "align_self": null,
            "height": null,
            "min_height": null,
            "padding": null,
            "grid_auto_rows": null,
            "grid_gap": null,
            "max_width": null,
            "order": null,
            "_view_module_version": "1.2.0",
            "grid_template_areas": null,
            "object_position": null,
            "object_fit": null,
            "grid_auto_columns": null,
            "margin": null,
            "display": null,
            "left": null
          }
        },
        "cb4d702a712643bbabf4ec939337ee53": {
          "model_module": "@jupyter-widgets/controls",
          "model_name": "ProgressStyleModel",
          "model_module_version": "1.5.0",
          "state": {
            "_view_name": "StyleView",
            "_model_name": "ProgressStyleModel",
            "description_width": "",
            "_view_module": "@jupyter-widgets/base",
            "_model_module_version": "1.5.0",
            "_view_count": null,
            "_view_module_version": "1.2.0",
            "bar_color": null,
            "_model_module": "@jupyter-widgets/controls"
          }
        },
        "4a862499ea504a59b77135c0861d4593": {
          "model_module": "@jupyter-widgets/base",
          "model_name": "LayoutModel",
          "model_module_version": "1.2.0",
          "state": {
            "_view_name": "LayoutView",
            "grid_template_rows": null,
            "right": null,
            "justify_content": null,
            "_view_module": "@jupyter-widgets/base",
            "overflow": null,
            "_model_module_version": "1.2.0",
            "_view_count": null,
            "flex_flow": null,
            "width": null,
            "min_width": null,
            "border": null,
            "align_items": null,
            "bottom": null,
            "_model_module": "@jupyter-widgets/base",
            "top": null,
            "grid_column": null,
            "overflow_y": null,
            "overflow_x": null,
            "grid_auto_flow": null,
            "grid_area": null,
            "grid_template_columns": null,
            "flex": null,
            "_model_name": "LayoutModel",
            "justify_items": null,
            "grid_row": null,
            "max_height": null,
            "align_content": null,
            "visibility": null,
            "align_self": null,
            "height": null,
            "min_height": null,
            "padding": null,
            "grid_auto_rows": null,
            "grid_gap": null,
            "max_width": null,
            "order": null,
            "_view_module_version": "1.2.0",
            "grid_template_areas": null,
            "object_position": null,
            "object_fit": null,
            "grid_auto_columns": null,
            "margin": null,
            "display": null,
            "left": null
          }
        },
        "14e59c9e03d649aaa701c3b72eb8050b": {
          "model_module": "@jupyter-widgets/controls",
          "model_name": "DescriptionStyleModel",
          "model_module_version": "1.5.0",
          "state": {
            "_view_name": "StyleView",
            "_model_name": "DescriptionStyleModel",
            "description_width": "",
            "_view_module": "@jupyter-widgets/base",
            "_model_module_version": "1.5.0",
            "_view_count": null,
            "_view_module_version": "1.2.0",
            "_model_module": "@jupyter-widgets/controls"
          }
        },
        "a7c1b0eba7204ea0a1f2dad201b63f4c": {
          "model_module": "@jupyter-widgets/base",
          "model_name": "LayoutModel",
          "model_module_version": "1.2.0",
          "state": {
            "_view_name": "LayoutView",
            "grid_template_rows": null,
            "right": null,
            "justify_content": null,
            "_view_module": "@jupyter-widgets/base",
            "overflow": null,
            "_model_module_version": "1.2.0",
            "_view_count": null,
            "flex_flow": null,
            "width": null,
            "min_width": null,
            "border": null,
            "align_items": null,
            "bottom": null,
            "_model_module": "@jupyter-widgets/base",
            "top": null,
            "grid_column": null,
            "overflow_y": null,
            "overflow_x": null,
            "grid_auto_flow": null,
            "grid_area": null,
            "grid_template_columns": null,
            "flex": null,
            "_model_name": "LayoutModel",
            "justify_items": null,
            "grid_row": null,
            "max_height": null,
            "align_content": null,
            "visibility": null,
            "align_self": null,
            "height": null,
            "min_height": null,
            "padding": null,
            "grid_auto_rows": null,
            "grid_gap": null,
            "max_width": null,
            "order": null,
            "_view_module_version": "1.2.0",
            "grid_template_areas": null,
            "object_position": null,
            "object_fit": null,
            "grid_auto_columns": null,
            "margin": null,
            "display": null,
            "left": null
          }
        },
        "23eb85e2194a4cbb82db8031596b9b29": {
          "model_module": "@jupyter-widgets/controls",
          "model_name": "HBoxModel",
          "model_module_version": "1.5.0",
          "state": {
            "_view_name": "HBoxView",
            "_dom_classes": [],
            "_model_name": "HBoxModel",
            "_view_module": "@jupyter-widgets/controls",
            "_model_module_version": "1.5.0",
            "_view_count": null,
            "_view_module_version": "1.5.0",
            "box_style": "",
            "layout": "IPY_MODEL_4397a85ab84948e29b77b5c50be1f216",
            "_model_module": "@jupyter-widgets/controls",
            "children": [
              "IPY_MODEL_576cc28bcf4e4c6d8e92218b8433373a",
              "IPY_MODEL_4edfc7fe189a47f0a435f0ecc919af27",
              "IPY_MODEL_4308f42729be44a6b47ad3c472e70369"
            ]
          }
        },
        "4397a85ab84948e29b77b5c50be1f216": {
          "model_module": "@jupyter-widgets/base",
          "model_name": "LayoutModel",
          "model_module_version": "1.2.0",
          "state": {
            "_view_name": "LayoutView",
            "grid_template_rows": null,
            "right": null,
            "justify_content": null,
            "_view_module": "@jupyter-widgets/base",
            "overflow": null,
            "_model_module_version": "1.2.0",
            "_view_count": null,
            "flex_flow": null,
            "width": null,
            "min_width": null,
            "border": null,
            "align_items": null,
            "bottom": null,
            "_model_module": "@jupyter-widgets/base",
            "top": null,
            "grid_column": null,
            "overflow_y": null,
            "overflow_x": null,
            "grid_auto_flow": null,
            "grid_area": null,
            "grid_template_columns": null,
            "flex": null,
            "_model_name": "LayoutModel",
            "justify_items": null,
            "grid_row": null,
            "max_height": null,
            "align_content": null,
            "visibility": null,
            "align_self": null,
            "height": null,
            "min_height": null,
            "padding": null,
            "grid_auto_rows": null,
            "grid_gap": null,
            "max_width": null,
            "order": null,
            "_view_module_version": "1.2.0",
            "grid_template_areas": null,
            "object_position": null,
            "object_fit": null,
            "grid_auto_columns": null,
            "margin": null,
            "display": null,
            "left": null
          }
        },
        "576cc28bcf4e4c6d8e92218b8433373a": {
          "model_module": "@jupyter-widgets/controls",
          "model_name": "HTMLModel",
          "model_module_version": "1.5.0",
          "state": {
            "_view_name": "HTMLView",
            "style": "IPY_MODEL_1fdd6d63d3714b69abb742590029489e",
            "_dom_classes": [],
            "description": "",
            "_model_name": "HTMLModel",
            "placeholder": "​",
            "_view_module": "@jupyter-widgets/controls",
            "_model_module_version": "1.5.0",
            "value": "100%",
            "_view_count": null,
            "_view_module_version": "1.5.0",
            "description_tooltip": null,
            "_model_module": "@jupyter-widgets/controls",
            "layout": "IPY_MODEL_0ed1f3163b5d48c1bb17ed7650f78eb0"
          }
        },
        "4edfc7fe189a47f0a435f0ecc919af27": {
          "model_module": "@jupyter-widgets/controls",
          "model_name": "FloatProgressModel",
          "model_module_version": "1.5.0",
          "state": {
            "_view_name": "ProgressView",
            "style": "IPY_MODEL_0cde484113cd41969f5c838e515b5967",
            "_dom_classes": [],
            "description": "",
            "_model_name": "FloatProgressModel",
            "bar_style": "success",
            "max": 5,
            "_view_module": "@jupyter-widgets/controls",
            "_model_module_version": "1.5.0",
            "value": 5,
            "_view_count": null,
            "_view_module_version": "1.5.0",
            "orientation": "horizontal",
            "min": 0,
            "description_tooltip": null,
            "_model_module": "@jupyter-widgets/controls",
            "layout": "IPY_MODEL_19aba3ba6e4841e9874e985ce8cdead2"
          }
        },
        "4308f42729be44a6b47ad3c472e70369": {
          "model_module": "@jupyter-widgets/controls",
          "model_name": "HTMLModel",
          "model_module_version": "1.5.0",
          "state": {
            "_view_name": "HTMLView",
            "style": "IPY_MODEL_237e599d91404f1b845c7e6465b650d3",
            "_dom_classes": [],
            "description": "",
            "_model_name": "HTMLModel",
            "placeholder": "​",
            "_view_module": "@jupyter-widgets/controls",
            "_model_module_version": "1.5.0",
            "value": " 5/5 [00:00&lt;00:00, 134.38it/s]",
            "_view_count": null,
            "_view_module_version": "1.5.0",
            "description_tooltip": null,
            "_model_module": "@jupyter-widgets/controls",
            "layout": "IPY_MODEL_407a2b7f8205487eb10d0d7c2b00fcd2"
          }
        },
        "1fdd6d63d3714b69abb742590029489e": {
          "model_module": "@jupyter-widgets/controls",
          "model_name": "DescriptionStyleModel",
          "model_module_version": "1.5.0",
          "state": {
            "_view_name": "StyleView",
            "_model_name": "DescriptionStyleModel",
            "description_width": "",
            "_view_module": "@jupyter-widgets/base",
            "_model_module_version": "1.5.0",
            "_view_count": null,
            "_view_module_version": "1.2.0",
            "_model_module": "@jupyter-widgets/controls"
          }
        },
        "0ed1f3163b5d48c1bb17ed7650f78eb0": {
          "model_module": "@jupyter-widgets/base",
          "model_name": "LayoutModel",
          "model_module_version": "1.2.0",
          "state": {
            "_view_name": "LayoutView",
            "grid_template_rows": null,
            "right": null,
            "justify_content": null,
            "_view_module": "@jupyter-widgets/base",
            "overflow": null,
            "_model_module_version": "1.2.0",
            "_view_count": null,
            "flex_flow": null,
            "width": null,
            "min_width": null,
            "border": null,
            "align_items": null,
            "bottom": null,
            "_model_module": "@jupyter-widgets/base",
            "top": null,
            "grid_column": null,
            "overflow_y": null,
            "overflow_x": null,
            "grid_auto_flow": null,
            "grid_area": null,
            "grid_template_columns": null,
            "flex": null,
            "_model_name": "LayoutModel",
            "justify_items": null,
            "grid_row": null,
            "max_height": null,
            "align_content": null,
            "visibility": null,
            "align_self": null,
            "height": null,
            "min_height": null,
            "padding": null,
            "grid_auto_rows": null,
            "grid_gap": null,
            "max_width": null,
            "order": null,
            "_view_module_version": "1.2.0",
            "grid_template_areas": null,
            "object_position": null,
            "object_fit": null,
            "grid_auto_columns": null,
            "margin": null,
            "display": null,
            "left": null
          }
        },
        "0cde484113cd41969f5c838e515b5967": {
          "model_module": "@jupyter-widgets/controls",
          "model_name": "ProgressStyleModel",
          "model_module_version": "1.5.0",
          "state": {
            "_view_name": "StyleView",
            "_model_name": "ProgressStyleModel",
            "description_width": "",
            "_view_module": "@jupyter-widgets/base",
            "_model_module_version": "1.5.0",
            "_view_count": null,
            "_view_module_version": "1.2.0",
            "bar_color": null,
            "_model_module": "@jupyter-widgets/controls"
          }
        },
        "19aba3ba6e4841e9874e985ce8cdead2": {
          "model_module": "@jupyter-widgets/base",
          "model_name": "LayoutModel",
          "model_module_version": "1.2.0",
          "state": {
            "_view_name": "LayoutView",
            "grid_template_rows": null,
            "right": null,
            "justify_content": null,
            "_view_module": "@jupyter-widgets/base",
            "overflow": null,
            "_model_module_version": "1.2.0",
            "_view_count": null,
            "flex_flow": null,
            "width": null,
            "min_width": null,
            "border": null,
            "align_items": null,
            "bottom": null,
            "_model_module": "@jupyter-widgets/base",
            "top": null,
            "grid_column": null,
            "overflow_y": null,
            "overflow_x": null,
            "grid_auto_flow": null,
            "grid_area": null,
            "grid_template_columns": null,
            "flex": null,
            "_model_name": "LayoutModel",
            "justify_items": null,
            "grid_row": null,
            "max_height": null,
            "align_content": null,
            "visibility": null,
            "align_self": null,
            "height": null,
            "min_height": null,
            "padding": null,
            "grid_auto_rows": null,
            "grid_gap": null,
            "max_width": null,
            "order": null,
            "_view_module_version": "1.2.0",
            "grid_template_areas": null,
            "object_position": null,
            "object_fit": null,
            "grid_auto_columns": null,
            "margin": null,
            "display": null,
            "left": null
          }
        },
        "237e599d91404f1b845c7e6465b650d3": {
          "model_module": "@jupyter-widgets/controls",
          "model_name": "DescriptionStyleModel",
          "model_module_version": "1.5.0",
          "state": {
            "_view_name": "StyleView",
            "_model_name": "DescriptionStyleModel",
            "description_width": "",
            "_view_module": "@jupyter-widgets/base",
            "_model_module_version": "1.5.0",
            "_view_count": null,
            "_view_module_version": "1.2.0",
            "_model_module": "@jupyter-widgets/controls"
          }
        },
        "407a2b7f8205487eb10d0d7c2b00fcd2": {
          "model_module": "@jupyter-widgets/base",
          "model_name": "LayoutModel",
          "model_module_version": "1.2.0",
          "state": {
            "_view_name": "LayoutView",
            "grid_template_rows": null,
            "right": null,
            "justify_content": null,
            "_view_module": "@jupyter-widgets/base",
            "overflow": null,
            "_model_module_version": "1.2.0",
            "_view_count": null,
            "flex_flow": null,
            "width": null,
            "min_width": null,
            "border": null,
            "align_items": null,
            "bottom": null,
            "_model_module": "@jupyter-widgets/base",
            "top": null,
            "grid_column": null,
            "overflow_y": null,
            "overflow_x": null,
            "grid_auto_flow": null,
            "grid_area": null,
            "grid_template_columns": null,
            "flex": null,
            "_model_name": "LayoutModel",
            "justify_items": null,
            "grid_row": null,
            "max_height": null,
            "align_content": null,
            "visibility": null,
            "align_self": null,
            "height": null,
            "min_height": null,
            "padding": null,
            "grid_auto_rows": null,
            "grid_gap": null,
            "max_width": null,
            "order": null,
            "_view_module_version": "1.2.0",
            "grid_template_areas": null,
            "object_position": null,
            "object_fit": null,
            "grid_auto_columns": null,
            "margin": null,
            "display": null,
            "left": null
          }
        },
        "dbe1ae734bfa43baac59822da8c1059b": {
          "model_module": "@jupyter-widgets/controls",
          "model_name": "HBoxModel",
          "model_module_version": "1.5.0",
          "state": {
            "_view_name": "HBoxView",
            "_dom_classes": [],
            "_model_name": "HBoxModel",
            "_view_module": "@jupyter-widgets/controls",
            "_model_module_version": "1.5.0",
            "_view_count": null,
            "_view_module_version": "1.5.0",
            "box_style": "",
            "layout": "IPY_MODEL_ba90a9c4abc2470dbd40da2b96fc75c7",
            "_model_module": "@jupyter-widgets/controls",
            "children": [
              "IPY_MODEL_4b7427da57134c249271c2f3d4cc1c94",
              "IPY_MODEL_371bc352a1fe4f569b5923750b70d088",
              "IPY_MODEL_94550faf4a5342848c0f4df82c323d52"
            ]
          }
        },
        "ba90a9c4abc2470dbd40da2b96fc75c7": {
          "model_module": "@jupyter-widgets/base",
          "model_name": "LayoutModel",
          "model_module_version": "1.2.0",
          "state": {
            "_view_name": "LayoutView",
            "grid_template_rows": null,
            "right": null,
            "justify_content": null,
            "_view_module": "@jupyter-widgets/base",
            "overflow": null,
            "_model_module_version": "1.2.0",
            "_view_count": null,
            "flex_flow": null,
            "width": null,
            "min_width": null,
            "border": null,
            "align_items": null,
            "bottom": null,
            "_model_module": "@jupyter-widgets/base",
            "top": null,
            "grid_column": null,
            "overflow_y": null,
            "overflow_x": null,
            "grid_auto_flow": null,
            "grid_area": null,
            "grid_template_columns": null,
            "flex": null,
            "_model_name": "LayoutModel",
            "justify_items": null,
            "grid_row": null,
            "max_height": null,
            "align_content": null,
            "visibility": null,
            "align_self": null,
            "height": null,
            "min_height": null,
            "padding": null,
            "grid_auto_rows": null,
            "grid_gap": null,
            "max_width": null,
            "order": null,
            "_view_module_version": "1.2.0",
            "grid_template_areas": null,
            "object_position": null,
            "object_fit": null,
            "grid_auto_columns": null,
            "margin": null,
            "display": null,
            "left": null
          }
        },
        "4b7427da57134c249271c2f3d4cc1c94": {
          "model_module": "@jupyter-widgets/controls",
          "model_name": "HTMLModel",
          "model_module_version": "1.5.0",
          "state": {
            "_view_name": "HTMLView",
            "style": "IPY_MODEL_4d57f9e0d0ca4ef1971ca8c2b6d39b23",
            "_dom_classes": [],
            "description": "",
            "_model_name": "HTMLModel",
            "placeholder": "​",
            "_view_module": "@jupyter-widgets/controls",
            "_model_module_version": "1.5.0",
            "value": "100%",
            "_view_count": null,
            "_view_module_version": "1.5.0",
            "description_tooltip": null,
            "_model_module": "@jupyter-widgets/controls",
            "layout": "IPY_MODEL_47024355ff2043fe8a09e18b7b94442e"
          }
        },
        "371bc352a1fe4f569b5923750b70d088": {
          "model_module": "@jupyter-widgets/controls",
          "model_name": "FloatProgressModel",
          "model_module_version": "1.5.0",
          "state": {
            "_view_name": "ProgressView",
            "style": "IPY_MODEL_271a3e8a376c4db18c516604b8627943",
            "_dom_classes": [],
            "description": "",
            "_model_name": "FloatProgressModel",
            "bar_style": "success",
            "max": 5,
            "_view_module": "@jupyter-widgets/controls",
            "_model_module_version": "1.5.0",
            "value": 5,
            "_view_count": null,
            "_view_module_version": "1.5.0",
            "orientation": "horizontal",
            "min": 0,
            "description_tooltip": null,
            "_model_module": "@jupyter-widgets/controls",
            "layout": "IPY_MODEL_6074b80ea4464336a08b35fffeac758a"
          }
        },
        "94550faf4a5342848c0f4df82c323d52": {
          "model_module": "@jupyter-widgets/controls",
          "model_name": "HTMLModel",
          "model_module_version": "1.5.0",
          "state": {
            "_view_name": "HTMLView",
            "style": "IPY_MODEL_169128ae481c49818c5edcf4bae53100",
            "_dom_classes": [],
            "description": "",
            "_model_name": "HTMLModel",
            "placeholder": "​",
            "_view_module": "@jupyter-widgets/controls",
            "_model_module_version": "1.5.0",
            "value": " 5/5 [00:04&lt;00:00,  1.03s/it]",
            "_view_count": null,
            "_view_module_version": "1.5.0",
            "description_tooltip": null,
            "_model_module": "@jupyter-widgets/controls",
            "layout": "IPY_MODEL_df179ebbc727411bb64edfd4fe24a89f"
          }
        },
        "4d57f9e0d0ca4ef1971ca8c2b6d39b23": {
          "model_module": "@jupyter-widgets/controls",
          "model_name": "DescriptionStyleModel",
          "model_module_version": "1.5.0",
          "state": {
            "_view_name": "StyleView",
            "_model_name": "DescriptionStyleModel",
            "description_width": "",
            "_view_module": "@jupyter-widgets/base",
            "_model_module_version": "1.5.0",
            "_view_count": null,
            "_view_module_version": "1.2.0",
            "_model_module": "@jupyter-widgets/controls"
          }
        },
        "47024355ff2043fe8a09e18b7b94442e": {
          "model_module": "@jupyter-widgets/base",
          "model_name": "LayoutModel",
          "model_module_version": "1.2.0",
          "state": {
            "_view_name": "LayoutView",
            "grid_template_rows": null,
            "right": null,
            "justify_content": null,
            "_view_module": "@jupyter-widgets/base",
            "overflow": null,
            "_model_module_version": "1.2.0",
            "_view_count": null,
            "flex_flow": null,
            "width": null,
            "min_width": null,
            "border": null,
            "align_items": null,
            "bottom": null,
            "_model_module": "@jupyter-widgets/base",
            "top": null,
            "grid_column": null,
            "overflow_y": null,
            "overflow_x": null,
            "grid_auto_flow": null,
            "grid_area": null,
            "grid_template_columns": null,
            "flex": null,
            "_model_name": "LayoutModel",
            "justify_items": null,
            "grid_row": null,
            "max_height": null,
            "align_content": null,
            "visibility": null,
            "align_self": null,
            "height": null,
            "min_height": null,
            "padding": null,
            "grid_auto_rows": null,
            "grid_gap": null,
            "max_width": null,
            "order": null,
            "_view_module_version": "1.2.0",
            "grid_template_areas": null,
            "object_position": null,
            "object_fit": null,
            "grid_auto_columns": null,
            "margin": null,
            "display": null,
            "left": null
          }
        },
        "271a3e8a376c4db18c516604b8627943": {
          "model_module": "@jupyter-widgets/controls",
          "model_name": "ProgressStyleModel",
          "model_module_version": "1.5.0",
          "state": {
            "_view_name": "StyleView",
            "_model_name": "ProgressStyleModel",
            "description_width": "",
            "_view_module": "@jupyter-widgets/base",
            "_model_module_version": "1.5.0",
            "_view_count": null,
            "_view_module_version": "1.2.0",
            "bar_color": null,
            "_model_module": "@jupyter-widgets/controls"
          }
        },
        "6074b80ea4464336a08b35fffeac758a": {
          "model_module": "@jupyter-widgets/base",
          "model_name": "LayoutModel",
          "model_module_version": "1.2.0",
          "state": {
            "_view_name": "LayoutView",
            "grid_template_rows": null,
            "right": null,
            "justify_content": null,
            "_view_module": "@jupyter-widgets/base",
            "overflow": null,
            "_model_module_version": "1.2.0",
            "_view_count": null,
            "flex_flow": null,
            "width": null,
            "min_width": null,
            "border": null,
            "align_items": null,
            "bottom": null,
            "_model_module": "@jupyter-widgets/base",
            "top": null,
            "grid_column": null,
            "overflow_y": null,
            "overflow_x": null,
            "grid_auto_flow": null,
            "grid_area": null,
            "grid_template_columns": null,
            "flex": null,
            "_model_name": "LayoutModel",
            "justify_items": null,
            "grid_row": null,
            "max_height": null,
            "align_content": null,
            "visibility": null,
            "align_self": null,
            "height": null,
            "min_height": null,
            "padding": null,
            "grid_auto_rows": null,
            "grid_gap": null,
            "max_width": null,
            "order": null,
            "_view_module_version": "1.2.0",
            "grid_template_areas": null,
            "object_position": null,
            "object_fit": null,
            "grid_auto_columns": null,
            "margin": null,
            "display": null,
            "left": null
          }
        },
        "169128ae481c49818c5edcf4bae53100": {
          "model_module": "@jupyter-widgets/controls",
          "model_name": "DescriptionStyleModel",
          "model_module_version": "1.5.0",
          "state": {
            "_view_name": "StyleView",
            "_model_name": "DescriptionStyleModel",
            "description_width": "",
            "_view_module": "@jupyter-widgets/base",
            "_model_module_version": "1.5.0",
            "_view_count": null,
            "_view_module_version": "1.2.0",
            "_model_module": "@jupyter-widgets/controls"
          }
        },
        "df179ebbc727411bb64edfd4fe24a89f": {
          "model_module": "@jupyter-widgets/base",
          "model_name": "LayoutModel",
          "model_module_version": "1.2.0",
          "state": {
            "_view_name": "LayoutView",
            "grid_template_rows": null,
            "right": null,
            "justify_content": null,
            "_view_module": "@jupyter-widgets/base",
            "overflow": null,
            "_model_module_version": "1.2.0",
            "_view_count": null,
            "flex_flow": null,
            "width": null,
            "min_width": null,
            "border": null,
            "align_items": null,
            "bottom": null,
            "_model_module": "@jupyter-widgets/base",
            "top": null,
            "grid_column": null,
            "overflow_y": null,
            "overflow_x": null,
            "grid_auto_flow": null,
            "grid_area": null,
            "grid_template_columns": null,
            "flex": null,
            "_model_name": "LayoutModel",
            "justify_items": null,
            "grid_row": null,
            "max_height": null,
            "align_content": null,
            "visibility": null,
            "align_self": null,
            "height": null,
            "min_height": null,
            "padding": null,
            "grid_auto_rows": null,
            "grid_gap": null,
            "max_width": null,
            "order": null,
            "_view_module_version": "1.2.0",
            "grid_template_areas": null,
            "object_position": null,
            "object_fit": null,
            "grid_auto_columns": null,
            "margin": null,
            "display": null,
            "left": null
          }
        },
        "bb5037e60ea8460abcc2e2050bd94200": {
          "model_module": "@jupyter-widgets/controls",
          "model_name": "HBoxModel",
          "model_module_version": "1.5.0",
          "state": {
            "_view_name": "HBoxView",
            "_dom_classes": [],
            "_model_name": "HBoxModel",
            "_view_module": "@jupyter-widgets/controls",
            "_model_module_version": "1.5.0",
            "_view_count": null,
            "_view_module_version": "1.5.0",
            "box_style": "",
            "layout": "IPY_MODEL_d40582fa7fba42c29ecdb5f8a7a322ae",
            "_model_module": "@jupyter-widgets/controls",
            "children": [
              "IPY_MODEL_3d41992659e54e94a501d9b3fe2e3084",
              "IPY_MODEL_f374c6ce1019481dac77983ce5c3d62b",
              "IPY_MODEL_820e34aad56548dc87f41e26c70ba1dc"
            ]
          }
        },
        "d40582fa7fba42c29ecdb5f8a7a322ae": {
          "model_module": "@jupyter-widgets/base",
          "model_name": "LayoutModel",
          "model_module_version": "1.2.0",
          "state": {
            "_view_name": "LayoutView",
            "grid_template_rows": null,
            "right": null,
            "justify_content": null,
            "_view_module": "@jupyter-widgets/base",
            "overflow": null,
            "_model_module_version": "1.2.0",
            "_view_count": null,
            "flex_flow": null,
            "width": null,
            "min_width": null,
            "border": null,
            "align_items": null,
            "bottom": null,
            "_model_module": "@jupyter-widgets/base",
            "top": null,
            "grid_column": null,
            "overflow_y": null,
            "overflow_x": null,
            "grid_auto_flow": null,
            "grid_area": null,
            "grid_template_columns": null,
            "flex": null,
            "_model_name": "LayoutModel",
            "justify_items": null,
            "grid_row": null,
            "max_height": null,
            "align_content": null,
            "visibility": null,
            "align_self": null,
            "height": null,
            "min_height": null,
            "padding": null,
            "grid_auto_rows": null,
            "grid_gap": null,
            "max_width": null,
            "order": null,
            "_view_module_version": "1.2.0",
            "grid_template_areas": null,
            "object_position": null,
            "object_fit": null,
            "grid_auto_columns": null,
            "margin": null,
            "display": null,
            "left": null
          }
        },
        "3d41992659e54e94a501d9b3fe2e3084": {
          "model_module": "@jupyter-widgets/controls",
          "model_name": "HTMLModel",
          "model_module_version": "1.5.0",
          "state": {
            "_view_name": "HTMLView",
            "style": "IPY_MODEL_25c0e98bdce9447498e5de5b4f8e1d2f",
            "_dom_classes": [],
            "description": "",
            "_model_name": "HTMLModel",
            "placeholder": "​",
            "_view_module": "@jupyter-widgets/controls",
            "_model_module_version": "1.5.0",
            "value": "100%",
            "_view_count": null,
            "_view_module_version": "1.5.0",
            "description_tooltip": null,
            "_model_module": "@jupyter-widgets/controls",
            "layout": "IPY_MODEL_db1aa77d6135477880513a60f4cc5044"
          }
        },
        "f374c6ce1019481dac77983ce5c3d62b": {
          "model_module": "@jupyter-widgets/controls",
          "model_name": "FloatProgressModel",
          "model_module_version": "1.5.0",
          "state": {
            "_view_name": "ProgressView",
            "style": "IPY_MODEL_19597326b91c4f99b51876669299eade",
            "_dom_classes": [],
            "description": "",
            "_model_name": "FloatProgressModel",
            "bar_style": "success",
            "max": 5,
            "_view_module": "@jupyter-widgets/controls",
            "_model_module_version": "1.5.0",
            "value": 5,
            "_view_count": null,
            "_view_module_version": "1.5.0",
            "orientation": "horizontal",
            "min": 0,
            "description_tooltip": null,
            "_model_module": "@jupyter-widgets/controls",
            "layout": "IPY_MODEL_8841ab7e360c4410ae64759bfda596bb"
          }
        },
        "820e34aad56548dc87f41e26c70ba1dc": {
          "model_module": "@jupyter-widgets/controls",
          "model_name": "HTMLModel",
          "model_module_version": "1.5.0",
          "state": {
            "_view_name": "HTMLView",
            "style": "IPY_MODEL_c72e160e090e4338bddae311f5ab4a12",
            "_dom_classes": [],
            "description": "",
            "_model_name": "HTMLModel",
            "placeholder": "​",
            "_view_module": "@jupyter-widgets/controls",
            "_model_module_version": "1.5.0",
            "value": " 5/5 [00:19&lt;00:00,  4.07s/it]",
            "_view_count": null,
            "_view_module_version": "1.5.0",
            "description_tooltip": null,
            "_model_module": "@jupyter-widgets/controls",
            "layout": "IPY_MODEL_196f2772f703455296742a73f3e56e1a"
          }
        },
        "25c0e98bdce9447498e5de5b4f8e1d2f": {
          "model_module": "@jupyter-widgets/controls",
          "model_name": "DescriptionStyleModel",
          "model_module_version": "1.5.0",
          "state": {
            "_view_name": "StyleView",
            "_model_name": "DescriptionStyleModel",
            "description_width": "",
            "_view_module": "@jupyter-widgets/base",
            "_model_module_version": "1.5.0",
            "_view_count": null,
            "_view_module_version": "1.2.0",
            "_model_module": "@jupyter-widgets/controls"
          }
        },
        "db1aa77d6135477880513a60f4cc5044": {
          "model_module": "@jupyter-widgets/base",
          "model_name": "LayoutModel",
          "model_module_version": "1.2.0",
          "state": {
            "_view_name": "LayoutView",
            "grid_template_rows": null,
            "right": null,
            "justify_content": null,
            "_view_module": "@jupyter-widgets/base",
            "overflow": null,
            "_model_module_version": "1.2.0",
            "_view_count": null,
            "flex_flow": null,
            "width": null,
            "min_width": null,
            "border": null,
            "align_items": null,
            "bottom": null,
            "_model_module": "@jupyter-widgets/base",
            "top": null,
            "grid_column": null,
            "overflow_y": null,
            "overflow_x": null,
            "grid_auto_flow": null,
            "grid_area": null,
            "grid_template_columns": null,
            "flex": null,
            "_model_name": "LayoutModel",
            "justify_items": null,
            "grid_row": null,
            "max_height": null,
            "align_content": null,
            "visibility": null,
            "align_self": null,
            "height": null,
            "min_height": null,
            "padding": null,
            "grid_auto_rows": null,
            "grid_gap": null,
            "max_width": null,
            "order": null,
            "_view_module_version": "1.2.0",
            "grid_template_areas": null,
            "object_position": null,
            "object_fit": null,
            "grid_auto_columns": null,
            "margin": null,
            "display": null,
            "left": null
          }
        },
        "19597326b91c4f99b51876669299eade": {
          "model_module": "@jupyter-widgets/controls",
          "model_name": "ProgressStyleModel",
          "model_module_version": "1.5.0",
          "state": {
            "_view_name": "StyleView",
            "_model_name": "ProgressStyleModel",
            "description_width": "",
            "_view_module": "@jupyter-widgets/base",
            "_model_module_version": "1.5.0",
            "_view_count": null,
            "_view_module_version": "1.2.0",
            "bar_color": null,
            "_model_module": "@jupyter-widgets/controls"
          }
        },
        "8841ab7e360c4410ae64759bfda596bb": {
          "model_module": "@jupyter-widgets/base",
          "model_name": "LayoutModel",
          "model_module_version": "1.2.0",
          "state": {
            "_view_name": "LayoutView",
            "grid_template_rows": null,
            "right": null,
            "justify_content": null,
            "_view_module": "@jupyter-widgets/base",
            "overflow": null,
            "_model_module_version": "1.2.0",
            "_view_count": null,
            "flex_flow": null,
            "width": null,
            "min_width": null,
            "border": null,
            "align_items": null,
            "bottom": null,
            "_model_module": "@jupyter-widgets/base",
            "top": null,
            "grid_column": null,
            "overflow_y": null,
            "overflow_x": null,
            "grid_auto_flow": null,
            "grid_area": null,
            "grid_template_columns": null,
            "flex": null,
            "_model_name": "LayoutModel",
            "justify_items": null,
            "grid_row": null,
            "max_height": null,
            "align_content": null,
            "visibility": null,
            "align_self": null,
            "height": null,
            "min_height": null,
            "padding": null,
            "grid_auto_rows": null,
            "grid_gap": null,
            "max_width": null,
            "order": null,
            "_view_module_version": "1.2.0",
            "grid_template_areas": null,
            "object_position": null,
            "object_fit": null,
            "grid_auto_columns": null,
            "margin": null,
            "display": null,
            "left": null
          }
        },
        "c72e160e090e4338bddae311f5ab4a12": {
          "model_module": "@jupyter-widgets/controls",
          "model_name": "DescriptionStyleModel",
          "model_module_version": "1.5.0",
          "state": {
            "_view_name": "StyleView",
            "_model_name": "DescriptionStyleModel",
            "description_width": "",
            "_view_module": "@jupyter-widgets/base",
            "_model_module_version": "1.5.0",
            "_view_count": null,
            "_view_module_version": "1.2.0",
            "_model_module": "@jupyter-widgets/controls"
          }
        },
        "196f2772f703455296742a73f3e56e1a": {
          "model_module": "@jupyter-widgets/base",
          "model_name": "LayoutModel",
          "model_module_version": "1.2.0",
          "state": {
            "_view_name": "LayoutView",
            "grid_template_rows": null,
            "right": null,
            "justify_content": null,
            "_view_module": "@jupyter-widgets/base",
            "overflow": null,
            "_model_module_version": "1.2.0",
            "_view_count": null,
            "flex_flow": null,
            "width": null,
            "min_width": null,
            "border": null,
            "align_items": null,
            "bottom": null,
            "_model_module": "@jupyter-widgets/base",
            "top": null,
            "grid_column": null,
            "overflow_y": null,
            "overflow_x": null,
            "grid_auto_flow": null,
            "grid_area": null,
            "grid_template_columns": null,
            "flex": null,
            "_model_name": "LayoutModel",
            "justify_items": null,
            "grid_row": null,
            "max_height": null,
            "align_content": null,
            "visibility": null,
            "align_self": null,
            "height": null,
            "min_height": null,
            "padding": null,
            "grid_auto_rows": null,
            "grid_gap": null,
            "max_width": null,
            "order": null,
            "_view_module_version": "1.2.0",
            "grid_template_areas": null,
            "object_position": null,
            "object_fit": null,
            "grid_auto_columns": null,
            "margin": null,
            "display": null,
            "left": null
          }
        },
        "98917c323e1943c694386d79c257604f": {
          "model_module": "@jupyter-widgets/controls",
          "model_name": "HBoxModel",
          "model_module_version": "1.5.0",
          "state": {
            "_view_name": "HBoxView",
            "_dom_classes": [],
            "_model_name": "HBoxModel",
            "_view_module": "@jupyter-widgets/controls",
            "_model_module_version": "1.5.0",
            "_view_count": null,
            "_view_module_version": "1.5.0",
            "box_style": "",
            "layout": "IPY_MODEL_5d3e17e5ef2f43d8812b712d84898b29",
            "_model_module": "@jupyter-widgets/controls",
            "children": [
              "IPY_MODEL_ce813239f1c4493aaf1dd3d519d6477c",
              "IPY_MODEL_3f73f070c07c4dbaaf4464b9e046eaba",
              "IPY_MODEL_06739c6d78fe4e9b99a3d1b0f5fe087e"
            ]
          }
        },
        "5d3e17e5ef2f43d8812b712d84898b29": {
          "model_module": "@jupyter-widgets/base",
          "model_name": "LayoutModel",
          "model_module_version": "1.2.0",
          "state": {
            "_view_name": "LayoutView",
            "grid_template_rows": null,
            "right": null,
            "justify_content": null,
            "_view_module": "@jupyter-widgets/base",
            "overflow": null,
            "_model_module_version": "1.2.0",
            "_view_count": null,
            "flex_flow": null,
            "width": null,
            "min_width": null,
            "border": null,
            "align_items": null,
            "bottom": null,
            "_model_module": "@jupyter-widgets/base",
            "top": null,
            "grid_column": null,
            "overflow_y": null,
            "overflow_x": null,
            "grid_auto_flow": null,
            "grid_area": null,
            "grid_template_columns": null,
            "flex": null,
            "_model_name": "LayoutModel",
            "justify_items": null,
            "grid_row": null,
            "max_height": null,
            "align_content": null,
            "visibility": null,
            "align_self": null,
            "height": null,
            "min_height": null,
            "padding": null,
            "grid_auto_rows": null,
            "grid_gap": null,
            "max_width": null,
            "order": null,
            "_view_module_version": "1.2.0",
            "grid_template_areas": null,
            "object_position": null,
            "object_fit": null,
            "grid_auto_columns": null,
            "margin": null,
            "display": null,
            "left": null
          }
        },
        "ce813239f1c4493aaf1dd3d519d6477c": {
          "model_module": "@jupyter-widgets/controls",
          "model_name": "HTMLModel",
          "model_module_version": "1.5.0",
          "state": {
            "_view_name": "HTMLView",
            "style": "IPY_MODEL_4c4d05668654499db16f121c0eea03d5",
            "_dom_classes": [],
            "description": "",
            "_model_name": "HTMLModel",
            "placeholder": "​",
            "_view_module": "@jupyter-widgets/controls",
            "_model_module_version": "1.5.0",
            "value": "100%",
            "_view_count": null,
            "_view_module_version": "1.5.0",
            "description_tooltip": null,
            "_model_module": "@jupyter-widgets/controls",
            "layout": "IPY_MODEL_bb408a1b31b246a78260e84657e330f0"
          }
        },
        "3f73f070c07c4dbaaf4464b9e046eaba": {
          "model_module": "@jupyter-widgets/controls",
          "model_name": "FloatProgressModel",
          "model_module_version": "1.5.0",
          "state": {
            "_view_name": "ProgressView",
            "style": "IPY_MODEL_c0c340d0ddae475e8b937959fd7cdd79",
            "_dom_classes": [],
            "description": "",
            "_model_name": "FloatProgressModel",
            "bar_style": "success",
            "max": 5,
            "_view_module": "@jupyter-widgets/controls",
            "_model_module_version": "1.5.0",
            "value": 5,
            "_view_count": null,
            "_view_module_version": "1.5.0",
            "orientation": "horizontal",
            "min": 0,
            "description_tooltip": null,
            "_model_module": "@jupyter-widgets/controls",
            "layout": "IPY_MODEL_7a2ee28b49ff440caae0248c44a1f476"
          }
        },
        "06739c6d78fe4e9b99a3d1b0f5fe087e": {
          "model_module": "@jupyter-widgets/controls",
          "model_name": "HTMLModel",
          "model_module_version": "1.5.0",
          "state": {
            "_view_name": "HTMLView",
            "style": "IPY_MODEL_36f56677c0cc444884520efee5c5072c",
            "_dom_classes": [],
            "description": "",
            "_model_name": "HTMLModel",
            "placeholder": "​",
            "_view_module": "@jupyter-widgets/controls",
            "_model_module_version": "1.5.0",
            "value": " 5/5 [00:19&lt;00:00,  4.23s/it]",
            "_view_count": null,
            "_view_module_version": "1.5.0",
            "description_tooltip": null,
            "_model_module": "@jupyter-widgets/controls",
            "layout": "IPY_MODEL_1e00e3f732c5426ba3d50dada70d9da2"
          }
        },
        "4c4d05668654499db16f121c0eea03d5": {
          "model_module": "@jupyter-widgets/controls",
          "model_name": "DescriptionStyleModel",
          "model_module_version": "1.5.0",
          "state": {
            "_view_name": "StyleView",
            "_model_name": "DescriptionStyleModel",
            "description_width": "",
            "_view_module": "@jupyter-widgets/base",
            "_model_module_version": "1.5.0",
            "_view_count": null,
            "_view_module_version": "1.2.0",
            "_model_module": "@jupyter-widgets/controls"
          }
        },
        "bb408a1b31b246a78260e84657e330f0": {
          "model_module": "@jupyter-widgets/base",
          "model_name": "LayoutModel",
          "model_module_version": "1.2.0",
          "state": {
            "_view_name": "LayoutView",
            "grid_template_rows": null,
            "right": null,
            "justify_content": null,
            "_view_module": "@jupyter-widgets/base",
            "overflow": null,
            "_model_module_version": "1.2.0",
            "_view_count": null,
            "flex_flow": null,
            "width": null,
            "min_width": null,
            "border": null,
            "align_items": null,
            "bottom": null,
            "_model_module": "@jupyter-widgets/base",
            "top": null,
            "grid_column": null,
            "overflow_y": null,
            "overflow_x": null,
            "grid_auto_flow": null,
            "grid_area": null,
            "grid_template_columns": null,
            "flex": null,
            "_model_name": "LayoutModel",
            "justify_items": null,
            "grid_row": null,
            "max_height": null,
            "align_content": null,
            "visibility": null,
            "align_self": null,
            "height": null,
            "min_height": null,
            "padding": null,
            "grid_auto_rows": null,
            "grid_gap": null,
            "max_width": null,
            "order": null,
            "_view_module_version": "1.2.0",
            "grid_template_areas": null,
            "object_position": null,
            "object_fit": null,
            "grid_auto_columns": null,
            "margin": null,
            "display": null,
            "left": null
          }
        },
        "c0c340d0ddae475e8b937959fd7cdd79": {
          "model_module": "@jupyter-widgets/controls",
          "model_name": "ProgressStyleModel",
          "model_module_version": "1.5.0",
          "state": {
            "_view_name": "StyleView",
            "_model_name": "ProgressStyleModel",
            "description_width": "",
            "_view_module": "@jupyter-widgets/base",
            "_model_module_version": "1.5.0",
            "_view_count": null,
            "_view_module_version": "1.2.0",
            "bar_color": null,
            "_model_module": "@jupyter-widgets/controls"
          }
        },
        "7a2ee28b49ff440caae0248c44a1f476": {
          "model_module": "@jupyter-widgets/base",
          "model_name": "LayoutModel",
          "model_module_version": "1.2.0",
          "state": {
            "_view_name": "LayoutView",
            "grid_template_rows": null,
            "right": null,
            "justify_content": null,
            "_view_module": "@jupyter-widgets/base",
            "overflow": null,
            "_model_module_version": "1.2.0",
            "_view_count": null,
            "flex_flow": null,
            "width": null,
            "min_width": null,
            "border": null,
            "align_items": null,
            "bottom": null,
            "_model_module": "@jupyter-widgets/base",
            "top": null,
            "grid_column": null,
            "overflow_y": null,
            "overflow_x": null,
            "grid_auto_flow": null,
            "grid_area": null,
            "grid_template_columns": null,
            "flex": null,
            "_model_name": "LayoutModel",
            "justify_items": null,
            "grid_row": null,
            "max_height": null,
            "align_content": null,
            "visibility": null,
            "align_self": null,
            "height": null,
            "min_height": null,
            "padding": null,
            "grid_auto_rows": null,
            "grid_gap": null,
            "max_width": null,
            "order": null,
            "_view_module_version": "1.2.0",
            "grid_template_areas": null,
            "object_position": null,
            "object_fit": null,
            "grid_auto_columns": null,
            "margin": null,
            "display": null,
            "left": null
          }
        },
        "36f56677c0cc444884520efee5c5072c": {
          "model_module": "@jupyter-widgets/controls",
          "model_name": "DescriptionStyleModel",
          "model_module_version": "1.5.0",
          "state": {
            "_view_name": "StyleView",
            "_model_name": "DescriptionStyleModel",
            "description_width": "",
            "_view_module": "@jupyter-widgets/base",
            "_model_module_version": "1.5.0",
            "_view_count": null,
            "_view_module_version": "1.2.0",
            "_model_module": "@jupyter-widgets/controls"
          }
        },
        "1e00e3f732c5426ba3d50dada70d9da2": {
          "model_module": "@jupyter-widgets/base",
          "model_name": "LayoutModel",
          "model_module_version": "1.2.0",
          "state": {
            "_view_name": "LayoutView",
            "grid_template_rows": null,
            "right": null,
            "justify_content": null,
            "_view_module": "@jupyter-widgets/base",
            "overflow": null,
            "_model_module_version": "1.2.0",
            "_view_count": null,
            "flex_flow": null,
            "width": null,
            "min_width": null,
            "border": null,
            "align_items": null,
            "bottom": null,
            "_model_module": "@jupyter-widgets/base",
            "top": null,
            "grid_column": null,
            "overflow_y": null,
            "overflow_x": null,
            "grid_auto_flow": null,
            "grid_area": null,
            "grid_template_columns": null,
            "flex": null,
            "_model_name": "LayoutModel",
            "justify_items": null,
            "grid_row": null,
            "max_height": null,
            "align_content": null,
            "visibility": null,
            "align_self": null,
            "height": null,
            "min_height": null,
            "padding": null,
            "grid_auto_rows": null,
            "grid_gap": null,
            "max_width": null,
            "order": null,
            "_view_module_version": "1.2.0",
            "grid_template_areas": null,
            "object_position": null,
            "object_fit": null,
            "grid_auto_columns": null,
            "margin": null,
            "display": null,
            "left": null
          }
        }
      }
    }
  },
  "nbformat": 4,
  "nbformat_minor": 5
}