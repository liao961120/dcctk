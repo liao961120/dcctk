{
 "cells": [
  {
   "cell_type": "markdown",
   "id": "periodic-pressing",
   "metadata": {},
   "source": [
    "<a href=\"https://colab.research.google.com/github/liao961120/hgct/blob/main/docs_source/nb/corpusSearch.ipynb\" target=\"_parent\"><img src=\"https://colab.research.google.com/assets/colab-badge.svg\" alt=\"Open In Colab\"/></a>"
   ]
  },
  {
   "cell_type": "code",
   "execution_count": null,
   "id": "embedded-expense",
   "metadata": {},
   "outputs": [],
   "source": [
    "## Colab setup\n",
    "# !gdown https://github.com/liao961120/hgct/raw/main/test/data.zip\n",
    "# !unzip -q data.zip\n",
    "# !pip install -qU hgct"
   ]
  },
  {
   "cell_type": "markdown",
   "id": "deadly-highland",
   "metadata": {},
   "source": [
    "<!-- Hide section entries in toc -->\n",
    "# Search API in *hgtk*"
   ]
  },
  {
   "cell_type": "markdown",
   "id": "amino-november",
   "metadata": {},
   "source": [
    "In the following tutorials (Appendix A and B), we will use a small\n",
    "collection of texts as the example corpus. The text data is available on\n",
    "GitHub at <https://github.com/liao961120/hgct/raw/main/test/data.zip>.\n",
    "After extracting `data.zip` to the directory `data`, it should have the\n",
    "following structure:\n",
    "\n",
    "```\n",
    "data\n",
    "├── 01\n",
    "│   ├── 儀禮_公食大夫禮.txt\n",
    "│   ├── ...\n",
    "│   └── 黃帝內經_靈樞經.txt\n",
    "├── 02\n",
    "│   ├── ...\n",
    "│   └── 鹽鐵論_卷四.txt\n",
    "├── 03\n",
    "│   ├── 三國志_吳書一.txt\n",
    "│   ├── ...\n",
    "│   └── 魯勝墨辯注敘_魯勝墨辯注敘.txt\n",
    "├── 08\n",
    "│   ├── asbc1.txt\n",
    "│   └── asbc2.txt\n",
    "└── 10\n",
    "    ├── dispersion1.txt\n",
    "    ├── ...\n",
    "    └── dispersion5.txt\n",
    "```\n",
    "\n",
    "The directory `data` corresponds to the corpus in *hgct*’s corpus\n",
    "representation. It contains five directories, each of which corresponds\n",
    "to a subcorpus. Directory `01`, `02`, and `03` consists of small samples\n",
    "of Literary Chinese texts collected from the Chinese Text Project\n",
    "(<https://ctext.org>). Directory `08` holds modern Chinese texts sampled\n",
    "from ASBC. The directory `10` is a toy corpus in @gries2020 \\[p. 102\\]\n",
    "used for illustrating calculations of dispersion measures."
   ]
  },
  {
   "cell_type": "markdown",
   "id": "generic-people",
   "metadata": {},
   "source": [
    "In this tutorial, we demonstrate the supported functionalities in *hgct*\n",
    "for searching the corpus.\n",
    "\n",
    "## Loading Corpus Data into Concordancer\n",
    "\n",
    "Provided that the input corpus follows the required directory structure\n",
    "mentioned in @sec:corpus-structure-and-input-data, users could convert\n",
    "the input corpus to the internal corpus representation with\n",
    "`PlainTextReader()` as in the following code block. Since we are now\n",
    "demonstrating the search functions, we immediately pass the corpus to\n",
    "`Concordancer()`, which is the object used in *hgct* for searching the\n",
    "corpus."
   ]
  },
  {
   "cell_type": "code",
   "execution_count": 2,
   "id": "focal-officer",
   "metadata": {
    "outputId": "b26b86e7-8f1a-4f7d-c3f6-bd1d126156a5"
   },
   "outputs": [],
   "source": [
    "from hgct import PlainTextReader, Concordancer\n",
    "c = Concordancer(PlainTextReader(\"data/\").corpus)"
   ]
  },
  {
   "cell_type": "markdown",
   "id": "intended-blade",
   "metadata": {},
   "source": [
    "The `Concordancer` object could be used to retrieve results matching the\n",
    "search pattern as a sequence[1] of concordance lines. Since many of the\n",
    "search patterns would return plenty of results, we define a wrapper\n",
    "function `get_first_n()` here for the purpose of demonstration.\n",
    "\n",
    "[1] More precisely, a *generator* of concordance lines."
   ]
  },
  {
   "cell_type": "code",
   "execution_count": 3,
   "id": "completed-defense",
   "metadata": {},
   "outputs": [],
   "source": [
    "def get_first_n(cql, n=10, left=5, right=5):\n",
    "    out = []\n",
    "    for i, r in enumerate(c.cql_search(cql, left=left, right=right)):\n",
    "        if i == n: break\n",
    "        out.append(r)\n",
    "    return out"
   ]
  },
  {
   "cell_type": "markdown",
   "id": "nutritional-warehouse",
   "metadata": {},
   "source": [
    "## Search by Character\n",
    "\n",
    "In our first example, we define the search pattern as\n",
    "`[char=\"龜\"] [char=\"[一-龜]\"]`, which roughly means\n",
    "\n",
    "> a sequence of two characters starting with “龜” and ending with any\n",
    "> Chinese characters (not, e.g., punctuations)\n",
    "\n",
    "Passing this pattern to `get_first_n()` (or `Concordancer.cql_search()`\n",
    "gives us a sequence of `Concord` objects. A `Concord` object is used to\n",
    "represent a matched result returned from the corpus in *hgct*."
   ]
  },
  {
   "cell_type": "code",
   "execution_count": 4,
   "id": "yellow-daughter",
   "metadata": {
    "colab": {
     "base_uri": "https://localhost:8080/"
    },
    "outputId": "87a59fc0-243e-4b1a-95b9-f3488cb4c215"
   },
   "outputs": [
    {
     "data": {
      "text/plain": [
       "[<Concord 遷有無，貨自{龜貝}，至此>,\n",
       " <Concord 山在西北。有{龜山}。有龍>,\n",
       " <Concord ，故獸不狘；{龜以}為畜，>,\n",
       " <Concord 江郡常歲時生{龜長}尺二寸>,\n",
       " <Concord 無為頓復卜三{龜知}。聖人>]"
      ]
     },
     "execution_count": 4,
     "metadata": {},
     "output_type": "execute_result"
    }
   ],
   "source": [
    "cql = '''\n",
    "[char=\"龜\"] [char=\"[一-龜]\"]\n",
    "'''\n",
    "# left/right: left/right context size around the keyword\n",
    "results = get_first_n(cql, n=5, left=6, right=3)  \n",
    "results"
   ]
  },
  {
   "cell_type": "markdown",
   "id": "palestinian-supplier",
   "metadata": {},
   "source": [
    "To get more information about a particular matching result, we can look\n",
    "at the `data` attribute in a `Concord` object, which is a dictionary\n",
    "holding the relevant information of the matching result."
   ]
  },
  {
   "cell_type": "code",
   "execution_count": 5,
   "id": "civil-renaissance",
   "metadata": {
    "colab": {
     "base_uri": "https://localhost:8080/"
    },
    "outputId": "8d232aab-962c-452c-e205-733fe9e60fd7"
   },
   "outputs": [
    {
     "data": {
      "text/plain": [
       "{'captureGroups': {},\n",
       " 'keyword': '龜貝',\n",
       " 'left': '遷有無，貨自',\n",
       " 'meta': {'id': '02/漢書_傳.txt',\n",
       "  'text': {'book': '漢書', 'sec': '傳'},\n",
       "  'time': {'label': '漢', 'ord': 2, 'time_range': [-205, 220]}},\n",
       " 'position': (1, 6, 3482, 42),\n",
       " 'right': '，至此'}"
      ]
     },
     "execution_count": 5,
     "metadata": {},
     "output_type": "execute_result"
    }
   ],
   "source": [
    "result_1 = results[0]\n",
    "result_1.data"
   ]
  },
  {
   "cell_type": "markdown",
   "id": "distributed-purchase",
   "metadata": {},
   "source": [
    "Note the `position` key in `Concord.data`. It holds the position of the\n",
    "matched keyword in the corpus. The elements in the 4-tuple\n",
    "`(1, 6, 3482, 32)` correspond respectively to the indices of\n",
    "`(subcorpus, text, sentence, character)`.\n",
    "\n",
    "We did not mention above how the index of a subcorpus is determined. The\n",
    "index of a subcorpus is automatically determined according to the\n",
    "**character order of the directory names**. Remember that there are four\n",
    "directories (subcorpora) in our input corpus---`01`, `02`, `03`, `08`,\n",
    "and `10`. So by character order, `01` appears before `02`, `02` before\n",
    "`03`, `03` before `08`, and so on. Hence, the first directory `01` is\n",
    "given the index of 0, the second is given the index of 1, and so on.\n",
    "These indices of the subcorpora, as seen later in Appendix B, could be\n",
    "used for limiting the scope of the functions in *hgct* in computing\n",
    "corpus statistical measures."
   ]
  },
  {
   "cell_type": "markdown",
   "id": "medieval-transmission",
   "metadata": {},
   "source": [
    "## Search by Character Components\n",
    "\n",
    "In addition to character forms, we can also describe search patterns in\n",
    "terms of character compositions, such as the Kangxi Radical or\n",
    "Ideographic Descriptions of a character."
   ]
  },
  {
   "cell_type": "markdown",
   "id": "native-opinion",
   "metadata": {},
   "source": [
    "### Kangxi Radicals\n",
    "\n",
    "To take a look at all the present Kangxi radicals in the characters of\n",
    "the corpus, the attribute `Concordancer.chr_radicals` could be used:"
   ]
  },
  {
   "cell_type": "code",
   "execution_count": null,
   "id": "ethical-monster",
   "metadata": {
    "colab": {
     "base_uri": "https://localhost:8080/"
    },
    "outputId": "d47c7da1-0499-4404-b0a0-178f966df13b"
   },
   "outputs": [
    {
     "name": "stdout",
     "output_type": "stream",
     "text": [
      "{'火', '豆', '鳥', '鹿', '辵', '風', '鬯', '手', '欠', '瓦', '见', \n",
      " '卜', '网', '彐', '冫', '夕', '鬥', '子', '勹', '饣', '鬼', ...}"
     ]
    }
   ],
   "source": [
    "print(c.chr_radicals)"
   ]
  },
  {
   "cell_type": "markdown",
   "id": "comparable-carrier",
   "metadata": {},
   "source": [
    "To search the corpus with Kangxi radicals, simply use the attribute\n",
    "`radical` in the description of the search pattern."
   ]
  },
  {
   "cell_type": "code",
   "execution_count": null,
   "id": "forced-honey",
   "metadata": {
    "colab": {
     "base_uri": "https://localhost:8080/"
    },
    "outputId": "4ef27eb6-15a2-4cd9-b2ce-2c266acc322d"
   },
   "outputs": [
    {
     "data": {
      "text/plain": [
       "[<Concord 》有竘匠。{竵}：不正也。>,\n",
       " <Concord ，遠塗也，{竫}立安坐而至>,\n",
       " <Concord ？惟諓諓善{竫}言。俾君子>,\n",
       " <Concord 自申束也。{竫}：亭安也。>,\n",
       " <Concord 聲。靖：立{竫}也。从立青>]"
      ]
     },
     "execution_count": 28,
     "metadata": {},
     "output_type": "execute_result"
    }
   ],
   "source": [
    "cql = '''\n",
    "[radical=\"立\"]\n",
    "'''\n",
    "get_first_n(cql, 5)"
   ]
  },
  {
   "cell_type": "markdown",
   "id": "aerial-couple",
   "metadata": {},
   "source": [
    "### Ideographic Description Characters (IDCs)\n",
    "\n",
    "Character components defined according to the Unicode’s Ideographic\n",
    "Description Characters (IDCs) could also be used for searching. The IDCs\n",
    "and their names in *hgct* are found in `Concordancer.chr_idcs`:"
   ]
  },
  {
   "cell_type": "code",
   "execution_count": null,
   "id": "choice-tactics",
   "metadata": {
    "colab": {
     "base_uri": "https://localhost:8080/"
    },
    "outputId": "1920c1bb-5d44-44db-b86f-f103580b9f91"
   },
   "outputs": [
    {
     "data": {
      "text/plain": [
       "{'curC': '⿷', 'encl': '⿴', 'horz2': '⿰', 'horz3': '⿲', \n",
       " 'over': '⿻', 'sur7': '⿹', 'surL': '⿺', 'surN': '⿵', \n",
       " 'surT': '⿸', 'surU': '⿶', 'vert2': '⿱', 'vert3': '⿳'}"
      ]
     },
     "execution_count": 23,
     "metadata": {},
     "output_type": "execute_result"
    }
   ],
   "source": [
    "c.chr_idcs"
   ]
  },
  {
   "cell_type": "markdown",
   "id": "fallen-things",
   "metadata": {},
   "source": [
    "To search according to Ideographic Descriptions, use the attributes\n",
    "`compo` and/or `idc`."
   ]
  },
  {
   "cell_type": "code",
   "execution_count": null,
   "id": "toxic-electron",
   "metadata": {
    "colab": {
     "base_uri": "https://localhost:8080/"
    },
    "outputId": "45cbffb5-00fd-4eb9-e96f-12609da8ac07"
   },
   "outputs": [
    {
     "data": {
      "text/plain": [
       "[<Concord 以中牟叛，{桼}雕刑殘，莫>,\n",
       " <Concord 銅錮其內，{桼}塗其外，被>,\n",
       " <Concord 行，堅如膠{桼}，昆弟不能>,\n",
       " <Concord 陳、夏千畝{桼}；齊、魯千>,\n",
       " <Concord 千兩；木器{桼}者千枚，銅>]"
      ]
     },
     "execution_count": 30,
     "metadata": {},
     "output_type": "execute_result"
    }
   ],
   "source": [
    "cql = '''\n",
    "[compo=\"木\" & idc=\"vert2\" & pos=\"0\"]\n",
    "'''\n",
    "get_first_n(cql, 5)"
   ]
  },
  {
   "cell_type": "code",
   "execution_count": null,
   "id": "ancient-cartridge",
   "metadata": {
    "colab": {
     "base_uri": "https://localhost:8080/"
    },
    "outputId": "5cd396f7-e504-4902-f60a-db889850419a"
   },
   "outputs": [
    {
     "data": {
      "text/plain": [
       "[<Concord 之也。从手{罙}聲。撢：探>,\n",
       " <Concord 營道。从水{罙}聲。潭：水>,\n",
       " <Concord 吉臺原姑與{柒}里，使海於>,\n",
       " <Concord 㕮咀，以水{柒}升，微火煮>,\n",
       " <Concord ，綿裹。右{柒}味，㕮咀。>]"
      ]
     },
     "execution_count": 31,
     "metadata": {},
     "output_type": "execute_result"
    }
   ],
   "source": [
    "cql = '''\n",
    "[compo=\"木\" & idc=\"vert2\" & pos=\"1\"]\n",
    "'''\n",
    "get_first_n(cql, 5)"
   ]
  },
  {
   "cell_type": "code",
   "execution_count": null,
   "id": "stuffed-theology",
   "metadata": {
    "colab": {
     "base_uri": "https://localhost:8080/"
    },
    "outputId": "84167853-8bbd-4d12-844d-12a727dc6e28"
   },
   "outputs": [
    {
     "data": {
      "text/plain": [
       "[<Concord 之也。从手{罙}聲。撢：探>,\n",
       " <Concord 營道。从水{罙}聲。潭：水>,\n",
       " <Concord 城，積木為{寨}，匈奴不敢>,\n",
       " <Concord 入侍。以邊{寨}無寇。減戍>,\n",
       " <Concord 親王（柬埔{寨}）等針撥白>]"
      ]
     },
     "execution_count": 32,
     "metadata": {},
     "output_type": "execute_result"
    }
   ],
   "source": [
    "cql = '''\n",
    "[compo=\"木\" & idc=\"vert2\"]\n",
    "'''\n",
    "get_first_n(cql, 5)"
   ]
  },
  {
   "cell_type": "markdown",
   "id": "brown-education",
   "metadata": {},
   "source": [
    "Either `compo` or `idc` could be left out if a more abstract search\n",
    "pattern is preferred. For instance, if the shape (`idc`) and the\n",
    "position (`pos`) are not of interest, these attributes could be left\n",
    "out."
   ]
  },
  {
   "cell_type": "code",
   "execution_count": null,
   "id": "controlled-voluntary",
   "metadata": {
    "colab": {
     "base_uri": "https://localhost:8080/"
    },
    "outputId": "b133bbe9-5f11-4e11-90a5-086b8ae83578"
   },
   "outputs": [
    {
     "data": {
      "text/plain": [
       "[<Concord 梅。楥，柜{枊}。栩，杼。>,\n",
       " <Concord 。讀若過。{枊}：馬柱。从>,\n",
       " <Concord 繫其頸著馬{枊}，五葬反。>,\n",
       " <Concord 其甲冑、干{楯}也；钁鍤、>,\n",
       " <Concord 句踐也以甲{楯}三千，棲於>]"
      ]
     },
     "execution_count": 29,
     "metadata": {},
     "output_type": "execute_result"
    }
   ],
   "source": [
    "cql = '''\n",
    "[compo=\"木\"]\n",
    "'''\n",
    "get_first_n(cql, 5)"
   ]
  },
  {
   "cell_type": "markdown",
   "id": "expected-workshop",
   "metadata": {},
   "source": [
    "If one is interested only in the shape of the character, `idc` could be\n",
    "specified while all other attributes could be left out."
   ]
  },
  {
   "cell_type": "code",
   "execution_count": null,
   "id": "differential-muscle",
   "metadata": {
    "colab": {
     "base_uri": "https://localhost:8080/"
    },
    "outputId": "832d8e35-2a47-4349-a18f-0a8bca0d5994"
   },
   "outputs": [
    {
     "data": {
      "text/plain": [
       "[<Concord 岸崩。始置{圃囿}署，以宦者>,\n",
       " <Concord 曰：「請以{國因}。」故曰可>,\n",
       " <Concord 天子東出其{國四}十六里而壇>,\n",
       " <Concord 入{國四}旬，五行九>,\n",
       " <Concord 君約，破趙{國因}封二子者各>]"
      ]
     },
     "execution_count": 34,
     "metadata": {},
     "output_type": "execute_result"
    }
   ],
   "source": [
    "cql = '''\n",
    "[idc=\"encl\"] [idc=\"encl\"]\n",
    "'''\n",
    "get_first_n(cql, 5)"
   ]
  },
  {
   "cell_type": "markdown",
   "id": "known-snowboard",
   "metadata": {},
   "source": [
    "### Radical Semantic Type\n",
    "\n",
    "Ma’s (2016) semantic type classification of Kangxi Radicals is also\n",
    "incorporated in *hgct*’s search function. Use the attribute `semtag` to\n",
    "specify a radical semantic type. Refer to @tbl:ma2016-radical for the 22\n",
    "available semantic types."
   ]
  },
  {
   "cell_type": "code",
   "execution_count": null,
   "id": "nervous-amendment",
   "metadata": {
    "colab": {
     "base_uri": "https://localhost:8080/"
    },
    "outputId": "c8ea1345-cb8c-40fa-883b-3533e6ea9463"
   },
   "outputs": [
    {
     "data": {
      "text/plain": [
       "[<Concord 。且夫山不{槎蘗}，澤不伐夭>,\n",
       " <Concord 彘有艽莦，{槎櫛}堀虛，連比>,\n",
       " <Concord 則從行獵，{槎桎}拔，失鹿，>,\n",
       " <Concord 。冒甯柘，{槎棘}枳，窮浚谷>,\n",
       " <Concord 嶽之山，多{枳棘}剛木。有獸>]"
      ]
     },
     "execution_count": 6,
     "metadata": {},
     "output_type": "execute_result"
    }
   ],
   "source": [
    "cql = '''\n",
    "[semtag=\"植物\"] [semtag=\"植物\"]\n",
    "'''\n",
    "get_first_n(cql, 5)"
   ]
  },
  {
   "cell_type": "markdown",
   "id": "invalid-agency",
   "metadata": {},
   "source": [
    "## Search by Phonetic Properties\n",
    "\n",
    "*hgct* also provides searching the corpus with sound properties. The\n",
    "sound properties are defined according to the data from two\n",
    "system—Guanyun 廣韻 (Middle Chinese) and Chinese Dictionary compiled by\n",
    "the Ministry of Education (MOE) in Taiwan (Mandarin)."
   ]
  },
  {
   "cell_type": "code",
   "execution_count": null,
   "id": "political-incentive",
   "metadata": {
    "colab": {
     "base_uri": "https://localhost:8080/"
    },
    "outputId": "85b42817-9c1b-48f0-c4f7-b872fb841d5d"
   },
   "outputs": [
    {
     "data": {
      "text/plain": [
       "{'moe': ['phon', 'tone', 'tp', 'sys=\"moe\"'],\n",
       " '廣韻': ['攝', '聲調', '韻母', '聲母', '開合', '等第', \n",
       "         '反切', '拼音', 'IPA', 'sys=\"廣韻\"']\n",
       "}"
      ]
     },
     "execution_count": 12,
     "metadata": {},
     "output_type": "execute_result"
    }
   ],
   "source": [
    "c.cql_attrs['CharPhonetic']"
   ]
  },
  {
   "cell_type": "markdown",
   "id": "ordinary-henry",
   "metadata": {},
   "source": [
    "### Mandarin (based on 萌典)"
   ]
  },
  {
   "cell_type": "code",
   "execution_count": null,
   "id": "enhanced-filling",
   "metadata": {
    "colab": {
     "base_uri": "https://localhost:8080/"
    },
    "outputId": "b7b3bc2f-5abe-4f21-d590-245dbf6200a9"
   },
   "outputs": [
    {
     "data": {
      "text/plain": [
       "[<Concord 」耳邊不斷{嗡}嗡的縈繞著>,\n",
       " <Concord 耳邊不斷嗡{嗡}的縈繞著類>,\n",
       " <Concord 哭泣不秩聲{翁}，縗絰垂涕>,\n",
       " <Concord ，黑文而赤{翁}，名曰櫟，>,\n",
       " <Concord 發猛，塤篪{翁}博，瑟易良>]"
      ]
     },
     "execution_count": 13,
     "metadata": {},
     "output_type": "execute_result"
    }
   ],
   "source": [
    "cql = '''\n",
    "[phon=\"ㄨㄥ\" & tone=\"1\" & sys=\"moe\"]\n",
    "'''\n",
    "get_first_n(cql, 5)"
   ]
  },
  {
   "cell_type": "code",
   "execution_count": null,
   "id": "medieval-hypothesis",
   "metadata": {
    "colab": {
     "base_uri": "https://localhost:8080/"
    },
    "outputId": "b3ba25d6-6541-42d8-82c9-2cdb7eb5a407"
   },
   "outputs": [
    {
     "data": {
      "text/plain": [
       "[<Concord 大禍或遭流{炮波}及。我們步>,\n",
       " <Concord 牀版也。从{片扁}聲。讀若邊>,\n",
       " <Concord 如看推理名{片般}，由姐妹的>,\n",
       " <Concord 了進來，一{片片}綠油油的田>,\n",
       " <Concord 好高哇！一{片片}的竹葉，好>]"
      ]
     },
     "execution_count": 14,
     "metadata": {},
     "output_type": "execute_result"
    }
   ],
   "source": [
    "cql = '''\n",
    "[phon=\"^p\" & tp=\"ipa\" & sys=\"moe\"] [phon=\"^p\" & tp=\"ipa\" & sys=\"moe\"]\n",
    "'''\n",
    "get_first_n(cql, 5)"
   ]
  },
  {
   "cell_type": "markdown",
   "id": "competent-respect",
   "metadata": {},
   "source": [
    "### Middle Chinese (based on 廣韻)"
   ]
  },
  {
   "cell_type": "code",
   "execution_count": null,
   "id": "agricultural-holiday",
   "metadata": {
    "colab": {
     "base_uri": "https://localhost:8080/"
    },
    "outputId": "ba599011-b33d-4aa8-8839-0031f6be9eeb"
   },
   "outputs": [
    {
     "data": {
      "text/plain": [
       "[<Concord 从雨相聲。{霚}：地气發，>,\n",
       " <Concord 山，其上多{銅}，其下多玉>,\n",
       " <Concord 無草木，多{銅}玉。囂水出>,\n",
       " <Concord 玉，其下多{銅}，其獸多閭>,\n",
       " <Concord 山，其上多{銅}玉，其下多>]"
      ]
     },
     "execution_count": 15,
     "metadata": {},
     "output_type": "execute_result"
    }
   ],
   "source": [
    "cql = '''\n",
    "[韻母=\"東\" & 聲調=\"平\" & sys=\"廣韻\"]\n",
    "'''\n",
    "get_first_n(cql, 5)"
   ]
  }
 ],
 "metadata": {
  "kernelspec": {
   "display_name": "py3.8",
   "language": "python",
   "name": "py3.8"
  },
  "language_info": {
   "codemirror_mode": {
    "name": "ipython",
    "version": 3
   },
   "file_extension": ".py",
   "mimetype": "text/x-python",
   "name": "python",
   "nbconvert_exporter": "python",
   "pygments_lexer": "ipython3",
   "version": "3.8.10"
  }
 },
 "nbformat": 4,
 "nbformat_minor": 5
}
