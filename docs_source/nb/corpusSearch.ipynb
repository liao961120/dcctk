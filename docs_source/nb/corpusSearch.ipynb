{
  "cells": [
    {
      "cell_type": "markdown",
      "metadata": {
        "id": "view-in-github",
        "colab_type": "text"
      },
      "source": [
        "<a href=\"https://colab.research.google.com/github/liao961120/hgct/blob/main/docs_source/nb/corpusSearch.ipynb\" target=\"_parent\"><img src=\"https://colab.research.google.com/assets/colab-badge.svg\" alt=\"Open In Colab\"/></a>"
      ]
    },
    {
      "cell_type": "code",
      "execution_count": null,
      "metadata": {
        "colab": {
          "base_uri": "https://localhost:8080/"
        },
        "id": "5P99extNBogu",
        "outputId": "0d6976e3-f706-48bf-cc3b-e7066cd19b7f"
      },
      "outputs": [
        {
          "output_type": "stream",
          "name": "stdout",
          "text": [
            "Downloading...\n",
            "From: https://github.com/liao961120/hgct/raw/main/test/data.zip\n",
            "To: /content/data.zip\n",
            "100% 11.5M/11.5M [00:00<00:00, 178MB/s]\n",
            "\u001b[K     |████████████████████████████████| 40 kB 3.9 MB/s \n",
            "\u001b[K     |████████████████████████████████| 256 kB 25.5 MB/s \n",
            "\u001b[?25h  Installing build dependencies ... \u001b[?25l\u001b[?25hdone\n",
            "  Getting requirements to build wheel ... \u001b[?25l\u001b[?25hdone\n",
            "    Preparing wheel metadata ... \u001b[?25l\u001b[?25hdone\n",
            "\u001b[K     |████████████████████████████████| 596 kB 65.1 MB/s \n",
            "\u001b[K     |████████████████████████████████| 467 kB 76.5 MB/s \n",
            "\u001b[K     |████████████████████████████████| 1.3 MB 63.2 MB/s \n",
            "\u001b[?25h  Building wheel for gdown (PEP 517) ... \u001b[?25l\u001b[?25hdone\n"
          ]
        }
      ],
      "source": [
        "!gdown https://github.com/liao961120/hgct/raw/main/test/data.zip\n",
        "!unzip -q data.zip\n",
        "!pip install -qU hgct"
      ]
    },
    {
      "cell_type": "markdown",
      "source": [
        "\n",
        "In the following tutorials (Appendix A and B), we will use a small collection of texts as the example corpus. The text data is available on GitHub at <https://github.com/liao961120/hgct/raw/main/test/data.zip>. After extrating `data.zip` to the directory `data`, it should have the following structure:\n",
        "\n",
        "```\n",
        "data\n",
        "├── 01\n",
        "│   ├── 儀禮_公食大夫禮.txt\n",
        "│   ├── ...\n",
        "│   └── 黃帝內經_靈樞經.txt\n",
        "├── 02\n",
        "│   ├── ...\n",
        "│   └── 鹽鐵論_卷四.txt\n",
        "├── 03\n",
        "│   ├── 三國志_吳書一.txt\n",
        "│   ├── ...\n",
        "│   └── 魯勝墨辯注敘_魯勝墨辯注敘.txt\n",
        "├── 08\n",
        "│   ├── asbc1.txt\n",
        "│   └── asbc2.txt\n",
        "└── 10\n",
        "    ├── dispersion1.txt\n",
        "    ├── ...\n",
        "    └── dispersion5.txt\n",
        "```\n",
        "\n",
        "The directory `data` corresponds to the corpus in *hgct*'s corpus representation. It contains five directories, each of which corresponds to a subcorpus. The directories `01`, `02`, and `03` consist of small samples of Literary Chinese texts collected from the Chinese Text Project (<https://ctext.org>). The directory `08` holds modern Chinese texts sampled from ASBC. The directory `10` is a toy corpus in @gries2020 [p. 102] used for illustrating calculations of dispersion measures."
      ],
      "metadata": {
        "id": "j8V6YyoRGnq3"
      }
    },
    {
      "cell_type": "markdown",
      "source": [
        "In this tutorial, we demonstrate the supported functionalities in *hgct* for searching the corpus.\n",
        "\n",
        "## Loading Corpus Data into Concordancer\n",
        "\n",
        "Provided that the input corpus follows the required directory structure mentioned in @sec:corpus-structure-and-input-data, users could convert the input corpus to the internal corpus representation with `PlainTextReader()` as in the following code block. Since we are now demonstrating the search functions, we immediately pass the corpus to `Concordancer()`, which is the object used in *hgct* for searching the corpus."
      ],
      "metadata": {
        "id": "CE_7XYC2TcKc"
      }
    },
    {
      "cell_type": "code",
      "execution_count": null,
      "metadata": {
        "colab": {
          "base_uri": "https://localhost:8080/",
          "height": 118,
          "referenced_widgets": [
            "4950ea0690c6409985b548fa7c00613d",
            "20fefb80ffbe490085e71ef3e5b7e15a",
            "490004beaf6e4979a0b9b6c6948e77b0",
            "9b691fdb8b634d70b37fd4c78cf68fb6",
            "5519636a6640429283bb0a7af3882408",
            "9098e1ffad8943cb9ebf4b551ec7caf3",
            "bfd219e3f7c741bc963fa2e7d182a36a",
            "0d5e77f1f1054ef29d11a0b7a6cb417e",
            "381f00f9b96a4257b93d50f23d11bfe5",
            "8e789c9f95b349ea99ead030e0e112fa",
            "d67f4f60022b4674acceeace625716a2",
            "8fb10a565847409c9250f36c93acaf5c",
            "d440393e093941268c85d011014695b5",
            "079b62419acb43f695ae188d5015a039",
            "4fd025b23114408d8bd5717cdd725f01",
            "da6f52db0e7e48acbe441df0825527cc",
            "5b6f4032f03642ce95e349854f091db6",
            "d0ce48a722304b3a8dcbc188f84139ad",
            "7cd8bb39b7e04ef3be5ca16bfda07173",
            "232a0639cd2b48c0b816a434f8ff138d",
            "35e98bfd0a7443f49b6c297bd9bf7db7",
            "3eb85013404a4dc5b7b4d9a5e976a86b"
          ]
        },
        "id": "uB5Op8IuBogw",
        "outputId": "af086380-1479-4b90-d116-98b9c3610697"
      },
      "outputs": [
        {
          "output_type": "stream",
          "name": "stdout",
          "text": [
            "Indexing corpus for text retrival...\n"
          ]
        },
        {
          "output_type": "display_data",
          "data": {
            "application/vnd.jupyter.widget-view+json": {
              "model_id": "4950ea0690c6409985b548fa7c00613d",
              "version_minor": 0,
              "version_major": 2
            },
            "text/plain": [
              "  0%|          | 0/5 [00:00<?, ?it/s]"
            ]
          },
          "metadata": {}
        },
        {
          "output_type": "stream",
          "name": "stdout",
          "text": [
            "Indexing corpus for concordance search...\n"
          ]
        },
        {
          "output_type": "display_data",
          "data": {
            "application/vnd.jupyter.widget-view+json": {
              "model_id": "8fb10a565847409c9250f36c93acaf5c",
              "version_minor": 0,
              "version_major": 2
            },
            "text/plain": [
              "  0%|          | 0/5 [00:00<?, ?it/s]"
            ]
          },
          "metadata": {}
        }
      ],
      "source": [
        "from hgct import PlainTextReader, Concordancer\n",
        "\n",
        "c = Concordancer(PlainTextReader(\"data/\").corpus)"
      ]
    },
    {
      "cell_type": "markdown",
      "source": [
        "The `Concordancer` object could be used to retrieve results matching the search pattern as a sequence[^concord-line] of concordance lines. Since many of the search patterns would return a great deal of results, we define a define a wrapper function `get_first_n()` here for the purpose of demonstration.\n",
        "\n",
        "[^concord-line]: More precisely, a *generator* of concordance lines."
      ],
      "metadata": {
        "id": "T68yYuM7Vk6R"
      }
    },
    {
      "cell_type": "code",
      "execution_count": null,
      "metadata": {
        "id": "esfml6EkBogy"
      },
      "outputs": [],
      "source": [
        "def get_first_n(cql, n=10, left=5, right=5):\n",
        "    out = []\n",
        "    for i, result in enumerate(c.cql_search(cql, left=left, right=right)):\n",
        "        if i == n: break\n",
        "        out.append(result)\n",
        "    return out"
      ]
    },
    {
      "cell_type": "markdown",
      "metadata": {
        "id": "IPf2VPo4Bogy"
      },
      "source": [
        "## Search by Character {#sec:app-search-by-character}\n",
        "\n",
        "In our first example, we define the search pattern as `[char=\"龜\"] [char=\"[一-龜]\"]`, which roughly means \n",
        "\n",
        "> a sequence of two characters starting with \"龜\" and ending with any Chinese characters (not, e.g., punctuations)\n",
        "\n",
        "Passing this pattern to `get_first_n()` (or `Concordancer.cql_search()` gives us a sequence of `Concord` objects. A `Concord` object is used to represent a matched result returned from the corpus in *hgct*."
      ]
    },
    {
      "cell_type": "code",
      "execution_count": null,
      "metadata": {
        "colab": {
          "base_uri": "https://localhost:8080/"
        },
        "id": "Zaau3bHuBogz",
        "outputId": "9bcb9767-3117-4436-9726-e118a4bc4643"
      },
      "outputs": [
        {
          "output_type": "execute_result",
          "data": {
            "text/plain": [
              "[<Concord 遷有無，貨自{龜貝}，至此>,\n",
              " <Concord 山在西北。有{龜山}。有龍>,\n",
              " <Concord ，故獸不狘；{龜以}為畜，>,\n",
              " <Concord 江郡常歲時生{龜長}尺二寸>,\n",
              " <Concord 無為頓復卜三{龜知}。聖人>,\n",
              " <Concord ，廣肩無雄；{龜鼈}之類，>,\n",
              " <Concord 角匿犀，足履{龜文}。少好>,\n",
              " <Concord 老子篇中記及{龜文}經，皆>,\n",
              " <Concord 人，從三面攻{龜茲}，兵未>,\n",
              " <Concord 人為兒時，以{龜枝}床，至>]"
            ]
          },
          "metadata": {},
          "execution_count": 12
        }
      ],
      "source": [
        "cql = '''\n",
        "[char=\"龜\"] [char=\"[一-龜]\"]\n",
        "'''\n",
        "# left/right controls the left/right context size of the concord lines\n",
        "results = get_first_n(cql, n=10, left=6, right=3)  \n",
        "results"
      ]
    },
    {
      "cell_type": "markdown",
      "source": [
        "To get more information abouting a particular matching result, we can look at the `data` attribute in a `Concord` object, which is a dictionary holding the relevant information of the matching result."
      ],
      "metadata": {
        "id": "CmUHwv-5ZRUk"
      }
    },
    {
      "cell_type": "code",
      "source": [
        "result_1 = results[0]\n",
        "result_1.data"
      ],
      "metadata": {
        "colab": {
          "base_uri": "https://localhost:8080/"
        },
        "id": "_75fZeVkYnff",
        "outputId": "7260a199-4f1c-4dcf-fb76-4550c397661d"
      },
      "execution_count": null,
      "outputs": [
        {
          "output_type": "execute_result",
          "data": {
            "text/plain": [
              "{'captureGroups': {},\n",
              " 'keyword': '龜貝',\n",
              " 'left': '遷有無，貨自',\n",
              " 'meta': {'id': '02/漢書_傳.txt',\n",
              "  'text': {'book': '漢書', 'sec': '傳'},\n",
              "  'time': {'label': '漢', 'ord': 2, 'time_range': [-205, 220]}},\n",
              " 'position': (1, 6, 3482, 42),\n",
              " 'right': '，至此'}"
            ]
          },
          "metadata": {},
          "execution_count": 17
        }
      ]
    },
    {
      "cell_type": "markdown",
      "source": [
        "Note the `position` key in `Concord.data`. It holds the position of the matched keyword in the corpus. The elements in the 4-tuple `(1, 6, 3482, 32)` correspond respectively to the indicies of `(subcorpus, text, sentence, character)`. \n",
        "\n",
        "We did not mention above how the index of a subcorpus is determined. The index of a subcorpus is automatically determined according to the **character order of the directory names**. Remember that there are four directories (subcorpora) in our input corpus---`01`, `02`, `03`, `08`, and `10`. So by character order, `01` appears before `02`, `02` before `03`, `03` before `08`, and so on. Hence, the first directory `01` is given the index of 0, the second is given the index of 1, and so on. These indecies of the subcorpora, as seen later in Appendix B, could be used for limiting the scope of the functions in *hgct* in computing corpus statistical measures."
      ],
      "metadata": {
        "id": "gXRLoQeZaBd-"
      }
    },
    {
      "cell_type": "markdown",
      "metadata": {
        "id": "hnyS9kPyBog0"
      },
      "source": [
        "## Search by Character Components\n",
        "\n",
        "In addition to character forms, we can also describe search patterns in terms of character compositions, such as the Kangxi Radical or Ideographic Descriptions of a character. "
      ]
    },
    {
      "cell_type": "markdown",
      "source": [
        "### Kangxi Radicals\n",
        "\n",
        "To take a look at all the present Kangxi radicals in the characters of the corpus, the attribute `Concordancer.chr_radicals` could be used:"
      ],
      "metadata": {
        "id": "RyG8ewHbg-On"
      }
    },
    {
      "cell_type": "code",
      "execution_count": null,
      "metadata": {
        "colab": {
          "base_uri": "https://localhost:8080/"
        },
        "id": "aI2YlSJDBog1",
        "outputId": "d47c7da1-0499-4404-b0a0-178f966df13b"
      },
      "outputs": [
        {
          "output_type": "stream",
          "name": "stdout",
          "text": [
            "{'', '火', '豆', '鳥', '鹿', '辵', '風', '鬯', '手', '欠', '瓦', '见', '囗', '卜', '网', '彐', '冫', '夕', '鬥', '子', '勹', '饣', '鬼', '亅', '廾', '鼠', '隹', '心', '木', '瓜', '鬲', '水', '一', '卩', '飛', '角', '釆', '宀', '冖', '艮', '人', '爻', '甘', '贝', '襾', '虍', '爪', '舛', '歹', '山', '月', '目', '自', '弓', '隶', '龠', '舌', '车', '广', '纟', '廴', '缶', '彡', '齒', '刀', '工', '毛', '舟', '夊', '二', '牙', '皮', '石', '禾', '長', '黑', '而', '髟', '面', '黍', '身', '音', '几', '高', '頁', '大', '魚', '犬', '辛', '殳', '鹵', '牛', '气', '韋', '冂', '生', '虫', '禸', '风', '香', '比', '馬', '耒', '用', '酉', '戈', '凵', '曰', '匸', '女', '门', '厂', '矢', '夂', '竹', '門', '黃', '示', '厶', '小', '色', '米', '白', '羊', '至', '幺', '入', '支', '骨', '十', '日', '田', '食', '鼻', '儿', '非', '力', '屮', '言', '臣', '矛', '癶', '毋', '匕', '龙', '里', '羽', '衣', '邑', '巛', '黽', '赤', '聿', '麦', '黾', '龜', '页', '钅', '麥', '耳', '齿', '鱼', '尢', '金', '走', '亠', '貝', '老', '八', '乙', '疋', '谷', '寸', '又', '斤', '马', '斗', '丨', '臼', '麻', '糸', '見', '玄', '干', '艸', '匚', '鸟', '文', '行', '尸', '立', '齊', '韦', '丶', '丿', '己', '靑', '龟', '口', '足', '雨', '巾', '皿', '讠', '方', '弋', '鼎', '玉', '穴', '攴', '戶', '首', '土', '阜', '爿', '疒', '彳', '黹', '肉', '父', '氏', '士', '辰', '龍', '止', '鼓', '片', '无', '豸', '車', '豕', '血', '韭', '革'}\n"
          ]
        }
      ],
      "source": [
        "print(c.chr_radicals)"
      ]
    },
    {
      "cell_type": "markdown",
      "source": [
        "To seach the corpus with Kangxi radicals, simply use the attribute `radical` in the description of the search pattern."
      ],
      "metadata": {
        "id": "XUIp8EAdfw0H"
      }
    },
    {
      "cell_type": "code",
      "execution_count": null,
      "metadata": {
        "colab": {
          "base_uri": "https://localhost:8080/"
        },
        "id": "X6ad7C6NBog3",
        "outputId": "4ef27eb6-15a2-4cd9-b2ce-2c266acc322d"
      },
      "outputs": [
        {
          "output_type": "execute_result",
          "data": {
            "text/plain": [
              "[<Concord 》有竘匠。{竵}：不正也。>,\n",
              " <Concord ，遠塗也，{竫}立安坐而至>,\n",
              " <Concord ？惟諓諓善{竫}言。俾君子>,\n",
              " <Concord 自申束也。{竫}：亭安也。>,\n",
              " <Concord 聲。靖：立{竫}也。从立青>]"
            ]
          },
          "metadata": {},
          "execution_count": 28
        }
      ],
      "source": [
        "cql = '''\n",
        "[radical=\"立\"]\n",
        "'''\n",
        "get_first_n(cql, 5)"
      ]
    },
    {
      "cell_type": "markdown",
      "metadata": {
        "id": "UHXJKktKBog4"
      },
      "source": [
        "### Ideographic Description Characters (IDCs)\n",
        "\n",
        "Character components defined according the Unicode's Ideographic Descrition Characters (IDCs) could also be used for searching. The IDCs and their names in *hgct* is found in `Concordancer.chr_idcs`:"
      ]
    },
    {
      "cell_type": "code",
      "execution_count": null,
      "metadata": {
        "colab": {
          "base_uri": "https://localhost:8080/"
        },
        "id": "m-R8F4-cBog5",
        "outputId": "1920c1bb-5d44-44db-b86f-f103580b9f91"
      },
      "outputs": [
        {
          "output_type": "execute_result",
          "data": {
            "text/plain": [
              "{'curC': '⿷',\n",
              " 'encl': '⿴',\n",
              " 'horz2': '⿰',\n",
              " 'horz3': '⿲',\n",
              " 'over': '⿻',\n",
              " 'sur7': '⿹',\n",
              " 'surL': '⿺',\n",
              " 'surN': '⿵',\n",
              " 'surT': '⿸',\n",
              " 'surU': '⿶',\n",
              " 'vert2': '⿱',\n",
              " 'vert3': '⿳'}"
            ]
          },
          "metadata": {},
          "execution_count": 23
        }
      ],
      "source": [
        "c.chr_idcs"
      ]
    },
    {
      "cell_type": "markdown",
      "source": [
        "To search according to Ideographic Descritions, the attributes `compo` and/or `idc` could be used."
      ],
      "metadata": {
        "id": "gSlCxUsjhgmN"
      }
    },
    {
      "cell_type": "code",
      "execution_count": null,
      "metadata": {
        "colab": {
          "base_uri": "https://localhost:8080/"
        },
        "id": "-6jcQBGrBog6",
        "outputId": "45cbffb5-00fd-4eb9-e96f-12609da8ac07"
      },
      "outputs": [
        {
          "output_type": "execute_result",
          "data": {
            "text/plain": [
              "[<Concord 以中牟叛，{桼}雕刑殘，莫>,\n",
              " <Concord 銅錮其內，{桼}塗其外，被>,\n",
              " <Concord 行，堅如膠{桼}，昆弟不能>,\n",
              " <Concord 陳、夏千畝{桼}；齊、魯千>,\n",
              " <Concord 千兩；木器{桼}者千枚，銅>]"
            ]
          },
          "metadata": {},
          "execution_count": 30
        }
      ],
      "source": [
        "cql = '''\n",
        "[compo=\"木\" & idc=\"vert2\" & pos=\"0\"]\n",
        "'''\n",
        "get_first_n(cql, 5)"
      ]
    },
    {
      "cell_type": "code",
      "execution_count": null,
      "metadata": {
        "colab": {
          "base_uri": "https://localhost:8080/"
        },
        "id": "dOyBy9yXBog7",
        "outputId": "5cd396f7-e504-4902-f60a-db889850419a"
      },
      "outputs": [
        {
          "output_type": "execute_result",
          "data": {
            "text/plain": [
              "[<Concord 之也。从手{罙}聲。撢：探>,\n",
              " <Concord 營道。从水{罙}聲。潭：水>,\n",
              " <Concord 吉臺原姑與{柒}里，使海於>,\n",
              " <Concord 㕮咀，以水{柒}升，微火煮>,\n",
              " <Concord ，綿裹。右{柒}味，㕮咀。>]"
            ]
          },
          "metadata": {},
          "execution_count": 31
        }
      ],
      "source": [
        "cql = '''\n",
        "[compo=\"木\" & idc=\"vert2\" & pos=\"1\"]\n",
        "'''\n",
        "get_first_n(cql, 5)"
      ]
    },
    {
      "cell_type": "code",
      "source": [
        "cql = '''\n",
        "[compo=\"木\" & idc=\"vert2\"]\n",
        "'''\n",
        "get_first_n(cql, 5)"
      ],
      "metadata": {
        "colab": {
          "base_uri": "https://localhost:8080/"
        },
        "id": "BoMFs_BKirdy",
        "outputId": "84167853-8bbd-4d12-844d-12a727dc6e28"
      },
      "execution_count": null,
      "outputs": [
        {
          "output_type": "execute_result",
          "data": {
            "text/plain": [
              "[<Concord 之也。从手{罙}聲。撢：探>,\n",
              " <Concord 營道。从水{罙}聲。潭：水>,\n",
              " <Concord 城，積木為{寨}，匈奴不敢>,\n",
              " <Concord 入侍。以邊{寨}無寇。減戍>,\n",
              " <Concord 親王（柬埔{寨}）等針撥白>]"
            ]
          },
          "metadata": {},
          "execution_count": 32
        }
      ]
    },
    {
      "cell_type": "markdown",
      "source": [
        "Either `compo` or `idc` could be left out if a more abstract search pattern is preferred. For instance, if the shape (`idc`) and the position (`pos`) is not of interest, these attributes could be left out."
      ],
      "metadata": {
        "id": "7nIbY6vHiNu8"
      }
    },
    {
      "cell_type": "code",
      "source": [
        "cql = '''\n",
        "[compo=\"木\"]\n",
        "'''\n",
        "get_first_n(cql, 5)"
      ],
      "metadata": {
        "colab": {
          "base_uri": "https://localhost:8080/"
        },
        "id": "BsiNRSQniAWe",
        "outputId": "b133bbe9-5f11-4e11-90a5-086b8ae83578"
      },
      "execution_count": null,
      "outputs": [
        {
          "output_type": "execute_result",
          "data": {
            "text/plain": [
              "[<Concord 梅。楥，柜{枊}。栩，杼。>,\n",
              " <Concord 。讀若過。{枊}：馬柱。从>,\n",
              " <Concord 繫其頸著馬{枊}，五葬反。>,\n",
              " <Concord 其甲冑、干{楯}也；钁鍤、>,\n",
              " <Concord 句踐也以甲{楯}三千，棲於>]"
            ]
          },
          "metadata": {},
          "execution_count": 29
        }
      ]
    },
    {
      "cell_type": "markdown",
      "source": [
        "If one is interested only in the shape of the character, `idc` could be specified while all other attributes could be left out."
      ],
      "metadata": {
        "id": "kXFflmCxi7j9"
      }
    },
    {
      "cell_type": "code",
      "execution_count": null,
      "metadata": {
        "colab": {
          "base_uri": "https://localhost:8080/"
        },
        "id": "tKl_jBfKBog8",
        "outputId": "832d8e35-2a47-4349-a18f-0a8bca0d5994"
      },
      "outputs": [
        {
          "output_type": "execute_result",
          "data": {
            "text/plain": [
              "[<Concord 岸崩。始置{圃囿}署，以宦者>,\n",
              " <Concord 曰：「請以{國因}。」故曰可>,\n",
              " <Concord 天子東出其{國四}十六里而壇>,\n",
              " <Concord 入{國四}旬，五行九>,\n",
              " <Concord 君約，破趙{國因}封二子者各>]"
            ]
          },
          "metadata": {},
          "execution_count": 34
        }
      ],
      "source": [
        "cql = '''\n",
        "[idc=\"encl\"] [idc=\"encl\"]\n",
        "'''\n",
        "get_first_n(cql, 5)"
      ]
    },
    {
      "cell_type": "markdown",
      "source": [
        "### Radical Semantic Type\n",
        "\n",
        "Ma (2016)'s semantic type classification of Kangxi Radicals are also incorporated in *hgct*'s search function. Use the attribute `semtag` to specify a radical semantic type. Refer to @tbl:ma2016-radical for the 22 availble semantic types."
      ],
      "metadata": {
        "id": "Sc_i2apLk9IL"
      }
    },
    {
      "cell_type": "code",
      "source": [
        "cql = '''\n",
        "[semtag=\"植物\"] [semtag=\"植物\"]\n",
        "'''\n",
        "get_first_n(cql, 5)"
      ],
      "metadata": {
        "colab": {
          "base_uri": "https://localhost:8080/"
        },
        "id": "KqszOOMNlKEE",
        "outputId": "c8ea1345-cb8c-40fa-883b-3533e6ea9463"
      },
      "execution_count": null,
      "outputs": [
        {
          "output_type": "execute_result",
          "data": {
            "text/plain": [
              "[<Concord 。且夫山不{槎蘗}，澤不伐夭>,\n",
              " <Concord 彘有艽莦，{槎櫛}堀虛，連比>,\n",
              " <Concord 則從行獵，{槎桎}拔，失鹿，>,\n",
              " <Concord 。冒甯柘，{槎棘}枳，窮浚谷>,\n",
              " <Concord 嶽之山，多{枳棘}剛木。有獸>]"
            ]
          },
          "metadata": {},
          "execution_count": 6
        }
      ]
    },
    {
      "cell_type": "markdown",
      "metadata": {
        "id": "2FcnQlQ5Bog8"
      },
      "source": [
        "## Search by Phonetic Properties\n",
        "\n",
        "*hgct* also provides seaching the corpus with sound properties. The sound properties are defined according to the data from two system---Guanyun 廣韻 (Middle Chinese) and Chinese Dictionary compiled by the Ministry of Education (MOE) in Taiwan (Modern Chinese)."
      ]
    },
    {
      "cell_type": "code",
      "execution_count": null,
      "metadata": {
        "colab": {
          "base_uri": "https://localhost:8080/"
        },
        "id": "_j7ewyyJDTf6",
        "outputId": "85b42817-9c1b-48f0-c4f7-b872fb841d5d"
      },
      "outputs": [
        {
          "output_type": "execute_result",
          "data": {
            "text/plain": [
              "{'moe': ['phon', 'tone', 'tp', 'sys=\"moe\"'],\n",
              " '廣韻': ['攝', '聲調', '韻母', '聲母', '開合', '等第', '反切', '拼音', 'IPA', 'sys=\"廣韻\"']}"
            ]
          },
          "metadata": {},
          "execution_count": 12
        }
      ],
      "source": [
        "c.cql_attrs['CharPhonetic']"
      ]
    },
    {
      "cell_type": "markdown",
      "metadata": {
        "id": "OAUkhI1XxcaN"
      },
      "source": [
        "### Mandarin (based on 萌典^[https://github.com/g0v/moedict-data/blob/master/dict-revised.json]) "
      ]
    },
    {
      "cell_type": "code",
      "execution_count": null,
      "metadata": {
        "colab": {
          "base_uri": "https://localhost:8080/"
        },
        "id": "DUI5WI1TBog9",
        "outputId": "b7b3bc2f-5abe-4f21-d590-245dbf6200a9"
      },
      "outputs": [
        {
          "output_type": "execute_result",
          "data": {
            "text/plain": [
              "[<Concord 」耳邊不斷{嗡}嗡的縈繞著>,\n",
              " <Concord 耳邊不斷嗡{嗡}的縈繞著類>,\n",
              " <Concord 哭泣不秩聲{翁}，縗絰垂涕>,\n",
              " <Concord ，黑文而赤{翁}，名曰櫟，>,\n",
              " <Concord 發猛，塤篪{翁}博，瑟易良>]"
            ]
          },
          "metadata": {},
          "execution_count": 13
        }
      ],
      "source": [
        "cql = '''\n",
        "[phon=\"ㄨㄥ\" & tone=\"1\" & sys=\"moe\"]\n",
        "'''\n",
        "get_first_n(cql, 5)"
      ]
    },
    {
      "cell_type": "code",
      "execution_count": null,
      "metadata": {
        "colab": {
          "base_uri": "https://localhost:8080/"
        },
        "id": "Cej-K7OTBog9",
        "outputId": "b3ba25d6-6541-42d8-82c9-2cdb7eb5a407"
      },
      "outputs": [
        {
          "output_type": "execute_result",
          "data": {
            "text/plain": [
              "[<Concord 大禍或遭流{炮波}及。我們步>,\n",
              " <Concord 牀版也。从{片扁}聲。讀若邊>,\n",
              " <Concord 如看推理名{片般}，由姐妹的>,\n",
              " <Concord 了進來，一{片片}綠油油的田>,\n",
              " <Concord 好高哇！一{片片}的竹葉，好>]"
            ]
          },
          "metadata": {},
          "execution_count": 14
        }
      ],
      "source": [
        "cql = '''\n",
        "[phon=\"^pʰ\" & tp=\"ipa\" & sys=\"moe\"] [phon=\"^pʰ\" & tp=\"ipa\" & sys=\"moe\"]\n",
        "'''\n",
        "get_first_n(cql, 5)"
      ]
    },
    {
      "cell_type": "markdown",
      "metadata": {
        "id": "yVFOR9FkyFG7"
      },
      "source": [
        "### Middle Chinese (based on 廣韻^[https://zhuanlan.zhihu.com/p/20430939])"
      ]
    },
    {
      "cell_type": "code",
      "execution_count": null,
      "metadata": {
        "colab": {
          "base_uri": "https://localhost:8080/"
        },
        "id": "KjcJZTMj08Gb",
        "outputId": "ba599011-b33d-4aa8-8839-0031f6be9eeb"
      },
      "outputs": [
        {
          "output_type": "execute_result",
          "data": {
            "text/plain": [
              "[<Concord 从雨相聲。{霚}：地气發，>,\n",
              " <Concord 山，其上多{銅}，其下多玉>,\n",
              " <Concord 無草木，多{銅}玉。囂水出>,\n",
              " <Concord 玉，其下多{銅}，其獸多閭>,\n",
              " <Concord 山，其上多{銅}玉，其下多>]"
            ]
          },
          "metadata": {},
          "execution_count": 15
        }
      ],
      "source": [
        "cql = '''\n",
        "[韻母=\"東\" & 聲調=\"平\" & sys=\"廣韻\"]\n",
        "'''\n",
        "get_first_n(cql, 5)"
      ]
    }
  ],
  "metadata": {
    "colab": {
      "name": "hgct_corpusSearch.ipynb",
      "provenance": [],
      "collapsed_sections": [],
      "include_colab_link": true
    },
    "kernelspec": {
      "display_name": "py3.8",
      "language": "python",
      "name": "py3.8"
    },
    "language_info": {
      "codemirror_mode": {
        "name": "ipython",
        "version": 3
      },
      "file_extension": ".py",
      "mimetype": "text/x-python",
      "name": "python",
      "nbconvert_exporter": "python",
      "pygments_lexer": "ipython3",
      "version": "3.8.10"
    },
    "widgets": {
      "application/vnd.jupyter.widget-state+json": {
        "4950ea0690c6409985b548fa7c00613d": {
          "model_module": "@jupyter-widgets/controls",
          "model_name": "HBoxModel",
          "model_module_version": "1.5.0",
          "state": {
            "_view_name": "HBoxView",
            "_dom_classes": [],
            "_model_name": "HBoxModel",
            "_view_module": "@jupyter-widgets/controls",
            "_model_module_version": "1.5.0",
            "_view_count": null,
            "_view_module_version": "1.5.0",
            "box_style": "",
            "layout": "IPY_MODEL_20fefb80ffbe490085e71ef3e5b7e15a",
            "_model_module": "@jupyter-widgets/controls",
            "children": [
              "IPY_MODEL_490004beaf6e4979a0b9b6c6948e77b0",
              "IPY_MODEL_9b691fdb8b634d70b37fd4c78cf68fb6",
              "IPY_MODEL_5519636a6640429283bb0a7af3882408"
            ]
          }
        },
        "20fefb80ffbe490085e71ef3e5b7e15a": {
          "model_module": "@jupyter-widgets/base",
          "model_name": "LayoutModel",
          "model_module_version": "1.2.0",
          "state": {
            "_view_name": "LayoutView",
            "grid_template_rows": null,
            "right": null,
            "justify_content": null,
            "_view_module": "@jupyter-widgets/base",
            "overflow": null,
            "_model_module_version": "1.2.0",
            "_view_count": null,
            "flex_flow": null,
            "width": null,
            "min_width": null,
            "border": null,
            "align_items": null,
            "bottom": null,
            "_model_module": "@jupyter-widgets/base",
            "top": null,
            "grid_column": null,
            "overflow_y": null,
            "overflow_x": null,
            "grid_auto_flow": null,
            "grid_area": null,
            "grid_template_columns": null,
            "flex": null,
            "_model_name": "LayoutModel",
            "justify_items": null,
            "grid_row": null,
            "max_height": null,
            "align_content": null,
            "visibility": null,
            "align_self": null,
            "height": null,
            "min_height": null,
            "padding": null,
            "grid_auto_rows": null,
            "grid_gap": null,
            "max_width": null,
            "order": null,
            "_view_module_version": "1.2.0",
            "grid_template_areas": null,
            "object_position": null,
            "object_fit": null,
            "grid_auto_columns": null,
            "margin": null,
            "display": null,
            "left": null
          }
        },
        "490004beaf6e4979a0b9b6c6948e77b0": {
          "model_module": "@jupyter-widgets/controls",
          "model_name": "HTMLModel",
          "model_module_version": "1.5.0",
          "state": {
            "_view_name": "HTMLView",
            "style": "IPY_MODEL_9098e1ffad8943cb9ebf4b551ec7caf3",
            "_dom_classes": [],
            "description": "",
            "_model_name": "HTMLModel",
            "placeholder": "​",
            "_view_module": "@jupyter-widgets/controls",
            "_model_module_version": "1.5.0",
            "value": "100%",
            "_view_count": null,
            "_view_module_version": "1.5.0",
            "description_tooltip": null,
            "_model_module": "@jupyter-widgets/controls",
            "layout": "IPY_MODEL_bfd219e3f7c741bc963fa2e7d182a36a"
          }
        },
        "9b691fdb8b634d70b37fd4c78cf68fb6": {
          "model_module": "@jupyter-widgets/controls",
          "model_name": "FloatProgressModel",
          "model_module_version": "1.5.0",
          "state": {
            "_view_name": "ProgressView",
            "style": "IPY_MODEL_0d5e77f1f1054ef29d11a0b7a6cb417e",
            "_dom_classes": [],
            "description": "",
            "_model_name": "FloatProgressModel",
            "bar_style": "success",
            "max": 5,
            "_view_module": "@jupyter-widgets/controls",
            "_model_module_version": "1.5.0",
            "value": 5,
            "_view_count": null,
            "_view_module_version": "1.5.0",
            "orientation": "horizontal",
            "min": 0,
            "description_tooltip": null,
            "_model_module": "@jupyter-widgets/controls",
            "layout": "IPY_MODEL_381f00f9b96a4257b93d50f23d11bfe5"
          }
        },
        "5519636a6640429283bb0a7af3882408": {
          "model_module": "@jupyter-widgets/controls",
          "model_name": "HTMLModel",
          "model_module_version": "1.5.0",
          "state": {
            "_view_name": "HTMLView",
            "style": "IPY_MODEL_8e789c9f95b349ea99ead030e0e112fa",
            "_dom_classes": [],
            "description": "",
            "_model_name": "HTMLModel",
            "placeholder": "​",
            "_view_module": "@jupyter-widgets/controls",
            "_model_module_version": "1.5.0",
            "value": " 5/5 [00:00&lt;00:00, 129.27it/s]",
            "_view_count": null,
            "_view_module_version": "1.5.0",
            "description_tooltip": null,
            "_model_module": "@jupyter-widgets/controls",
            "layout": "IPY_MODEL_d67f4f60022b4674acceeace625716a2"
          }
        },
        "9098e1ffad8943cb9ebf4b551ec7caf3": {
          "model_module": "@jupyter-widgets/controls",
          "model_name": "DescriptionStyleModel",
          "model_module_version": "1.5.0",
          "state": {
            "_view_name": "StyleView",
            "_model_name": "DescriptionStyleModel",
            "description_width": "",
            "_view_module": "@jupyter-widgets/base",
            "_model_module_version": "1.5.0",
            "_view_count": null,
            "_view_module_version": "1.2.0",
            "_model_module": "@jupyter-widgets/controls"
          }
        },
        "bfd219e3f7c741bc963fa2e7d182a36a": {
          "model_module": "@jupyter-widgets/base",
          "model_name": "LayoutModel",
          "model_module_version": "1.2.0",
          "state": {
            "_view_name": "LayoutView",
            "grid_template_rows": null,
            "right": null,
            "justify_content": null,
            "_view_module": "@jupyter-widgets/base",
            "overflow": null,
            "_model_module_version": "1.2.0",
            "_view_count": null,
            "flex_flow": null,
            "width": null,
            "min_width": null,
            "border": null,
            "align_items": null,
            "bottom": null,
            "_model_module": "@jupyter-widgets/base",
            "top": null,
            "grid_column": null,
            "overflow_y": null,
            "overflow_x": null,
            "grid_auto_flow": null,
            "grid_area": null,
            "grid_template_columns": null,
            "flex": null,
            "_model_name": "LayoutModel",
            "justify_items": null,
            "grid_row": null,
            "max_height": null,
            "align_content": null,
            "visibility": null,
            "align_self": null,
            "height": null,
            "min_height": null,
            "padding": null,
            "grid_auto_rows": null,
            "grid_gap": null,
            "max_width": null,
            "order": null,
            "_view_module_version": "1.2.0",
            "grid_template_areas": null,
            "object_position": null,
            "object_fit": null,
            "grid_auto_columns": null,
            "margin": null,
            "display": null,
            "left": null
          }
        },
        "0d5e77f1f1054ef29d11a0b7a6cb417e": {
          "model_module": "@jupyter-widgets/controls",
          "model_name": "ProgressStyleModel",
          "model_module_version": "1.5.0",
          "state": {
            "_view_name": "StyleView",
            "_model_name": "ProgressStyleModel",
            "description_width": "",
            "_view_module": "@jupyter-widgets/base",
            "_model_module_version": "1.5.0",
            "_view_count": null,
            "_view_module_version": "1.2.0",
            "bar_color": null,
            "_model_module": "@jupyter-widgets/controls"
          }
        },
        "381f00f9b96a4257b93d50f23d11bfe5": {
          "model_module": "@jupyter-widgets/base",
          "model_name": "LayoutModel",
          "model_module_version": "1.2.0",
          "state": {
            "_view_name": "LayoutView",
            "grid_template_rows": null,
            "right": null,
            "justify_content": null,
            "_view_module": "@jupyter-widgets/base",
            "overflow": null,
            "_model_module_version": "1.2.0",
            "_view_count": null,
            "flex_flow": null,
            "width": null,
            "min_width": null,
            "border": null,
            "align_items": null,
            "bottom": null,
            "_model_module": "@jupyter-widgets/base",
            "top": null,
            "grid_column": null,
            "overflow_y": null,
            "overflow_x": null,
            "grid_auto_flow": null,
            "grid_area": null,
            "grid_template_columns": null,
            "flex": null,
            "_model_name": "LayoutModel",
            "justify_items": null,
            "grid_row": null,
            "max_height": null,
            "align_content": null,
            "visibility": null,
            "align_self": null,
            "height": null,
            "min_height": null,
            "padding": null,
            "grid_auto_rows": null,
            "grid_gap": null,
            "max_width": null,
            "order": null,
            "_view_module_version": "1.2.0",
            "grid_template_areas": null,
            "object_position": null,
            "object_fit": null,
            "grid_auto_columns": null,
            "margin": null,
            "display": null,
            "left": null
          }
        },
        "8e789c9f95b349ea99ead030e0e112fa": {
          "model_module": "@jupyter-widgets/controls",
          "model_name": "DescriptionStyleModel",
          "model_module_version": "1.5.0",
          "state": {
            "_view_name": "StyleView",
            "_model_name": "DescriptionStyleModel",
            "description_width": "",
            "_view_module": "@jupyter-widgets/base",
            "_model_module_version": "1.5.0",
            "_view_count": null,
            "_view_module_version": "1.2.0",
            "_model_module": "@jupyter-widgets/controls"
          }
        },
        "d67f4f60022b4674acceeace625716a2": {
          "model_module": "@jupyter-widgets/base",
          "model_name": "LayoutModel",
          "model_module_version": "1.2.0",
          "state": {
            "_view_name": "LayoutView",
            "grid_template_rows": null,
            "right": null,
            "justify_content": null,
            "_view_module": "@jupyter-widgets/base",
            "overflow": null,
            "_model_module_version": "1.2.0",
            "_view_count": null,
            "flex_flow": null,
            "width": null,
            "min_width": null,
            "border": null,
            "align_items": null,
            "bottom": null,
            "_model_module": "@jupyter-widgets/base",
            "top": null,
            "grid_column": null,
            "overflow_y": null,
            "overflow_x": null,
            "grid_auto_flow": null,
            "grid_area": null,
            "grid_template_columns": null,
            "flex": null,
            "_model_name": "LayoutModel",
            "justify_items": null,
            "grid_row": null,
            "max_height": null,
            "align_content": null,
            "visibility": null,
            "align_self": null,
            "height": null,
            "min_height": null,
            "padding": null,
            "grid_auto_rows": null,
            "grid_gap": null,
            "max_width": null,
            "order": null,
            "_view_module_version": "1.2.0",
            "grid_template_areas": null,
            "object_position": null,
            "object_fit": null,
            "grid_auto_columns": null,
            "margin": null,
            "display": null,
            "left": null
          }
        },
        "8fb10a565847409c9250f36c93acaf5c": {
          "model_module": "@jupyter-widgets/controls",
          "model_name": "HBoxModel",
          "model_module_version": "1.5.0",
          "state": {
            "_view_name": "HBoxView",
            "_dom_classes": [],
            "_model_name": "HBoxModel",
            "_view_module": "@jupyter-widgets/controls",
            "_model_module_version": "1.5.0",
            "_view_count": null,
            "_view_module_version": "1.5.0",
            "box_style": "",
            "layout": "IPY_MODEL_d440393e093941268c85d011014695b5",
            "_model_module": "@jupyter-widgets/controls",
            "children": [
              "IPY_MODEL_079b62419acb43f695ae188d5015a039",
              "IPY_MODEL_4fd025b23114408d8bd5717cdd725f01",
              "IPY_MODEL_da6f52db0e7e48acbe441df0825527cc"
            ]
          }
        },
        "d440393e093941268c85d011014695b5": {
          "model_module": "@jupyter-widgets/base",
          "model_name": "LayoutModel",
          "model_module_version": "1.2.0",
          "state": {
            "_view_name": "LayoutView",
            "grid_template_rows": null,
            "right": null,
            "justify_content": null,
            "_view_module": "@jupyter-widgets/base",
            "overflow": null,
            "_model_module_version": "1.2.0",
            "_view_count": null,
            "flex_flow": null,
            "width": null,
            "min_width": null,
            "border": null,
            "align_items": null,
            "bottom": null,
            "_model_module": "@jupyter-widgets/base",
            "top": null,
            "grid_column": null,
            "overflow_y": null,
            "overflow_x": null,
            "grid_auto_flow": null,
            "grid_area": null,
            "grid_template_columns": null,
            "flex": null,
            "_model_name": "LayoutModel",
            "justify_items": null,
            "grid_row": null,
            "max_height": null,
            "align_content": null,
            "visibility": null,
            "align_self": null,
            "height": null,
            "min_height": null,
            "padding": null,
            "grid_auto_rows": null,
            "grid_gap": null,
            "max_width": null,
            "order": null,
            "_view_module_version": "1.2.0",
            "grid_template_areas": null,
            "object_position": null,
            "object_fit": null,
            "grid_auto_columns": null,
            "margin": null,
            "display": null,
            "left": null
          }
        },
        "079b62419acb43f695ae188d5015a039": {
          "model_module": "@jupyter-widgets/controls",
          "model_name": "HTMLModel",
          "model_module_version": "1.5.0",
          "state": {
            "_view_name": "HTMLView",
            "style": "IPY_MODEL_5b6f4032f03642ce95e349854f091db6",
            "_dom_classes": [],
            "description": "",
            "_model_name": "HTMLModel",
            "placeholder": "​",
            "_view_module": "@jupyter-widgets/controls",
            "_model_module_version": "1.5.0",
            "value": "100%",
            "_view_count": null,
            "_view_module_version": "1.5.0",
            "description_tooltip": null,
            "_model_module": "@jupyter-widgets/controls",
            "layout": "IPY_MODEL_d0ce48a722304b3a8dcbc188f84139ad"
          }
        },
        "4fd025b23114408d8bd5717cdd725f01": {
          "model_module": "@jupyter-widgets/controls",
          "model_name": "FloatProgressModel",
          "model_module_version": "1.5.0",
          "state": {
            "_view_name": "ProgressView",
            "style": "IPY_MODEL_7cd8bb39b7e04ef3be5ca16bfda07173",
            "_dom_classes": [],
            "description": "",
            "_model_name": "FloatProgressModel",
            "bar_style": "success",
            "max": 5,
            "_view_module": "@jupyter-widgets/controls",
            "_model_module_version": "1.5.0",
            "value": 5,
            "_view_count": null,
            "_view_module_version": "1.5.0",
            "orientation": "horizontal",
            "min": 0,
            "description_tooltip": null,
            "_model_module": "@jupyter-widgets/controls",
            "layout": "IPY_MODEL_232a0639cd2b48c0b816a434f8ff138d"
          }
        },
        "da6f52db0e7e48acbe441df0825527cc": {
          "model_module": "@jupyter-widgets/controls",
          "model_name": "HTMLModel",
          "model_module_version": "1.5.0",
          "state": {
            "_view_name": "HTMLView",
            "style": "IPY_MODEL_35e98bfd0a7443f49b6c297bd9bf7db7",
            "_dom_classes": [],
            "description": "",
            "_model_name": "HTMLModel",
            "placeholder": "​",
            "_view_module": "@jupyter-widgets/controls",
            "_model_module_version": "1.5.0",
            "value": " 5/5 [00:03&lt;00:00,  1.22it/s]",
            "_view_count": null,
            "_view_module_version": "1.5.0",
            "description_tooltip": null,
            "_model_module": "@jupyter-widgets/controls",
            "layout": "IPY_MODEL_3eb85013404a4dc5b7b4d9a5e976a86b"
          }
        },
        "5b6f4032f03642ce95e349854f091db6": {
          "model_module": "@jupyter-widgets/controls",
          "model_name": "DescriptionStyleModel",
          "model_module_version": "1.5.0",
          "state": {
            "_view_name": "StyleView",
            "_model_name": "DescriptionStyleModel",
            "description_width": "",
            "_view_module": "@jupyter-widgets/base",
            "_model_module_version": "1.5.0",
            "_view_count": null,
            "_view_module_version": "1.2.0",
            "_model_module": "@jupyter-widgets/controls"
          }
        },
        "d0ce48a722304b3a8dcbc188f84139ad": {
          "model_module": "@jupyter-widgets/base",
          "model_name": "LayoutModel",
          "model_module_version": "1.2.0",
          "state": {
            "_view_name": "LayoutView",
            "grid_template_rows": null,
            "right": null,
            "justify_content": null,
            "_view_module": "@jupyter-widgets/base",
            "overflow": null,
            "_model_module_version": "1.2.0",
            "_view_count": null,
            "flex_flow": null,
            "width": null,
            "min_width": null,
            "border": null,
            "align_items": null,
            "bottom": null,
            "_model_module": "@jupyter-widgets/base",
            "top": null,
            "grid_column": null,
            "overflow_y": null,
            "overflow_x": null,
            "grid_auto_flow": null,
            "grid_area": null,
            "grid_template_columns": null,
            "flex": null,
            "_model_name": "LayoutModel",
            "justify_items": null,
            "grid_row": null,
            "max_height": null,
            "align_content": null,
            "visibility": null,
            "align_self": null,
            "height": null,
            "min_height": null,
            "padding": null,
            "grid_auto_rows": null,
            "grid_gap": null,
            "max_width": null,
            "order": null,
            "_view_module_version": "1.2.0",
            "grid_template_areas": null,
            "object_position": null,
            "object_fit": null,
            "grid_auto_columns": null,
            "margin": null,
            "display": null,
            "left": null
          }
        },
        "7cd8bb39b7e04ef3be5ca16bfda07173": {
          "model_module": "@jupyter-widgets/controls",
          "model_name": "ProgressStyleModel",
          "model_module_version": "1.5.0",
          "state": {
            "_view_name": "StyleView",
            "_model_name": "ProgressStyleModel",
            "description_width": "",
            "_view_module": "@jupyter-widgets/base",
            "_model_module_version": "1.5.0",
            "_view_count": null,
            "_view_module_version": "1.2.0",
            "bar_color": null,
            "_model_module": "@jupyter-widgets/controls"
          }
        },
        "232a0639cd2b48c0b816a434f8ff138d": {
          "model_module": "@jupyter-widgets/base",
          "model_name": "LayoutModel",
          "model_module_version": "1.2.0",
          "state": {
            "_view_name": "LayoutView",
            "grid_template_rows": null,
            "right": null,
            "justify_content": null,
            "_view_module": "@jupyter-widgets/base",
            "overflow": null,
            "_model_module_version": "1.2.0",
            "_view_count": null,
            "flex_flow": null,
            "width": null,
            "min_width": null,
            "border": null,
            "align_items": null,
            "bottom": null,
            "_model_module": "@jupyter-widgets/base",
            "top": null,
            "grid_column": null,
            "overflow_y": null,
            "overflow_x": null,
            "grid_auto_flow": null,
            "grid_area": null,
            "grid_template_columns": null,
            "flex": null,
            "_model_name": "LayoutModel",
            "justify_items": null,
            "grid_row": null,
            "max_height": null,
            "align_content": null,
            "visibility": null,
            "align_self": null,
            "height": null,
            "min_height": null,
            "padding": null,
            "grid_auto_rows": null,
            "grid_gap": null,
            "max_width": null,
            "order": null,
            "_view_module_version": "1.2.0",
            "grid_template_areas": null,
            "object_position": null,
            "object_fit": null,
            "grid_auto_columns": null,
            "margin": null,
            "display": null,
            "left": null
          }
        },
        "35e98bfd0a7443f49b6c297bd9bf7db7": {
          "model_module": "@jupyter-widgets/controls",
          "model_name": "DescriptionStyleModel",
          "model_module_version": "1.5.0",
          "state": {
            "_view_name": "StyleView",
            "_model_name": "DescriptionStyleModel",
            "description_width": "",
            "_view_module": "@jupyter-widgets/base",
            "_model_module_version": "1.5.0",
            "_view_count": null,
            "_view_module_version": "1.2.0",
            "_model_module": "@jupyter-widgets/controls"
          }
        },
        "3eb85013404a4dc5b7b4d9a5e976a86b": {
          "model_module": "@jupyter-widgets/base",
          "model_name": "LayoutModel",
          "model_module_version": "1.2.0",
          "state": {
            "_view_name": "LayoutView",
            "grid_template_rows": null,
            "right": null,
            "justify_content": null,
            "_view_module": "@jupyter-widgets/base",
            "overflow": null,
            "_model_module_version": "1.2.0",
            "_view_count": null,
            "flex_flow": null,
            "width": null,
            "min_width": null,
            "border": null,
            "align_items": null,
            "bottom": null,
            "_model_module": "@jupyter-widgets/base",
            "top": null,
            "grid_column": null,
            "overflow_y": null,
            "overflow_x": null,
            "grid_auto_flow": null,
            "grid_area": null,
            "grid_template_columns": null,
            "flex": null,
            "_model_name": "LayoutModel",
            "justify_items": null,
            "grid_row": null,
            "max_height": null,
            "align_content": null,
            "visibility": null,
            "align_self": null,
            "height": null,
            "min_height": null,
            "padding": null,
            "grid_auto_rows": null,
            "grid_gap": null,
            "max_width": null,
            "order": null,
            "_view_module_version": "1.2.0",
            "grid_template_areas": null,
            "object_position": null,
            "object_fit": null,
            "grid_auto_columns": null,
            "margin": null,
            "display": null,
            "left": null
          }
        }
      }
    }
  },
  "nbformat": 4,
  "nbformat_minor": 0
}