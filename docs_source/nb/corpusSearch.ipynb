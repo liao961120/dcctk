{
 "cells": [
  {
   "cell_type": "markdown",
   "id": "narrow-gambling",
   "metadata": {
    "colab_type": "text",
    "id": "view-in-github"
   },
   "source": [
    "<a href=\"https://colab.research.google.com/github/liao961120/hgct/blob/main/docs_source/nb/corpusSearch.ipynb\" target=\"_parent\"><img src=\"https://colab.research.google.com/assets/colab-badge.svg\" alt=\"Open In Colab\"/></a>"
   ]
  },
  {
   "cell_type": "code",
   "execution_count": null,
   "id": "competent-potato",
   "metadata": {
    "id": "embedded-expense"
   },
   "outputs": [],
   "source": [
    "# # Colab setup\n",
    "# !gdown https://github.com/liao961120/hgct/raw/main/test/data.zip\n",
    "# !unzip -q data.zip\n",
    "# !pip install -qU hgct"
   ]
  },
  {
   "cell_type": "markdown",
   "id": "governmental-senior",
   "metadata": {
    "id": "deadly-highland"
   },
   "source": [
    "<!-- Hide section entries in toc -->\n",
    "# Search API in *hgtk*"
   ]
  },
  {
   "cell_type": "markdown",
   "id": "legal-passenger",
   "metadata": {
    "id": "amino-november"
   },
   "source": [
    "In the following tutorials (Appendix A and B), we will use a small\n",
    "collection of texts as the example corpus. The text data is available on\n",
    "GitHub at <https://github.com/liao961120/hgct/raw/main/test/data.zip>.\n",
    "After extracting `data.zip` to the directory `data`, it should have the\n",
    "following structure:\n",
    "\n",
    "```\n",
    "data\n",
    "├── 01\n",
    "│   ├── 儀禮_公食大夫禮.txt\n",
    "│   ├── ...\n",
    "│   └── 黃帝內經_靈樞經.txt\n",
    "├── 02\n",
    "│   ├── ...\n",
    "│   └── 鹽鐵論_卷四.txt\n",
    "├── 03\n",
    "│   ├── 三國志_吳書一.txt\n",
    "│   ├── ...\n",
    "│   └── 魯勝墨辯注敘_魯勝墨辯注敘.txt\n",
    "├── 08\n",
    "│   ├── asbc1.txt\n",
    "│   └── asbc2.txt\n",
    "└── 10\n",
    "    ├── dispersion1.txt\n",
    "    ├── ...\n",
    "    └── dispersion5.txt\n",
    "```\n",
    "\n",
    "The directory `data` corresponds to the corpus in *hgct*’s corpus\n",
    "representation. It contains five directories, each of which corresponds\n",
    "to a subcorpus. Directory `01`, `02`, and `03` consists of small samples\n",
    "of Literary Chinese texts collected from the Chinese Text Project\n",
    "(<https://ctext.org>). Directory `08` holds modern Chinese texts sampled\n",
    "from ASBC. The directory `10` is a toy corpus in @gries2020 \\[p. 102\\]\n",
    "used for illustrating calculations of dispersion measures."
   ]
  },
  {
   "cell_type": "markdown",
   "id": "oriented-clinton",
   "metadata": {
    "id": "generic-people"
   },
   "source": [
    "In this tutorial, we demonstrate the supported functionalities in *hgct*\n",
    "for searching the corpus.\n",
    "\n",
    "## Loading Corpus Data into Concordancer\n",
    "\n",
    "Provided that the input corpus follows the required directory structure\n",
    "mentioned in @sec:corpus-structure-and-input-data, users could convert\n",
    "the input corpus to the internal corpus representation with\n",
    "`PlainTextReader()` as in the following code block. Since we are now\n",
    "demonstrating the search functions, we immediately pass the corpus to\n",
    "`Concordancer()`, which is the object used in *hgct* for searching the\n",
    "corpus."
   ]
  },
  {
   "cell_type": "code",
   "execution_count": 2,
   "id": "optimum-receptor",
   "metadata": {
    "colab": {
     "base_uri": "https://localhost:8080/",
     "height": 116,
     "referenced_widgets": [
      "fb6872ef86e3446da7140a66c9108fc0",
      "fb107c399b3f40f6b2b2f03221334211",
      "8ce058ddea664839b2ba66933fb4e762",
      "e18dc848ca5047d18e8ca5dd7cd53f6a",
      "edbc5745b7764b4a88d16f043ebe1fb6",
      "53d5e731587f43c68cea9ff026b0b726",
      "8c9aab4ee02d44619c9f3594ae9ebf78",
      "83c170038c1246a0b385eefb2f887da7",
      "bc50f337bca84612a2f0f76a2dc4102b",
      "ee044a5c500b4a37ae8e0876dc745d33",
      "874c4117d34d4851b6f368702f2ad900",
      "3502b87c9fab4b1aabfd8a07bcf460dc",
      "7171d5de0c48423ab6d42481371e736d",
      "113b9e4b42774e078a6767e6d9403417",
      "05f5c40e0fe543488ae1651c9054ca9e",
      "40e83de1d46645309e665920cc7bf31a",
      "3c32ea360dcc48858e07da7fa0582dbc",
      "5e7c5880ef2e4183b80d2e48569dee6a",
      "9423f425897a48f99f8b2b3dd25c120a",
      "48e57b47c0414d4b9cbee72da1738555",
      "4f740285eb4f4a9da7964a4120e05844",
      "4323273d786046d28510d79677cfcd25"
     ]
    },
    "id": "focal-officer",
    "outputId": "579a78da-d60a-41eb-ae81-3b613f49fb8c"
   },
   "outputs": [
    {
     "name": "stdout",
     "output_type": "stream",
     "text": [
      "Indexing corpus for text retrival...\n"
     ]
    },
    {
     "data": {
      "application/vnd.jupyter.widget-view+json": {
       "model_id": "fb6872ef86e3446da7140a66c9108fc0",
       "version_major": 2,
       "version_minor": 0
      },
      "text/plain": [
       "  0%|          | 0/5 [00:00<?, ?it/s]"
      ]
     },
     "metadata": {},
     "output_type": "display_data"
    },
    {
     "name": "stdout",
     "output_type": "stream",
     "text": [
      "Indexing corpus for concordance search...\n"
     ]
    },
    {
     "data": {
      "application/vnd.jupyter.widget-view+json": {
       "model_id": "3502b87c9fab4b1aabfd8a07bcf460dc",
       "version_major": 2,
       "version_minor": 0
      },
      "text/plain": [
       "  0%|          | 0/5 [00:00<?, ?it/s]"
      ]
     },
     "metadata": {},
     "output_type": "display_data"
    }
   ],
   "source": [
    "from hgct import PlainTextReader, Concordancer\n",
    "c = Concordancer(PlainTextReader(\"data/\").corpus)"
   ]
  },
  {
   "cell_type": "markdown",
   "id": "molecular-patient",
   "metadata": {
    "id": "intended-blade"
   },
   "source": [
    "The `Concordancer` object could be used to retrieve results matching the\n",
    "search pattern as a sequence[1] of concordance lines. Since many of the\n",
    "search patterns would return plenty of results, we define a wrapper\n",
    "function `get_first_n()` here for the purpose of demonstration.\n",
    "\n",
    "[1] More precisely, a *generator* of concordance lines."
   ]
  },
  {
   "cell_type": "code",
   "execution_count": 3,
   "id": "sitting-galaxy",
   "metadata": {
    "id": "completed-defense"
   },
   "outputs": [],
   "source": [
    "def get_first_n(cql, n=10, left=5, right=5):\n",
    "    out = []\n",
    "    for i, r in enumerate(c.cql_search(cql, left=left, right=right)):\n",
    "        if i == n: break\n",
    "        out.append(r)\n",
    "    return out"
   ]
  },
  {
   "cell_type": "markdown",
   "id": "pointed-medicare",
   "metadata": {
    "id": "nutritional-warehouse"
   },
   "source": [
    "## Search by Character\n",
    "\n",
    "In our first example, we define the search pattern as\n",
    "`[char=\"龜\"] [char=\"[一-龜]\"]`, which roughly means\n",
    "\n",
    "> a sequence of two characters starting with “龜” and ending with any\n",
    "> Chinese characters (not, e.g., punctuations)\n",
    "\n",
    "Passing this pattern to `get_first_n()` (or `Concordancer.cql_search()`)\n",
    "gives us a sequence of `Concord` objects. A `Concord` object is used to\n",
    "represent a matched result returned from the corpus in *hgct*."
   ]
  },
  {
   "cell_type": "code",
   "execution_count": 4,
   "id": "floating-english",
   "metadata": {
    "colab": {
     "base_uri": "https://localhost:8080/"
    },
    "id": "yellow-daughter",
    "outputId": "282c56ee-db6c-4b50-99e2-0def61cf7c92"
   },
   "outputs": [
    {
     "data": {
      "text/plain": [
       "[<Concord 遷有無，貨自{龜貝}，至此>,\n",
       " <Concord 山在西北。有{龜山}。有龍>,\n",
       " <Concord ，故獸不狘；{龜以}為畜，>,\n",
       " <Concord 江郡常歲時生{龜長}尺二寸>,\n",
       " <Concord 無為頓復卜三{龜知}。聖人>]"
      ]
     },
     "execution_count": 4,
     "metadata": {},
     "output_type": "execute_result"
    }
   ],
   "source": [
    "cql = '''\n",
    "[char=\"龜\"] [char=\"[一-龜]\"]\n",
    "'''\n",
    "# left/right: left/right context size around the keyword\n",
    "results = get_first_n(cql, n=5, left=6, right=3)  \n",
    "results"
   ]
  },
  {
   "cell_type": "markdown",
   "id": "homeless-agreement",
   "metadata": {
    "id": "palestinian-supplier"
   },
   "source": [
    "To get more information about a particular matching result, we can look\n",
    "at the `data` attribute in a `Concord` object, which is a dictionary\n",
    "holding the relevant information of the matching result."
   ]
  },
  {
   "cell_type": "code",
   "execution_count": 5,
   "id": "dramatic-citizenship",
   "metadata": {
    "colab": {
     "base_uri": "https://localhost:8080/"
    },
    "id": "civil-renaissance",
    "outputId": "26f6acff-de24-4d6d-a2c1-a9bbc10b67fd"
   },
   "outputs": [
    {
     "data": {
      "text/plain": [
       "{'captureGroups': {},\n",
       " 'keyword': '龜貝',\n",
       " 'left': '遷有無，貨自',\n",
       " 'meta': {'id': '02/漢書_傳.txt',\n",
       "  'text': {'book': '漢書', 'sec': '傳'},\n",
       "  'time': {'label': '漢', 'ord': 2, 'time_range': [-205, 220]}},\n",
       " 'position': (1, 6, 3482, 42),\n",
       " 'right': '，至此'}"
      ]
     },
     "execution_count": 5,
     "metadata": {},
     "output_type": "execute_result"
    }
   ],
   "source": [
    "result_1 = results[0]\n",
    "result_1.data"
   ]
  },
  {
   "cell_type": "markdown",
   "id": "crucial-south",
   "metadata": {
    "id": "distributed-purchase"
   },
   "source": [
    "Note the `position` key in `Concord.data`. It holds the position of the\n",
    "matched keyword in the corpus. The elements in the 4-tuple\n",
    "`(1, 6, 3482, 32)` correspond respectively to the indices of\n",
    "`(subcorpus, text, sentence, character)`.\n",
    "\n",
    "We did not mention above how the index of a subcorpus is determined. The\n",
    "index of a subcorpus is automatically determined according to the\n",
    "**character order of the directory names**. Remember that there are four\n",
    "directories (subcorpora) in our input corpus---`01`, `02`, `03`, `08`,\n",
    "and `10`. So by character order, `01` appears before `02`, `02` before\n",
    "`03`, `03` before `08`, and so on. Hence, the first directory `01` is\n",
    "given the index of 0, the second is given the index of 1, and so on.\n",
    "These indices of the subcorpora, as seen later in Appendix B, could be\n",
    "used for limiting the scope of the functions in *hgct* in computing\n",
    "corpus statistical measures."
   ]
  },
  {
   "cell_type": "markdown",
   "id": "devoted-bulgaria",
   "metadata": {
    "id": "medieval-transmission"
   },
   "source": [
    "## Search by Character Components\n",
    "\n",
    "In addition to character forms, we can also describe search patterns in\n",
    "terms of character compositions, such as the Kangxi Radical or\n",
    "Ideographic Descriptions of a character."
   ]
  },
  {
   "cell_type": "markdown",
   "id": "three-booth",
   "metadata": {
    "id": "native-opinion"
   },
   "source": [
    "### Kangxi Radicals\n",
    "\n",
    "To take a look at all the present Kangxi radicals in the characters of\n",
    "the corpus, the attribute `Concordancer.chr_radicals` could be used:"
   ]
  },
  {
   "cell_type": "code",
   "execution_count": 6,
   "id": "rough-skiing",
   "metadata": {
    "colab": {
     "base_uri": "https://localhost:8080/"
    },
    "id": "ethical-monster",
    "outputId": "88898bb6-5b92-415c-9d4a-e3afdf4a8ad1"
   },
   "outputs": [
    {
     "name": "stdout",
     "output_type": "stream",
     "text": [
      "Building index for character radicals...\n",
      "{'', '钅', '鬲', '高', '見', '广', '片', '黹', '自', '尸', '鬥', '屮', '面', '麦', '攴', '糸', '臣', '丨', '車', '鱼', '毛', '饣', '癶', '舟', '鼓', '襾', '鹿', '龜', '欠', '香', '鼻', '干', '臼', '爪', '缶', '隶', '用', '走', '爻', '风', '食', '貝', '夕', '刀', '丿', '黍', '匸', '女', '疒', '火', '目', '穴', '卜', '白', '宀', '耒', '曰', '冖', '廾', '力', '支', '老', '匚', '方', '長', '冂', '黽', '冫', '巾', '而', '虫', '尢', '齒', '耳', '入', '手', '鸟', '鳥', '厶', '瓦', '勹', '彐', '车', '凵', '气', '辵', '田', '牙', '龙', '羽', '十', '网', '匕', '辰', '氏', '皮', '角', '豆', '齿', '衣', '首', '矛', '革', '犬', '米', '禾', '生', '豸', '页', '非', '羊', '贝', '玄', '毋', '卩', '歹', '隹', '色', '见', '龟', '禸', '鼎', '鼠', '木', '弓', '至', '皿', '谷', '馬', '韦', '魚', '辛', '彳', '二', '血', '廴', '瓜', '殳', '夂', '言', '厂', '讠', '肉', '靑', '虍', '音', '牛', '豕', '髟', '囗', '石', '龠', '斤', '黑', '玉', '甘', '水', '竹', '雨', '小', '止', '黃', '示', '亠', '麥', '士', '邑', '齊', '土', '鬯', '釆', '戈', '足', '心', '月', '口', '乙', '舛', '亅', '頁', '龍', '酉', '工', '阜', '立', '弋', '日', '黾', '矢', '纟', '寸', '无', '人', '彡', '丶', '己', '麻', '聿', '鹵', '儿', '艮', '几', '艸', '骨', '门', '韋', '巛', '韭', '山', '文', '風', '門', '行', '疋', '马', '身', '又', '斗', '戶', '幺', '赤', '金', '舌', '子', '爿', '鬼', '一', '里', '大', '飛', '夊', '比', '父', '八'}\n"
     ]
    }
   ],
   "source": [
    "print(c.chr_radicals)"
   ]
  },
  {
   "cell_type": "markdown",
   "id": "banned-local",
   "metadata": {
    "id": "comparable-carrier"
   },
   "source": [
    "To search the corpus with Kangxi radicals, simply use the attribute\n",
    "`radical` in the description of the search pattern."
   ]
  },
  {
   "cell_type": "code",
   "execution_count": 7,
   "id": "australian-legislature",
   "metadata": {
    "colab": {
     "base_uri": "https://localhost:8080/"
    },
    "id": "forced-honey",
    "outputId": "8857ac89-a893-4bd2-ca2e-fb0fc5b5f7cf"
   },
   "outputs": [
    {
     "data": {
      "text/plain": [
       "[<Concord 屬皆从立。{䇐}：臨也。从>,\n",
       " <Concord 从立卑聲。{竲}：北地高樓>,\n",
       " <Concord 也。从口歫{䇂}。䇂，惡聲>,\n",
       " <Concord 从口歫䇂。{䇂}，惡聲也。>,\n",
       " <Concord 曰語。从口{䇂}聲。凡言之>]"
      ]
     },
     "execution_count": 7,
     "metadata": {},
     "output_type": "execute_result"
    }
   ],
   "source": [
    "cql = '''\n",
    "[radical=\"立\"]\n",
    "'''\n",
    "get_first_n(cql, 5)"
   ]
  },
  {
   "cell_type": "markdown",
   "id": "decreased-praise",
   "metadata": {
    "id": "aerial-couple"
   },
   "source": [
    "### Ideographic Description Characters (IDCs)\n",
    "\n",
    "Character components defined according to the Unicode’s Ideographic\n",
    "Description Characters (IDCs) could also be used for searching. The IDCs\n",
    "and their names in *hgct* are found in `Concordancer.chr_idcs`:"
   ]
  },
  {
   "cell_type": "code",
   "execution_count": 8,
   "id": "sweet-remove",
   "metadata": {
    "colab": {
     "base_uri": "https://localhost:8080/"
    },
    "id": "choice-tactics",
    "outputId": "4079864d-5d70-4382-f179-2aea56dbf6a9"
   },
   "outputs": [
    {
     "data": {
      "text/plain": [
       "{'curC': '⿷',\n",
       " 'encl': '⿴',\n",
       " 'horz2': '⿰',\n",
       " 'horz3': '⿲',\n",
       " 'over': '⿻',\n",
       " 'sur7': '⿹',\n",
       " 'surL': '⿺',\n",
       " 'surN': '⿵',\n",
       " 'surT': '⿸',\n",
       " 'surU': '⿶',\n",
       " 'vert2': '⿱',\n",
       " 'vert3': '⿳'}"
      ]
     },
     "execution_count": 8,
     "metadata": {},
     "output_type": "execute_result"
    }
   ],
   "source": [
    "c.chr_idcs"
   ]
  },
  {
   "cell_type": "markdown",
   "id": "stainless-width",
   "metadata": {
    "id": "fallen-things"
   },
   "source": [
    "To search according to Ideographic Descriptions, use the attributes\n",
    "`compo` and/or `idc`."
   ]
  },
  {
   "cell_type": "code",
   "execution_count": 9,
   "id": "vanilla-damages",
   "metadata": {
    "colab": {
     "base_uri": "https://localhost:8080/"
    },
    "id": "toxic-electron",
    "outputId": "0a94d555-679a-4591-acae-c1e5cc840a99"
   },
   "outputs": [
    {
     "data": {
      "text/plain": [
       "[<Concord 城。趙國豪{杰}之士，多在>,\n",
       " <Concord ，百人者曰{杰}，十人者曰>,\n",
       " <Concord 者曰豪。豪{杰}俊英不相陵>,\n",
       " <Concord ：并當時之{杰}筆也。觀伯>,\n",
       " <Concord 并辭賦之英{杰}也。及仲宣>]"
      ]
     },
     "execution_count": 9,
     "metadata": {},
     "output_type": "execute_result"
    }
   ],
   "source": [
    "cql = '''\n",
    "[compo=\"木\" & idc=\"vert2\" & pos=\"0\"]\n",
    "'''\n",
    "get_first_n(cql, 5)"
   ]
  },
  {
   "cell_type": "code",
   "execution_count": 10,
   "id": "lined-clinton",
   "metadata": {
    "colab": {
     "base_uri": "https://localhost:8080/"
    },
    "id": "ancient-cartridge",
    "outputId": "a5222fc1-0d2b-46a9-de16-e9c13b9efc60"
   },
   "outputs": [
    {
     "data": {
      "text/plain": [
       "[<Concord 有甬，官食{槩}，不可以辟>,\n",
       " <Concord 从木午聲。{槩}：𣏙斗斛。>,\n",
       " <Concord 郢，而封夫{槩}於堂谿，為>,\n",
       " <Concord 幾夷、皓之{槩}。周羣占天>,\n",
       " <Concord 質直，皆節{槩}梗梗，有大>]"
      ]
     },
     "execution_count": 10,
     "metadata": {},
     "output_type": "execute_result"
    }
   ],
   "source": [
    "cql = '''\n",
    "[compo=\"木\" & idc=\"vert2\" & pos=\"1\"]\n",
    "'''\n",
    "get_first_n(cql, 5)"
   ]
  },
  {
   "cell_type": "code",
   "execution_count": 11,
   "id": "confident-spider",
   "metadata": {
    "colab": {
     "base_uri": "https://localhost:8080/"
    },
    "id": "stuffed-theology",
    "outputId": "23e234b2-2585-4ddb-9bb3-d6c44cd5ff34"
   },
   "outputs": [
    {
     "data": {
      "text/plain": [
       "[<Concord 子國為客，{樂}及遍舞。鄭>,\n",
       " <Concord 舉，而況敢{樂}禍乎！今吾>,\n",
       " <Concord 歌舞不息，{樂}禍也。夫出>,\n",
       " <Concord 忘憂，是謂{樂}禍，禍必及>,\n",
       " <Concord ，君欣欣兮{樂}康。浴蘭湯>]"
      ]
     },
     "execution_count": 11,
     "metadata": {},
     "output_type": "execute_result"
    }
   ],
   "source": [
    "cql = '''\n",
    "[compo=\"木\" & idc=\"vert2\"]\n",
    "'''\n",
    "get_first_n(cql, 5)"
   ]
  },
  {
   "cell_type": "markdown",
   "id": "overall-feature",
   "metadata": {
    "id": "brown-education"
   },
   "source": [
    "Either `compo` or `idc` could be left out if a more abstract search\n",
    "pattern is preferred. For instance, if the shape (`idc`) and the\n",
    "position (`pos`) are not of interest, these attributes could be left\n",
    "out."
   ]
  },
  {
   "cell_type": "code",
   "execution_count": 12,
   "id": "balanced-protein",
   "metadata": {
    "colab": {
     "base_uri": "https://localhost:8080/"
    },
    "id": "controlled-voluntary",
    "outputId": "a77aa1ab-4cbe-4971-d4cf-c32c035d6ae5"
   },
   "outputs": [
    {
     "data": {
      "text/plain": [
       "[<Concord 藟，施于條{枚}；凱弟君子>,\n",
       " <Concord 四綍，皆銜{枚}，司馬執鐸>,\n",
       " <Concord 後。兩軍𠾑{枚}，或左或右>,\n",
       " <Concord 徒二人。銜{枚}氏：下士二>,\n",
       " <Concord 矢射之。銜{枚}氏：掌司囂>]"
      ]
     },
     "execution_count": 12,
     "metadata": {},
     "output_type": "execute_result"
    }
   ],
   "source": [
    "cql = '''\n",
    "[compo=\"木\"]\n",
    "'''\n",
    "get_first_n(cql, 5)"
   ]
  },
  {
   "cell_type": "markdown",
   "id": "informative-stake",
   "metadata": {
    "id": "expected-workshop"
   },
   "source": [
    "If one is interested only in the shape of the character, `idc` could be\n",
    "specified while all other attributes could be left out."
   ]
  },
  {
   "cell_type": "code",
   "execution_count": 13,
   "id": "southern-luxury",
   "metadata": {
    "colab": {
     "base_uri": "https://localhost:8080/"
    },
    "id": "differential-muscle",
    "outputId": "50c7520a-3fe9-4186-8766-9b73612ff6a7"
   },
   "outputs": [
    {
     "name": "stdout",
     "output_type": "stream",
     "text": [
      "Building index for character IDCs...\n"
     ]
    },
    {
     "data": {
      "text/plain": [
       "[<Concord ：『始舍之{圉圉}焉，少則洋>,\n",
       " <Concord 公朝虜而子{圉夕}立，更始尚>,\n",
       " <Concord 𢦔聲。軍：{圜圍}也。四千人>,\n",
       " <Concord 永昌」，方{圜四}寸，上紐交>,\n",
       " <Concord 行天下，雖{困四}夷，人莫不>]"
      ]
     },
     "execution_count": 13,
     "metadata": {},
     "output_type": "execute_result"
    }
   ],
   "source": [
    "cql = '''\n",
    "[idc=\"encl\"] [idc=\"encl\"]\n",
    "'''\n",
    "get_first_n(cql, 5)"
   ]
  },
  {
   "cell_type": "markdown",
   "id": "hired-blogger",
   "metadata": {
    "id": "known-snowboard"
   },
   "source": [
    "### Radical Semantic Type\n",
    "\n",
    "Ma’s (2016) semantic type classification of Kangxi Radicals is also\n",
    "incorporated in *hgct*’s search function. Use the attribute `semtag` to\n",
    "specify a radical semantic type. Refer to @tbl:ma2016-radical for the 22\n",
    "available semantic types."
   ]
  },
  {
   "cell_type": "code",
   "execution_count": 14,
   "id": "representative-third",
   "metadata": {
    "colab": {
     "base_uri": "https://localhost:8080/"
    },
    "id": "nervous-amendment",
    "outputId": "afb04929-dda8-4ba9-c7cb-59013961a005"
   },
   "outputs": [
    {
     "data": {
      "text/plain": [
       "[<Concord 兮水中，搴{芙蓉}兮木末。心>,\n",
       " <Concord 兮陳坐，援{芙蕖}兮為蓋。水>,\n",
       " <Concord 宿兮石城。{芙蓉}蓋而蔆華車>,\n",
       " <Concord 而緣木。因{芙蓉}而為媒兮，>,\n",
       " <Concord 為衣兮，集{芙蓉}以為裳。不>]"
      ]
     },
     "execution_count": 14,
     "metadata": {},
     "output_type": "execute_result"
    }
   ],
   "source": [
    "cql = '''\n",
    "[semtag=\"植物\"] [semtag=\"植物\"]\n",
    "'''\n",
    "get_first_n(cql, 5)"
   ]
  },
  {
   "cell_type": "markdown",
   "id": "aggressive-looking",
   "metadata": {
    "id": "invalid-agency"
   },
   "source": [
    "## Search by Phonetic Properties\n",
    "\n",
    "*hgct* also provides searching the corpus with sound properties. The\n",
    "sound properties are defined according to the data from two\n",
    "system—Guanyun 廣韻 (Middle Chinese) and Chinese Dictionary compiled by\n",
    "the Ministry of Education (MOE) in Taiwan (Mandarin)."
   ]
  },
  {
   "cell_type": "code",
   "execution_count": 15,
   "id": "strong-corporation",
   "metadata": {
    "colab": {
     "base_uri": "https://localhost:8080/"
    },
    "id": "political-incentive",
    "outputId": "c60137d4-a324-4100-9e13-847aadf682c9"
   },
   "outputs": [
    {
     "data": {
      "text/plain": [
       "{'moe': ['phon', 'tone', 'tp', 'sys=\"moe\"'],\n",
       " '廣韻': ['攝', '聲調', '韻母', '聲母', '開合', '等第', '反切', '拼音', 'IPA', 'sys=\"廣韻\"']}"
      ]
     },
     "execution_count": 15,
     "metadata": {},
     "output_type": "execute_result"
    }
   ],
   "source": [
    "c.cql_attrs['CharPhonetic']"
   ]
  },
  {
   "cell_type": "markdown",
   "id": "agricultural-luxury",
   "metadata": {
    "id": "ordinary-henry"
   },
   "source": [
    "### Mandarin (based on 萌典)"
   ]
  },
  {
   "cell_type": "code",
   "execution_count": 16,
   "id": "parliamentary-drill",
   "metadata": {
    "colab": {
     "base_uri": "https://localhost:8080/"
    },
    "id": "enhanced-filling",
    "outputId": "099b3e63-7c04-494a-d68a-bb18052d974f"
   },
   "outputs": [
    {
     "data": {
      "text/plain": [
       "[<Concord 」耳邊不斷{嗡}嗡的縈繞著>,\n",
       " <Concord 耳邊不斷嗡{嗡}的縈繞著類>,\n",
       " <Concord 市朝也。而{翁}不爭焉，顧>,\n",
       " <Concord 發猛，塤篪{翁}博，瑟易良>,\n",
       " <Concord ，黑文而赤{翁}，名曰櫟，>]"
      ]
     },
     "execution_count": 16,
     "metadata": {},
     "output_type": "execute_result"
    }
   ],
   "source": [
    "cql = '''\n",
    "[phon=\"ㄨㄥ\" & tone=\"1\" & sys=\"moe\"]\n",
    "'''\n",
    "get_first_n(cql, 5)"
   ]
  },
  {
   "cell_type": "code",
   "execution_count": 17,
   "id": "norwegian-stability",
   "metadata": {
    "colab": {
     "base_uri": "https://localhost:8080/"
    },
    "id": "medieval-hypothesis",
    "outputId": "673f257e-d9f8-4b33-8513-978b62a67d35"
   },
   "outputs": [
    {
     "data": {
      "text/plain": [
       "[<Concord 荒亂，以十{破百}。器備不行>,\n",
       " <Concord 戰而赴圍。{破伯}牙之號鍾兮>,\n",
       " <Concord 應弱燕，燕{破必}矣。燕破則>,\n",
       " <Concord 分離，陰陽{破敗}，經絡厥絕>,\n",
       " <Concord 而弓秦，秦{破必}矣。今見破>]"
      ]
     },
     "execution_count": 17,
     "metadata": {},
     "output_type": "execute_result"
    }
   ],
   "source": [
    "cql = '''\n",
    "[phon=\"^p\" & tp=\"ipa\" & sys=\"moe\"] [phon=\"^p\" & tp=\"ipa\" & sys=\"moe\"]\n",
    "'''\n",
    "get_first_n(cql, 5)"
   ]
  },
  {
   "cell_type": "markdown",
   "id": "handled-seventh",
   "metadata": {
    "id": "competent-respect"
   },
   "source": [
    "### Middle Chinese (based on 廣韻)"
   ]
  },
  {
   "cell_type": "code",
   "execution_count": 18,
   "id": "timely-marking",
   "metadata": {
    "colab": {
     "base_uri": "https://localhost:8080/"
    },
    "id": "agricultural-holiday",
    "outputId": "57712c6b-33d2-467e-ea32-45c58bb4d5a9"
   },
   "outputs": [
    {
     "data": {
      "text/plain": [
       "[<Concord 曾參之參。{梵}：出自西域>,\n",
       " <Concord 薨奏焉。樊{梵}，字文高，>,\n",
       " <Concord 曆編訢、李{梵}等綜校其狀>,\n",
       " <Concord 行。而訢、{梵}猶以為元首>,\n",
       " <Concord 蘇統及訢、{梵}等十人。以>]"
      ]
     },
     "execution_count": 18,
     "metadata": {},
     "output_type": "execute_result"
    }
   ],
   "source": [
    "cql = '''\n",
    "[韻母=\"東\" & 聲調=\"平\" & sys=\"廣韻\"]\n",
    "'''\n",
    "get_first_n(cql, 5)"
   ]
  }
 ],
 "metadata": {
  "colab": {
   "include_colab_link": true,
   "name": "corpusSearch.ipynb",
   "provenance": []
  },
  "kernelspec": {
   "display_name": "py3.8",
   "language": "python",
   "name": "py3.8"
  },
  "language_info": {
   "codemirror_mode": {
    "name": "ipython",
    "version": 3
   },
   "file_extension": ".py",
   "mimetype": "text/x-python",
   "name": "python",
   "nbconvert_exporter": "python",
   "pygments_lexer": "ipython3",
   "version": "3.8.10"
  },
  "widgets": {
   "application/vnd.jupyter.widget-state+json": {
    "05f5c40e0fe543488ae1651c9054ca9e": {
     "model_module": "@jupyter-widgets/controls",
     "model_module_version": "1.5.0",
     "model_name": "FloatProgressModel",
     "state": {
      "_dom_classes": [],
      "_model_module": "@jupyter-widgets/controls",
      "_model_module_version": "1.5.0",
      "_model_name": "FloatProgressModel",
      "_view_count": null,
      "_view_module": "@jupyter-widgets/controls",
      "_view_module_version": "1.5.0",
      "_view_name": "ProgressView",
      "bar_style": "success",
      "description": "",
      "description_tooltip": null,
      "layout": "IPY_MODEL_48e57b47c0414d4b9cbee72da1738555",
      "max": 5,
      "min": 0,
      "orientation": "horizontal",
      "style": "IPY_MODEL_9423f425897a48f99f8b2b3dd25c120a",
      "value": 5
     }
    },
    "113b9e4b42774e078a6767e6d9403417": {
     "model_module": "@jupyter-widgets/controls",
     "model_module_version": "1.5.0",
     "model_name": "HTMLModel",
     "state": {
      "_dom_classes": [],
      "_model_module": "@jupyter-widgets/controls",
      "_model_module_version": "1.5.0",
      "_model_name": "HTMLModel",
      "_view_count": null,
      "_view_module": "@jupyter-widgets/controls",
      "_view_module_version": "1.5.0",
      "_view_name": "HTMLView",
      "description": "",
      "description_tooltip": null,
      "layout": "IPY_MODEL_5e7c5880ef2e4183b80d2e48569dee6a",
      "placeholder": "​",
      "style": "IPY_MODEL_3c32ea360dcc48858e07da7fa0582dbc",
      "value": "100%"
     }
    },
    "3502b87c9fab4b1aabfd8a07bcf460dc": {
     "model_module": "@jupyter-widgets/controls",
     "model_module_version": "1.5.0",
     "model_name": "HBoxModel",
     "state": {
      "_dom_classes": [],
      "_model_module": "@jupyter-widgets/controls",
      "_model_module_version": "1.5.0",
      "_model_name": "HBoxModel",
      "_view_count": null,
      "_view_module": "@jupyter-widgets/controls",
      "_view_module_version": "1.5.0",
      "_view_name": "HBoxView",
      "box_style": "",
      "children": [
       "IPY_MODEL_113b9e4b42774e078a6767e6d9403417",
       "IPY_MODEL_05f5c40e0fe543488ae1651c9054ca9e",
       "IPY_MODEL_40e83de1d46645309e665920cc7bf31a"
      ],
      "layout": "IPY_MODEL_7171d5de0c48423ab6d42481371e736d"
     }
    },
    "3c32ea360dcc48858e07da7fa0582dbc": {
     "model_module": "@jupyter-widgets/controls",
     "model_module_version": "1.5.0",
     "model_name": "DescriptionStyleModel",
     "state": {
      "_model_module": "@jupyter-widgets/controls",
      "_model_module_version": "1.5.0",
      "_model_name": "DescriptionStyleModel",
      "_view_count": null,
      "_view_module": "@jupyter-widgets/base",
      "_view_module_version": "1.2.0",
      "_view_name": "StyleView",
      "description_width": ""
     }
    },
    "40e83de1d46645309e665920cc7bf31a": {
     "model_module": "@jupyter-widgets/controls",
     "model_module_version": "1.5.0",
     "model_name": "HTMLModel",
     "state": {
      "_dom_classes": [],
      "_model_module": "@jupyter-widgets/controls",
      "_model_module_version": "1.5.0",
      "_model_name": "HTMLModel",
      "_view_count": null,
      "_view_module": "@jupyter-widgets/controls",
      "_view_module_version": "1.5.0",
      "_view_name": "HTMLView",
      "description": "",
      "description_tooltip": null,
      "layout": "IPY_MODEL_4323273d786046d28510d79677cfcd25",
      "placeholder": "​",
      "style": "IPY_MODEL_4f740285eb4f4a9da7964a4120e05844",
      "value": " 5/5 [00:05&lt;00:00,  1.10s/it]"
     }
    },
    "4323273d786046d28510d79677cfcd25": {
     "model_module": "@jupyter-widgets/base",
     "model_module_version": "1.2.0",
     "model_name": "LayoutModel",
     "state": {
      "_model_module": "@jupyter-widgets/base",
      "_model_module_version": "1.2.0",
      "_model_name": "LayoutModel",
      "_view_count": null,
      "_view_module": "@jupyter-widgets/base",
      "_view_module_version": "1.2.0",
      "_view_name": "LayoutView",
      "align_content": null,
      "align_items": null,
      "align_self": null,
      "border": null,
      "bottom": null,
      "display": null,
      "flex": null,
      "flex_flow": null,
      "grid_area": null,
      "grid_auto_columns": null,
      "grid_auto_flow": null,
      "grid_auto_rows": null,
      "grid_column": null,
      "grid_gap": null,
      "grid_row": null,
      "grid_template_areas": null,
      "grid_template_columns": null,
      "grid_template_rows": null,
      "height": null,
      "justify_content": null,
      "justify_items": null,
      "left": null,
      "margin": null,
      "max_height": null,
      "max_width": null,
      "min_height": null,
      "min_width": null,
      "object_fit": null,
      "object_position": null,
      "order": null,
      "overflow": null,
      "overflow_x": null,
      "overflow_y": null,
      "padding": null,
      "right": null,
      "top": null,
      "visibility": null,
      "width": null
     }
    },
    "48e57b47c0414d4b9cbee72da1738555": {
     "model_module": "@jupyter-widgets/base",
     "model_module_version": "1.2.0",
     "model_name": "LayoutModel",
     "state": {
      "_model_module": "@jupyter-widgets/base",
      "_model_module_version": "1.2.0",
      "_model_name": "LayoutModel",
      "_view_count": null,
      "_view_module": "@jupyter-widgets/base",
      "_view_module_version": "1.2.0",
      "_view_name": "LayoutView",
      "align_content": null,
      "align_items": null,
      "align_self": null,
      "border": null,
      "bottom": null,
      "display": null,
      "flex": null,
      "flex_flow": null,
      "grid_area": null,
      "grid_auto_columns": null,
      "grid_auto_flow": null,
      "grid_auto_rows": null,
      "grid_column": null,
      "grid_gap": null,
      "grid_row": null,
      "grid_template_areas": null,
      "grid_template_columns": null,
      "grid_template_rows": null,
      "height": null,
      "justify_content": null,
      "justify_items": null,
      "left": null,
      "margin": null,
      "max_height": null,
      "max_width": null,
      "min_height": null,
      "min_width": null,
      "object_fit": null,
      "object_position": null,
      "order": null,
      "overflow": null,
      "overflow_x": null,
      "overflow_y": null,
      "padding": null,
      "right": null,
      "top": null,
      "visibility": null,
      "width": null
     }
    },
    "4f740285eb4f4a9da7964a4120e05844": {
     "model_module": "@jupyter-widgets/controls",
     "model_module_version": "1.5.0",
     "model_name": "DescriptionStyleModel",
     "state": {
      "_model_module": "@jupyter-widgets/controls",
      "_model_module_version": "1.5.0",
      "_model_name": "DescriptionStyleModel",
      "_view_count": null,
      "_view_module": "@jupyter-widgets/base",
      "_view_module_version": "1.2.0",
      "_view_name": "StyleView",
      "description_width": ""
     }
    },
    "53d5e731587f43c68cea9ff026b0b726": {
     "model_module": "@jupyter-widgets/controls",
     "model_module_version": "1.5.0",
     "model_name": "DescriptionStyleModel",
     "state": {
      "_model_module": "@jupyter-widgets/controls",
      "_model_module_version": "1.5.0",
      "_model_name": "DescriptionStyleModel",
      "_view_count": null,
      "_view_module": "@jupyter-widgets/base",
      "_view_module_version": "1.2.0",
      "_view_name": "StyleView",
      "description_width": ""
     }
    },
    "5e7c5880ef2e4183b80d2e48569dee6a": {
     "model_module": "@jupyter-widgets/base",
     "model_module_version": "1.2.0",
     "model_name": "LayoutModel",
     "state": {
      "_model_module": "@jupyter-widgets/base",
      "_model_module_version": "1.2.0",
      "_model_name": "LayoutModel",
      "_view_count": null,
      "_view_module": "@jupyter-widgets/base",
      "_view_module_version": "1.2.0",
      "_view_name": "LayoutView",
      "align_content": null,
      "align_items": null,
      "align_self": null,
      "border": null,
      "bottom": null,
      "display": null,
      "flex": null,
      "flex_flow": null,
      "grid_area": null,
      "grid_auto_columns": null,
      "grid_auto_flow": null,
      "grid_auto_rows": null,
      "grid_column": null,
      "grid_gap": null,
      "grid_row": null,
      "grid_template_areas": null,
      "grid_template_columns": null,
      "grid_template_rows": null,
      "height": null,
      "justify_content": null,
      "justify_items": null,
      "left": null,
      "margin": null,
      "max_height": null,
      "max_width": null,
      "min_height": null,
      "min_width": null,
      "object_fit": null,
      "object_position": null,
      "order": null,
      "overflow": null,
      "overflow_x": null,
      "overflow_y": null,
      "padding": null,
      "right": null,
      "top": null,
      "visibility": null,
      "width": null
     }
    },
    "7171d5de0c48423ab6d42481371e736d": {
     "model_module": "@jupyter-widgets/base",
     "model_module_version": "1.2.0",
     "model_name": "LayoutModel",
     "state": {
      "_model_module": "@jupyter-widgets/base",
      "_model_module_version": "1.2.0",
      "_model_name": "LayoutModel",
      "_view_count": null,
      "_view_module": "@jupyter-widgets/base",
      "_view_module_version": "1.2.0",
      "_view_name": "LayoutView",
      "align_content": null,
      "align_items": null,
      "align_self": null,
      "border": null,
      "bottom": null,
      "display": null,
      "flex": null,
      "flex_flow": null,
      "grid_area": null,
      "grid_auto_columns": null,
      "grid_auto_flow": null,
      "grid_auto_rows": null,
      "grid_column": null,
      "grid_gap": null,
      "grid_row": null,
      "grid_template_areas": null,
      "grid_template_columns": null,
      "grid_template_rows": null,
      "height": null,
      "justify_content": null,
      "justify_items": null,
      "left": null,
      "margin": null,
      "max_height": null,
      "max_width": null,
      "min_height": null,
      "min_width": null,
      "object_fit": null,
      "object_position": null,
      "order": null,
      "overflow": null,
      "overflow_x": null,
      "overflow_y": null,
      "padding": null,
      "right": null,
      "top": null,
      "visibility": null,
      "width": null
     }
    },
    "83c170038c1246a0b385eefb2f887da7": {
     "model_module": "@jupyter-widgets/controls",
     "model_module_version": "1.5.0",
     "model_name": "ProgressStyleModel",
     "state": {
      "_model_module": "@jupyter-widgets/controls",
      "_model_module_version": "1.5.0",
      "_model_name": "ProgressStyleModel",
      "_view_count": null,
      "_view_module": "@jupyter-widgets/base",
      "_view_module_version": "1.2.0",
      "_view_name": "StyleView",
      "bar_color": null,
      "description_width": ""
     }
    },
    "874c4117d34d4851b6f368702f2ad900": {
     "model_module": "@jupyter-widgets/base",
     "model_module_version": "1.2.0",
     "model_name": "LayoutModel",
     "state": {
      "_model_module": "@jupyter-widgets/base",
      "_model_module_version": "1.2.0",
      "_model_name": "LayoutModel",
      "_view_count": null,
      "_view_module": "@jupyter-widgets/base",
      "_view_module_version": "1.2.0",
      "_view_name": "LayoutView",
      "align_content": null,
      "align_items": null,
      "align_self": null,
      "border": null,
      "bottom": null,
      "display": null,
      "flex": null,
      "flex_flow": null,
      "grid_area": null,
      "grid_auto_columns": null,
      "grid_auto_flow": null,
      "grid_auto_rows": null,
      "grid_column": null,
      "grid_gap": null,
      "grid_row": null,
      "grid_template_areas": null,
      "grid_template_columns": null,
      "grid_template_rows": null,
      "height": null,
      "justify_content": null,
      "justify_items": null,
      "left": null,
      "margin": null,
      "max_height": null,
      "max_width": null,
      "min_height": null,
      "min_width": null,
      "object_fit": null,
      "object_position": null,
      "order": null,
      "overflow": null,
      "overflow_x": null,
      "overflow_y": null,
      "padding": null,
      "right": null,
      "top": null,
      "visibility": null,
      "width": null
     }
    },
    "8c9aab4ee02d44619c9f3594ae9ebf78": {
     "model_module": "@jupyter-widgets/base",
     "model_module_version": "1.2.0",
     "model_name": "LayoutModel",
     "state": {
      "_model_module": "@jupyter-widgets/base",
      "_model_module_version": "1.2.0",
      "_model_name": "LayoutModel",
      "_view_count": null,
      "_view_module": "@jupyter-widgets/base",
      "_view_module_version": "1.2.0",
      "_view_name": "LayoutView",
      "align_content": null,
      "align_items": null,
      "align_self": null,
      "border": null,
      "bottom": null,
      "display": null,
      "flex": null,
      "flex_flow": null,
      "grid_area": null,
      "grid_auto_columns": null,
      "grid_auto_flow": null,
      "grid_auto_rows": null,
      "grid_column": null,
      "grid_gap": null,
      "grid_row": null,
      "grid_template_areas": null,
      "grid_template_columns": null,
      "grid_template_rows": null,
      "height": null,
      "justify_content": null,
      "justify_items": null,
      "left": null,
      "margin": null,
      "max_height": null,
      "max_width": null,
      "min_height": null,
      "min_width": null,
      "object_fit": null,
      "object_position": null,
      "order": null,
      "overflow": null,
      "overflow_x": null,
      "overflow_y": null,
      "padding": null,
      "right": null,
      "top": null,
      "visibility": null,
      "width": null
     }
    },
    "8ce058ddea664839b2ba66933fb4e762": {
     "model_module": "@jupyter-widgets/controls",
     "model_module_version": "1.5.0",
     "model_name": "HTMLModel",
     "state": {
      "_dom_classes": [],
      "_model_module": "@jupyter-widgets/controls",
      "_model_module_version": "1.5.0",
      "_model_name": "HTMLModel",
      "_view_count": null,
      "_view_module": "@jupyter-widgets/controls",
      "_view_module_version": "1.5.0",
      "_view_name": "HTMLView",
      "description": "",
      "description_tooltip": null,
      "layout": "IPY_MODEL_8c9aab4ee02d44619c9f3594ae9ebf78",
      "placeholder": "​",
      "style": "IPY_MODEL_53d5e731587f43c68cea9ff026b0b726",
      "value": "100%"
     }
    },
    "9423f425897a48f99f8b2b3dd25c120a": {
     "model_module": "@jupyter-widgets/controls",
     "model_module_version": "1.5.0",
     "model_name": "ProgressStyleModel",
     "state": {
      "_model_module": "@jupyter-widgets/controls",
      "_model_module_version": "1.5.0",
      "_model_name": "ProgressStyleModel",
      "_view_count": null,
      "_view_module": "@jupyter-widgets/base",
      "_view_module_version": "1.2.0",
      "_view_name": "StyleView",
      "bar_color": null,
      "description_width": ""
     }
    },
    "bc50f337bca84612a2f0f76a2dc4102b": {
     "model_module": "@jupyter-widgets/base",
     "model_module_version": "1.2.0",
     "model_name": "LayoutModel",
     "state": {
      "_model_module": "@jupyter-widgets/base",
      "_model_module_version": "1.2.0",
      "_model_name": "LayoutModel",
      "_view_count": null,
      "_view_module": "@jupyter-widgets/base",
      "_view_module_version": "1.2.0",
      "_view_name": "LayoutView",
      "align_content": null,
      "align_items": null,
      "align_self": null,
      "border": null,
      "bottom": null,
      "display": null,
      "flex": null,
      "flex_flow": null,
      "grid_area": null,
      "grid_auto_columns": null,
      "grid_auto_flow": null,
      "grid_auto_rows": null,
      "grid_column": null,
      "grid_gap": null,
      "grid_row": null,
      "grid_template_areas": null,
      "grid_template_columns": null,
      "grid_template_rows": null,
      "height": null,
      "justify_content": null,
      "justify_items": null,
      "left": null,
      "margin": null,
      "max_height": null,
      "max_width": null,
      "min_height": null,
      "min_width": null,
      "object_fit": null,
      "object_position": null,
      "order": null,
      "overflow": null,
      "overflow_x": null,
      "overflow_y": null,
      "padding": null,
      "right": null,
      "top": null,
      "visibility": null,
      "width": null
     }
    },
    "e18dc848ca5047d18e8ca5dd7cd53f6a": {
     "model_module": "@jupyter-widgets/controls",
     "model_module_version": "1.5.0",
     "model_name": "FloatProgressModel",
     "state": {
      "_dom_classes": [],
      "_model_module": "@jupyter-widgets/controls",
      "_model_module_version": "1.5.0",
      "_model_name": "FloatProgressModel",
      "_view_count": null,
      "_view_module": "@jupyter-widgets/controls",
      "_view_module_version": "1.5.0",
      "_view_name": "ProgressView",
      "bar_style": "success",
      "description": "",
      "description_tooltip": null,
      "layout": "IPY_MODEL_bc50f337bca84612a2f0f76a2dc4102b",
      "max": 5,
      "min": 0,
      "orientation": "horizontal",
      "style": "IPY_MODEL_83c170038c1246a0b385eefb2f887da7",
      "value": 5
     }
    },
    "edbc5745b7764b4a88d16f043ebe1fb6": {
     "model_module": "@jupyter-widgets/controls",
     "model_module_version": "1.5.0",
     "model_name": "HTMLModel",
     "state": {
      "_dom_classes": [],
      "_model_module": "@jupyter-widgets/controls",
      "_model_module_version": "1.5.0",
      "_model_name": "HTMLModel",
      "_view_count": null,
      "_view_module": "@jupyter-widgets/controls",
      "_view_module_version": "1.5.0",
      "_view_name": "HTMLView",
      "description": "",
      "description_tooltip": null,
      "layout": "IPY_MODEL_874c4117d34d4851b6f368702f2ad900",
      "placeholder": "​",
      "style": "IPY_MODEL_ee044a5c500b4a37ae8e0876dc745d33",
      "value": " 5/5 [00:00&lt;00:00, 74.06it/s]"
     }
    },
    "ee044a5c500b4a37ae8e0876dc745d33": {
     "model_module": "@jupyter-widgets/controls",
     "model_module_version": "1.5.0",
     "model_name": "DescriptionStyleModel",
     "state": {
      "_model_module": "@jupyter-widgets/controls",
      "_model_module_version": "1.5.0",
      "_model_name": "DescriptionStyleModel",
      "_view_count": null,
      "_view_module": "@jupyter-widgets/base",
      "_view_module_version": "1.2.0",
      "_view_name": "StyleView",
      "description_width": ""
     }
    },
    "fb107c399b3f40f6b2b2f03221334211": {
     "model_module": "@jupyter-widgets/base",
     "model_module_version": "1.2.0",
     "model_name": "LayoutModel",
     "state": {
      "_model_module": "@jupyter-widgets/base",
      "_model_module_version": "1.2.0",
      "_model_name": "LayoutModel",
      "_view_count": null,
      "_view_module": "@jupyter-widgets/base",
      "_view_module_version": "1.2.0",
      "_view_name": "LayoutView",
      "align_content": null,
      "align_items": null,
      "align_self": null,
      "border": null,
      "bottom": null,
      "display": null,
      "flex": null,
      "flex_flow": null,
      "grid_area": null,
      "grid_auto_columns": null,
      "grid_auto_flow": null,
      "grid_auto_rows": null,
      "grid_column": null,
      "grid_gap": null,
      "grid_row": null,
      "grid_template_areas": null,
      "grid_template_columns": null,
      "grid_template_rows": null,
      "height": null,
      "justify_content": null,
      "justify_items": null,
      "left": null,
      "margin": null,
      "max_height": null,
      "max_width": null,
      "min_height": null,
      "min_width": null,
      "object_fit": null,
      "object_position": null,
      "order": null,
      "overflow": null,
      "overflow_x": null,
      "overflow_y": null,
      "padding": null,
      "right": null,
      "top": null,
      "visibility": null,
      "width": null
     }
    },
    "fb6872ef86e3446da7140a66c9108fc0": {
     "model_module": "@jupyter-widgets/controls",
     "model_module_version": "1.5.0",
     "model_name": "HBoxModel",
     "state": {
      "_dom_classes": [],
      "_model_module": "@jupyter-widgets/controls",
      "_model_module_version": "1.5.0",
      "_model_name": "HBoxModel",
      "_view_count": null,
      "_view_module": "@jupyter-widgets/controls",
      "_view_module_version": "1.5.0",
      "_view_name": "HBoxView",
      "box_style": "",
      "children": [
       "IPY_MODEL_8ce058ddea664839b2ba66933fb4e762",
       "IPY_MODEL_e18dc848ca5047d18e8ca5dd7cd53f6a",
       "IPY_MODEL_edbc5745b7764b4a88d16f043ebe1fb6"
      ],
      "layout": "IPY_MODEL_fb107c399b3f40f6b2b2f03221334211"
     }
    }
   }
  }
 },
 "nbformat": 4,
 "nbformat_minor": 5
}
